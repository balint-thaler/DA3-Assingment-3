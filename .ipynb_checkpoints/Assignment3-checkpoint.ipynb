{
 "cells": [
  {
   "cell_type": "code",
   "execution_count": 1,
   "id": "a039ad0c-c4d7-49a3-a4ed-2899ead6a08e",
   "metadata": {
    "tags": []
   },
   "outputs": [],
   "source": [
    "import pandas as pd\n",
    "import numpy as np\n",
    "import patsy\n",
    "import statsmodels.api as sm\n",
    "from sklearn.linear_model import LinearRegression, LogisticRegression, LogisticRegressionCV\n",
    "from sklearn.model_selection import train_test_split, GridSearchCV, KFold\n",
    "import sklearn.metrics as metrics\n",
    "from sklearn.metrics import brier_score_loss, roc_curve, auc, confusion_matrix, roc_auc_score, mean_squared_error\n",
    "from sklearn.ensemble import RandomForestClassifier\n",
    "from plotnine import *\n",
    "import matplotlib.pyplot as plt\n",
    "from sklearn.model_selection import train_test_split\n",
    "from sklearn.preprocessing import StandardScaler\n",
    "\n",
    "import warnings\n",
    "warnings.filterwarnings('ignore')"
   ]
  },
  {
   "cell_type": "code",
   "execution_count": 2,
   "id": "020ad0d2-3193-4f9e-835b-9e48fdd2d78a",
   "metadata": {
    "tags": []
   },
   "outputs": [],
   "source": [
    "# helper functions\n",
    "\n",
    "def regression_results(y_true, y_pred):\n",
    "\n",
    "    # Regression metrics\n",
    "    explained_variance=metrics.explained_variance_score(y_true, y_pred)\n",
    "    mean_absolute_error=metrics.mean_absolute_error(y_true, y_pred) \n",
    "    mse=metrics.mean_squared_error(y_true, y_pred) \n",
    "    median_absolute_error=metrics.median_absolute_error(y_true, y_pred)\n",
    "    r2=metrics.r2_score(y_true, y_pred)\n",
    "\n",
    "    print('explained_variance: ', round(explained_variance,4))    \n",
    "    print('r2: ', round(r2,4))\n",
    "    print('MAE: ', round(mean_absolute_error,4))\n",
    "    print('MSE: ', round(mse,4))\n",
    "    print('RMSE: ', round(np.sqrt(mse),4))\n",
    "    \n",
    "def create_coef_matrix(X, model):\n",
    "    coef_matrix = pd.concat(\n",
    "        [pd.DataFrame(X.columns),pd.DataFrame(model.coef_.flatten())], axis = 1\n",
    "    )\n",
    "    coef_matrix.columns = ['variable', 'coefficient']\n",
    "    coef_matrix.iloc[-1] = ['Intercept', model.intercept_.flatten()[0]]\n",
    "    return coef_matrix\n",
    "\n",
    "def cv_summary(lambdas, C_values, model):\n",
    "    d = {'lambdas': lambdas, 'C_values': C_values, 'mean_cv_score': model.scores_[1].mean(axis = 0)}\n",
    "    return(pd.DataFrame(data=d))\n",
    "\n",
    "def create_roc_plot(y_true, y_pred):\n",
    "    fpr, tpr, thresholds = roc_curve(y_true, y_pred)\n",
    "    all_coords = pd.DataFrame({\n",
    "        'fpr': fpr,\n",
    "        'tpr': tpr,\n",
    "        'thresholds': thresholds\n",
    "    })\n",
    "    \n",
    "    plot = ggplot(all_coords, aes(x = 'fpr', y = 'tpr')) \\\n",
    "        + geom_line(size = 0.7) \\\n",
    "        + geom_area(position = 'identity', fill = 'mediumaquamarine', alpha = 0.3) \\\n",
    "        + xlab(\"False Positive Rate (1-Specifity)\") \\\n",
    "        + ylab(\"True Positive Rate (Sensitivity)\") \\\n",
    "        + geom_abline(intercept = 0, slope = 1,  linetype = \"dotted\", color = \"black\") \\\n",
    "        + scale_y_continuous(limits = (0, 1), expand = (0, 0.01)) \\\n",
    "        + scale_x_continuous(limits = (0, 1), expand = (0.01, 0)) \\\n",
    "        + theme_bw()\n",
    "    return(plot)\n",
    "\n",
    "def sigmoid_array(x):\n",
    "    return(1 / (1 + np.exp(-x)))\n",
    "\n",
    "def generate_fold_prediction(model, X, fold, param_index):\n",
    "    fold_coef = model.coefs_paths_[1][fold,param_index,:]\n",
    "    return(sigmoid_array(np.dot(X, np.transpose(fold_coef)[:-1]) +  np.transpose(fold_coef)[-1]))\n",
    "\n",
    "def create_loss_plot(all_coords, optimal_threshold, curr_exp_loss):\n",
    "    all_coords_copy = all_coords.copy()\n",
    "    all_coords_copy['loss'] = (all_coords_copy.false_pos*FP + all_coords_copy.false_neg*FN)/all_coords_copy.n\n",
    "    \n",
    "    t = optimal_threshold\n",
    "    l = curr_exp_loss\n",
    "    \n",
    "    plot = ggplot(all_coords_copy, aes(x = 'thresholds', y = 'loss')) + \\\n",
    "        geom_line(size=0.7) + \\\n",
    "        coord_cartesian(xlim=(0,1))+ \\\n",
    "        geom_vline(xintercept = t) + \\\n",
    "        annotate(geom = \"text\", x = t - 0.01, y= max(all_coords_copy.loss) - 0.4,\n",
    "                 label=\"best threshold: \" + str(round(t,2)), angle=90, size = 7) +\\\n",
    "        annotate(geom = \"text\", x = t + 0.06, y= l,\\\n",
    "                 label= str(round(l, 2)), size = 7) +\\\n",
    "        theme_bw()\n",
    "    return(plot)\n",
    "\n",
    "\n",
    "def create_roc_plot_with_optimal(all_coords, optimal_threshold):\n",
    "    all_coords_copy = all_coords.copy()\n",
    "    all_coords_copy['sp'] = all_coords_copy.true_neg/all_coords_copy.neg\n",
    "    all_coords_copy['se'] = all_coords_copy.true_pos/all_coords_copy.pos\n",
    "    \n",
    "    best_coords = all_coords_copy[all_coords_copy.thresholds == optimal_threshold]\n",
    "    sp = best_coords.sp.values[0]\n",
    "    se = best_coords.se.values[0]\n",
    "\n",
    "    plot = ggplot(all_coords_copy, aes(x = 'sp', y = 'se')) +\\\n",
    "        geom_line(color=color[0], size=0.7) +\\\n",
    "        scale_y_continuous(breaks = seq(0, 1.1, by = 0.1)) +\\\n",
    "        scale_x_reverse(breaks = seq(0, 1.1, by = 0.1)) +\\\n",
    "        geom_point(data = pd.DataFrame({'sp': [sp], 'se': [se]})) +\\\n",
    "        annotate(geom = \"text\", x = sp, y = se + 0.03,\n",
    "                 label = str(round(sp, 2)) + ', ' + str(round(se, 2)), size = 7) +\\\n",
    "        theme_bw()\n",
    "    return(plot)"
   ]
  },
  {
   "cell_type": "markdown",
   "id": "0f17cbec-0718-4609-b6bb-bdc59a0a2b48",
   "metadata": {},
   "source": [
    "# Data loading, feature engineering"
   ]
  },
  {
   "cell_type": "code",
   "execution_count": 3,
   "id": "7b931a8b-6c84-4447-baab-fc5e19d64684",
   "metadata": {
    "tags": []
   },
   "outputs": [],
   "source": [
    "raw_data = pd.read_csv(\"https://osf.io/download/3qyut/\")"
   ]
  },
  {
   "cell_type": "code",
   "execution_count": 4,
   "id": "80d3f65f-9515-4b57-8b43-70c144986614",
   "metadata": {
    "tags": []
   },
   "outputs": [
    {
     "data": {
      "text/html": [
       "<div>\n",
       "<style scoped>\n",
       "    .dataframe tbody tr th:only-of-type {\n",
       "        vertical-align: middle;\n",
       "    }\n",
       "\n",
       "    .dataframe tbody tr th {\n",
       "        vertical-align: top;\n",
       "    }\n",
       "\n",
       "    .dataframe thead th {\n",
       "        text-align: right;\n",
       "    }\n",
       "</style>\n",
       "<table border=\"1\" class=\"dataframe\">\n",
       "  <thead>\n",
       "    <tr style=\"text-align: right;\">\n",
       "      <th></th>\n",
       "      <th>comp_id</th>\n",
       "      <th>begin</th>\n",
       "      <th>end</th>\n",
       "      <th>COGS</th>\n",
       "      <th>amort</th>\n",
       "      <th>curr_assets</th>\n",
       "      <th>curr_liab</th>\n",
       "      <th>extra_exp</th>\n",
       "      <th>extra_inc</th>\n",
       "      <th>extra_profit_loss</th>\n",
       "      <th>...</th>\n",
       "      <th>gender</th>\n",
       "      <th>origin</th>\n",
       "      <th>nace_main</th>\n",
       "      <th>ind2</th>\n",
       "      <th>ind</th>\n",
       "      <th>urban_m</th>\n",
       "      <th>region_m</th>\n",
       "      <th>founded_date</th>\n",
       "      <th>exit_date</th>\n",
       "      <th>labor_avg</th>\n",
       "    </tr>\n",
       "  </thead>\n",
       "  <tbody>\n",
       "    <tr>\n",
       "      <th>0</th>\n",
       "      <td>1001034.0</td>\n",
       "      <td>2005-01-01</td>\n",
       "      <td>2005-12-31</td>\n",
       "      <td>NaN</td>\n",
       "      <td>692.592590</td>\n",
       "      <td>7266.666504</td>\n",
       "      <td>7574.074219</td>\n",
       "      <td>0.0</td>\n",
       "      <td>0.0</td>\n",
       "      <td>0.0</td>\n",
       "      <td>...</td>\n",
       "      <td>mix</td>\n",
       "      <td>Domestic</td>\n",
       "      <td>5630.0</td>\n",
       "      <td>56.0</td>\n",
       "      <td>3.0</td>\n",
       "      <td>1</td>\n",
       "      <td>Central</td>\n",
       "      <td>1990-11-19</td>\n",
       "      <td>NaN</td>\n",
       "      <td>NaN</td>\n",
       "    </tr>\n",
       "    <tr>\n",
       "      <th>1</th>\n",
       "      <td>1001034.0</td>\n",
       "      <td>2006-01-01</td>\n",
       "      <td>2006-12-31</td>\n",
       "      <td>NaN</td>\n",
       "      <td>603.703674</td>\n",
       "      <td>13122.222656</td>\n",
       "      <td>12211.111328</td>\n",
       "      <td>0.0</td>\n",
       "      <td>0.0</td>\n",
       "      <td>0.0</td>\n",
       "      <td>...</td>\n",
       "      <td>mix</td>\n",
       "      <td>Domestic</td>\n",
       "      <td>5630.0</td>\n",
       "      <td>56.0</td>\n",
       "      <td>3.0</td>\n",
       "      <td>1</td>\n",
       "      <td>Central</td>\n",
       "      <td>1990-11-19</td>\n",
       "      <td>NaN</td>\n",
       "      <td>NaN</td>\n",
       "    </tr>\n",
       "    <tr>\n",
       "      <th>2</th>\n",
       "      <td>1001034.0</td>\n",
       "      <td>2007-01-01</td>\n",
       "      <td>2007-12-31</td>\n",
       "      <td>NaN</td>\n",
       "      <td>425.925934</td>\n",
       "      <td>8196.295898</td>\n",
       "      <td>7800.000000</td>\n",
       "      <td>0.0</td>\n",
       "      <td>0.0</td>\n",
       "      <td>0.0</td>\n",
       "      <td>...</td>\n",
       "      <td>mix</td>\n",
       "      <td>Domestic</td>\n",
       "      <td>5630.0</td>\n",
       "      <td>56.0</td>\n",
       "      <td>3.0</td>\n",
       "      <td>1</td>\n",
       "      <td>Central</td>\n",
       "      <td>1990-11-19</td>\n",
       "      <td>NaN</td>\n",
       "      <td>NaN</td>\n",
       "    </tr>\n",
       "    <tr>\n",
       "      <th>3</th>\n",
       "      <td>1001034.0</td>\n",
       "      <td>2008-01-01</td>\n",
       "      <td>2008-12-31</td>\n",
       "      <td>NaN</td>\n",
       "      <td>300.000000</td>\n",
       "      <td>8485.185547</td>\n",
       "      <td>7781.481445</td>\n",
       "      <td>0.0</td>\n",
       "      <td>0.0</td>\n",
       "      <td>0.0</td>\n",
       "      <td>...</td>\n",
       "      <td>mix</td>\n",
       "      <td>Domestic</td>\n",
       "      <td>5630.0</td>\n",
       "      <td>56.0</td>\n",
       "      <td>3.0</td>\n",
       "      <td>1</td>\n",
       "      <td>Central</td>\n",
       "      <td>1990-11-19</td>\n",
       "      <td>NaN</td>\n",
       "      <td>NaN</td>\n",
       "    </tr>\n",
       "    <tr>\n",
       "      <th>4</th>\n",
       "      <td>1001034.0</td>\n",
       "      <td>2009-01-01</td>\n",
       "      <td>2009-12-31</td>\n",
       "      <td>NaN</td>\n",
       "      <td>207.407410</td>\n",
       "      <td>5137.037109</td>\n",
       "      <td>15300.000000</td>\n",
       "      <td>0.0</td>\n",
       "      <td>0.0</td>\n",
       "      <td>0.0</td>\n",
       "      <td>...</td>\n",
       "      <td>mix</td>\n",
       "      <td>Domestic</td>\n",
       "      <td>5630.0</td>\n",
       "      <td>56.0</td>\n",
       "      <td>3.0</td>\n",
       "      <td>1</td>\n",
       "      <td>Central</td>\n",
       "      <td>1990-11-19</td>\n",
       "      <td>NaN</td>\n",
       "      <td>0.083333</td>\n",
       "    </tr>\n",
       "  </tbody>\n",
       "</table>\n",
       "<p>5 rows × 48 columns</p>\n",
       "</div>"
      ],
      "text/plain": [
       "     comp_id       begin         end  COGS       amort   curr_assets  \\\n",
       "0  1001034.0  2005-01-01  2005-12-31   NaN  692.592590   7266.666504   \n",
       "1  1001034.0  2006-01-01  2006-12-31   NaN  603.703674  13122.222656   \n",
       "2  1001034.0  2007-01-01  2007-12-31   NaN  425.925934   8196.295898   \n",
       "3  1001034.0  2008-01-01  2008-12-31   NaN  300.000000   8485.185547   \n",
       "4  1001034.0  2009-01-01  2009-12-31   NaN  207.407410   5137.037109   \n",
       "\n",
       "      curr_liab  extra_exp  extra_inc  extra_profit_loss  ...  gender  \\\n",
       "0   7574.074219        0.0        0.0                0.0  ...     mix   \n",
       "1  12211.111328        0.0        0.0                0.0  ...     mix   \n",
       "2   7800.000000        0.0        0.0                0.0  ...     mix   \n",
       "3   7781.481445        0.0        0.0                0.0  ...     mix   \n",
       "4  15300.000000        0.0        0.0                0.0  ...     mix   \n",
       "\n",
       "     origin  nace_main  ind2  ind  urban_m  region_m  founded_date  exit_date  \\\n",
       "0  Domestic     5630.0  56.0  3.0        1   Central    1990-11-19        NaN   \n",
       "1  Domestic     5630.0  56.0  3.0        1   Central    1990-11-19        NaN   \n",
       "2  Domestic     5630.0  56.0  3.0        1   Central    1990-11-19        NaN   \n",
       "3  Domestic     5630.0  56.0  3.0        1   Central    1990-11-19        NaN   \n",
       "4  Domestic     5630.0  56.0  3.0        1   Central    1990-11-19        NaN   \n",
       "\n",
       "   labor_avg  \n",
       "0        NaN  \n",
       "1        NaN  \n",
       "2        NaN  \n",
       "3        NaN  \n",
       "4   0.083333  \n",
       "\n",
       "[5 rows x 48 columns]"
      ]
     },
     "execution_count": 4,
     "metadata": {},
     "output_type": "execute_result"
    }
   ],
   "source": [
    "raw_data.head()"
   ]
  },
  {
   "cell_type": "code",
   "execution_count": 5,
   "id": "dd0f0a48-c9f9-4a03-b3d5-1a0fb9ecdbc4",
   "metadata": {
    "tags": []
   },
   "outputs": [
    {
     "name": "stdout",
     "output_type": "stream",
     "text": [
      "<class 'pandas.core.frame.DataFrame'>\n",
      "RangeIndex: 287829 entries, 0 to 287828\n",
      "Data columns (total 48 columns):\n",
      " #   Column                Non-Null Count   Dtype  \n",
      "---  ------                --------------   -----  \n",
      " 0   comp_id               287829 non-null  float64\n",
      " 1   begin                 287829 non-null  object \n",
      " 2   end                   287829 non-null  object \n",
      " 3   COGS                  18257 non-null   float64\n",
      " 4   amort                 279789 non-null  float64\n",
      " 5   curr_assets           287698 non-null  float64\n",
      " 6   curr_liab             287698 non-null  float64\n",
      " 7   extra_exp             269300 non-null  float64\n",
      " 8   extra_inc             269300 non-null  float64\n",
      " 9   extra_profit_loss     270626 non-null  float64\n",
      " 10  finished_prod         17485 non-null   float64\n",
      " 11  fixed_assets          287698 non-null  float64\n",
      " 12  inc_bef_tax           280392 non-null  float64\n",
      " 13  intang_assets         287689 non-null  float64\n",
      " 14  inventories           287698 non-null  float64\n",
      " 15  liq_assets            287698 non-null  float64\n",
      " 16  material_exp          279789 non-null  float64\n",
      " 17  net_dom_sales         18257 non-null   float64\n",
      " 18  net_exp_sales         18257 non-null   float64\n",
      " 19  personnel_exp         279789 non-null  float64\n",
      " 20  profit_loss_year      277945 non-null  float64\n",
      " 21  sales                 280392 non-null  float64\n",
      " 22  share_eq              287698 non-null  float64\n",
      " 23  subscribed_cap        287698 non-null  float64\n",
      " 24  tang_assets           286359 non-null  float64\n",
      " 25  wages                 17983 non-null   float64\n",
      " 26  D                     0 non-null       float64\n",
      " 27  balsheet_flag         287829 non-null  int64  \n",
      " 28  balsheet_length       287829 non-null  int64  \n",
      " 29  balsheet_notfullyear  287829 non-null  int64  \n",
      " 30  year                  287829 non-null  int64  \n",
      " 31  founded_year          231372 non-null  float64\n",
      " 32  exit_year             38859 non-null   float64\n",
      " 33  ceo_count             231402 non-null  float64\n",
      " 34  foreign               231402 non-null  float64\n",
      " 35  female                231402 non-null  float64\n",
      " 36  birth_year            176011 non-null  float64\n",
      " 37  inoffice_days         231402 non-null  float64\n",
      " 38  gender                231402 non-null  object \n",
      " 39  origin                231402 non-null  object \n",
      " 40  nace_main             286791 non-null  float64\n",
      " 41  ind2                  286791 non-null  float64\n",
      " 42  ind                   278060 non-null  float64\n",
      " 43  urban_m               287829 non-null  int64  \n",
      " 44  region_m              286989 non-null  object \n",
      " 45  founded_date          287778 non-null  object \n",
      " 46  exit_date             56180 non-null   object \n",
      " 47  labor_avg             141297 non-null  float64\n",
      "dtypes: float64(36), int64(5), object(7)\n",
      "memory usage: 105.4+ MB\n"
     ]
    }
   ],
   "source": [
    "raw_data.info()"
   ]
  },
  {
   "cell_type": "code",
   "execution_count": 6,
   "id": "52d66658-5717-457c-bfbf-7489dbd45374",
   "metadata": {},
   "outputs": [],
   "source": [
    "# dropping columns with many missing variables (COGS, finished_prod, net_dom_sales, net_exp_sales, wages, D, exit_year, exit_data)\n",
    "\n",
    "raw_data = raw_data.drop(columns = ['COGS', 'finished_prod', 'net_dom_sales', 'net_exp_sales', 'wages', 'D', 'exit_year', 'exit_date'])"
   ]
  },
  {
   "cell_type": "code",
   "execution_count": 7,
   "id": "5a5e2133-1089-44ed-a233-00fed27761ee",
   "metadata": {},
   "outputs": [],
   "source": [
    "# adding age of firms\n",
    "\n",
    "raw_data[\"age\"] = np.where(\n",
    "    raw_data[\"year\"] - raw_data[\"founded_year\"] < 0, 0, raw_data[\"year\"] - raw_data[\"founded_year\"])"
   ]
  },
  {
   "cell_type": "code",
   "execution_count": 8,
   "id": "eafb52ed-bbb0-4d11-bd05-7ef88683109b",
   "metadata": {
    "tags": []
   },
   "outputs": [],
   "source": [
    "# add all missing year and comp_id combinations -\n",
    "# originally missing combinations will have NAs in all other columns\n",
    "raw_data = (\n",
    "    raw_data.set_index([\"year\", \"comp_id\"])\n",
    "    .unstack(fill_value=\"toReplace\")\n",
    "    .stack()\n",
    "    .reset_index()\n",
    ")\n",
    "raw_data = raw_data.replace(\"toReplace\", np.nan)"
   ]
  },
  {
   "cell_type": "code",
   "execution_count": 9,
   "id": "e8bc09c4-2d72-49cb-826e-c33ff13ac494",
   "metadata": {
    "tags": []
   },
   "outputs": [],
   "source": [
    "# generate status_alive; if sales larger than zero and not-NA, then firm is alive\n",
    "raw_data[\"status_alive\"] = (raw_data[\"sales\"] > 0 & (False == raw_data[\"sales\"].isna())).astype(int)"
   ]
  },
  {
   "cell_type": "code",
   "execution_count": 10,
   "id": "6e1a63dc-3939-4502-984d-a09af25565a4",
   "metadata": {
    "tags": []
   },
   "outputs": [],
   "source": [
    "# defaults in 1 year if there are sales in this year but no sales one year later\n",
    "\n",
    "raw_data[\"default\"] = (\n",
    "    (raw_data[\"status_alive\"] == 1)\n",
    "    & (raw_data.groupby(\"comp_id\")[\"status_alive\"].shift(-1) == 0)\n",
    ").astype(int)"
   ]
  },
  {
   "cell_type": "code",
   "execution_count": 11,
   "id": "dcf941b7-5e4b-4422-9457-79415156def9",
   "metadata": {
    "tags": []
   },
   "outputs": [
    {
     "name": "stdout",
     "output_type": "stream",
     "text": [
      "<class 'pandas.core.frame.DataFrame'>\n",
      "RangeIndex: 556944 entries, 0 to 556943\n",
      "Data columns (total 43 columns):\n",
      " #   Column                Non-Null Count   Dtype  \n",
      "---  ------                --------------   -----  \n",
      " 0   year                  556944 non-null  int64  \n",
      " 1   comp_id               556944 non-null  float64\n",
      " 2   begin                 287829 non-null  object \n",
      " 3   end                   287829 non-null  object \n",
      " 4   amort                 279789 non-null  float64\n",
      " 5   curr_assets           287698 non-null  float64\n",
      " 6   curr_liab             287698 non-null  float64\n",
      " 7   extra_exp             269300 non-null  float64\n",
      " 8   extra_inc             269300 non-null  float64\n",
      " 9   extra_profit_loss     270626 non-null  float64\n",
      " 10  fixed_assets          287698 non-null  float64\n",
      " 11  inc_bef_tax           280392 non-null  float64\n",
      " 12  intang_assets         287689 non-null  float64\n",
      " 13  inventories           287698 non-null  float64\n",
      " 14  liq_assets            287698 non-null  float64\n",
      " 15  material_exp          279789 non-null  float64\n",
      " 16  personnel_exp         279789 non-null  float64\n",
      " 17  profit_loss_year      277945 non-null  float64\n",
      " 18  sales                 280392 non-null  float64\n",
      " 19  share_eq              287698 non-null  float64\n",
      " 20  subscribed_cap        287698 non-null  float64\n",
      " 21  tang_assets           286359 non-null  float64\n",
      " 22  balsheet_flag         287829 non-null  float64\n",
      " 23  balsheet_length       287829 non-null  float64\n",
      " 24  balsheet_notfullyear  287829 non-null  float64\n",
      " 25  founded_year          231372 non-null  float64\n",
      " 26  ceo_count             231402 non-null  float64\n",
      " 27  foreign               231402 non-null  float64\n",
      " 28  female                231402 non-null  float64\n",
      " 29  birth_year            176011 non-null  float64\n",
      " 30  inoffice_days         231402 non-null  float64\n",
      " 31  gender                231402 non-null  object \n",
      " 32  origin                231402 non-null  object \n",
      " 33  nace_main             286791 non-null  float64\n",
      " 34  ind2                  286791 non-null  float64\n",
      " 35  ind                   278060 non-null  float64\n",
      " 36  urban_m               287829 non-null  float64\n",
      " 37  region_m              286989 non-null  object \n",
      " 38  founded_date          287778 non-null  object \n",
      " 39  labor_avg             141297 non-null  float64\n",
      " 40  age                   231372 non-null  float64\n",
      " 41  status_alive          556944 non-null  int32  \n",
      " 42  default               556944 non-null  int32  \n",
      "dtypes: float64(34), int32(2), int64(1), object(6)\n",
      "memory usage: 178.5+ MB\n"
     ]
    }
   ],
   "source": [
    "raw_data.info()"
   ]
  },
  {
   "cell_type": "code",
   "execution_count": 12,
   "id": "9dc1f17d-91d6-4389-8cb8-773ee8c784f9",
   "metadata": {
    "tags": []
   },
   "outputs": [
    {
     "data": {
      "text/plain": [
       "flag_asset_problem\n",
       "0.0    287466\n",
       "1.0       223\n",
       "Name: comp_id, dtype: int64"
      ]
     },
     "execution_count": 12,
     "metadata": {},
     "output_type": "execute_result"
    }
   ],
   "source": [
    "# assets can't be negative. Change them to 0 and add a flag.\n",
    "raw_data[\"flag_asset_problem\"] = np.where(\n",
    "    (\n",
    "        (raw_data[\"intang_assets\"] < 0)\n",
    "        | (raw_data[\"curr_assets\"] < 0)\n",
    "        | (raw_data[\"fixed_assets\"] < 0)\n",
    "    ),\n",
    "    1,\n",
    "    0,\n",
    ")\n",
    "raw_data[\"flag_asset_problem\"] = np.where(\n",
    "    (\n",
    "        (raw_data[\"intang_assets\"].isna())\n",
    "        | (raw_data[\"curr_assets\"].isna())\n",
    "        | (raw_data[\"fixed_assets\"].isna())\n",
    "    ),\n",
    "    np.nan,\n",
    "    raw_data[\"flag_asset_problem\"],\n",
    ")\n",
    "raw_data.groupby(\"flag_asset_problem\").count()[\"comp_id\"]"
   ]
  },
  {
   "cell_type": "code",
   "execution_count": 13,
   "id": "dbfd9d33-6ccd-4cc2-959d-5b57aba8f192",
   "metadata": {
    "tags": []
   },
   "outputs": [],
   "source": [
    "# impute with 0 for asset problems\n",
    "\n",
    "raw_data[\"intang_assets\"] = np.where(raw_data[\"intang_assets\"] < 0, 0, raw_data[\"intang_assets\"])\n",
    "raw_data[\"curr_assets\"] = np.where(raw_data[\"curr_assets\"] < 0, 0, raw_data[\"curr_assets\"])\n",
    "raw_data[\"fixed_assets\"] = np.where(raw_data[\"fixed_assets\"] < 0, 0, raw_data[\"fixed_assets\"])"
   ]
  },
  {
   "cell_type": "code",
   "execution_count": 14,
   "id": "9e9bc607-7bf5-499d-8788-1317c920cf1a",
   "metadata": {
    "tags": []
   },
   "outputs": [
    {
     "data": {
      "text/plain": [
       "count    2.876890e+05\n",
       "mean     5.980575e+05\n",
       "std      2.623770e+07\n",
       "min      0.000000e+00\n",
       "25%      4.792593e+03\n",
       "50%      2.024815e+04\n",
       "75%      8.810740e+04\n",
       "max      1.032471e+10\n",
       "Name: total_assets_bs, dtype: float64"
      ]
     },
     "execution_count": 14,
     "metadata": {},
     "output_type": "execute_result"
    }
   ],
   "source": [
    "# generate total assets\n",
    "raw_data[\"total_assets_bs\"] = (\n",
    "    raw_data[\"intang_assets\"] + raw_data[\"curr_assets\"] + raw_data[\"fixed_assets\"]\n",
    ")\n",
    "round(raw_data[\"total_assets_bs\"].describe(), 3)"
   ]
  },
  {
   "cell_type": "code",
   "execution_count": 15,
   "id": "138788a2-004c-4986-86ce-b30bbe40f66c",
   "metadata": {
    "tags": []
   },
   "outputs": [],
   "source": [
    "# define P&L and Balance sheet column names\n",
    "\n",
    "pl_names = ['extra_exp','extra_inc',  'extra_profit_loss', 'inc_bef_tax' ,'inventories',\n",
    "              'material_exp', 'profit_loss_year', 'personnel_exp']\n",
    "bs_names = ['intang_assets', 'curr_liab', 'fixed_assets', 'liq_assets', 'curr_assets',\n",
    "              'share_eq', 'subscribed_cap', 'tang_assets' ]"
   ]
  },
  {
   "cell_type": "code",
   "execution_count": 16,
   "id": "e04ad263-f011-4672-87d4-dc835cea1915",
   "metadata": {
    "tags": []
   },
   "outputs": [],
   "source": [
    "# divide all pl_names elements by sales and create new column for it\n",
    "raw_data[[col + \"_pl\" for col in pl_names]] = raw_data[pl_names].div(\n",
    "    raw_data[\"sales\"], axis=\"index\"\n",
    ")"
   ]
  },
  {
   "cell_type": "code",
   "execution_count": 17,
   "id": "50e666cc-078c-4df4-89d0-2166228d49a6",
   "metadata": {
    "tags": []
   },
   "outputs": [],
   "source": [
    "# divide all bs_names elements by total_assets_bs and create new column for it\n",
    "raw_data[[col + \"_bs\" for col in bs_names]] = (\n",
    "    raw_data[bs_names]\n",
    "    .div(raw_data[\"total_assets_bs\"], axis=\"index\")\n",
    "    .replace((np.inf, -np.inf, np.nan), (0, 0, 0))\n",
    ")"
   ]
  },
  {
   "cell_type": "code",
   "execution_count": 18,
   "id": "216029a6-6fbf-4f3e-8925-9c3c6f34b3af",
   "metadata": {
    "tags": []
   },
   "outputs": [],
   "source": [
    "# imputing labor_avg and birth_year, adding flag and dropping original column - these have the highest number of missing values. \n",
    "\n",
    "raw_data[\"labor_avg_mod\"] = np.where(\n",
    "    raw_data[\"labor_avg\"].isna(), raw_data[\"labor_avg\"].mean(), raw_data[\"labor_avg\"]\n",
    ")\n",
    "raw_data[\"flag_miss_labor_avg\"] = (raw_data[\"labor_avg\"].isna()).astype(int)\n",
    "raw_data = raw_data.drop(['labor_avg'], axis=1)\n",
    "\n",
    "raw_data[\"birth_year_mod\"] = np.where(\n",
    "    raw_data[\"birth_year\"].isna(), raw_data[\"birth_year\"].mean(), raw_data[\"birth_year\"]\n",
    ")\n",
    "raw_data[\"flag_miss_birth_year\"] = (raw_data[\"birth_year\"].isna()).astype(int)\n",
    "raw_data = raw_data.drop(['birth_year'], axis=1)"
   ]
  },
  {
   "cell_type": "code",
   "execution_count": 19,
   "id": "29f6a6f2-3a93-4bf9-af8e-0e05da5a1025",
   "metadata": {
    "tags": []
   },
   "outputs": [],
   "source": [
    "# convert to categorical where relevant\n",
    "\n",
    "cat_vars = [\"gender\", \"origin\", \"ind2\", \"ind\", \"urban_m\", \"region_m\", \"nace_main\"]\n",
    "\n",
    "for col in cat_vars:\n",
    "    raw_data[col] = raw_data[col].astype(\"category\")"
   ]
  },
  {
   "cell_type": "code",
   "execution_count": 20,
   "id": "72b47937-cf67-4441-9acf-459ef3019211",
   "metadata": {
    "tags": []
   },
   "outputs": [
    {
     "name": "stdout",
     "output_type": "stream",
     "text": [
      "<class 'pandas.core.frame.DataFrame'>\n",
      "RangeIndex: 556944 entries, 0 to 556943\n",
      "Data columns (total 63 columns):\n",
      " #   Column                Non-Null Count   Dtype   \n",
      "---  ------                --------------   -----   \n",
      " 0   year                  556944 non-null  int64   \n",
      " 1   comp_id               556944 non-null  float64 \n",
      " 2   begin                 287829 non-null  object  \n",
      " 3   end                   287829 non-null  object  \n",
      " 4   amort                 279789 non-null  float64 \n",
      " 5   curr_assets           287698 non-null  float64 \n",
      " 6   curr_liab             287698 non-null  float64 \n",
      " 7   extra_exp             269300 non-null  float64 \n",
      " 8   extra_inc             269300 non-null  float64 \n",
      " 9   extra_profit_loss     270626 non-null  float64 \n",
      " 10  fixed_assets          287698 non-null  float64 \n",
      " 11  inc_bef_tax           280392 non-null  float64 \n",
      " 12  intang_assets         287689 non-null  float64 \n",
      " 13  inventories           287698 non-null  float64 \n",
      " 14  liq_assets            287698 non-null  float64 \n",
      " 15  material_exp          279789 non-null  float64 \n",
      " 16  personnel_exp         279789 non-null  float64 \n",
      " 17  profit_loss_year      277945 non-null  float64 \n",
      " 18  sales                 280392 non-null  float64 \n",
      " 19  share_eq              287698 non-null  float64 \n",
      " 20  subscribed_cap        287698 non-null  float64 \n",
      " 21  tang_assets           286359 non-null  float64 \n",
      " 22  balsheet_flag         287829 non-null  float64 \n",
      " 23  balsheet_length       287829 non-null  float64 \n",
      " 24  balsheet_notfullyear  287829 non-null  float64 \n",
      " 25  founded_year          231372 non-null  float64 \n",
      " 26  ceo_count             231402 non-null  float64 \n",
      " 27  foreign               231402 non-null  float64 \n",
      " 28  female                231402 non-null  float64 \n",
      " 29  inoffice_days         231402 non-null  float64 \n",
      " 30  gender                231402 non-null  category\n",
      " 31  origin                231402 non-null  category\n",
      " 32  nace_main             286791 non-null  category\n",
      " 33  ind2                  286791 non-null  category\n",
      " 34  ind                   278060 non-null  category\n",
      " 35  urban_m               287829 non-null  category\n",
      " 36  region_m              286989 non-null  category\n",
      " 37  founded_date          287778 non-null  object  \n",
      " 38  age                   231372 non-null  float64 \n",
      " 39  status_alive          556944 non-null  int32   \n",
      " 40  default               556944 non-null  int32   \n",
      " 41  flag_asset_problem    287689 non-null  float64 \n",
      " 42  total_assets_bs       287689 non-null  float64 \n",
      " 43  extra_exp_pl          228655 non-null  float64 \n",
      " 44  extra_inc_pl          229522 non-null  float64 \n",
      " 45  extra_profit_loss_pl  231092 non-null  float64 \n",
      " 46  inc_bef_tax_pl        275302 non-null  float64 \n",
      " 47  inventories_pl        242255 non-null  float64 \n",
      " 48  material_exp_pl       269096 non-null  float64 \n",
      " 49  profit_loss_year_pl   265317 non-null  float64 \n",
      " 50  personnel_exp_pl      246968 non-null  float64 \n",
      " 51  intang_assets_bs      556944 non-null  float64 \n",
      " 52  curr_liab_bs          556944 non-null  float64 \n",
      " 53  fixed_assets_bs       556944 non-null  float64 \n",
      " 54  liq_assets_bs         556944 non-null  float64 \n",
      " 55  curr_assets_bs        556944 non-null  float64 \n",
      " 56  share_eq_bs           556944 non-null  float64 \n",
      " 57  subscribed_cap_bs     556944 non-null  float64 \n",
      " 58  tang_assets_bs        556944 non-null  float64 \n",
      " 59  labor_avg_mod         556944 non-null  float64 \n",
      " 60  flag_miss_labor_avg   556944 non-null  int32   \n",
      " 61  birth_year_mod        556944 non-null  float64 \n",
      " 62  flag_miss_birth_year  556944 non-null  int32   \n",
      "dtypes: category(7), float64(48), int32(4), int64(1), object(3)\n",
      "memory usage: 233.7+ MB\n"
     ]
    }
   ],
   "source": [
    "raw_data.info()"
   ]
  },
  {
   "cell_type": "code",
   "execution_count": 21,
   "id": "fbf7b316-77f1-40ff-b7a1-af3198d0aa0d",
   "metadata": {
    "tags": []
   },
   "outputs": [
    {
     "data": {
      "text/html": [
       "<div>\n",
       "<style scoped>\n",
       "    .dataframe tbody tr th:only-of-type {\n",
       "        vertical-align: middle;\n",
       "    }\n",
       "\n",
       "    .dataframe tbody tr th {\n",
       "        vertical-align: top;\n",
       "    }\n",
       "\n",
       "    .dataframe thead th {\n",
       "        text-align: right;\n",
       "    }\n",
       "</style>\n",
       "<table border=\"1\" class=\"dataframe\">\n",
       "  <thead>\n",
       "    <tr style=\"text-align: right;\">\n",
       "      <th></th>\n",
       "      <th>year</th>\n",
       "      <th>comp_id</th>\n",
       "      <th>begin</th>\n",
       "      <th>end</th>\n",
       "      <th>amort</th>\n",
       "      <th>curr_assets</th>\n",
       "      <th>curr_liab</th>\n",
       "      <th>extra_exp</th>\n",
       "      <th>extra_inc</th>\n",
       "      <th>extra_profit_loss</th>\n",
       "      <th>...</th>\n",
       "      <th>fixed_assets_bs</th>\n",
       "      <th>liq_assets_bs</th>\n",
       "      <th>curr_assets_bs</th>\n",
       "      <th>share_eq_bs</th>\n",
       "      <th>subscribed_cap_bs</th>\n",
       "      <th>tang_assets_bs</th>\n",
       "      <th>labor_avg_mod</th>\n",
       "      <th>flag_miss_labor_avg</th>\n",
       "      <th>birth_year_mod</th>\n",
       "      <th>flag_miss_birth_year</th>\n",
       "    </tr>\n",
       "  </thead>\n",
       "  <tbody>\n",
       "    <tr>\n",
       "      <th>156</th>\n",
       "      <td>2005</td>\n",
       "      <td>6.538183e+06</td>\n",
       "      <td>2005-01-01</td>\n",
       "      <td>2005-12-31</td>\n",
       "      <td>792.592590</td>\n",
       "      <td>6237.037109</td>\n",
       "      <td>348.148163</td>\n",
       "      <td>0.000000</td>\n",
       "      <td>0.000000</td>\n",
       "      <td>0.000000</td>\n",
       "      <td>...</td>\n",
       "      <td>0.214552</td>\n",
       "      <td>0.689366</td>\n",
       "      <td>0.785448</td>\n",
       "      <td>0.946828</td>\n",
       "      <td>0.006996</td>\n",
       "      <td>0.214552</td>\n",
       "      <td>1.009435</td>\n",
       "      <td>1</td>\n",
       "      <td>1964.902661</td>\n",
       "      <td>1</td>\n",
       "    </tr>\n",
       "    <tr>\n",
       "      <th>162</th>\n",
       "      <td>2005</td>\n",
       "      <td>6.934257e+06</td>\n",
       "      <td>2005-05-13</td>\n",
       "      <td>2005-12-31</td>\n",
       "      <td>803.703674</td>\n",
       "      <td>4648.147949</td>\n",
       "      <td>9311.111328</td>\n",
       "      <td>0.000000</td>\n",
       "      <td>0.000000</td>\n",
       "      <td>0.000000</td>\n",
       "      <td>...</td>\n",
       "      <td>0.718736</td>\n",
       "      <td>0.147692</td>\n",
       "      <td>0.281264</td>\n",
       "      <td>0.034738</td>\n",
       "      <td>0.672344</td>\n",
       "      <td>0.718736</td>\n",
       "      <td>1.009435</td>\n",
       "      <td>1</td>\n",
       "      <td>1964.902661</td>\n",
       "      <td>1</td>\n",
       "    </tr>\n",
       "    <tr>\n",
       "      <th>182</th>\n",
       "      <td>2005</td>\n",
       "      <td>8.416055e+06</td>\n",
       "      <td>2005-01-01</td>\n",
       "      <td>2005-12-31</td>\n",
       "      <td>3155.555664</td>\n",
       "      <td>71070.367188</td>\n",
       "      <td>25514.814453</td>\n",
       "      <td>74.074074</td>\n",
       "      <td>0.000000</td>\n",
       "      <td>-74.074074</td>\n",
       "      <td>...</td>\n",
       "      <td>0.151399</td>\n",
       "      <td>0.747625</td>\n",
       "      <td>0.847983</td>\n",
       "      <td>0.701843</td>\n",
       "      <td>0.132573</td>\n",
       "      <td>0.150780</td>\n",
       "      <td>1.009435</td>\n",
       "      <td>1</td>\n",
       "      <td>1960.000000</td>\n",
       "      <td>0</td>\n",
       "    </tr>\n",
       "    <tr>\n",
       "      <th>234</th>\n",
       "      <td>2005</td>\n",
       "      <td>1.242838e+07</td>\n",
       "      <td>2005-01-01</td>\n",
       "      <td>2005-12-31</td>\n",
       "      <td>3137.037109</td>\n",
       "      <td>1740.740723</td>\n",
       "      <td>2192.592529</td>\n",
       "      <td>0.000000</td>\n",
       "      <td>0.000000</td>\n",
       "      <td>0.000000</td>\n",
       "      <td>...</td>\n",
       "      <td>0.521212</td>\n",
       "      <td>0.450505</td>\n",
       "      <td>0.474747</td>\n",
       "      <td>0.397980</td>\n",
       "      <td>0.020202</td>\n",
       "      <td>0.517172</td>\n",
       "      <td>1.009435</td>\n",
       "      <td>1</td>\n",
       "      <td>1964.902661</td>\n",
       "      <td>1</td>\n",
       "    </tr>\n",
       "    <tr>\n",
       "      <th>261</th>\n",
       "      <td>2005</td>\n",
       "      <td>1.571155e+07</td>\n",
       "      <td>2005-01-01</td>\n",
       "      <td>2005-12-31</td>\n",
       "      <td>1592.592651</td>\n",
       "      <td>4740.740723</td>\n",
       "      <td>4970.370605</td>\n",
       "      <td>0.000000</td>\n",
       "      <td>7407.407227</td>\n",
       "      <td>7407.407227</td>\n",
       "      <td>...</td>\n",
       "      <td>0.171521</td>\n",
       "      <td>0.274434</td>\n",
       "      <td>0.828479</td>\n",
       "      <td>0.131392</td>\n",
       "      <td>1.941748</td>\n",
       "      <td>0.171521</td>\n",
       "      <td>1.009435</td>\n",
       "      <td>1</td>\n",
       "      <td>1964.902661</td>\n",
       "      <td>1</td>\n",
       "    </tr>\n",
       "    <tr>\n",
       "      <th>...</th>\n",
       "      <td>...</td>\n",
       "      <td>...</td>\n",
       "      <td>...</td>\n",
       "      <td>...</td>\n",
       "      <td>...</td>\n",
       "      <td>...</td>\n",
       "      <td>...</td>\n",
       "      <td>...</td>\n",
       "      <td>...</td>\n",
       "      <td>...</td>\n",
       "      <td>...</td>\n",
       "      <td>...</td>\n",
       "      <td>...</td>\n",
       "      <td>...</td>\n",
       "      <td>...</td>\n",
       "      <td>...</td>\n",
       "      <td>...</td>\n",
       "      <td>...</td>\n",
       "      <td>...</td>\n",
       "      <td>...</td>\n",
       "      <td>...</td>\n",
       "    </tr>\n",
       "    <tr>\n",
       "      <th>556634</th>\n",
       "      <td>2016</td>\n",
       "      <td>4.580800e+11</td>\n",
       "      <td>2016-01-01</td>\n",
       "      <td>2016-12-31</td>\n",
       "      <td>3529.629639</td>\n",
       "      <td>125537.039062</td>\n",
       "      <td>0.000000</td>\n",
       "      <td>NaN</td>\n",
       "      <td>NaN</td>\n",
       "      <td>NaN</td>\n",
       "      <td>...</td>\n",
       "      <td>0.102048</td>\n",
       "      <td>0.316502</td>\n",
       "      <td>0.897952</td>\n",
       "      <td>0.920656</td>\n",
       "      <td>0.079477</td>\n",
       "      <td>0.102048</td>\n",
       "      <td>0.166667</td>\n",
       "      <td>0</td>\n",
       "      <td>1959.000000</td>\n",
       "      <td>0</td>\n",
       "    </tr>\n",
       "    <tr>\n",
       "      <th>556683</th>\n",
       "      <td>2016</td>\n",
       "      <td>4.591262e+11</td>\n",
       "      <td>2016-01-01</td>\n",
       "      <td>2016-12-31</td>\n",
       "      <td>4011.111084</td>\n",
       "      <td>58948.148438</td>\n",
       "      <td>30874.074219</td>\n",
       "      <td>NaN</td>\n",
       "      <td>NaN</td>\n",
       "      <td>NaN</td>\n",
       "      <td>...</td>\n",
       "      <td>0.232816</td>\n",
       "      <td>0.367011</td>\n",
       "      <td>0.767184</td>\n",
       "      <td>0.630146</td>\n",
       "      <td>1.332787</td>\n",
       "      <td>0.232816</td>\n",
       "      <td>0.125000</td>\n",
       "      <td>0</td>\n",
       "      <td>1964.902661</td>\n",
       "      <td>1</td>\n",
       "    </tr>\n",
       "    <tr>\n",
       "      <th>556789</th>\n",
       "      <td>2016</td>\n",
       "      <td>4.610112e+11</td>\n",
       "      <td>2016-01-01</td>\n",
       "      <td>2016-12-31</td>\n",
       "      <td>148.148148</td>\n",
       "      <td>67448.148438</td>\n",
       "      <td>5059.259277</td>\n",
       "      <td>NaN</td>\n",
       "      <td>NaN</td>\n",
       "      <td>NaN</td>\n",
       "      <td>...</td>\n",
       "      <td>0.042802</td>\n",
       "      <td>0.441048</td>\n",
       "      <td>0.956410</td>\n",
       "      <td>0.929626</td>\n",
       "      <td>0.157555</td>\n",
       "      <td>0.042015</td>\n",
       "      <td>0.250000</td>\n",
       "      <td>0</td>\n",
       "      <td>1959.000000</td>\n",
       "      <td>0</td>\n",
       "    </tr>\n",
       "    <tr>\n",
       "      <th>556842</th>\n",
       "      <td>2016</td>\n",
       "      <td>4.620594e+11</td>\n",
       "      <td>2016-01-01</td>\n",
       "      <td>2016-12-31</td>\n",
       "      <td>559.259277</td>\n",
       "      <td>64011.109375</td>\n",
       "      <td>8662.962891</td>\n",
       "      <td>NaN</td>\n",
       "      <td>NaN</td>\n",
       "      <td>NaN</td>\n",
       "      <td>...</td>\n",
       "      <td>0.000000</td>\n",
       "      <td>0.037841</td>\n",
       "      <td>1.000000</td>\n",
       "      <td>0.866111</td>\n",
       "      <td>0.173581</td>\n",
       "      <td>0.000000</td>\n",
       "      <td>0.118056</td>\n",
       "      <td>0</td>\n",
       "      <td>1953.000000</td>\n",
       "      <td>0</td>\n",
       "    </tr>\n",
       "    <tr>\n",
       "      <th>556879</th>\n",
       "      <td>2016</td>\n",
       "      <td>4.628231e+11</td>\n",
       "      <td>2016-01-01</td>\n",
       "      <td>2016-12-31</td>\n",
       "      <td>5362.962891</td>\n",
       "      <td>59570.371094</td>\n",
       "      <td>41681.480469</td>\n",
       "      <td>NaN</td>\n",
       "      <td>NaN</td>\n",
       "      <td>NaN</td>\n",
       "      <td>...</td>\n",
       "      <td>0.231570</td>\n",
       "      <td>0.169796</td>\n",
       "      <td>0.768430</td>\n",
       "      <td>0.223448</td>\n",
       "      <td>0.023888</td>\n",
       "      <td>0.231570</td>\n",
       "      <td>0.555556</td>\n",
       "      <td>0</td>\n",
       "      <td>1984.000000</td>\n",
       "      <td>0</td>\n",
       "    </tr>\n",
       "  </tbody>\n",
       "</table>\n",
       "<p>14877 rows × 63 columns</p>\n",
       "</div>"
      ],
      "text/plain": [
       "        year       comp_id       begin         end        amort  \\\n",
       "156     2005  6.538183e+06  2005-01-01  2005-12-31   792.592590   \n",
       "162     2005  6.934257e+06  2005-05-13  2005-12-31   803.703674   \n",
       "182     2005  8.416055e+06  2005-01-01  2005-12-31  3155.555664   \n",
       "234     2005  1.242838e+07  2005-01-01  2005-12-31  3137.037109   \n",
       "261     2005  1.571155e+07  2005-01-01  2005-12-31  1592.592651   \n",
       "...      ...           ...         ...         ...          ...   \n",
       "556634  2016  4.580800e+11  2016-01-01  2016-12-31  3529.629639   \n",
       "556683  2016  4.591262e+11  2016-01-01  2016-12-31  4011.111084   \n",
       "556789  2016  4.610112e+11  2016-01-01  2016-12-31   148.148148   \n",
       "556842  2016  4.620594e+11  2016-01-01  2016-12-31   559.259277   \n",
       "556879  2016  4.628231e+11  2016-01-01  2016-12-31  5362.962891   \n",
       "\n",
       "          curr_assets     curr_liab  extra_exp    extra_inc  \\\n",
       "156       6237.037109    348.148163   0.000000     0.000000   \n",
       "162       4648.147949   9311.111328   0.000000     0.000000   \n",
       "182      71070.367188  25514.814453  74.074074     0.000000   \n",
       "234       1740.740723   2192.592529   0.000000     0.000000   \n",
       "261       4740.740723   4970.370605   0.000000  7407.407227   \n",
       "...               ...           ...        ...          ...   \n",
       "556634  125537.039062      0.000000        NaN          NaN   \n",
       "556683   58948.148438  30874.074219        NaN          NaN   \n",
       "556789   67448.148438   5059.259277        NaN          NaN   \n",
       "556842   64011.109375   8662.962891        NaN          NaN   \n",
       "556879   59570.371094  41681.480469        NaN          NaN   \n",
       "\n",
       "        extra_profit_loss  ...  fixed_assets_bs  liq_assets_bs  \\\n",
       "156              0.000000  ...         0.214552       0.689366   \n",
       "162              0.000000  ...         0.718736       0.147692   \n",
       "182            -74.074074  ...         0.151399       0.747625   \n",
       "234              0.000000  ...         0.521212       0.450505   \n",
       "261           7407.407227  ...         0.171521       0.274434   \n",
       "...                   ...  ...              ...            ...   \n",
       "556634                NaN  ...         0.102048       0.316502   \n",
       "556683                NaN  ...         0.232816       0.367011   \n",
       "556789                NaN  ...         0.042802       0.441048   \n",
       "556842                NaN  ...         0.000000       0.037841   \n",
       "556879                NaN  ...         0.231570       0.169796   \n",
       "\n",
       "        curr_assets_bs  share_eq_bs  subscribed_cap_bs  tang_assets_bs  \\\n",
       "156           0.785448     0.946828           0.006996        0.214552   \n",
       "162           0.281264     0.034738           0.672344        0.718736   \n",
       "182           0.847983     0.701843           0.132573        0.150780   \n",
       "234           0.474747     0.397980           0.020202        0.517172   \n",
       "261           0.828479     0.131392           1.941748        0.171521   \n",
       "...                ...          ...                ...             ...   \n",
       "556634        0.897952     0.920656           0.079477        0.102048   \n",
       "556683        0.767184     0.630146           1.332787        0.232816   \n",
       "556789        0.956410     0.929626           0.157555        0.042015   \n",
       "556842        1.000000     0.866111           0.173581        0.000000   \n",
       "556879        0.768430     0.223448           0.023888        0.231570   \n",
       "\n",
       "        labor_avg_mod  flag_miss_labor_avg  birth_year_mod  \\\n",
       "156          1.009435                    1     1964.902661   \n",
       "162          1.009435                    1     1964.902661   \n",
       "182          1.009435                    1     1960.000000   \n",
       "234          1.009435                    1     1964.902661   \n",
       "261          1.009435                    1     1964.902661   \n",
       "...               ...                  ...             ...   \n",
       "556634       0.166667                    0     1959.000000   \n",
       "556683       0.125000                    0     1964.902661   \n",
       "556789       0.250000                    0     1959.000000   \n",
       "556842       0.118056                    0     1953.000000   \n",
       "556879       0.555556                    0     1984.000000   \n",
       "\n",
       "        flag_miss_birth_year  \n",
       "156                        1  \n",
       "162                        1  \n",
       "182                        0  \n",
       "234                        1  \n",
       "261                        1  \n",
       "...                      ...  \n",
       "556634                     0  \n",
       "556683                     1  \n",
       "556789                     0  \n",
       "556842                     0  \n",
       "556879                     0  \n",
       "\n",
       "[14877 rows x 63 columns]"
      ]
     },
     "execution_count": 21,
     "metadata": {},
     "output_type": "execute_result"
    }
   ],
   "source": [
    "holdout_data = raw_data[raw_data[\"ind2\"] == 26]\n",
    "holdout_data"
   ]
  },
  {
   "cell_type": "code",
   "execution_count": 22,
   "id": "4158ad5b-b856-4aa0-83df-5bc464a3288a",
   "metadata": {
    "tags": []
   },
   "outputs": [
    {
     "data": {
      "text/html": [
       "<div>\n",
       "<style scoped>\n",
       "    .dataframe tbody tr th:only-of-type {\n",
       "        vertical-align: middle;\n",
       "    }\n",
       "\n",
       "    .dataframe tbody tr th {\n",
       "        vertical-align: top;\n",
       "    }\n",
       "\n",
       "    .dataframe thead th {\n",
       "        text-align: right;\n",
       "    }\n",
       "</style>\n",
       "<table border=\"1\" class=\"dataframe\">\n",
       "  <thead>\n",
       "    <tr style=\"text-align: right;\">\n",
       "      <th></th>\n",
       "      <th>year</th>\n",
       "      <th>comp_id</th>\n",
       "      <th>begin</th>\n",
       "      <th>end</th>\n",
       "      <th>amort</th>\n",
       "      <th>curr_assets</th>\n",
       "      <th>curr_liab</th>\n",
       "      <th>extra_exp</th>\n",
       "      <th>extra_inc</th>\n",
       "      <th>extra_profit_loss</th>\n",
       "      <th>...</th>\n",
       "      <th>fixed_assets_bs</th>\n",
       "      <th>liq_assets_bs</th>\n",
       "      <th>curr_assets_bs</th>\n",
       "      <th>share_eq_bs</th>\n",
       "      <th>subscribed_cap_bs</th>\n",
       "      <th>tang_assets_bs</th>\n",
       "      <th>labor_avg_mod</th>\n",
       "      <th>flag_miss_labor_avg</th>\n",
       "      <th>birth_year_mod</th>\n",
       "      <th>flag_miss_birth_year</th>\n",
       "    </tr>\n",
       "  </thead>\n",
       "  <tbody>\n",
       "    <tr>\n",
       "      <th>417864</th>\n",
       "      <td>2014</td>\n",
       "      <td>6.538183e+06</td>\n",
       "      <td>2014-01-01</td>\n",
       "      <td>2014-12-31</td>\n",
       "      <td>1018.518494</td>\n",
       "      <td>17022.222656</td>\n",
       "      <td>3040.740723</td>\n",
       "      <td>0.0</td>\n",
       "      <td>0.0</td>\n",
       "      <td>0.0</td>\n",
       "      <td>...</td>\n",
       "      <td>0.164819</td>\n",
       "      <td>0.832455</td>\n",
       "      <td>0.835181</td>\n",
       "      <td>0.850809</td>\n",
       "      <td>0.002726</td>\n",
       "      <td>0.164819</td>\n",
       "      <td>1.009435</td>\n",
       "      <td>1</td>\n",
       "      <td>1961.5</td>\n",
       "      <td>0</td>\n",
       "    </tr>\n",
       "    <tr>\n",
       "      <th>417890</th>\n",
       "      <td>2014</td>\n",
       "      <td>8.416055e+06</td>\n",
       "      <td>2014-01-01</td>\n",
       "      <td>2014-12-31</td>\n",
       "      <td>425.925934</td>\n",
       "      <td>105740.742188</td>\n",
       "      <td>6918.518555</td>\n",
       "      <td>0.0</td>\n",
       "      <td>0.0</td>\n",
       "      <td>0.0</td>\n",
       "      <td>...</td>\n",
       "      <td>0.067207</td>\n",
       "      <td>0.680041</td>\n",
       "      <td>0.932793</td>\n",
       "      <td>0.945372</td>\n",
       "      <td>0.098017</td>\n",
       "      <td>0.067207</td>\n",
       "      <td>0.083333</td>\n",
       "      <td>0</td>\n",
       "      <td>1960.0</td>\n",
       "      <td>0</td>\n",
       "    </tr>\n",
       "    <tr>\n",
       "      <th>417942</th>\n",
       "      <td>2014</td>\n",
       "      <td>1.242838e+07</td>\n",
       "      <td>2014-01-01</td>\n",
       "      <td>2014-12-31</td>\n",
       "      <td>0.000000</td>\n",
       "      <td>0.000000</td>\n",
       "      <td>9277.777344</td>\n",
       "      <td>0.0</td>\n",
       "      <td>0.0</td>\n",
       "      <td>0.0</td>\n",
       "      <td>...</td>\n",
       "      <td>0.000000</td>\n",
       "      <td>0.000000</td>\n",
       "      <td>0.000000</td>\n",
       "      <td>0.000000</td>\n",
       "      <td>0.000000</td>\n",
       "      <td>0.000000</td>\n",
       "      <td>0.083333</td>\n",
       "      <td>0</td>\n",
       "      <td>1962.0</td>\n",
       "      <td>0</td>\n",
       "    </tr>\n",
       "    <tr>\n",
       "      <th>417989</th>\n",
       "      <td>2014</td>\n",
       "      <td>1.777654e+07</td>\n",
       "      <td>2014-01-01</td>\n",
       "      <td>2014-12-31</td>\n",
       "      <td>48.148148</td>\n",
       "      <td>142296.296875</td>\n",
       "      <td>164237.031250</td>\n",
       "      <td>0.0</td>\n",
       "      <td>0.0</td>\n",
       "      <td>0.0</td>\n",
       "      <td>...</td>\n",
       "      <td>0.510834</td>\n",
       "      <td>0.007804</td>\n",
       "      <td>0.403525</td>\n",
       "      <td>0.406907</td>\n",
       "      <td>0.136539</td>\n",
       "      <td>0.425192</td>\n",
       "      <td>0.305556</td>\n",
       "      <td>0</td>\n",
       "      <td>1970.5</td>\n",
       "      <td>0</td>\n",
       "    </tr>\n",
       "    <tr>\n",
       "      <th>417994</th>\n",
       "      <td>2014</td>\n",
       "      <td>1.862676e+07</td>\n",
       "      <td>2014-01-01</td>\n",
       "      <td>2014-12-31</td>\n",
       "      <td>5755.555664</td>\n",
       "      <td>95185.187500</td>\n",
       "      <td>45766.667969</td>\n",
       "      <td>0.0</td>\n",
       "      <td>0.0</td>\n",
       "      <td>0.0</td>\n",
       "      <td>...</td>\n",
       "      <td>0.193371</td>\n",
       "      <td>0.094661</td>\n",
       "      <td>0.806629</td>\n",
       "      <td>0.611594</td>\n",
       "      <td>0.015693</td>\n",
       "      <td>0.193371</td>\n",
       "      <td>0.159091</td>\n",
       "      <td>0</td>\n",
       "      <td>1978.0</td>\n",
       "      <td>0</td>\n",
       "    </tr>\n",
       "    <tr>\n",
       "      <th>...</th>\n",
       "      <td>...</td>\n",
       "      <td>...</td>\n",
       "      <td>...</td>\n",
       "      <td>...</td>\n",
       "      <td>...</td>\n",
       "      <td>...</td>\n",
       "      <td>...</td>\n",
       "      <td>...</td>\n",
       "      <td>...</td>\n",
       "      <td>...</td>\n",
       "      <td>...</td>\n",
       "      <td>...</td>\n",
       "      <td>...</td>\n",
       "      <td>...</td>\n",
       "      <td>...</td>\n",
       "      <td>...</td>\n",
       "      <td>...</td>\n",
       "      <td>...</td>\n",
       "      <td>...</td>\n",
       "      <td>...</td>\n",
       "      <td>...</td>\n",
       "    </tr>\n",
       "    <tr>\n",
       "      <th>463875</th>\n",
       "      <td>2014</td>\n",
       "      <td>4.593723e+11</td>\n",
       "      <td>2014-01-01</td>\n",
       "      <td>2014-12-31</td>\n",
       "      <td>0.000000</td>\n",
       "      <td>40740.742188</td>\n",
       "      <td>559.259277</td>\n",
       "      <td>0.0</td>\n",
       "      <td>0.0</td>\n",
       "      <td>0.0</td>\n",
       "      <td>...</td>\n",
       "      <td>0.000000</td>\n",
       "      <td>0.943727</td>\n",
       "      <td>1.000000</td>\n",
       "      <td>0.986273</td>\n",
       "      <td>0.023000</td>\n",
       "      <td>0.000000</td>\n",
       "      <td>0.083333</td>\n",
       "      <td>0</td>\n",
       "      <td>1975.0</td>\n",
       "      <td>0</td>\n",
       "    </tr>\n",
       "    <tr>\n",
       "      <th>463965</th>\n",
       "      <td>2014</td>\n",
       "      <td>4.610112e+11</td>\n",
       "      <td>2014-01-01</td>\n",
       "      <td>2014-12-31</td>\n",
       "      <td>429.629639</td>\n",
       "      <td>58781.480469</td>\n",
       "      <td>2651.851807</td>\n",
       "      <td>0.0</td>\n",
       "      <td>0.0</td>\n",
       "      <td>0.0</td>\n",
       "      <td>...</td>\n",
       "      <td>0.055866</td>\n",
       "      <td>0.637822</td>\n",
       "      <td>0.943243</td>\n",
       "      <td>0.957387</td>\n",
       "      <td>0.178296</td>\n",
       "      <td>0.054974</td>\n",
       "      <td>0.166667</td>\n",
       "      <td>0</td>\n",
       "      <td>1959.0</td>\n",
       "      <td>0</td>\n",
       "    </tr>\n",
       "    <tr>\n",
       "      <th>464018</th>\n",
       "      <td>2014</td>\n",
       "      <td>4.620594e+11</td>\n",
       "      <td>2014-01-01</td>\n",
       "      <td>2014-12-31</td>\n",
       "      <td>1111.111084</td>\n",
       "      <td>68274.070312</td>\n",
       "      <td>16211.111328</td>\n",
       "      <td>0.0</td>\n",
       "      <td>0.0</td>\n",
       "      <td>0.0</td>\n",
       "      <td>...</td>\n",
       "      <td>0.011635</td>\n",
       "      <td>0.024288</td>\n",
       "      <td>0.988365</td>\n",
       "      <td>0.765321</td>\n",
       "      <td>0.160849</td>\n",
       "      <td>0.011635</td>\n",
       "      <td>0.250000</td>\n",
       "      <td>0</td>\n",
       "      <td>1953.0</td>\n",
       "      <td>0</td>\n",
       "    </tr>\n",
       "    <tr>\n",
       "      <th>464032</th>\n",
       "      <td>2014</td>\n",
       "      <td>4.623300e+11</td>\n",
       "      <td>2014-01-01</td>\n",
       "      <td>2014-12-31</td>\n",
       "      <td>0.000000</td>\n",
       "      <td>17192.591797</td>\n",
       "      <td>7325.925781</td>\n",
       "      <td>0.0</td>\n",
       "      <td>0.0</td>\n",
       "      <td>0.0</td>\n",
       "      <td>...</td>\n",
       "      <td>0.375656</td>\n",
       "      <td>0.368796</td>\n",
       "      <td>0.624344</td>\n",
       "      <td>0.654472</td>\n",
       "      <td>0.672495</td>\n",
       "      <td>0.375656</td>\n",
       "      <td>0.166667</td>\n",
       "      <td>0</td>\n",
       "      <td>1961.5</td>\n",
       "      <td>0</td>\n",
       "    </tr>\n",
       "    <tr>\n",
       "      <th>464055</th>\n",
       "      <td>2014</td>\n",
       "      <td>4.628231e+11</td>\n",
       "      <td>2014-01-01</td>\n",
       "      <td>2014-12-31</td>\n",
       "      <td>2581.481445</td>\n",
       "      <td>70059.257812</td>\n",
       "      <td>74911.109375</td>\n",
       "      <td>0.0</td>\n",
       "      <td>0.0</td>\n",
       "      <td>0.0</td>\n",
       "      <td>...</td>\n",
       "      <td>0.102188</td>\n",
       "      <td>0.288101</td>\n",
       "      <td>0.897812</td>\n",
       "      <td>0.040011</td>\n",
       "      <td>0.023732</td>\n",
       "      <td>0.102188</td>\n",
       "      <td>0.486111</td>\n",
       "      <td>0</td>\n",
       "      <td>1984.0</td>\n",
       "      <td>0</td>\n",
       "    </tr>\n",
       "  </tbody>\n",
       "</table>\n",
       "<p>1037 rows × 63 columns</p>\n",
       "</div>"
      ],
      "text/plain": [
       "        year       comp_id       begin         end        amort  \\\n",
       "417864  2014  6.538183e+06  2014-01-01  2014-12-31  1018.518494   \n",
       "417890  2014  8.416055e+06  2014-01-01  2014-12-31   425.925934   \n",
       "417942  2014  1.242838e+07  2014-01-01  2014-12-31     0.000000   \n",
       "417989  2014  1.777654e+07  2014-01-01  2014-12-31    48.148148   \n",
       "417994  2014  1.862676e+07  2014-01-01  2014-12-31  5755.555664   \n",
       "...      ...           ...         ...         ...          ...   \n",
       "463875  2014  4.593723e+11  2014-01-01  2014-12-31     0.000000   \n",
       "463965  2014  4.610112e+11  2014-01-01  2014-12-31   429.629639   \n",
       "464018  2014  4.620594e+11  2014-01-01  2014-12-31  1111.111084   \n",
       "464032  2014  4.623300e+11  2014-01-01  2014-12-31     0.000000   \n",
       "464055  2014  4.628231e+11  2014-01-01  2014-12-31  2581.481445   \n",
       "\n",
       "          curr_assets      curr_liab  extra_exp  extra_inc  extra_profit_loss  \\\n",
       "417864   17022.222656    3040.740723        0.0        0.0                0.0   \n",
       "417890  105740.742188    6918.518555        0.0        0.0                0.0   \n",
       "417942       0.000000    9277.777344        0.0        0.0                0.0   \n",
       "417989  142296.296875  164237.031250        0.0        0.0                0.0   \n",
       "417994   95185.187500   45766.667969        0.0        0.0                0.0   \n",
       "...               ...            ...        ...        ...                ...   \n",
       "463875   40740.742188     559.259277        0.0        0.0                0.0   \n",
       "463965   58781.480469    2651.851807        0.0        0.0                0.0   \n",
       "464018   68274.070312   16211.111328        0.0        0.0                0.0   \n",
       "464032   17192.591797    7325.925781        0.0        0.0                0.0   \n",
       "464055   70059.257812   74911.109375        0.0        0.0                0.0   \n",
       "\n",
       "        ...  fixed_assets_bs  liq_assets_bs  curr_assets_bs  share_eq_bs  \\\n",
       "417864  ...         0.164819       0.832455        0.835181     0.850809   \n",
       "417890  ...         0.067207       0.680041        0.932793     0.945372   \n",
       "417942  ...         0.000000       0.000000        0.000000     0.000000   \n",
       "417989  ...         0.510834       0.007804        0.403525     0.406907   \n",
       "417994  ...         0.193371       0.094661        0.806629     0.611594   \n",
       "...     ...              ...            ...             ...          ...   \n",
       "463875  ...         0.000000       0.943727        1.000000     0.986273   \n",
       "463965  ...         0.055866       0.637822        0.943243     0.957387   \n",
       "464018  ...         0.011635       0.024288        0.988365     0.765321   \n",
       "464032  ...         0.375656       0.368796        0.624344     0.654472   \n",
       "464055  ...         0.102188       0.288101        0.897812     0.040011   \n",
       "\n",
       "        subscribed_cap_bs  tang_assets_bs  labor_avg_mod  flag_miss_labor_avg  \\\n",
       "417864           0.002726        0.164819       1.009435                    1   \n",
       "417890           0.098017        0.067207       0.083333                    0   \n",
       "417942           0.000000        0.000000       0.083333                    0   \n",
       "417989           0.136539        0.425192       0.305556                    0   \n",
       "417994           0.015693        0.193371       0.159091                    0   \n",
       "...                   ...             ...            ...                  ...   \n",
       "463875           0.023000        0.000000       0.083333                    0   \n",
       "463965           0.178296        0.054974       0.166667                    0   \n",
       "464018           0.160849        0.011635       0.250000                    0   \n",
       "464032           0.672495        0.375656       0.166667                    0   \n",
       "464055           0.023732        0.102188       0.486111                    0   \n",
       "\n",
       "        birth_year_mod  flag_miss_birth_year  \n",
       "417864          1961.5                     0  \n",
       "417890          1960.0                     0  \n",
       "417942          1962.0                     0  \n",
       "417989          1970.5                     0  \n",
       "417994          1978.0                     0  \n",
       "...                ...                   ...  \n",
       "463875          1975.0                     0  \n",
       "463965          1959.0                     0  \n",
       "464018          1953.0                     0  \n",
       "464032          1961.5                     0  \n",
       "464055          1984.0                     0  \n",
       "\n",
       "[1037 rows x 63 columns]"
      ]
     },
     "execution_count": 22,
     "metadata": {},
     "output_type": "execute_result"
    }
   ],
   "source": [
    "# look at cross section\n",
    "holdout_data = holdout_data.query(\"year==2014 & status_alive == 1\")\n",
    "# look at firms below 10m euro revenues and above 1000 euros\n",
    "holdout_data = holdout_data.query(\"sales<=10000000 & sales>=1000\")\n",
    "holdout_data"
   ]
  },
  {
   "cell_type": "code",
   "execution_count": 23,
   "id": "29ad61ab-a12b-4954-9722-1cf782cd94fd",
   "metadata": {
    "tags": []
   },
   "outputs": [
    {
     "data": {
      "text/plain": [
       "count       1037.000\n",
       "mean      490202.218\n",
       "std      1154087.414\n",
       "min         1070.370\n",
       "25%        21766.666\n",
       "50%        72700.000\n",
       "75%       333888.875\n",
       "max      9576485.000\n",
       "Name: sales, dtype: float64"
      ]
     },
     "execution_count": 23,
     "metadata": {},
     "output_type": "execute_result"
    }
   ],
   "source": [
    "round(holdout_data.sales.describe(), 3)"
   ]
  },
  {
   "cell_type": "code",
   "execution_count": 24,
   "id": "e9fe04c8-69ab-4cc9-a643-eb803067652f",
   "metadata": {
    "tags": []
   },
   "outputs": [
    {
     "data": {
      "text/plain": [
       "default\n",
       "0    981\n",
       "1     56\n",
       "Name: count, dtype: int64"
      ]
     },
     "execution_count": 24,
     "metadata": {},
     "output_type": "execute_result"
    }
   ],
   "source": [
    "holdout_data.default.value_counts()"
   ]
  },
  {
   "cell_type": "markdown",
   "id": "a0b12787-eab0-40b3-a591-2c5cbaca2603",
   "metadata": {},
   "source": [
    "The holdout_data now contains the right dataset (1037 observations, 56 defaults, correct sales figures)."
   ]
  },
  {
   "cell_type": "code",
   "execution_count": 25,
   "id": "f8183401-be14-448a-a90a-7747a3918624",
   "metadata": {
    "tags": []
   },
   "outputs": [
    {
     "data": {
      "image/png": "[encoded data removed]",
      "text/plain": [
       "<Figure size 640x480 with 1 Axes>"
      ]
     },
     "metadata": {
      "image/png": {
       "height": 480,
       "width": 640
      }
     },
     "output_type": "display_data"
    },
    {
     "data": {
      "text/plain": [
       "<Figure Size: (640 x 480)>"
      ]
     },
     "execution_count": 25,
     "metadata": {},
     "output_type": "execute_result"
    }
   ],
   "source": [
    "ggplot(holdout_data, aes(\"sales\")) + geom_histogram() + theme_bw()"
   ]
  },
  {
   "cell_type": "markdown",
   "id": "24221095-fdfd-4e05-a8dd-7695b65c750b",
   "metadata": {},
   "source": [
    "Most companies' sales are below 1M EUR in the holdout data."
   ]
  },
  {
   "cell_type": "code",
   "execution_count": 26,
   "id": "e962f389-ca36-4ff3-84b3-c982c1aec4fc",
   "metadata": {
    "tags": []
   },
   "outputs": [
    {
     "name": "stdout",
     "output_type": "stream",
     "text": [
      "<class 'pandas.core.frame.DataFrame'>\n",
      "Index: 1037 entries, 417864 to 464055\n",
      "Data columns (total 63 columns):\n",
      " #   Column                Non-Null Count  Dtype   \n",
      "---  ------                --------------  -----   \n",
      " 0   year                  1037 non-null   int64   \n",
      " 1   comp_id               1037 non-null   float64 \n",
      " 2   begin                 1037 non-null   object  \n",
      " 3   end                   1037 non-null   object  \n",
      " 4   amort                 1035 non-null   float64 \n",
      " 5   curr_assets           1037 non-null   float64 \n",
      " 6   curr_liab             1037 non-null   float64 \n",
      " 7   extra_exp             1037 non-null   float64 \n",
      " 8   extra_inc             1037 non-null   float64 \n",
      " 9   extra_profit_loss     1037 non-null   float64 \n",
      " 10  fixed_assets          1037 non-null   float64 \n",
      " 11  inc_bef_tax           1037 non-null   float64 \n",
      " 12  intang_assets         1037 non-null   float64 \n",
      " 13  inventories           1037 non-null   float64 \n",
      " 14  liq_assets            1037 non-null   float64 \n",
      " 15  material_exp          1035 non-null   float64 \n",
      " 16  personnel_exp         1035 non-null   float64 \n",
      " 17  profit_loss_year      1037 non-null   float64 \n",
      " 18  sales                 1037 non-null   float64 \n",
      " 19  share_eq              1037 non-null   float64 \n",
      " 20  subscribed_cap        1037 non-null   float64 \n",
      " 21  tang_assets           1037 non-null   float64 \n",
      " 22  balsheet_flag         1037 non-null   float64 \n",
      " 23  balsheet_length       1037 non-null   float64 \n",
      " 24  balsheet_notfullyear  1037 non-null   float64 \n",
      " 25  founded_year          1006 non-null   float64 \n",
      " 26  ceo_count             1006 non-null   float64 \n",
      " 27  foreign               1006 non-null   float64 \n",
      " 28  female                1006 non-null   float64 \n",
      " 29  inoffice_days         1006 non-null   float64 \n",
      " 30  gender                1006 non-null   category\n",
      " 31  origin                1006 non-null   category\n",
      " 32  nace_main             1037 non-null   category\n",
      " 33  ind2                  1037 non-null   category\n",
      " 34  ind                   1037 non-null   category\n",
      " 35  urban_m               1037 non-null   category\n",
      " 36  region_m              1035 non-null   category\n",
      " 37  founded_date          1037 non-null   object  \n",
      " 38  age                   1006 non-null   float64 \n",
      " 39  status_alive          1037 non-null   int32   \n",
      " 40  default               1037 non-null   int32   \n",
      " 41  flag_asset_problem    1037 non-null   float64 \n",
      " 42  total_assets_bs       1037 non-null   float64 \n",
      " 43  extra_exp_pl          1037 non-null   float64 \n",
      " 44  extra_inc_pl          1037 non-null   float64 \n",
      " 45  extra_profit_loss_pl  1037 non-null   float64 \n",
      " 46  inc_bef_tax_pl        1037 non-null   float64 \n",
      " 47  inventories_pl        1037 non-null   float64 \n",
      " 48  material_exp_pl       1035 non-null   float64 \n",
      " 49  profit_loss_year_pl   1037 non-null   float64 \n",
      " 50  personnel_exp_pl      1035 non-null   float64 \n",
      " 51  intang_assets_bs      1037 non-null   float64 \n",
      " 52  curr_liab_bs          1037 non-null   float64 \n",
      " 53  fixed_assets_bs       1037 non-null   float64 \n",
      " 54  liq_assets_bs         1037 non-null   float64 \n",
      " 55  curr_assets_bs        1037 non-null   float64 \n",
      " 56  share_eq_bs           1037 non-null   float64 \n",
      " 57  subscribed_cap_bs     1037 non-null   float64 \n",
      " 58  tang_assets_bs        1037 non-null   float64 \n",
      " 59  labor_avg_mod         1037 non-null   float64 \n",
      " 60  flag_miss_labor_avg   1037 non-null   int32   \n",
      " 61  birth_year_mod        1037 non-null   float64 \n",
      " 62  flag_miss_birth_year  1037 non-null   int32   \n",
      "dtypes: category(7), float64(48), int32(4), int64(1), object(3)\n",
      "memory usage: 467.4+ KB\n"
     ]
    }
   ],
   "source": [
    "holdout_data.info()"
   ]
  },
  {
   "cell_type": "markdown",
   "id": "b3e72c07-1373-4d01-a73f-64f2aecf7807",
   "metadata": {},
   "source": [
    "The different training datasets will be taken from the `raw_data` DataFrame based on some criteria. "
   ]
  },
  {
   "cell_type": "code",
   "execution_count": 27,
   "id": "fb5b6250-5d3b-4291-a98b-45fb2c787f57",
   "metadata": {
    "tags": []
   },
   "outputs": [
    {
     "data": {
      "text/plain": [
       "(1050, 63)"
      ]
     },
     "execution_count": 27,
     "metadata": {},
     "output_type": "execute_result"
    }
   ],
   "source": [
    "# data1 will be the same industry with the same sales figure restrictions, just one year before - this will be a relatively small dataset.\n",
    "\n",
    "data1 = raw_data.query(\"year==2013 & status_alive == 1\")\n",
    "data1 = data1.query(\"sales<=10000000 & sales>=1000 & ind2 == 26\")\n",
    "data1.shape"
   ]
  },
  {
   "cell_type": "code",
   "execution_count": 28,
   "id": "272a8454-27a4-4c32-b68e-51555abb8d1d",
   "metadata": {
    "tags": []
   },
   "outputs": [
    {
     "data": {
      "text/plain": [
       "default\n",
       "0    999\n",
       "1     51\n",
       "Name: count, dtype: int64"
      ]
     },
     "execution_count": 28,
     "metadata": {},
     "output_type": "execute_result"
    }
   ],
   "source": [
    "data1.default.value_counts()"
   ]
  },
  {
   "cell_type": "code",
   "execution_count": 29,
   "id": "2a1fab14-56fe-4c45-84e4-5709d63d96c4",
   "metadata": {
    "tags": []
   },
   "outputs": [
    {
     "data": {
      "text/plain": [
       "count       1050.000\n",
       "mean      465587.543\n",
       "std      1173668.081\n",
       "min         1000.000\n",
       "25%        21786.112\n",
       "50%        70418.516\n",
       "75%       283219.438\n",
       "max      9811389.000\n",
       "Name: sales, dtype: float64"
      ]
     },
     "execution_count": 29,
     "metadata": {},
     "output_type": "execute_result"
    }
   ],
   "source": [
    "round(data1.sales.describe(), 3)"
   ]
  },
  {
   "cell_type": "markdown",
   "id": "af844f8e-0a9c-4d28-ac3f-882cd46525c8",
   "metadata": {},
   "source": [
    "This dataset has very similar number of defaults as our holdout dataset, although its mean sales are a bit lower. It is likely to be quite similar to it in other features too, althoug it is quite a small dataset (only 1050 observations)."
   ]
  },
  {
   "cell_type": "code",
   "execution_count": 30,
   "id": "24b86392-d3b2-46ee-9a3d-d3bb675c7bd1",
   "metadata": {
    "tags": []
   },
   "outputs": [
    {
     "data": {
      "text/plain": [
       "(20253, 63)"
      ]
     },
     "execution_count": 30,
     "metadata": {},
     "output_type": "execute_result"
    }
   ],
   "source": [
    "# data2 will include all industries (except the target) with the same sales figure restrictions, from the same year as our holdout data.\n",
    "\n",
    "data2 = raw_data.query(\"year==2014 & status_alive == 1\")\n",
    "data2 = data2.query(\"sales<=10000000 & sales>=1000 & ind2 != 26\")\n",
    "data2.shape"
   ]
  },
  {
   "cell_type": "code",
   "execution_count": 31,
   "id": "851b7fa3-0f55-472b-b218-48facc9c4a4d",
   "metadata": {
    "tags": []
   },
   "outputs": [
    {
     "data": {
      "text/plain": [
       "default\n",
       "0    18177\n",
       "1     2076\n",
       "Name: count, dtype: int64"
      ]
     },
     "execution_count": 31,
     "metadata": {},
     "output_type": "execute_result"
    }
   ],
   "source": [
    "data2.default.value_counts()"
   ]
  },
  {
   "cell_type": "markdown",
   "id": "8b79efad-baf4-4857-aa64-d4f4d3c49013",
   "metadata": {},
   "source": [
    "The default rate is higher than in the holdout set (around 10% vs 5%) but it is a much bigger sample."
   ]
  },
  {
   "cell_type": "code",
   "execution_count": 32,
   "id": "a66d5b18-5326-41d0-8a97-e40417d2b7c9",
   "metadata": {
    "tags": []
   },
   "outputs": [
    {
     "data": {
      "text/plain": [
       "count      20253.000\n",
       "mean      255986.021\n",
       "std       806844.236\n",
       "min         1000.000\n",
       "25%        17407.408\n",
       "50%        50481.480\n",
       "75%       157407.406\n",
       "max      9963926.000\n",
       "Name: sales, dtype: float64"
      ]
     },
     "execution_count": 32,
     "metadata": {},
     "output_type": "execute_result"
    }
   ],
   "source": [
    "round(data2.sales.describe(), 3)"
   ]
  },
  {
   "cell_type": "markdown",
   "id": "68615242-b946-4de9-9c79-87376fe8745f",
   "metadata": {},
   "source": [
    "Average sales are significantly lower than in the holdout set (256k vs 490k)."
   ]
  },
  {
   "cell_type": "code",
   "execution_count": 33,
   "id": "676821da-78ce-441d-810b-d79d40b56c68",
   "metadata": {
    "tags": []
   },
   "outputs": [
    {
     "data": {
      "text/plain": [
       "(936, 63)"
      ]
     },
     "execution_count": 33,
     "metadata": {},
     "output_type": "execute_result"
    }
   ],
   "source": [
    "# data3 will include the same industry but one year earlier and with an even narrower sales filter - \n",
    "# given that most of the companies in the holdout data have less than 1M EUR sales, this filter will be applied here.\n",
    "\n",
    "data3 = raw_data.query(\"year==2013 & status_alive == 1\")\n",
    "data3 = data3.query(\"sales<=1000000 & sales>=1000 & ind2 == 26\")\n",
    "data3.shape"
   ]
  },
  {
   "cell_type": "code",
   "execution_count": 34,
   "id": "f12643a8-07dc-41db-bb1a-66e5b649f589",
   "metadata": {
    "tags": []
   },
   "outputs": [
    {
     "data": {
      "text/plain": [
       "count       936.000\n",
       "mean     138134.962\n",
       "std      196431.376\n",
       "min        1000.000\n",
       "25%       18987.037\n",
       "50%       51279.631\n",
       "75%      165606.488\n",
       "max      986803.688\n",
       "Name: sales, dtype: float64"
      ]
     },
     "execution_count": 34,
     "metadata": {},
     "output_type": "execute_result"
    }
   ],
   "source": [
    "round(data3.sales.describe(), 3)"
   ]
  },
  {
   "cell_type": "code",
   "execution_count": 35,
   "id": "e8fb9ec9-3085-4e33-8467-5fe9230ca4ea",
   "metadata": {},
   "outputs": [
    {
     "data": {
      "text/plain": [
       "default\n",
       "0    887\n",
       "1     49\n",
       "Name: count, dtype: int64"
      ]
     },
     "execution_count": 35,
     "metadata": {},
     "output_type": "execute_result"
    }
   ],
   "source": [
    "data3.default.value_counts()"
   ]
  },
  {
   "cell_type": "code",
   "execution_count": 36,
   "id": "2807ec57-1eb1-4094-8474-25eda51e41f1",
   "metadata": {
    "tags": []
   },
   "outputs": [
    {
     "data": {
      "text/plain": [
       "amort                2\n",
       "material_exp         2\n",
       "personnel_exp        2\n",
       "founded_year        92\n",
       "ceo_count           92\n",
       "foreign             92\n",
       "female              92\n",
       "inoffice_days       92\n",
       "gender              92\n",
       "origin              92\n",
       "region_m             2\n",
       "age                 92\n",
       "material_exp_pl      2\n",
       "personnel_exp_pl     2\n",
       "dtype: int64"
      ]
     },
     "execution_count": 36,
     "metadata": {},
     "output_type": "execute_result"
    }
   ],
   "source": [
    "to_filter=data1.isna().sum()\n",
    "to_filter[to_filter>0]"
   ]
  },
  {
   "cell_type": "code",
   "execution_count": 37,
   "id": "8e4e0ea0-99b5-447c-9f53-f731224c1fba",
   "metadata": {
    "tags": []
   },
   "outputs": [
    {
     "data": {
      "text/plain": [
       "amort                    29\n",
       "curr_assets              12\n",
       "curr_liab                12\n",
       "fixed_assets             12\n",
       "intang_assets            12\n",
       "inventories              12\n",
       "liq_assets               12\n",
       "material_exp             29\n",
       "personnel_exp            29\n",
       "profit_loss_year         12\n",
       "share_eq                 12\n",
       "subscribed_cap           12\n",
       "tang_assets              12\n",
       "founded_year           1056\n",
       "ceo_count              1055\n",
       "foreign                1055\n",
       "female                 1055\n",
       "inoffice_days          1055\n",
       "gender                 1055\n",
       "origin                 1055\n",
       "nace_main                 5\n",
       "ind2                      5\n",
       "ind                     637\n",
       "region_m                 58\n",
       "founded_date              1\n",
       "age                    1056\n",
       "flag_asset_problem       12\n",
       "total_assets_bs          12\n",
       "inventories_pl           12\n",
       "material_exp_pl          29\n",
       "profit_loss_year_pl      12\n",
       "personnel_exp_pl         29\n",
       "dtype: int64"
      ]
     },
     "execution_count": 37,
     "metadata": {},
     "output_type": "execute_result"
    }
   ],
   "source": [
    "to_filter=data2.isna().sum()\n",
    "to_filter[to_filter>0]"
   ]
  },
  {
   "cell_type": "code",
   "execution_count": 38,
   "id": "8ec5dabb-30ef-439a-85c1-2a57853dd4ac",
   "metadata": {
    "tags": []
   },
   "outputs": [
    {
     "data": {
      "text/plain": [
       "amort                1\n",
       "material_exp         1\n",
       "personnel_exp        1\n",
       "founded_year        86\n",
       "ceo_count           86\n",
       "foreign             86\n",
       "female              86\n",
       "inoffice_days       86\n",
       "gender              86\n",
       "origin              86\n",
       "age                 86\n",
       "material_exp_pl      1\n",
       "personnel_exp_pl     1\n",
       "dtype: int64"
      ]
     },
     "execution_count": 38,
     "metadata": {},
     "output_type": "execute_result"
    }
   ],
   "source": [
    "to_filter=data3.isna().sum()\n",
    "to_filter[to_filter>0]"
   ]
  },
  {
   "cell_type": "markdown",
   "id": "27993f55-a306-49d4-a70f-218c8fd08384",
   "metadata": {},
   "source": [
    "Missing values will be dropped in data1-2-3. This will decrease the size of the datasets, but will retain only \"clean\" observations.\n",
    "To retain the full 1037 observations in the holdout data, there all missing values will be imputed (with mean for numerical, and mode for categorical variables). Flags are to be added for all imputations."
   ]
  },
  {
   "cell_type": "code",
   "execution_count": 39,
   "id": "3722241b-5437-49d1-8722-1556c34ce105",
   "metadata": {
    "tags": []
   },
   "outputs": [],
   "source": [
    "to_filter=data1.isna().sum()\n",
    "to_filter[to_filter>0]\n",
    "data1.dropna(subset=to_filter[to_filter>0].index, inplace = True)"
   ]
  },
  {
   "cell_type": "code",
   "execution_count": 40,
   "id": "ce7dc294-e48d-4d29-b60d-b88bcaaeaab6",
   "metadata": {
    "tags": []
   },
   "outputs": [],
   "source": [
    "to_filter=data2.isna().sum()\n",
    "to_filter[to_filter>0]\n",
    "data2.dropna(subset=to_filter[to_filter>0].index, inplace = True)"
   ]
  },
  {
   "cell_type": "code",
   "execution_count": 41,
   "id": "16d0a250-3979-4420-ac74-a4a594f9ff14",
   "metadata": {
    "tags": []
   },
   "outputs": [],
   "source": [
    "to_filter=data3.isna().sum()\n",
    "to_filter[to_filter>0]\n",
    "data3.dropna(subset=to_filter[to_filter>0].index, inplace = True)"
   ]
  },
  {
   "cell_type": "code",
   "execution_count": 42,
   "id": "ebe6121e-fda3-4da3-872b-bb15e82fe378",
   "metadata": {
    "tags": []
   },
   "outputs": [
    {
     "data": {
      "text/plain": [
       "amort                2\n",
       "material_exp         2\n",
       "personnel_exp        2\n",
       "founded_year        31\n",
       "ceo_count           31\n",
       "foreign             31\n",
       "female              31\n",
       "inoffice_days       31\n",
       "gender              31\n",
       "origin              31\n",
       "region_m             2\n",
       "age                 31\n",
       "material_exp_pl      2\n",
       "personnel_exp_pl     2\n",
       "dtype: int64"
      ]
     },
     "execution_count": 42,
     "metadata": {},
     "output_type": "execute_result"
    }
   ],
   "source": [
    "to_filter=holdout_data.isna().sum()\n",
    "to_filter[to_filter>0]"
   ]
  },
  {
   "cell_type": "code",
   "execution_count": 43,
   "id": "a24df480-586b-40b5-a425-a425107454cb",
   "metadata": {
    "tags": []
   },
   "outputs": [
    {
     "data": {
      "text/plain": [
       "count        955.000\n",
       "mean      461643.749\n",
       "std      1146901.911\n",
       "min         1000.000\n",
       "25%        21851.852\n",
       "50%        72066.664\n",
       "75%       289164.828\n",
       "max      9811389.000\n",
       "Name: sales, dtype: float64"
      ]
     },
     "execution_count": 43,
     "metadata": {},
     "output_type": "execute_result"
    }
   ],
   "source": [
    "# Let's check how much the sales and default figures have changed due to dropping the NA values\n",
    "\n",
    "round(data1.sales.describe(), 3)"
   ]
  },
  {
   "cell_type": "code",
   "execution_count": 44,
   "id": "ee082fbb-2487-4787-be5d-38eea106e99f",
   "metadata": {
    "tags": []
   },
   "outputs": [
    {
     "data": {
      "text/plain": [
       "count      18508.000\n",
       "mean      254143.352\n",
       "std       793106.390\n",
       "min         1000.000\n",
       "25%        17877.777\n",
       "50%        51572.223\n",
       "75%       159723.145\n",
       "max      9963926.000\n",
       "Name: sales, dtype: float64"
      ]
     },
     "execution_count": 44,
     "metadata": {},
     "output_type": "execute_result"
    }
   ],
   "source": [
    "round(data2.sales.describe(), 3)"
   ]
  },
  {
   "cell_type": "code",
   "execution_count": 45,
   "id": "58da6413-c1a5-4735-917b-54a371b28e51",
   "metadata": {
    "tags": []
   },
   "outputs": [
    {
     "data": {
      "text/plain": [
       "count       849.000\n",
       "mean     138906.431\n",
       "std      196094.571\n",
       "min        1000.000\n",
       "25%       18988.889\n",
       "50%       51481.480\n",
       "75%      167270.375\n",
       "max      986803.688\n",
       "Name: sales, dtype: float64"
      ]
     },
     "execution_count": 45,
     "metadata": {},
     "output_type": "execute_result"
    }
   ],
   "source": [
    "round(data3.sales.describe(), 3)"
   ]
  },
  {
   "cell_type": "code",
   "execution_count": 46,
   "id": "e9cadd80-5d65-43a8-9d71-799668a96f26",
   "metadata": {
    "tags": []
   },
   "outputs": [
    {
     "data": {
      "text/plain": [
       "default\n",
       "0    909\n",
       "1     46\n",
       "Name: count, dtype: int64"
      ]
     },
     "execution_count": 46,
     "metadata": {},
     "output_type": "execute_result"
    }
   ],
   "source": [
    "data1.default.value_counts()"
   ]
  },
  {
   "cell_type": "code",
   "execution_count": 47,
   "id": "015c2dc5-a21b-4961-840a-52ace7f40156",
   "metadata": {
    "tags": []
   },
   "outputs": [
    {
     "data": {
      "text/plain": [
       "default\n",
       "0    16659\n",
       "1     1849\n",
       "Name: count, dtype: int64"
      ]
     },
     "execution_count": 47,
     "metadata": {},
     "output_type": "execute_result"
    }
   ],
   "source": [
    "data2.default.value_counts()"
   ]
  },
  {
   "cell_type": "code",
   "execution_count": 48,
   "id": "4421ff88-3a04-4920-9a20-a731b6b2a97c",
   "metadata": {
    "tags": []
   },
   "outputs": [
    {
     "data": {
      "text/plain": [
       "default\n",
       "0    805\n",
       "1     44\n",
       "Name: count, dtype: int64"
      ]
     },
     "execution_count": 48,
     "metadata": {},
     "output_type": "execute_result"
    }
   ],
   "source": [
    "data3.default.value_counts()"
   ]
  },
  {
   "cell_type": "markdown",
   "id": "b38b8aff-8fb2-445a-b8fa-593eb3934ff0",
   "metadata": {},
   "source": [
    "No major change to sales and default ratios."
   ]
  },
  {
   "cell_type": "code",
   "execution_count": 49,
   "id": "01beb27c-2e1e-4196-bd39-eaa2aac24b47",
   "metadata": {
    "tags": []
   },
   "outputs": [],
   "source": [
    "# defining functions to impute\n",
    "\n",
    "def impute_num(data, column):\n",
    "    data[\"flag_\"+ column] = (data[column].isna()).astype(int)\n",
    "    data[column] = np.where (\n",
    "        data[column].isna(), data[column].mean(), data[column]\n",
    "    )\n",
    "    \n",
    "\n",
    "def impute_cat(data, column):\n",
    "    data[\"flag_\"+ column] = (data[column].isna()).astype(int)  \n",
    "    data[column] = np.where (\n",
    "        data[column].isna(), data[column].mode(), data[column]\n",
    "    )\n",
    "    \n",
    "impute_num_list = [\"amort\", \"material_exp\", \"personnel_exp\", \"founded_year\", \"ceo_count\", \"foreign\", \"female\", \"inoffice_days\", \"age\"]\n",
    "impute_cat_list = [\"gender\", \"origin\", \"region_m\"]"
   ]
  },
  {
   "cell_type": "markdown",
   "id": "c16a4eed-d13f-448a-a00d-e3269037cb3b",
   "metadata": {},
   "source": [
    "The datasets will be created in the following way: the holdout set and the different training sets will be merged pairwise. Later for the anaylses, we will be able to separate them based on their indexing. All NaN values can be replaced with 0, as there were no imputations in data1, data2 and data3."
   ]
  },
  {
   "cell_type": "code",
   "execution_count": 50,
   "id": "7492b4c2-d8a0-4a98-8fce-63f71237bf58",
   "metadata": {
    "tags": []
   },
   "outputs": [
    {
     "data": {
      "text/html": [
       "<div>\n",
       "<style scoped>\n",
       "    .dataframe tbody tr th:only-of-type {\n",
       "        vertical-align: middle;\n",
       "    }\n",
       "\n",
       "    .dataframe tbody tr th {\n",
       "        vertical-align: top;\n",
       "    }\n",
       "\n",
       "    .dataframe thead th {\n",
       "        text-align: right;\n",
       "    }\n",
       "</style>\n",
       "<table border=\"1\" class=\"dataframe\">\n",
       "  <thead>\n",
       "    <tr style=\"text-align: right;\">\n",
       "      <th></th>\n",
       "      <th>year</th>\n",
       "      <th>comp_id</th>\n",
       "      <th>begin</th>\n",
       "      <th>end</th>\n",
       "      <th>amort</th>\n",
       "      <th>curr_assets</th>\n",
       "      <th>curr_liab</th>\n",
       "      <th>extra_exp</th>\n",
       "      <th>extra_inc</th>\n",
       "      <th>extra_profit_loss</th>\n",
       "      <th>...</th>\n",
       "      <th>fixed_assets_bs</th>\n",
       "      <th>liq_assets_bs</th>\n",
       "      <th>curr_assets_bs</th>\n",
       "      <th>share_eq_bs</th>\n",
       "      <th>subscribed_cap_bs</th>\n",
       "      <th>tang_assets_bs</th>\n",
       "      <th>labor_avg_mod</th>\n",
       "      <th>flag_miss_labor_avg</th>\n",
       "      <th>birth_year_mod</th>\n",
       "      <th>flag_miss_birth_year</th>\n",
       "    </tr>\n",
       "  </thead>\n",
       "  <tbody>\n",
       "    <tr>\n",
       "      <th>371478</th>\n",
       "      <td>2013</td>\n",
       "      <td>8.416055e+06</td>\n",
       "      <td>2013-01-01</td>\n",
       "      <td>2013-12-31</td>\n",
       "      <td>266.666656</td>\n",
       "      <td>106448.148438</td>\n",
       "      <td>4674.074219</td>\n",
       "      <td>0.000000</td>\n",
       "      <td>0.0</td>\n",
       "      <td>0.000000</td>\n",
       "      <td>...</td>\n",
       "      <td>0.068816</td>\n",
       "      <td>0.755030</td>\n",
       "      <td>0.931184</td>\n",
       "      <td>0.964490</td>\n",
       "      <td>0.097197</td>\n",
       "      <td>0.068816</td>\n",
       "      <td>0.083333</td>\n",
       "      <td>0</td>\n",
       "      <td>1960.0</td>\n",
       "      <td>0</td>\n",
       "    </tr>\n",
       "    <tr>\n",
       "      <th>371577</th>\n",
       "      <td>2013</td>\n",
       "      <td>1.777654e+07</td>\n",
       "      <td>2013-01-01</td>\n",
       "      <td>2013-12-31</td>\n",
       "      <td>34155.554688</td>\n",
       "      <td>61011.109375</td>\n",
       "      <td>79103.703125</td>\n",
       "      <td>0.000000</td>\n",
       "      <td>0.0</td>\n",
       "      <td>0.000000</td>\n",
       "      <td>...</td>\n",
       "      <td>0.662866</td>\n",
       "      <td>0.027037</td>\n",
       "      <td>0.225509</td>\n",
       "      <td>0.516961</td>\n",
       "      <td>0.177965</td>\n",
       "      <td>0.551240</td>\n",
       "      <td>0.180556</td>\n",
       "      <td>0</td>\n",
       "      <td>1970.5</td>\n",
       "      <td>0</td>\n",
       "    </tr>\n",
       "    <tr>\n",
       "      <th>371582</th>\n",
       "      <td>2013</td>\n",
       "      <td>1.862676e+07</td>\n",
       "      <td>2013-01-01</td>\n",
       "      <td>2013-12-31</td>\n",
       "      <td>1518.518555</td>\n",
       "      <td>101422.218750</td>\n",
       "      <td>38200.000000</td>\n",
       "      <td>951.851868</td>\n",
       "      <td>0.0</td>\n",
       "      <td>-951.851868</td>\n",
       "      <td>...</td>\n",
       "      <td>0.037029</td>\n",
       "      <td>0.320568</td>\n",
       "      <td>0.962971</td>\n",
       "      <td>0.625734</td>\n",
       "      <td>0.017583</td>\n",
       "      <td>0.037029</td>\n",
       "      <td>0.152778</td>\n",
       "      <td>0</td>\n",
       "      <td>1978.0</td>\n",
       "      <td>0</td>\n",
       "    </tr>\n",
       "    <tr>\n",
       "      <th>371697</th>\n",
       "      <td>2013</td>\n",
       "      <td>3.447888e+07</td>\n",
       "      <td>2013-01-01</td>\n",
       "      <td>2013-12-31</td>\n",
       "      <td>333.333344</td>\n",
       "      <td>3940.740723</td>\n",
       "      <td>3129.629639</td>\n",
       "      <td>0.000000</td>\n",
       "      <td>0.0</td>\n",
       "      <td>0.000000</td>\n",
       "      <td>...</td>\n",
       "      <td>0.371984</td>\n",
       "      <td>0.053561</td>\n",
       "      <td>0.626251</td>\n",
       "      <td>0.520895</td>\n",
       "      <td>0.294291</td>\n",
       "      <td>0.370218</td>\n",
       "      <td>0.083333</td>\n",
       "      <td>0</td>\n",
       "      <td>1956.0</td>\n",
       "      <td>0</td>\n",
       "    </tr>\n",
       "    <tr>\n",
       "      <th>371709</th>\n",
       "      <td>2013</td>\n",
       "      <td>3.648780e+07</td>\n",
       "      <td>2013-01-01</td>\n",
       "      <td>2013-12-31</td>\n",
       "      <td>351.851837</td>\n",
       "      <td>5837.037109</td>\n",
       "      <td>2129.629639</td>\n",
       "      <td>0.000000</td>\n",
       "      <td>0.0</td>\n",
       "      <td>0.000000</td>\n",
       "      <td>...</td>\n",
       "      <td>0.000000</td>\n",
       "      <td>0.607868</td>\n",
       "      <td>1.000000</td>\n",
       "      <td>0.579315</td>\n",
       "      <td>0.317259</td>\n",
       "      <td>0.000000</td>\n",
       "      <td>1.009435</td>\n",
       "      <td>1</td>\n",
       "      <td>1979.0</td>\n",
       "      <td>0</td>\n",
       "    </tr>\n",
       "    <tr>\n",
       "      <th>...</th>\n",
       "      <td>...</td>\n",
       "      <td>...</td>\n",
       "      <td>...</td>\n",
       "      <td>...</td>\n",
       "      <td>...</td>\n",
       "      <td>...</td>\n",
       "      <td>...</td>\n",
       "      <td>...</td>\n",
       "      <td>...</td>\n",
       "      <td>...</td>\n",
       "      <td>...</td>\n",
       "      <td>...</td>\n",
       "      <td>...</td>\n",
       "      <td>...</td>\n",
       "      <td>...</td>\n",
       "      <td>...</td>\n",
       "      <td>...</td>\n",
       "      <td>...</td>\n",
       "      <td>...</td>\n",
       "      <td>...</td>\n",
       "      <td>...</td>\n",
       "    </tr>\n",
       "    <tr>\n",
       "      <th>463875</th>\n",
       "      <td>2014</td>\n",
       "      <td>4.593723e+11</td>\n",
       "      <td>2014-01-01</td>\n",
       "      <td>2014-12-31</td>\n",
       "      <td>0.000000</td>\n",
       "      <td>40740.742188</td>\n",
       "      <td>559.259277</td>\n",
       "      <td>0.000000</td>\n",
       "      <td>0.0</td>\n",
       "      <td>0.000000</td>\n",
       "      <td>...</td>\n",
       "      <td>0.000000</td>\n",
       "      <td>0.943727</td>\n",
       "      <td>1.000000</td>\n",
       "      <td>0.986273</td>\n",
       "      <td>0.023000</td>\n",
       "      <td>0.000000</td>\n",
       "      <td>0.083333</td>\n",
       "      <td>0</td>\n",
       "      <td>1975.0</td>\n",
       "      <td>0</td>\n",
       "    </tr>\n",
       "    <tr>\n",
       "      <th>463965</th>\n",
       "      <td>2014</td>\n",
       "      <td>4.610112e+11</td>\n",
       "      <td>2014-01-01</td>\n",
       "      <td>2014-12-31</td>\n",
       "      <td>429.629639</td>\n",
       "      <td>58781.480469</td>\n",
       "      <td>2651.851807</td>\n",
       "      <td>0.000000</td>\n",
       "      <td>0.0</td>\n",
       "      <td>0.000000</td>\n",
       "      <td>...</td>\n",
       "      <td>0.055866</td>\n",
       "      <td>0.637822</td>\n",
       "      <td>0.943243</td>\n",
       "      <td>0.957387</td>\n",
       "      <td>0.178296</td>\n",
       "      <td>0.054974</td>\n",
       "      <td>0.166667</td>\n",
       "      <td>0</td>\n",
       "      <td>1959.0</td>\n",
       "      <td>0</td>\n",
       "    </tr>\n",
       "    <tr>\n",
       "      <th>464018</th>\n",
       "      <td>2014</td>\n",
       "      <td>4.620594e+11</td>\n",
       "      <td>2014-01-01</td>\n",
       "      <td>2014-12-31</td>\n",
       "      <td>1111.111084</td>\n",
       "      <td>68274.070312</td>\n",
       "      <td>16211.111328</td>\n",
       "      <td>0.000000</td>\n",
       "      <td>0.0</td>\n",
       "      <td>0.000000</td>\n",
       "      <td>...</td>\n",
       "      <td>0.011635</td>\n",
       "      <td>0.024288</td>\n",
       "      <td>0.988365</td>\n",
       "      <td>0.765321</td>\n",
       "      <td>0.160849</td>\n",
       "      <td>0.011635</td>\n",
       "      <td>0.250000</td>\n",
       "      <td>0</td>\n",
       "      <td>1953.0</td>\n",
       "      <td>0</td>\n",
       "    </tr>\n",
       "    <tr>\n",
       "      <th>464032</th>\n",
       "      <td>2014</td>\n",
       "      <td>4.623300e+11</td>\n",
       "      <td>2014-01-01</td>\n",
       "      <td>2014-12-31</td>\n",
       "      <td>0.000000</td>\n",
       "      <td>17192.591797</td>\n",
       "      <td>7325.925781</td>\n",
       "      <td>0.000000</td>\n",
       "      <td>0.0</td>\n",
       "      <td>0.000000</td>\n",
       "      <td>...</td>\n",
       "      <td>0.375656</td>\n",
       "      <td>0.368796</td>\n",
       "      <td>0.624344</td>\n",
       "      <td>0.654472</td>\n",
       "      <td>0.672495</td>\n",
       "      <td>0.375656</td>\n",
       "      <td>0.166667</td>\n",
       "      <td>0</td>\n",
       "      <td>1961.5</td>\n",
       "      <td>0</td>\n",
       "    </tr>\n",
       "    <tr>\n",
       "      <th>464055</th>\n",
       "      <td>2014</td>\n",
       "      <td>4.628231e+11</td>\n",
       "      <td>2014-01-01</td>\n",
       "      <td>2014-12-31</td>\n",
       "      <td>2581.481445</td>\n",
       "      <td>70059.257812</td>\n",
       "      <td>74911.109375</td>\n",
       "      <td>0.000000</td>\n",
       "      <td>0.0</td>\n",
       "      <td>0.000000</td>\n",
       "      <td>...</td>\n",
       "      <td>0.102188</td>\n",
       "      <td>0.288101</td>\n",
       "      <td>0.897812</td>\n",
       "      <td>0.040011</td>\n",
       "      <td>0.023732</td>\n",
       "      <td>0.102188</td>\n",
       "      <td>0.486111</td>\n",
       "      <td>0</td>\n",
       "      <td>1984.0</td>\n",
       "      <td>0</td>\n",
       "    </tr>\n",
       "  </tbody>\n",
       "</table>\n",
       "<p>1992 rows × 63 columns</p>\n",
       "</div>"
      ],
      "text/plain": [
       "        year       comp_id       begin         end         amort  \\\n",
       "371478  2013  8.416055e+06  2013-01-01  2013-12-31    266.666656   \n",
       "371577  2013  1.777654e+07  2013-01-01  2013-12-31  34155.554688   \n",
       "371582  2013  1.862676e+07  2013-01-01  2013-12-31   1518.518555   \n",
       "371697  2013  3.447888e+07  2013-01-01  2013-12-31    333.333344   \n",
       "371709  2013  3.648780e+07  2013-01-01  2013-12-31    351.851837   \n",
       "...      ...           ...         ...         ...           ...   \n",
       "463875  2014  4.593723e+11  2014-01-01  2014-12-31      0.000000   \n",
       "463965  2014  4.610112e+11  2014-01-01  2014-12-31    429.629639   \n",
       "464018  2014  4.620594e+11  2014-01-01  2014-12-31   1111.111084   \n",
       "464032  2014  4.623300e+11  2014-01-01  2014-12-31      0.000000   \n",
       "464055  2014  4.628231e+11  2014-01-01  2014-12-31   2581.481445   \n",
       "\n",
       "          curr_assets     curr_liab   extra_exp  extra_inc  extra_profit_loss  \\\n",
       "371478  106448.148438   4674.074219    0.000000        0.0           0.000000   \n",
       "371577   61011.109375  79103.703125    0.000000        0.0           0.000000   \n",
       "371582  101422.218750  38200.000000  951.851868        0.0        -951.851868   \n",
       "371697    3940.740723   3129.629639    0.000000        0.0           0.000000   \n",
       "371709    5837.037109   2129.629639    0.000000        0.0           0.000000   \n",
       "...               ...           ...         ...        ...                ...   \n",
       "463875   40740.742188    559.259277    0.000000        0.0           0.000000   \n",
       "463965   58781.480469   2651.851807    0.000000        0.0           0.000000   \n",
       "464018   68274.070312  16211.111328    0.000000        0.0           0.000000   \n",
       "464032   17192.591797   7325.925781    0.000000        0.0           0.000000   \n",
       "464055   70059.257812  74911.109375    0.000000        0.0           0.000000   \n",
       "\n",
       "        ...  fixed_assets_bs  liq_assets_bs  curr_assets_bs  share_eq_bs  \\\n",
       "371478  ...         0.068816       0.755030        0.931184     0.964490   \n",
       "371577  ...         0.662866       0.027037        0.225509     0.516961   \n",
       "371582  ...         0.037029       0.320568        0.962971     0.625734   \n",
       "371697  ...         0.371984       0.053561        0.626251     0.520895   \n",
       "371709  ...         0.000000       0.607868        1.000000     0.579315   \n",
       "...     ...              ...            ...             ...          ...   \n",
       "463875  ...         0.000000       0.943727        1.000000     0.986273   \n",
       "463965  ...         0.055866       0.637822        0.943243     0.957387   \n",
       "464018  ...         0.011635       0.024288        0.988365     0.765321   \n",
       "464032  ...         0.375656       0.368796        0.624344     0.654472   \n",
       "464055  ...         0.102188       0.288101        0.897812     0.040011   \n",
       "\n",
       "        subscribed_cap_bs  tang_assets_bs  labor_avg_mod  flag_miss_labor_avg  \\\n",
       "371478           0.097197        0.068816       0.083333                    0   \n",
       "371577           0.177965        0.551240       0.180556                    0   \n",
       "371582           0.017583        0.037029       0.152778                    0   \n",
       "371697           0.294291        0.370218       0.083333                    0   \n",
       "371709           0.317259        0.000000       1.009435                    1   \n",
       "...                   ...             ...            ...                  ...   \n",
       "463875           0.023000        0.000000       0.083333                    0   \n",
       "463965           0.178296        0.054974       0.166667                    0   \n",
       "464018           0.160849        0.011635       0.250000                    0   \n",
       "464032           0.672495        0.375656       0.166667                    0   \n",
       "464055           0.023732        0.102188       0.486111                    0   \n",
       "\n",
       "        birth_year_mod  flag_miss_birth_year  \n",
       "371478          1960.0                     0  \n",
       "371577          1970.5                     0  \n",
       "371582          1978.0                     0  \n",
       "371697          1956.0                     0  \n",
       "371709          1979.0                     0  \n",
       "...                ...                   ...  \n",
       "463875          1975.0                     0  \n",
       "463965          1959.0                     0  \n",
       "464018          1953.0                     0  \n",
       "464032          1961.5                     0  \n",
       "464055          1984.0                     0  \n",
       "\n",
       "[1992 rows x 63 columns]"
      ]
     },
     "execution_count": 50,
     "metadata": {},
     "output_type": "execute_result"
    }
   ],
   "source": [
    "dataset1 = pd.concat([data1, holdout_data])\n",
    "dataset1"
   ]
  },
  {
   "cell_type": "code",
   "execution_count": 51,
   "id": "aae5c15e-75df-450d-bbb2-7947f7a1c85b",
   "metadata": {
    "tags": []
   },
   "outputs": [
    {
     "name": "stdout",
     "output_type": "stream",
     "text": [
      "<class 'pandas.core.frame.DataFrame'>\n",
      "Index: 1992 entries, 371478 to 464055\n",
      "Data columns (total 63 columns):\n",
      " #   Column                Non-Null Count  Dtype   \n",
      "---  ------                --------------  -----   \n",
      " 0   year                  1992 non-null   int64   \n",
      " 1   comp_id               1992 non-null   float64 \n",
      " 2   begin                 1992 non-null   object  \n",
      " 3   end                   1992 non-null   object  \n",
      " 4   amort                 1990 non-null   float64 \n",
      " 5   curr_assets           1992 non-null   float64 \n",
      " 6   curr_liab             1992 non-null   float64 \n",
      " 7   extra_exp             1992 non-null   float64 \n",
      " 8   extra_inc             1992 non-null   float64 \n",
      " 9   extra_profit_loss     1992 non-null   float64 \n",
      " 10  fixed_assets          1992 non-null   float64 \n",
      " 11  inc_bef_tax           1992 non-null   float64 \n",
      " 12  intang_assets         1992 non-null   float64 \n",
      " 13  inventories           1992 non-null   float64 \n",
      " 14  liq_assets            1992 non-null   float64 \n",
      " 15  material_exp          1990 non-null   float64 \n",
      " 16  personnel_exp         1990 non-null   float64 \n",
      " 17  profit_loss_year      1992 non-null   float64 \n",
      " 18  sales                 1992 non-null   float64 \n",
      " 19  share_eq              1992 non-null   float64 \n",
      " 20  subscribed_cap        1992 non-null   float64 \n",
      " 21  tang_assets           1992 non-null   float64 \n",
      " 22  balsheet_flag         1992 non-null   float64 \n",
      " 23  balsheet_length       1992 non-null   float64 \n",
      " 24  balsheet_notfullyear  1992 non-null   float64 \n",
      " 25  founded_year          1961 non-null   float64 \n",
      " 26  ceo_count             1961 non-null   float64 \n",
      " 27  foreign               1961 non-null   float64 \n",
      " 28  female                1961 non-null   float64 \n",
      " 29  inoffice_days         1961 non-null   float64 \n",
      " 30  gender                1961 non-null   category\n",
      " 31  origin                1961 non-null   category\n",
      " 32  nace_main             1992 non-null   category\n",
      " 33  ind2                  1992 non-null   category\n",
      " 34  ind                   1992 non-null   category\n",
      " 35  urban_m               1992 non-null   category\n",
      " 36  region_m              1990 non-null   category\n",
      " 37  founded_date          1992 non-null   object  \n",
      " 38  age                   1961 non-null   float64 \n",
      " 39  status_alive          1992 non-null   int32   \n",
      " 40  default               1992 non-null   int32   \n",
      " 41  flag_asset_problem    1992 non-null   float64 \n",
      " 42  total_assets_bs       1992 non-null   float64 \n",
      " 43  extra_exp_pl          1992 non-null   float64 \n",
      " 44  extra_inc_pl          1992 non-null   float64 \n",
      " 45  extra_profit_loss_pl  1992 non-null   float64 \n",
      " 46  inc_bef_tax_pl        1992 non-null   float64 \n",
      " 47  inventories_pl        1992 non-null   float64 \n",
      " 48  material_exp_pl       1990 non-null   float64 \n",
      " 49  profit_loss_year_pl   1992 non-null   float64 \n",
      " 50  personnel_exp_pl      1990 non-null   float64 \n",
      " 51  intang_assets_bs      1992 non-null   float64 \n",
      " 52  curr_liab_bs          1992 non-null   float64 \n",
      " 53  fixed_assets_bs       1992 non-null   float64 \n",
      " 54  liq_assets_bs         1992 non-null   float64 \n",
      " 55  curr_assets_bs        1992 non-null   float64 \n",
      " 56  share_eq_bs           1992 non-null   float64 \n",
      " 57  subscribed_cap_bs     1992 non-null   float64 \n",
      " 58  tang_assets_bs        1992 non-null   float64 \n",
      " 59  labor_avg_mod         1992 non-null   float64 \n",
      " 60  flag_miss_labor_avg   1992 non-null   int32   \n",
      " 61  birth_year_mod        1992 non-null   float64 \n",
      " 62  flag_miss_birth_year  1992 non-null   int32   \n",
      "dtypes: category(7), float64(48), int32(4), int64(1), object(3)\n",
      "memory usage: 885.2+ KB\n"
     ]
    }
   ],
   "source": [
    "dataset1.info()"
   ]
  },
  {
   "cell_type": "code",
   "execution_count": 52,
   "id": "6d72a4e8-ce3c-4ba5-ba2a-12e5045d8186",
   "metadata": {
    "tags": []
   },
   "outputs": [
    {
     "data": {
      "text/plain": [
       "material_exp_pl     2\n",
       "personnel_exp_pl    2\n",
       "dtype: int64"
      ]
     },
     "execution_count": 52,
     "metadata": {},
     "output_type": "execute_result"
    }
   ],
   "source": [
    "for col in impute_num_list:\n",
    "    impute_num(dataset1, col)\n",
    "\n",
    "for col in impute_cat_list:\n",
    "    impute_cat(dataset1, col)\n",
    "    \n",
    "to_filter=dataset1.isna().sum()\n",
    "to_filter[to_filter>0]"
   ]
  },
  {
   "cell_type": "code",
   "execution_count": 53,
   "id": "be65601c-cd02-4bc9-970f-9bf81b89dbd3",
   "metadata": {
    "tags": []
   },
   "outputs": [
    {
     "name": "stdout",
     "output_type": "stream",
     "text": [
      "<class 'pandas.core.frame.DataFrame'>\n",
      "Index: 1992 entries, 371478 to 464055\n",
      "Data columns (total 75 columns):\n",
      " #   Column                Non-Null Count  Dtype   \n",
      "---  ------                --------------  -----   \n",
      " 0   year                  1992 non-null   int64   \n",
      " 1   comp_id               1992 non-null   float64 \n",
      " 2   begin                 1992 non-null   object  \n",
      " 3   end                   1992 non-null   object  \n",
      " 4   amort                 1992 non-null   float64 \n",
      " 5   curr_assets           1992 non-null   float64 \n",
      " 6   curr_liab             1992 non-null   float64 \n",
      " 7   extra_exp             1992 non-null   float64 \n",
      " 8   extra_inc             1992 non-null   float64 \n",
      " 9   extra_profit_loss     1992 non-null   float64 \n",
      " 10  fixed_assets          1992 non-null   float64 \n",
      " 11  inc_bef_tax           1992 non-null   float64 \n",
      " 12  intang_assets         1992 non-null   float64 \n",
      " 13  inventories           1992 non-null   float64 \n",
      " 14  liq_assets            1992 non-null   float64 \n",
      " 15  material_exp          1992 non-null   float64 \n",
      " 16  personnel_exp         1992 non-null   float64 \n",
      " 17  profit_loss_year      1992 non-null   float64 \n",
      " 18  sales                 1992 non-null   float64 \n",
      " 19  share_eq              1992 non-null   float64 \n",
      " 20  subscribed_cap        1992 non-null   float64 \n",
      " 21  tang_assets           1992 non-null   float64 \n",
      " 22  balsheet_flag         1992 non-null   float64 \n",
      " 23  balsheet_length       1992 non-null   float64 \n",
      " 24  balsheet_notfullyear  1992 non-null   float64 \n",
      " 25  founded_year          1992 non-null   float64 \n",
      " 26  ceo_count             1992 non-null   float64 \n",
      " 27  foreign               1992 non-null   float64 \n",
      " 28  female                1992 non-null   float64 \n",
      " 29  inoffice_days         1992 non-null   float64 \n",
      " 30  gender                1992 non-null   object  \n",
      " 31  origin                1992 non-null   object  \n",
      " 32  nace_main             1992 non-null   category\n",
      " 33  ind2                  1992 non-null   category\n",
      " 34  ind                   1992 non-null   category\n",
      " 35  urban_m               1992 non-null   category\n",
      " 36  region_m              1992 non-null   object  \n",
      " 37  founded_date          1992 non-null   object  \n",
      " 38  age                   1992 non-null   float64 \n",
      " 39  status_alive          1992 non-null   int32   \n",
      " 40  default               1992 non-null   int32   \n",
      " 41  flag_asset_problem    1992 non-null   float64 \n",
      " 42  total_assets_bs       1992 non-null   float64 \n",
      " 43  extra_exp_pl          1992 non-null   float64 \n",
      " 44  extra_inc_pl          1992 non-null   float64 \n",
      " 45  extra_profit_loss_pl  1992 non-null   float64 \n",
      " 46  inc_bef_tax_pl        1992 non-null   float64 \n",
      " 47  inventories_pl        1992 non-null   float64 \n",
      " 48  material_exp_pl       1990 non-null   float64 \n",
      " 49  profit_loss_year_pl   1992 non-null   float64 \n",
      " 50  personnel_exp_pl      1990 non-null   float64 \n",
      " 51  intang_assets_bs      1992 non-null   float64 \n",
      " 52  curr_liab_bs          1992 non-null   float64 \n",
      " 53  fixed_assets_bs       1992 non-null   float64 \n",
      " 54  liq_assets_bs         1992 non-null   float64 \n",
      " 55  curr_assets_bs        1992 non-null   float64 \n",
      " 56  share_eq_bs           1992 non-null   float64 \n",
      " 57  subscribed_cap_bs     1992 non-null   float64 \n",
      " 58  tang_assets_bs        1992 non-null   float64 \n",
      " 59  labor_avg_mod         1992 non-null   float64 \n",
      " 60  flag_miss_labor_avg   1992 non-null   int32   \n",
      " 61  birth_year_mod        1992 non-null   float64 \n",
      " 62  flag_miss_birth_year  1992 non-null   int32   \n",
      " 63  flag_amort            1992 non-null   int32   \n",
      " 64  flag_material_exp     1992 non-null   int32   \n",
      " 65  flag_personnel_exp    1992 non-null   int32   \n",
      " 66  flag_founded_year     1992 non-null   int32   \n",
      " 67  flag_ceo_count        1992 non-null   int32   \n",
      " 68  flag_foreign          1992 non-null   int32   \n",
      " 69  flag_female           1992 non-null   int32   \n",
      " 70  flag_inoffice_days    1992 non-null   int32   \n",
      " 71  flag_age              1992 non-null   int32   \n",
      " 72  flag_gender           1992 non-null   int32   \n",
      " 73  flag_origin           1992 non-null   int32   \n",
      " 74  flag_region_m         1992 non-null   int32   \n",
      "dtypes: category(4), float64(48), int32(16), int64(1), object(6)\n",
      "memory usage: 1019.0+ KB\n"
     ]
    }
   ],
   "source": [
    "dataset1.info()"
   ]
  },
  {
   "cell_type": "code",
   "execution_count": 54,
   "id": "dc041372-d9b1-40cc-94e7-04b99aebdbe4",
   "metadata": {
    "tags": []
   },
   "outputs": [],
   "source": [
    "# recalculate missing values for _pl variables, and rename columns\n",
    "pl_names2 = [\"material_exp\", \"personnel_exp\"]\n",
    "dataset1[[col + \"_pl\" for col in pl_names2]] = dataset1[pl_names2].div(\n",
    "    dataset1[\"sales\"], axis=\"index\")"
   ]
  },
  {
   "cell_type": "code",
   "execution_count": 55,
   "id": "dedc2f2f-f9fb-4d5b-9740-7628ce2fa0b5",
   "metadata": {
    "tags": []
   },
   "outputs": [
    {
     "name": "stdout",
     "output_type": "stream",
     "text": [
      "<class 'pandas.core.frame.DataFrame'>\n",
      "Index: 1992 entries, 371478 to 464055\n",
      "Data columns (total 75 columns):\n",
      " #   Column                Non-Null Count  Dtype   \n",
      "---  ------                --------------  -----   \n",
      " 0   year                  1992 non-null   int64   \n",
      " 1   comp_id               1992 non-null   float64 \n",
      " 2   begin                 1992 non-null   object  \n",
      " 3   end                   1992 non-null   object  \n",
      " 4   amort                 1992 non-null   float64 \n",
      " 5   curr_assets           1992 non-null   float64 \n",
      " 6   curr_liab             1992 non-null   float64 \n",
      " 7   extra_exp             1992 non-null   float64 \n",
      " 8   extra_inc             1992 non-null   float64 \n",
      " 9   extra_profit_loss     1992 non-null   float64 \n",
      " 10  fixed_assets          1992 non-null   float64 \n",
      " 11  inc_bef_tax           1992 non-null   float64 \n",
      " 12  intang_assets         1992 non-null   float64 \n",
      " 13  inventories           1992 non-null   float64 \n",
      " 14  liq_assets            1992 non-null   float64 \n",
      " 15  material_exp          1992 non-null   float64 \n",
      " 16  personnel_exp         1992 non-null   float64 \n",
      " 17  profit_loss_year      1992 non-null   float64 \n",
      " 18  sales                 1992 non-null   float64 \n",
      " 19  share_eq              1992 non-null   float64 \n",
      " 20  subscribed_cap        1992 non-null   float64 \n",
      " 21  tang_assets           1992 non-null   float64 \n",
      " 22  balsheet_flag         1992 non-null   float64 \n",
      " 23  balsheet_length       1992 non-null   float64 \n",
      " 24  balsheet_notfullyear  1992 non-null   float64 \n",
      " 25  founded_year          1992 non-null   float64 \n",
      " 26  ceo_count             1992 non-null   float64 \n",
      " 27  foreign               1992 non-null   float64 \n",
      " 28  female                1992 non-null   float64 \n",
      " 29  inoffice_days         1992 non-null   float64 \n",
      " 30  gender                1992 non-null   object  \n",
      " 31  origin                1992 non-null   object  \n",
      " 32  nace_main             1992 non-null   category\n",
      " 33  ind2                  1992 non-null   category\n",
      " 34  ind                   1992 non-null   category\n",
      " 35  urban_m               1992 non-null   category\n",
      " 36  region_m              1992 non-null   object  \n",
      " 37  founded_date          1992 non-null   object  \n",
      " 38  age                   1992 non-null   float64 \n",
      " 39  status_alive          1992 non-null   int32   \n",
      " 40  default               1992 non-null   int32   \n",
      " 41  flag_asset_problem    1992 non-null   float64 \n",
      " 42  total_assets_bs       1992 non-null   float64 \n",
      " 43  extra_exp_pl          1992 non-null   float64 \n",
      " 44  extra_inc_pl          1992 non-null   float64 \n",
      " 45  extra_profit_loss_pl  1992 non-null   float64 \n",
      " 46  inc_bef_tax_pl        1992 non-null   float64 \n",
      " 47  inventories_pl        1992 non-null   float64 \n",
      " 48  material_exp_pl       1992 non-null   float64 \n",
      " 49  profit_loss_year_pl   1992 non-null   float64 \n",
      " 50  personnel_exp_pl      1992 non-null   float64 \n",
      " 51  intang_assets_bs      1992 non-null   float64 \n",
      " 52  curr_liab_bs          1992 non-null   float64 \n",
      " 53  fixed_assets_bs       1992 non-null   float64 \n",
      " 54  liq_assets_bs         1992 non-null   float64 \n",
      " 55  curr_assets_bs        1992 non-null   float64 \n",
      " 56  share_eq_bs           1992 non-null   float64 \n",
      " 57  subscribed_cap_bs     1992 non-null   float64 \n",
      " 58  tang_assets_bs        1992 non-null   float64 \n",
      " 59  labor_avg_mod         1992 non-null   float64 \n",
      " 60  flag_miss_labor_avg   1992 non-null   int32   \n",
      " 61  birth_year_mod        1992 non-null   float64 \n",
      " 62  flag_miss_birth_year  1992 non-null   int32   \n",
      " 63  flag_amort            1992 non-null   int32   \n",
      " 64  flag_material_exp     1992 non-null   int32   \n",
      " 65  flag_personnel_exp    1992 non-null   int32   \n",
      " 66  flag_founded_year     1992 non-null   int32   \n",
      " 67  flag_ceo_count        1992 non-null   int32   \n",
      " 68  flag_foreign          1992 non-null   int32   \n",
      " 69  flag_female           1992 non-null   int32   \n",
      " 70  flag_inoffice_days    1992 non-null   int32   \n",
      " 71  flag_age              1992 non-null   int32   \n",
      " 72  flag_gender           1992 non-null   int32   \n",
      " 73  flag_origin           1992 non-null   int32   \n",
      " 74  flag_region_m         1992 non-null   int32   \n",
      "dtypes: category(4), float64(48), int32(16), int64(1), object(6)\n",
      "memory usage: 1019.0+ KB\n"
     ]
    }
   ],
   "source": [
    "dataset1.info()"
   ]
  },
  {
   "cell_type": "code",
   "execution_count": 56,
   "id": "052cfbbf-6224-4e41-ade2-18ed648082b3",
   "metadata": {
    "tags": []
   },
   "outputs": [
    {
     "data": {
      "text/html": [
       "<div>\n",
       "<style scoped>\n",
       "    .dataframe tbody tr th:only-of-type {\n",
       "        vertical-align: middle;\n",
       "    }\n",
       "\n",
       "    .dataframe tbody tr th {\n",
       "        vertical-align: top;\n",
       "    }\n",
       "\n",
       "    .dataframe thead th {\n",
       "        text-align: right;\n",
       "    }\n",
       "</style>\n",
       "<table border=\"1\" class=\"dataframe\">\n",
       "  <thead>\n",
       "    <tr style=\"text-align: right;\">\n",
       "      <th></th>\n",
       "      <th>year</th>\n",
       "      <th>comp_id</th>\n",
       "      <th>begin</th>\n",
       "      <th>end</th>\n",
       "      <th>amort</th>\n",
       "      <th>curr_assets</th>\n",
       "      <th>curr_liab</th>\n",
       "      <th>extra_exp</th>\n",
       "      <th>extra_inc</th>\n",
       "      <th>extra_profit_loss</th>\n",
       "      <th>...</th>\n",
       "      <th>fixed_assets_bs</th>\n",
       "      <th>liq_assets_bs</th>\n",
       "      <th>curr_assets_bs</th>\n",
       "      <th>share_eq_bs</th>\n",
       "      <th>subscribed_cap_bs</th>\n",
       "      <th>tang_assets_bs</th>\n",
       "      <th>labor_avg_mod</th>\n",
       "      <th>flag_miss_labor_avg</th>\n",
       "      <th>birth_year_mod</th>\n",
       "      <th>flag_miss_birth_year</th>\n",
       "    </tr>\n",
       "  </thead>\n",
       "  <tbody>\n",
       "    <tr>\n",
       "      <th>417709</th>\n",
       "      <td>2014</td>\n",
       "      <td>1.001541e+06</td>\n",
       "      <td>2014-01-01</td>\n",
       "      <td>2014-12-31</td>\n",
       "      <td>2292.592529</td>\n",
       "      <td>6500.000000</td>\n",
       "      <td>296.296295</td>\n",
       "      <td>0.0</td>\n",
       "      <td>0.0</td>\n",
       "      <td>0.0</td>\n",
       "      <td>...</td>\n",
       "      <td>0.966231</td>\n",
       "      <td>0.030729</td>\n",
       "      <td>0.033769</td>\n",
       "      <td>0.998461</td>\n",
       "      <td>1.042909</td>\n",
       "      <td>0.966231</td>\n",
       "      <td>1.009435</td>\n",
       "      <td>1</td>\n",
       "      <td>1962.5</td>\n",
       "      <td>0</td>\n",
       "    </tr>\n",
       "    <tr>\n",
       "      <th>417710</th>\n",
       "      <td>2014</td>\n",
       "      <td>1.002029e+06</td>\n",
       "      <td>2014-01-01</td>\n",
       "      <td>2014-12-31</td>\n",
       "      <td>17918.517578</td>\n",
       "      <td>183677.781250</td>\n",
       "      <td>59433.332031</td>\n",
       "      <td>0.0</td>\n",
       "      <td>0.0</td>\n",
       "      <td>0.0</td>\n",
       "      <td>...</td>\n",
       "      <td>0.226644</td>\n",
       "      <td>0.047858</td>\n",
       "      <td>0.773356</td>\n",
       "      <td>0.595256</td>\n",
       "      <td>0.046782</td>\n",
       "      <td>0.226644</td>\n",
       "      <td>0.305556</td>\n",
       "      <td>0</td>\n",
       "      <td>1979.0</td>\n",
       "      <td>0</td>\n",
       "    </tr>\n",
       "    <tr>\n",
       "      <th>417715</th>\n",
       "      <td>2014</td>\n",
       "      <td>1.011889e+06</td>\n",
       "      <td>2014-01-01</td>\n",
       "      <td>2014-12-31</td>\n",
       "      <td>46214.816406</td>\n",
       "      <td>281681.468750</td>\n",
       "      <td>9622.222656</td>\n",
       "      <td>0.0</td>\n",
       "      <td>0.0</td>\n",
       "      <td>0.0</td>\n",
       "      <td>...</td>\n",
       "      <td>0.774744</td>\n",
       "      <td>0.196807</td>\n",
       "      <td>0.224612</td>\n",
       "      <td>0.988842</td>\n",
       "      <td>0.013940</td>\n",
       "      <td>0.774100</td>\n",
       "      <td>1.465278</td>\n",
       "      <td>0</td>\n",
       "      <td>1946.0</td>\n",
       "      <td>0</td>\n",
       "    </tr>\n",
       "    <tr>\n",
       "      <th>417716</th>\n",
       "      <td>2014</td>\n",
       "      <td>1.014183e+06</td>\n",
       "      <td>2014-01-01</td>\n",
       "      <td>2014-12-31</td>\n",
       "      <td>6403.703613</td>\n",
       "      <td>217033.328125</td>\n",
       "      <td>6362.962891</td>\n",
       "      <td>0.0</td>\n",
       "      <td>0.0</td>\n",
       "      <td>0.0</td>\n",
       "      <td>...</td>\n",
       "      <td>0.332258</td>\n",
       "      <td>0.138895</td>\n",
       "      <td>0.667742</td>\n",
       "      <td>0.980514</td>\n",
       "      <td>0.034185</td>\n",
       "      <td>0.332258</td>\n",
       "      <td>0.847222</td>\n",
       "      <td>0</td>\n",
       "      <td>1946.0</td>\n",
       "      <td>0</td>\n",
       "    </tr>\n",
       "    <tr>\n",
       "      <th>417717</th>\n",
       "      <td>2014</td>\n",
       "      <td>1.018301e+06</td>\n",
       "      <td>2014-01-01</td>\n",
       "      <td>2014-12-31</td>\n",
       "      <td>0.000000</td>\n",
       "      <td>1759.259277</td>\n",
       "      <td>1544.444458</td>\n",
       "      <td>0.0</td>\n",
       "      <td>0.0</td>\n",
       "      <td>0.0</td>\n",
       "      <td>...</td>\n",
       "      <td>0.965578</td>\n",
       "      <td>0.009573</td>\n",
       "      <td>0.032249</td>\n",
       "      <td>0.188743</td>\n",
       "      <td>0.203680</td>\n",
       "      <td>0.963406</td>\n",
       "      <td>0.166667</td>\n",
       "      <td>0</td>\n",
       "      <td>1960.0</td>\n",
       "      <td>0</td>\n",
       "    </tr>\n",
       "    <tr>\n",
       "      <th>...</th>\n",
       "      <td>...</td>\n",
       "      <td>...</td>\n",
       "      <td>...</td>\n",
       "      <td>...</td>\n",
       "      <td>...</td>\n",
       "      <td>...</td>\n",
       "      <td>...</td>\n",
       "      <td>...</td>\n",
       "      <td>...</td>\n",
       "      <td>...</td>\n",
       "      <td>...</td>\n",
       "      <td>...</td>\n",
       "      <td>...</td>\n",
       "      <td>...</td>\n",
       "      <td>...</td>\n",
       "      <td>...</td>\n",
       "      <td>...</td>\n",
       "      <td>...</td>\n",
       "      <td>...</td>\n",
       "      <td>...</td>\n",
       "      <td>...</td>\n",
       "    </tr>\n",
       "    <tr>\n",
       "      <th>463875</th>\n",
       "      <td>2014</td>\n",
       "      <td>4.593723e+11</td>\n",
       "      <td>2014-01-01</td>\n",
       "      <td>2014-12-31</td>\n",
       "      <td>0.000000</td>\n",
       "      <td>40740.742188</td>\n",
       "      <td>559.259277</td>\n",
       "      <td>0.0</td>\n",
       "      <td>0.0</td>\n",
       "      <td>0.0</td>\n",
       "      <td>...</td>\n",
       "      <td>0.000000</td>\n",
       "      <td>0.943727</td>\n",
       "      <td>1.000000</td>\n",
       "      <td>0.986273</td>\n",
       "      <td>0.023000</td>\n",
       "      <td>0.000000</td>\n",
       "      <td>0.083333</td>\n",
       "      <td>0</td>\n",
       "      <td>1975.0</td>\n",
       "      <td>0</td>\n",
       "    </tr>\n",
       "    <tr>\n",
       "      <th>463965</th>\n",
       "      <td>2014</td>\n",
       "      <td>4.610112e+11</td>\n",
       "      <td>2014-01-01</td>\n",
       "      <td>2014-12-31</td>\n",
       "      <td>429.629639</td>\n",
       "      <td>58781.480469</td>\n",
       "      <td>2651.851807</td>\n",
       "      <td>0.0</td>\n",
       "      <td>0.0</td>\n",
       "      <td>0.0</td>\n",
       "      <td>...</td>\n",
       "      <td>0.055866</td>\n",
       "      <td>0.637822</td>\n",
       "      <td>0.943243</td>\n",
       "      <td>0.957387</td>\n",
       "      <td>0.178296</td>\n",
       "      <td>0.054974</td>\n",
       "      <td>0.166667</td>\n",
       "      <td>0</td>\n",
       "      <td>1959.0</td>\n",
       "      <td>0</td>\n",
       "    </tr>\n",
       "    <tr>\n",
       "      <th>464018</th>\n",
       "      <td>2014</td>\n",
       "      <td>4.620594e+11</td>\n",
       "      <td>2014-01-01</td>\n",
       "      <td>2014-12-31</td>\n",
       "      <td>1111.111084</td>\n",
       "      <td>68274.070312</td>\n",
       "      <td>16211.111328</td>\n",
       "      <td>0.0</td>\n",
       "      <td>0.0</td>\n",
       "      <td>0.0</td>\n",
       "      <td>...</td>\n",
       "      <td>0.011635</td>\n",
       "      <td>0.024288</td>\n",
       "      <td>0.988365</td>\n",
       "      <td>0.765321</td>\n",
       "      <td>0.160849</td>\n",
       "      <td>0.011635</td>\n",
       "      <td>0.250000</td>\n",
       "      <td>0</td>\n",
       "      <td>1953.0</td>\n",
       "      <td>0</td>\n",
       "    </tr>\n",
       "    <tr>\n",
       "      <th>464032</th>\n",
       "      <td>2014</td>\n",
       "      <td>4.623300e+11</td>\n",
       "      <td>2014-01-01</td>\n",
       "      <td>2014-12-31</td>\n",
       "      <td>0.000000</td>\n",
       "      <td>17192.591797</td>\n",
       "      <td>7325.925781</td>\n",
       "      <td>0.0</td>\n",
       "      <td>0.0</td>\n",
       "      <td>0.0</td>\n",
       "      <td>...</td>\n",
       "      <td>0.375656</td>\n",
       "      <td>0.368796</td>\n",
       "      <td>0.624344</td>\n",
       "      <td>0.654472</td>\n",
       "      <td>0.672495</td>\n",
       "      <td>0.375656</td>\n",
       "      <td>0.166667</td>\n",
       "      <td>0</td>\n",
       "      <td>1961.5</td>\n",
       "      <td>0</td>\n",
       "    </tr>\n",
       "    <tr>\n",
       "      <th>464055</th>\n",
       "      <td>2014</td>\n",
       "      <td>4.628231e+11</td>\n",
       "      <td>2014-01-01</td>\n",
       "      <td>2014-12-31</td>\n",
       "      <td>2581.481445</td>\n",
       "      <td>70059.257812</td>\n",
       "      <td>74911.109375</td>\n",
       "      <td>0.0</td>\n",
       "      <td>0.0</td>\n",
       "      <td>0.0</td>\n",
       "      <td>...</td>\n",
       "      <td>0.102188</td>\n",
       "      <td>0.288101</td>\n",
       "      <td>0.897812</td>\n",
       "      <td>0.040011</td>\n",
       "      <td>0.023732</td>\n",
       "      <td>0.102188</td>\n",
       "      <td>0.486111</td>\n",
       "      <td>0</td>\n",
       "      <td>1984.0</td>\n",
       "      <td>0</td>\n",
       "    </tr>\n",
       "  </tbody>\n",
       "</table>\n",
       "<p>19545 rows × 63 columns</p>\n",
       "</div>"
      ],
      "text/plain": [
       "        year       comp_id       begin         end         amort  \\\n",
       "417709  2014  1.001541e+06  2014-01-01  2014-12-31   2292.592529   \n",
       "417710  2014  1.002029e+06  2014-01-01  2014-12-31  17918.517578   \n",
       "417715  2014  1.011889e+06  2014-01-01  2014-12-31  46214.816406   \n",
       "417716  2014  1.014183e+06  2014-01-01  2014-12-31   6403.703613   \n",
       "417717  2014  1.018301e+06  2014-01-01  2014-12-31      0.000000   \n",
       "...      ...           ...         ...         ...           ...   \n",
       "463875  2014  4.593723e+11  2014-01-01  2014-12-31      0.000000   \n",
       "463965  2014  4.610112e+11  2014-01-01  2014-12-31    429.629639   \n",
       "464018  2014  4.620594e+11  2014-01-01  2014-12-31   1111.111084   \n",
       "464032  2014  4.623300e+11  2014-01-01  2014-12-31      0.000000   \n",
       "464055  2014  4.628231e+11  2014-01-01  2014-12-31   2581.481445   \n",
       "\n",
       "          curr_assets     curr_liab  extra_exp  extra_inc  extra_profit_loss  \\\n",
       "417709    6500.000000    296.296295        0.0        0.0                0.0   \n",
       "417710  183677.781250  59433.332031        0.0        0.0                0.0   \n",
       "417715  281681.468750   9622.222656        0.0        0.0                0.0   \n",
       "417716  217033.328125   6362.962891        0.0        0.0                0.0   \n",
       "417717    1759.259277   1544.444458        0.0        0.0                0.0   \n",
       "...               ...           ...        ...        ...                ...   \n",
       "463875   40740.742188    559.259277        0.0        0.0                0.0   \n",
       "463965   58781.480469   2651.851807        0.0        0.0                0.0   \n",
       "464018   68274.070312  16211.111328        0.0        0.0                0.0   \n",
       "464032   17192.591797   7325.925781        0.0        0.0                0.0   \n",
       "464055   70059.257812  74911.109375        0.0        0.0                0.0   \n",
       "\n",
       "        ...  fixed_assets_bs  liq_assets_bs  curr_assets_bs  share_eq_bs  \\\n",
       "417709  ...         0.966231       0.030729        0.033769     0.998461   \n",
       "417710  ...         0.226644       0.047858        0.773356     0.595256   \n",
       "417715  ...         0.774744       0.196807        0.224612     0.988842   \n",
       "417716  ...         0.332258       0.138895        0.667742     0.980514   \n",
       "417717  ...         0.965578       0.009573        0.032249     0.188743   \n",
       "...     ...              ...            ...             ...          ...   \n",
       "463875  ...         0.000000       0.943727        1.000000     0.986273   \n",
       "463965  ...         0.055866       0.637822        0.943243     0.957387   \n",
       "464018  ...         0.011635       0.024288        0.988365     0.765321   \n",
       "464032  ...         0.375656       0.368796        0.624344     0.654472   \n",
       "464055  ...         0.102188       0.288101        0.897812     0.040011   \n",
       "\n",
       "        subscribed_cap_bs  tang_assets_bs  labor_avg_mod  flag_miss_labor_avg  \\\n",
       "417709           1.042909        0.966231       1.009435                    1   \n",
       "417710           0.046782        0.226644       0.305556                    0   \n",
       "417715           0.013940        0.774100       1.465278                    0   \n",
       "417716           0.034185        0.332258       0.847222                    0   \n",
       "417717           0.203680        0.963406       0.166667                    0   \n",
       "...                   ...             ...            ...                  ...   \n",
       "463875           0.023000        0.000000       0.083333                    0   \n",
       "463965           0.178296        0.054974       0.166667                    0   \n",
       "464018           0.160849        0.011635       0.250000                    0   \n",
       "464032           0.672495        0.375656       0.166667                    0   \n",
       "464055           0.023732        0.102188       0.486111                    0   \n",
       "\n",
       "        birth_year_mod  flag_miss_birth_year  \n",
       "417709          1962.5                     0  \n",
       "417710          1979.0                     0  \n",
       "417715          1946.0                     0  \n",
       "417716          1946.0                     0  \n",
       "417717          1960.0                     0  \n",
       "...                ...                   ...  \n",
       "463875          1975.0                     0  \n",
       "463965          1959.0                     0  \n",
       "464018          1953.0                     0  \n",
       "464032          1961.5                     0  \n",
       "464055          1984.0                     0  \n",
       "\n",
       "[19545 rows x 63 columns]"
      ]
     },
     "execution_count": 56,
     "metadata": {},
     "output_type": "execute_result"
    }
   ],
   "source": [
    "dataset2 = pd.concat([data2, holdout_data])\n",
    "dataset2"
   ]
  },
  {
   "cell_type": "code",
   "execution_count": 57,
   "id": "571867fd-dd32-4520-9691-9e46faf02745",
   "metadata": {
    "tags": []
   },
   "outputs": [
    {
     "data": {
      "text/plain": [
       "material_exp_pl     2\n",
       "personnel_exp_pl    2\n",
       "dtype: int64"
      ]
     },
     "execution_count": 57,
     "metadata": {},
     "output_type": "execute_result"
    }
   ],
   "source": [
    "for col in impute_num_list:\n",
    "    impute_num(dataset2, col)\n",
    "\n",
    "for col in impute_cat_list:\n",
    "    impute_cat(dataset2, col)\n",
    "    \n",
    "to_filter=dataset2.isna().sum()\n",
    "to_filter[to_filter>0]"
   ]
  },
  {
   "cell_type": "code",
   "execution_count": 58,
   "id": "f4d0a247-0a74-468c-9124-ff7a5cca56f2",
   "metadata": {
    "tags": []
   },
   "outputs": [],
   "source": [
    "# recalculate missing values for _pl variables, and rename columns\n",
    "pl_names2 = [\"material_exp\", \"personnel_exp\"]\n",
    "dataset2[[col + \"_pl\" for col in pl_names2]] = dataset2[pl_names2].div(\n",
    "    dataset2[\"sales\"], axis=\"index\")"
   ]
  },
  {
   "cell_type": "code",
   "execution_count": 59,
   "id": "513da76d-84ad-4764-aff8-31ac838541fa",
   "metadata": {
    "tags": []
   },
   "outputs": [
    {
     "name": "stdout",
     "output_type": "stream",
     "text": [
      "<class 'pandas.core.frame.DataFrame'>\n",
      "Index: 19545 entries, 417709 to 464055\n",
      "Data columns (total 75 columns):\n",
      " #   Column                Non-Null Count  Dtype   \n",
      "---  ------                --------------  -----   \n",
      " 0   year                  19545 non-null  int64   \n",
      " 1   comp_id               19545 non-null  float64 \n",
      " 2   begin                 19545 non-null  object  \n",
      " 3   end                   19545 non-null  object  \n",
      " 4   amort                 19545 non-null  float64 \n",
      " 5   curr_assets           19545 non-null  float64 \n",
      " 6   curr_liab             19545 non-null  float64 \n",
      " 7   extra_exp             19545 non-null  float64 \n",
      " 8   extra_inc             19545 non-null  float64 \n",
      " 9   extra_profit_loss     19545 non-null  float64 \n",
      " 10  fixed_assets          19545 non-null  float64 \n",
      " 11  inc_bef_tax           19545 non-null  float64 \n",
      " 12  intang_assets         19545 non-null  float64 \n",
      " 13  inventories           19545 non-null  float64 \n",
      " 14  liq_assets            19545 non-null  float64 \n",
      " 15  material_exp          19545 non-null  float64 \n",
      " 16  personnel_exp         19545 non-null  float64 \n",
      " 17  profit_loss_year      19545 non-null  float64 \n",
      " 18  sales                 19545 non-null  float64 \n",
      " 19  share_eq              19545 non-null  float64 \n",
      " 20  subscribed_cap        19545 non-null  float64 \n",
      " 21  tang_assets           19545 non-null  float64 \n",
      " 22  balsheet_flag         19545 non-null  float64 \n",
      " 23  balsheet_length       19545 non-null  float64 \n",
      " 24  balsheet_notfullyear  19545 non-null  float64 \n",
      " 25  founded_year          19545 non-null  float64 \n",
      " 26  ceo_count             19545 non-null  float64 \n",
      " 27  foreign               19545 non-null  float64 \n",
      " 28  female                19545 non-null  float64 \n",
      " 29  inoffice_days         19545 non-null  float64 \n",
      " 30  gender                19545 non-null  object  \n",
      " 31  origin                19545 non-null  object  \n",
      " 32  nace_main             19545 non-null  category\n",
      " 33  ind2                  19545 non-null  category\n",
      " 34  ind                   19545 non-null  category\n",
      " 35  urban_m               19545 non-null  category\n",
      " 36  region_m              19545 non-null  object  \n",
      " 37  founded_date          19545 non-null  object  \n",
      " 38  age                   19545 non-null  float64 \n",
      " 39  status_alive          19545 non-null  int32   \n",
      " 40  default               19545 non-null  int32   \n",
      " 41  flag_asset_problem    19545 non-null  float64 \n",
      " 42  total_assets_bs       19545 non-null  float64 \n",
      " 43  extra_exp_pl          19545 non-null  float64 \n",
      " 44  extra_inc_pl          19545 non-null  float64 \n",
      " 45  extra_profit_loss_pl  19545 non-null  float64 \n",
      " 46  inc_bef_tax_pl        19545 non-null  float64 \n",
      " 47  inventories_pl        19545 non-null  float64 \n",
      " 48  material_exp_pl       19545 non-null  float64 \n",
      " 49  profit_loss_year_pl   19545 non-null  float64 \n",
      " 50  personnel_exp_pl      19545 non-null  float64 \n",
      " 51  intang_assets_bs      19545 non-null  float64 \n",
      " 52  curr_liab_bs          19545 non-null  float64 \n",
      " 53  fixed_assets_bs       19545 non-null  float64 \n",
      " 54  liq_assets_bs         19545 non-null  float64 \n",
      " 55  curr_assets_bs        19545 non-null  float64 \n",
      " 56  share_eq_bs           19545 non-null  float64 \n",
      " 57  subscribed_cap_bs     19545 non-null  float64 \n",
      " 58  tang_assets_bs        19545 non-null  float64 \n",
      " 59  labor_avg_mod         19545 non-null  float64 \n",
      " 60  flag_miss_labor_avg   19545 non-null  int32   \n",
      " 61  birth_year_mod        19545 non-null  float64 \n",
      " 62  flag_miss_birth_year  19545 non-null  int32   \n",
      " 63  flag_amort            19545 non-null  int32   \n",
      " 64  flag_material_exp     19545 non-null  int32   \n",
      " 65  flag_personnel_exp    19545 non-null  int32   \n",
      " 66  flag_founded_year     19545 non-null  int32   \n",
      " 67  flag_ceo_count        19545 non-null  int32   \n",
      " 68  flag_foreign          19545 non-null  int32   \n",
      " 69  flag_female           19545 non-null  int32   \n",
      " 70  flag_inoffice_days    19545 non-null  int32   \n",
      " 71  flag_age              19545 non-null  int32   \n",
      " 72  flag_gender           19545 non-null  int32   \n",
      " 73  flag_origin           19545 non-null  int32   \n",
      " 74  flag_region_m         19545 non-null  int32   \n",
      "dtypes: category(4), float64(48), int32(16), int64(1), object(6)\n",
      "memory usage: 9.6+ MB\n"
     ]
    }
   ],
   "source": [
    "dataset2.info()"
   ]
  },
  {
   "cell_type": "code",
   "execution_count": 60,
   "id": "8b3892b4-e22e-4308-a093-067dbf30a03c",
   "metadata": {
    "tags": []
   },
   "outputs": [
    {
     "data": {
      "text/html": [
       "<div>\n",
       "<style scoped>\n",
       "    .dataframe tbody tr th:only-of-type {\n",
       "        vertical-align: middle;\n",
       "    }\n",
       "\n",
       "    .dataframe tbody tr th {\n",
       "        vertical-align: top;\n",
       "    }\n",
       "\n",
       "    .dataframe thead th {\n",
       "        text-align: right;\n",
       "    }\n",
       "</style>\n",
       "<table border=\"1\" class=\"dataframe\">\n",
       "  <thead>\n",
       "    <tr style=\"text-align: right;\">\n",
       "      <th></th>\n",
       "      <th>year</th>\n",
       "      <th>comp_id</th>\n",
       "      <th>begin</th>\n",
       "      <th>end</th>\n",
       "      <th>amort</th>\n",
       "      <th>curr_assets</th>\n",
       "      <th>curr_liab</th>\n",
       "      <th>extra_exp</th>\n",
       "      <th>extra_inc</th>\n",
       "      <th>extra_profit_loss</th>\n",
       "      <th>...</th>\n",
       "      <th>fixed_assets_bs</th>\n",
       "      <th>liq_assets_bs</th>\n",
       "      <th>curr_assets_bs</th>\n",
       "      <th>share_eq_bs</th>\n",
       "      <th>subscribed_cap_bs</th>\n",
       "      <th>tang_assets_bs</th>\n",
       "      <th>labor_avg_mod</th>\n",
       "      <th>flag_miss_labor_avg</th>\n",
       "      <th>birth_year_mod</th>\n",
       "      <th>flag_miss_birth_year</th>\n",
       "    </tr>\n",
       "  </thead>\n",
       "  <tbody>\n",
       "    <tr>\n",
       "      <th>371478</th>\n",
       "      <td>2013</td>\n",
       "      <td>8.416055e+06</td>\n",
       "      <td>2013-01-01</td>\n",
       "      <td>2013-12-31</td>\n",
       "      <td>266.666656</td>\n",
       "      <td>106448.148438</td>\n",
       "      <td>4674.074219</td>\n",
       "      <td>0.000000</td>\n",
       "      <td>0.0</td>\n",
       "      <td>0.000000</td>\n",
       "      <td>...</td>\n",
       "      <td>0.068816</td>\n",
       "      <td>0.755030</td>\n",
       "      <td>0.931184</td>\n",
       "      <td>0.964490</td>\n",
       "      <td>0.097197</td>\n",
       "      <td>0.068816</td>\n",
       "      <td>0.083333</td>\n",
       "      <td>0</td>\n",
       "      <td>1960.0</td>\n",
       "      <td>0</td>\n",
       "    </tr>\n",
       "    <tr>\n",
       "      <th>371577</th>\n",
       "      <td>2013</td>\n",
       "      <td>1.777654e+07</td>\n",
       "      <td>2013-01-01</td>\n",
       "      <td>2013-12-31</td>\n",
       "      <td>34155.554688</td>\n",
       "      <td>61011.109375</td>\n",
       "      <td>79103.703125</td>\n",
       "      <td>0.000000</td>\n",
       "      <td>0.0</td>\n",
       "      <td>0.000000</td>\n",
       "      <td>...</td>\n",
       "      <td>0.662866</td>\n",
       "      <td>0.027037</td>\n",
       "      <td>0.225509</td>\n",
       "      <td>0.516961</td>\n",
       "      <td>0.177965</td>\n",
       "      <td>0.551240</td>\n",
       "      <td>0.180556</td>\n",
       "      <td>0</td>\n",
       "      <td>1970.5</td>\n",
       "      <td>0</td>\n",
       "    </tr>\n",
       "    <tr>\n",
       "      <th>371582</th>\n",
       "      <td>2013</td>\n",
       "      <td>1.862676e+07</td>\n",
       "      <td>2013-01-01</td>\n",
       "      <td>2013-12-31</td>\n",
       "      <td>1518.518555</td>\n",
       "      <td>101422.218750</td>\n",
       "      <td>38200.000000</td>\n",
       "      <td>951.851868</td>\n",
       "      <td>0.0</td>\n",
       "      <td>-951.851868</td>\n",
       "      <td>...</td>\n",
       "      <td>0.037029</td>\n",
       "      <td>0.320568</td>\n",
       "      <td>0.962971</td>\n",
       "      <td>0.625734</td>\n",
       "      <td>0.017583</td>\n",
       "      <td>0.037029</td>\n",
       "      <td>0.152778</td>\n",
       "      <td>0</td>\n",
       "      <td>1978.0</td>\n",
       "      <td>0</td>\n",
       "    </tr>\n",
       "    <tr>\n",
       "      <th>371697</th>\n",
       "      <td>2013</td>\n",
       "      <td>3.447888e+07</td>\n",
       "      <td>2013-01-01</td>\n",
       "      <td>2013-12-31</td>\n",
       "      <td>333.333344</td>\n",
       "      <td>3940.740723</td>\n",
       "      <td>3129.629639</td>\n",
       "      <td>0.000000</td>\n",
       "      <td>0.0</td>\n",
       "      <td>0.000000</td>\n",
       "      <td>...</td>\n",
       "      <td>0.371984</td>\n",
       "      <td>0.053561</td>\n",
       "      <td>0.626251</td>\n",
       "      <td>0.520895</td>\n",
       "      <td>0.294291</td>\n",
       "      <td>0.370218</td>\n",
       "      <td>0.083333</td>\n",
       "      <td>0</td>\n",
       "      <td>1956.0</td>\n",
       "      <td>0</td>\n",
       "    </tr>\n",
       "    <tr>\n",
       "      <th>371709</th>\n",
       "      <td>2013</td>\n",
       "      <td>3.648780e+07</td>\n",
       "      <td>2013-01-01</td>\n",
       "      <td>2013-12-31</td>\n",
       "      <td>351.851837</td>\n",
       "      <td>5837.037109</td>\n",
       "      <td>2129.629639</td>\n",
       "      <td>0.000000</td>\n",
       "      <td>0.0</td>\n",
       "      <td>0.000000</td>\n",
       "      <td>...</td>\n",
       "      <td>0.000000</td>\n",
       "      <td>0.607868</td>\n",
       "      <td>1.000000</td>\n",
       "      <td>0.579315</td>\n",
       "      <td>0.317259</td>\n",
       "      <td>0.000000</td>\n",
       "      <td>1.009435</td>\n",
       "      <td>1</td>\n",
       "      <td>1979.0</td>\n",
       "      <td>0</td>\n",
       "    </tr>\n",
       "    <tr>\n",
       "      <th>...</th>\n",
       "      <td>...</td>\n",
       "      <td>...</td>\n",
       "      <td>...</td>\n",
       "      <td>...</td>\n",
       "      <td>...</td>\n",
       "      <td>...</td>\n",
       "      <td>...</td>\n",
       "      <td>...</td>\n",
       "      <td>...</td>\n",
       "      <td>...</td>\n",
       "      <td>...</td>\n",
       "      <td>...</td>\n",
       "      <td>...</td>\n",
       "      <td>...</td>\n",
       "      <td>...</td>\n",
       "      <td>...</td>\n",
       "      <td>...</td>\n",
       "      <td>...</td>\n",
       "      <td>...</td>\n",
       "      <td>...</td>\n",
       "      <td>...</td>\n",
       "    </tr>\n",
       "    <tr>\n",
       "      <th>463875</th>\n",
       "      <td>2014</td>\n",
       "      <td>4.593723e+11</td>\n",
       "      <td>2014-01-01</td>\n",
       "      <td>2014-12-31</td>\n",
       "      <td>0.000000</td>\n",
       "      <td>40740.742188</td>\n",
       "      <td>559.259277</td>\n",
       "      <td>0.000000</td>\n",
       "      <td>0.0</td>\n",
       "      <td>0.000000</td>\n",
       "      <td>...</td>\n",
       "      <td>0.000000</td>\n",
       "      <td>0.943727</td>\n",
       "      <td>1.000000</td>\n",
       "      <td>0.986273</td>\n",
       "      <td>0.023000</td>\n",
       "      <td>0.000000</td>\n",
       "      <td>0.083333</td>\n",
       "      <td>0</td>\n",
       "      <td>1975.0</td>\n",
       "      <td>0</td>\n",
       "    </tr>\n",
       "    <tr>\n",
       "      <th>463965</th>\n",
       "      <td>2014</td>\n",
       "      <td>4.610112e+11</td>\n",
       "      <td>2014-01-01</td>\n",
       "      <td>2014-12-31</td>\n",
       "      <td>429.629639</td>\n",
       "      <td>58781.480469</td>\n",
       "      <td>2651.851807</td>\n",
       "      <td>0.000000</td>\n",
       "      <td>0.0</td>\n",
       "      <td>0.000000</td>\n",
       "      <td>...</td>\n",
       "      <td>0.055866</td>\n",
       "      <td>0.637822</td>\n",
       "      <td>0.943243</td>\n",
       "      <td>0.957387</td>\n",
       "      <td>0.178296</td>\n",
       "      <td>0.054974</td>\n",
       "      <td>0.166667</td>\n",
       "      <td>0</td>\n",
       "      <td>1959.0</td>\n",
       "      <td>0</td>\n",
       "    </tr>\n",
       "    <tr>\n",
       "      <th>464018</th>\n",
       "      <td>2014</td>\n",
       "      <td>4.620594e+11</td>\n",
       "      <td>2014-01-01</td>\n",
       "      <td>2014-12-31</td>\n",
       "      <td>1111.111084</td>\n",
       "      <td>68274.070312</td>\n",
       "      <td>16211.111328</td>\n",
       "      <td>0.000000</td>\n",
       "      <td>0.0</td>\n",
       "      <td>0.000000</td>\n",
       "      <td>...</td>\n",
       "      <td>0.011635</td>\n",
       "      <td>0.024288</td>\n",
       "      <td>0.988365</td>\n",
       "      <td>0.765321</td>\n",
       "      <td>0.160849</td>\n",
       "      <td>0.011635</td>\n",
       "      <td>0.250000</td>\n",
       "      <td>0</td>\n",
       "      <td>1953.0</td>\n",
       "      <td>0</td>\n",
       "    </tr>\n",
       "    <tr>\n",
       "      <th>464032</th>\n",
       "      <td>2014</td>\n",
       "      <td>4.623300e+11</td>\n",
       "      <td>2014-01-01</td>\n",
       "      <td>2014-12-31</td>\n",
       "      <td>0.000000</td>\n",
       "      <td>17192.591797</td>\n",
       "      <td>7325.925781</td>\n",
       "      <td>0.000000</td>\n",
       "      <td>0.0</td>\n",
       "      <td>0.000000</td>\n",
       "      <td>...</td>\n",
       "      <td>0.375656</td>\n",
       "      <td>0.368796</td>\n",
       "      <td>0.624344</td>\n",
       "      <td>0.654472</td>\n",
       "      <td>0.672495</td>\n",
       "      <td>0.375656</td>\n",
       "      <td>0.166667</td>\n",
       "      <td>0</td>\n",
       "      <td>1961.5</td>\n",
       "      <td>0</td>\n",
       "    </tr>\n",
       "    <tr>\n",
       "      <th>464055</th>\n",
       "      <td>2014</td>\n",
       "      <td>4.628231e+11</td>\n",
       "      <td>2014-01-01</td>\n",
       "      <td>2014-12-31</td>\n",
       "      <td>2581.481445</td>\n",
       "      <td>70059.257812</td>\n",
       "      <td>74911.109375</td>\n",
       "      <td>0.000000</td>\n",
       "      <td>0.0</td>\n",
       "      <td>0.000000</td>\n",
       "      <td>...</td>\n",
       "      <td>0.102188</td>\n",
       "      <td>0.288101</td>\n",
       "      <td>0.897812</td>\n",
       "      <td>0.040011</td>\n",
       "      <td>0.023732</td>\n",
       "      <td>0.102188</td>\n",
       "      <td>0.486111</td>\n",
       "      <td>0</td>\n",
       "      <td>1984.0</td>\n",
       "      <td>0</td>\n",
       "    </tr>\n",
       "  </tbody>\n",
       "</table>\n",
       "<p>1886 rows × 63 columns</p>\n",
       "</div>"
      ],
      "text/plain": [
       "        year       comp_id       begin         end         amort  \\\n",
       "371478  2013  8.416055e+06  2013-01-01  2013-12-31    266.666656   \n",
       "371577  2013  1.777654e+07  2013-01-01  2013-12-31  34155.554688   \n",
       "371582  2013  1.862676e+07  2013-01-01  2013-12-31   1518.518555   \n",
       "371697  2013  3.447888e+07  2013-01-01  2013-12-31    333.333344   \n",
       "371709  2013  3.648780e+07  2013-01-01  2013-12-31    351.851837   \n",
       "...      ...           ...         ...         ...           ...   \n",
       "463875  2014  4.593723e+11  2014-01-01  2014-12-31      0.000000   \n",
       "463965  2014  4.610112e+11  2014-01-01  2014-12-31    429.629639   \n",
       "464018  2014  4.620594e+11  2014-01-01  2014-12-31   1111.111084   \n",
       "464032  2014  4.623300e+11  2014-01-01  2014-12-31      0.000000   \n",
       "464055  2014  4.628231e+11  2014-01-01  2014-12-31   2581.481445   \n",
       "\n",
       "          curr_assets     curr_liab   extra_exp  extra_inc  extra_profit_loss  \\\n",
       "371478  106448.148438   4674.074219    0.000000        0.0           0.000000   \n",
       "371577   61011.109375  79103.703125    0.000000        0.0           0.000000   \n",
       "371582  101422.218750  38200.000000  951.851868        0.0        -951.851868   \n",
       "371697    3940.740723   3129.629639    0.000000        0.0           0.000000   \n",
       "371709    5837.037109   2129.629639    0.000000        0.0           0.000000   \n",
       "...               ...           ...         ...        ...                ...   \n",
       "463875   40740.742188    559.259277    0.000000        0.0           0.000000   \n",
       "463965   58781.480469   2651.851807    0.000000        0.0           0.000000   \n",
       "464018   68274.070312  16211.111328    0.000000        0.0           0.000000   \n",
       "464032   17192.591797   7325.925781    0.000000        0.0           0.000000   \n",
       "464055   70059.257812  74911.109375    0.000000        0.0           0.000000   \n",
       "\n",
       "        ...  fixed_assets_bs  liq_assets_bs  curr_assets_bs  share_eq_bs  \\\n",
       "371478  ...         0.068816       0.755030        0.931184     0.964490   \n",
       "371577  ...         0.662866       0.027037        0.225509     0.516961   \n",
       "371582  ...         0.037029       0.320568        0.962971     0.625734   \n",
       "371697  ...         0.371984       0.053561        0.626251     0.520895   \n",
       "371709  ...         0.000000       0.607868        1.000000     0.579315   \n",
       "...     ...              ...            ...             ...          ...   \n",
       "463875  ...         0.000000       0.943727        1.000000     0.986273   \n",
       "463965  ...         0.055866       0.637822        0.943243     0.957387   \n",
       "464018  ...         0.011635       0.024288        0.988365     0.765321   \n",
       "464032  ...         0.375656       0.368796        0.624344     0.654472   \n",
       "464055  ...         0.102188       0.288101        0.897812     0.040011   \n",
       "\n",
       "        subscribed_cap_bs  tang_assets_bs  labor_avg_mod  flag_miss_labor_avg  \\\n",
       "371478           0.097197        0.068816       0.083333                    0   \n",
       "371577           0.177965        0.551240       0.180556                    0   \n",
       "371582           0.017583        0.037029       0.152778                    0   \n",
       "371697           0.294291        0.370218       0.083333                    0   \n",
       "371709           0.317259        0.000000       1.009435                    1   \n",
       "...                   ...             ...            ...                  ...   \n",
       "463875           0.023000        0.000000       0.083333                    0   \n",
       "463965           0.178296        0.054974       0.166667                    0   \n",
       "464018           0.160849        0.011635       0.250000                    0   \n",
       "464032           0.672495        0.375656       0.166667                    0   \n",
       "464055           0.023732        0.102188       0.486111                    0   \n",
       "\n",
       "        birth_year_mod  flag_miss_birth_year  \n",
       "371478          1960.0                     0  \n",
       "371577          1970.5                     0  \n",
       "371582          1978.0                     0  \n",
       "371697          1956.0                     0  \n",
       "371709          1979.0                     0  \n",
       "...                ...                   ...  \n",
       "463875          1975.0                     0  \n",
       "463965          1959.0                     0  \n",
       "464018          1953.0                     0  \n",
       "464032          1961.5                     0  \n",
       "464055          1984.0                     0  \n",
       "\n",
       "[1886 rows x 63 columns]"
      ]
     },
     "execution_count": 60,
     "metadata": {},
     "output_type": "execute_result"
    }
   ],
   "source": [
    "dataset3 = pd.concat([data3, holdout_data])\n",
    "dataset3"
   ]
  },
  {
   "cell_type": "code",
   "execution_count": 61,
   "id": "dd1d6e74-e4d8-415d-8e99-b1053dc8f774",
   "metadata": {
    "tags": []
   },
   "outputs": [
    {
     "data": {
      "text/plain": [
       "material_exp_pl     2\n",
       "personnel_exp_pl    2\n",
       "dtype: int64"
      ]
     },
     "execution_count": 61,
     "metadata": {},
     "output_type": "execute_result"
    }
   ],
   "source": [
    "for col in impute_num_list:\n",
    "    impute_num(dataset3, col)\n",
    "\n",
    "for col in impute_cat_list:\n",
    "    impute_cat(dataset3, col)\n",
    "    \n",
    "to_filter=dataset3.isna().sum()\n",
    "to_filter[to_filter>0]"
   ]
  },
  {
   "cell_type": "code",
   "execution_count": 62,
   "id": "a9f74490-5afb-44fc-98cb-d9e8f24f4db5",
   "metadata": {
    "tags": []
   },
   "outputs": [],
   "source": [
    "# recalculate missing values for _pl variables, and rename columns\n",
    "pl_names2 = [\"material_exp\", \"personnel_exp\"]\n",
    "dataset3[[col + \"_pl\" for col in pl_names2]] = dataset3[pl_names2].div(\n",
    "    dataset3[\"sales\"], axis=\"index\")"
   ]
  },
  {
   "cell_type": "code",
   "execution_count": 63,
   "id": "75b468a8-fb88-4f97-93b4-44d6c7882222",
   "metadata": {
    "tags": []
   },
   "outputs": [
    {
     "name": "stdout",
     "output_type": "stream",
     "text": [
      "<class 'pandas.core.frame.DataFrame'>\n",
      "Index: 1886 entries, 371478 to 464055\n",
      "Data columns (total 75 columns):\n",
      " #   Column                Non-Null Count  Dtype   \n",
      "---  ------                --------------  -----   \n",
      " 0   year                  1886 non-null   int64   \n",
      " 1   comp_id               1886 non-null   float64 \n",
      " 2   begin                 1886 non-null   object  \n",
      " 3   end                   1886 non-null   object  \n",
      " 4   amort                 1886 non-null   float64 \n",
      " 5   curr_assets           1886 non-null   float64 \n",
      " 6   curr_liab             1886 non-null   float64 \n",
      " 7   extra_exp             1886 non-null   float64 \n",
      " 8   extra_inc             1886 non-null   float64 \n",
      " 9   extra_profit_loss     1886 non-null   float64 \n",
      " 10  fixed_assets          1886 non-null   float64 \n",
      " 11  inc_bef_tax           1886 non-null   float64 \n",
      " 12  intang_assets         1886 non-null   float64 \n",
      " 13  inventories           1886 non-null   float64 \n",
      " 14  liq_assets            1886 non-null   float64 \n",
      " 15  material_exp          1886 non-null   float64 \n",
      " 16  personnel_exp         1886 non-null   float64 \n",
      " 17  profit_loss_year      1886 non-null   float64 \n",
      " 18  sales                 1886 non-null   float64 \n",
      " 19  share_eq              1886 non-null   float64 \n",
      " 20  subscribed_cap        1886 non-null   float64 \n",
      " 21  tang_assets           1886 non-null   float64 \n",
      " 22  balsheet_flag         1886 non-null   float64 \n",
      " 23  balsheet_length       1886 non-null   float64 \n",
      " 24  balsheet_notfullyear  1886 non-null   float64 \n",
      " 25  founded_year          1886 non-null   float64 \n",
      " 26  ceo_count             1886 non-null   float64 \n",
      " 27  foreign               1886 non-null   float64 \n",
      " 28  female                1886 non-null   float64 \n",
      " 29  inoffice_days         1886 non-null   float64 \n",
      " 30  gender                1886 non-null   object  \n",
      " 31  origin                1886 non-null   object  \n",
      " 32  nace_main             1886 non-null   category\n",
      " 33  ind2                  1886 non-null   category\n",
      " 34  ind                   1886 non-null   category\n",
      " 35  urban_m               1886 non-null   category\n",
      " 36  region_m              1886 non-null   object  \n",
      " 37  founded_date          1886 non-null   object  \n",
      " 38  age                   1886 non-null   float64 \n",
      " 39  status_alive          1886 non-null   int32   \n",
      " 40  default               1886 non-null   int32   \n",
      " 41  flag_asset_problem    1886 non-null   float64 \n",
      " 42  total_assets_bs       1886 non-null   float64 \n",
      " 43  extra_exp_pl          1886 non-null   float64 \n",
      " 44  extra_inc_pl          1886 non-null   float64 \n",
      " 45  extra_profit_loss_pl  1886 non-null   float64 \n",
      " 46  inc_bef_tax_pl        1886 non-null   float64 \n",
      " 47  inventories_pl        1886 non-null   float64 \n",
      " 48  material_exp_pl       1886 non-null   float64 \n",
      " 49  profit_loss_year_pl   1886 non-null   float64 \n",
      " 50  personnel_exp_pl      1886 non-null   float64 \n",
      " 51  intang_assets_bs      1886 non-null   float64 \n",
      " 52  curr_liab_bs          1886 non-null   float64 \n",
      " 53  fixed_assets_bs       1886 non-null   float64 \n",
      " 54  liq_assets_bs         1886 non-null   float64 \n",
      " 55  curr_assets_bs        1886 non-null   float64 \n",
      " 56  share_eq_bs           1886 non-null   float64 \n",
      " 57  subscribed_cap_bs     1886 non-null   float64 \n",
      " 58  tang_assets_bs        1886 non-null   float64 \n",
      " 59  labor_avg_mod         1886 non-null   float64 \n",
      " 60  flag_miss_labor_avg   1886 non-null   int32   \n",
      " 61  birth_year_mod        1886 non-null   float64 \n",
      " 62  flag_miss_birth_year  1886 non-null   int32   \n",
      " 63  flag_amort            1886 non-null   int32   \n",
      " 64  flag_material_exp     1886 non-null   int32   \n",
      " 65  flag_personnel_exp    1886 non-null   int32   \n",
      " 66  flag_founded_year     1886 non-null   int32   \n",
      " 67  flag_ceo_count        1886 non-null   int32   \n",
      " 68  flag_foreign          1886 non-null   int32   \n",
      " 69  flag_female           1886 non-null   int32   \n",
      " 70  flag_inoffice_days    1886 non-null   int32   \n",
      " 71  flag_age              1886 non-null   int32   \n",
      " 72  flag_gender           1886 non-null   int32   \n",
      " 73  flag_origin           1886 non-null   int32   \n",
      " 74  flag_region_m         1886 non-null   int32   \n",
      "dtypes: category(4), float64(48), int32(16), int64(1), object(6)\n",
      "memory usage: 965.5+ KB\n"
     ]
    }
   ],
   "source": [
    "dataset3.info()"
   ]
  },
  {
   "cell_type": "markdown",
   "id": "24047fcd-9589-4971-9dec-72f083b24d2e",
   "metadata": {},
   "source": [
    "# Modeling\n",
    "## Defining variable sets\n",
    "\n",
    "There are number of feature sets that we can define: raw company-related features, P&L (as % of sales) and BS related (as % of total assets) and HR-related. Plus the categorical features."
   ]
  },
  {
   "cell_type": "code",
   "execution_count": 64,
   "id": "3081eeff-cb5b-4421-b578-f92736b4ce56",
   "metadata": {
    "tags": []
   },
   "outputs": [],
   "source": [
    "raw_vars = [\"curr_assets\", \"curr_liab\", \"extra_exp\", \"extra_inc\", \"extra_profit_loss\", \"fixed_assets\",\n",
    "              \"inc_bef_tax\", \"intang_assets\", \"inventories\", \"liq_assets\", \"material_exp\", \"personnel_exp\", \n",
    "            \"profit_loss_year\", \"sales\", \"share_eq\", \"subscribed_cap\", \"age\", \"balsheet_flag\", \"balsheet_length\", \"balsheet_notfullyear\", \"flag_asset_problem\"]\n",
    "\n",
    "fin_vars = [\"total_assets_bs\", \"fixed_assets_bs\", \"liq_assets_bs\", \"curr_assets_bs\",\n",
    "            \"share_eq_bs\", \"subscribed_cap_bs\", \"tang_assets_bs\", \"intang_assets_bs\", \"extra_exp_pl\",\n",
    "            \"extra_inc_pl\", \"extra_profit_loss_pl\", \"inc_bef_tax_pl\", \"inventories_pl\",\n",
    "            \"material_exp_pl\", \"profit_loss_year_pl\", \"personnel_exp_pl\"]\n",
    "\n",
    "hr_vars = [\"female\", \"ceo_count\", \"foreign\", \"inoffice_days\", \"labor_avg_mod\",\n",
    "        \"flag_miss_labor_avg\", \"birth_year_mod\", \"flag_miss_birth_year\"]\n",
    "\n",
    "cat_vars = [\"gender\", \"origin\", \"ind2\", \"ind\", \"urban_m\", \"region_m\"]"
   ]
  },
  {
   "cell_type": "code",
   "execution_count": 65,
   "id": "3b64ae11-b3ce-442c-a794-0310f8e81ffe",
   "metadata": {
    "tags": []
   },
   "outputs": [
    {
     "data": {
      "text/plain": [
       "ind2\n",
       "26.0    1992\n",
       "1.0        0\n",
       "69.0       0\n",
       "74.0       0\n",
       "73.0       0\n",
       "        ... \n",
       "45.0       0\n",
       "46.0       0\n",
       "47.0       0\n",
       "49.0       0\n",
       "96.0       0\n",
       "Name: count, Length: 68, dtype: int64"
      ]
     },
     "execution_count": 65,
     "metadata": {},
     "output_type": "execute_result"
    }
   ],
   "source": [
    "# despite dataset1 and dataset3 not containing different ind2 values, this matrix will be created as this is a relevan variable for dataset2.\n",
    "\n",
    "dataset1.ind2.value_counts()"
   ]
  },
  {
   "cell_type": "code",
   "execution_count": 66,
   "id": "810d5297-c74d-4032-8cdb-55d8aff73b19",
   "metadata": {
    "tags": []
   },
   "outputs": [],
   "source": [
    "ind2_catmat = patsy.dmatrix(\"0 + C(ind2)\",dataset1, return_type=\"dataframe\")\n",
    "ind2_catmat = ind2_catmat.drop(['C(ind2)[1.0]'], axis=1)"
   ]
  },
  {
   "cell_type": "code",
   "execution_count": 67,
   "id": "cf9f6d55-4618-4f86-a147-c5bff5cad427",
   "metadata": {
    "tags": []
   },
   "outputs": [],
   "source": [
    "ind_catmat = patsy.dmatrix(\"0 + C(ind)\",dataset1, return_type=\"dataframe\")\n",
    "ind_catmat = ind_catmat.drop(['C(ind)[1.0]'], axis=1)"
   ]
  },
  {
   "cell_type": "code",
   "execution_count": 68,
   "id": "8207a563-fbb3-4f35-afaa-b08d65d10918",
   "metadata": {
    "tags": []
   },
   "outputs": [],
   "source": [
    "m_region_locmat = patsy.dmatrix(\"0 + C(region_m)\",dataset1, return_type=\"dataframe\")\n",
    "m_region_locmat = m_region_locmat.drop(['C(region_m)[Central]'], axis=1)"
   ]
  },
  {
   "cell_type": "code",
   "execution_count": 69,
   "id": "9fb299f8-60a5-47a1-bd02-0228557ff5e3",
   "metadata": {
    "tags": []
   },
   "outputs": [],
   "source": [
    "urban_mmat = patsy.dmatrix(\"0 + C(urban_m)\",dataset1, return_type=\"dataframe\")\n",
    "urban_mmat = urban_mmat.drop(['C(urban_m)[1.0]'], axis=1)"
   ]
  },
  {
   "cell_type": "code",
   "execution_count": 70,
   "id": "11215a91-2a55-4ff9-9421-8140cc5cf7ed",
   "metadata": {
    "tags": []
   },
   "outputs": [
    {
     "data": {
      "text/plain": [
       "371478    female\n",
       "371577       mix\n",
       "371582      male\n",
       "371697    female\n",
       "371709       mix\n",
       "           ...  \n",
       "463875      male\n",
       "463965      male\n",
       "464018      male\n",
       "464032      male\n",
       "464055      male\n",
       "Name: gender, Length: 1992, dtype: object"
      ]
     },
     "execution_count": 70,
     "metadata": {},
     "output_type": "execute_result"
    }
   ],
   "source": [
    "dataset1.gender"
   ]
  },
  {
   "cell_type": "code",
   "execution_count": 71,
   "id": "44579cac-3667-4aaf-bac6-64951aeac0ad",
   "metadata": {
    "tags": []
   },
   "outputs": [],
   "source": [
    "gender_catmat = patsy.dmatrix(\"0 + C(gender)\",dataset1, return_type=\"dataframe\")\n",
    "gender_catmat = gender_catmat.drop(['C(gender)[male]'], axis=1)"
   ]
  },
  {
   "cell_type": "code",
   "execution_count": 72,
   "id": "841c105a-43b7-461e-8afb-13ada35adff1",
   "metadata": {
    "tags": []
   },
   "outputs": [
    {
     "data": {
      "text/plain": [
       "371478    Domestic\n",
       "371577    Domestic\n",
       "371582    Domestic\n",
       "371697    Domestic\n",
       "371709    Domestic\n",
       "            ...   \n",
       "463875    Domestic\n",
       "463965    Domestic\n",
       "464018    Domestic\n",
       "464032         mix\n",
       "464055    Domestic\n",
       "Name: origin, Length: 1992, dtype: object"
      ]
     },
     "execution_count": 72,
     "metadata": {},
     "output_type": "execute_result"
    }
   ],
   "source": [
    "dataset1.origin"
   ]
  },
  {
   "cell_type": "code",
   "execution_count": 73,
   "id": "4d2633f4-117e-481c-b683-8c1ccb0adba8",
   "metadata": {
    "tags": []
   },
   "outputs": [],
   "source": [
    "origin_catmat = patsy.dmatrix(\"0 + C(origin)\",dataset1, return_type=\"dataframe\")\n",
    "origin_catmat = origin_catmat.drop(['C(origin)[Domestic]'], axis=1)"
   ]
  },
  {
   "cell_type": "markdown",
   "id": "0254880e-5bff-405e-ba96-b7e282db99c3",
   "metadata": {},
   "source": [
    "## Modeling on data1"
   ]
  },
  {
   "cell_type": "markdown",
   "id": "25072448-bdb7-403a-87e7-d2b0881363eb",
   "metadata": {},
   "source": [
    "3 logistics regression models are to be created: one with only the raw and financial variables, another with categorical variables added, and a third with all HR variables added. 5-fold cross validation is to be applied. On top, a random forest model is to be created as well."
   ]
  },
  {
   "cell_type": "markdown",
   "id": "6f45ac95-ef23-4314-924d-7241f8b9943a",
   "metadata": {},
   "source": [
    "### Logistics regression"
   ]
  },
  {
   "cell_type": "code",
   "execution_count": 74,
   "id": "1bfa6dee-251c-43bd-9ffb-3ea6207956f6",
   "metadata": {
    "tags": []
   },
   "outputs": [],
   "source": [
    "raw = dataset1[raw_vars]\n",
    "fin = dataset1[fin_vars]\n",
    "X1 = pd.concat([raw, fin], axis=1)"
   ]
  },
  {
   "cell_type": "code",
   "execution_count": 75,
   "id": "25528a1d-6eff-496a-b278-801148cf5d9a",
   "metadata": {
    "tags": []
   },
   "outputs": [],
   "source": [
    "X2 = pd.concat([X1, ind2_catmat, ind_catmat, m_region_locmat, urban_mmat, gender_catmat, origin_catmat], axis=1)"
   ]
  },
  {
   "cell_type": "code",
   "execution_count": 76,
   "id": "8387dd57-4478-4fbf-bbf5-71fc1f689269",
   "metadata": {
    "tags": []
   },
   "outputs": [],
   "source": [
    "hr = dataset1[hr_vars]\n",
    "X3 = pd.concat([X1, X2, hr], axis = 1)"
   ]
  },
  {
   "cell_type": "code",
   "execution_count": 77,
   "id": "9ca556aa-46df-47e9-8916-9aec854698c7",
   "metadata": {
    "tags": []
   },
   "outputs": [],
   "source": [
    "rfvars  = pd.concat([X1, X2, hr], axis=1)"
   ]
  },
  {
   "cell_type": "code",
   "execution_count": 78,
   "id": "902a523d-1628-4655-b3a2-e1ef6c5ccc75",
   "metadata": {
    "tags": []
   },
   "outputs": [],
   "source": [
    "y = dataset1['default']"
   ]
  },
  {
   "cell_type": "code",
   "execution_count": 79,
   "id": "7a656e4a-a1ef-4321-9fc9-9f082aab5f78",
   "metadata": {
    "tags": []
   },
   "outputs": [],
   "source": [
    "# definint train-holdout split based on dataset1's setup\n",
    "\n",
    "index_train = data1.index\n",
    "index_holdout = holdout_data.index\n",
    "\n",
    "y_train = y.loc[index_train]\n",
    "y_holdout = y.loc[index_holdout]"
   ]
  },
  {
   "cell_type": "code",
   "execution_count": 80,
   "id": "6137f0b0-80ce-4cd0-9519-b5d94ee54ba7",
   "metadata": {
    "tags": []
   },
   "outputs": [],
   "source": [
    "# specifying cross-validation \n",
    "k = KFold(n_splits = 5, shuffle = True, random_state = 20240224)"
   ]
  },
  {
   "cell_type": "code",
   "execution_count": 81,
   "id": "6b132fbd-826e-4305-a8e9-fe8fdb98d05d",
   "metadata": {
    "tags": []
   },
   "outputs": [],
   "source": [
    "# no regularisation needed so setting the paremeter to very high value\n",
    "Cs_value_logit = [1e20]"
   ]
  },
  {
   "cell_type": "code",
   "execution_count": 82,
   "id": "0b648edd-c839-4be5-b4fa-464bd3045065",
   "metadata": {
    "tags": []
   },
   "outputs": [],
   "source": [
    "logit_model_vars = [X1.loc[index_train], X2.loc[index_train], X3.loc[index_train]]\n",
    "\n",
    "logit_models = dict()\n",
    "CV_RMSE_folds = dict()"
   ]
  },
  {
   "cell_type": "code",
   "execution_count": 83,
   "id": "ba6ab1d9-4dab-4ac6-b7bc-7c6456008f01",
   "metadata": {
    "tags": []
   },
   "outputs": [
    {
     "name": "stdout",
     "output_type": "stream",
     "text": [
      "CPU times: total: 1.98 s\n",
      "Wall time: 2.08 s\n"
     ]
    }
   ],
   "source": [
    "%%time\n",
    "for i in range(len(logit_model_vars)):\n",
    "    LRCV_brier = LogisticRegressionCV(\n",
    "        Cs=Cs_value_logit, \n",
    "        cv=k,\n",
    "        refit=True, \n",
    "        scoring='neg_brier_score', \n",
    "        solver=\"newton-cg\", \n",
    "        tol=1e-7, \n",
    "        random_state=20240224)\n",
    "    logit_models['X'+str(i+1)] = LRCV_brier.fit(logit_model_vars[i], y_train)\n",
    "    \n",
    "    # Calculate RMSE on test for each fold\n",
    "    CV_RMSE_folds['X'+str(i+1)] = np.sqrt(-1*(logit_models['X'+str(i+1)].scores_[1])).flatten()"
   ]
  },
  {
   "cell_type": "code",
   "execution_count": 84,
   "id": "4911b84d-de5c-4213-9f0e-d86376dfc072",
   "metadata": {
    "tags": []
   },
   "outputs": [
    {
     "data": {
      "text/html": [
       "<div>\n",
       "<style scoped>\n",
       "    .dataframe tbody tr th:only-of-type {\n",
       "        vertical-align: middle;\n",
       "    }\n",
       "\n",
       "    .dataframe tbody tr th {\n",
       "        vertical-align: top;\n",
       "    }\n",
       "\n",
       "    .dataframe thead th {\n",
       "        text-align: right;\n",
       "    }\n",
       "</style>\n",
       "<table border=\"1\" class=\"dataframe\">\n",
       "  <thead>\n",
       "    <tr style=\"text-align: right;\">\n",
       "      <th></th>\n",
       "      <th>X1</th>\n",
       "      <th>X2</th>\n",
       "      <th>X3</th>\n",
       "    </tr>\n",
       "  </thead>\n",
       "  <tbody>\n",
       "    <tr>\n",
       "      <th>0</th>\n",
       "      <td>0.216860</td>\n",
       "      <td>0.217515</td>\n",
       "      <td>0.226688</td>\n",
       "    </tr>\n",
       "    <tr>\n",
       "      <th>1</th>\n",
       "      <td>0.251325</td>\n",
       "      <td>0.251325</td>\n",
       "      <td>0.203552</td>\n",
       "    </tr>\n",
       "    <tr>\n",
       "      <th>2</th>\n",
       "      <td>0.228664</td>\n",
       "      <td>0.228271</td>\n",
       "      <td>0.240062</td>\n",
       "    </tr>\n",
       "    <tr>\n",
       "      <th>3</th>\n",
       "      <td>0.244099</td>\n",
       "      <td>0.244010</td>\n",
       "      <td>0.254293</td>\n",
       "    </tr>\n",
       "    <tr>\n",
       "      <th>4</th>\n",
       "      <td>0.276164</td>\n",
       "      <td>0.276164</td>\n",
       "      <td>0.256437</td>\n",
       "    </tr>\n",
       "  </tbody>\n",
       "</table>\n",
       "</div>"
      ],
      "text/plain": [
       "         X1        X2        X3\n",
       "0  0.216860  0.217515  0.226688\n",
       "1  0.251325  0.251325  0.203552\n",
       "2  0.228664  0.228271  0.240062\n",
       "3  0.244099  0.244010  0.254293\n",
       "4  0.276164  0.276164  0.256437"
      ]
     },
     "execution_count": 84,
     "metadata": {},
     "output_type": "execute_result"
    }
   ],
   "source": [
    "pd.DataFrame(CV_RMSE_folds)"
   ]
  },
  {
   "cell_type": "code",
   "execution_count": 85,
   "id": "21635f4d-673f-4a9f-8f25-dccd74889080",
   "metadata": {
    "tags": []
   },
   "outputs": [],
   "source": [
    "# checking AUC scores as well\n",
    "CV_AUC_folds = dict()\n",
    "\n",
    "for i in range(len(logit_model_vars)):\n",
    "    LRCV_auc = LogisticRegressionCV(\n",
    "        Cs=Cs_value_logit, \n",
    "        cv=k, \n",
    "        refit=True, \n",
    "        scoring='roc_auc', \n",
    "        solver=\"newton-cg\", \n",
    "        tol=1e-7, \n",
    "        random_state = 20240205)\n",
    "    LRCV_auc_fit = LRCV_auc.fit(logit_model_vars[i], y_train)\n",
    "    # Calculate AUC on test for each fold\n",
    "    CV_AUC_folds['X'+str(i+1)] = LRCV_auc_fit.scores_[1][:,0].tolist()"
   ]
  },
  {
   "cell_type": "code",
   "execution_count": 86,
   "id": "85c0a3b7-08e5-4ec6-82d4-650bd3106999",
   "metadata": {
    "tags": []
   },
   "outputs": [
    {
     "data": {
      "text/html": [
       "<div>\n",
       "<style scoped>\n",
       "    .dataframe tbody tr th:only-of-type {\n",
       "        vertical-align: middle;\n",
       "    }\n",
       "\n",
       "    .dataframe tbody tr th {\n",
       "        vertical-align: top;\n",
       "    }\n",
       "\n",
       "    .dataframe thead th {\n",
       "        text-align: right;\n",
       "    }\n",
       "</style>\n",
       "<table border=\"1\" class=\"dataframe\">\n",
       "  <thead>\n",
       "    <tr style=\"text-align: right;\">\n",
       "      <th></th>\n",
       "      <th>X1</th>\n",
       "      <th>X2</th>\n",
       "      <th>X3</th>\n",
       "    </tr>\n",
       "  </thead>\n",
       "  <tbody>\n",
       "    <tr>\n",
       "      <th>0</th>\n",
       "      <td>0.747475</td>\n",
       "      <td>0.741414</td>\n",
       "      <td>0.723737</td>\n",
       "    </tr>\n",
       "    <tr>\n",
       "      <th>1</th>\n",
       "      <td>0.482883</td>\n",
       "      <td>0.482883</td>\n",
       "      <td>0.580180</td>\n",
       "    </tr>\n",
       "    <tr>\n",
       "      <th>2</th>\n",
       "      <td>0.561661</td>\n",
       "      <td>0.600122</td>\n",
       "      <td>0.731990</td>\n",
       "    </tr>\n",
       "    <tr>\n",
       "      <th>3</th>\n",
       "      <td>0.626263</td>\n",
       "      <td>0.625253</td>\n",
       "      <td>0.758586</td>\n",
       "    </tr>\n",
       "    <tr>\n",
       "      <th>4</th>\n",
       "      <td>0.661783</td>\n",
       "      <td>0.661783</td>\n",
       "      <td>0.623932</td>\n",
       "    </tr>\n",
       "  </tbody>\n",
       "</table>\n",
       "</div>"
      ],
      "text/plain": [
       "         X1        X2        X3\n",
       "0  0.747475  0.741414  0.723737\n",
       "1  0.482883  0.482883  0.580180\n",
       "2  0.561661  0.600122  0.731990\n",
       "3  0.626263  0.625253  0.758586\n",
       "4  0.661783  0.661783  0.623932"
      ]
     },
     "execution_count": 86,
     "metadata": {},
     "output_type": "execute_result"
    }
   ],
   "source": [
    "pd.DataFrame(CV_AUC_folds)"
   ]
  },
  {
   "cell_type": "code",
   "execution_count": 87,
   "id": "38ad765e-dae8-4dbe-9d4a-d4edf17aa492",
   "metadata": {
    "tags": []
   },
   "outputs": [],
   "source": [
    "CV_RMSE = dict()\n",
    "CV_AUC = dict()\n",
    "\n",
    "for key in logit_models:\n",
    "    CV_RMSE[key] = np.mean(CV_RMSE_folds[key])\n",
    "    CV_AUC[key] = np.mean(CV_AUC_folds[key])  \n",
    "\n",
    "logit_summary1 = np.transpose(pd.DataFrame.from_dict([CV_RMSE,CV_AUC], orient='columns'))\n",
    "logit_summary1.columns = ['CV RMSE', 'CV AUC']"
   ]
  },
  {
   "cell_type": "code",
   "execution_count": 88,
   "id": "d6b811d2-738e-4dc1-a1a1-5fec17df82d6",
   "metadata": {
    "tags": []
   },
   "outputs": [
    {
     "data": {
      "text/html": [
       "<div>\n",
       "<style scoped>\n",
       "    .dataframe tbody tr th:only-of-type {\n",
       "        vertical-align: middle;\n",
       "    }\n",
       "\n",
       "    .dataframe tbody tr th {\n",
       "        vertical-align: top;\n",
       "    }\n",
       "\n",
       "    .dataframe thead th {\n",
       "        text-align: right;\n",
       "    }\n",
       "</style>\n",
       "<table border=\"1\" class=\"dataframe\">\n",
       "  <thead>\n",
       "    <tr style=\"text-align: right;\">\n",
       "      <th></th>\n",
       "      <th>CV RMSE</th>\n",
       "      <th>CV AUC</th>\n",
       "    </tr>\n",
       "  </thead>\n",
       "  <tbody>\n",
       "    <tr>\n",
       "      <th>X1</th>\n",
       "      <td>0.243423</td>\n",
       "      <td>0.616013</td>\n",
       "    </tr>\n",
       "    <tr>\n",
       "      <th>X2</th>\n",
       "      <td>0.243457</td>\n",
       "      <td>0.622291</td>\n",
       "    </tr>\n",
       "    <tr>\n",
       "      <th>X3</th>\n",
       "      <td>0.236206</td>\n",
       "      <td>0.683685</td>\n",
       "    </tr>\n",
       "  </tbody>\n",
       "</table>\n",
       "</div>"
      ],
      "text/plain": [
       "     CV RMSE    CV AUC\n",
       "X1  0.243423  0.616013\n",
       "X2  0.243457  0.622291\n",
       "X3  0.236206  0.683685"
      ]
     },
     "execution_count": 88,
     "metadata": {},
     "output_type": "execute_result"
    }
   ],
   "source": [
    "logit_summary1"
   ]
  },
  {
   "cell_type": "markdown",
   "id": "a85daaec-156e-4a7a-8ec7-4cdf9c5de448",
   "metadata": {},
   "source": [
    "In dataset1, both with RMSE and AUC the best performing model is X3 - which is the most complex one. "
   ]
  },
  {
   "cell_type": "code",
   "execution_count": 89,
   "id": "0e44cc37-269e-45c7-911d-90264981ee8f",
   "metadata": {
    "tags": []
   },
   "outputs": [
    {
     "data": {
      "text/plain": [
       "0.237"
      ]
     },
     "execution_count": 89,
     "metadata": {},
     "output_type": "execute_result"
    }
   ],
   "source": [
    "best_model = logit_models['X3']\n",
    "best_model_X_holdout = X3.loc[index_holdout]\n",
    "\n",
    "logit_predicted_probabilities_holdout = best_model.predict_proba(best_model_X_holdout)[:,1]\n",
    "best_rmse_holdout = np.sqrt(metrics.mean_squared_error(y_holdout, logit_predicted_probabilities_holdout))\n",
    "round(best_rmse_holdout, 3)"
   ]
  },
  {
   "cell_type": "code",
   "execution_count": 90,
   "id": "284c3589-09b3-4e3b-a45e-7e7dbc7b515c",
   "metadata": {
    "tags": []
   },
   "outputs": [
    {
     "data": {
      "text/plain": [
       "array([0.11287221, 0.0174075 , 0.2947131 , ..., 0.07919411, 0.05906603,\n",
       "       0.04611049])"
      ]
     },
     "execution_count": 90,
     "metadata": {},
     "output_type": "execute_result"
    }
   ],
   "source": [
    "logit_predicted_probabilities_holdout"
   ]
  },
  {
   "cell_type": "markdown",
   "id": "b1b1cf81-ed7e-449d-8368-a0f337d1c28d",
   "metadata": {},
   "source": [
    "**Discrete ROC (with thresholds in steps) on holdout**"
   ]
  },
  {
   "cell_type": "code",
   "execution_count": 91,
   "id": "3bfa7b3a-1b2a-4b63-b93d-7a8120a87e77",
   "metadata": {
    "tags": []
   },
   "outputs": [],
   "source": [
    "thresholds = [i/100 for i in range(1,80,1)]\n",
    "cm = dict()\n",
    "true_positive_rates = []\n",
    "false_positive_rates = []\n",
    "holdout_prediction = []\n",
    "for thr in thresholds:\n",
    "    holdout_prediction = np.where(logit_predicted_probabilities_holdout < thr, 0, 1)\n",
    "    cm_thr = confusion_matrix(y_holdout, holdout_prediction, labels=[0,1])\n",
    "    cm[thr] = cm_thr\n",
    "    tn, fp, fn, tp = cm_thr.ravel()\n",
    "    true_positive_rates.append(tp/(tp+fn))\n",
    "    false_positive_rates.append(fp/(fp+tn))"
   ]
  },
  {
   "cell_type": "code",
   "execution_count": 92,
   "id": "7d595abe-7cd6-4679-a9fc-c322a7fb21a1",
   "metadata": {
    "tags": []
   },
   "outputs": [
    {
     "data": {
      "text/plain": [
       "array([[973,   8],\n",
       "       [ 54,   2]], dtype=int64)"
      ]
     },
     "execution_count": 92,
     "metadata": {},
     "output_type": "execute_result"
    }
   ],
   "source": [
    "cm_thr"
   ]
  },
  {
   "cell_type": "code",
   "execution_count": 93,
   "id": "7e277853-2db4-406e-9b17-c6026b91f84a",
   "metadata": {
    "tags": []
   },
   "outputs": [
    {
     "data": {
      "image/png": "[encoded data removed]",
      "text/plain": [
       "<Figure size 640x480 with 1 Axes>"
      ]
     },
     "metadata": {
      "image/png": {
       "height": 480,
       "width": 640
      }
     },
     "output_type": "display_data"
    },
    {
     "data": {
      "text/plain": [
       "<Figure Size: (640 x 480)>"
      ]
     },
     "execution_count": 93,
     "metadata": {},
     "output_type": "execute_result"
    }
   ],
   "source": [
    "create_roc_plot(y_holdout, logit_predicted_probabilities_holdout)"
   ]
  },
  {
   "cell_type": "markdown",
   "id": "197bf378-a2df-4c31-a9b6-02a8869a3c1a",
   "metadata": {},
   "source": [
    "The ROC curve shows that the model is just barely above the 45 degree line suggesting that this is still not a very good model - despite being the \"best\" from the created ones."
   ]
  },
  {
   "cell_type": "markdown",
   "id": "b29171ac-a739-417a-a753-9f573b38598e",
   "metadata": {},
   "source": [
    "### Using the loss function to define optimal threshold"
   ]
  },
  {
   "cell_type": "code",
   "execution_count": 94,
   "id": "620e9c3f-29a0-4765-9950-742a22421827",
   "metadata": {
    "tags": []
   },
   "outputs": [
    {
     "data": {
      "text/plain": [
       "0.048167539267015703"
      ]
     },
     "execution_count": 94,
     "metadata": {},
     "output_type": "execute_result"
    }
   ],
   "source": [
    "FP = 3\n",
    "FN = 15\n",
    "cost = FN/FP\n",
    "\n",
    "# the prevalence, or the proportion of cases in the population (n.cases/(n.controls+n.cases))\n",
    "prevelance = y_train.sum()/len(y_train)\n",
    "prevelance"
   ]
  },
  {
   "cell_type": "code",
   "execution_count": 95,
   "id": "81fb6ae2-2c24-4446-abf9-61d037b3ba8e",
   "metadata": {
    "tags": []
   },
   "outputs": [],
   "source": [
    "best_thresholds_cv = dict()\n",
    "expected_loss_cv = dict()\n",
    "fold5_threshold = dict()\n",
    "fold5_expected_loss = dict()\n",
    "fold5_all_coords = dict()\n",
    "\n",
    "for i, model_name in enumerate(logit_models):\n",
    "    best_thresholds = []\n",
    "    expected_loss =[]\n",
    "    if model_name != 'LASSO':\n",
    "        X = logit_model_vars[i]\n",
    "        c_index = 0\n",
    "    else:\n",
    "        X = normalized_logitvars\n",
    "        c_index = best_lambda_i\n",
    "    fold = 0\n",
    "    for train_index, test_index in k.split(X):\n",
    "        X_fold = X.iloc[test_index,:]\n",
    "        y_fold = y_train.iloc[test_index]\n",
    "        pred_fold = generate_fold_prediction(logit_models[model_name], X_fold, fold, c_index)\n",
    "        false_pos_rate, true_pos_rate, thresholds = roc_curve(y_fold, pred_fold, drop_intermediate=False)\n",
    "        optimal_threshold = sorted(list(zip(\n",
    "            np.abs(true_pos_rate + (1 - prevelance)/(cost * prevelance)*(1-false_pos_rate)),\\\n",
    "                                       thresholds)), key=lambda i: i[0], reverse=True)[0][1]\n",
    "        best_thresholds.append(optimal_threshold)\n",
    "        threshold_prediction = np.where(pred_fold < optimal_threshold, 0, 1)\n",
    "        tn, fp, fn, tp = confusion_matrix(y_fold, threshold_prediction, labels=[0,1]).ravel()\n",
    "        curr_exp_loss = (fp*FP + fn*FN)/len(y_fold)\n",
    "        expected_loss.append(curr_exp_loss)\n",
    "        fold = fold+1\n",
    "\n",
    "    best_thresholds_cv[model_name] = np.mean(best_thresholds)\n",
    "    expected_loss_cv[model_name] = np.mean(expected_loss)\n",
    "\n",
    "    # for fold #5\n",
    "    fold5_threshold[model_name] = optimal_threshold\n",
    "    fold5_expected_loss[model_name] = curr_exp_loss\n",
    "\n",
    "    all_coords = pd.DataFrame({\n",
    "        'false_pos': false_pos_rate*sum(y_fold == 0),\n",
    "        'true_pos': true_pos_rate*sum(y_fold == 1),\n",
    "        'false_neg': sum(y_fold == 1) - true_pos_rate*sum(y_fold == 1),\n",
    "        'true_neg': sum(y_fold == 0) - false_pos_rate*sum(y_fold == 0),\n",
    "        'pos': sum(y_fold == 1),\n",
    "        'neg': sum(y_fold == 0),\n",
    "        'n': len(y_fold),\n",
    "        'thresholds': thresholds\n",
    "    })\n",
    "    \n",
    "    fold5_all_coords[model_name] = all_coords"
   ]
  },
  {
   "cell_type": "code",
   "execution_count": 96,
   "id": "d89d075e-dcdf-4716-a689-004b7a78d9cf",
   "metadata": {
    "tags": []
   },
   "outputs": [
    {
     "data": {
      "text/plain": [
       "0.5874345549738219"
      ]
     },
     "execution_count": 96,
     "metadata": {},
     "output_type": "execute_result"
    }
   ],
   "source": [
    "sum(expected_loss)/len(expected_loss)"
   ]
  },
  {
   "cell_type": "code",
   "execution_count": 97,
   "id": "b255d9be-ccaa-44e5-988d-d32cee413fba",
   "metadata": {
    "tags": []
   },
   "outputs": [
    {
     "data": {
      "text/html": [
       "<div>\n",
       "<style scoped>\n",
       "    .dataframe tbody tr th:only-of-type {\n",
       "        vertical-align: middle;\n",
       "    }\n",
       "\n",
       "    .dataframe tbody tr th {\n",
       "        vertical-align: top;\n",
       "    }\n",
       "\n",
       "    .dataframe thead th {\n",
       "        text-align: right;\n",
       "    }\n",
       "</style>\n",
       "<table border=\"1\" class=\"dataframe\">\n",
       "  <thead>\n",
       "    <tr style=\"text-align: right;\">\n",
       "      <th></th>\n",
       "      <th>Model</th>\n",
       "      <th>Avg of optimal thresholds</th>\n",
       "      <th>Threshold for Fold5</th>\n",
       "      <th>Avg expected loss</th>\n",
       "      <th>Expected loss for Fold5</th>\n",
       "    </tr>\n",
       "  </thead>\n",
       "  <tbody>\n",
       "    <tr>\n",
       "      <th>0</th>\n",
       "      <td>X1</td>\n",
       "      <td>inf</td>\n",
       "      <td>0.470899</td>\n",
       "      <td>0.656545</td>\n",
       "      <td>0.659686</td>\n",
       "    </tr>\n",
       "    <tr>\n",
       "      <th>1</th>\n",
       "      <td>X2</td>\n",
       "      <td>inf</td>\n",
       "      <td>0.470899</td>\n",
       "      <td>0.656545</td>\n",
       "      <td>0.659686</td>\n",
       "    </tr>\n",
       "    <tr>\n",
       "      <th>2</th>\n",
       "      <td>X3</td>\n",
       "      <td>0.237653</td>\n",
       "      <td>0.385103</td>\n",
       "      <td>0.587435</td>\n",
       "      <td>0.534031</td>\n",
       "    </tr>\n",
       "  </tbody>\n",
       "</table>\n",
       "</div>"
      ],
      "text/plain": [
       "  Model  Avg of optimal thresholds  Threshold for Fold5  Avg expected loss  \\\n",
       "0    X1                        inf             0.470899           0.656545   \n",
       "1    X2                        inf             0.470899           0.656545   \n",
       "2    X3                   0.237653             0.385103           0.587435   \n",
       "\n",
       "   Expected loss for Fold5  \n",
       "0                 0.659686  \n",
       "1                 0.659686  \n",
       "2                 0.534031  "
      ]
     },
     "execution_count": 97,
     "metadata": {},
     "output_type": "execute_result"
    }
   ],
   "source": [
    "logit_summary2 = pd.DataFrame(best_thresholds_cv.items(),columns=['Model', 'Avg of optimal thresholds'])\n",
    "logit_summary2['Threshold for Fold5'] = fold5_threshold.values()\n",
    "logit_summary2['Avg expected loss'] = expected_loss_cv.values()\n",
    "logit_summary2['Expected loss for Fold5'] = fold5_expected_loss.values()\n",
    "logit_summary2"
   ]
  },
  {
   "cell_type": "markdown",
   "id": "6c2310e4-3d6b-4a7f-a47f-6972c303143d",
   "metadata": {},
   "source": [
    "The average expected loss of model X3 is 0.587 with a threshold of 0.238.\n",
    "\n",
    "*Note*: the train dataset is relatively small, with a default prevalence of about 5%. It is possible that in some folds for X1 and X2, there were 0 default cases. Since the cost of FPs are lower than FNs, the model suggests a best threshold of infinte in these cases.\n",
    "Since X3 was the best performing model anyhow, this result is to be used. It is possible to change the random_state of the K-fold cross-validation to experiment with the results."
   ]
  },
  {
   "cell_type": "code",
   "execution_count": 98,
   "id": "a73af94f-0bd2-4e65-a2da-456f924c269d",
   "metadata": {
    "tags": []
   },
   "outputs": [
    {
     "data": {
      "text/plain": [
       "0.23765278995397657"
      ]
     },
     "execution_count": 98,
     "metadata": {},
     "output_type": "execute_result"
    }
   ],
   "source": [
    "best_logit_optimal_treshold = best_thresholds_cv[\"X3\"]\n",
    "best_logit_optimal_treshold"
   ]
  },
  {
   "cell_type": "code",
   "execution_count": 99,
   "id": "38b92f3a-caa0-4d5a-a535-02ab624ab261",
   "metadata": {
    "tags": []
   },
   "outputs": [
    {
     "data": {
      "text/plain": [
       "0.749"
      ]
     },
     "execution_count": 99,
     "metadata": {},
     "output_type": "execute_result"
    }
   ],
   "source": [
    "holdout_treshold = np.where(logit_predicted_probabilities_holdout < best_logit_optimal_treshold, 0, 1)\n",
    "tn, fp, fn, tp = confusion_matrix(y_holdout, holdout_treshold, labels=[0,1]).ravel()\n",
    "expected_loss_holdout_log1 = (fp*FP + fn*FN)/len(y_holdout)\n",
    "round(expected_loss_holdout_log1, 3)"
   ]
  },
  {
   "cell_type": "code",
   "execution_count": 100,
   "id": "2bcef999-d47f-4159-8d6f-b36124151c2e",
   "metadata": {
    "tags": []
   },
   "outputs": [
    {
     "data": {
      "text/html": [
       "<div>\n",
       "<style scoped>\n",
       "    .dataframe tbody tr th:only-of-type {\n",
       "        vertical-align: middle;\n",
       "    }\n",
       "\n",
       "    .dataframe tbody tr th {\n",
       "        vertical-align: top;\n",
       "    }\n",
       "\n",
       "    .dataframe thead th {\n",
       "        text-align: right;\n",
       "    }\n",
       "</style>\n",
       "<table border=\"1\" class=\"dataframe\">\n",
       "  <thead>\n",
       "    <tr style=\"text-align: right;\">\n",
       "      <th></th>\n",
       "      <th>Predicted no default</th>\n",
       "      <th>Predicted default</th>\n",
       "    </tr>\n",
       "  </thead>\n",
       "  <tbody>\n",
       "    <tr>\n",
       "      <th>Actul no defaul</th>\n",
       "      <td>957</td>\n",
       "      <td>24</td>\n",
       "    </tr>\n",
       "    <tr>\n",
       "      <th>Actual default</th>\n",
       "      <td>47</td>\n",
       "      <td>9</td>\n",
       "    </tr>\n",
       "  </tbody>\n",
       "</table>\n",
       "</div>"
      ],
      "text/plain": [
       "                 Predicted no default  Predicted default\n",
       "Actul no defaul                   957                 24\n",
       "Actual default                     47                  9"
      ]
     },
     "execution_count": 100,
     "metadata": {},
     "output_type": "execute_result"
    }
   ],
   "source": [
    "cm_object3 = confusion_matrix(y_holdout, holdout_treshold, labels=[0,1])\n",
    "cm3 = pd.DataFrame(cm_object3, \n",
    "    index=['Actul no defaul', 'Actual default'], \n",
    "    columns=['Predicted no default', 'Predicted default'])\n",
    "cm3"
   ]
  },
  {
   "cell_type": "markdown",
   "id": "f70ce738-5a1a-49f6-9c16-11016bc5c5a1",
   "metadata": {},
   "source": [
    "The model performs quite poorly in identifying the default cases, but correctly classifies most of the non-defaulting ones."
   ]
  },
  {
   "cell_type": "markdown",
   "id": "0e6e140d-0839-4358-9b40-c60d47337324",
   "metadata": {},
   "source": [
    "### Random forest"
   ]
  },
  {
   "cell_type": "code",
   "execution_count": 101,
   "id": "b3297517-d4cd-4815-9dcf-9cb571f18536",
   "metadata": {
    "tags": []
   },
   "outputs": [],
   "source": [
    "rfvars_train = rfvars.loc[index_train]\n",
    "rfvars_holdout = rfvars.loc[index_holdout]"
   ]
  },
  {
   "cell_type": "code",
   "execution_count": 102,
   "id": "05f08ecb-7637-46bf-ac85-2d808e0e7a83",
   "metadata": {
    "tags": []
   },
   "outputs": [],
   "source": [
    "grid = {'max_features': [5, 6, 7],\n",
    "        'criterion':['gini'],\n",
    "        'min_samples_split': [11, 16]}"
   ]
  },
  {
   "cell_type": "code",
   "execution_count": 103,
   "id": "d93a4662-0d45-4fce-8bcc-bc728072a0a5",
   "metadata": {
    "tags": []
   },
   "outputs": [],
   "source": [
    "prob_forest = RandomForestClassifier(\n",
    "    random_state=20240224, \n",
    "    n_estimators=500, \n",
    "    oob_score=True)\n",
    "\n",
    "prob_forest_grid = GridSearchCV(\n",
    "    prob_forest, \n",
    "    grid, \n",
    "    cv=k, \n",
    "    refit='roc_auc',\n",
    "    scoring = ['accuracy', 'roc_auc', 'neg_brier_score'], \n",
    "    n_jobs=-1)"
   ]
  },
  {
   "cell_type": "code",
   "execution_count": 104,
   "id": "03350cef-0631-4bfc-b0cd-8ba4a993b837",
   "metadata": {
    "tags": []
   },
   "outputs": [
    {
     "name": "stdout",
     "output_type": "stream",
     "text": [
      "CPU times: total: 1.69 s\n",
      "Wall time: 12.6 s\n"
     ]
    }
   ],
   "source": [
    "%%time\n",
    "prob_forest_fit = prob_forest_grid.fit(rfvars_train, y_train)"
   ]
  },
  {
   "cell_type": "code",
   "execution_count": 105,
   "id": "010143b6-e49e-443b-9a49-c0065da70fcc",
   "metadata": {
    "tags": []
   },
   "outputs": [
    {
     "data": {
      "text/plain": [
       "array([0.95183246, 0.95183246, 0.95183246, 0.95183246, 0.95183246,\n",
       "       0.95183246])"
      ]
     },
     "execution_count": 105,
     "metadata": {},
     "output_type": "execute_result"
    }
   ],
   "source": [
    "# checking out accuracy, RMSE and AUC\n",
    "\n",
    "cv_accuracy = np.zeros([6])\n",
    "for i in range(5):\n",
    "    cv_accuracy = cv_accuracy + prob_forest_fit.cv_results_['split' + str(i) + '_test_accuracy']\n",
    "cv_accuracy = cv_accuracy/5\n",
    "cv_accuracy"
   ]
  },
  {
   "cell_type": "code",
   "execution_count": 106,
   "id": "7054de48-6075-4f76-9cc7-3640cbc108b3",
   "metadata": {
    "tags": []
   },
   "outputs": [
    {
     "data": {
      "text/plain": [
       "array([0.7187106 , 0.72354219, 0.70943156, 0.72116208, 0.71878542,\n",
       "       0.71383985])"
      ]
     },
     "execution_count": 106,
     "metadata": {},
     "output_type": "execute_result"
    }
   ],
   "source": [
    "cv_auc = np.zeros([6])\n",
    "for i in range(5):\n",
    "    cv_auc = cv_auc + prob_forest_fit.cv_results_['split' + str(i) + '_test_roc_auc']\n",
    "cv_auc = cv_auc/5\n",
    "cv_auc"
   ]
  },
  {
   "cell_type": "code",
   "execution_count": 107,
   "id": "ee8208a3-a92e-4497-911f-d0e10c091ed9",
   "metadata": {
    "tags": []
   },
   "outputs": [
    {
     "data": {
      "text/plain": [
       "array([0.20937355, 0.20935047, 0.21008062, 0.20936084, 0.2101862 ,\n",
       "       0.20981738])"
      ]
     },
     "execution_count": 107,
     "metadata": {},
     "output_type": "execute_result"
    }
   ],
   "source": [
    "cv_rmse = np.zeros([6])\n",
    "for i in range(5):\n",
    "    cv_rmse = cv_rmse +np.sqrt(-1*(prob_forest_fit.cv_results_['split' + str(i) + '_test_neg_brier_score'])).tolist()\n",
    "cv_rmse = cv_rmse/5\n",
    "cv_rmse"
   ]
  },
  {
   "cell_type": "code",
   "execution_count": 108,
   "id": "3f081040-2165-4da6-8ce6-8110f67a5c3b",
   "metadata": {
    "tags": []
   },
   "outputs": [],
   "source": [
    "prob_forest_cv_results = pd.DataFrame({\n",
    "    'max_features': prob_forest_fit.cv_results_['param_max_features'],\n",
    "    'min_samples_split': prob_forest_fit.cv_results_['param_min_samples_split'],\n",
    "    'cv_accuracy': cv_accuracy,\n",
    "    'cv_auc': cv_auc,\n",
    "    'cv_rmse': cv_rmse\n",
    "})"
   ]
  },
  {
   "cell_type": "code",
   "execution_count": 109,
   "id": "7c37ff82-ee7d-4457-94bd-d8e770f314fb",
   "metadata": {
    "tags": []
   },
   "outputs": [
    {
     "data": {
      "text/html": [
       "<div>\n",
       "<style scoped>\n",
       "    .dataframe tbody tr th:only-of-type {\n",
       "        vertical-align: middle;\n",
       "    }\n",
       "\n",
       "    .dataframe tbody tr th {\n",
       "        vertical-align: top;\n",
       "    }\n",
       "\n",
       "    .dataframe thead th {\n",
       "        text-align: right;\n",
       "    }\n",
       "</style>\n",
       "<table border=\"1\" class=\"dataframe\">\n",
       "  <thead>\n",
       "    <tr style=\"text-align: right;\">\n",
       "      <th></th>\n",
       "      <th>max_features</th>\n",
       "      <th>min_samples_split</th>\n",
       "      <th>cv_accuracy</th>\n",
       "      <th>cv_auc</th>\n",
       "      <th>cv_rmse</th>\n",
       "    </tr>\n",
       "  </thead>\n",
       "  <tbody>\n",
       "    <tr>\n",
       "      <th>0</th>\n",
       "      <td>5</td>\n",
       "      <td>11</td>\n",
       "      <td>0.951832</td>\n",
       "      <td>0.718711</td>\n",
       "      <td>0.209374</td>\n",
       "    </tr>\n",
       "    <tr>\n",
       "      <th>1</th>\n",
       "      <td>5</td>\n",
       "      <td>16</td>\n",
       "      <td>0.951832</td>\n",
       "      <td>0.723542</td>\n",
       "      <td>0.209350</td>\n",
       "    </tr>\n",
       "    <tr>\n",
       "      <th>2</th>\n",
       "      <td>6</td>\n",
       "      <td>11</td>\n",
       "      <td>0.951832</td>\n",
       "      <td>0.709432</td>\n",
       "      <td>0.210081</td>\n",
       "    </tr>\n",
       "    <tr>\n",
       "      <th>3</th>\n",
       "      <td>6</td>\n",
       "      <td>16</td>\n",
       "      <td>0.951832</td>\n",
       "      <td>0.721162</td>\n",
       "      <td>0.209361</td>\n",
       "    </tr>\n",
       "    <tr>\n",
       "      <th>4</th>\n",
       "      <td>7</td>\n",
       "      <td>11</td>\n",
       "      <td>0.951832</td>\n",
       "      <td>0.718785</td>\n",
       "      <td>0.210186</td>\n",
       "    </tr>\n",
       "    <tr>\n",
       "      <th>5</th>\n",
       "      <td>7</td>\n",
       "      <td>16</td>\n",
       "      <td>0.951832</td>\n",
       "      <td>0.713840</td>\n",
       "      <td>0.209817</td>\n",
       "    </tr>\n",
       "  </tbody>\n",
       "</table>\n",
       "</div>"
      ],
      "text/plain": [
       "  max_features min_samples_split  cv_accuracy    cv_auc   cv_rmse\n",
       "0            5                11     0.951832  0.718711  0.209374\n",
       "1            5                16     0.951832  0.723542  0.209350\n",
       "2            6                11     0.951832  0.709432  0.210081\n",
       "3            6                16     0.951832  0.721162  0.209361\n",
       "4            7                11     0.951832  0.718785  0.210186\n",
       "5            7                16     0.951832  0.713840  0.209817"
      ]
     },
     "execution_count": 109,
     "metadata": {},
     "output_type": "execute_result"
    }
   ],
   "source": [
    "prob_forest_cv_results"
   ]
  },
  {
   "cell_type": "code",
   "execution_count": 110,
   "id": "b642cd5b-aaa1-4226-88a9-781d259804ab",
   "metadata": {
    "tags": []
   },
   "outputs": [],
   "source": [
    "best_max_features = prob_forest_fit.best_params_['max_features']\n",
    "best_min_sample_split = prob_forest_fit.best_params_['min_samples_split']"
   ]
  },
  {
   "cell_type": "code",
   "execution_count": 111,
   "id": "88df4bc2-6cc2-409a-b2f2-368c491214bc",
   "metadata": {
    "tags": []
   },
   "outputs": [
    {
     "name": "stdout",
     "output_type": "stream",
     "text": [
      "The best random forest model has the following features: {'criterion': 'gini', 'max_features': 5, 'min_samples_split': 16}\n"
     ]
    }
   ],
   "source": [
    "print(f'The best random forest model has the following features: {prob_forest_fit.best_params_}')"
   ]
  },
  {
   "cell_type": "markdown",
   "id": "9cb929a3-b070-41a5-b2eb-345908d9d53f",
   "metadata": {},
   "source": [
    "The random forest model produced much better results than the best performing X3 logistics regression."
   ]
  },
  {
   "cell_type": "markdown",
   "id": "973977dd-e5e2-4ebe-8f71-ab2105cc950b",
   "metadata": {
    "tags": []
   },
   "source": [
    "**Using loss function and search for best thresholds and expected loss over folds**"
   ]
  },
  {
   "cell_type": "code",
   "execution_count": 112,
   "id": "cd8109f5-bfcf-4be9-a0cd-dce637faf1e8",
   "metadata": {
    "tags": []
   },
   "outputs": [],
   "source": [
    "best_thresholds = list()\n",
    "expected_loss = list()\n",
    "\n",
    "fold = 0\n",
    "for train_index, test_index in k.split(rfvars_train):\n",
    "    X_fold = rfvars_train.iloc[test_index,:]\n",
    "    y_fold = y_train.iloc[test_index]\n",
    "    \n",
    "    X_fold_train = rfvars_train.iloc[train_index,:]\n",
    "    y_fold_train = y_train.iloc[train_index]\n",
    "    \n",
    "    prob_forest_best = RandomForestClassifier(\n",
    "        random_state=20240224, \n",
    "        n_estimators=500, \n",
    "        oob_score=True,\n",
    "        criterion = 'gini', \n",
    "        max_features = best_max_features, min_samples_split = best_min_sample_split)\n",
    "    \n",
    "    prob_forest_best_fold = prob_forest_best.fit(X_fold_train, y_fold_train)\n",
    "    pred_fold = prob_forest_best_fold.predict_proba(X_fold)[:,1]\n",
    "\n",
    "    false_pos_rate, true_pos_rate, threshold = roc_curve(y_fold, pred_fold)\n",
    "    \n",
    "    best_threshold = sorted(\n",
    "        list(\n",
    "            zip(\n",
    "                np.abs(\n",
    "                    true_pos_rate + (1 - prevelance)/(cost * prevelance)*(1-false_pos_rate)\n",
    "                ),\n",
    "                threshold\n",
    "            )\n",
    "        ), \n",
    "        key=lambda x: x[0], reverse=True)[0][1]\n",
    "    \n",
    "    best_thresholds.append(best_threshold)\n",
    "    \n",
    "    threshold_prediction = np.where(pred_fold < best_threshold, 0, 1)\n",
    "    tn, fp, fn, tp = confusion_matrix(y_fold, threshold_prediction, labels=[0,1]).ravel()\n",
    "    curr_exp_loss = (fp*FP + fn*FN)/len(y_fold)\n",
    "    expected_loss.append(curr_exp_loss)"
   ]
  },
  {
   "cell_type": "code",
   "execution_count": 113,
   "id": "f1b1e5a4-d97c-4480-9e00-58167336c14c",
   "metadata": {
    "tags": []
   },
   "outputs": [
    {
     "data": {
      "text/plain": [
       "[0.19706179637734636,\n",
       " inf,\n",
       " 0.18816587774427776,\n",
       " 0.10239511142695129,\n",
       " 0.1064577521019341]"
      ]
     },
     "execution_count": 113,
     "metadata": {},
     "output_type": "execute_result"
    }
   ],
   "source": [
    "best_thresholds"
   ]
  },
  {
   "cell_type": "code",
   "execution_count": 114,
   "id": "584d44de-5949-455a-9563-87138a5ca19b",
   "metadata": {
    "tags": []
   },
   "outputs": [
    {
     "data": {
      "text/plain": [
       "inf"
      ]
     },
     "execution_count": 114,
     "metadata": {},
     "output_type": "execute_result"
    }
   ],
   "source": [
    "best_thresholds.pop(1)"
   ]
  },
  {
   "cell_type": "code",
   "execution_count": 115,
   "id": "ec607e6b-05b6-4510-9334-153b76be5929",
   "metadata": {
    "tags": []
   },
   "outputs": [
    {
     "data": {
      "text/plain": [
       "[0.19706179637734636,\n",
       " 0.18816587774427776,\n",
       " 0.10239511142695129,\n",
       " 0.1064577521019341]"
      ]
     },
     "execution_count": 115,
     "metadata": {},
     "output_type": "execute_result"
    }
   ],
   "source": [
    "best_thresholds"
   ]
  },
  {
   "cell_type": "markdown",
   "id": "cf37cedc-783c-4119-bfe8-f6644a48906d",
   "metadata": {},
   "source": [
    "The best thresholds contains an infinite threshold - likely again due to the random_state setting and the small sample size. To get meaningful results, this `inf` value will not be used for averaging."
   ]
  },
  {
   "cell_type": "code",
   "execution_count": 116,
   "id": "53d18cd4-fc55-4962-92c0-8eac536be8f7",
   "metadata": {
    "tags": []
   },
   "outputs": [
    {
     "data": {
      "text/plain": [
       "0.4712041884816754"
      ]
     },
     "execution_count": 116,
     "metadata": {},
     "output_type": "execute_result"
    }
   ],
   "source": [
    "expected_loss.pop(1)"
   ]
  },
  {
   "cell_type": "code",
   "execution_count": 117,
   "id": "4ca200d5-cf93-4051-b476-950f3931d802",
   "metadata": {
    "tags": []
   },
   "outputs": [
    {
     "data": {
      "text/html": [
       "<div>\n",
       "<style scoped>\n",
       "    .dataframe tbody tr th:only-of-type {\n",
       "        vertical-align: middle;\n",
       "    }\n",
       "\n",
       "    .dataframe tbody tr th {\n",
       "        vertical-align: top;\n",
       "    }\n",
       "\n",
       "    .dataframe thead th {\n",
       "        text-align: right;\n",
       "    }\n",
       "</style>\n",
       "<table border=\"1\" class=\"dataframe\">\n",
       "  <thead>\n",
       "    <tr style=\"text-align: right;\">\n",
       "      <th></th>\n",
       "      <th>false_pos</th>\n",
       "      <th>true_pos</th>\n",
       "      <th>false_neg</th>\n",
       "      <th>true_neg</th>\n",
       "      <th>pos</th>\n",
       "      <th>neg</th>\n",
       "      <th>n</th>\n",
       "      <th>thresholds</th>\n",
       "    </tr>\n",
       "  </thead>\n",
       "  <tbody>\n",
       "    <tr>\n",
       "      <th>0</th>\n",
       "      <td>0.0</td>\n",
       "      <td>0.0</td>\n",
       "      <td>9.0</td>\n",
       "      <td>182.0</td>\n",
       "      <td>9</td>\n",
       "      <td>182</td>\n",
       "      <td>191</td>\n",
       "      <td>inf</td>\n",
       "    </tr>\n",
       "    <tr>\n",
       "      <th>1</th>\n",
       "      <td>0.0</td>\n",
       "      <td>1.0</td>\n",
       "      <td>8.0</td>\n",
       "      <td>182.0</td>\n",
       "      <td>9</td>\n",
       "      <td>182</td>\n",
       "      <td>191</td>\n",
       "      <td>0.327499</td>\n",
       "    </tr>\n",
       "    <tr>\n",
       "      <th>2</th>\n",
       "      <td>3.0</td>\n",
       "      <td>1.0</td>\n",
       "      <td>8.0</td>\n",
       "      <td>179.0</td>\n",
       "      <td>9</td>\n",
       "      <td>182</td>\n",
       "      <td>191</td>\n",
       "      <td>0.217219</td>\n",
       "    </tr>\n",
       "    <tr>\n",
       "      <th>3</th>\n",
       "      <td>3.0</td>\n",
       "      <td>2.0</td>\n",
       "      <td>7.0</td>\n",
       "      <td>179.0</td>\n",
       "      <td>9</td>\n",
       "      <td>182</td>\n",
       "      <td>191</td>\n",
       "      <td>0.197489</td>\n",
       "    </tr>\n",
       "    <tr>\n",
       "      <th>4</th>\n",
       "      <td>9.0</td>\n",
       "      <td>2.0</td>\n",
       "      <td>7.0</td>\n",
       "      <td>173.0</td>\n",
       "      <td>9</td>\n",
       "      <td>182</td>\n",
       "      <td>191</td>\n",
       "      <td>0.149546</td>\n",
       "    </tr>\n",
       "    <tr>\n",
       "      <th>5</th>\n",
       "      <td>9.0</td>\n",
       "      <td>3.0</td>\n",
       "      <td>6.0</td>\n",
       "      <td>173.0</td>\n",
       "      <td>9</td>\n",
       "      <td>182</td>\n",
       "      <td>191</td>\n",
       "      <td>0.138339</td>\n",
       "    </tr>\n",
       "    <tr>\n",
       "      <th>6</th>\n",
       "      <td>11.0</td>\n",
       "      <td>3.0</td>\n",
       "      <td>6.0</td>\n",
       "      <td>171.0</td>\n",
       "      <td>9</td>\n",
       "      <td>182</td>\n",
       "      <td>191</td>\n",
       "      <td>0.123661</td>\n",
       "    </tr>\n",
       "    <tr>\n",
       "      <th>7</th>\n",
       "      <td>11.0</td>\n",
       "      <td>4.0</td>\n",
       "      <td>5.0</td>\n",
       "      <td>171.0</td>\n",
       "      <td>9</td>\n",
       "      <td>182</td>\n",
       "      <td>191</td>\n",
       "      <td>0.123041</td>\n",
       "    </tr>\n",
       "    <tr>\n",
       "      <th>8</th>\n",
       "      <td>18.0</td>\n",
       "      <td>4.0</td>\n",
       "      <td>5.0</td>\n",
       "      <td>164.0</td>\n",
       "      <td>9</td>\n",
       "      <td>182</td>\n",
       "      <td>191</td>\n",
       "      <td>0.111905</td>\n",
       "    </tr>\n",
       "    <tr>\n",
       "      <th>9</th>\n",
       "      <td>18.0</td>\n",
       "      <td>5.0</td>\n",
       "      <td>4.0</td>\n",
       "      <td>164.0</td>\n",
       "      <td>9</td>\n",
       "      <td>182</td>\n",
       "      <td>191</td>\n",
       "      <td>0.111617</td>\n",
       "    </tr>\n",
       "    <tr>\n",
       "      <th>10</th>\n",
       "      <td>19.0</td>\n",
       "      <td>5.0</td>\n",
       "      <td>4.0</td>\n",
       "      <td>163.0</td>\n",
       "      <td>9</td>\n",
       "      <td>182</td>\n",
       "      <td>191</td>\n",
       "      <td>0.109675</td>\n",
       "    </tr>\n",
       "    <tr>\n",
       "      <th>11</th>\n",
       "      <td>19.0</td>\n",
       "      <td>6.0</td>\n",
       "      <td>3.0</td>\n",
       "      <td>163.0</td>\n",
       "      <td>9</td>\n",
       "      <td>182</td>\n",
       "      <td>191</td>\n",
       "      <td>0.106458</td>\n",
       "    </tr>\n",
       "    <tr>\n",
       "      <th>12</th>\n",
       "      <td>31.0</td>\n",
       "      <td>6.0</td>\n",
       "      <td>3.0</td>\n",
       "      <td>151.0</td>\n",
       "      <td>9</td>\n",
       "      <td>182</td>\n",
       "      <td>191</td>\n",
       "      <td>0.082197</td>\n",
       "    </tr>\n",
       "    <tr>\n",
       "      <th>13</th>\n",
       "      <td>31.0</td>\n",
       "      <td>7.0</td>\n",
       "      <td>2.0</td>\n",
       "      <td>151.0</td>\n",
       "      <td>9</td>\n",
       "      <td>182</td>\n",
       "      <td>191</td>\n",
       "      <td>0.079945</td>\n",
       "    </tr>\n",
       "    <tr>\n",
       "      <th>14</th>\n",
       "      <td>42.0</td>\n",
       "      <td>7.0</td>\n",
       "      <td>2.0</td>\n",
       "      <td>140.0</td>\n",
       "      <td>9</td>\n",
       "      <td>182</td>\n",
       "      <td>191</td>\n",
       "      <td>0.068442</td>\n",
       "    </tr>\n",
       "    <tr>\n",
       "      <th>15</th>\n",
       "      <td>42.0</td>\n",
       "      <td>8.0</td>\n",
       "      <td>1.0</td>\n",
       "      <td>140.0</td>\n",
       "      <td>9</td>\n",
       "      <td>182</td>\n",
       "      <td>191</td>\n",
       "      <td>0.064561</td>\n",
       "    </tr>\n",
       "    <tr>\n",
       "      <th>16</th>\n",
       "      <td>64.0</td>\n",
       "      <td>8.0</td>\n",
       "      <td>1.0</td>\n",
       "      <td>118.0</td>\n",
       "      <td>9</td>\n",
       "      <td>182</td>\n",
       "      <td>191</td>\n",
       "      <td>0.047614</td>\n",
       "    </tr>\n",
       "    <tr>\n",
       "      <th>17</th>\n",
       "      <td>64.0</td>\n",
       "      <td>9.0</td>\n",
       "      <td>0.0</td>\n",
       "      <td>118.0</td>\n",
       "      <td>9</td>\n",
       "      <td>182</td>\n",
       "      <td>191</td>\n",
       "      <td>0.046591</td>\n",
       "    </tr>\n",
       "    <tr>\n",
       "      <th>18</th>\n",
       "      <td>182.0</td>\n",
       "      <td>9.0</td>\n",
       "      <td>0.0</td>\n",
       "      <td>0.0</td>\n",
       "      <td>9</td>\n",
       "      <td>182</td>\n",
       "      <td>191</td>\n",
       "      <td>0.000773</td>\n",
       "    </tr>\n",
       "  </tbody>\n",
       "</table>\n",
       "</div>"
      ],
      "text/plain": [
       "    false_pos  true_pos  false_neg  true_neg  pos  neg    n  thresholds\n",
       "0         0.0       0.0        9.0     182.0    9  182  191         inf\n",
       "1         0.0       1.0        8.0     182.0    9  182  191    0.327499\n",
       "2         3.0       1.0        8.0     179.0    9  182  191    0.217219\n",
       "3         3.0       2.0        7.0     179.0    9  182  191    0.197489\n",
       "4         9.0       2.0        7.0     173.0    9  182  191    0.149546\n",
       "5         9.0       3.0        6.0     173.0    9  182  191    0.138339\n",
       "6        11.0       3.0        6.0     171.0    9  182  191    0.123661\n",
       "7        11.0       4.0        5.0     171.0    9  182  191    0.123041\n",
       "8        18.0       4.0        5.0     164.0    9  182  191    0.111905\n",
       "9        18.0       5.0        4.0     164.0    9  182  191    0.111617\n",
       "10       19.0       5.0        4.0     163.0    9  182  191    0.109675\n",
       "11       19.0       6.0        3.0     163.0    9  182  191    0.106458\n",
       "12       31.0       6.0        3.0     151.0    9  182  191    0.082197\n",
       "13       31.0       7.0        2.0     151.0    9  182  191    0.079945\n",
       "14       42.0       7.0        2.0     140.0    9  182  191    0.068442\n",
       "15       42.0       8.0        1.0     140.0    9  182  191    0.064561\n",
       "16       64.0       8.0        1.0     118.0    9  182  191    0.047614\n",
       "17       64.0       9.0        0.0     118.0    9  182  191    0.046591\n",
       "18      182.0       9.0        0.0       0.0    9  182  191    0.000773"
      ]
     },
     "execution_count": 117,
     "metadata": {},
     "output_type": "execute_result"
    }
   ],
   "source": [
    "fold5_threshold_rf = best_threshold\n",
    "fold5_expected_loss_rf = curr_exp_loss\n",
    "\n",
    "all_coords_rf = pd.DataFrame({\n",
    "    'false_pos': false_pos_rate*sum(y_fold == 0),\n",
    "    'true_pos': true_pos_rate*sum(y_fold == 1),\n",
    "    'false_neg': sum(y_fold == 1) - true_pos_rate*sum(y_fold == 1),\n",
    "    'true_neg': sum(y_fold == 0) - false_pos_rate*sum(y_fold == 0),\n",
    "    'pos': sum(y_fold == 1),\n",
    "    'neg': sum(y_fold == 0),\n",
    "    'n': len(y_fold),\n",
    "    'thresholds': threshold\n",
    "})\n",
    "\n",
    "all_coords_rf"
   ]
  },
  {
   "cell_type": "code",
   "execution_count": 118,
   "id": "c56a9039-9edd-4d7b-bf79-ae7bc2331c3b",
   "metadata": {
    "tags": []
   },
   "outputs": [],
   "source": [
    "expected_loss_cv['rf_p'] = np.mean(expected_loss)\n",
    "best_thresholds_cv['rf_p'] = np.mean(best_thresholds)"
   ]
  },
  {
   "cell_type": "code",
   "execution_count": 119,
   "id": "a1a6ae5d-3dc0-4380-ace3-b1e1c426a4be",
   "metadata": {
    "tags": []
   },
   "outputs": [],
   "source": [
    "prob_forest_best_results = prob_forest_cv_results[\n",
    "    (prob_forest_cv_results.max_features == best_max_features) & \n",
    "    (prob_forest_cv_results.min_samples_split == best_min_sample_split)]\n",
    "prob_forest_best_results_index = prob_forest_best_results.index.values[0]"
   ]
  },
  {
   "cell_type": "code",
   "execution_count": 120,
   "id": "b4239ac8-b89e-451b-9894-271355538925",
   "metadata": {
    "tags": []
   },
   "outputs": [
    {
     "data": {
      "text/html": [
       "<div>\n",
       "<style scoped>\n",
       "    .dataframe tbody tr th:only-of-type {\n",
       "        vertical-align: middle;\n",
       "    }\n",
       "\n",
       "    .dataframe tbody tr th {\n",
       "        vertical-align: top;\n",
       "    }\n",
       "\n",
       "    .dataframe thead th {\n",
       "        text-align: right;\n",
       "    }\n",
       "</style>\n",
       "<table border=\"1\" class=\"dataframe\">\n",
       "  <thead>\n",
       "    <tr style=\"text-align: right;\">\n",
       "      <th></th>\n",
       "      <th>CV RMSE</th>\n",
       "      <th>CV AUC</th>\n",
       "      <th>Avg of optimal thresholds</th>\n",
       "      <th>Threshold for Fold5</th>\n",
       "      <th>Avg expected loss</th>\n",
       "      <th>Expected loss for Fold5</th>\n",
       "    </tr>\n",
       "  </thead>\n",
       "  <tbody>\n",
       "    <tr>\n",
       "      <th>0</th>\n",
       "      <td>0.209</td>\n",
       "      <td>0.724</td>\n",
       "      <td>0.149</td>\n",
       "      <td>0.106</td>\n",
       "      <td>0.62</td>\n",
       "      <td>0.534</td>\n",
       "    </tr>\n",
       "  </tbody>\n",
       "</table>\n",
       "</div>"
      ],
      "text/plain": [
       "   CV RMSE  CV AUC  Avg of optimal thresholds  Threshold for Fold5  \\\n",
       "0    0.209   0.724                      0.149                0.106   \n",
       "\n",
       "   Avg expected loss  Expected loss for Fold5  \n",
       "0               0.62                    0.534  "
      ]
     },
     "execution_count": 120,
     "metadata": {},
     "output_type": "execute_result"
    }
   ],
   "source": [
    "rf_summary = pd.DataFrame(\n",
    "    {'CV RMSE': [round(prob_forest_best_results.cv_rmse.values[0], 3)],\n",
    "     'CV AUC': [round(prob_forest_best_results.cv_auc.values[0], 3)],\n",
    "     'Avg of optimal thresholds': [round(best_thresholds_cv['rf_p'], 3)],\n",
    "     'Threshold for Fold5': [round(best_threshold, 3)],\n",
    "     'Avg expected loss': [round(expected_loss_cv['rf_p'], 3)],\n",
    "     'Expected loss for Fold5': [round(curr_exp_loss, 3)]})\n",
    "\n",
    "rf_summary"
   ]
  },
  {
   "cell_type": "markdown",
   "id": "8e3e09d4-67b6-4e69-81b1-e99a3706d9ba",
   "metadata": {},
   "source": [
    "**Take model to holdout and estimate RMSE, AUC and expected loss**"
   ]
  },
  {
   "cell_type": "code",
   "execution_count": 121,
   "id": "003bd78f-3780-4a71-a4b5-d5720bf61340",
   "metadata": {
    "tags": []
   },
   "outputs": [
    {
     "data": {
      "text/plain": [
       "0.213"
      ]
     },
     "execution_count": 121,
     "metadata": {},
     "output_type": "execute_result"
    }
   ],
   "source": [
    "prob_forest_fit_best = prob_forest_fit.best_estimator_\n",
    "rf_predicted_probabilities_holdout = prob_forest_fit_best.predict_proba(rfvars_holdout)[:,1]\n",
    "rmse_rf = np.sqrt(mean_squared_error(y_holdout, rf_predicted_probabilities_holdout))\n",
    "round(rmse_rf, 3)"
   ]
  },
  {
   "cell_type": "code",
   "execution_count": 122,
   "id": "ee5016ae-cfc1-4066-b508-592213e997bb",
   "metadata": {
    "tags": []
   },
   "outputs": [
    {
     "data": {
      "text/plain": [
       "0.825"
      ]
     },
     "execution_count": 122,
     "metadata": {},
     "output_type": "execute_result"
    }
   ],
   "source": [
    "auc_rf = roc_auc_score(y_holdout, rf_predicted_probabilities_holdout)\n",
    "round(auc_rf, 3)"
   ]
  },
  {
   "cell_type": "code",
   "execution_count": 123,
   "id": "ccebbc1f-91e1-4d70-8803-342a4e0e3800",
   "metadata": {
    "tags": []
   },
   "outputs": [
    {
     "data": {
      "text/plain": [
       "0.645"
      ]
     },
     "execution_count": 123,
     "metadata": {},
     "output_type": "execute_result"
    }
   ],
   "source": [
    "holdout_treshold = np.where(rf_predicted_probabilities_holdout < best_thresholds_cv['rf_p'], 0, 1)\n",
    "tn, fp, fn, tp = confusion_matrix(y_holdout, holdout_treshold, labels=[0,1]).ravel()\n",
    "expected_loss_holdout_rf1 = (fp*FP + fn*FN)/len(y_holdout)\n",
    "round(expected_loss_holdout_rf1, 3)"
   ]
  },
  {
   "cell_type": "markdown",
   "id": "69d53430-c32f-41bb-ae26-f445648baf9f",
   "metadata": {},
   "source": [
    "The RF model performs with a lower expected loss on the holdout set (0.645) than the best logistics regression model (0.749)."
   ]
  },
  {
   "cell_type": "code",
   "execution_count": 124,
   "id": "d2950deb-5a36-491e-b3fd-cf7005387c20",
   "metadata": {
    "tags": []
   },
   "outputs": [
    {
     "data": {
      "image/png": "[encoded data removed]",
      "text/plain": [
       "<Figure size 640x480 with 1 Axes>"
      ]
     },
     "metadata": {
      "image/png": {
       "height": 480,
       "width": 640
      }
     },
     "output_type": "display_data"
    },
    {
     "data": {
      "text/plain": [
       "<Figure Size: (640 x 480)>"
      ]
     },
     "execution_count": 124,
     "metadata": {},
     "output_type": "execute_result"
    }
   ],
   "source": [
    "create_loss_plot(all_coords_rf, fold5_threshold_rf, fold5_expected_loss_rf)"
   ]
  },
  {
   "cell_type": "code",
   "execution_count": 125,
   "id": "20949ec9-9406-4771-8376-840c80df9dcc",
   "metadata": {
    "tags": []
   },
   "outputs": [
    {
     "data": {
      "text/html": [
       "<div>\n",
       "<style scoped>\n",
       "    .dataframe tbody tr th:only-of-type {\n",
       "        vertical-align: middle;\n",
       "    }\n",
       "\n",
       "    .dataframe tbody tr th {\n",
       "        vertical-align: top;\n",
       "    }\n",
       "\n",
       "    .dataframe thead th {\n",
       "        text-align: right;\n",
       "    }\n",
       "</style>\n",
       "<table border=\"1\" class=\"dataframe\">\n",
       "  <thead>\n",
       "    <tr style=\"text-align: right;\">\n",
       "      <th></th>\n",
       "      <th>Predicted no default</th>\n",
       "      <th>Predicted default</th>\n",
       "    </tr>\n",
       "  </thead>\n",
       "  <tbody>\n",
       "    <tr>\n",
       "      <th>Actul no defaul</th>\n",
       "      <td>928</td>\n",
       "      <td>53</td>\n",
       "    </tr>\n",
       "    <tr>\n",
       "      <th>Actual default</th>\n",
       "      <td>34</td>\n",
       "      <td>22</td>\n",
       "    </tr>\n",
       "  </tbody>\n",
       "</table>\n",
       "</div>"
      ],
      "text/plain": [
       "                 Predicted no default  Predicted default\n",
       "Actul no defaul                   928                 53\n",
       "Actual default                     34                 22"
      ]
     },
     "execution_count": 125,
     "metadata": {},
     "output_type": "execute_result"
    }
   ],
   "source": [
    "cm_object4 = confusion_matrix(y_holdout, holdout_treshold, labels=[0,1])\n",
    "cm4 = pd.DataFrame(cm_object4, \n",
    "    index=['Actul no defaul', 'Actual default'], \n",
    "    columns=['Predicted no default', 'Predicted default'])\n",
    "cm4"
   ]
  },
  {
   "cell_type": "markdown",
   "id": "ae1449e6-0970-4a7d-8298-eae26f27b6e9",
   "metadata": {},
   "source": [
    "This model is predicting much better on the actual defaults than the logistics model."
   ]
  },
  {
   "cell_type": "markdown",
   "id": "de030b74-8f75-4a07-8ac4-7ea66c850354",
   "metadata": {},
   "source": [
    "## Modeling on data2"
   ]
  },
  {
   "cell_type": "code",
   "execution_count": 126,
   "id": "33feafac-8eda-439d-a563-7f2b112f0030",
   "metadata": {
    "tags": []
   },
   "outputs": [],
   "source": [
    "ind2_catmat = patsy.dmatrix(\"0 + C(ind2)\",dataset2, return_type=\"dataframe\")\n",
    "ind2_catmat = ind2_catmat.drop(['C(ind2)[1.0]'], axis=1)"
   ]
  },
  {
   "cell_type": "code",
   "execution_count": 127,
   "id": "01407fca-8146-4fde-806f-11a49fc8e849",
   "metadata": {
    "tags": []
   },
   "outputs": [],
   "source": [
    "ind_catmat = patsy.dmatrix(\"0 + C(ind)\",dataset2, return_type=\"dataframe\")\n",
    "ind_catmat = ind_catmat.drop(['C(ind)[1.0]'], axis=1)"
   ]
  },
  {
   "cell_type": "code",
   "execution_count": 128,
   "id": "3e324896-d604-4141-97c0-69351222a88f",
   "metadata": {
    "tags": []
   },
   "outputs": [],
   "source": [
    "m_region_locmat = patsy.dmatrix(\"0 + C(region_m)\",dataset2, return_type=\"dataframe\")\n",
    "m_region_locmat = m_region_locmat.drop(['C(region_m)[Central]'], axis=1)"
   ]
  },
  {
   "cell_type": "code",
   "execution_count": 129,
   "id": "21fb5019-2231-4776-92be-897ab418d093",
   "metadata": {
    "tags": []
   },
   "outputs": [],
   "source": [
    "urban_mmat = patsy.dmatrix(\"0 + C(urban_m)\",dataset2, return_type=\"dataframe\")\n",
    "urban_mmat = urban_mmat.drop(['C(urban_m)[1.0]'], axis=1)"
   ]
  },
  {
   "cell_type": "code",
   "execution_count": 130,
   "id": "21bae7bd-2cca-47b2-b653-b20931fd2d5c",
   "metadata": {
    "tags": []
   },
   "outputs": [],
   "source": [
    "gender_catmat = patsy.dmatrix(\"0 + C(gender)\",dataset2, return_type=\"dataframe\")\n",
    "gender_catmat = gender_catmat.drop(['C(gender)[male]'], axis=1)"
   ]
  },
  {
   "cell_type": "code",
   "execution_count": 131,
   "id": "3697c39c-cdf5-4ee0-8bcf-54e8dfa8f0db",
   "metadata": {
    "tags": []
   },
   "outputs": [],
   "source": [
    "origin_catmat = patsy.dmatrix(\"0 + C(origin)\",dataset2, return_type=\"dataframe\")\n",
    "origin_catmat = origin_catmat.drop(['C(origin)[Domestic]'], axis=1)"
   ]
  },
  {
   "cell_type": "markdown",
   "id": "2b1533cf-5207-4c54-9810-a4a09512e4fb",
   "metadata": {},
   "source": [
    "### Logitstics regression"
   ]
  },
  {
   "cell_type": "code",
   "execution_count": 132,
   "id": "3643f265-5f61-4725-ae49-13041dc7ad75",
   "metadata": {
    "tags": []
   },
   "outputs": [],
   "source": [
    "raw = dataset2[raw_vars]\n",
    "fin = dataset2[fin_vars]\n",
    "X1 = pd.concat([raw, fin], axis=1)"
   ]
  },
  {
   "cell_type": "code",
   "execution_count": 133,
   "id": "2fa8527c-70f4-4893-8bcc-f5aadad5bd91",
   "metadata": {
    "tags": []
   },
   "outputs": [],
   "source": [
    "X2 = pd.concat([X1, ind2_catmat, ind_catmat, m_region_locmat, urban_mmat, gender_catmat, origin_catmat], axis=1)"
   ]
  },
  {
   "cell_type": "code",
   "execution_count": 134,
   "id": "dd08eaf4-7d74-4847-b56a-c35157ebdd5d",
   "metadata": {
    "tags": []
   },
   "outputs": [],
   "source": [
    "hr = dataset2[hr_vars]\n",
    "X3 = pd.concat([X1, X2, hr], axis = 1)"
   ]
  },
  {
   "cell_type": "code",
   "execution_count": 135,
   "id": "e36cbf9e-5ca5-4ddc-9483-1676f94da3b2",
   "metadata": {
    "tags": []
   },
   "outputs": [],
   "source": [
    "rfvars  = pd.concat([X1, X2, hr], axis=1)"
   ]
  },
  {
   "cell_type": "code",
   "execution_count": 136,
   "id": "ddead5e0-2d0c-4eec-9d81-49201c95ffdc",
   "metadata": {
    "tags": []
   },
   "outputs": [],
   "source": [
    "y = dataset2['default']"
   ]
  },
  {
   "cell_type": "code",
   "execution_count": 137,
   "id": "d7a601d0-2784-4119-9e2a-f15d744033b0",
   "metadata": {
    "tags": []
   },
   "outputs": [],
   "source": [
    "# definine train-holdout split based on dataset2's setup\n",
    "\n",
    "index_train = data2.index\n",
    "index_holdout = holdout_data.index\n",
    "\n",
    "y_train = y.loc[index_train]\n",
    "y_holdout = y.loc[index_holdout]"
   ]
  },
  {
   "cell_type": "code",
   "execution_count": 138,
   "id": "14dea2f5-ac83-4fc1-a126-a7edfabe6db6",
   "metadata": {
    "tags": []
   },
   "outputs": [],
   "source": [
    "# specifying cross-validation \n",
    "k = KFold(n_splits = 5, shuffle = True, random_state = 20240224)"
   ]
  },
  {
   "cell_type": "code",
   "execution_count": 139,
   "id": "8924b3ea-1713-4d95-8f7b-a8c12fa4601a",
   "metadata": {
    "tags": []
   },
   "outputs": [],
   "source": [
    "# no regularisation needed so setting the paremeter to very high value\n",
    "Cs_value_logit = [1e20]"
   ]
  },
  {
   "cell_type": "code",
   "execution_count": 140,
   "id": "ed08e019-cddd-4346-ae4e-fb1387f7aad9",
   "metadata": {
    "tags": []
   },
   "outputs": [],
   "source": [
    "logit_model_vars = [X1.loc[index_train], X2.loc[index_train], X3.loc[index_train]]\n",
    "\n",
    "logit_models = dict()\n",
    "CV_RMSE_folds = dict()"
   ]
  },
  {
   "cell_type": "code",
   "execution_count": 141,
   "id": "429c3701-e520-4c7d-9c97-4e86bc1e74b3",
   "metadata": {
    "tags": []
   },
   "outputs": [
    {
     "name": "stdout",
     "output_type": "stream",
     "text": [
      "CPU times: total: 1min 39s\n",
      "Wall time: 1min 40s\n"
     ]
    }
   ],
   "source": [
    "%%time\n",
    "for i in range(len(logit_model_vars)):\n",
    "    LRCV_brier = LogisticRegressionCV(\n",
    "        Cs=Cs_value_logit, \n",
    "        cv=k,\n",
    "        refit=True, \n",
    "        scoring='neg_brier_score', \n",
    "        solver=\"newton-cg\", \n",
    "        tol=1e-7, \n",
    "        random_state=20240224)\n",
    "    logit_models['X'+str(i+1)] = LRCV_brier.fit(logit_model_vars[i], y_train)\n",
    "    \n",
    "    # Calculate RMSE on test for each fold\n",
    "    CV_RMSE_folds['X'+str(i+1)] = np.sqrt(-1*(logit_models['X'+str(i+1)].scores_[1])).flatten()"
   ]
  },
  {
   "cell_type": "code",
   "execution_count": 142,
   "id": "c0d6ef94-a5cb-47fe-8a60-01260f4e1c38",
   "metadata": {
    "tags": []
   },
   "outputs": [],
   "source": [
    "# checking AUC scores as well\n",
    "CV_AUC_folds = dict()\n",
    "\n",
    "for i in range(len(logit_model_vars)):\n",
    "    LRCV_auc = LogisticRegressionCV(\n",
    "        Cs=Cs_value_logit, \n",
    "        cv=k, \n",
    "        refit=True, \n",
    "        scoring='roc_auc', \n",
    "        solver=\"newton-cg\", \n",
    "        tol=1e-7, \n",
    "        random_state = 20240205)\n",
    "    LRCV_auc_fit = LRCV_auc.fit(logit_model_vars[i], y_train)\n",
    "    # Calculate AUC on test for each fold\n",
    "    CV_AUC_folds['X'+str(i+1)] = LRCV_auc_fit.scores_[1][:,0].tolist()"
   ]
  },
  {
   "cell_type": "code",
   "execution_count": 143,
   "id": "bbac63fc-6c9f-401f-bff8-4494760f6fd8",
   "metadata": {
    "tags": []
   },
   "outputs": [
    {
     "data": {
      "text/html": [
       "<div>\n",
       "<style scoped>\n",
       "    .dataframe tbody tr th:only-of-type {\n",
       "        vertical-align: middle;\n",
       "    }\n",
       "\n",
       "    .dataframe tbody tr th {\n",
       "        vertical-align: top;\n",
       "    }\n",
       "\n",
       "    .dataframe thead th {\n",
       "        text-align: right;\n",
       "    }\n",
       "</style>\n",
       "<table border=\"1\" class=\"dataframe\">\n",
       "  <thead>\n",
       "    <tr style=\"text-align: right;\">\n",
       "      <th></th>\n",
       "      <th>X1</th>\n",
       "      <th>X2</th>\n",
       "      <th>X3</th>\n",
       "    </tr>\n",
       "  </thead>\n",
       "  <tbody>\n",
       "    <tr>\n",
       "      <th>0</th>\n",
       "      <td>0.738995</td>\n",
       "      <td>0.744232</td>\n",
       "      <td>0.732350</td>\n",
       "    </tr>\n",
       "    <tr>\n",
       "      <th>1</th>\n",
       "      <td>0.726883</td>\n",
       "      <td>0.726280</td>\n",
       "      <td>0.730189</td>\n",
       "    </tr>\n",
       "    <tr>\n",
       "      <th>2</th>\n",
       "      <td>0.725825</td>\n",
       "      <td>0.706200</td>\n",
       "      <td>0.713456</td>\n",
       "    </tr>\n",
       "    <tr>\n",
       "      <th>3</th>\n",
       "      <td>0.762633</td>\n",
       "      <td>0.782297</td>\n",
       "      <td>0.760192</td>\n",
       "    </tr>\n",
       "    <tr>\n",
       "      <th>4</th>\n",
       "      <td>0.725662</td>\n",
       "      <td>0.727178</td>\n",
       "      <td>0.734734</td>\n",
       "    </tr>\n",
       "  </tbody>\n",
       "</table>\n",
       "</div>"
      ],
      "text/plain": [
       "         X1        X2        X3\n",
       "0  0.738995  0.744232  0.732350\n",
       "1  0.726883  0.726280  0.730189\n",
       "2  0.725825  0.706200  0.713456\n",
       "3  0.762633  0.782297  0.760192\n",
       "4  0.725662  0.727178  0.734734"
      ]
     },
     "execution_count": 143,
     "metadata": {},
     "output_type": "execute_result"
    }
   ],
   "source": [
    "pd.DataFrame(CV_AUC_folds)"
   ]
  },
  {
   "cell_type": "code",
   "execution_count": 144,
   "id": "6985b731-27fa-42e9-9e68-de67bcf68027",
   "metadata": {
    "tags": []
   },
   "outputs": [
    {
     "data": {
      "text/html": [
       "<div>\n",
       "<style scoped>\n",
       "    .dataframe tbody tr th:only-of-type {\n",
       "        vertical-align: middle;\n",
       "    }\n",
       "\n",
       "    .dataframe tbody tr th {\n",
       "        vertical-align: top;\n",
       "    }\n",
       "\n",
       "    .dataframe thead th {\n",
       "        text-align: right;\n",
       "    }\n",
       "</style>\n",
       "<table border=\"1\" class=\"dataframe\">\n",
       "  <thead>\n",
       "    <tr style=\"text-align: right;\">\n",
       "      <th></th>\n",
       "      <th>CV RMSE</th>\n",
       "      <th>CV AUC</th>\n",
       "    </tr>\n",
       "  </thead>\n",
       "  <tbody>\n",
       "    <tr>\n",
       "      <th>X1</th>\n",
       "      <td>0.291934</td>\n",
       "      <td>0.736000</td>\n",
       "    </tr>\n",
       "    <tr>\n",
       "      <th>X2</th>\n",
       "      <td>0.292085</td>\n",
       "      <td>0.737237</td>\n",
       "    </tr>\n",
       "    <tr>\n",
       "      <th>X3</th>\n",
       "      <td>0.290577</td>\n",
       "      <td>0.734184</td>\n",
       "    </tr>\n",
       "  </tbody>\n",
       "</table>\n",
       "</div>"
      ],
      "text/plain": [
       "     CV RMSE    CV AUC\n",
       "X1  0.291934  0.736000\n",
       "X2  0.292085  0.737237\n",
       "X3  0.290577  0.734184"
      ]
     },
     "execution_count": 144,
     "metadata": {},
     "output_type": "execute_result"
    }
   ],
   "source": [
    "CV_RMSE = dict()\n",
    "CV_AUC = dict()\n",
    "\n",
    "for key in logit_models:\n",
    "    CV_RMSE[key] = np.mean(CV_RMSE_folds[key])\n",
    "    CV_AUC[key] = np.mean(CV_AUC_folds[key])  \n",
    "\n",
    "logit_summary2 = np.transpose(pd.DataFrame.from_dict([CV_RMSE,CV_AUC], orient='columns'))\n",
    "logit_summary2.columns = ['CV RMSE', 'CV AUC']\n",
    "logit_summary2"
   ]
  },
  {
   "cell_type": "markdown",
   "id": "04d30413-4c8c-4b11-887e-20a2c31ec338",
   "metadata": {},
   "source": [
    "In dataset2, the models perform very similarily. Given that X1 is the simplest, and its RMSE and AUC scores are a close 2nd, this will be the preferred choice."
   ]
  },
  {
   "cell_type": "code",
   "execution_count": 145,
   "id": "bd4c8cbc-182f-422a-b2a8-cb7225969637",
   "metadata": {
    "tags": []
   },
   "outputs": [
    {
     "data": {
      "text/plain": [
       "0.226"
      ]
     },
     "execution_count": 145,
     "metadata": {},
     "output_type": "execute_result"
    }
   ],
   "source": [
    "best_model = logit_models['X1']\n",
    "best_model_X_holdout = X1.loc[index_holdout]\n",
    "\n",
    "logit_predicted_probabilities_holdout = best_model.predict_proba(best_model_X_holdout)[:,1]\n",
    "best_rmse_holdout = np.sqrt(metrics.mean_squared_error(y_holdout, logit_predicted_probabilities_holdout))\n",
    "round(best_rmse_holdout, 3)"
   ]
  },
  {
   "cell_type": "code",
   "execution_count": 146,
   "id": "58d4318b-6245-4d1f-8522-8a49e51f9121",
   "metadata": {
    "tags": []
   },
   "outputs": [],
   "source": [
    "thresholds = [i/100 for i in range(1,80,1)]\n",
    "cm = dict()\n",
    "true_positive_rates = []\n",
    "false_positive_rates = []\n",
    "holdout_prediction = []\n",
    "for thr in thresholds:\n",
    "    holdout_prediction = np.where(logit_predicted_probabilities_holdout < thr, 0, 1)\n",
    "    cm_thr = confusion_matrix(y_holdout, holdout_prediction, labels=[0,1])\n",
    "    cm[thr] = cm_thr\n",
    "    tn, fp, fn, tp = cm_thr.ravel()\n",
    "    true_positive_rates.append(tp/(tp+fn))\n",
    "    false_positive_rates.append(fp/(fp+tn))"
   ]
  },
  {
   "cell_type": "code",
   "execution_count": 147,
   "id": "d27ddb41-c00e-4e14-a2c8-2eecfb70784f",
   "metadata": {
    "tags": []
   },
   "outputs": [
    {
     "data": {
      "text/plain": [
       "array([[978,   3],\n",
       "       [ 55,   1]], dtype=int64)"
      ]
     },
     "execution_count": 147,
     "metadata": {},
     "output_type": "execute_result"
    }
   ],
   "source": [
    "cm_thr"
   ]
  },
  {
   "cell_type": "code",
   "execution_count": 148,
   "id": "5071c6ff-ebdc-40d1-ab7c-517204442fa6",
   "metadata": {
    "tags": []
   },
   "outputs": [
    {
     "data": {
      "image/png": "[encoded data removed]",
      "text/plain": [
       "<Figure size 640x480 with 1 Axes>"
      ]
     },
     "metadata": {
      "image/png": {
       "height": 480,
       "width": 640
      }
     },
     "output_type": "display_data"
    },
    {
     "data": {
      "text/plain": [
       "<Figure Size: (640 x 480)>"
      ]
     },
     "execution_count": 148,
     "metadata": {},
     "output_type": "execute_result"
    }
   ],
   "source": [
    "create_roc_plot(y_holdout, logit_predicted_probabilities_holdout)"
   ]
  },
  {
   "cell_type": "markdown",
   "id": "1ee996e3-d8c7-4aaa-a51a-637ca22ce5a9",
   "metadata": {},
   "source": [
    "### Using the loss function to define optimal threshold"
   ]
  },
  {
   "cell_type": "code",
   "execution_count": 149,
   "id": "f69098e0-6622-4adb-be08-15443b93d916",
   "metadata": {
    "tags": []
   },
   "outputs": [
    {
     "data": {
      "text/plain": [
       "0.09990274475902312"
      ]
     },
     "execution_count": 149,
     "metadata": {},
     "output_type": "execute_result"
    }
   ],
   "source": [
    "FP = 3\n",
    "FN = 15\n",
    "cost = FN/FP\n",
    "\n",
    "# the prevalence, or the proportion of cases in the population (n.cases/(n.controls+n.cases))\n",
    "prevelance = y_train.sum()/len(y_train)\n",
    "prevelance"
   ]
  },
  {
   "cell_type": "code",
   "execution_count": 150,
   "id": "1f02926a-a561-44e9-8683-6db83c42bedd",
   "metadata": {
    "tags": []
   },
   "outputs": [],
   "source": [
    "best_thresholds_cv = dict()\n",
    "expected_loss_cv = dict()\n",
    "fold5_threshold = dict()\n",
    "fold5_expected_loss = dict()\n",
    "fold5_all_coords = dict()\n",
    "\n",
    "for i, model_name in enumerate(logit_models):\n",
    "    best_thresholds = []\n",
    "    expected_loss =[]\n",
    "    if model_name != 'LASSO':\n",
    "        X = logit_model_vars[i]\n",
    "        c_index = 0\n",
    "    else:\n",
    "        X = normalized_logitvars\n",
    "        c_index = best_lambda_i\n",
    "    fold = 0\n",
    "    for train_index, test_index in k.split(X):\n",
    "        X_fold = X.iloc[test_index,:]\n",
    "        y_fold = y_train.iloc[test_index]\n",
    "        pred_fold = generate_fold_prediction(logit_models[model_name], X_fold, fold, c_index)\n",
    "        false_pos_rate, true_pos_rate, thresholds = roc_curve(y_fold, pred_fold)\n",
    "        optimal_threshold = sorted(list(zip(\n",
    "            np.abs(true_pos_rate + (1 - prevelance)/(cost * prevelance)*(1-false_pos_rate)),\\\n",
    "                                       thresholds)), key=lambda i: i[0], reverse=True)[0][1]\n",
    "        best_thresholds.append(optimal_threshold)\n",
    "        threshold_prediction = np.where(pred_fold < optimal_threshold, 0, 1)\n",
    "        tn, fp, fn, tp = confusion_matrix(y_fold, threshold_prediction, labels=[0,1]).ravel()\n",
    "        curr_exp_loss = (fp*FP + fn*FN)/len(y_fold)\n",
    "        expected_loss.append(curr_exp_loss)\n",
    "        fold = fold+1\n",
    "\n",
    "    best_thresholds_cv[model_name] = np.mean(best_thresholds)\n",
    "    expected_loss_cv[model_name] = np.mean(expected_loss)\n",
    "\n",
    "    # for fold #5\n",
    "    fold5_threshold[model_name] = optimal_threshold\n",
    "    fold5_expected_loss[model_name] = curr_exp_loss\n",
    "\n",
    "    all_coords = pd.DataFrame({\n",
    "        'false_pos': false_pos_rate*sum(y_fold == 0),\n",
    "        'true_pos': true_pos_rate*sum(y_fold == 1),\n",
    "        'false_neg': sum(y_fold == 1) - true_pos_rate*sum(y_fold == 1),\n",
    "        'true_neg': sum(y_fold == 0) - false_pos_rate*sum(y_fold == 0),\n",
    "        'pos': sum(y_fold == 1),\n",
    "        'neg': sum(y_fold == 0),\n",
    "        'n': len(y_fold),\n",
    "        'thresholds': thresholds\n",
    "    })\n",
    "    \n",
    "    fold5_all_coords[model_name] = all_coords"
   ]
  },
  {
   "cell_type": "code",
   "execution_count": 151,
   "id": "b44656b9-a9e0-45d9-abfb-ac2ad9cc5b5f",
   "metadata": {
    "tags": []
   },
   "outputs": [
    {
     "data": {
      "text/html": [
       "<div>\n",
       "<style scoped>\n",
       "    .dataframe tbody tr th:only-of-type {\n",
       "        vertical-align: middle;\n",
       "    }\n",
       "\n",
       "    .dataframe tbody tr th {\n",
       "        vertical-align: top;\n",
       "    }\n",
       "\n",
       "    .dataframe thead th {\n",
       "        text-align: right;\n",
       "    }\n",
       "</style>\n",
       "<table border=\"1\" class=\"dataframe\">\n",
       "  <thead>\n",
       "    <tr style=\"text-align: right;\">\n",
       "      <th></th>\n",
       "      <th>Model</th>\n",
       "      <th>Avg of optimal thresholds</th>\n",
       "      <th>Threshold for Fold5</th>\n",
       "      <th>Avg expected loss</th>\n",
       "      <th>Expected loss for Fold5</th>\n",
       "    </tr>\n",
       "  </thead>\n",
       "  <tbody>\n",
       "    <tr>\n",
       "      <th>0</th>\n",
       "      <td>X1</td>\n",
       "      <td>0.128924</td>\n",
       "      <td>0.133710</td>\n",
       "      <td>1.193641</td>\n",
       "      <td>1.221562</td>\n",
       "    </tr>\n",
       "    <tr>\n",
       "      <th>1</th>\n",
       "      <td>X2</td>\n",
       "      <td>0.128374</td>\n",
       "      <td>0.134236</td>\n",
       "      <td>1.195260</td>\n",
       "      <td>1.211024</td>\n",
       "    </tr>\n",
       "    <tr>\n",
       "      <th>2</th>\n",
       "      <td>X3</td>\n",
       "      <td>0.142741</td>\n",
       "      <td>0.133463</td>\n",
       "      <td>1.192992</td>\n",
       "      <td>1.203729</td>\n",
       "    </tr>\n",
       "  </tbody>\n",
       "</table>\n",
       "</div>"
      ],
      "text/plain": [
       "  Model  Avg of optimal thresholds  Threshold for Fold5  Avg expected loss  \\\n",
       "0    X1                   0.128924             0.133710           1.193641   \n",
       "1    X2                   0.128374             0.134236           1.195260   \n",
       "2    X3                   0.142741             0.133463           1.192992   \n",
       "\n",
       "   Expected loss for Fold5  \n",
       "0                 1.221562  \n",
       "1                 1.211024  \n",
       "2                 1.203729  "
      ]
     },
     "execution_count": 151,
     "metadata": {},
     "output_type": "execute_result"
    }
   ],
   "source": [
    "logit_summary3 = pd.DataFrame(best_thresholds_cv.items(),columns=['Model', 'Avg of optimal thresholds'])\n",
    "logit_summary3['Threshold for Fold5'] = fold5_threshold.values()\n",
    "logit_summary3['Avg expected loss'] = expected_loss_cv.values()\n",
    "logit_summary3['Expected loss for Fold5'] = fold5_expected_loss.values()\n",
    "logit_summary3"
   ]
  },
  {
   "cell_type": "code",
   "execution_count": 152,
   "id": "62002be3-686a-4911-b7d3-3ded4480c58f",
   "metadata": {
    "tags": []
   },
   "outputs": [
    {
     "data": {
      "text/plain": [
       "0.1427406692560245"
      ]
     },
     "execution_count": 152,
     "metadata": {},
     "output_type": "execute_result"
    }
   ],
   "source": [
    "best_logit_optimal_treshold = best_thresholds_cv[\"X3\"]\n",
    "best_logit_optimal_treshold"
   ]
  },
  {
   "cell_type": "code",
   "execution_count": 153,
   "id": "93e5838b-97f4-4934-9f85-13b2f49e200e",
   "metadata": {
    "tags": []
   },
   "outputs": [
    {
     "data": {
      "text/plain": [
       "0.691"
      ]
     },
     "execution_count": 153,
     "metadata": {},
     "output_type": "execute_result"
    }
   ],
   "source": [
    "holdout_treshold = np.where(logit_predicted_probabilities_holdout < best_logit_optimal_treshold, 0, 1)\n",
    "tn, fp, fn, tp = confusion_matrix(y_holdout, holdout_treshold, labels=[0,1]).ravel()\n",
    "expected_loss_holdout_log2 = (fp*FP + fn*FN)/len(y_holdout)\n",
    "round(expected_loss_holdout_log2, 3)"
   ]
  },
  {
   "cell_type": "markdown",
   "id": "971f89e8-8f7f-483f-99c1-00f936d01624",
   "metadata": {},
   "source": [
    "Dataset2 manages to produce lower expected loss value (0.691) on the holdout set than dataset1's logistics regression (0.749) but higher than dataset1's random forest (0.645)."
   ]
  },
  {
   "cell_type": "code",
   "execution_count": 154,
   "id": "3c9de009-f73f-4d61-aed6-07a7a34c5f53",
   "metadata": {
    "tags": []
   },
   "outputs": [
    {
     "data": {
      "text/html": [
       "<div>\n",
       "<style scoped>\n",
       "    .dataframe tbody tr th:only-of-type {\n",
       "        vertical-align: middle;\n",
       "    }\n",
       "\n",
       "    .dataframe tbody tr th {\n",
       "        vertical-align: top;\n",
       "    }\n",
       "\n",
       "    .dataframe thead th {\n",
       "        text-align: right;\n",
       "    }\n",
       "</style>\n",
       "<table border=\"1\" class=\"dataframe\">\n",
       "  <thead>\n",
       "    <tr style=\"text-align: right;\">\n",
       "      <th></th>\n",
       "      <th>Predicted no default</th>\n",
       "      <th>Predicted default</th>\n",
       "    </tr>\n",
       "  </thead>\n",
       "  <tbody>\n",
       "    <tr>\n",
       "      <th>Actul no defaul</th>\n",
       "      <td>937</td>\n",
       "      <td>44</td>\n",
       "    </tr>\n",
       "    <tr>\n",
       "      <th>Actual default</th>\n",
       "      <td>39</td>\n",
       "      <td>17</td>\n",
       "    </tr>\n",
       "  </tbody>\n",
       "</table>\n",
       "</div>"
      ],
      "text/plain": [
       "                 Predicted no default  Predicted default\n",
       "Actul no defaul                   937                 44\n",
       "Actual default                     39                 17"
      ]
     },
     "execution_count": 154,
     "metadata": {},
     "output_type": "execute_result"
    }
   ],
   "source": [
    "cm_object4 = confusion_matrix(y_holdout, holdout_treshold, labels=[0,1])\n",
    "cm4 = pd.DataFrame(cm_object4, \n",
    "    index=['Actul no defaul', 'Actual default'], \n",
    "    columns=['Predicted no default', 'Predicted default'])\n",
    "cm4"
   ]
  },
  {
   "cell_type": "markdown",
   "id": "028ea319-f61b-4d1d-a485-973bf66c0b55",
   "metadata": {
    "tags": []
   },
   "source": [
    "### Random forest"
   ]
  },
  {
   "cell_type": "code",
   "execution_count": 155,
   "id": "0af6c704-54e2-41f2-a1d9-02a0665100fe",
   "metadata": {
    "tags": []
   },
   "outputs": [],
   "source": [
    "rfvars_train = rfvars.loc[index_train]\n",
    "rfvars_holdout = rfvars.loc[index_holdout]"
   ]
  },
  {
   "cell_type": "code",
   "execution_count": 156,
   "id": "2d1c249b-4999-4f7b-8f41-5eba1ccd3c0f",
   "metadata": {
    "tags": []
   },
   "outputs": [],
   "source": [
    "grid = {'max_features': [5, 6, 7],\n",
    "        'criterion':['gini'],\n",
    "        'min_samples_split': [11, 16]}"
   ]
  },
  {
   "cell_type": "code",
   "execution_count": 157,
   "id": "bfac9121-1efd-483e-8631-58cca2b5c9ed",
   "metadata": {
    "tags": []
   },
   "outputs": [],
   "source": [
    "prob_forest = RandomForestClassifier(\n",
    "    random_state=20240224, \n",
    "    n_estimators=500, \n",
    "    oob_score=True)\n",
    "\n",
    "prob_forest_grid = GridSearchCV(\n",
    "    prob_forest, \n",
    "    grid, \n",
    "    cv=k, \n",
    "    refit='roc_auc',\n",
    "    scoring = ['accuracy', 'roc_auc', 'neg_brier_score'], \n",
    "    n_jobs=-1)"
   ]
  },
  {
   "cell_type": "code",
   "execution_count": 158,
   "id": "190a3df8-0a18-4442-8706-79ea85f7f072",
   "metadata": {
    "tags": []
   },
   "outputs": [
    {
     "name": "stdout",
     "output_type": "stream",
     "text": [
      "CPU times: total: 41.2 s\n",
      "Wall time: 3min 32s\n"
     ]
    }
   ],
   "source": [
    "%%time\n",
    "prob_forest_fit = prob_forest_grid.fit(rfvars_train, y_train)"
   ]
  },
  {
   "cell_type": "code",
   "execution_count": 159,
   "id": "b45850d8-0bae-45c7-bb6d-812a049c2b64",
   "metadata": {
    "tags": []
   },
   "outputs": [
    {
     "data": {
      "text/html": [
       "<div>\n",
       "<style scoped>\n",
       "    .dataframe tbody tr th:only-of-type {\n",
       "        vertical-align: middle;\n",
       "    }\n",
       "\n",
       "    .dataframe tbody tr th {\n",
       "        vertical-align: top;\n",
       "    }\n",
       "\n",
       "    .dataframe thead th {\n",
       "        text-align: right;\n",
       "    }\n",
       "</style>\n",
       "<table border=\"1\" class=\"dataframe\">\n",
       "  <thead>\n",
       "    <tr style=\"text-align: right;\">\n",
       "      <th></th>\n",
       "      <th>max_features</th>\n",
       "      <th>min_samples_split</th>\n",
       "      <th>cv_accuracy</th>\n",
       "      <th>cv_auc</th>\n",
       "      <th>cv_rmse</th>\n",
       "    </tr>\n",
       "  </thead>\n",
       "  <tbody>\n",
       "    <tr>\n",
       "      <th>0</th>\n",
       "      <td>5</td>\n",
       "      <td>11</td>\n",
       "      <td>0.951832</td>\n",
       "      <td>0.718711</td>\n",
       "      <td>0.209374</td>\n",
       "    </tr>\n",
       "    <tr>\n",
       "      <th>1</th>\n",
       "      <td>5</td>\n",
       "      <td>16</td>\n",
       "      <td>0.951832</td>\n",
       "      <td>0.723542</td>\n",
       "      <td>0.209350</td>\n",
       "    </tr>\n",
       "    <tr>\n",
       "      <th>2</th>\n",
       "      <td>6</td>\n",
       "      <td>11</td>\n",
       "      <td>0.951832</td>\n",
       "      <td>0.709432</td>\n",
       "      <td>0.210081</td>\n",
       "    </tr>\n",
       "    <tr>\n",
       "      <th>3</th>\n",
       "      <td>6</td>\n",
       "      <td>16</td>\n",
       "      <td>0.951832</td>\n",
       "      <td>0.721162</td>\n",
       "      <td>0.209361</td>\n",
       "    </tr>\n",
       "    <tr>\n",
       "      <th>4</th>\n",
       "      <td>7</td>\n",
       "      <td>11</td>\n",
       "      <td>0.951832</td>\n",
       "      <td>0.718785</td>\n",
       "      <td>0.210186</td>\n",
       "    </tr>\n",
       "    <tr>\n",
       "      <th>5</th>\n",
       "      <td>7</td>\n",
       "      <td>16</td>\n",
       "      <td>0.951832</td>\n",
       "      <td>0.713840</td>\n",
       "      <td>0.209817</td>\n",
       "    </tr>\n",
       "  </tbody>\n",
       "</table>\n",
       "</div>"
      ],
      "text/plain": [
       "  max_features min_samples_split  cv_accuracy    cv_auc   cv_rmse\n",
       "0            5                11     0.951832  0.718711  0.209374\n",
       "1            5                16     0.951832  0.723542  0.209350\n",
       "2            6                11     0.951832  0.709432  0.210081\n",
       "3            6                16     0.951832  0.721162  0.209361\n",
       "4            7                11     0.951832  0.718785  0.210186\n",
       "5            7                16     0.951832  0.713840  0.209817"
      ]
     },
     "execution_count": 159,
     "metadata": {},
     "output_type": "execute_result"
    }
   ],
   "source": [
    "prob_forest_cv_results = pd.DataFrame({\n",
    "    'max_features': prob_forest_fit.cv_results_['param_max_features'],\n",
    "    'min_samples_split': prob_forest_fit.cv_results_['param_min_samples_split'],\n",
    "    'cv_accuracy': cv_accuracy,\n",
    "    'cv_auc': cv_auc,\n",
    "    'cv_rmse': cv_rmse\n",
    "})\n",
    "prob_forest_cv_results"
   ]
  },
  {
   "cell_type": "code",
   "execution_count": 160,
   "id": "5ad64d14-bebb-4709-b8b8-c2dace048b31",
   "metadata": {
    "tags": []
   },
   "outputs": [],
   "source": [
    "best_max_features = prob_forest_fit.best_params_['max_features']\n",
    "best_min_sample_split = prob_forest_fit.best_params_['min_samples_split']"
   ]
  },
  {
   "cell_type": "code",
   "execution_count": 161,
   "id": "71b7907b-27d7-4710-9af2-ee7d2262e223",
   "metadata": {
    "tags": []
   },
   "outputs": [
    {
     "name": "stdout",
     "output_type": "stream",
     "text": [
      "The best random forest model has the following features: {'criterion': 'gini', 'max_features': 5, 'min_samples_split': 11}\n"
     ]
    }
   ],
   "source": [
    "print(f'The best random forest model has the following features: {prob_forest_fit.best_params_}')"
   ]
  },
  {
   "cell_type": "markdown",
   "id": "8f4a7f0d-c259-40db-b0ce-e9cab7d3eaab",
   "metadata": {},
   "source": [
    "**Using loss function and search for best thresholds and expected loss over folds**"
   ]
  },
  {
   "cell_type": "code",
   "execution_count": 162,
   "id": "4ccaa027-9d96-4f77-aa6b-359ac19ca4fe",
   "metadata": {
    "tags": []
   },
   "outputs": [],
   "source": [
    "best_thresholds = list()\n",
    "expected_loss = list()\n",
    "\n",
    "fold = 0\n",
    "for train_index, test_index in k.split(rfvars_train):\n",
    "    X_fold = rfvars_train.iloc[test_index,:]\n",
    "    y_fold = y_train.iloc[test_index]\n",
    "    \n",
    "    X_fold_train = rfvars_train.iloc[train_index,:]\n",
    "    y_fold_train = y_train.iloc[train_index]\n",
    "    \n",
    "    prob_forest_best = RandomForestClassifier(\n",
    "        random_state=20240224, \n",
    "        n_estimators=500, \n",
    "        oob_score=True,\n",
    "        criterion = 'gini', \n",
    "        max_features = best_max_features, min_samples_split = best_min_sample_split)\n",
    "    \n",
    "    prob_forest_best_fold = prob_forest_best.fit(X_fold_train, y_fold_train)\n",
    "    pred_fold = prob_forest_best_fold.predict_proba(X_fold)[:,1]\n",
    "\n",
    "    false_pos_rate, true_pos_rate, threshold = roc_curve(y_fold, pred_fold)\n",
    "    \n",
    "    best_threshold = sorted(\n",
    "        list(\n",
    "            zip(\n",
    "                np.abs(\n",
    "                    true_pos_rate + (1 - prevelance)/(cost * prevelance)*(1-false_pos_rate)\n",
    "                ),\n",
    "                threshold\n",
    "            )\n",
    "        ), \n",
    "        key=lambda x: x[0], reverse=True)[0][1]\n",
    "    \n",
    "    best_thresholds.append(best_threshold)\n",
    "    \n",
    "    threshold_prediction = np.where(pred_fold < best_threshold, 0, 1)\n",
    "    tn, fp, fn, tp = confusion_matrix(y_fold, threshold_prediction, labels=[0,1]).ravel()\n",
    "    curr_exp_loss = (fp*FP + fn*FN)/len(y_fold)\n",
    "    expected_loss.append(curr_exp_loss)"
   ]
  },
  {
   "cell_type": "code",
   "execution_count": 163,
   "id": "947f424a-6f82-4bf6-8324-7dccec857fa3",
   "metadata": {
    "tags": []
   },
   "outputs": [
    {
     "data": {
      "text/plain": [
       "[0.1399179101943808,\n",
       " 0.19398999349463752,\n",
       " 0.22234489780944905,\n",
       " 0.2320515948190097,\n",
       " 0.19941208038607425]"
      ]
     },
     "execution_count": 163,
     "metadata": {},
     "output_type": "execute_result"
    }
   ],
   "source": [
    "best_thresholds"
   ]
  },
  {
   "cell_type": "code",
   "execution_count": 164,
   "id": "7fd278e4-91e7-4251-95a4-2ed2d2daa622",
   "metadata": {
    "tags": []
   },
   "outputs": [
    {
     "data": {
      "text/html": [
       "<div>\n",
       "<style scoped>\n",
       "    .dataframe tbody tr th:only-of-type {\n",
       "        vertical-align: middle;\n",
       "    }\n",
       "\n",
       "    .dataframe tbody tr th {\n",
       "        vertical-align: top;\n",
       "    }\n",
       "\n",
       "    .dataframe thead th {\n",
       "        text-align: right;\n",
       "    }\n",
       "</style>\n",
       "<table border=\"1\" class=\"dataframe\">\n",
       "  <thead>\n",
       "    <tr style=\"text-align: right;\">\n",
       "      <th></th>\n",
       "      <th>false_pos</th>\n",
       "      <th>true_pos</th>\n",
       "      <th>false_neg</th>\n",
       "      <th>true_neg</th>\n",
       "      <th>pos</th>\n",
       "      <th>neg</th>\n",
       "      <th>n</th>\n",
       "      <th>thresholds</th>\n",
       "    </tr>\n",
       "  </thead>\n",
       "  <tbody>\n",
       "    <tr>\n",
       "      <th>0</th>\n",
       "      <td>0.0</td>\n",
       "      <td>0.0</td>\n",
       "      <td>371.0</td>\n",
       "      <td>3330.0</td>\n",
       "      <td>371</td>\n",
       "      <td>3330</td>\n",
       "      <td>3701</td>\n",
       "      <td>inf</td>\n",
       "    </tr>\n",
       "    <tr>\n",
       "      <th>1</th>\n",
       "      <td>0.0</td>\n",
       "      <td>1.0</td>\n",
       "      <td>370.0</td>\n",
       "      <td>3330.0</td>\n",
       "      <td>371</td>\n",
       "      <td>3330</td>\n",
       "      <td>3701</td>\n",
       "      <td>0.881184</td>\n",
       "    </tr>\n",
       "    <tr>\n",
       "      <th>2</th>\n",
       "      <td>0.0</td>\n",
       "      <td>6.0</td>\n",
       "      <td>365.0</td>\n",
       "      <td>3330.0</td>\n",
       "      <td>371</td>\n",
       "      <td>3330</td>\n",
       "      <td>3701</td>\n",
       "      <td>0.795460</td>\n",
       "    </tr>\n",
       "    <tr>\n",
       "      <th>3</th>\n",
       "      <td>1.0</td>\n",
       "      <td>6.0</td>\n",
       "      <td>365.0</td>\n",
       "      <td>3329.0</td>\n",
       "      <td>371</td>\n",
       "      <td>3330</td>\n",
       "      <td>3701</td>\n",
       "      <td>0.786826</td>\n",
       "    </tr>\n",
       "    <tr>\n",
       "      <th>4</th>\n",
       "      <td>1.0</td>\n",
       "      <td>9.0</td>\n",
       "      <td>362.0</td>\n",
       "      <td>3329.0</td>\n",
       "      <td>371</td>\n",
       "      <td>3330</td>\n",
       "      <td>3701</td>\n",
       "      <td>0.760092</td>\n",
       "    </tr>\n",
       "    <tr>\n",
       "      <th>...</th>\n",
       "      <td>...</td>\n",
       "      <td>...</td>\n",
       "      <td>...</td>\n",
       "      <td>...</td>\n",
       "      <td>...</td>\n",
       "      <td>...</td>\n",
       "      <td>...</td>\n",
       "      <td>...</td>\n",
       "    </tr>\n",
       "    <tr>\n",
       "      <th>536</th>\n",
       "      <td>3127.0</td>\n",
       "      <td>370.0</td>\n",
       "      <td>1.0</td>\n",
       "      <td>203.0</td>\n",
       "      <td>371</td>\n",
       "      <td>3330</td>\n",
       "      <td>3701</td>\n",
       "      <td>0.005002</td>\n",
       "    </tr>\n",
       "    <tr>\n",
       "      <th>537</th>\n",
       "      <td>3177.0</td>\n",
       "      <td>370.0</td>\n",
       "      <td>1.0</td>\n",
       "      <td>153.0</td>\n",
       "      <td>371</td>\n",
       "      <td>3330</td>\n",
       "      <td>3701</td>\n",
       "      <td>0.004066</td>\n",
       "    </tr>\n",
       "    <tr>\n",
       "      <th>538</th>\n",
       "      <td>3177.0</td>\n",
       "      <td>371.0</td>\n",
       "      <td>0.0</td>\n",
       "      <td>153.0</td>\n",
       "      <td>371</td>\n",
       "      <td>3330</td>\n",
       "      <td>3701</td>\n",
       "      <td>0.004042</td>\n",
       "    </tr>\n",
       "    <tr>\n",
       "      <th>539</th>\n",
       "      <td>3325.0</td>\n",
       "      <td>371.0</td>\n",
       "      <td>0.0</td>\n",
       "      <td>5.0</td>\n",
       "      <td>371</td>\n",
       "      <td>3330</td>\n",
       "      <td>3701</td>\n",
       "      <td>0.000154</td>\n",
       "    </tr>\n",
       "    <tr>\n",
       "      <th>540</th>\n",
       "      <td>3330.0</td>\n",
       "      <td>371.0</td>\n",
       "      <td>0.0</td>\n",
       "      <td>0.0</td>\n",
       "      <td>371</td>\n",
       "      <td>3330</td>\n",
       "      <td>3701</td>\n",
       "      <td>0.000000</td>\n",
       "    </tr>\n",
       "  </tbody>\n",
       "</table>\n",
       "<p>541 rows × 8 columns</p>\n",
       "</div>"
      ],
      "text/plain": [
       "     false_pos  true_pos  false_neg  true_neg  pos   neg     n  thresholds\n",
       "0          0.0       0.0      371.0    3330.0  371  3330  3701         inf\n",
       "1          0.0       1.0      370.0    3330.0  371  3330  3701    0.881184\n",
       "2          0.0       6.0      365.0    3330.0  371  3330  3701    0.795460\n",
       "3          1.0       6.0      365.0    3329.0  371  3330  3701    0.786826\n",
       "4          1.0       9.0      362.0    3329.0  371  3330  3701    0.760092\n",
       "..         ...       ...        ...       ...  ...   ...   ...         ...\n",
       "536     3127.0     370.0        1.0     203.0  371  3330  3701    0.005002\n",
       "537     3177.0     370.0        1.0     153.0  371  3330  3701    0.004066\n",
       "538     3177.0     371.0        0.0     153.0  371  3330  3701    0.004042\n",
       "539     3325.0     371.0        0.0       5.0  371  3330  3701    0.000154\n",
       "540     3330.0     371.0        0.0       0.0  371  3330  3701    0.000000\n",
       "\n",
       "[541 rows x 8 columns]"
      ]
     },
     "execution_count": 164,
     "metadata": {},
     "output_type": "execute_result"
    }
   ],
   "source": [
    "fold5_threshold_rf = best_threshold\n",
    "fold5_expected_loss_rf = curr_exp_loss\n",
    "\n",
    "all_coords_rf = pd.DataFrame({\n",
    "    'false_pos': false_pos_rate*sum(y_fold == 0),\n",
    "    'true_pos': true_pos_rate*sum(y_fold == 1),\n",
    "    'false_neg': sum(y_fold == 1) - true_pos_rate*sum(y_fold == 1),\n",
    "    'true_neg': sum(y_fold == 0) - false_pos_rate*sum(y_fold == 0),\n",
    "    'pos': sum(y_fold == 1),\n",
    "    'neg': sum(y_fold == 0),\n",
    "    'n': len(y_fold),\n",
    "    'thresholds': threshold\n",
    "})\n",
    "\n",
    "all_coords_rf"
   ]
  },
  {
   "cell_type": "code",
   "execution_count": 165,
   "id": "2f396e2b-4a19-48ce-9898-e77b46fb774f",
   "metadata": {
    "tags": []
   },
   "outputs": [],
   "source": [
    "expected_loss_cv['rf_p'] = np.mean(expected_loss)\n",
    "best_thresholds_cv['rf_p'] = np.mean(best_thresholds)"
   ]
  },
  {
   "cell_type": "code",
   "execution_count": 166,
   "id": "1f04a468-269f-4e0e-b8e8-94c66cf8d017",
   "metadata": {
    "tags": []
   },
   "outputs": [],
   "source": [
    "prob_forest_best_results = prob_forest_cv_results[\n",
    "    (prob_forest_cv_results.max_features == best_max_features) & \n",
    "    (prob_forest_cv_results.min_samples_split == best_min_sample_split)]\n",
    "prob_forest_best_results_index = prob_forest_best_results.index.values[0]"
   ]
  },
  {
   "cell_type": "code",
   "execution_count": 167,
   "id": "dd774f4e-4f19-4add-9e63-5055fefd74ef",
   "metadata": {
    "tags": []
   },
   "outputs": [
    {
     "data": {
      "text/html": [
       "<div>\n",
       "<style scoped>\n",
       "    .dataframe tbody tr th:only-of-type {\n",
       "        vertical-align: middle;\n",
       "    }\n",
       "\n",
       "    .dataframe tbody tr th {\n",
       "        vertical-align: top;\n",
       "    }\n",
       "\n",
       "    .dataframe thead th {\n",
       "        text-align: right;\n",
       "    }\n",
       "</style>\n",
       "<table border=\"1\" class=\"dataframe\">\n",
       "  <thead>\n",
       "    <tr style=\"text-align: right;\">\n",
       "      <th></th>\n",
       "      <th>CV RMSE</th>\n",
       "      <th>CV AUC</th>\n",
       "      <th>Avg of optimal thresholds</th>\n",
       "      <th>Threshold for Fold5</th>\n",
       "      <th>Avg expected loss</th>\n",
       "      <th>Expected loss for Fold5</th>\n",
       "    </tr>\n",
       "  </thead>\n",
       "  <tbody>\n",
       "    <tr>\n",
       "      <th>0</th>\n",
       "      <td>0.209</td>\n",
       "      <td>0.719</td>\n",
       "      <td>0.198</td>\n",
       "      <td>0.199</td>\n",
       "      <td>0.945</td>\n",
       "      <td>0.92</td>\n",
       "    </tr>\n",
       "  </tbody>\n",
       "</table>\n",
       "</div>"
      ],
      "text/plain": [
       "   CV RMSE  CV AUC  Avg of optimal thresholds  Threshold for Fold5  \\\n",
       "0    0.209   0.719                      0.198                0.199   \n",
       "\n",
       "   Avg expected loss  Expected loss for Fold5  \n",
       "0              0.945                     0.92  "
      ]
     },
     "execution_count": 167,
     "metadata": {},
     "output_type": "execute_result"
    }
   ],
   "source": [
    "rf_summary = pd.DataFrame(\n",
    "    {'CV RMSE': [round(prob_forest_best_results.cv_rmse.values[0], 3)],\n",
    "     'CV AUC': [round(prob_forest_best_results.cv_auc.values[0], 3)],\n",
    "     'Avg of optimal thresholds': [round(best_thresholds_cv['rf_p'], 3)],\n",
    "     'Threshold for Fold5': [round(best_threshold, 3)],\n",
    "     'Avg expected loss': [round(expected_loss_cv['rf_p'], 3)],\n",
    "     'Expected loss for Fold5': [round(curr_exp_loss, 3)]})\n",
    "\n",
    "rf_summary"
   ]
  },
  {
   "cell_type": "markdown",
   "id": "73827dc0-69b2-44da-afb8-022f6cb86155",
   "metadata": {},
   "source": [
    "**Take model to holdout and estimate RMSE, AUC and expected loss**"
   ]
  },
  {
   "cell_type": "code",
   "execution_count": 168,
   "id": "4bb87878-4255-468a-9709-c63528bbeb2f",
   "metadata": {
    "tags": []
   },
   "outputs": [
    {
     "data": {
      "text/plain": [
       "0.211"
      ]
     },
     "execution_count": 168,
     "metadata": {},
     "output_type": "execute_result"
    }
   ],
   "source": [
    "prob_forest_fit_best = prob_forest_fit.best_estimator_\n",
    "rf_predicted_probabilities_holdout = prob_forest_fit_best.predict_proba(rfvars_holdout)[:,1]\n",
    "rmse_rf = np.sqrt(mean_squared_error(y_holdout, rf_predicted_probabilities_holdout))\n",
    "round(rmse_rf, 3)"
   ]
  },
  {
   "cell_type": "code",
   "execution_count": 169,
   "id": "7e5119fd-26d4-4353-bb64-3af3eb83f438",
   "metadata": {
    "tags": []
   },
   "outputs": [
    {
     "data": {
      "text/plain": [
       "0.845"
      ]
     },
     "execution_count": 169,
     "metadata": {},
     "output_type": "execute_result"
    }
   ],
   "source": [
    "auc_rf = roc_auc_score(y_holdout, rf_predicted_probabilities_holdout)\n",
    "round(auc_rf, 3)"
   ]
  },
  {
   "cell_type": "code",
   "execution_count": 170,
   "id": "ff7440ed-5198-4e7e-9d58-4339d6ba7fe6",
   "metadata": {
    "tags": []
   },
   "outputs": [
    {
     "data": {
      "text/plain": [
       "0.639"
      ]
     },
     "execution_count": 170,
     "metadata": {},
     "output_type": "execute_result"
    }
   ],
   "source": [
    "holdout_treshold = np.where(rf_predicted_probabilities_holdout < best_thresholds_cv['rf_p'], 0, 1)\n",
    "tn, fp, fn, tp = confusion_matrix(y_holdout, holdout_treshold, labels=[0,1]).ravel()\n",
    "expected_loss_holdout_rf2 = (fp*FP + fn*FN)/len(y_holdout)\n",
    "round(expected_loss_holdout_rf2, 3)"
   ]
  },
  {
   "cell_type": "markdown",
   "id": "c8711401-4eaa-47b4-afae-1f936d9d3df0",
   "metadata": {},
   "source": [
    "This random forest model of dataset2 performs with the lowest expected loss of 0.639 - slightly below dataset1's random forest (0.645)."
   ]
  },
  {
   "cell_type": "code",
   "execution_count": 171,
   "id": "54ec6d28-0d42-42a1-8ae8-eb9be7385226",
   "metadata": {
    "tags": []
   },
   "outputs": [
    {
     "data": {
      "text/html": [
       "<div>\n",
       "<style scoped>\n",
       "    .dataframe tbody tr th:only-of-type {\n",
       "        vertical-align: middle;\n",
       "    }\n",
       "\n",
       "    .dataframe tbody tr th {\n",
       "        vertical-align: top;\n",
       "    }\n",
       "\n",
       "    .dataframe thead th {\n",
       "        text-align: right;\n",
       "    }\n",
       "</style>\n",
       "<table border=\"1\" class=\"dataframe\">\n",
       "  <thead>\n",
       "    <tr style=\"text-align: right;\">\n",
       "      <th></th>\n",
       "      <th>Predicted no default</th>\n",
       "      <th>Predicted default</th>\n",
       "    </tr>\n",
       "  </thead>\n",
       "  <tbody>\n",
       "    <tr>\n",
       "      <th>Actul no defaul</th>\n",
       "      <td>895</td>\n",
       "      <td>86</td>\n",
       "    </tr>\n",
       "    <tr>\n",
       "      <th>Actual default</th>\n",
       "      <td>27</td>\n",
       "      <td>29</td>\n",
       "    </tr>\n",
       "  </tbody>\n",
       "</table>\n",
       "</div>"
      ],
      "text/plain": [
       "                 Predicted no default  Predicted default\n",
       "Actul no defaul                   895                 86\n",
       "Actual default                     27                 29"
      ]
     },
     "execution_count": 171,
     "metadata": {},
     "output_type": "execute_result"
    }
   ],
   "source": [
    "cm_object5 = confusion_matrix(y_holdout, holdout_treshold, labels=[0,1])\n",
    "cm5 = pd.DataFrame(cm_object5, \n",
    "    index=['Actul no defaul', 'Actual default'], \n",
    "    columns=['Predicted no default', 'Predicted default'])\n",
    "cm5"
   ]
  },
  {
   "cell_type": "markdown",
   "id": "d3a59a32-bdbf-4f8c-9406-4d9203f7f377",
   "metadata": {},
   "source": [
    "## Modeling on data3"
   ]
  },
  {
   "cell_type": "code",
   "execution_count": 172,
   "id": "58599d5d-8624-4303-8a1d-56fa35831b57",
   "metadata": {
    "tags": []
   },
   "outputs": [],
   "source": [
    "ind2_catmat = patsy.dmatrix(\"0 + C(ind2)\",dataset3, return_type=\"dataframe\")\n",
    "ind2_catmat = ind2_catmat.drop(['C(ind2)[1.0]'], axis=1)"
   ]
  },
  {
   "cell_type": "code",
   "execution_count": 173,
   "id": "32fdc800-2420-4e89-9be9-269f45c8d5a4",
   "metadata": {
    "tags": []
   },
   "outputs": [],
   "source": [
    "ind_catmat = patsy.dmatrix(\"0 + C(ind)\",dataset3, return_type=\"dataframe\")\n",
    "ind_catmat = ind_catmat.drop(['C(ind)[1.0]'], axis=1)"
   ]
  },
  {
   "cell_type": "code",
   "execution_count": 174,
   "id": "3ff31cd1-4894-464d-bc14-c3ee3dcc2b81",
   "metadata": {
    "tags": []
   },
   "outputs": [],
   "source": [
    "m_region_locmat = patsy.dmatrix(\"0 + C(region_m)\",dataset3, return_type=\"dataframe\")\n",
    "m_region_locmat = m_region_locmat.drop(['C(region_m)[Central]'], axis=1)"
   ]
  },
  {
   "cell_type": "code",
   "execution_count": 175,
   "id": "6deb7a6d-1b18-405a-90fc-dbfc5763fe27",
   "metadata": {
    "tags": []
   },
   "outputs": [],
   "source": [
    "urban_mmat = patsy.dmatrix(\"0 + C(urban_m)\",dataset3, return_type=\"dataframe\")\n",
    "urban_mmat = urban_mmat.drop(['C(urban_m)[1.0]'], axis=1)"
   ]
  },
  {
   "cell_type": "code",
   "execution_count": 176,
   "id": "962544f8-38f5-4fe4-8fc7-00dee82a22fc",
   "metadata": {
    "tags": []
   },
   "outputs": [],
   "source": [
    "gender_catmat = patsy.dmatrix(\"0 + C(gender)\",dataset3, return_type=\"dataframe\")\n",
    "gender_catmat = gender_catmat.drop(['C(gender)[male]'], axis=1)"
   ]
  },
  {
   "cell_type": "code",
   "execution_count": 177,
   "id": "1ff36eec-bc8e-4b5f-85a9-8582dcf913d9",
   "metadata": {
    "tags": []
   },
   "outputs": [],
   "source": [
    "origin_catmat = patsy.dmatrix(\"0 + C(origin)\",dataset3, return_type=\"dataframe\")\n",
    "origin_catmat = origin_catmat.drop(['C(origin)[Domestic]'], axis=1)"
   ]
  },
  {
   "cell_type": "markdown",
   "id": "61221f03-d798-4fc4-97e2-2d881ee50ebe",
   "metadata": {},
   "source": [
    "### Logistics regression"
   ]
  },
  {
   "cell_type": "code",
   "execution_count": 178,
   "id": "f89b5fe5-50cf-4f7b-b7e6-6057c696f4d2",
   "metadata": {
    "tags": []
   },
   "outputs": [],
   "source": [
    "raw = dataset3[raw_vars]\n",
    "fin = dataset3[fin_vars]\n",
    "X1 = pd.concat([raw, fin], axis=1)"
   ]
  },
  {
   "cell_type": "code",
   "execution_count": 179,
   "id": "e8b5aafd-b726-42dc-aba7-81e893317673",
   "metadata": {
    "tags": []
   },
   "outputs": [],
   "source": [
    "X2 = pd.concat([X1, ind2_catmat, ind_catmat, m_region_locmat, urban_mmat, gender_catmat, origin_catmat], axis=1)"
   ]
  },
  {
   "cell_type": "code",
   "execution_count": 180,
   "id": "eef3abf6-85e0-48f7-98b8-afb7e00f4223",
   "metadata": {
    "tags": []
   },
   "outputs": [],
   "source": [
    "hr = dataset3[hr_vars]\n",
    "X3 = pd.concat([X1, X2, hr], axis = 1)"
   ]
  },
  {
   "cell_type": "code",
   "execution_count": 181,
   "id": "b7c886e0-1858-42f5-b4c7-d6fd596cccc4",
   "metadata": {
    "tags": []
   },
   "outputs": [],
   "source": [
    "rfvars  = pd.concat([X1, X2, hr], axis=1)"
   ]
  },
  {
   "cell_type": "code",
   "execution_count": 182,
   "id": "cc4e69f0-2dbc-4ed6-aae0-0f3bb80cf874",
   "metadata": {
    "tags": []
   },
   "outputs": [],
   "source": [
    "y = dataset3['default']"
   ]
  },
  {
   "cell_type": "code",
   "execution_count": 183,
   "id": "3a6b7f52-5392-47c5-9502-4630b9108f6c",
   "metadata": {
    "tags": []
   },
   "outputs": [],
   "source": [
    "# definine train-holdout split based on dataset3's setup\n",
    "\n",
    "index_train = data3.index\n",
    "index_holdout = holdout_data.index\n",
    "\n",
    "y_train = y.loc[index_train]\n",
    "y_holdout = y.loc[index_holdout]"
   ]
  },
  {
   "cell_type": "code",
   "execution_count": 184,
   "id": "d9b33123-cd2f-4b15-9f3b-0896b0c5a9d3",
   "metadata": {
    "tags": []
   },
   "outputs": [],
   "source": [
    "# specifying cross-validation \n",
    "k = KFold(n_splits = 5, shuffle = True, random_state = 20240224)"
   ]
  },
  {
   "cell_type": "code",
   "execution_count": 185,
   "id": "a37b3aaf-2038-4371-9f6f-c86379b67c13",
   "metadata": {
    "tags": []
   },
   "outputs": [],
   "source": [
    "# no regularisation needed so setting the paremeter to very high value\n",
    "Cs_value_logit = [1e20]"
   ]
  },
  {
   "cell_type": "code",
   "execution_count": 186,
   "id": "b5e23b1e-9158-456a-af26-fe03035ee215",
   "metadata": {
    "tags": []
   },
   "outputs": [],
   "source": [
    "logit_model_vars = [X1.loc[index_train], X2.loc[index_train], X3.loc[index_train]]\n",
    "\n",
    "logit_models = dict()\n",
    "CV_RMSE_folds = dict()"
   ]
  },
  {
   "cell_type": "code",
   "execution_count": 187,
   "id": "f006d765-8508-4d6a-be4b-1dc4b5febc80",
   "metadata": {
    "tags": []
   },
   "outputs": [
    {
     "name": "stdout",
     "output_type": "stream",
     "text": [
      "CPU times: total: 2.33 s\n",
      "Wall time: 2.4 s\n"
     ]
    }
   ],
   "source": [
    "%%time\n",
    "for i in range(len(logit_model_vars)):\n",
    "    LRCV_brier = LogisticRegressionCV(\n",
    "        Cs=Cs_value_logit, \n",
    "        cv=k,\n",
    "        refit=True, \n",
    "        scoring='neg_brier_score', \n",
    "        solver=\"newton-cg\", \n",
    "        tol=1e-7, \n",
    "        random_state=20240224)\n",
    "    logit_models['X'+str(i+1)] = LRCV_brier.fit(logit_model_vars[i], y_train)\n",
    "    \n",
    "    # Calculate RMSE on test for each fold\n",
    "    CV_RMSE_folds['X'+str(i+1)] = np.sqrt(-1*(logit_models['X'+str(i+1)].scores_[1])).flatten()"
   ]
  },
  {
   "cell_type": "code",
   "execution_count": 188,
   "id": "3d941c8c-20a0-42a5-b419-ef45e9cf0297",
   "metadata": {
    "tags": []
   },
   "outputs": [],
   "source": [
    "# checking AUC scores as well\n",
    "CV_AUC_folds = dict()\n",
    "\n",
    "for i in range(len(logit_model_vars)):\n",
    "    LRCV_auc = LogisticRegressionCV(\n",
    "        Cs=Cs_value_logit, \n",
    "        cv=k, \n",
    "        refit=True, \n",
    "        scoring='roc_auc', \n",
    "        solver=\"newton-cg\", \n",
    "        tol=1e-7, \n",
    "        random_state = 20240205)\n",
    "    LRCV_auc_fit = LRCV_auc.fit(logit_model_vars[i], y_train)\n",
    "    # Calculate AUC on test for each fold\n",
    "    CV_AUC_folds['X'+str(i+1)] = LRCV_auc_fit.scores_[1][:,0].tolist()"
   ]
  },
  {
   "cell_type": "code",
   "execution_count": 189,
   "id": "6ad6d44c-6c0e-4cdb-9385-30f16f2a19ad",
   "metadata": {
    "tags": []
   },
   "outputs": [
    {
     "data": {
      "text/html": [
       "<div>\n",
       "<style scoped>\n",
       "    .dataframe tbody tr th:only-of-type {\n",
       "        vertical-align: middle;\n",
       "    }\n",
       "\n",
       "    .dataframe tbody tr th {\n",
       "        vertical-align: top;\n",
       "    }\n",
       "\n",
       "    .dataframe thead th {\n",
       "        text-align: right;\n",
       "    }\n",
       "</style>\n",
       "<table border=\"1\" class=\"dataframe\">\n",
       "  <thead>\n",
       "    <tr style=\"text-align: right;\">\n",
       "      <th></th>\n",
       "      <th>X1</th>\n",
       "      <th>X2</th>\n",
       "      <th>X3</th>\n",
       "    </tr>\n",
       "  </thead>\n",
       "  <tbody>\n",
       "    <tr>\n",
       "      <th>0</th>\n",
       "      <td>0.654691</td>\n",
       "      <td>0.604790</td>\n",
       "      <td>0.742515</td>\n",
       "    </tr>\n",
       "    <tr>\n",
       "      <th>1</th>\n",
       "      <td>0.647828</td>\n",
       "      <td>0.648597</td>\n",
       "      <td>0.734717</td>\n",
       "    </tr>\n",
       "    <tr>\n",
       "      <th>2</th>\n",
       "      <td>0.681039</td>\n",
       "      <td>0.640862</td>\n",
       "      <td>0.677119</td>\n",
       "    </tr>\n",
       "    <tr>\n",
       "      <th>3</th>\n",
       "      <td>0.402424</td>\n",
       "      <td>0.385455</td>\n",
       "      <td>0.482424</td>\n",
       "    </tr>\n",
       "    <tr>\n",
       "      <th>4</th>\n",
       "      <td>0.740286</td>\n",
       "      <td>0.762781</td>\n",
       "      <td>0.694274</td>\n",
       "    </tr>\n",
       "  </tbody>\n",
       "</table>\n",
       "</div>"
      ],
      "text/plain": [
       "         X1        X2        X3\n",
       "0  0.654691  0.604790  0.742515\n",
       "1  0.647828  0.648597  0.734717\n",
       "2  0.681039  0.640862  0.677119\n",
       "3  0.402424  0.385455  0.482424\n",
       "4  0.740286  0.762781  0.694274"
      ]
     },
     "execution_count": 189,
     "metadata": {},
     "output_type": "execute_result"
    }
   ],
   "source": [
    "pd.DataFrame(CV_AUC_folds)"
   ]
  },
  {
   "cell_type": "code",
   "execution_count": 190,
   "id": "65894a38-a955-4be7-aab2-d1a1db19914c",
   "metadata": {
    "tags": []
   },
   "outputs": [
    {
     "data": {
      "text/html": [
       "<div>\n",
       "<style scoped>\n",
       "    .dataframe tbody tr th:only-of-type {\n",
       "        vertical-align: middle;\n",
       "    }\n",
       "\n",
       "    .dataframe tbody tr th {\n",
       "        vertical-align: top;\n",
       "    }\n",
       "\n",
       "    .dataframe thead th {\n",
       "        text-align: right;\n",
       "    }\n",
       "</style>\n",
       "<table border=\"1\" class=\"dataframe\">\n",
       "  <thead>\n",
       "    <tr style=\"text-align: right;\">\n",
       "      <th></th>\n",
       "      <th>CV RMSE</th>\n",
       "      <th>CV AUC</th>\n",
       "    </tr>\n",
       "  </thead>\n",
       "  <tbody>\n",
       "    <tr>\n",
       "      <th>X1</th>\n",
       "      <td>0.227188</td>\n",
       "      <td>0.625254</td>\n",
       "    </tr>\n",
       "    <tr>\n",
       "      <th>X2</th>\n",
       "      <td>0.227536</td>\n",
       "      <td>0.608497</td>\n",
       "    </tr>\n",
       "    <tr>\n",
       "      <th>X3</th>\n",
       "      <td>0.228871</td>\n",
       "      <td>0.666210</td>\n",
       "    </tr>\n",
       "  </tbody>\n",
       "</table>\n",
       "</div>"
      ],
      "text/plain": [
       "     CV RMSE    CV AUC\n",
       "X1  0.227188  0.625254\n",
       "X2  0.227536  0.608497\n",
       "X3  0.228871  0.666210"
      ]
     },
     "execution_count": 190,
     "metadata": {},
     "output_type": "execute_result"
    }
   ],
   "source": [
    "CV_RMSE = dict()\n",
    "CV_AUC = dict()\n",
    "\n",
    "for key in logit_models:\n",
    "    CV_RMSE[key] = np.mean(CV_RMSE_folds[key])\n",
    "    CV_AUC[key] = np.mean(CV_AUC_folds[key])  \n",
    "\n",
    "logit_summary3 = np.transpose(pd.DataFrame.from_dict([CV_RMSE,CV_AUC], orient='columns'))\n",
    "logit_summary3.columns = ['CV RMSE', 'CV AUC']\n",
    "logit_summary3"
   ]
  },
  {
   "cell_type": "markdown",
   "id": "5892b9b0-02ae-48e5-b21a-658b1ed9310c",
   "metadata": {},
   "source": [
    "On Dataset3, X3 - the most complex model - is performing the best in terms of AUC. The RMSE scores are very similar."
   ]
  },
  {
   "cell_type": "code",
   "execution_count": 191,
   "id": "bd02d50c-c975-4952-9f0d-45c2b6c4b0a5",
   "metadata": {
    "tags": []
   },
   "outputs": [
    {
     "data": {
      "text/plain": [
       "0.243"
      ]
     },
     "execution_count": 191,
     "metadata": {},
     "output_type": "execute_result"
    }
   ],
   "source": [
    "best_model = logit_models['X3']\n",
    "best_model_X_holdout = X3.loc[index_holdout]\n",
    "\n",
    "logit_predicted_probabilities_holdout = best_model.predict_proba(best_model_X_holdout)[:,1]\n",
    "best_rmse_holdout = np.sqrt(metrics.mean_squared_error(y_holdout, logit_predicted_probabilities_holdout))\n",
    "round(best_rmse_holdout, 3)"
   ]
  },
  {
   "cell_type": "code",
   "execution_count": 192,
   "id": "75a1fdde-cf3b-422f-bca8-614229f305ca",
   "metadata": {
    "tags": []
   },
   "outputs": [],
   "source": [
    "thresholds = [i/100 for i in range(1,80,1)]\n",
    "cm = dict()\n",
    "true_positive_rates = []\n",
    "false_positive_rates = []\n",
    "holdout_prediction = []\n",
    "for thr in thresholds:\n",
    "    holdout_prediction = np.where(logit_predicted_probabilities_holdout < thr, 0, 1)\n",
    "    cm_thr = confusion_matrix(y_holdout, holdout_prediction, labels=[0,1])\n",
    "    cm[thr] = cm_thr\n",
    "    tn, fp, fn, tp = cm_thr.ravel()\n",
    "    true_positive_rates.append(tp/(tp+fn))\n",
    "    false_positive_rates.append(fp/(fp+tn))"
   ]
  },
  {
   "cell_type": "code",
   "execution_count": 193,
   "id": "7b83a98b-ba1b-4137-be12-51e19aa7eddf",
   "metadata": {
    "tags": []
   },
   "outputs": [
    {
     "data": {
      "text/plain": [
       "array([[970,  11],\n",
       "       [ 54,   2]], dtype=int64)"
      ]
     },
     "execution_count": 193,
     "metadata": {},
     "output_type": "execute_result"
    }
   ],
   "source": [
    "cm_thr"
   ]
  },
  {
   "cell_type": "code",
   "execution_count": 194,
   "id": "7a687a6c-6e3a-4d60-ae09-315b1d0b3039",
   "metadata": {
    "tags": []
   },
   "outputs": [
    {
     "data": {
      "image/png": "[encoded data removed]",
      "text/plain": [
       "<Figure size 640x480 with 1 Axes>"
      ]
     },
     "metadata": {
      "image/png": {
       "height": 480,
       "width": 640
      }
     },
     "output_type": "display_data"
    },
    {
     "data": {
      "text/plain": [
       "<Figure Size: (640 x 480)>"
      ]
     },
     "execution_count": 194,
     "metadata": {},
     "output_type": "execute_result"
    }
   ],
   "source": [
    "create_roc_plot(y_holdout, logit_predicted_probabilities_holdout)"
   ]
  },
  {
   "cell_type": "markdown",
   "id": "8c37d576-3523-47d6-b87d-89193750e970",
   "metadata": {},
   "source": [
    "The model is just barely above the 45 degree line suggesting that this is not going to be a very good model."
   ]
  },
  {
   "cell_type": "markdown",
   "id": "90a55115-b8c2-47e6-9ce9-a3e3461af5cd",
   "metadata": {},
   "source": [
    "### Using the loss function to define optimal threshold"
   ]
  },
  {
   "cell_type": "code",
   "execution_count": 195,
   "id": "a512d64e-68b0-4f1c-812d-00298d8348a3",
   "metadata": {
    "tags": []
   },
   "outputs": [
    {
     "data": {
      "text/plain": [
       "0.05182567726737338"
      ]
     },
     "execution_count": 195,
     "metadata": {},
     "output_type": "execute_result"
    }
   ],
   "source": [
    "FP = 3\n",
    "FN = 15\n",
    "cost = FN/FP\n",
    "\n",
    "# the prevalence, or the proportion of cases in the population (n.cases/(n.controls+n.cases))\n",
    "prevelance = y_train.sum()/len(y_train)\n",
    "prevelance"
   ]
  },
  {
   "cell_type": "code",
   "execution_count": 196,
   "id": "63e559fc-c153-45a0-94e1-399b2b8c1b1f",
   "metadata": {
    "tags": []
   },
   "outputs": [],
   "source": [
    "best_thresholds_cv = dict()\n",
    "expected_loss_cv = dict()\n",
    "fold5_threshold = dict()\n",
    "fold5_expected_loss = dict()\n",
    "fold5_all_coords = dict()\n",
    "\n",
    "for i, model_name in enumerate(logit_models):\n",
    "    best_thresholds = []\n",
    "    expected_loss =[]\n",
    "    if model_name != 'LASSO':\n",
    "        X = logit_model_vars[i]\n",
    "        c_index = 0\n",
    "    else:\n",
    "        X = normalized_logitvars\n",
    "        c_index = best_lambda_i\n",
    "    fold = 0\n",
    "    for train_index, test_index in k.split(X):\n",
    "        X_fold = X.iloc[test_index,:]\n",
    "        y_fold = y_train.iloc[test_index]\n",
    "        pred_fold = generate_fold_prediction(logit_models[model_name], X_fold, fold, c_index)\n",
    "        false_pos_rate, true_pos_rate, thresholds = roc_curve(y_fold, pred_fold)\n",
    "        optimal_threshold = sorted(list(zip(\n",
    "            np.abs(true_pos_rate + (1 - prevelance)/(cost * prevelance)*(1-false_pos_rate)),\\\n",
    "                                       thresholds)), key=lambda i: i[0], reverse=True)[0][1]\n",
    "        best_thresholds.append(optimal_threshold)\n",
    "        threshold_prediction = np.where(pred_fold < optimal_threshold, 0, 1)\n",
    "        tn, fp, fn, tp = confusion_matrix(y_fold, threshold_prediction, labels=[0,1]).ravel()\n",
    "        curr_exp_loss = (fp*FP + fn*FN)/len(y_fold)\n",
    "        expected_loss.append(curr_exp_loss)\n",
    "        fold = fold+1\n",
    "\n",
    "    best_thresholds_cv[model_name] = np.mean(best_thresholds)\n",
    "    expected_loss_cv[model_name] = np.mean(expected_loss)\n",
    "\n",
    "    # for fold #5\n",
    "    fold5_threshold[model_name] = optimal_threshold\n",
    "    fold5_expected_loss[model_name] = curr_exp_loss\n",
    "\n",
    "    all_coords = pd.DataFrame({\n",
    "        'false_pos': false_pos_rate*sum(y_fold == 0),\n",
    "        'true_pos': true_pos_rate*sum(y_fold == 1),\n",
    "        'false_neg': sum(y_fold == 1) - true_pos_rate*sum(y_fold == 1),\n",
    "        'true_neg': sum(y_fold == 0) - false_pos_rate*sum(y_fold == 0),\n",
    "        'pos': sum(y_fold == 1),\n",
    "        'neg': sum(y_fold == 0),\n",
    "        'n': len(y_fold),\n",
    "        'thresholds': thresholds\n",
    "    })\n",
    "    \n",
    "    fold5_all_coords[model_name] = all_coords"
   ]
  },
  {
   "cell_type": "code",
   "execution_count": 197,
   "id": "ee56a2e2-d5dc-4847-a3a6-b6e83fd1fabf",
   "metadata": {
    "tags": []
   },
   "outputs": [
    {
     "data": {
      "text/html": [
       "<div>\n",
       "<style scoped>\n",
       "    .dataframe tbody tr th:only-of-type {\n",
       "        vertical-align: middle;\n",
       "    }\n",
       "\n",
       "    .dataframe tbody tr th {\n",
       "        vertical-align: top;\n",
       "    }\n",
       "\n",
       "    .dataframe thead th {\n",
       "        text-align: right;\n",
       "    }\n",
       "</style>\n",
       "<table border=\"1\" class=\"dataframe\">\n",
       "  <thead>\n",
       "    <tr style=\"text-align: right;\">\n",
       "      <th></th>\n",
       "      <th>Model</th>\n",
       "      <th>Avg of optimal thresholds</th>\n",
       "      <th>Threshold for Fold5</th>\n",
       "      <th>Avg expected loss</th>\n",
       "      <th>Expected loss for Fold5</th>\n",
       "    </tr>\n",
       "  </thead>\n",
       "  <tbody>\n",
       "    <tr>\n",
       "      <th>0</th>\n",
       "      <td>X1</td>\n",
       "      <td>inf</td>\n",
       "      <td>0.121933</td>\n",
       "      <td>0.660627</td>\n",
       "      <td>0.532544</td>\n",
       "    </tr>\n",
       "    <tr>\n",
       "      <th>1</th>\n",
       "      <td>X2</td>\n",
       "      <td>inf</td>\n",
       "      <td>0.174085</td>\n",
       "      <td>0.649934</td>\n",
       "      <td>0.443787</td>\n",
       "    </tr>\n",
       "    <tr>\n",
       "      <th>2</th>\n",
       "      <td>X3</td>\n",
       "      <td>0.265297</td>\n",
       "      <td>0.348888</td>\n",
       "      <td>0.674723</td>\n",
       "      <td>0.514793</td>\n",
       "    </tr>\n",
       "  </tbody>\n",
       "</table>\n",
       "</div>"
      ],
      "text/plain": [
       "  Model  Avg of optimal thresholds  Threshold for Fold5  Avg expected loss  \\\n",
       "0    X1                        inf             0.121933           0.660627   \n",
       "1    X2                        inf             0.174085           0.649934   \n",
       "2    X3                   0.265297             0.348888           0.674723   \n",
       "\n",
       "   Expected loss for Fold5  \n",
       "0                 0.532544  \n",
       "1                 0.443787  \n",
       "2                 0.514793  "
      ]
     },
     "execution_count": 197,
     "metadata": {},
     "output_type": "execute_result"
    }
   ],
   "source": [
    "logit_summary4 = pd.DataFrame(best_thresholds_cv.items(),columns=['Model', 'Avg of optimal thresholds'])\n",
    "logit_summary4['Threshold for Fold5'] = fold5_threshold.values()\n",
    "logit_summary4['Avg expected loss'] = expected_loss_cv.values()\n",
    "logit_summary4['Expected loss for Fold5'] = fold5_expected_loss.values()\n",
    "logit_summary4"
   ]
  },
  {
   "cell_type": "markdown",
   "id": "688cba24-525b-4eac-927f-0d395b0ad1c2",
   "metadata": {},
   "source": [
    "Again we have the issue of small dataset."
   ]
  },
  {
   "cell_type": "code",
   "execution_count": 198,
   "id": "5c8539e2-cca7-4da4-a450-b261775e8bfa",
   "metadata": {
    "tags": []
   },
   "outputs": [
    {
     "data": {
      "text/plain": [
       "0.26529698180669914"
      ]
     },
     "execution_count": 198,
     "metadata": {},
     "output_type": "execute_result"
    }
   ],
   "source": [
    "best_logit_optimal_treshold = best_thresholds_cv[\"X3\"]\n",
    "best_logit_optimal_treshold"
   ]
  },
  {
   "cell_type": "code",
   "execution_count": 199,
   "id": "5710c375-c790-4c6f-9e21-5557db19db5d",
   "metadata": {
    "tags": []
   },
   "outputs": [
    {
     "data": {
      "text/plain": [
       "0.77"
      ]
     },
     "execution_count": 199,
     "metadata": {},
     "output_type": "execute_result"
    }
   ],
   "source": [
    "holdout_treshold = np.where(logit_predicted_probabilities_holdout < best_logit_optimal_treshold, 0, 1)\n",
    "tn, fp, fn, tp = confusion_matrix(y_holdout, holdout_treshold, labels=[0,1]).ravel()\n",
    "expected_loss_holdout_log3 = (fp*FP + fn*FN)/len(y_holdout)\n",
    "round(expected_loss_holdout_log3, 3)"
   ]
  },
  {
   "cell_type": "markdown",
   "id": "b9116358-5c7c-44fa-aeb0-6bc2de6c89d2",
   "metadata": {},
   "source": [
    "The expected loss on the holdout set is the highest in this dataset - confirming the initial ideas based on AUC scores and ROC."
   ]
  },
  {
   "cell_type": "code",
   "execution_count": 200,
   "id": "319acc7e-583d-4d47-b291-929756b2bb35",
   "metadata": {
    "tags": []
   },
   "outputs": [
    {
     "data": {
      "text/html": [
       "<div>\n",
       "<style scoped>\n",
       "    .dataframe tbody tr th:only-of-type {\n",
       "        vertical-align: middle;\n",
       "    }\n",
       "\n",
       "    .dataframe tbody tr th {\n",
       "        vertical-align: top;\n",
       "    }\n",
       "\n",
       "    .dataframe thead th {\n",
       "        text-align: right;\n",
       "    }\n",
       "</style>\n",
       "<table border=\"1\" class=\"dataframe\">\n",
       "  <thead>\n",
       "    <tr style=\"text-align: right;\">\n",
       "      <th></th>\n",
       "      <th>Predicted no default</th>\n",
       "      <th>Predicted default</th>\n",
       "    </tr>\n",
       "  </thead>\n",
       "  <tbody>\n",
       "    <tr>\n",
       "      <th>Actul no defaul</th>\n",
       "      <td>955</td>\n",
       "      <td>26</td>\n",
       "    </tr>\n",
       "    <tr>\n",
       "      <th>Actual default</th>\n",
       "      <td>48</td>\n",
       "      <td>8</td>\n",
       "    </tr>\n",
       "  </tbody>\n",
       "</table>\n",
       "</div>"
      ],
      "text/plain": [
       "                 Predicted no default  Predicted default\n",
       "Actul no defaul                   955                 26\n",
       "Actual default                     48                  8"
      ]
     },
     "execution_count": 200,
     "metadata": {},
     "output_type": "execute_result"
    }
   ],
   "source": [
    "cm_object5 = confusion_matrix(y_holdout, holdout_treshold, labels=[0,1])\n",
    "cm5 = pd.DataFrame(cm_object5, \n",
    "    index=['Actul no defaul', 'Actual default'], \n",
    "    columns=['Predicted no default', 'Predicted default'])\n",
    "cm5"
   ]
  },
  {
   "cell_type": "markdown",
   "id": "e18125ff-d24c-45f1-8467-ebe3d75c471c",
   "metadata": {},
   "source": [
    "Most defaulting companies are not identified correctly."
   ]
  },
  {
   "cell_type": "markdown",
   "id": "a5bb621f-9973-4d92-a60f-bfcb2cb36b51",
   "metadata": {},
   "source": [
    "### Random forest"
   ]
  },
  {
   "cell_type": "code",
   "execution_count": 201,
   "id": "db215544-3c85-44b6-8bca-35d3d6a6334d",
   "metadata": {
    "tags": []
   },
   "outputs": [],
   "source": [
    "rfvars_train = rfvars.loc[index_train]\n",
    "rfvars_holdout = rfvars.loc[index_holdout]"
   ]
  },
  {
   "cell_type": "code",
   "execution_count": 202,
   "id": "c896d4cb-420c-410b-9ea9-317ea9c77f1f",
   "metadata": {
    "tags": []
   },
   "outputs": [],
   "source": [
    "grid = {'max_features': [5, 6, 7],\n",
    "        'criterion':['gini'],\n",
    "        'min_samples_split': [11, 16]}"
   ]
  },
  {
   "cell_type": "code",
   "execution_count": 203,
   "id": "1d01aa49-fb89-4963-97b7-c439a139c796",
   "metadata": {
    "tags": []
   },
   "outputs": [],
   "source": [
    "prob_forest = RandomForestClassifier(\n",
    "    random_state=20240224, \n",
    "    n_estimators=500, \n",
    "    oob_score=True)\n",
    "\n",
    "prob_forest_grid = GridSearchCV(\n",
    "    prob_forest, \n",
    "    grid, \n",
    "    cv=k, \n",
    "    refit='roc_auc',\n",
    "    scoring = ['accuracy', 'roc_auc', 'neg_brier_score'], \n",
    "    n_jobs=-1)"
   ]
  },
  {
   "cell_type": "code",
   "execution_count": 204,
   "id": "dfeea057-77e5-463f-a9ce-02a5c208b8d1",
   "metadata": {
    "tags": []
   },
   "outputs": [
    {
     "name": "stdout",
     "output_type": "stream",
     "text": [
      "CPU times: total: 1.56 s\n",
      "Wall time: 8.53 s\n"
     ]
    }
   ],
   "source": [
    "%%time\n",
    "prob_forest_fit = prob_forest_grid.fit(rfvars_train, y_train)"
   ]
  },
  {
   "cell_type": "code",
   "execution_count": 205,
   "id": "c2c9ac80-3c22-4a3e-9470-fb86ead0cc06",
   "metadata": {
    "tags": []
   },
   "outputs": [
    {
     "data": {
      "text/html": [
       "<div>\n",
       "<style scoped>\n",
       "    .dataframe tbody tr th:only-of-type {\n",
       "        vertical-align: middle;\n",
       "    }\n",
       "\n",
       "    .dataframe tbody tr th {\n",
       "        vertical-align: top;\n",
       "    }\n",
       "\n",
       "    .dataframe thead th {\n",
       "        text-align: right;\n",
       "    }\n",
       "</style>\n",
       "<table border=\"1\" class=\"dataframe\">\n",
       "  <thead>\n",
       "    <tr style=\"text-align: right;\">\n",
       "      <th></th>\n",
       "      <th>max_features</th>\n",
       "      <th>min_samples_split</th>\n",
       "      <th>cv_accuracy</th>\n",
       "      <th>cv_auc</th>\n",
       "      <th>cv_rmse</th>\n",
       "    </tr>\n",
       "  </thead>\n",
       "  <tbody>\n",
       "    <tr>\n",
       "      <th>0</th>\n",
       "      <td>5</td>\n",
       "      <td>11</td>\n",
       "      <td>0.951832</td>\n",
       "      <td>0.718711</td>\n",
       "      <td>0.209374</td>\n",
       "    </tr>\n",
       "    <tr>\n",
       "      <th>1</th>\n",
       "      <td>5</td>\n",
       "      <td>16</td>\n",
       "      <td>0.951832</td>\n",
       "      <td>0.723542</td>\n",
       "      <td>0.209350</td>\n",
       "    </tr>\n",
       "    <tr>\n",
       "      <th>2</th>\n",
       "      <td>6</td>\n",
       "      <td>11</td>\n",
       "      <td>0.951832</td>\n",
       "      <td>0.709432</td>\n",
       "      <td>0.210081</td>\n",
       "    </tr>\n",
       "    <tr>\n",
       "      <th>3</th>\n",
       "      <td>6</td>\n",
       "      <td>16</td>\n",
       "      <td>0.951832</td>\n",
       "      <td>0.721162</td>\n",
       "      <td>0.209361</td>\n",
       "    </tr>\n",
       "    <tr>\n",
       "      <th>4</th>\n",
       "      <td>7</td>\n",
       "      <td>11</td>\n",
       "      <td>0.951832</td>\n",
       "      <td>0.718785</td>\n",
       "      <td>0.210186</td>\n",
       "    </tr>\n",
       "    <tr>\n",
       "      <th>5</th>\n",
       "      <td>7</td>\n",
       "      <td>16</td>\n",
       "      <td>0.951832</td>\n",
       "      <td>0.713840</td>\n",
       "      <td>0.209817</td>\n",
       "    </tr>\n",
       "  </tbody>\n",
       "</table>\n",
       "</div>"
      ],
      "text/plain": [
       "  max_features min_samples_split  cv_accuracy    cv_auc   cv_rmse\n",
       "0            5                11     0.951832  0.718711  0.209374\n",
       "1            5                16     0.951832  0.723542  0.209350\n",
       "2            6                11     0.951832  0.709432  0.210081\n",
       "3            6                16     0.951832  0.721162  0.209361\n",
       "4            7                11     0.951832  0.718785  0.210186\n",
       "5            7                16     0.951832  0.713840  0.209817"
      ]
     },
     "execution_count": 205,
     "metadata": {},
     "output_type": "execute_result"
    }
   ],
   "source": [
    "prob_forest_cv_results = pd.DataFrame({\n",
    "    'max_features': prob_forest_fit.cv_results_['param_max_features'],\n",
    "    'min_samples_split': prob_forest_fit.cv_results_['param_min_samples_split'],\n",
    "    'cv_accuracy': cv_accuracy,\n",
    "    'cv_auc': cv_auc,\n",
    "    'cv_rmse': cv_rmse\n",
    "})\n",
    "prob_forest_cv_results"
   ]
  },
  {
   "cell_type": "code",
   "execution_count": 206,
   "id": "625a6ad9-26d1-4ae5-a850-953688926f35",
   "metadata": {
    "tags": []
   },
   "outputs": [],
   "source": [
    "best_max_features = prob_forest_fit.best_params_['max_features']\n",
    "best_min_sample_split = prob_forest_fit.best_params_['min_samples_split']"
   ]
  },
  {
   "cell_type": "code",
   "execution_count": 207,
   "id": "09087e82-cbdb-4432-948f-f67019098952",
   "metadata": {
    "tags": []
   },
   "outputs": [
    {
     "name": "stdout",
     "output_type": "stream",
     "text": [
      "The best random forest model has the following features: {'criterion': 'gini', 'max_features': 5, 'min_samples_split': 16}\n"
     ]
    }
   ],
   "source": [
    "print(f'The best random forest model has the following features: {prob_forest_fit.best_params_}')"
   ]
  },
  {
   "cell_type": "markdown",
   "id": "6684e60e-3984-461c-b640-43546a9a00c7",
   "metadata": {
    "tags": []
   },
   "source": [
    "**Using loss function and search for best thresholds and expected loss over folds**"
   ]
  },
  {
   "cell_type": "code",
   "execution_count": 208,
   "id": "d3710a00-5cf7-4611-b009-2b8e08031768",
   "metadata": {
    "tags": []
   },
   "outputs": [],
   "source": [
    "best_thresholds = list()\n",
    "expected_loss = list()\n",
    "\n",
    "fold = 0\n",
    "for train_index, test_index in k.split(rfvars_train):\n",
    "    X_fold = rfvars_train.iloc[test_index,:]\n",
    "    y_fold = y_train.iloc[test_index]\n",
    "    \n",
    "    X_fold_train = rfvars_train.iloc[train_index,:]\n",
    "    y_fold_train = y_train.iloc[train_index]\n",
    "    \n",
    "    prob_forest_best = RandomForestClassifier(\n",
    "        random_state=20240224, \n",
    "        n_estimators=500, \n",
    "        oob_score=True,\n",
    "        criterion = 'gini', \n",
    "        max_features = best_max_features, min_samples_split = best_min_sample_split)\n",
    "    \n",
    "    prob_forest_best_fold = prob_forest_best.fit(X_fold_train, y_fold_train)\n",
    "    pred_fold = prob_forest_best_fold.predict_proba(X_fold)[:,1]\n",
    "\n",
    "    false_pos_rate, true_pos_rate, threshold = roc_curve(y_fold, pred_fold)\n",
    "    \n",
    "    best_threshold = sorted(\n",
    "        list(\n",
    "            zip(\n",
    "                np.abs(\n",
    "                    true_pos_rate + (1 - prevelance)/(cost * prevelance)*(1-false_pos_rate)\n",
    "                ),\n",
    "                threshold\n",
    "            )\n",
    "        ), \n",
    "        key=lambda x: x[0], reverse=True)[0][1]\n",
    "    \n",
    "    best_thresholds.append(best_threshold)\n",
    "    \n",
    "    threshold_prediction = np.where(pred_fold < best_threshold, 0, 1)\n",
    "    tn, fp, fn, tp = confusion_matrix(y_fold, threshold_prediction, labels=[0,1]).ravel()\n",
    "    curr_exp_loss = (fp*FP + fn*FN)/len(y_fold)\n",
    "    expected_loss.append(curr_exp_loss)"
   ]
  },
  {
   "cell_type": "code",
   "execution_count": 209,
   "id": "a529f60b-3900-4e38-a35f-6fbfced82483",
   "metadata": {
    "tags": []
   },
   "outputs": [
    {
     "data": {
      "text/html": [
       "<div>\n",
       "<style scoped>\n",
       "    .dataframe tbody tr th:only-of-type {\n",
       "        vertical-align: middle;\n",
       "    }\n",
       "\n",
       "    .dataframe tbody tr th {\n",
       "        vertical-align: top;\n",
       "    }\n",
       "\n",
       "    .dataframe thead th {\n",
       "        text-align: right;\n",
       "    }\n",
       "</style>\n",
       "<table border=\"1\" class=\"dataframe\">\n",
       "  <thead>\n",
       "    <tr style=\"text-align: right;\">\n",
       "      <th></th>\n",
       "      <th>false_pos</th>\n",
       "      <th>true_pos</th>\n",
       "      <th>false_neg</th>\n",
       "      <th>true_neg</th>\n",
       "      <th>pos</th>\n",
       "      <th>neg</th>\n",
       "      <th>n</th>\n",
       "      <th>thresholds</th>\n",
       "    </tr>\n",
       "  </thead>\n",
       "  <tbody>\n",
       "    <tr>\n",
       "      <th>0</th>\n",
       "      <td>0.0</td>\n",
       "      <td>0.0</td>\n",
       "      <td>6.0</td>\n",
       "      <td>163.0</td>\n",
       "      <td>6</td>\n",
       "      <td>163</td>\n",
       "      <td>169</td>\n",
       "      <td>inf</td>\n",
       "    </tr>\n",
       "    <tr>\n",
       "      <th>1</th>\n",
       "      <td>0.0</td>\n",
       "      <td>1.0</td>\n",
       "      <td>5.0</td>\n",
       "      <td>163.0</td>\n",
       "      <td>6</td>\n",
       "      <td>163</td>\n",
       "      <td>169</td>\n",
       "      <td>0.386257</td>\n",
       "    </tr>\n",
       "    <tr>\n",
       "      <th>2</th>\n",
       "      <td>3.0</td>\n",
       "      <td>1.0</td>\n",
       "      <td>5.0</td>\n",
       "      <td>160.0</td>\n",
       "      <td>6</td>\n",
       "      <td>163</td>\n",
       "      <td>169</td>\n",
       "      <td>0.180843</td>\n",
       "    </tr>\n",
       "    <tr>\n",
       "      <th>3</th>\n",
       "      <td>3.0</td>\n",
       "      <td>2.0</td>\n",
       "      <td>4.0</td>\n",
       "      <td>160.0</td>\n",
       "      <td>6</td>\n",
       "      <td>163</td>\n",
       "      <td>169</td>\n",
       "      <td>0.180538</td>\n",
       "    </tr>\n",
       "    <tr>\n",
       "      <th>4</th>\n",
       "      <td>9.0</td>\n",
       "      <td>2.0</td>\n",
       "      <td>4.0</td>\n",
       "      <td>154.0</td>\n",
       "      <td>6</td>\n",
       "      <td>163</td>\n",
       "      <td>169</td>\n",
       "      <td>0.154457</td>\n",
       "    </tr>\n",
       "    <tr>\n",
       "      <th>5</th>\n",
       "      <td>9.0</td>\n",
       "      <td>3.0</td>\n",
       "      <td>3.0</td>\n",
       "      <td>154.0</td>\n",
       "      <td>6</td>\n",
       "      <td>163</td>\n",
       "      <td>169</td>\n",
       "      <td>0.150651</td>\n",
       "    </tr>\n",
       "    <tr>\n",
       "      <th>6</th>\n",
       "      <td>23.0</td>\n",
       "      <td>3.0</td>\n",
       "      <td>3.0</td>\n",
       "      <td>140.0</td>\n",
       "      <td>6</td>\n",
       "      <td>163</td>\n",
       "      <td>169</td>\n",
       "      <td>0.117750</td>\n",
       "    </tr>\n",
       "    <tr>\n",
       "      <th>7</th>\n",
       "      <td>23.0</td>\n",
       "      <td>4.0</td>\n",
       "      <td>2.0</td>\n",
       "      <td>140.0</td>\n",
       "      <td>6</td>\n",
       "      <td>163</td>\n",
       "      <td>169</td>\n",
       "      <td>0.111066</td>\n",
       "    </tr>\n",
       "    <tr>\n",
       "      <th>8</th>\n",
       "      <td>39.0</td>\n",
       "      <td>4.0</td>\n",
       "      <td>2.0</td>\n",
       "      <td>124.0</td>\n",
       "      <td>6</td>\n",
       "      <td>163</td>\n",
       "      <td>169</td>\n",
       "      <td>0.080290</td>\n",
       "    </tr>\n",
       "    <tr>\n",
       "      <th>9</th>\n",
       "      <td>39.0</td>\n",
       "      <td>5.0</td>\n",
       "      <td>1.0</td>\n",
       "      <td>124.0</td>\n",
       "      <td>6</td>\n",
       "      <td>163</td>\n",
       "      <td>169</td>\n",
       "      <td>0.079466</td>\n",
       "    </tr>\n",
       "    <tr>\n",
       "      <th>10</th>\n",
       "      <td>61.0</td>\n",
       "      <td>5.0</td>\n",
       "      <td>1.0</td>\n",
       "      <td>102.0</td>\n",
       "      <td>6</td>\n",
       "      <td>163</td>\n",
       "      <td>169</td>\n",
       "      <td>0.050038</td>\n",
       "    </tr>\n",
       "    <tr>\n",
       "      <th>11</th>\n",
       "      <td>61.0</td>\n",
       "      <td>6.0</td>\n",
       "      <td>0.0</td>\n",
       "      <td>102.0</td>\n",
       "      <td>6</td>\n",
       "      <td>163</td>\n",
       "      <td>169</td>\n",
       "      <td>0.048015</td>\n",
       "    </tr>\n",
       "    <tr>\n",
       "      <th>12</th>\n",
       "      <td>163.0</td>\n",
       "      <td>6.0</td>\n",
       "      <td>0.0</td>\n",
       "      <td>0.0</td>\n",
       "      <td>6</td>\n",
       "      <td>163</td>\n",
       "      <td>169</td>\n",
       "      <td>0.001058</td>\n",
       "    </tr>\n",
       "  </tbody>\n",
       "</table>\n",
       "</div>"
      ],
      "text/plain": [
       "    false_pos  true_pos  false_neg  true_neg  pos  neg    n  thresholds\n",
       "0         0.0       0.0        6.0     163.0    6  163  169         inf\n",
       "1         0.0       1.0        5.0     163.0    6  163  169    0.386257\n",
       "2         3.0       1.0        5.0     160.0    6  163  169    0.180843\n",
       "3         3.0       2.0        4.0     160.0    6  163  169    0.180538\n",
       "4         9.0       2.0        4.0     154.0    6  163  169    0.154457\n",
       "5         9.0       3.0        3.0     154.0    6  163  169    0.150651\n",
       "6        23.0       3.0        3.0     140.0    6  163  169    0.117750\n",
       "7        23.0       4.0        2.0     140.0    6  163  169    0.111066\n",
       "8        39.0       4.0        2.0     124.0    6  163  169    0.080290\n",
       "9        39.0       5.0        1.0     124.0    6  163  169    0.079466\n",
       "10       61.0       5.0        1.0     102.0    6  163  169    0.050038\n",
       "11       61.0       6.0        0.0     102.0    6  163  169    0.048015\n",
       "12      163.0       6.0        0.0       0.0    6  163  169    0.001058"
      ]
     },
     "execution_count": 209,
     "metadata": {},
     "output_type": "execute_result"
    }
   ],
   "source": [
    "fold5_threshold_rf = best_threshold\n",
    "fold5_expected_loss_rf = curr_exp_loss\n",
    "\n",
    "all_coords_rf = pd.DataFrame({\n",
    "    'false_pos': false_pos_rate*sum(y_fold == 0),\n",
    "    'true_pos': true_pos_rate*sum(y_fold == 1),\n",
    "    'false_neg': sum(y_fold == 1) - true_pos_rate*sum(y_fold == 1),\n",
    "    'true_neg': sum(y_fold == 0) - false_pos_rate*sum(y_fold == 0),\n",
    "    'pos': sum(y_fold == 1),\n",
    "    'neg': sum(y_fold == 0),\n",
    "    'n': len(y_fold),\n",
    "    'thresholds': threshold\n",
    "})\n",
    "\n",
    "all_coords_rf"
   ]
  },
  {
   "cell_type": "code",
   "execution_count": 210,
   "id": "960502c2-dc89-4df9-bc7f-a5641ee424b0",
   "metadata": {
    "tags": []
   },
   "outputs": [],
   "source": [
    "expected_loss_cv['rf_p'] = np.mean(expected_loss)\n",
    "best_thresholds_cv['rf_p'] = np.mean(best_thresholds)"
   ]
  },
  {
   "cell_type": "code",
   "execution_count": 211,
   "id": "4000a163-be75-4a64-b42d-c1d6c947d487",
   "metadata": {
    "tags": []
   },
   "outputs": [],
   "source": [
    "prob_forest_best_results = prob_forest_cv_results[\n",
    "    (prob_forest_cv_results.max_features == best_max_features) & \n",
    "    (prob_forest_cv_results.min_samples_split == best_min_sample_split)]\n",
    "prob_forest_best_results_index = prob_forest_best_results.index.values[0]"
   ]
  },
  {
   "cell_type": "code",
   "execution_count": 212,
   "id": "cc00ddc2-e5a2-4103-a613-f89b93aec865",
   "metadata": {
    "tags": []
   },
   "outputs": [
    {
     "data": {
      "text/html": [
       "<div>\n",
       "<style scoped>\n",
       "    .dataframe tbody tr th:only-of-type {\n",
       "        vertical-align: middle;\n",
       "    }\n",
       "\n",
       "    .dataframe tbody tr th {\n",
       "        vertical-align: top;\n",
       "    }\n",
       "\n",
       "    .dataframe thead th {\n",
       "        text-align: right;\n",
       "    }\n",
       "</style>\n",
       "<table border=\"1\" class=\"dataframe\">\n",
       "  <thead>\n",
       "    <tr style=\"text-align: right;\">\n",
       "      <th></th>\n",
       "      <th>CV RMSE</th>\n",
       "      <th>CV AUC</th>\n",
       "      <th>Avg of optimal thresholds</th>\n",
       "      <th>Threshold for Fold5</th>\n",
       "      <th>Avg expected loss</th>\n",
       "      <th>Expected loss for Fold5</th>\n",
       "    </tr>\n",
       "  </thead>\n",
       "  <tbody>\n",
       "    <tr>\n",
       "      <th>0</th>\n",
       "      <td>0.209</td>\n",
       "      <td>0.724</td>\n",
       "      <td>inf</td>\n",
       "      <td>0.151</td>\n",
       "      <td>0.558</td>\n",
       "      <td>0.426</td>\n",
       "    </tr>\n",
       "  </tbody>\n",
       "</table>\n",
       "</div>"
      ],
      "text/plain": [
       "   CV RMSE  CV AUC  Avg of optimal thresholds  Threshold for Fold5  \\\n",
       "0    0.209   0.724                        inf                0.151   \n",
       "\n",
       "   Avg expected loss  Expected loss for Fold5  \n",
       "0              0.558                    0.426  "
      ]
     },
     "execution_count": 212,
     "metadata": {},
     "output_type": "execute_result"
    }
   ],
   "source": [
    "rf_summary = pd.DataFrame(\n",
    "    {'CV RMSE': [round(prob_forest_best_results.cv_rmse.values[0], 3)],\n",
    "     'CV AUC': [round(prob_forest_best_results.cv_auc.values[0], 3)],\n",
    "     'Avg of optimal thresholds': [round(best_thresholds_cv['rf_p'], 3)],\n",
    "     'Threshold for Fold5': [round(best_threshold, 3)],\n",
    "     'Avg expected loss': [round(expected_loss_cv['rf_p'], 3)],\n",
    "     'Expected loss for Fold5': [round(curr_exp_loss, 3)]})\n",
    "\n",
    "rf_summary"
   ]
  },
  {
   "cell_type": "markdown",
   "id": "8afe92b1-657e-494b-9ceb-d229e1a8722f",
   "metadata": {},
   "source": [
    "Again, there's an infinite value."
   ]
  },
  {
   "cell_type": "code",
   "execution_count": 213,
   "id": "aff97000-f961-4817-ac4b-dbe1887e8a65",
   "metadata": {
    "tags": []
   },
   "outputs": [
    {
     "data": {
      "text/plain": [
       "[inf,\n",
       " 0.06819840300307567,\n",
       " 0.1563987360237069,\n",
       " 0.2643115893245557,\n",
       " 0.15065107823354787]"
      ]
     },
     "execution_count": 213,
     "metadata": {},
     "output_type": "execute_result"
    }
   ],
   "source": [
    "best_thresholds"
   ]
  },
  {
   "cell_type": "code",
   "execution_count": 214,
   "id": "46754bad-501a-476f-bb89-6450e83a0324",
   "metadata": {
    "tags": []
   },
   "outputs": [
    {
     "data": {
      "text/plain": [
       "0.2647058823529412"
      ]
     },
     "execution_count": 214,
     "metadata": {},
     "output_type": "execute_result"
    }
   ],
   "source": [
    "best_thresholds.pop(0)\n",
    "expected_loss.pop(0)"
   ]
  },
  {
   "cell_type": "code",
   "execution_count": 215,
   "id": "f4f63ec7-012d-45c2-9a4b-27e812633a44",
   "metadata": {
    "tags": []
   },
   "outputs": [],
   "source": [
    "expected_loss_cv['rf_p'] = np.mean(expected_loss)\n",
    "best_thresholds_cv['rf_p'] = np.mean(best_thresholds)"
   ]
  },
  {
   "cell_type": "code",
   "execution_count": 216,
   "id": "b8a869e5-e330-4a78-9146-cd1fe0a07ef0",
   "metadata": {
    "tags": []
   },
   "outputs": [],
   "source": [
    "prob_forest_best_results = prob_forest_cv_results[\n",
    "    (prob_forest_cv_results.max_features == best_max_features) & \n",
    "    (prob_forest_cv_results.min_samples_split == best_min_sample_split)]\n",
    "prob_forest_best_results_index = prob_forest_best_results.index.values[0]"
   ]
  },
  {
   "cell_type": "code",
   "execution_count": 217,
   "id": "74c3f469-db8f-449b-a354-1c191048f7c4",
   "metadata": {
    "tags": []
   },
   "outputs": [
    {
     "data": {
      "text/html": [
       "<div>\n",
       "<style scoped>\n",
       "    .dataframe tbody tr th:only-of-type {\n",
       "        vertical-align: middle;\n",
       "    }\n",
       "\n",
       "    .dataframe tbody tr th {\n",
       "        vertical-align: top;\n",
       "    }\n",
       "\n",
       "    .dataframe thead th {\n",
       "        text-align: right;\n",
       "    }\n",
       "</style>\n",
       "<table border=\"1\" class=\"dataframe\">\n",
       "  <thead>\n",
       "    <tr style=\"text-align: right;\">\n",
       "      <th></th>\n",
       "      <th>CV RMSE</th>\n",
       "      <th>CV AUC</th>\n",
       "      <th>Avg of optimal thresholds</th>\n",
       "      <th>Threshold for Fold5</th>\n",
       "      <th>Avg expected loss</th>\n",
       "      <th>Expected loss for Fold5</th>\n",
       "    </tr>\n",
       "  </thead>\n",
       "  <tbody>\n",
       "    <tr>\n",
       "      <th>0</th>\n",
       "      <td>0.209</td>\n",
       "      <td>0.724</td>\n",
       "      <td>0.16</td>\n",
       "      <td>0.151</td>\n",
       "      <td>0.632</td>\n",
       "      <td>0.426</td>\n",
       "    </tr>\n",
       "  </tbody>\n",
       "</table>\n",
       "</div>"
      ],
      "text/plain": [
       "   CV RMSE  CV AUC  Avg of optimal thresholds  Threshold for Fold5  \\\n",
       "0    0.209   0.724                       0.16                0.151   \n",
       "\n",
       "   Avg expected loss  Expected loss for Fold5  \n",
       "0              0.632                    0.426  "
      ]
     },
     "execution_count": 217,
     "metadata": {},
     "output_type": "execute_result"
    }
   ],
   "source": [
    "rf_summary = pd.DataFrame(\n",
    "    {'CV RMSE': [round(prob_forest_best_results.cv_rmse.values[0], 3)],\n",
    "     'CV AUC': [round(prob_forest_best_results.cv_auc.values[0], 3)],\n",
    "     'Avg of optimal thresholds': [round(best_thresholds_cv['rf_p'], 3)],\n",
    "     'Threshold for Fold5': [round(best_threshold, 3)],\n",
    "     'Avg expected loss': [round(expected_loss_cv['rf_p'], 3)],\n",
    "     'Expected loss for Fold5': [round(curr_exp_loss, 3)]})\n",
    "\n",
    "rf_summary"
   ]
  },
  {
   "cell_type": "markdown",
   "id": "9e5605ad-5d1d-4e6a-9dac-1648ee5f2292",
   "metadata": {},
   "source": [
    "**Take model to holdout and estimate RMSE, AUC and expected loss**"
   ]
  },
  {
   "cell_type": "code",
   "execution_count": 218,
   "id": "aeabf491-b3e6-4737-ad5e-5da1044ba22f",
   "metadata": {
    "tags": []
   },
   "outputs": [
    {
     "data": {
      "text/plain": [
       "0.213"
      ]
     },
     "execution_count": 218,
     "metadata": {},
     "output_type": "execute_result"
    }
   ],
   "source": [
    "prob_forest_fit_best = prob_forest_fit.best_estimator_\n",
    "rf_predicted_probabilities_holdout = prob_forest_fit_best.predict_proba(rfvars_holdout)[:,1]\n",
    "rmse_rf = np.sqrt(mean_squared_error(y_holdout, rf_predicted_probabilities_holdout))\n",
    "round(rmse_rf, 3)"
   ]
  },
  {
   "cell_type": "code",
   "execution_count": 219,
   "id": "e085ff0a-9c98-426d-94e1-e91afe038b34",
   "metadata": {
    "tags": []
   },
   "outputs": [
    {
     "data": {
      "text/plain": [
       "0.82"
      ]
     },
     "execution_count": 219,
     "metadata": {},
     "output_type": "execute_result"
    }
   ],
   "source": [
    "auc_rf = roc_auc_score(y_holdout, rf_predicted_probabilities_holdout)\n",
    "round(auc_rf, 3)"
   ]
  },
  {
   "cell_type": "code",
   "execution_count": 220,
   "id": "9e7b997c-49b0-426b-b669-e07645d037cd",
   "metadata": {
    "tags": []
   },
   "outputs": [
    {
     "data": {
      "text/plain": [
       "0.619"
      ]
     },
     "execution_count": 220,
     "metadata": {},
     "output_type": "execute_result"
    }
   ],
   "source": [
    "holdout_treshold = np.where(rf_predicted_probabilities_holdout < best_thresholds_cv['rf_p'], 0, 1)\n",
    "tn, fp, fn, tp = confusion_matrix(y_holdout, holdout_treshold, labels=[0,1]).ravel()\n",
    "expected_loss_holdout_rf3 = (fp*FP + fn*FN)/len(y_holdout)\n",
    "round(expected_loss_holdout_rf3, 3)"
   ]
  },
  {
   "cell_type": "code",
   "execution_count": 221,
   "id": "653df130-8e9e-4c09-96ac-ac37385c245e",
   "metadata": {
    "tags": []
   },
   "outputs": [
    {
     "data": {
      "image/png": "[encoded data removed]",
      "text/plain": [
       "<Figure size 640x480 with 1 Axes>"
      ]
     },
     "metadata": {
      "image/png": {
       "height": 480,
       "width": 640
      }
     },
     "output_type": "display_data"
    },
    {
     "data": {
      "text/plain": [
       "<Figure Size: (640 x 480)>"
      ]
     },
     "execution_count": 221,
     "metadata": {},
     "output_type": "execute_result"
    }
   ],
   "source": [
    "create_roc_plot(y_holdout, rf_predicted_probabilities_holdout)"
   ]
  },
  {
   "cell_type": "code",
   "execution_count": 222,
   "id": "734270da-c47c-4d4f-b507-e69e7c21d726",
   "metadata": {
    "tags": []
   },
   "outputs": [
    {
     "data": {
      "image/png": "[encoded data removed]",
      "text/plain": [
       "<Figure size 640x480 with 1 Axes>"
      ]
     },
     "metadata": {
      "image/png": {
       "height": 480,
       "width": 640
      }
     },
     "output_type": "display_data"
    },
    {
     "data": {
      "text/plain": [
       "<Figure Size: (640 x 480)>"
      ]
     },
     "execution_count": 222,
     "metadata": {},
     "output_type": "execute_result"
    }
   ],
   "source": [
    "create_loss_plot(all_coords_rf, fold5_threshold_rf, fold5_expected_loss_rf)"
   ]
  },
  {
   "cell_type": "code",
   "execution_count": 223,
   "id": "90b9a166-ce36-4f9a-a383-d13fcbdac0bf",
   "metadata": {
    "tags": []
   },
   "outputs": [
    {
     "data": {
      "text/html": [
       "<div>\n",
       "<style scoped>\n",
       "    .dataframe tbody tr th:only-of-type {\n",
       "        vertical-align: middle;\n",
       "    }\n",
       "\n",
       "    .dataframe tbody tr th {\n",
       "        vertical-align: top;\n",
       "    }\n",
       "\n",
       "    .dataframe thead th {\n",
       "        text-align: right;\n",
       "    }\n",
       "</style>\n",
       "<table border=\"1\" class=\"dataframe\">\n",
       "  <thead>\n",
       "    <tr style=\"text-align: right;\">\n",
       "      <th></th>\n",
       "      <th>Predicted no default</th>\n",
       "      <th>Predicted default</th>\n",
       "    </tr>\n",
       "  </thead>\n",
       "  <tbody>\n",
       "    <tr>\n",
       "      <th>Actul no defaul</th>\n",
       "      <td>922</td>\n",
       "      <td>59</td>\n",
       "    </tr>\n",
       "    <tr>\n",
       "      <th>Actual default</th>\n",
       "      <td>31</td>\n",
       "      <td>25</td>\n",
       "    </tr>\n",
       "  </tbody>\n",
       "</table>\n",
       "</div>"
      ],
      "text/plain": [
       "                 Predicted no default  Predicted default\n",
       "Actul no defaul                   922                 59\n",
       "Actual default                     31                 25"
      ]
     },
     "execution_count": 223,
     "metadata": {},
     "output_type": "execute_result"
    }
   ],
   "source": [
    "cm_object6 = confusion_matrix(y_holdout, holdout_treshold, labels=[0,1])\n",
    "cm6 = pd.DataFrame(cm_object6, \n",
    "    index=['Actul no defaul', 'Actual default'], \n",
    "    columns=['Predicted no default', 'Predicted default'])\n",
    "cm6"
   ]
  },
  {
   "cell_type": "markdown",
   "id": "48e6fbbd-5866-4622-986c-d3521695dbb2",
   "metadata": {},
   "source": [
    "Despite the small dataset and low prevalence, the RF model successfully identifies almost half of the default cases and produces the lowest expected loss value on the holdout set of 0.619."
   ]
  },
  {
   "cell_type": "markdown",
   "id": "6864f3bb-9b68-49f4-b78a-1234cf6e8378",
   "metadata": {},
   "source": [
    "The results suggest that:\n",
    "- The RF models always outperformed the simple logistics regressions\n",
    "- All models were relatively poor at identifying defaulting companies, while they were mostly accurate identifying non-defaulting ones - this is likely the low prevalence of default in the datasets."
   ]
  },
  {
   "cell_type": "markdown",
   "id": "f153b891-ae3e-4d40-bfb4-8a44428df285",
   "metadata": {},
   "source": [
    "Let's go back one more time to create a dataset from the `raw_data` that has a higher prevalence of default and is sufficiently large."
   ]
  },
  {
   "cell_type": "markdown",
   "id": "1dce8479-30af-463c-aee7-185b6281d210",
   "metadata": {},
   "source": [
    "# Extra dataset and modeling\n",
    "For this dataset, let's go back 2 years and apply only a top filter on the sales figures."
   ]
  },
  {
   "cell_type": "code",
   "execution_count": 224,
   "id": "5b3a49be-d36a-4af2-8591-71665810966e",
   "metadata": {
    "tags": []
   },
   "outputs": [],
   "source": [
    "data4 = raw_data.query(\"year==2012 & status_alive == 1\")\n",
    "data4 = data4.query(\"sales<=10000000\")"
   ]
  },
  {
   "cell_type": "code",
   "execution_count": 225,
   "id": "a351fd27-7404-4524-9c1f-861f7fab9d4e",
   "metadata": {
    "tags": []
   },
   "outputs": [
    {
     "data": {
      "text/plain": [
       "default\n",
       "0    19684\n",
       "1     2936\n",
       "Name: count, dtype: int64"
      ]
     },
     "execution_count": 225,
     "metadata": {},
     "output_type": "execute_result"
    }
   ],
   "source": [
    "data4.default.value_counts()"
   ]
  },
  {
   "cell_type": "code",
   "execution_count": 226,
   "id": "364454ca-1858-4907-8cfd-18cd31cdab26",
   "metadata": {
    "tags": []
   },
   "outputs": [
    {
     "data": {
      "text/plain": [
       "count      22.62\n",
       "mean      221.76\n",
       "std       757.93\n",
       "min         0.00\n",
       "25%        12.22\n",
       "50%        38.46\n",
       "75%       122.76\n",
       "max      9989.31\n",
       "Name: sales, dtype: float64"
      ]
     },
     "execution_count": 226,
     "metadata": {},
     "output_type": "execute_result"
    }
   ],
   "source": [
    "round(data4.sales.describe()/1000, 2)"
   ]
  },
  {
   "cell_type": "code",
   "execution_count": 227,
   "id": "4c20cb75-01f1-4353-a833-6eb6d9244208",
   "metadata": {
    "tags": []
   },
   "outputs": [
    {
     "data": {
      "text/html": [
       "<div>\n",
       "<style scoped>\n",
       "    .dataframe tbody tr th:only-of-type {\n",
       "        vertical-align: middle;\n",
       "    }\n",
       "\n",
       "    .dataframe tbody tr th {\n",
       "        vertical-align: top;\n",
       "    }\n",
       "\n",
       "    .dataframe thead th {\n",
       "        text-align: right;\n",
       "    }\n",
       "</style>\n",
       "<table border=\"1\" class=\"dataframe\">\n",
       "  <thead>\n",
       "    <tr style=\"text-align: right;\">\n",
       "      <th></th>\n",
       "      <th>sales</th>\n",
       "    </tr>\n",
       "    <tr>\n",
       "      <th>default</th>\n",
       "      <th></th>\n",
       "    </tr>\n",
       "  </thead>\n",
       "  <tbody>\n",
       "    <tr>\n",
       "      <th>0</th>\n",
       "      <td>245393.874831</td>\n",
       "    </tr>\n",
       "    <tr>\n",
       "      <th>1</th>\n",
       "      <td>63345.553852</td>\n",
       "    </tr>\n",
       "  </tbody>\n",
       "</table>\n",
       "</div>"
      ],
      "text/plain": [
       "                 sales\n",
       "default               \n",
       "0        245393.874831\n",
       "1         63345.553852"
      ]
     },
     "execution_count": 227,
     "metadata": {},
     "output_type": "execute_result"
    }
   ],
   "source": [
    "data4.groupby(\"default\").agg({\"sales\": \"mean\"})"
   ]
  },
  {
   "cell_type": "code",
   "execution_count": 228,
   "id": "b1692ef3-a0aa-410a-8fb7-b776077cae01",
   "metadata": {
    "tags": []
   },
   "outputs": [
    {
     "data": {
      "text/plain": [
       "amort                    42\n",
       "curr_assets              10\n",
       "curr_liab                10\n",
       "fixed_assets             10\n",
       "intang_assets            10\n",
       "inventories              10\n",
       "liq_assets               10\n",
       "material_exp             42\n",
       "personnel_exp            42\n",
       "profit_loss_year         10\n",
       "share_eq                 10\n",
       "subscribed_cap           10\n",
       "tang_assets              10\n",
       "founded_year           2158\n",
       "ceo_count              2156\n",
       "foreign                2156\n",
       "female                 2156\n",
       "inoffice_days          2156\n",
       "gender                 2156\n",
       "origin                 2156\n",
       "nace_main                 5\n",
       "ind2                      5\n",
       "ind                     689\n",
       "region_m                 61\n",
       "founded_date              3\n",
       "age                    2158\n",
       "flag_asset_problem       10\n",
       "total_assets_bs          10\n",
       "inventories_pl           10\n",
       "material_exp_pl          42\n",
       "profit_loss_year_pl      10\n",
       "personnel_exp_pl         42\n",
       "dtype: int64"
      ]
     },
     "execution_count": 228,
     "metadata": {},
     "output_type": "execute_result"
    }
   ],
   "source": [
    "to_filter=data4.isna().sum()\n",
    "to_filter[to_filter>0]"
   ]
  },
  {
   "cell_type": "code",
   "execution_count": 229,
   "id": "16b88845-a2ea-48d1-b2d8-cb9cb8b34a31",
   "metadata": {
    "tags": []
   },
   "outputs": [],
   "source": [
    "data4.dropna(subset=to_filter[to_filter>0].index, inplace = True)"
   ]
  },
  {
   "cell_type": "code",
   "execution_count": 230,
   "id": "4955247d-736e-45d4-9ad2-6acb29c0a540",
   "metadata": {
    "tags": []
   },
   "outputs": [
    {
     "data": {
      "text/plain": [
       "default\n",
       "0    17258\n",
       "1     2495\n",
       "Name: count, dtype: int64"
      ]
     },
     "execution_count": 230,
     "metadata": {},
     "output_type": "execute_result"
    }
   ],
   "source": [
    "data4.default.value_counts()"
   ]
  },
  {
   "cell_type": "code",
   "execution_count": 231,
   "id": "ce0ea208-8806-483d-a655-df1128a8e54d",
   "metadata": {
    "tags": []
   },
   "outputs": [
    {
     "name": "stdout",
     "output_type": "stream",
     "text": [
      "<class 'pandas.core.frame.DataFrame'>\n",
      "Index: 19753 entries, 324885 to 371294\n",
      "Data columns (total 63 columns):\n",
      " #   Column                Non-Null Count  Dtype   \n",
      "---  ------                --------------  -----   \n",
      " 0   year                  19753 non-null  int64   \n",
      " 1   comp_id               19753 non-null  float64 \n",
      " 2   begin                 19753 non-null  object  \n",
      " 3   end                   19753 non-null  object  \n",
      " 4   amort                 19753 non-null  float64 \n",
      " 5   curr_assets           19753 non-null  float64 \n",
      " 6   curr_liab             19753 non-null  float64 \n",
      " 7   extra_exp             19753 non-null  float64 \n",
      " 8   extra_inc             19753 non-null  float64 \n",
      " 9   extra_profit_loss     19753 non-null  float64 \n",
      " 10  fixed_assets          19753 non-null  float64 \n",
      " 11  inc_bef_tax           19753 non-null  float64 \n",
      " 12  intang_assets         19753 non-null  float64 \n",
      " 13  inventories           19753 non-null  float64 \n",
      " 14  liq_assets            19753 non-null  float64 \n",
      " 15  material_exp          19753 non-null  float64 \n",
      " 16  personnel_exp         19753 non-null  float64 \n",
      " 17  profit_loss_year      19753 non-null  float64 \n",
      " 18  sales                 19753 non-null  float64 \n",
      " 19  share_eq              19753 non-null  float64 \n",
      " 20  subscribed_cap        19753 non-null  float64 \n",
      " 21  tang_assets           19753 non-null  float64 \n",
      " 22  balsheet_flag         19753 non-null  float64 \n",
      " 23  balsheet_length       19753 non-null  float64 \n",
      " 24  balsheet_notfullyear  19753 non-null  float64 \n",
      " 25  founded_year          19753 non-null  float64 \n",
      " 26  ceo_count             19753 non-null  float64 \n",
      " 27  foreign               19753 non-null  float64 \n",
      " 28  female                19753 non-null  float64 \n",
      " 29  inoffice_days         19753 non-null  float64 \n",
      " 30  gender                19753 non-null  category\n",
      " 31  origin                19753 non-null  category\n",
      " 32  nace_main             19753 non-null  category\n",
      " 33  ind2                  19753 non-null  category\n",
      " 34  ind                   19753 non-null  category\n",
      " 35  urban_m               19753 non-null  category\n",
      " 36  region_m              19753 non-null  category\n",
      " 37  founded_date          19753 non-null  object  \n",
      " 38  age                   19753 non-null  float64 \n",
      " 39  status_alive          19753 non-null  int32   \n",
      " 40  default               19753 non-null  int32   \n",
      " 41  flag_asset_problem    19753 non-null  float64 \n",
      " 42  total_assets_bs       19753 non-null  float64 \n",
      " 43  extra_exp_pl          19753 non-null  float64 \n",
      " 44  extra_inc_pl          19753 non-null  float64 \n",
      " 45  extra_profit_loss_pl  19753 non-null  float64 \n",
      " 46  inc_bef_tax_pl        19753 non-null  float64 \n",
      " 47  inventories_pl        19753 non-null  float64 \n",
      " 48  material_exp_pl       19753 non-null  float64 \n",
      " 49  profit_loss_year_pl   19753 non-null  float64 \n",
      " 50  personnel_exp_pl      19753 non-null  float64 \n",
      " 51  intang_assets_bs      19753 non-null  float64 \n",
      " 52  curr_liab_bs          19753 non-null  float64 \n",
      " 53  fixed_assets_bs       19753 non-null  float64 \n",
      " 54  liq_assets_bs         19753 non-null  float64 \n",
      " 55  curr_assets_bs        19753 non-null  float64 \n",
      " 56  share_eq_bs           19753 non-null  float64 \n",
      " 57  subscribed_cap_bs     19753 non-null  float64 \n",
      " 58  tang_assets_bs        19753 non-null  float64 \n",
      " 59  labor_avg_mod         19753 non-null  float64 \n",
      " 60  flag_miss_labor_avg   19753 non-null  int32   \n",
      " 61  birth_year_mod        19753 non-null  float64 \n",
      " 62  flag_miss_birth_year  19753 non-null  int32   \n",
      "dtypes: category(7), float64(48), int32(4), int64(1), object(3)\n",
      "memory usage: 8.5+ MB\n"
     ]
    }
   ],
   "source": [
    "data4.info()"
   ]
  },
  {
   "cell_type": "code",
   "execution_count": 232,
   "id": "4ca8cd14-09f6-4e35-a833-aea251f3bdbb",
   "metadata": {
    "tags": []
   },
   "outputs": [],
   "source": [
    "dataset4 = pd.concat([data4, holdout_data])"
   ]
  },
  {
   "cell_type": "code",
   "execution_count": 233,
   "id": "4944b924-792c-4b12-9d81-c58cd9de40d3",
   "metadata": {
    "tags": []
   },
   "outputs": [
    {
     "data": {
      "text/plain": [
       "material_exp_pl     2\n",
       "personnel_exp_pl    2\n",
       "dtype: int64"
      ]
     },
     "execution_count": 233,
     "metadata": {},
     "output_type": "execute_result"
    }
   ],
   "source": [
    "for col in impute_num_list:\n",
    "    impute_num(dataset4, col)\n",
    "\n",
    "for col in impute_cat_list:\n",
    "    impute_cat(dataset4, col)\n",
    "    \n",
    "to_filter=dataset4.isna().sum()\n",
    "to_filter[to_filter>0]"
   ]
  },
  {
   "cell_type": "code",
   "execution_count": 234,
   "id": "4d33fa6d-139d-47d3-ac3e-50c5fe61a3c0",
   "metadata": {
    "tags": []
   },
   "outputs": [],
   "source": [
    "# recalculate missing values for _pl variables, and rename columns\n",
    "pl_names2 = [\"material_exp\", \"personnel_exp\"]\n",
    "dataset4[[col + \"_pl\" for col in pl_names2]] = dataset4[pl_names2].div(\n",
    "    dataset4[\"sales\"], axis=\"index\")"
   ]
  },
  {
   "cell_type": "code",
   "execution_count": 235,
   "id": "68aabdaf-42a0-407a-9923-f1aab6d491ec",
   "metadata": {
    "tags": []
   },
   "outputs": [
    {
     "data": {
      "text/plain": [
       "Series([], dtype: int64)"
      ]
     },
     "execution_count": 235,
     "metadata": {},
     "output_type": "execute_result"
    }
   ],
   "source": [
    "to_filter=dataset4.isna().sum()\n",
    "to_filter[to_filter>0]"
   ]
  },
  {
   "cell_type": "code",
   "execution_count": 236,
   "id": "94505daf-e57d-45a3-b923-0ca5659707ac",
   "metadata": {
    "tags": []
   },
   "outputs": [],
   "source": [
    "ind2_catmat = patsy.dmatrix(\"0 + C(ind2)\",dataset4, return_type=\"dataframe\")\n",
    "ind2_catmat = ind2_catmat.drop(['C(ind2)[1.0]'], axis=1)"
   ]
  },
  {
   "cell_type": "code",
   "execution_count": 237,
   "id": "3c652c25-2068-4727-ab9d-cf804f568874",
   "metadata": {
    "tags": []
   },
   "outputs": [],
   "source": [
    "ind_catmat = patsy.dmatrix(\"0 + C(ind)\",dataset4, return_type=\"dataframe\")\n",
    "ind_catmat = ind_catmat.drop(['C(ind)[1.0]'], axis=1)"
   ]
  },
  {
   "cell_type": "code",
   "execution_count": 238,
   "id": "6a942c80-2d6d-4818-b752-5a7a1d995fd9",
   "metadata": {
    "tags": []
   },
   "outputs": [],
   "source": [
    "m_region_locmat = patsy.dmatrix(\"0 + C(region_m)\",dataset4, return_type=\"dataframe\")\n",
    "m_region_locmat = m_region_locmat.drop(['C(region_m)[Central]'], axis=1)"
   ]
  },
  {
   "cell_type": "code",
   "execution_count": 239,
   "id": "79578265-d364-45f8-a908-9c07b4dcc077",
   "metadata": {
    "tags": []
   },
   "outputs": [],
   "source": [
    "urban_mmat = patsy.dmatrix(\"0 + C(urban_m)\",dataset4, return_type=\"dataframe\")\n",
    "urban_mmat = urban_mmat.drop(['C(urban_m)[1.0]'], axis=1)"
   ]
  },
  {
   "cell_type": "code",
   "execution_count": 240,
   "id": "549b3116-f567-4cc3-bb27-3a0104ec40f6",
   "metadata": {
    "tags": []
   },
   "outputs": [],
   "source": [
    "gender_catmat = patsy.dmatrix(\"0 + C(gender)\",dataset4, return_type=\"dataframe\")\n",
    "gender_catmat = gender_catmat.drop(['C(gender)[male]'], axis=1)"
   ]
  },
  {
   "cell_type": "code",
   "execution_count": 241,
   "id": "906bc603-48c8-4759-9f4a-7effee86fde5",
   "metadata": {
    "tags": []
   },
   "outputs": [],
   "source": [
    "origin_catmat = patsy.dmatrix(\"0 + C(origin)\",dataset4, return_type=\"dataframe\")\n",
    "origin_catmat = origin_catmat.drop(['C(origin)[Domestic]'], axis=1)"
   ]
  },
  {
   "cell_type": "code",
   "execution_count": 242,
   "id": "e254f7d8-e899-48ca-a60e-288b00844131",
   "metadata": {
    "tags": []
   },
   "outputs": [
    {
     "data": {
      "text/plain": [
       "Series([], dtype: int64)"
      ]
     },
     "execution_count": 242,
     "metadata": {},
     "output_type": "execute_result"
    }
   ],
   "source": [
    "to_filter=rfvars.isna().sum()\n",
    "to_filter[to_filter>0]"
   ]
  },
  {
   "cell_type": "markdown",
   "id": "4cfd570d-61c1-4aa7-9cf8-ee8449416177",
   "metadata": {},
   "source": [
    "For this dataset, only the RF model will be used."
   ]
  },
  {
   "cell_type": "markdown",
   "id": "80d951ed-45ad-4b3b-a238-73e7aa9aa946",
   "metadata": {},
   "source": [
    "## Random forest"
   ]
  },
  {
   "cell_type": "code",
   "execution_count": 243,
   "id": "cb461a5d-e1de-4aa2-bb32-78278334da06",
   "metadata": {
    "tags": []
   },
   "outputs": [],
   "source": [
    "raw = dataset4[raw_vars]\n",
    "fin = dataset4[fin_vars]\n",
    "X1 = pd.concat([raw, fin], axis=1)"
   ]
  },
  {
   "cell_type": "code",
   "execution_count": 244,
   "id": "86bef997-c20a-4ef4-85c7-87f3170bab25",
   "metadata": {
    "tags": []
   },
   "outputs": [],
   "source": [
    "X2 = pd.concat([X1, ind2_catmat, ind_catmat, m_region_locmat, urban_mmat, gender_catmat, origin_catmat], axis=1)"
   ]
  },
  {
   "cell_type": "code",
   "execution_count": 245,
   "id": "a916a98a-8c51-4881-be9e-8601b69edfb2",
   "metadata": {
    "tags": []
   },
   "outputs": [],
   "source": [
    "hr = dataset4[hr_vars]\n",
    "X3 = pd.concat([X1, X2, hr], axis = 1)"
   ]
  },
  {
   "cell_type": "code",
   "execution_count": 246,
   "id": "1d2edcf4-0166-4932-a66b-ac524467f180",
   "metadata": {
    "tags": []
   },
   "outputs": [],
   "source": [
    "rfvars  = pd.concat([X1, X2, hr], axis=1)"
   ]
  },
  {
   "cell_type": "code",
   "execution_count": 247,
   "id": "8c13d800-c36b-45d7-a075-51af6e8508cf",
   "metadata": {
    "tags": []
   },
   "outputs": [],
   "source": [
    "y = dataset4['default']"
   ]
  },
  {
   "cell_type": "code",
   "execution_count": 248,
   "id": "1259a563-a245-4b0e-b446-41efb60b4baf",
   "metadata": {
    "tags": []
   },
   "outputs": [],
   "source": [
    "# definine train-holdout split based on dataset4's setup\n",
    "\n",
    "index_train = data4.index\n",
    "index_holdout = holdout_data.index\n",
    "\n",
    "y_train = y.loc[index_train]\n",
    "y_holdout = y.loc[index_holdout]"
   ]
  },
  {
   "cell_type": "code",
   "execution_count": 249,
   "id": "cd593df6-f896-4eef-8457-428c7b9636fe",
   "metadata": {
    "tags": []
   },
   "outputs": [],
   "source": [
    "# specifying cross-validation \n",
    "k = KFold(n_splits = 5, shuffle = True, random_state = 20240224)"
   ]
  },
  {
   "cell_type": "code",
   "execution_count": 250,
   "id": "b673d9ae-d224-4c0e-80a7-25c15ee2a6cd",
   "metadata": {
    "tags": []
   },
   "outputs": [],
   "source": [
    "rfvars_train = rfvars.loc[index_train]\n",
    "rfvars_holdout = rfvars.loc[index_holdout]"
   ]
  },
  {
   "cell_type": "code",
   "execution_count": 251,
   "id": "0829d0e0-97b3-4a08-8791-bf0499b475cc",
   "metadata": {
    "tags": []
   },
   "outputs": [],
   "source": [
    "grid = {'max_features': [5, 6, 7],\n",
    "        'criterion':['gini'],\n",
    "        'min_samples_split': [11, 16]}"
   ]
  },
  {
   "cell_type": "code",
   "execution_count": 252,
   "id": "91545f63-e05c-4c37-8289-5be4e554671e",
   "metadata": {
    "tags": []
   },
   "outputs": [],
   "source": [
    "prob_forest = RandomForestClassifier(\n",
    "    random_state=20240224, \n",
    "    n_estimators=500, \n",
    "    oob_score=True)\n",
    "\n",
    "prob_forest_grid = GridSearchCV(\n",
    "    prob_forest, \n",
    "    grid, \n",
    "    cv=k, \n",
    "    refit='roc_auc',\n",
    "    scoring = ['accuracy', 'roc_auc', 'neg_brier_score'], \n",
    "    n_jobs=-1)"
   ]
  },
  {
   "cell_type": "code",
   "execution_count": 253,
   "id": "e0196b10-c309-4c65-a19e-0f1fd7c1f660",
   "metadata": {
    "tags": []
   },
   "outputs": [
    {
     "name": "stdout",
     "output_type": "stream",
     "text": [
      "CPU times: total: 54.6 s\n",
      "Wall time: 3min 46s\n"
     ]
    }
   ],
   "source": [
    "%%time\n",
    "prob_forest_fit = prob_forest_grid.fit(rfvars_train, y_train)"
   ]
  },
  {
   "cell_type": "code",
   "execution_count": 254,
   "id": "df8e769e-49e2-4b12-81a4-d8216d49cd97",
   "metadata": {
    "tags": []
   },
   "outputs": [
    {
     "data": {
      "text/plain": [
       "array([0.88335905, 0.88356158, 0.88366287, 0.88356164, 0.88421968,\n",
       "       0.88320729])"
      ]
     },
     "execution_count": 254,
     "metadata": {},
     "output_type": "execute_result"
    }
   ],
   "source": [
    "# checking out accuracy, RMSE and AUC\n",
    "\n",
    "cv_accuracy = np.zeros([6])\n",
    "for i in range(5):\n",
    "    cv_accuracy = cv_accuracy + prob_forest_fit.cv_results_['split' + str(i) + '_test_accuracy']\n",
    "cv_accuracy = cv_accuracy/5\n",
    "cv_accuracy"
   ]
  },
  {
   "cell_type": "code",
   "execution_count": 255,
   "id": "6cf697ad-2eaf-4132-bc85-d4fcc70468cb",
   "metadata": {
    "tags": []
   },
   "outputs": [
    {
     "data": {
      "text/plain": [
       "array([0.83397928, 0.83388696, 0.83436016, 0.83410526, 0.83467132,\n",
       "       0.83450231])"
      ]
     },
     "execution_count": 255,
     "metadata": {},
     "output_type": "execute_result"
    }
   ],
   "source": [
    "cv_auc = np.zeros([6])\n",
    "for i in range(5):\n",
    "    cv_auc = cv_auc + prob_forest_fit.cv_results_['split' + str(i) + '_test_roc_auc']\n",
    "cv_auc = cv_auc/5\n",
    "cv_auc"
   ]
  },
  {
   "cell_type": "code",
   "execution_count": 256,
   "id": "48be25f6-5b17-4878-a866-c53ebe78e1d4",
   "metadata": {
    "tags": []
   },
   "outputs": [
    {
     "data": {
      "text/plain": [
       "array([0.29549195, 0.29561852, 0.29551747, 0.29549237, 0.29543786,\n",
       "       0.29546532])"
      ]
     },
     "execution_count": 256,
     "metadata": {},
     "output_type": "execute_result"
    }
   ],
   "source": [
    "cv_rmse = np.zeros([6])\n",
    "for i in range(5):\n",
    "    cv_rmse = cv_rmse +np.sqrt(-1*(prob_forest_fit.cv_results_['split' + str(i) + '_test_neg_brier_score'])).tolist()\n",
    "cv_rmse = cv_rmse/5\n",
    "cv_rmse"
   ]
  },
  {
   "cell_type": "code",
   "execution_count": 257,
   "id": "cf0e0645-e862-4346-8490-f7e301137229",
   "metadata": {
    "tags": []
   },
   "outputs": [],
   "source": [
    "prob_forest_cv_results = pd.DataFrame({\n",
    "    'max_features': prob_forest_fit.cv_results_['param_max_features'],\n",
    "    'min_samples_split': prob_forest_fit.cv_results_['param_min_samples_split'],\n",
    "    'cv_accuracy': cv_accuracy,\n",
    "    'cv_auc': cv_auc,\n",
    "    'cv_rmse': cv_rmse\n",
    "})"
   ]
  },
  {
   "cell_type": "code",
   "execution_count": 258,
   "id": "e3e05c0e-b22f-4f6a-9f50-38c16547d98e",
   "metadata": {
    "tags": []
   },
   "outputs": [
    {
     "data": {
      "text/html": [
       "<div>\n",
       "<style scoped>\n",
       "    .dataframe tbody tr th:only-of-type {\n",
       "        vertical-align: middle;\n",
       "    }\n",
       "\n",
       "    .dataframe tbody tr th {\n",
       "        vertical-align: top;\n",
       "    }\n",
       "\n",
       "    .dataframe thead th {\n",
       "        text-align: right;\n",
       "    }\n",
       "</style>\n",
       "<table border=\"1\" class=\"dataframe\">\n",
       "  <thead>\n",
       "    <tr style=\"text-align: right;\">\n",
       "      <th></th>\n",
       "      <th>max_features</th>\n",
       "      <th>min_samples_split</th>\n",
       "      <th>cv_accuracy</th>\n",
       "      <th>cv_auc</th>\n",
       "      <th>cv_rmse</th>\n",
       "    </tr>\n",
       "  </thead>\n",
       "  <tbody>\n",
       "    <tr>\n",
       "      <th>0</th>\n",
       "      <td>5</td>\n",
       "      <td>11</td>\n",
       "      <td>0.883359</td>\n",
       "      <td>0.833979</td>\n",
       "      <td>0.295492</td>\n",
       "    </tr>\n",
       "    <tr>\n",
       "      <th>1</th>\n",
       "      <td>5</td>\n",
       "      <td>16</td>\n",
       "      <td>0.883562</td>\n",
       "      <td>0.833887</td>\n",
       "      <td>0.295619</td>\n",
       "    </tr>\n",
       "    <tr>\n",
       "      <th>2</th>\n",
       "      <td>6</td>\n",
       "      <td>11</td>\n",
       "      <td>0.883663</td>\n",
       "      <td>0.834360</td>\n",
       "      <td>0.295517</td>\n",
       "    </tr>\n",
       "    <tr>\n",
       "      <th>3</th>\n",
       "      <td>6</td>\n",
       "      <td>16</td>\n",
       "      <td>0.883562</td>\n",
       "      <td>0.834105</td>\n",
       "      <td>0.295492</td>\n",
       "    </tr>\n",
       "    <tr>\n",
       "      <th>4</th>\n",
       "      <td>7</td>\n",
       "      <td>11</td>\n",
       "      <td>0.884220</td>\n",
       "      <td>0.834671</td>\n",
       "      <td>0.295438</td>\n",
       "    </tr>\n",
       "    <tr>\n",
       "      <th>5</th>\n",
       "      <td>7</td>\n",
       "      <td>16</td>\n",
       "      <td>0.883207</td>\n",
       "      <td>0.834502</td>\n",
       "      <td>0.295465</td>\n",
       "    </tr>\n",
       "  </tbody>\n",
       "</table>\n",
       "</div>"
      ],
      "text/plain": [
       "  max_features min_samples_split  cv_accuracy    cv_auc   cv_rmse\n",
       "0            5                11     0.883359  0.833979  0.295492\n",
       "1            5                16     0.883562  0.833887  0.295619\n",
       "2            6                11     0.883663  0.834360  0.295517\n",
       "3            6                16     0.883562  0.834105  0.295492\n",
       "4            7                11     0.884220  0.834671  0.295438\n",
       "5            7                16     0.883207  0.834502  0.295465"
      ]
     },
     "execution_count": 258,
     "metadata": {},
     "output_type": "execute_result"
    }
   ],
   "source": [
    "prob_forest_cv_results"
   ]
  },
  {
   "cell_type": "code",
   "execution_count": 259,
   "id": "19142261-de3c-472f-afcb-34cb68c17ffb",
   "metadata": {
    "tags": []
   },
   "outputs": [],
   "source": [
    "best_max_features = prob_forest_fit.best_params_['max_features']\n",
    "best_min_sample_split = prob_forest_fit.best_params_['min_samples_split']"
   ]
  },
  {
   "cell_type": "code",
   "execution_count": 260,
   "id": "e364959c-f625-4d65-97ed-7a155952b34a",
   "metadata": {
    "tags": []
   },
   "outputs": [
    {
     "name": "stdout",
     "output_type": "stream",
     "text": [
      "The best random forest model has the following features: {'criterion': 'gini', 'max_features': 7, 'min_samples_split': 11}\n"
     ]
    }
   ],
   "source": [
    "print(f'The best random forest model has the following features: {prob_forest_fit.best_params_}')"
   ]
  },
  {
   "cell_type": "markdown",
   "id": "b0f6d745-bcfc-418a-a2fa-91616645cb8a",
   "metadata": {},
   "source": [
    "Quite good AUC scores."
   ]
  },
  {
   "cell_type": "markdown",
   "id": "335b88a9-a753-4dbc-948e-783db1748086",
   "metadata": {},
   "source": [
    "**Using loss function and search for best thresholds and expected loss over folds**"
   ]
  },
  {
   "cell_type": "code",
   "execution_count": 261,
   "id": "d2e638e3-e9e7-44b6-b2c3-fdab9d29bc71",
   "metadata": {
    "tags": []
   },
   "outputs": [],
   "source": [
    "best_thresholds = list()\n",
    "expected_loss = list()\n",
    "\n",
    "fold = 0\n",
    "for train_index, test_index in k.split(rfvars_train):\n",
    "    X_fold = rfvars_train.iloc[test_index,:]\n",
    "    y_fold = y_train.iloc[test_index]\n",
    "    \n",
    "    X_fold_train = rfvars_train.iloc[train_index,:]\n",
    "    y_fold_train = y_train.iloc[train_index]\n",
    "    \n",
    "    prob_forest_best = RandomForestClassifier(\n",
    "        random_state=20240224, \n",
    "        n_estimators=500, \n",
    "        oob_score=True,\n",
    "        criterion = 'gini', \n",
    "        max_features = best_max_features, min_samples_split = best_min_sample_split)\n",
    "    \n",
    "    prob_forest_best_fold = prob_forest_best.fit(X_fold_train, y_fold_train)\n",
    "    pred_fold = prob_forest_best_fold.predict_proba(X_fold)[:,1]\n",
    "\n",
    "    false_pos_rate, true_pos_rate, threshold = roc_curve(y_fold, pred_fold)\n",
    "    \n",
    "    best_threshold = sorted(\n",
    "        list(\n",
    "            zip(\n",
    "                np.abs(\n",
    "                    true_pos_rate + (1 - prevelance)/(cost * prevelance)*(1-false_pos_rate)\n",
    "                ),\n",
    "                threshold\n",
    "            )\n",
    "        ), \n",
    "        key=lambda x: x[0], reverse=True)[0][1]\n",
    "    \n",
    "    best_thresholds.append(best_threshold)\n",
    "    \n",
    "    threshold_prediction = np.where(pred_fold < best_threshold, 0, 1)\n",
    "    tn, fp, fn, tp = confusion_matrix(y_fold, threshold_prediction, labels=[0,1]).ravel()\n",
    "    curr_exp_loss = (fp*FP + fn*FN)/len(y_fold)\n",
    "    expected_loss.append(curr_exp_loss)"
   ]
  },
  {
   "cell_type": "code",
   "execution_count": 262,
   "id": "2f1b184a-89b3-490b-bc15-d404a8ff9456",
   "metadata": {
    "tags": []
   },
   "outputs": [
    {
     "data": {
      "text/plain": [
       "[0.38621561305649676,\n",
       " 0.3620562065557421,\n",
       " 0.3203755111761304,\n",
       " 0.3512171180127062,\n",
       " 0.3407508030754935]"
      ]
     },
     "execution_count": 262,
     "metadata": {},
     "output_type": "execute_result"
    }
   ],
   "source": [
    "best_thresholds"
   ]
  },
  {
   "cell_type": "code",
   "execution_count": 263,
   "id": "fb597cdb-ce3d-4c4a-9f4c-e305f2301f09",
   "metadata": {
    "tags": []
   },
   "outputs": [
    {
     "data": {
      "text/html": [
       "<div>\n",
       "<style scoped>\n",
       "    .dataframe tbody tr th:only-of-type {\n",
       "        vertical-align: middle;\n",
       "    }\n",
       "\n",
       "    .dataframe tbody tr th {\n",
       "        vertical-align: top;\n",
       "    }\n",
       "\n",
       "    .dataframe thead th {\n",
       "        text-align: right;\n",
       "    }\n",
       "</style>\n",
       "<table border=\"1\" class=\"dataframe\">\n",
       "  <thead>\n",
       "    <tr style=\"text-align: right;\">\n",
       "      <th></th>\n",
       "      <th>false_pos</th>\n",
       "      <th>true_pos</th>\n",
       "      <th>false_neg</th>\n",
       "      <th>true_neg</th>\n",
       "      <th>pos</th>\n",
       "      <th>neg</th>\n",
       "      <th>n</th>\n",
       "      <th>thresholds</th>\n",
       "    </tr>\n",
       "  </thead>\n",
       "  <tbody>\n",
       "    <tr>\n",
       "      <th>0</th>\n",
       "      <td>0.0</td>\n",
       "      <td>0.0</td>\n",
       "      <td>520.0</td>\n",
       "      <td>3430.0</td>\n",
       "      <td>520</td>\n",
       "      <td>3430</td>\n",
       "      <td>3950</td>\n",
       "      <td>inf</td>\n",
       "    </tr>\n",
       "    <tr>\n",
       "      <th>1</th>\n",
       "      <td>0.0</td>\n",
       "      <td>1.0</td>\n",
       "      <td>519.0</td>\n",
       "      <td>3430.0</td>\n",
       "      <td>520</td>\n",
       "      <td>3430</td>\n",
       "      <td>3950</td>\n",
       "      <td>0.899259</td>\n",
       "    </tr>\n",
       "    <tr>\n",
       "      <th>2</th>\n",
       "      <td>0.0</td>\n",
       "      <td>2.0</td>\n",
       "      <td>518.0</td>\n",
       "      <td>3430.0</td>\n",
       "      <td>520</td>\n",
       "      <td>3430</td>\n",
       "      <td>3950</td>\n",
       "      <td>0.879373</td>\n",
       "    </tr>\n",
       "    <tr>\n",
       "      <th>3</th>\n",
       "      <td>1.0</td>\n",
       "      <td>2.0</td>\n",
       "      <td>518.0</td>\n",
       "      <td>3429.0</td>\n",
       "      <td>520</td>\n",
       "      <td>3430</td>\n",
       "      <td>3950</td>\n",
       "      <td>0.851472</td>\n",
       "    </tr>\n",
       "    <tr>\n",
       "      <th>4</th>\n",
       "      <td>1.0</td>\n",
       "      <td>7.0</td>\n",
       "      <td>513.0</td>\n",
       "      <td>3429.0</td>\n",
       "      <td>520</td>\n",
       "      <td>3430</td>\n",
       "      <td>3950</td>\n",
       "      <td>0.813555</td>\n",
       "    </tr>\n",
       "    <tr>\n",
       "      <th>...</th>\n",
       "      <td>...</td>\n",
       "      <td>...</td>\n",
       "      <td>...</td>\n",
       "      <td>...</td>\n",
       "      <td>...</td>\n",
       "      <td>...</td>\n",
       "      <td>...</td>\n",
       "      <td>...</td>\n",
       "    </tr>\n",
       "    <tr>\n",
       "      <th>736</th>\n",
       "      <td>3395.0</td>\n",
       "      <td>520.0</td>\n",
       "      <td>0.0</td>\n",
       "      <td>35.0</td>\n",
       "      <td>520</td>\n",
       "      <td>3430</td>\n",
       "      <td>3950</td>\n",
       "      <td>0.000200</td>\n",
       "    </tr>\n",
       "    <tr>\n",
       "      <th>737</th>\n",
       "      <td>3396.0</td>\n",
       "      <td>520.0</td>\n",
       "      <td>0.0</td>\n",
       "      <td>34.0</td>\n",
       "      <td>520</td>\n",
       "      <td>3430</td>\n",
       "      <td>3950</td>\n",
       "      <td>0.000167</td>\n",
       "    </tr>\n",
       "    <tr>\n",
       "      <th>738</th>\n",
       "      <td>3400.0</td>\n",
       "      <td>520.0</td>\n",
       "      <td>0.0</td>\n",
       "      <td>30.0</td>\n",
       "      <td>520</td>\n",
       "      <td>3430</td>\n",
       "      <td>3950</td>\n",
       "      <td>0.000143</td>\n",
       "    </tr>\n",
       "    <tr>\n",
       "      <th>739</th>\n",
       "      <td>3405.0</td>\n",
       "      <td>520.0</td>\n",
       "      <td>0.0</td>\n",
       "      <td>25.0</td>\n",
       "      <td>520</td>\n",
       "      <td>3430</td>\n",
       "      <td>3950</td>\n",
       "      <td>0.000100</td>\n",
       "    </tr>\n",
       "    <tr>\n",
       "      <th>740</th>\n",
       "      <td>3430.0</td>\n",
       "      <td>520.0</td>\n",
       "      <td>0.0</td>\n",
       "      <td>0.0</td>\n",
       "      <td>520</td>\n",
       "      <td>3430</td>\n",
       "      <td>3950</td>\n",
       "      <td>0.000000</td>\n",
       "    </tr>\n",
       "  </tbody>\n",
       "</table>\n",
       "<p>741 rows × 8 columns</p>\n",
       "</div>"
      ],
      "text/plain": [
       "     false_pos  true_pos  false_neg  true_neg  pos   neg     n  thresholds\n",
       "0          0.0       0.0      520.0    3430.0  520  3430  3950         inf\n",
       "1          0.0       1.0      519.0    3430.0  520  3430  3950    0.899259\n",
       "2          0.0       2.0      518.0    3430.0  520  3430  3950    0.879373\n",
       "3          1.0       2.0      518.0    3429.0  520  3430  3950    0.851472\n",
       "4          1.0       7.0      513.0    3429.0  520  3430  3950    0.813555\n",
       "..         ...       ...        ...       ...  ...   ...   ...         ...\n",
       "736     3395.0     520.0        0.0      35.0  520  3430  3950    0.000200\n",
       "737     3396.0     520.0        0.0      34.0  520  3430  3950    0.000167\n",
       "738     3400.0     520.0        0.0      30.0  520  3430  3950    0.000143\n",
       "739     3405.0     520.0        0.0      25.0  520  3430  3950    0.000100\n",
       "740     3430.0     520.0        0.0       0.0  520  3430  3950    0.000000\n",
       "\n",
       "[741 rows x 8 columns]"
      ]
     },
     "execution_count": 263,
     "metadata": {},
     "output_type": "execute_result"
    }
   ],
   "source": [
    "fold5_threshold_rf = best_threshold\n",
    "fold5_expected_loss_rf = curr_exp_loss\n",
    "\n",
    "all_coords_rf = pd.DataFrame({\n",
    "    'false_pos': false_pos_rate*sum(y_fold == 0),\n",
    "    'true_pos': true_pos_rate*sum(y_fold == 1),\n",
    "    'false_neg': sum(y_fold == 1) - true_pos_rate*sum(y_fold == 1),\n",
    "    'true_neg': sum(y_fold == 0) - false_pos_rate*sum(y_fold == 0),\n",
    "    'pos': sum(y_fold == 1),\n",
    "    'neg': sum(y_fold == 0),\n",
    "    'n': len(y_fold),\n",
    "    'thresholds': threshold\n",
    "})\n",
    "\n",
    "all_coords_rf"
   ]
  },
  {
   "cell_type": "code",
   "execution_count": 264,
   "id": "236e81bb-997e-4177-a7f8-63c140716c65",
   "metadata": {
    "tags": []
   },
   "outputs": [],
   "source": [
    "expected_loss_cv['rf_p'] = np.mean(expected_loss)\n",
    "best_thresholds_cv['rf_p'] = np.mean(best_thresholds)"
   ]
  },
  {
   "cell_type": "code",
   "execution_count": 265,
   "id": "a53ddf10-83a9-4951-b900-6acb9403639e",
   "metadata": {
    "tags": []
   },
   "outputs": [],
   "source": [
    "prob_forest_best_results = prob_forest_cv_results[\n",
    "    (prob_forest_cv_results.max_features == best_max_features) & \n",
    "    (prob_forest_cv_results.min_samples_split == best_min_sample_split)]\n",
    "prob_forest_best_results_index = prob_forest_best_results.index.values[0]"
   ]
  },
  {
   "cell_type": "code",
   "execution_count": 266,
   "id": "ee5c85db-ff65-47f3-a4ba-8d30275be1eb",
   "metadata": {
    "tags": []
   },
   "outputs": [
    {
     "data": {
      "text/html": [
       "<div>\n",
       "<style scoped>\n",
       "    .dataframe tbody tr th:only-of-type {\n",
       "        vertical-align: middle;\n",
       "    }\n",
       "\n",
       "    .dataframe tbody tr th {\n",
       "        vertical-align: top;\n",
       "    }\n",
       "\n",
       "    .dataframe thead th {\n",
       "        text-align: right;\n",
       "    }\n",
       "</style>\n",
       "<table border=\"1\" class=\"dataframe\">\n",
       "  <thead>\n",
       "    <tr style=\"text-align: right;\">\n",
       "      <th></th>\n",
       "      <th>CV RMSE</th>\n",
       "      <th>CV AUC</th>\n",
       "      <th>Avg of optimal thresholds</th>\n",
       "      <th>Threshold for Fold5</th>\n",
       "      <th>Avg expected loss</th>\n",
       "      <th>Expected loss for Fold5</th>\n",
       "    </tr>\n",
       "  </thead>\n",
       "  <tbody>\n",
       "    <tr>\n",
       "      <th>0</th>\n",
       "      <td>0.295</td>\n",
       "      <td>0.835</td>\n",
       "      <td>0.352</td>\n",
       "      <td>0.341</td>\n",
       "      <td>1.301</td>\n",
       "      <td>1.308</td>\n",
       "    </tr>\n",
       "  </tbody>\n",
       "</table>\n",
       "</div>"
      ],
      "text/plain": [
       "   CV RMSE  CV AUC  Avg of optimal thresholds  Threshold for Fold5  \\\n",
       "0    0.295   0.835                      0.352                0.341   \n",
       "\n",
       "   Avg expected loss  Expected loss for Fold5  \n",
       "0              1.301                    1.308  "
      ]
     },
     "execution_count": 266,
     "metadata": {},
     "output_type": "execute_result"
    }
   ],
   "source": [
    "rf_summary = pd.DataFrame(\n",
    "    {'CV RMSE': [round(prob_forest_best_results.cv_rmse.values[0], 3)],\n",
    "     'CV AUC': [round(prob_forest_best_results.cv_auc.values[0], 3)],\n",
    "     'Avg of optimal thresholds': [round(best_thresholds_cv['rf_p'], 3)],\n",
    "     'Threshold for Fold5': [round(best_threshold, 3)],\n",
    "     'Avg expected loss': [round(expected_loss_cv['rf_p'], 3)],\n",
    "     'Expected loss for Fold5': [round(curr_exp_loss, 3)]})\n",
    "\n",
    "rf_summary"
   ]
  },
  {
   "cell_type": "markdown",
   "id": "1b1e2aa6-6832-4006-93cf-ae187a04d08d",
   "metadata": {},
   "source": [
    "**Take model to holdout and estimate RMSE, AUC and expected loss**"
   ]
  },
  {
   "cell_type": "code",
   "execution_count": 267,
   "id": "7678a324-4a6b-495e-94a4-82f01b1ee5eb",
   "metadata": {
    "tags": []
   },
   "outputs": [
    {
     "data": {
      "text/plain": [
       "0.215"
      ]
     },
     "execution_count": 267,
     "metadata": {},
     "output_type": "execute_result"
    }
   ],
   "source": [
    "prob_forest_fit_best = prob_forest_fit.best_estimator_\n",
    "rf_predicted_probabilities_holdout = prob_forest_fit_best.predict_proba(rfvars_holdout)[:,1]\n",
    "rmse_rf = np.sqrt(mean_squared_error(y_holdout, rf_predicted_probabilities_holdout))\n",
    "round(rmse_rf, 3)"
   ]
  },
  {
   "cell_type": "code",
   "execution_count": 268,
   "id": "ff12f17a-481b-44e9-b1e3-e45a6d4583a3",
   "metadata": {
    "tags": []
   },
   "outputs": [
    {
     "data": {
      "text/plain": [
       "0.818"
      ]
     },
     "execution_count": 268,
     "metadata": {},
     "output_type": "execute_result"
    }
   ],
   "source": [
    "auc_rf = roc_auc_score(y_holdout, rf_predicted_probabilities_holdout)\n",
    "round(auc_rf, 3)"
   ]
  },
  {
   "cell_type": "code",
   "execution_count": 269,
   "id": "a2147dc1-8de6-4c33-9830-5d2ac1236957",
   "metadata": {
    "tags": []
   },
   "outputs": [
    {
     "data": {
      "text/plain": [
       "0.703"
      ]
     },
     "execution_count": 269,
     "metadata": {},
     "output_type": "execute_result"
    }
   ],
   "source": [
    "holdout_treshold = np.where(rf_predicted_probabilities_holdout < best_thresholds_cv['rf_p'], 0, 1)\n",
    "tn, fp, fn, tp = confusion_matrix(y_holdout, holdout_treshold, labels=[0,1]).ravel()\n",
    "expected_loss_holdout_rf4 = (fp*FP + fn*FN)/len(y_holdout)\n",
    "round(expected_loss_holdout_rf4, 3)"
   ]
  },
  {
   "cell_type": "code",
   "execution_count": 270,
   "id": "b9c93cab-edb7-4b9d-b9b2-6d48828a00c7",
   "metadata": {
    "tags": []
   },
   "outputs": [
    {
     "data": {
      "text/html": [
       "<div>\n",
       "<style scoped>\n",
       "    .dataframe tbody tr th:only-of-type {\n",
       "        vertical-align: middle;\n",
       "    }\n",
       "\n",
       "    .dataframe tbody tr th {\n",
       "        vertical-align: top;\n",
       "    }\n",
       "\n",
       "    .dataframe thead th {\n",
       "        text-align: right;\n",
       "    }\n",
       "</style>\n",
       "<table border=\"1\" class=\"dataframe\">\n",
       "  <thead>\n",
       "    <tr style=\"text-align: right;\">\n",
       "      <th></th>\n",
       "      <th>Predicted no default</th>\n",
       "      <th>Predicted default</th>\n",
       "    </tr>\n",
       "  </thead>\n",
       "  <tbody>\n",
       "    <tr>\n",
       "      <th>Actul no defaul</th>\n",
       "      <td>963</td>\n",
       "      <td>18</td>\n",
       "    </tr>\n",
       "    <tr>\n",
       "      <th>Actual default</th>\n",
       "      <td>45</td>\n",
       "      <td>11</td>\n",
       "    </tr>\n",
       "  </tbody>\n",
       "</table>\n",
       "</div>"
      ],
      "text/plain": [
       "                 Predicted no default  Predicted default\n",
       "Actul no defaul                   963                 18\n",
       "Actual default                     45                 11"
      ]
     },
     "execution_count": 270,
     "metadata": {},
     "output_type": "execute_result"
    }
   ],
   "source": [
    "cm_object7 = confusion_matrix(y_holdout, holdout_treshold, labels=[0,1])\n",
    "cm7 = pd.DataFrame(cm_object7, \n",
    "    index=['Actul no defaul', 'Actual default'], \n",
    "    columns=['Predicted no default', 'Predicted default'])\n",
    "cm7"
   ]
  },
  {
   "cell_type": "markdown",
   "id": "e03eff43-6a9b-4bbc-b473-cb91d4276a99",
   "metadata": {},
   "source": [
    "This model was also unable to pick up most of the defaulting firms which makes its expected loss also higher than the other models'."
   ]
  },
  {
   "cell_type": "markdown",
   "id": "dba982fb-b462-4f6f-b95f-2b227096cf31",
   "metadata": {},
   "source": [
    "## Downsampling non-default ratio\n",
    "To experiment for a better result in identifying defaulting firms, let's downsample the non-defaulting ones from data2 (as that is a large enough dataset with fairly good results already)"
   ]
  },
  {
   "cell_type": "code",
   "execution_count": 271,
   "id": "94aa46bd-677e-4cc8-88fc-eabec6590101",
   "metadata": {
    "tags": []
   },
   "outputs": [],
   "source": [
    "# Let's drop 30% of non defaulting firms at random\n",
    "\n",
    "data5 = data2.drop(data2[data2['default'] == 0].sample(frac=.3).index)"
   ]
  },
  {
   "cell_type": "code",
   "execution_count": 272,
   "id": "08b8afce-3b37-4736-9a77-d80ae2c0f75d",
   "metadata": {
    "tags": []
   },
   "outputs": [
    {
     "data": {
      "text/plain": [
       "default\n",
       "0    11661\n",
       "1     1849\n",
       "Name: count, dtype: int64"
      ]
     },
     "execution_count": 272,
     "metadata": {},
     "output_type": "execute_result"
    }
   ],
   "source": [
    "data5.default.value_counts()"
   ]
  },
  {
   "cell_type": "code",
   "execution_count": 273,
   "id": "62d8aac3-043d-4786-82a9-c9805d9c7422",
   "metadata": {
    "tags": []
   },
   "outputs": [],
   "source": [
    "dataset5 = pd.concat([data5, holdout_data])"
   ]
  },
  {
   "cell_type": "code",
   "execution_count": 274,
   "id": "c054e72c-5d0a-4c30-bbc6-2cc35d6f68fa",
   "metadata": {
    "tags": []
   },
   "outputs": [
    {
     "data": {
      "text/plain": [
       "material_exp_pl     2\n",
       "personnel_exp_pl    2\n",
       "dtype: int64"
      ]
     },
     "execution_count": 274,
     "metadata": {},
     "output_type": "execute_result"
    }
   ],
   "source": [
    "for col in impute_num_list:\n",
    "    impute_num(dataset5, col)\n",
    "\n",
    "for col in impute_cat_list:\n",
    "    impute_cat(dataset5, col)\n",
    "    \n",
    "to_filter=dataset5.isna().sum()\n",
    "to_filter[to_filter>0]"
   ]
  },
  {
   "cell_type": "code",
   "execution_count": 275,
   "id": "d445399d-0157-40b8-a049-3c8da5e40181",
   "metadata": {
    "tags": []
   },
   "outputs": [],
   "source": [
    "# recalculate missing values for _pl variables, and rename columns\n",
    "pl_names2 = [\"material_exp\", \"personnel_exp\"]\n",
    "dataset5[[col + \"_pl\" for col in pl_names2]] = dataset5[pl_names2].div(\n",
    "    dataset5[\"sales\"], axis=\"index\")"
   ]
  },
  {
   "cell_type": "code",
   "execution_count": 276,
   "id": "15da9e4a-0e65-401d-88fe-234c6814bf63",
   "metadata": {
    "tags": []
   },
   "outputs": [
    {
     "data": {
      "text/plain": [
       "Series([], dtype: int64)"
      ]
     },
     "execution_count": 276,
     "metadata": {},
     "output_type": "execute_result"
    }
   ],
   "source": [
    "to_filter=dataset5.isna().sum()\n",
    "to_filter[to_filter>0]"
   ]
  },
  {
   "cell_type": "code",
   "execution_count": 277,
   "id": "2f9cc454-15a6-4db0-a39e-fb2bb1e879d9",
   "metadata": {
    "tags": []
   },
   "outputs": [],
   "source": [
    "ind2_catmat = patsy.dmatrix(\"0 + C(ind2)\",dataset5, return_type=\"dataframe\")\n",
    "ind2_catmat = ind2_catmat.drop(['C(ind2)[1.0]'], axis=1)"
   ]
  },
  {
   "cell_type": "code",
   "execution_count": 278,
   "id": "8fb1aada-0fdc-416c-97c2-afc9b0c6ec9b",
   "metadata": {
    "tags": []
   },
   "outputs": [],
   "source": [
    "ind_catmat = patsy.dmatrix(\"0 + C(ind)\",dataset5, return_type=\"dataframe\")\n",
    "ind_catmat = ind_catmat.drop(['C(ind)[1.0]'], axis=1)"
   ]
  },
  {
   "cell_type": "code",
   "execution_count": 279,
   "id": "431314d1-0b9b-45d2-80cd-8c269393d07e",
   "metadata": {
    "tags": []
   },
   "outputs": [],
   "source": [
    "m_region_locmat = patsy.dmatrix(\"0 + C(region_m)\",dataset5, return_type=\"dataframe\")\n",
    "m_region_locmat = m_region_locmat.drop(['C(region_m)[Central]'], axis=1)"
   ]
  },
  {
   "cell_type": "code",
   "execution_count": 280,
   "id": "94fffb94-c14d-4c0d-948d-afd9b3acdbf3",
   "metadata": {
    "tags": []
   },
   "outputs": [],
   "source": [
    "urban_mmat = patsy.dmatrix(\"0 + C(urban_m)\",dataset5, return_type=\"dataframe\")\n",
    "urban_mmat = urban_mmat.drop(['C(urban_m)[1.0]'], axis=1)"
   ]
  },
  {
   "cell_type": "code",
   "execution_count": 281,
   "id": "0265d73c-22ff-4ee5-a783-60908c8bd10e",
   "metadata": {
    "tags": []
   },
   "outputs": [],
   "source": [
    "gender_catmat = patsy.dmatrix(\"0 + C(gender)\",dataset5, return_type=\"dataframe\")\n",
    "gender_catmat = gender_catmat.drop(['C(gender)[male]'], axis=1)"
   ]
  },
  {
   "cell_type": "code",
   "execution_count": 282,
   "id": "788447c7-d311-4db2-82cb-7647310ad56f",
   "metadata": {
    "tags": []
   },
   "outputs": [],
   "source": [
    "origin_catmat = patsy.dmatrix(\"0 + C(origin)\",dataset5, return_type=\"dataframe\")\n",
    "origin_catmat = origin_catmat.drop(['C(origin)[Domestic]'], axis=1)"
   ]
  },
  {
   "cell_type": "markdown",
   "id": "a8f32cc2-ba40-4fab-a27a-3a5ba5f726e4",
   "metadata": {},
   "source": [
    "### Random forest v5"
   ]
  },
  {
   "cell_type": "code",
   "execution_count": 283,
   "id": "8fdf8b61-9b86-416e-8c69-01bc7bf4bf6f",
   "metadata": {
    "tags": []
   },
   "outputs": [],
   "source": [
    "raw = dataset5[raw_vars]\n",
    "fin = dataset5[fin_vars]\n",
    "X1 = pd.concat([raw, fin], axis=1)"
   ]
  },
  {
   "cell_type": "code",
   "execution_count": 284,
   "id": "9a6c04c6-5e92-42bc-a536-3e6f17d867b1",
   "metadata": {
    "tags": []
   },
   "outputs": [],
   "source": [
    "X2 = pd.concat([X1, ind2_catmat, ind_catmat, m_region_locmat, urban_mmat, gender_catmat, origin_catmat], axis=1)"
   ]
  },
  {
   "cell_type": "code",
   "execution_count": 285,
   "id": "74867491-0355-4351-b4c7-df18cecd78e7",
   "metadata": {
    "tags": []
   },
   "outputs": [],
   "source": [
    "hr = dataset5[hr_vars]\n",
    "X3 = pd.concat([X1, X2, hr], axis = 1)"
   ]
  },
  {
   "cell_type": "code",
   "execution_count": 286,
   "id": "167a23d1-3599-49e9-9c9f-d9a3c5b1a64c",
   "metadata": {
    "tags": []
   },
   "outputs": [],
   "source": [
    "rfvars  = pd.concat([X1, X2, hr], axis=1)"
   ]
  },
  {
   "cell_type": "code",
   "execution_count": 287,
   "id": "379b27d2-6adb-42e0-be49-43ef573bbb2a",
   "metadata": {
    "tags": []
   },
   "outputs": [],
   "source": [
    "y = dataset5['default']"
   ]
  },
  {
   "cell_type": "code",
   "execution_count": 288,
   "id": "f9072205-ad35-4f3e-9591-927efe337881",
   "metadata": {
    "tags": []
   },
   "outputs": [],
   "source": [
    "# definine train-holdout split based on dataset5's setup\n",
    "\n",
    "index_train = data5.index\n",
    "index_holdout = holdout_data.index\n",
    "\n",
    "y_train = y.loc[index_train]\n",
    "y_holdout = y.loc[index_holdout]"
   ]
  },
  {
   "cell_type": "code",
   "execution_count": 289,
   "id": "2d67ec3c-ce55-42e5-9945-43dba3abbf44",
   "metadata": {
    "tags": []
   },
   "outputs": [],
   "source": [
    "# specifying cross-validation \n",
    "k = KFold(n_splits = 5, shuffle = True, random_state = 20240224)"
   ]
  },
  {
   "cell_type": "code",
   "execution_count": 290,
   "id": "b3a001c3-87b2-4030-9e42-4061e29a889f",
   "metadata": {
    "tags": []
   },
   "outputs": [],
   "source": [
    "rfvars_train = rfvars.loc[index_train]\n",
    "rfvars_holdout = rfvars.loc[index_holdout]"
   ]
  },
  {
   "cell_type": "code",
   "execution_count": 291,
   "id": "11318d4e-9443-4012-822d-f5a67cf24d33",
   "metadata": {
    "tags": []
   },
   "outputs": [],
   "source": [
    "grid = {'max_features': [5, 6, 7],\n",
    "        'criterion':['gini'],\n",
    "        'min_samples_split': [11, 16]}"
   ]
  },
  {
   "cell_type": "code",
   "execution_count": 292,
   "id": "0f0bb5ca-545f-4c88-bbd5-22d8057bda7e",
   "metadata": {
    "tags": []
   },
   "outputs": [],
   "source": [
    "prob_forest = RandomForestClassifier(\n",
    "    random_state=20240224, \n",
    "    n_estimators=500, \n",
    "    oob_score=True)\n",
    "\n",
    "prob_forest_grid = GridSearchCV(\n",
    "    prob_forest, \n",
    "    grid, \n",
    "    cv=k, \n",
    "    refit='roc_auc',\n",
    "    scoring = ['accuracy', 'roc_auc', 'neg_brier_score'], \n",
    "    n_jobs=-1)"
   ]
  },
  {
   "cell_type": "code",
   "execution_count": 293,
   "id": "f1780519-7e0a-4bb3-9d79-e16606b8bc7b",
   "metadata": {
    "tags": []
   },
   "outputs": [
    {
     "name": "stdout",
     "output_type": "stream",
     "text": [
      "CPU times: total: 29.5 s\n",
      "Wall time: 2min 35s\n"
     ]
    }
   ],
   "source": [
    "%%time\n",
    "prob_forest_fit = prob_forest_grid.fit(rfvars_train, y_train)"
   ]
  },
  {
   "cell_type": "code",
   "execution_count": 294,
   "id": "e0dc3279-544a-4772-8edf-80a6ff7e7902",
   "metadata": {
    "tags": []
   },
   "outputs": [
    {
     "data": {
      "text/plain": [
       "array([0.87660992, 0.87712805, 0.87757217, 0.87742413, 0.87735011,\n",
       "       0.87698001])"
      ]
     },
     "execution_count": 294,
     "metadata": {},
     "output_type": "execute_result"
    }
   ],
   "source": [
    "# checking out accuracy, RMSE and AUC\n",
    "\n",
    "cv_accuracy = np.zeros([6])\n",
    "for i in range(5):\n",
    "    cv_accuracy = cv_accuracy + prob_forest_fit.cv_results_['split' + str(i) + '_test_accuracy']\n",
    "cv_accuracy = cv_accuracy/5\n",
    "cv_accuracy"
   ]
  },
  {
   "cell_type": "code",
   "execution_count": 295,
   "id": "e3cfee3a-9e7a-455c-b169-c10a5a5ecbf9",
   "metadata": {
    "tags": []
   },
   "outputs": [
    {
     "data": {
      "text/plain": [
       "array([0.83419155, 0.83473182, 0.83393259, 0.83368176, 0.83329605,\n",
       "       0.83404617])"
      ]
     },
     "execution_count": 295,
     "metadata": {},
     "output_type": "execute_result"
    }
   ],
   "source": [
    "cv_auc = np.zeros([6])\n",
    "for i in range(5):\n",
    "    cv_auc = cv_auc + prob_forest_fit.cv_results_['split' + str(i) + '_test_roc_auc']\n",
    "cv_auc = cv_auc/5\n",
    "cv_auc"
   ]
  },
  {
   "cell_type": "code",
   "execution_count": 296,
   "id": "d40bc70d-0be3-418c-a088-cad65920c26d",
   "metadata": {
    "tags": []
   },
   "outputs": [
    {
     "data": {
      "text/plain": [
       "array([0.30196924, 0.30193207, 0.30209114, 0.30190302, 0.30205372,\n",
       "       0.30184621])"
      ]
     },
     "execution_count": 296,
     "metadata": {},
     "output_type": "execute_result"
    }
   ],
   "source": [
    "cv_rmse = np.zeros([6])\n",
    "for i in range(5):\n",
    "    cv_rmse = cv_rmse +np.sqrt(-1*(prob_forest_fit.cv_results_['split' + str(i) + '_test_neg_brier_score'])).tolist()\n",
    "cv_rmse = cv_rmse/5\n",
    "cv_rmse"
   ]
  },
  {
   "cell_type": "code",
   "execution_count": 297,
   "id": "dc07b4a5-66a8-4a3e-a405-7e9884511e11",
   "metadata": {
    "tags": []
   },
   "outputs": [],
   "source": [
    "prob_forest_cv_results = pd.DataFrame({\n",
    "    'max_features': prob_forest_fit.cv_results_['param_max_features'],\n",
    "    'min_samples_split': prob_forest_fit.cv_results_['param_min_samples_split'],\n",
    "    'cv_accuracy': cv_accuracy,\n",
    "    'cv_auc': cv_auc,\n",
    "    'cv_rmse': cv_rmse\n",
    "})"
   ]
  },
  {
   "cell_type": "code",
   "execution_count": 298,
   "id": "9522b787-42b5-4886-ad94-798753f26223",
   "metadata": {
    "tags": []
   },
   "outputs": [
    {
     "data": {
      "text/html": [
       "<div>\n",
       "<style scoped>\n",
       "    .dataframe tbody tr th:only-of-type {\n",
       "        vertical-align: middle;\n",
       "    }\n",
       "\n",
       "    .dataframe tbody tr th {\n",
       "        vertical-align: top;\n",
       "    }\n",
       "\n",
       "    .dataframe thead th {\n",
       "        text-align: right;\n",
       "    }\n",
       "</style>\n",
       "<table border=\"1\" class=\"dataframe\">\n",
       "  <thead>\n",
       "    <tr style=\"text-align: right;\">\n",
       "      <th></th>\n",
       "      <th>max_features</th>\n",
       "      <th>min_samples_split</th>\n",
       "      <th>cv_accuracy</th>\n",
       "      <th>cv_auc</th>\n",
       "      <th>cv_rmse</th>\n",
       "    </tr>\n",
       "  </thead>\n",
       "  <tbody>\n",
       "    <tr>\n",
       "      <th>0</th>\n",
       "      <td>5</td>\n",
       "      <td>11</td>\n",
       "      <td>0.876610</td>\n",
       "      <td>0.834192</td>\n",
       "      <td>0.301969</td>\n",
       "    </tr>\n",
       "    <tr>\n",
       "      <th>1</th>\n",
       "      <td>5</td>\n",
       "      <td>16</td>\n",
       "      <td>0.877128</td>\n",
       "      <td>0.834732</td>\n",
       "      <td>0.301932</td>\n",
       "    </tr>\n",
       "    <tr>\n",
       "      <th>2</th>\n",
       "      <td>6</td>\n",
       "      <td>11</td>\n",
       "      <td>0.877572</td>\n",
       "      <td>0.833933</td>\n",
       "      <td>0.302091</td>\n",
       "    </tr>\n",
       "    <tr>\n",
       "      <th>3</th>\n",
       "      <td>6</td>\n",
       "      <td>16</td>\n",
       "      <td>0.877424</td>\n",
       "      <td>0.833682</td>\n",
       "      <td>0.301903</td>\n",
       "    </tr>\n",
       "    <tr>\n",
       "      <th>4</th>\n",
       "      <td>7</td>\n",
       "      <td>11</td>\n",
       "      <td>0.877350</td>\n",
       "      <td>0.833296</td>\n",
       "      <td>0.302054</td>\n",
       "    </tr>\n",
       "    <tr>\n",
       "      <th>5</th>\n",
       "      <td>7</td>\n",
       "      <td>16</td>\n",
       "      <td>0.876980</td>\n",
       "      <td>0.834046</td>\n",
       "      <td>0.301846</td>\n",
       "    </tr>\n",
       "  </tbody>\n",
       "</table>\n",
       "</div>"
      ],
      "text/plain": [
       "  max_features min_samples_split  cv_accuracy    cv_auc   cv_rmse\n",
       "0            5                11     0.876610  0.834192  0.301969\n",
       "1            5                16     0.877128  0.834732  0.301932\n",
       "2            6                11     0.877572  0.833933  0.302091\n",
       "3            6                16     0.877424  0.833682  0.301903\n",
       "4            7                11     0.877350  0.833296  0.302054\n",
       "5            7                16     0.876980  0.834046  0.301846"
      ]
     },
     "execution_count": 298,
     "metadata": {},
     "output_type": "execute_result"
    }
   ],
   "source": [
    "prob_forest_cv_results"
   ]
  },
  {
   "cell_type": "code",
   "execution_count": 299,
   "id": "81d9078b-c728-44d1-a02a-af346c3695dc",
   "metadata": {
    "tags": []
   },
   "outputs": [],
   "source": [
    "best_max_features = prob_forest_fit.best_params_['max_features']\n",
    "best_min_sample_split = prob_forest_fit.best_params_['min_samples_split']"
   ]
  },
  {
   "cell_type": "markdown",
   "id": "b3fd2759-d5f8-4a31-9b38-166c1c30c91f",
   "metadata": {},
   "source": [
    "**Using loss function and search for best thresholds and expected loss over folds**"
   ]
  },
  {
   "cell_type": "code",
   "execution_count": 300,
   "id": "59ed46b6-c775-4211-bedf-c143436f6ee6",
   "metadata": {
    "tags": []
   },
   "outputs": [],
   "source": [
    "best_thresholds = list()\n",
    "expected_loss = list()\n",
    "\n",
    "fold = 0\n",
    "for train_index, test_index in k.split(rfvars_train):\n",
    "    X_fold = rfvars_train.iloc[test_index,:]\n",
    "    y_fold = y_train.iloc[test_index]\n",
    "    \n",
    "    X_fold_train = rfvars_train.iloc[train_index,:]\n",
    "    y_fold_train = y_train.iloc[train_index]\n",
    "    \n",
    "    prob_forest_best = RandomForestClassifier(\n",
    "        random_state=20240224, \n",
    "        n_estimators=500, \n",
    "        oob_score=True,\n",
    "        criterion = 'gini', \n",
    "        max_features = best_max_features, min_samples_split = best_min_sample_split)\n",
    "    \n",
    "    prob_forest_best_fold = prob_forest_best.fit(X_fold_train, y_fold_train)\n",
    "    pred_fold = prob_forest_best_fold.predict_proba(X_fold)[:,1]\n",
    "\n",
    "    false_pos_rate, true_pos_rate, threshold = roc_curve(y_fold, pred_fold)\n",
    "    \n",
    "    best_threshold = sorted(\n",
    "        list(\n",
    "            zip(\n",
    "                np.abs(\n",
    "                    true_pos_rate + (1 - prevelance)/(cost * prevelance)*(1-false_pos_rate)\n",
    "                ),\n",
    "                threshold\n",
    "            )\n",
    "        ), \n",
    "        key=lambda x: x[0], reverse=True)[0][1]\n",
    "    \n",
    "    best_thresholds.append(best_threshold)\n",
    "    \n",
    "    threshold_prediction = np.where(pred_fold < best_threshold, 0, 1)\n",
    "    tn, fp, fn, tp = confusion_matrix(y_fold, threshold_prediction, labels=[0,1]).ravel()\n",
    "    curr_exp_loss = (fp*FP + fn*FN)/len(y_fold)\n",
    "    expected_loss.append(curr_exp_loss)"
   ]
  },
  {
   "cell_type": "code",
   "execution_count": 301,
   "id": "d391b3e3-b50b-45e6-9d7e-7c022a351312",
   "metadata": {
    "tags": []
   },
   "outputs": [
    {
     "data": {
      "text/html": [
       "<div>\n",
       "<style scoped>\n",
       "    .dataframe tbody tr th:only-of-type {\n",
       "        vertical-align: middle;\n",
       "    }\n",
       "\n",
       "    .dataframe tbody tr th {\n",
       "        vertical-align: top;\n",
       "    }\n",
       "\n",
       "    .dataframe thead th {\n",
       "        text-align: right;\n",
       "    }\n",
       "</style>\n",
       "<table border=\"1\" class=\"dataframe\">\n",
       "  <thead>\n",
       "    <tr style=\"text-align: right;\">\n",
       "      <th></th>\n",
       "      <th>false_pos</th>\n",
       "      <th>true_pos</th>\n",
       "      <th>false_neg</th>\n",
       "      <th>true_neg</th>\n",
       "      <th>pos</th>\n",
       "      <th>neg</th>\n",
       "      <th>n</th>\n",
       "      <th>thresholds</th>\n",
       "    </tr>\n",
       "  </thead>\n",
       "  <tbody>\n",
       "    <tr>\n",
       "      <th>0</th>\n",
       "      <td>0.0</td>\n",
       "      <td>0.0</td>\n",
       "      <td>368.0</td>\n",
       "      <td>2334.0</td>\n",
       "      <td>368</td>\n",
       "      <td>2334</td>\n",
       "      <td>2702</td>\n",
       "      <td>inf</td>\n",
       "    </tr>\n",
       "    <tr>\n",
       "      <th>1</th>\n",
       "      <td>0.0</td>\n",
       "      <td>1.0</td>\n",
       "      <td>367.0</td>\n",
       "      <td>2334.0</td>\n",
       "      <td>368</td>\n",
       "      <td>2334</td>\n",
       "      <td>2702</td>\n",
       "      <td>0.893739</td>\n",
       "    </tr>\n",
       "    <tr>\n",
       "      <th>2</th>\n",
       "      <td>1.0</td>\n",
       "      <td>1.0</td>\n",
       "      <td>367.0</td>\n",
       "      <td>2333.0</td>\n",
       "      <td>368</td>\n",
       "      <td>2334</td>\n",
       "      <td>2702</td>\n",
       "      <td>0.848704</td>\n",
       "    </tr>\n",
       "    <tr>\n",
       "      <th>3</th>\n",
       "      <td>1.0</td>\n",
       "      <td>6.0</td>\n",
       "      <td>362.0</td>\n",
       "      <td>2333.0</td>\n",
       "      <td>368</td>\n",
       "      <td>2334</td>\n",
       "      <td>2702</td>\n",
       "      <td>0.808826</td>\n",
       "    </tr>\n",
       "    <tr>\n",
       "      <th>4</th>\n",
       "      <td>2.0</td>\n",
       "      <td>6.0</td>\n",
       "      <td>362.0</td>\n",
       "      <td>2332.0</td>\n",
       "      <td>368</td>\n",
       "      <td>2334</td>\n",
       "      <td>2702</td>\n",
       "      <td>0.801217</td>\n",
       "    </tr>\n",
       "    <tr>\n",
       "      <th>...</th>\n",
       "      <td>...</td>\n",
       "      <td>...</td>\n",
       "      <td>...</td>\n",
       "      <td>...</td>\n",
       "      <td>...</td>\n",
       "      <td>...</td>\n",
       "      <td>...</td>\n",
       "      <td>...</td>\n",
       "    </tr>\n",
       "    <tr>\n",
       "      <th>494</th>\n",
       "      <td>1947.0</td>\n",
       "      <td>366.0</td>\n",
       "      <td>2.0</td>\n",
       "      <td>387.0</td>\n",
       "      <td>368</td>\n",
       "      <td>2334</td>\n",
       "      <td>2702</td>\n",
       "      <td>0.018489</td>\n",
       "    </tr>\n",
       "    <tr>\n",
       "      <th>495</th>\n",
       "      <td>1947.0</td>\n",
       "      <td>367.0</td>\n",
       "      <td>1.0</td>\n",
       "      <td>387.0</td>\n",
       "      <td>368</td>\n",
       "      <td>2334</td>\n",
       "      <td>2702</td>\n",
       "      <td>0.018426</td>\n",
       "    </tr>\n",
       "    <tr>\n",
       "      <th>496</th>\n",
       "      <td>2049.0</td>\n",
       "      <td>367.0</td>\n",
       "      <td>1.0</td>\n",
       "      <td>285.0</td>\n",
       "      <td>368</td>\n",
       "      <td>2334</td>\n",
       "      <td>2702</td>\n",
       "      <td>0.013785</td>\n",
       "    </tr>\n",
       "    <tr>\n",
       "      <th>497</th>\n",
       "      <td>2049.0</td>\n",
       "      <td>368.0</td>\n",
       "      <td>0.0</td>\n",
       "      <td>285.0</td>\n",
       "      <td>368</td>\n",
       "      <td>2334</td>\n",
       "      <td>2702</td>\n",
       "      <td>0.013707</td>\n",
       "    </tr>\n",
       "    <tr>\n",
       "      <th>498</th>\n",
       "      <td>2334.0</td>\n",
       "      <td>368.0</td>\n",
       "      <td>0.0</td>\n",
       "      <td>0.0</td>\n",
       "      <td>368</td>\n",
       "      <td>2334</td>\n",
       "      <td>2702</td>\n",
       "      <td>0.000420</td>\n",
       "    </tr>\n",
       "  </tbody>\n",
       "</table>\n",
       "<p>499 rows × 8 columns</p>\n",
       "</div>"
      ],
      "text/plain": [
       "     false_pos  true_pos  false_neg  true_neg  pos   neg     n  thresholds\n",
       "0          0.0       0.0      368.0    2334.0  368  2334  2702         inf\n",
       "1          0.0       1.0      367.0    2334.0  368  2334  2702    0.893739\n",
       "2          1.0       1.0      367.0    2333.0  368  2334  2702    0.848704\n",
       "3          1.0       6.0      362.0    2333.0  368  2334  2702    0.808826\n",
       "4          2.0       6.0      362.0    2332.0  368  2334  2702    0.801217\n",
       "..         ...       ...        ...       ...  ...   ...   ...         ...\n",
       "494     1947.0     366.0        2.0     387.0  368  2334  2702    0.018489\n",
       "495     1947.0     367.0        1.0     387.0  368  2334  2702    0.018426\n",
       "496     2049.0     367.0        1.0     285.0  368  2334  2702    0.013785\n",
       "497     2049.0     368.0        0.0     285.0  368  2334  2702    0.013707\n",
       "498     2334.0     368.0        0.0       0.0  368  2334  2702    0.000420\n",
       "\n",
       "[499 rows x 8 columns]"
      ]
     },
     "execution_count": 301,
     "metadata": {},
     "output_type": "execute_result"
    }
   ],
   "source": [
    "fold5_threshold_rf = best_threshold\n",
    "fold5_expected_loss_rf = curr_exp_loss\n",
    "\n",
    "all_coords_rf = pd.DataFrame({\n",
    "    'false_pos': false_pos_rate*sum(y_fold == 0),\n",
    "    'true_pos': true_pos_rate*sum(y_fold == 1),\n",
    "    'false_neg': sum(y_fold == 1) - true_pos_rate*sum(y_fold == 1),\n",
    "    'true_neg': sum(y_fold == 0) - false_pos_rate*sum(y_fold == 0),\n",
    "    'pos': sum(y_fold == 1),\n",
    "    'neg': sum(y_fold == 0),\n",
    "    'n': len(y_fold),\n",
    "    'thresholds': threshold\n",
    "})\n",
    "\n",
    "all_coords_rf"
   ]
  },
  {
   "cell_type": "code",
   "execution_count": 302,
   "id": "2f5c7b04-3240-4785-b6fc-5a4926d9e071",
   "metadata": {
    "tags": []
   },
   "outputs": [],
   "source": [
    "expected_loss_cv['rf_p'] = np.mean(expected_loss)\n",
    "best_thresholds_cv['rf_p'] = np.mean(best_thresholds)"
   ]
  },
  {
   "cell_type": "code",
   "execution_count": 303,
   "id": "3938a846-b622-4f8a-a676-403ec6bcdbcb",
   "metadata": {
    "tags": []
   },
   "outputs": [],
   "source": [
    "prob_forest_best_results = prob_forest_cv_results[\n",
    "    (prob_forest_cv_results.max_features == best_max_features) & \n",
    "    (prob_forest_cv_results.min_samples_split == best_min_sample_split)]\n",
    "prob_forest_best_results_index = prob_forest_best_results.index.values[0]"
   ]
  },
  {
   "cell_type": "code",
   "execution_count": 304,
   "id": "3947a942-64ba-4976-a7c1-b81969e0ea55",
   "metadata": {
    "tags": []
   },
   "outputs": [
    {
     "data": {
      "text/html": [
       "<div>\n",
       "<style scoped>\n",
       "    .dataframe tbody tr th:only-of-type {\n",
       "        vertical-align: middle;\n",
       "    }\n",
       "\n",
       "    .dataframe tbody tr th {\n",
       "        vertical-align: top;\n",
       "    }\n",
       "\n",
       "    .dataframe thead th {\n",
       "        text-align: right;\n",
       "    }\n",
       "</style>\n",
       "<table border=\"1\" class=\"dataframe\">\n",
       "  <thead>\n",
       "    <tr style=\"text-align: right;\">\n",
       "      <th></th>\n",
       "      <th>CV RMSE</th>\n",
       "      <th>CV AUC</th>\n",
       "      <th>Avg of optimal thresholds</th>\n",
       "      <th>Threshold for Fold5</th>\n",
       "      <th>Avg expected loss</th>\n",
       "      <th>Expected loss for Fold5</th>\n",
       "    </tr>\n",
       "  </thead>\n",
       "  <tbody>\n",
       "    <tr>\n",
       "      <th>0</th>\n",
       "      <td>0.302</td>\n",
       "      <td>0.835</td>\n",
       "      <td>0.373</td>\n",
       "      <td>0.41</td>\n",
       "      <td>1.391</td>\n",
       "      <td>1.423</td>\n",
       "    </tr>\n",
       "  </tbody>\n",
       "</table>\n",
       "</div>"
      ],
      "text/plain": [
       "   CV RMSE  CV AUC  Avg of optimal thresholds  Threshold for Fold5  \\\n",
       "0    0.302   0.835                      0.373                 0.41   \n",
       "\n",
       "   Avg expected loss  Expected loss for Fold5  \n",
       "0              1.391                    1.423  "
      ]
     },
     "execution_count": 304,
     "metadata": {},
     "output_type": "execute_result"
    }
   ],
   "source": [
    "rf_summary = pd.DataFrame(\n",
    "    {'CV RMSE': [round(prob_forest_best_results.cv_rmse.values[0], 3)],\n",
    "     'CV AUC': [round(prob_forest_best_results.cv_auc.values[0], 3)],\n",
    "     'Avg of optimal thresholds': [round(best_thresholds_cv['rf_p'], 3)],\n",
    "     'Threshold for Fold5': [round(best_threshold, 3)],\n",
    "     'Avg expected loss': [round(expected_loss_cv['rf_p'], 3)],\n",
    "     'Expected loss for Fold5': [round(curr_exp_loss, 3)]})\n",
    "\n",
    "rf_summary"
   ]
  },
  {
   "cell_type": "markdown",
   "id": "53ccef23-017f-4f10-9b5f-6d7d37a54e56",
   "metadata": {},
   "source": [
    "**Take model to holdout and estimate RMSE, AUC and expected loss**"
   ]
  },
  {
   "cell_type": "code",
   "execution_count": 305,
   "id": "0d9fa59e-bf2d-4194-808a-1d2ae8e923e5",
   "metadata": {
    "tags": []
   },
   "outputs": [
    {
     "data": {
      "text/plain": [
       "0.218"
      ]
     },
     "execution_count": 305,
     "metadata": {},
     "output_type": "execute_result"
    }
   ],
   "source": [
    "prob_forest_fit_best = prob_forest_fit.best_estimator_\n",
    "rf_predicted_probabilities_holdout = prob_forest_fit_best.predict_proba(rfvars_holdout)[:,1]\n",
    "rmse_rf = np.sqrt(mean_squared_error(y_holdout, rf_predicted_probabilities_holdout))\n",
    "round(rmse_rf, 3)"
   ]
  },
  {
   "cell_type": "code",
   "execution_count": 306,
   "id": "82783492-4110-4d8c-a00f-436966e9c302",
   "metadata": {
    "tags": []
   },
   "outputs": [
    {
     "data": {
      "text/plain": [
       "0.846"
      ]
     },
     "execution_count": 306,
     "metadata": {},
     "output_type": "execute_result"
    }
   ],
   "source": [
    "auc_rf = roc_auc_score(y_holdout, rf_predicted_probabilities_holdout)\n",
    "round(auc_rf, 3)"
   ]
  },
  {
   "cell_type": "code",
   "execution_count": 307,
   "id": "45d5b22c-30a8-44ce-8abf-08a5a2bfd59a",
   "metadata": {
    "tags": []
   },
   "outputs": [
    {
     "data": {
      "text/plain": [
       "0.636"
      ]
     },
     "execution_count": 307,
     "metadata": {},
     "output_type": "execute_result"
    }
   ],
   "source": [
    "holdout_treshold = np.where(rf_predicted_probabilities_holdout < best_thresholds_cv['rf_p'], 0, 1)\n",
    "tn, fp, fn, tp = confusion_matrix(y_holdout, holdout_treshold, labels=[0,1]).ravel()\n",
    "expected_loss_holdout_rf5 = (fp*FP + fn*FN)/len(y_holdout)\n",
    "round(expected_loss_holdout_rf5, 3)"
   ]
  },
  {
   "cell_type": "code",
   "execution_count": 308,
   "id": "673b0c6d-ae73-4559-90a3-e04c7706c4d3",
   "metadata": {
    "tags": []
   },
   "outputs": [
    {
     "data": {
      "text/html": [
       "<div>\n",
       "<style scoped>\n",
       "    .dataframe tbody tr th:only-of-type {\n",
       "        vertical-align: middle;\n",
       "    }\n",
       "\n",
       "    .dataframe tbody tr th {\n",
       "        vertical-align: top;\n",
       "    }\n",
       "\n",
       "    .dataframe thead th {\n",
       "        text-align: right;\n",
       "    }\n",
       "</style>\n",
       "<table border=\"1\" class=\"dataframe\">\n",
       "  <thead>\n",
       "    <tr style=\"text-align: right;\">\n",
       "      <th></th>\n",
       "      <th>Predicted no default</th>\n",
       "      <th>Predicted default</th>\n",
       "    </tr>\n",
       "  </thead>\n",
       "  <tbody>\n",
       "    <tr>\n",
       "      <th>Actul no defaul</th>\n",
       "      <td>956</td>\n",
       "      <td>25</td>\n",
       "    </tr>\n",
       "    <tr>\n",
       "      <th>Actual default</th>\n",
       "      <td>39</td>\n",
       "      <td>17</td>\n",
       "    </tr>\n",
       "  </tbody>\n",
       "</table>\n",
       "</div>"
      ],
      "text/plain": [
       "                 Predicted no default  Predicted default\n",
       "Actul no defaul                   956                 25\n",
       "Actual default                     39                 17"
      ]
     },
     "execution_count": 308,
     "metadata": {},
     "output_type": "execute_result"
    }
   ],
   "source": [
    "cm_object8 = confusion_matrix(y_holdout, holdout_treshold, labels=[0,1])\n",
    "cm8 = pd.DataFrame(cm_object8, \n",
    "    index=['Actul no defaul', 'Actual default'], \n",
    "    columns=['Predicted no default', 'Predicted default'])\n",
    "cm8"
   ]
  },
  {
   "cell_type": "markdown",
   "id": "13043d9c-8a5e-424d-8c56-6f6947ff52a5",
   "metadata": {},
   "source": [
    "This model was only marginally better than the previous one, and worse than the RF model on data2."
   ]
  },
  {
   "cell_type": "markdown",
   "id": "5f1fea39-1e6f-4a4a-a0d0-f97e1e17e896",
   "metadata": {},
   "source": [
    "# Summary"
   ]
  },
  {
   "cell_type": "markdown",
   "id": "3a77095e-af0c-47f2-bbf2-4d365ef25374",
   "metadata": {},
   "source": [
    "The best performing model is the Random forest model estimated on dataset3 - same industry as the holdout set, but one year before and with even more restricted sales figures."
   ]
  },
  {
   "cell_type": "code",
   "execution_count": 309,
   "id": "01008118-e001-42ca-b45f-515995136859",
   "metadata": {
    "tags": []
   },
   "outputs": [
    {
     "data": {
      "text/plain": [
       "0.6190935390549662"
      ]
     },
     "execution_count": 309,
     "metadata": {},
     "output_type": "execute_result"
    }
   ],
   "source": [
    "expected_loss_holdout_rf3"
   ]
  },
  {
   "cell_type": "code",
   "execution_count": 310,
   "id": "8ce342d5-7172-4710-8acb-bf600399c03a",
   "metadata": {
    "tags": []
   },
   "outputs": [
    {
     "data": {
      "text/html": [
       "<div>\n",
       "<style scoped>\n",
       "    .dataframe tbody tr th:only-of-type {\n",
       "        vertical-align: middle;\n",
       "    }\n",
       "\n",
       "    .dataframe tbody tr th {\n",
       "        vertical-align: top;\n",
       "    }\n",
       "\n",
       "    .dataframe thead th {\n",
       "        text-align: right;\n",
       "    }\n",
       "</style>\n",
       "<table border=\"1\" class=\"dataframe\">\n",
       "  <thead>\n",
       "    <tr style=\"text-align: right;\">\n",
       "      <th></th>\n",
       "      <th>Predicted no default</th>\n",
       "      <th>Predicted default</th>\n",
       "    </tr>\n",
       "  </thead>\n",
       "  <tbody>\n",
       "    <tr>\n",
       "      <th>Actul no defaul</th>\n",
       "      <td>922</td>\n",
       "      <td>59</td>\n",
       "    </tr>\n",
       "    <tr>\n",
       "      <th>Actual default</th>\n",
       "      <td>31</td>\n",
       "      <td>25</td>\n",
       "    </tr>\n",
       "  </tbody>\n",
       "</table>\n",
       "</div>"
      ],
      "text/plain": [
       "                 Predicted no default  Predicted default\n",
       "Actul no defaul                   922                 59\n",
       "Actual default                     31                 25"
      ]
     },
     "execution_count": 310,
     "metadata": {},
     "output_type": "execute_result"
    }
   ],
   "source": [
    "cm6"
   ]
  },
  {
   "cell_type": "markdown",
   "id": "ed2c8630-f7a4-43d8-bffd-8dcd18f84cf8",
   "metadata": {},
   "source": [
    "The best model successfully identified around half of the defaulting firms."
   ]
  },
  {
   "cell_type": "code",
   "execution_count": 311,
   "id": "e3dd7d95-597c-4495-bf0b-7ec52e32bf00",
   "metadata": {
    "tags": []
   },
   "outputs": [
    {
     "data": {
      "text/html": [
       "<div>\n",
       "<style scoped>\n",
       "    .dataframe tbody tr th:only-of-type {\n",
       "        vertical-align: middle;\n",
       "    }\n",
       "\n",
       "    .dataframe tbody tr th {\n",
       "        vertical-align: top;\n",
       "    }\n",
       "\n",
       "    .dataframe thead th {\n",
       "        text-align: right;\n",
       "    }\n",
       "</style>\n",
       "<table border=\"1\" class=\"dataframe\">\n",
       "  <thead>\n",
       "    <tr style=\"text-align: right;\">\n",
       "      <th></th>\n",
       "      <th>Metrics on holdout set</th>\n",
       "      <th>Values</th>\n",
       "    </tr>\n",
       "  </thead>\n",
       "  <tbody>\n",
       "    <tr>\n",
       "      <th>0</th>\n",
       "      <td>Dataset</td>\n",
       "      <td>Dataset3</td>\n",
       "    </tr>\n",
       "    <tr>\n",
       "      <th>1</th>\n",
       "      <td>Avg. expected loss on holdout set</td>\n",
       "      <td>0.619</td>\n",
       "    </tr>\n",
       "    <tr>\n",
       "      <th>2</th>\n",
       "      <td>Optimal threshold</td>\n",
       "      <td>0.16</td>\n",
       "    </tr>\n",
       "    <tr>\n",
       "      <th>3</th>\n",
       "      <td>AUC</td>\n",
       "      <td>0.82</td>\n",
       "    </tr>\n",
       "    <tr>\n",
       "      <th>4</th>\n",
       "      <td>Brier-score/RMSE</td>\n",
       "      <td>0.213</td>\n",
       "    </tr>\n",
       "    <tr>\n",
       "      <th>5</th>\n",
       "      <td>Accuracy</td>\n",
       "      <td>0.913</td>\n",
       "    </tr>\n",
       "    <tr>\n",
       "      <th>6</th>\n",
       "      <td>Sensitivity</td>\n",
       "      <td>0.967</td>\n",
       "    </tr>\n",
       "    <tr>\n",
       "      <th>7</th>\n",
       "      <td>Specificity</td>\n",
       "      <td>0.298</td>\n",
       "    </tr>\n",
       "  </tbody>\n",
       "</table>\n",
       "</div>"
      ],
      "text/plain": [
       "              Metrics on holdout set    Values\n",
       "0                            Dataset  Dataset3\n",
       "1  Avg. expected loss on holdout set     0.619\n",
       "2                  Optimal threshold      0.16\n",
       "3                                AUC      0.82\n",
       "4                   Brier-score/RMSE     0.213\n",
       "5                           Accuracy     0.913\n",
       "6                        Sensitivity     0.967\n",
       "7                        Specificity     0.298"
      ]
     },
     "execution_count": 311,
     "metadata": {},
     "output_type": "execute_result"
    }
   ],
   "source": [
    "best_model_metrics = pd.DataFrame({\n",
    "    \"Metrics on holdout set\" : [\"Dataset\", \"Avg. expected loss on holdout set\" , \"Optimal threshold\", \n",
    "                 \"AUC\", \"Brier-score/RMSE\", \"Accuracy\", \"Sensitivity\", \"Specificity\"], \n",
    "    \"Values\" : [\"Dataset3\", round(expected_loss_holdout_rf3, 3), 0.16, 0.82, 0.213, round((cm6.iloc[0,0]+cm6.iloc[1,1])/len(holdout_data), 3),\n",
    "               round(cm6.iloc[0,0]/(cm6.iloc[0,0]+cm6.iloc[1,0]), 3), round(cm6.iloc[1,1]/(cm6.iloc[1,1]+cm6.iloc[0,1]), 3)]})\n",
    "\n",
    "best_model_metrics"
   ]
  },
  {
   "cell_type": "code",
   "execution_count": 312,
   "id": "bc4d2a06-395b-4ca3-a448-6e38900dc2a8",
   "metadata": {
    "tags": []
   },
   "outputs": [
    {
     "data": {
      "text/html": [
       "<div>\n",
       "<style scoped>\n",
       "    .dataframe tbody tr th:only-of-type {\n",
       "        vertical-align: middle;\n",
       "    }\n",
       "\n",
       "    .dataframe tbody tr th {\n",
       "        vertical-align: top;\n",
       "    }\n",
       "\n",
       "    .dataframe thead th {\n",
       "        text-align: right;\n",
       "    }\n",
       "</style>\n",
       "<table border=\"1\" class=\"dataframe\">\n",
       "  <thead>\n",
       "    <tr style=\"text-align: right;\">\n",
       "      <th></th>\n",
       "      <th>sales</th>\n",
       "    </tr>\n",
       "  </thead>\n",
       "  <tbody>\n",
       "    <tr>\n",
       "      <th>count</th>\n",
       "      <td>849.0</td>\n",
       "    </tr>\n",
       "    <tr>\n",
       "      <th>mean</th>\n",
       "      <td>138906.0</td>\n",
       "    </tr>\n",
       "    <tr>\n",
       "      <th>std</th>\n",
       "      <td>196095.0</td>\n",
       "    </tr>\n",
       "    <tr>\n",
       "      <th>min</th>\n",
       "      <td>1000.0</td>\n",
       "    </tr>\n",
       "    <tr>\n",
       "      <th>25%</th>\n",
       "      <td>18989.0</td>\n",
       "    </tr>\n",
       "    <tr>\n",
       "      <th>50%</th>\n",
       "      <td>51481.0</td>\n",
       "    </tr>\n",
       "    <tr>\n",
       "      <th>75%</th>\n",
       "      <td>167270.0</td>\n",
       "    </tr>\n",
       "    <tr>\n",
       "      <th>max</th>\n",
       "      <td>986804.0</td>\n",
       "    </tr>\n",
       "  </tbody>\n",
       "</table>\n",
       "</div>"
      ],
      "text/plain": [
       "          sales\n",
       "count     849.0\n",
       "mean   138906.0\n",
       "std    196095.0\n",
       "min      1000.0\n",
       "25%     18989.0\n",
       "50%     51481.0\n",
       "75%    167270.0\n",
       "max    986804.0"
      ]
     },
     "execution_count": 312,
     "metadata": {},
     "output_type": "execute_result"
    }
   ],
   "source": [
    "training_data_sales = pd.DataFrame(round(data3.sales.describe(), 0))\n",
    "training_data_sales"
   ]
  },
  {
   "cell_type": "code",
   "execution_count": 313,
   "id": "afccf335-a320-4209-bf37-12c00bdad5f4",
   "metadata": {
    "tags": []
   },
   "outputs": [
    {
     "data": {
      "text/html": [
       "<div>\n",
       "<style scoped>\n",
       "    .dataframe tbody tr th:only-of-type {\n",
       "        vertical-align: middle;\n",
       "    }\n",
       "\n",
       "    .dataframe tbody tr th {\n",
       "        vertical-align: top;\n",
       "    }\n",
       "\n",
       "    .dataframe thead th {\n",
       "        text-align: right;\n",
       "    }\n",
       "</style>\n",
       "<table border=\"1\" class=\"dataframe\">\n",
       "  <thead>\n",
       "    <tr style=\"text-align: right;\">\n",
       "      <th></th>\n",
       "      <th>Dataset</th>\n",
       "      <th>Best logistics regression</th>\n",
       "      <th>Random forest</th>\n",
       "    </tr>\n",
       "  </thead>\n",
       "  <tbody>\n",
       "    <tr>\n",
       "      <th>0</th>\n",
       "      <td>Dataset1</td>\n",
       "      <td>0.749277</td>\n",
       "      <td>0.645130</td>\n",
       "    </tr>\n",
       "    <tr>\n",
       "      <th>1</th>\n",
       "      <td>Dataset2</td>\n",
       "      <td>0.691418</td>\n",
       "      <td>0.639344</td>\n",
       "    </tr>\n",
       "    <tr>\n",
       "      <th>2</th>\n",
       "      <td>Dataset3</td>\n",
       "      <td>0.769527</td>\n",
       "      <td>0.619094</td>\n",
       "    </tr>\n",
       "    <tr>\n",
       "      <th>3</th>\n",
       "      <td>Dataset4</td>\n",
       "      <td>N/A</td>\n",
       "      <td>0.702989</td>\n",
       "    </tr>\n",
       "    <tr>\n",
       "      <th>4</th>\n",
       "      <td>Dataset5</td>\n",
       "      <td>N/A</td>\n",
       "      <td>0.636451</td>\n",
       "    </tr>\n",
       "  </tbody>\n",
       "</table>\n",
       "</div>"
      ],
      "text/plain": [
       "    Dataset Best logistics regression  Random forest\n",
       "0  Dataset1                  0.749277       0.645130\n",
       "1  Dataset2                  0.691418       0.639344\n",
       "2  Dataset3                  0.769527       0.619094\n",
       "3  Dataset4                       N/A       0.702989\n",
       "4  Dataset5                       N/A       0.636451"
      ]
     },
     "execution_count": 313,
     "metadata": {},
     "output_type": "execute_result"
    }
   ],
   "source": [
    "expected_losses = pd.DataFrame({\n",
    "    \"Dataset\" : [\"Dataset1\", \"Dataset2\", \"Dataset3\", \"Dataset4\", \"Dataset5\"],\n",
    "    \"Best logistics regression\": [expected_loss_holdout_log1, expected_loss_holdout_log2, expected_loss_holdout_log3, \"N/A\", \"N/A\"],\n",
    "    \"Random forest\" : [expected_loss_holdout_rf1, expected_loss_holdout_rf2, expected_loss_holdout_rf3, expected_loss_holdout_rf4, expected_loss_holdout_rf5]\n",
    "})\n",
    "expected_losses"
   ]
  },
  {
   "cell_type": "code",
   "execution_count": null,
   "id": "526aae1e-8482-4aad-a648-bc21e5349ae5",
   "metadata": {},
   "outputs": [],
   "source": []
  }
 ],
 "metadata": {
  "kernelspec": {
   "display_name": "Python 3 (ipykernel)",
   "language": "python",
   "name": "python3"
  },
  "language_info": {
   "codemirror_mode": {
    "name": "ipython",
    "version": 3
   },
   "file_extension": ".py",
   "mimetype": "text/x-python",
   "name": "python",
   "nbconvert_exporter": "python",
   "pygments_lexer": "ipython3",
   "version": "3.11.4"
  },
  "toc-autonumbering": true,
  "toc-showcode": false,
  "toc-showmarkdowntxt": false
 },
 "nbformat": 4,
 "nbformat_minor": 5
}
