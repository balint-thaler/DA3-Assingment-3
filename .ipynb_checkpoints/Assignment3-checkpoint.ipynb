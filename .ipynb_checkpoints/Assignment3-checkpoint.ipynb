{
 "cells": [
  {
   "cell_type": "code",
   "execution_count": 1,
   "id": "a039ad0c-c4d7-49a3-a4ed-2899ead6a08e",
   "metadata": {
    "tags": []
   },
   "outputs": [],
   "source": [
    "import pandas as pd\n",
    "import numpy as np\n",
    "import patsy\n",
    "import statsmodels.api as sm\n",
    "from sklearn.linear_model import LinearRegression, LogisticRegression, LogisticRegressionCV\n",
    "from sklearn.model_selection import train_test_split, GridSearchCV, KFold\n",
    "import sklearn.metrics as metrics\n",
    "from sklearn.metrics import brier_score_loss, roc_curve, auc, confusion_matrix, roc_auc_score, mean_squared_error\n",
    "from sklearn.ensemble import RandomForestClassifier\n",
    "from plotnine import *\n",
    "import matplotlib.pyplot as plt\n",
    "from sklearn.model_selection import train_test_split\n",
    "from sklearn.preprocessing import StandardScaler\n",
    "\n",
    "import warnings\n",
    "warnings.filterwarnings('ignore')"
   ]
  },
  {
   "cell_type": "code",
   "execution_count": 2,
   "id": "020ad0d2-3193-4f9e-835b-9e48fdd2d78a",
   "metadata": {
    "tags": []
   },
   "outputs": [],
   "source": [
    "# helper functions\n",
    "\n",
    "def regression_results(y_true, y_pred):\n",
    "\n",
    "    # Regression metrics\n",
    "    explained_variance=metrics.explained_variance_score(y_true, y_pred)\n",
    "    mean_absolute_error=metrics.mean_absolute_error(y_true, y_pred) \n",
    "    mse=metrics.mean_squared_error(y_true, y_pred) \n",
    "    median_absolute_error=metrics.median_absolute_error(y_true, y_pred)\n",
    "    r2=metrics.r2_score(y_true, y_pred)\n",
    "\n",
    "    print('explained_variance: ', round(explained_variance,4))    \n",
    "    print('r2: ', round(r2,4))\n",
    "    print('MAE: ', round(mean_absolute_error,4))\n",
    "    print('MSE: ', round(mse,4))\n",
    "    print('RMSE: ', round(np.sqrt(mse),4))\n",
    "    \n",
    "def create_coef_matrix(X, model):\n",
    "    coef_matrix = pd.concat(\n",
    "        [pd.DataFrame(X.columns),pd.DataFrame(model.coef_.flatten())], axis = 1\n",
    "    )\n",
    "    coef_matrix.columns = ['variable', 'coefficient']\n",
    "    coef_matrix.iloc[-1] = ['Intercept', model.intercept_.flatten()[0]]\n",
    "    return coef_matrix\n",
    "\n",
    "def cv_summary(lambdas, C_values, model):\n",
    "    d = {'lambdas': lambdas, 'C_values': C_values, 'mean_cv_score': model.scores_[1].mean(axis = 0)}\n",
    "    return(pd.DataFrame(data=d))\n",
    "\n",
    "def create_roc_plot(y_true, y_pred):\n",
    "    fpr, tpr, thresholds = roc_curve(y_true, y_pred)\n",
    "    all_coords = pd.DataFrame({\n",
    "        'fpr': fpr,\n",
    "        'tpr': tpr,\n",
    "        'thresholds': thresholds\n",
    "    })\n",
    "    \n",
    "    plot = ggplot(all_coords, aes(x = 'fpr', y = 'tpr')) \\\n",
    "        + geom_line(size = 0.7) \\\n",
    "        + geom_area(position = 'identity', fill = 'mediumaquamarine', alpha = 0.3) \\\n",
    "        + xlab(\"False Positive Rate (1-Specifity)\") \\\n",
    "        + ylab(\"True Positive Rate (Sensitivity)\") \\\n",
    "        + geom_abline(intercept = 0, slope = 1,  linetype = \"dotted\", color = \"black\") \\\n",
    "        + scale_y_continuous(limits = (0, 1), expand = (0, 0.01)) \\\n",
    "        + scale_x_continuous(limits = (0, 1), expand = (0.01, 0)) \\\n",
    "        + theme_bw()\n",
    "    return(plot)\n",
    "\n",
    "def sigmoid_array(x):\n",
    "    return(1 / (1 + np.exp(-x)))\n",
    "\n",
    "def generate_fold_prediction(model, X, fold, param_index):\n",
    "    fold_coef = model.coefs_paths_[1][fold,param_index,:]\n",
    "    return(sigmoid_array(np.dot(X, np.transpose(fold_coef)[:-1]) +  np.transpose(fold_coef)[-1]))\n",
    "\n",
    "def create_loss_plot(all_coords, optimal_threshold, curr_exp_loss):\n",
    "    all_coords_copy = all_coords.copy()\n",
    "    all_coords_copy['loss'] = (all_coords_copy.false_pos*FP + all_coords_copy.false_neg*FN)/all_coords_copy.n\n",
    "    \n",
    "    t = optimal_threshold\n",
    "    l = curr_exp_loss\n",
    "    \n",
    "    plot = ggplot(all_coords_copy, aes(x = 'thresholds', y = 'loss')) + \\\n",
    "        geom_line(size=0.7) + \\\n",
    "        coord_cartesian(xlim=(0,1))+ \\\n",
    "        geom_vline(xintercept = t) + \\\n",
    "        annotate(geom = \"text\", x = t - 0.01, y= max(all_coords_copy.loss) - 0.4,\n",
    "                 label=\"best threshold: \" + str(round(t,2)), angle=90, size = 7) +\\\n",
    "        annotate(geom = \"text\", x = t + 0.06, y= l,\\\n",
    "                 label= str(round(l, 2)), size = 7) +\\\n",
    "        theme_bw()\n",
    "    return(plot)\n",
    "\n",
    "\n",
    "def create_roc_plot_with_optimal(all_coords, optimal_threshold):\n",
    "    all_coords_copy = all_coords.copy()\n",
    "    all_coords_copy['sp'] = all_coords_copy.true_neg/all_coords_copy.neg\n",
    "    all_coords_copy['se'] = all_coords_copy.true_pos/all_coords_copy.pos\n",
    "    \n",
    "    best_coords = all_coords_copy[all_coords_copy.thresholds == optimal_threshold]\n",
    "    sp = best_coords.sp.values[0]\n",
    "    se = best_coords.se.values[0]\n",
    "\n",
    "    plot = ggplot(all_coords_copy, aes(x = 'sp', y = 'se')) +\\\n",
    "        geom_line(color=color[0], size=0.7) +\\\n",
    "        scale_y_continuous(breaks = seq(0, 1.1, by = 0.1)) +\\\n",
    "        scale_x_reverse(breaks = seq(0, 1.1, by = 0.1)) +\\\n",
    "        geom_point(data = pd.DataFrame({'sp': [sp], 'se': [se]})) +\\\n",
    "        annotate(geom = \"text\", x = sp, y = se + 0.03,\n",
    "                 label = str(round(sp, 2)) + ', ' + str(round(se, 2)), size = 7) +\\\n",
    "        theme_bw()\n",
    "    return(plot)"
   ]
  },
  {
   "cell_type": "markdown",
   "id": "0f17cbec-0718-4609-b6bb-bdc59a0a2b48",
   "metadata": {},
   "source": [
    "# Data loading, feature engineering"
   ]
  },
  {
   "cell_type": "code",
   "execution_count": 3,
   "id": "7b931a8b-6c84-4447-baab-fc5e19d64684",
   "metadata": {
    "tags": []
   },
   "outputs": [],
   "source": [
    "raw_data = pd.read_csv(\"https://osf.io/download/3qyut/\")"
   ]
  },
  {
   "cell_type": "code",
   "execution_count": 4,
   "id": "80d3f65f-9515-4b57-8b43-70c144986614",
   "metadata": {
    "tags": []
   },
   "outputs": [
    {
     "data": {
      "text/html": [
       "<div>\n",
       "<style scoped>\n",
       "    .dataframe tbody tr th:only-of-type {\n",
       "        vertical-align: middle;\n",
       "    }\n",
       "\n",
       "    .dataframe tbody tr th {\n",
       "        vertical-align: top;\n",
       "    }\n",
       "\n",
       "    .dataframe thead th {\n",
       "        text-align: right;\n",
       "    }\n",
       "</style>\n",
       "<table border=\"1\" class=\"dataframe\">\n",
       "  <thead>\n",
       "    <tr style=\"text-align: right;\">\n",
       "      <th></th>\n",
       "      <th>comp_id</th>\n",
       "      <th>begin</th>\n",
       "      <th>end</th>\n",
       "      <th>COGS</th>\n",
       "      <th>amort</th>\n",
       "      <th>curr_assets</th>\n",
       "      <th>curr_liab</th>\n",
       "      <th>extra_exp</th>\n",
       "      <th>extra_inc</th>\n",
       "      <th>extra_profit_loss</th>\n",
       "      <th>...</th>\n",
       "      <th>gender</th>\n",
       "      <th>origin</th>\n",
       "      <th>nace_main</th>\n",
       "      <th>ind2</th>\n",
       "      <th>ind</th>\n",
       "      <th>urban_m</th>\n",
       "      <th>region_m</th>\n",
       "      <th>founded_date</th>\n",
       "      <th>exit_date</th>\n",
       "      <th>labor_avg</th>\n",
       "    </tr>\n",
       "  </thead>\n",
       "  <tbody>\n",
       "    <tr>\n",
       "      <th>0</th>\n",
       "      <td>1001034.0</td>\n",
       "      <td>2005-01-01</td>\n",
       "      <td>2005-12-31</td>\n",
       "      <td>NaN</td>\n",
       "      <td>692.592590</td>\n",
       "      <td>7266.666504</td>\n",
       "      <td>7574.074219</td>\n",
       "      <td>0.0</td>\n",
       "      <td>0.0</td>\n",
       "      <td>0.0</td>\n",
       "      <td>...</td>\n",
       "      <td>mix</td>\n",
       "      <td>Domestic</td>\n",
       "      <td>5630.0</td>\n",
       "      <td>56.0</td>\n",
       "      <td>3.0</td>\n",
       "      <td>1</td>\n",
       "      <td>Central</td>\n",
       "      <td>1990-11-19</td>\n",
       "      <td>NaN</td>\n",
       "      <td>NaN</td>\n",
       "    </tr>\n",
       "    <tr>\n",
       "      <th>1</th>\n",
       "      <td>1001034.0</td>\n",
       "      <td>2006-01-01</td>\n",
       "      <td>2006-12-31</td>\n",
       "      <td>NaN</td>\n",
       "      <td>603.703674</td>\n",
       "      <td>13122.222656</td>\n",
       "      <td>12211.111328</td>\n",
       "      <td>0.0</td>\n",
       "      <td>0.0</td>\n",
       "      <td>0.0</td>\n",
       "      <td>...</td>\n",
       "      <td>mix</td>\n",
       "      <td>Domestic</td>\n",
       "      <td>5630.0</td>\n",
       "      <td>56.0</td>\n",
       "      <td>3.0</td>\n",
       "      <td>1</td>\n",
       "      <td>Central</td>\n",
       "      <td>1990-11-19</td>\n",
       "      <td>NaN</td>\n",
       "      <td>NaN</td>\n",
       "    </tr>\n",
       "    <tr>\n",
       "      <th>2</th>\n",
       "      <td>1001034.0</td>\n",
       "      <td>2007-01-01</td>\n",
       "      <td>2007-12-31</td>\n",
       "      <td>NaN</td>\n",
       "      <td>425.925934</td>\n",
       "      <td>8196.295898</td>\n",
       "      <td>7800.000000</td>\n",
       "      <td>0.0</td>\n",
       "      <td>0.0</td>\n",
       "      <td>0.0</td>\n",
       "      <td>...</td>\n",
       "      <td>mix</td>\n",
       "      <td>Domestic</td>\n",
       "      <td>5630.0</td>\n",
       "      <td>56.0</td>\n",
       "      <td>3.0</td>\n",
       "      <td>1</td>\n",
       "      <td>Central</td>\n",
       "      <td>1990-11-19</td>\n",
       "      <td>NaN</td>\n",
       "      <td>NaN</td>\n",
       "    </tr>\n",
       "    <tr>\n",
       "      <th>3</th>\n",
       "      <td>1001034.0</td>\n",
       "      <td>2008-01-01</td>\n",
       "      <td>2008-12-31</td>\n",
       "      <td>NaN</td>\n",
       "      <td>300.000000</td>\n",
       "      <td>8485.185547</td>\n",
       "      <td>7781.481445</td>\n",
       "      <td>0.0</td>\n",
       "      <td>0.0</td>\n",
       "      <td>0.0</td>\n",
       "      <td>...</td>\n",
       "      <td>mix</td>\n",
       "      <td>Domestic</td>\n",
       "      <td>5630.0</td>\n",
       "      <td>56.0</td>\n",
       "      <td>3.0</td>\n",
       "      <td>1</td>\n",
       "      <td>Central</td>\n",
       "      <td>1990-11-19</td>\n",
       "      <td>NaN</td>\n",
       "      <td>NaN</td>\n",
       "    </tr>\n",
       "    <tr>\n",
       "      <th>4</th>\n",
       "      <td>1001034.0</td>\n",
       "      <td>2009-01-01</td>\n",
       "      <td>2009-12-31</td>\n",
       "      <td>NaN</td>\n",
       "      <td>207.407410</td>\n",
       "      <td>5137.037109</td>\n",
       "      <td>15300.000000</td>\n",
       "      <td>0.0</td>\n",
       "      <td>0.0</td>\n",
       "      <td>0.0</td>\n",
       "      <td>...</td>\n",
       "      <td>mix</td>\n",
       "      <td>Domestic</td>\n",
       "      <td>5630.0</td>\n",
       "      <td>56.0</td>\n",
       "      <td>3.0</td>\n",
       "      <td>1</td>\n",
       "      <td>Central</td>\n",
       "      <td>1990-11-19</td>\n",
       "      <td>NaN</td>\n",
       "      <td>0.083333</td>\n",
       "    </tr>\n",
       "  </tbody>\n",
       "</table>\n",
       "<p>5 rows × 48 columns</p>\n",
       "</div>"
      ],
      "text/plain": [
       "     comp_id       begin         end  COGS       amort   curr_assets  \\\n",
       "0  1001034.0  2005-01-01  2005-12-31   NaN  692.592590   7266.666504   \n",
       "1  1001034.0  2006-01-01  2006-12-31   NaN  603.703674  13122.222656   \n",
       "2  1001034.0  2007-01-01  2007-12-31   NaN  425.925934   8196.295898   \n",
       "3  1001034.0  2008-01-01  2008-12-31   NaN  300.000000   8485.185547   \n",
       "4  1001034.0  2009-01-01  2009-12-31   NaN  207.407410   5137.037109   \n",
       "\n",
       "      curr_liab  extra_exp  extra_inc  extra_profit_loss  ...  gender  \\\n",
       "0   7574.074219        0.0        0.0                0.0  ...     mix   \n",
       "1  12211.111328        0.0        0.0                0.0  ...     mix   \n",
       "2   7800.000000        0.0        0.0                0.0  ...     mix   \n",
       "3   7781.481445        0.0        0.0                0.0  ...     mix   \n",
       "4  15300.000000        0.0        0.0                0.0  ...     mix   \n",
       "\n",
       "     origin  nace_main  ind2  ind  urban_m  region_m  founded_date  exit_date  \\\n",
       "0  Domestic     5630.0  56.0  3.0        1   Central    1990-11-19        NaN   \n",
       "1  Domestic     5630.0  56.0  3.0        1   Central    1990-11-19        NaN   \n",
       "2  Domestic     5630.0  56.0  3.0        1   Central    1990-11-19        NaN   \n",
       "3  Domestic     5630.0  56.0  3.0        1   Central    1990-11-19        NaN   \n",
       "4  Domestic     5630.0  56.0  3.0        1   Central    1990-11-19        NaN   \n",
       "\n",
       "   labor_avg  \n",
       "0        NaN  \n",
       "1        NaN  \n",
       "2        NaN  \n",
       "3        NaN  \n",
       "4   0.083333  \n",
       "\n",
       "[5 rows x 48 columns]"
      ]
     },
     "execution_count": 4,
     "metadata": {},
     "output_type": "execute_result"
    }
   ],
   "source": [
    "raw_data.head()"
   ]
  },
  {
   "cell_type": "code",
   "execution_count": 5,
   "id": "dd0f0a48-c9f9-4a03-b3d5-1a0fb9ecdbc4",
   "metadata": {
    "tags": []
   },
   "outputs": [
    {
     "name": "stdout",
     "output_type": "stream",
     "text": [
      "<class 'pandas.core.frame.DataFrame'>\n",
      "RangeIndex: 287829 entries, 0 to 287828\n",
      "Data columns (total 48 columns):\n",
      " #   Column                Non-Null Count   Dtype  \n",
      "---  ------                --------------   -----  \n",
      " 0   comp_id               287829 non-null  float64\n",
      " 1   begin                 287829 non-null  object \n",
      " 2   end                   287829 non-null  object \n",
      " 3   COGS                  18257 non-null   float64\n",
      " 4   amort                 279789 non-null  float64\n",
      " 5   curr_assets           287698 non-null  float64\n",
      " 6   curr_liab             287698 non-null  float64\n",
      " 7   extra_exp             269300 non-null  float64\n",
      " 8   extra_inc             269300 non-null  float64\n",
      " 9   extra_profit_loss     270626 non-null  float64\n",
      " 10  finished_prod         17485 non-null   float64\n",
      " 11  fixed_assets          287698 non-null  float64\n",
      " 12  inc_bef_tax           280392 non-null  float64\n",
      " 13  intang_assets         287689 non-null  float64\n",
      " 14  inventories           287698 non-null  float64\n",
      " 15  liq_assets            287698 non-null  float64\n",
      " 16  material_exp          279789 non-null  float64\n",
      " 17  net_dom_sales         18257 non-null   float64\n",
      " 18  net_exp_sales         18257 non-null   float64\n",
      " 19  personnel_exp         279789 non-null  float64\n",
      " 20  profit_loss_year      277945 non-null  float64\n",
      " 21  sales                 280392 non-null  float64\n",
      " 22  share_eq              287698 non-null  float64\n",
      " 23  subscribed_cap        287698 non-null  float64\n",
      " 24  tang_assets           286359 non-null  float64\n",
      " 25  wages                 17983 non-null   float64\n",
      " 26  D                     0 non-null       float64\n",
      " 27  balsheet_flag         287829 non-null  int64  \n",
      " 28  balsheet_length       287829 non-null  int64  \n",
      " 29  balsheet_notfullyear  287829 non-null  int64  \n",
      " 30  year                  287829 non-null  int64  \n",
      " 31  founded_year          231372 non-null  float64\n",
      " 32  exit_year             38859 non-null   float64\n",
      " 33  ceo_count             231402 non-null  float64\n",
      " 34  foreign               231402 non-null  float64\n",
      " 35  female                231402 non-null  float64\n",
      " 36  birth_year            176011 non-null  float64\n",
      " 37  inoffice_days         231402 non-null  float64\n",
      " 38  gender                231402 non-null  object \n",
      " 39  origin                231402 non-null  object \n",
      " 40  nace_main             286791 non-null  float64\n",
      " 41  ind2                  286791 non-null  float64\n",
      " 42  ind                   278060 non-null  float64\n",
      " 43  urban_m               287829 non-null  int64  \n",
      " 44  region_m              286989 non-null  object \n",
      " 45  founded_date          287778 non-null  object \n",
      " 46  exit_date             56180 non-null   object \n",
      " 47  labor_avg             141297 non-null  float64\n",
      "dtypes: float64(36), int64(5), object(7)\n",
      "memory usage: 105.4+ MB\n"
     ]
    }
   ],
   "source": [
    "raw_data.info()"
   ]
  },
  {
   "cell_type": "code",
   "execution_count": 6,
   "id": "52d66658-5717-457c-bfbf-7489dbd45374",
   "metadata": {},
   "outputs": [],
   "source": [
    "# dropping columns with many missing variables (COGS, finished_prod, net_dom_sales, net_exp_sales, wages, D, exit_year, exit_data)\n",
    "\n",
    "raw_data = raw_data.drop(columns = ['COGS', 'finished_prod', 'net_dom_sales', 'net_exp_sales', 'wages', 'D', 'exit_year', 'exit_date'])"
   ]
  },
  {
   "cell_type": "code",
   "execution_count": 7,
   "id": "5a5e2133-1089-44ed-a233-00fed27761ee",
   "metadata": {},
   "outputs": [],
   "source": [
    "# adding age of firms\n",
    "\n",
    "raw_data[\"age\"] = np.where(\n",
    "    raw_data[\"year\"] - raw_data[\"founded_year\"] < 0, 0, raw_data[\"year\"] - raw_data[\"founded_year\"])"
   ]
  },
  {
   "cell_type": "code",
   "execution_count": 8,
   "id": "eafb52ed-bbb0-4d11-bd05-7ef88683109b",
   "metadata": {
    "tags": []
   },
   "outputs": [],
   "source": [
    "# add all missing year and comp_id combinations -\n",
    "# originally missing combinations will have NAs in all other columns\n",
    "raw_data = (\n",
    "    raw_data.set_index([\"year\", \"comp_id\"])\n",
    "    .unstack(fill_value=\"toReplace\")\n",
    "    .stack()\n",
    "    .reset_index()\n",
    ")\n",
    "raw_data = raw_data.replace(\"toReplace\", np.nan)"
   ]
  },
  {
   "cell_type": "code",
   "execution_count": 9,
   "id": "e8bc09c4-2d72-49cb-826e-c33ff13ac494",
   "metadata": {
    "tags": []
   },
   "outputs": [],
   "source": [
    "# generate status_alive; if sales larger than zero and not-NA, then firm is alive\n",
    "raw_data[\"status_alive\"] = (raw_data[\"sales\"] > 0 & (False == raw_data[\"sales\"].isna())).astype(int)"
   ]
  },
  {
   "cell_type": "code",
   "execution_count": 10,
   "id": "6e1a63dc-3939-4502-984d-a09af25565a4",
   "metadata": {
    "tags": []
   },
   "outputs": [],
   "source": [
    "# defaults in 1 year if there are sales in this year but no sales one year later\n",
    "\n",
    "raw_data[\"default\"] = (\n",
    "    (raw_data[\"status_alive\"] == 1)\n",
    "    & (raw_data.groupby(\"comp_id\")[\"status_alive\"].shift(-1) == 0)\n",
    ").astype(int)"
   ]
  },
  {
   "cell_type": "code",
   "execution_count": 11,
   "id": "dcf941b7-5e4b-4422-9457-79415156def9",
   "metadata": {
    "tags": []
   },
   "outputs": [
    {
     "name": "stdout",
     "output_type": "stream",
     "text": [
      "<class 'pandas.core.frame.DataFrame'>\n",
      "RangeIndex: 556944 entries, 0 to 556943\n",
      "Data columns (total 43 columns):\n",
      " #   Column                Non-Null Count   Dtype  \n",
      "---  ------                --------------   -----  \n",
      " 0   year                  556944 non-null  int64  \n",
      " 1   comp_id               556944 non-null  float64\n",
      " 2   begin                 287829 non-null  object \n",
      " 3   end                   287829 non-null  object \n",
      " 4   amort                 279789 non-null  float64\n",
      " 5   curr_assets           287698 non-null  float64\n",
      " 6   curr_liab             287698 non-null  float64\n",
      " 7   extra_exp             269300 non-null  float64\n",
      " 8   extra_inc             269300 non-null  float64\n",
      " 9   extra_profit_loss     270626 non-null  float64\n",
      " 10  fixed_assets          287698 non-null  float64\n",
      " 11  inc_bef_tax           280392 non-null  float64\n",
      " 12  intang_assets         287689 non-null  float64\n",
      " 13  inventories           287698 non-null  float64\n",
      " 14  liq_assets            287698 non-null  float64\n",
      " 15  material_exp          279789 non-null  float64\n",
      " 16  personnel_exp         279789 non-null  float64\n",
      " 17  profit_loss_year      277945 non-null  float64\n",
      " 18  sales                 280392 non-null  float64\n",
      " 19  share_eq              287698 non-null  float64\n",
      " 20  subscribed_cap        287698 non-null  float64\n",
      " 21  tang_assets           286359 non-null  float64\n",
      " 22  balsheet_flag         287829 non-null  float64\n",
      " 23  balsheet_length       287829 non-null  float64\n",
      " 24  balsheet_notfullyear  287829 non-null  float64\n",
      " 25  founded_year          231372 non-null  float64\n",
      " 26  ceo_count             231402 non-null  float64\n",
      " 27  foreign               231402 non-null  float64\n",
      " 28  female                231402 non-null  float64\n",
      " 29  birth_year            176011 non-null  float64\n",
      " 30  inoffice_days         231402 non-null  float64\n",
      " 31  gender                231402 non-null  object \n",
      " 32  origin                231402 non-null  object \n",
      " 33  nace_main             286791 non-null  float64\n",
      " 34  ind2                  286791 non-null  float64\n",
      " 35  ind                   278060 non-null  float64\n",
      " 36  urban_m               287829 non-null  float64\n",
      " 37  region_m              286989 non-null  object \n",
      " 38  founded_date          287778 non-null  object \n",
      " 39  labor_avg             141297 non-null  float64\n",
      " 40  age                   231372 non-null  float64\n",
      " 41  status_alive          556944 non-null  int32  \n",
      " 42  default               556944 non-null  int32  \n",
      "dtypes: float64(34), int32(2), int64(1), object(6)\n",
      "memory usage: 178.5+ MB\n"
     ]
    }
   ],
   "source": [
    "raw_data.info()"
   ]
  },
  {
   "cell_type": "code",
   "execution_count": 12,
   "id": "9dc1f17d-91d6-4389-8cb8-773ee8c784f9",
   "metadata": {
    "tags": []
   },
   "outputs": [
    {
     "data": {
      "text/plain": [
       "flag_asset_problem\n",
       "0.0    287466\n",
       "1.0       223\n",
       "Name: comp_id, dtype: int64"
      ]
     },
     "execution_count": 12,
     "metadata": {},
     "output_type": "execute_result"
    }
   ],
   "source": [
    "# assets can't be negative. Change them to 0 and add a flag.\n",
    "raw_data[\"flag_asset_problem\"] = np.where(\n",
    "    (\n",
    "        (raw_data[\"intang_assets\"] < 0)\n",
    "        | (raw_data[\"curr_assets\"] < 0)\n",
    "        | (raw_data[\"fixed_assets\"] < 0)\n",
    "    ),\n",
    "    1,\n",
    "    0,\n",
    ")\n",
    "raw_data[\"flag_asset_problem\"] = np.where(\n",
    "    (\n",
    "        (raw_data[\"intang_assets\"].isna())\n",
    "        | (raw_data[\"curr_assets\"].isna())\n",
    "        | (raw_data[\"fixed_assets\"].isna())\n",
    "    ),\n",
    "    np.nan,\n",
    "    raw_data[\"flag_asset_problem\"],\n",
    ")\n",
    "raw_data.groupby(\"flag_asset_problem\").count()[\"comp_id\"]"
   ]
  },
  {
   "cell_type": "code",
   "execution_count": 13,
   "id": "dbfd9d33-6ccd-4cc2-959d-5b57aba8f192",
   "metadata": {
    "tags": []
   },
   "outputs": [],
   "source": [
    "# impute with 0 for asset problems\n",
    "\n",
    "raw_data[\"intang_assets\"] = np.where(raw_data[\"intang_assets\"] < 0, 0, raw_data[\"intang_assets\"])\n",
    "raw_data[\"curr_assets\"] = np.where(raw_data[\"curr_assets\"] < 0, 0, raw_data[\"curr_assets\"])\n",
    "raw_data[\"fixed_assets\"] = np.where(raw_data[\"fixed_assets\"] < 0, 0, raw_data[\"fixed_assets\"])"
   ]
  },
  {
   "cell_type": "code",
   "execution_count": 14,
   "id": "9e9bc607-7bf5-499d-8788-1317c920cf1a",
   "metadata": {
    "tags": []
   },
   "outputs": [
    {
     "data": {
      "text/plain": [
       "count    2.876890e+05\n",
       "mean     5.980575e+05\n",
       "std      2.623770e+07\n",
       "min      0.000000e+00\n",
       "25%      4.792593e+03\n",
       "50%      2.024815e+04\n",
       "75%      8.810740e+04\n",
       "max      1.032471e+10\n",
       "Name: total_assets_bs, dtype: float64"
      ]
     },
     "execution_count": 14,
     "metadata": {},
     "output_type": "execute_result"
    }
   ],
   "source": [
    "# generate total assets\n",
    "raw_data[\"total_assets_bs\"] = (\n",
    "    raw_data[\"intang_assets\"] + raw_data[\"curr_assets\"] + raw_data[\"fixed_assets\"]\n",
    ")\n",
    "round(raw_data[\"total_assets_bs\"].describe(), 3)"
   ]
  },
  {
   "cell_type": "code",
   "execution_count": 15,
   "id": "138788a2-004c-4986-86ce-b30bbe40f66c",
   "metadata": {
    "tags": []
   },
   "outputs": [],
   "source": [
    "# define P&L and Balance sheet column names\n",
    "\n",
    "pl_names = ['extra_exp','extra_inc',  'extra_profit_loss', 'inc_bef_tax' ,'inventories',\n",
    "              'material_exp', 'profit_loss_year', 'personnel_exp']\n",
    "bs_names = ['intang_assets', 'curr_liab', 'fixed_assets', 'liq_assets', 'curr_assets',\n",
    "              'share_eq', 'subscribed_cap', 'tang_assets' ]"
   ]
  },
  {
   "cell_type": "code",
   "execution_count": 16,
   "id": "e04ad263-f011-4672-87d4-dc835cea1915",
   "metadata": {
    "tags": []
   },
   "outputs": [],
   "source": [
    "# divide all pl_names elements by sales and create new column for it\n",
    "raw_data[[col + \"_pl\" for col in pl_names]] = raw_data[pl_names].div(\n",
    "    raw_data[\"sales\"], axis=\"index\"\n",
    ")"
   ]
  },
  {
   "cell_type": "code",
   "execution_count": 17,
   "id": "50e666cc-078c-4df4-89d0-2166228d49a6",
   "metadata": {
    "tags": []
   },
   "outputs": [],
   "source": [
    "# divide all bs_names elements by total_assets_bs and create new column for it\n",
    "raw_data[[col + \"_bs\" for col in bs_names]] = (\n",
    "    raw_data[bs_names]\n",
    "    .div(raw_data[\"total_assets_bs\"], axis=\"index\")\n",
    "    .replace((np.inf, -np.inf, np.nan), (0, 0, 0))\n",
    ")"
   ]
  },
  {
   "cell_type": "code",
   "execution_count": 18,
   "id": "216029a6-6fbf-4f3e-8925-9c3c6f34b3af",
   "metadata": {
    "tags": []
   },
   "outputs": [],
   "source": [
    "# imputing labor_avg and birth_year, adding flag and dropping original column - these have the highest number of missing values. \n",
    "\n",
    "raw_data[\"labor_avg_mod\"] = np.where(\n",
    "    raw_data[\"labor_avg\"].isna(), raw_data[\"labor_avg\"].mean(), raw_data[\"labor_avg\"]\n",
    ")\n",
    "raw_data[\"flag_miss_labor_avg\"] = (raw_data[\"labor_avg\"].isna()).astype(int)\n",
    "raw_data = raw_data.drop(['labor_avg'], axis=1)\n",
    "\n",
    "raw_data[\"birth_year_mod\"] = np.where(\n",
    "    raw_data[\"birth_year\"].isna(), raw_data[\"birth_year\"].mean(), raw_data[\"birth_year\"]\n",
    ")\n",
    "raw_data[\"flag_miss_birth_year\"] = (raw_data[\"birth_year\"].isna()).astype(int)\n",
    "raw_data = raw_data.drop(['birth_year'], axis=1)"
   ]
  },
  {
   "cell_type": "code",
   "execution_count": 19,
   "id": "29f6a6f2-3a93-4bf9-af8e-0e05da5a1025",
   "metadata": {
    "tags": []
   },
   "outputs": [],
   "source": [
    "# convert to categorical where relevant\n",
    "\n",
    "cat_vars = [\"gender\", \"origin\", \"ind2\", \"ind\", \"urban_m\", \"region_m\", \"nace_main\"]\n",
    "\n",
    "for col in cat_vars:\n",
    "    raw_data[col] = raw_data[col].astype(\"category\")"
   ]
  },
  {
   "cell_type": "code",
   "execution_count": 20,
   "id": "72b47937-cf67-4441-9acf-459ef3019211",
   "metadata": {
    "tags": []
   },
   "outputs": [
    {
     "name": "stdout",
     "output_type": "stream",
     "text": [
      "<class 'pandas.core.frame.DataFrame'>\n",
      "RangeIndex: 556944 entries, 0 to 556943\n",
      "Data columns (total 63 columns):\n",
      " #   Column                Non-Null Count   Dtype   \n",
      "---  ------                --------------   -----   \n",
      " 0   year                  556944 non-null  int64   \n",
      " 1   comp_id               556944 non-null  float64 \n",
      " 2   begin                 287829 non-null  object  \n",
      " 3   end                   287829 non-null  object  \n",
      " 4   amort                 279789 non-null  float64 \n",
      " 5   curr_assets           287698 non-null  float64 \n",
      " 6   curr_liab             287698 non-null  float64 \n",
      " 7   extra_exp             269300 non-null  float64 \n",
      " 8   extra_inc             269300 non-null  float64 \n",
      " 9   extra_profit_loss     270626 non-null  float64 \n",
      " 10  fixed_assets          287698 non-null  float64 \n",
      " 11  inc_bef_tax           280392 non-null  float64 \n",
      " 12  intang_assets         287689 non-null  float64 \n",
      " 13  inventories           287698 non-null  float64 \n",
      " 14  liq_assets            287698 non-null  float64 \n",
      " 15  material_exp          279789 non-null  float64 \n",
      " 16  personnel_exp         279789 non-null  float64 \n",
      " 17  profit_loss_year      277945 non-null  float64 \n",
      " 18  sales                 280392 non-null  float64 \n",
      " 19  share_eq              287698 non-null  float64 \n",
      " 20  subscribed_cap        287698 non-null  float64 \n",
      " 21  tang_assets           286359 non-null  float64 \n",
      " 22  balsheet_flag         287829 non-null  float64 \n",
      " 23  balsheet_length       287829 non-null  float64 \n",
      " 24  balsheet_notfullyear  287829 non-null  float64 \n",
      " 25  founded_year          231372 non-null  float64 \n",
      " 26  ceo_count             231402 non-null  float64 \n",
      " 27  foreign               231402 non-null  float64 \n",
      " 28  female                231402 non-null  float64 \n",
      " 29  inoffice_days         231402 non-null  float64 \n",
      " 30  gender                231402 non-null  category\n",
      " 31  origin                231402 non-null  category\n",
      " 32  nace_main             286791 non-null  category\n",
      " 33  ind2                  286791 non-null  category\n",
      " 34  ind                   278060 non-null  category\n",
      " 35  urban_m               287829 non-null  category\n",
      " 36  region_m              286989 non-null  category\n",
      " 37  founded_date          287778 non-null  object  \n",
      " 38  age                   231372 non-null  float64 \n",
      " 39  status_alive          556944 non-null  int32   \n",
      " 40  default               556944 non-null  int32   \n",
      " 41  flag_asset_problem    287689 non-null  float64 \n",
      " 42  total_assets_bs       287689 non-null  float64 \n",
      " 43  extra_exp_pl          228655 non-null  float64 \n",
      " 44  extra_inc_pl          229522 non-null  float64 \n",
      " 45  extra_profit_loss_pl  231092 non-null  float64 \n",
      " 46  inc_bef_tax_pl        275302 non-null  float64 \n",
      " 47  inventories_pl        242255 non-null  float64 \n",
      " 48  material_exp_pl       269096 non-null  float64 \n",
      " 49  profit_loss_year_pl   265317 non-null  float64 \n",
      " 50  personnel_exp_pl      246968 non-null  float64 \n",
      " 51  intang_assets_bs      556944 non-null  float64 \n",
      " 52  curr_liab_bs          556944 non-null  float64 \n",
      " 53  fixed_assets_bs       556944 non-null  float64 \n",
      " 54  liq_assets_bs         556944 non-null  float64 \n",
      " 55  curr_assets_bs        556944 non-null  float64 \n",
      " 56  share_eq_bs           556944 non-null  float64 \n",
      " 57  subscribed_cap_bs     556944 non-null  float64 \n",
      " 58  tang_assets_bs        556944 non-null  float64 \n",
      " 59  labor_avg_mod         556944 non-null  float64 \n",
      " 60  flag_miss_labor_avg   556944 non-null  int32   \n",
      " 61  birth_year_mod        556944 non-null  float64 \n",
      " 62  flag_miss_birth_year  556944 non-null  int32   \n",
      "dtypes: category(7), float64(48), int32(4), int64(1), object(3)\n",
      "memory usage: 233.7+ MB\n"
     ]
    }
   ],
   "source": [
    "raw_data.info()"
   ]
  },
  {
   "cell_type": "code",
   "execution_count": 21,
   "id": "fbf7b316-77f1-40ff-b7a1-af3198d0aa0d",
   "metadata": {
    "tags": []
   },
   "outputs": [
    {
     "data": {
      "text/html": [
       "<div>\n",
       "<style scoped>\n",
       "    .dataframe tbody tr th:only-of-type {\n",
       "        vertical-align: middle;\n",
       "    }\n",
       "\n",
       "    .dataframe tbody tr th {\n",
       "        vertical-align: top;\n",
       "    }\n",
       "\n",
       "    .dataframe thead th {\n",
       "        text-align: right;\n",
       "    }\n",
       "</style>\n",
       "<table border=\"1\" class=\"dataframe\">\n",
       "  <thead>\n",
       "    <tr style=\"text-align: right;\">\n",
       "      <th></th>\n",
       "      <th>year</th>\n",
       "      <th>comp_id</th>\n",
       "      <th>begin</th>\n",
       "      <th>end</th>\n",
       "      <th>amort</th>\n",
       "      <th>curr_assets</th>\n",
       "      <th>curr_liab</th>\n",
       "      <th>extra_exp</th>\n",
       "      <th>extra_inc</th>\n",
       "      <th>extra_profit_loss</th>\n",
       "      <th>...</th>\n",
       "      <th>fixed_assets_bs</th>\n",
       "      <th>liq_assets_bs</th>\n",
       "      <th>curr_assets_bs</th>\n",
       "      <th>share_eq_bs</th>\n",
       "      <th>subscribed_cap_bs</th>\n",
       "      <th>tang_assets_bs</th>\n",
       "      <th>labor_avg_mod</th>\n",
       "      <th>flag_miss_labor_avg</th>\n",
       "      <th>birth_year_mod</th>\n",
       "      <th>flag_miss_birth_year</th>\n",
       "    </tr>\n",
       "  </thead>\n",
       "  <tbody>\n",
       "    <tr>\n",
       "      <th>156</th>\n",
       "      <td>2005</td>\n",
       "      <td>6.538183e+06</td>\n",
       "      <td>2005-01-01</td>\n",
       "      <td>2005-12-31</td>\n",
       "      <td>792.592590</td>\n",
       "      <td>6237.037109</td>\n",
       "      <td>348.148163</td>\n",
       "      <td>0.000000</td>\n",
       "      <td>0.000000</td>\n",
       "      <td>0.000000</td>\n",
       "      <td>...</td>\n",
       "      <td>0.214552</td>\n",
       "      <td>0.689366</td>\n",
       "      <td>0.785448</td>\n",
       "      <td>0.946828</td>\n",
       "      <td>0.006996</td>\n",
       "      <td>0.214552</td>\n",
       "      <td>1.009435</td>\n",
       "      <td>1</td>\n",
       "      <td>1964.902661</td>\n",
       "      <td>1</td>\n",
       "    </tr>\n",
       "    <tr>\n",
       "      <th>162</th>\n",
       "      <td>2005</td>\n",
       "      <td>6.934257e+06</td>\n",
       "      <td>2005-05-13</td>\n",
       "      <td>2005-12-31</td>\n",
       "      <td>803.703674</td>\n",
       "      <td>4648.147949</td>\n",
       "      <td>9311.111328</td>\n",
       "      <td>0.000000</td>\n",
       "      <td>0.000000</td>\n",
       "      <td>0.000000</td>\n",
       "      <td>...</td>\n",
       "      <td>0.718736</td>\n",
       "      <td>0.147692</td>\n",
       "      <td>0.281264</td>\n",
       "      <td>0.034738</td>\n",
       "      <td>0.672344</td>\n",
       "      <td>0.718736</td>\n",
       "      <td>1.009435</td>\n",
       "      <td>1</td>\n",
       "      <td>1964.902661</td>\n",
       "      <td>1</td>\n",
       "    </tr>\n",
       "    <tr>\n",
       "      <th>182</th>\n",
       "      <td>2005</td>\n",
       "      <td>8.416055e+06</td>\n",
       "      <td>2005-01-01</td>\n",
       "      <td>2005-12-31</td>\n",
       "      <td>3155.555664</td>\n",
       "      <td>71070.367188</td>\n",
       "      <td>25514.814453</td>\n",
       "      <td>74.074074</td>\n",
       "      <td>0.000000</td>\n",
       "      <td>-74.074074</td>\n",
       "      <td>...</td>\n",
       "      <td>0.151399</td>\n",
       "      <td>0.747625</td>\n",
       "      <td>0.847983</td>\n",
       "      <td>0.701843</td>\n",
       "      <td>0.132573</td>\n",
       "      <td>0.150780</td>\n",
       "      <td>1.009435</td>\n",
       "      <td>1</td>\n",
       "      <td>1960.000000</td>\n",
       "      <td>0</td>\n",
       "    </tr>\n",
       "    <tr>\n",
       "      <th>234</th>\n",
       "      <td>2005</td>\n",
       "      <td>1.242838e+07</td>\n",
       "      <td>2005-01-01</td>\n",
       "      <td>2005-12-31</td>\n",
       "      <td>3137.037109</td>\n",
       "      <td>1740.740723</td>\n",
       "      <td>2192.592529</td>\n",
       "      <td>0.000000</td>\n",
       "      <td>0.000000</td>\n",
       "      <td>0.000000</td>\n",
       "      <td>...</td>\n",
       "      <td>0.521212</td>\n",
       "      <td>0.450505</td>\n",
       "      <td>0.474747</td>\n",
       "      <td>0.397980</td>\n",
       "      <td>0.020202</td>\n",
       "      <td>0.517172</td>\n",
       "      <td>1.009435</td>\n",
       "      <td>1</td>\n",
       "      <td>1964.902661</td>\n",
       "      <td>1</td>\n",
       "    </tr>\n",
       "    <tr>\n",
       "      <th>261</th>\n",
       "      <td>2005</td>\n",
       "      <td>1.571155e+07</td>\n",
       "      <td>2005-01-01</td>\n",
       "      <td>2005-12-31</td>\n",
       "      <td>1592.592651</td>\n",
       "      <td>4740.740723</td>\n",
       "      <td>4970.370605</td>\n",
       "      <td>0.000000</td>\n",
       "      <td>7407.407227</td>\n",
       "      <td>7407.407227</td>\n",
       "      <td>...</td>\n",
       "      <td>0.171521</td>\n",
       "      <td>0.274434</td>\n",
       "      <td>0.828479</td>\n",
       "      <td>0.131392</td>\n",
       "      <td>1.941748</td>\n",
       "      <td>0.171521</td>\n",
       "      <td>1.009435</td>\n",
       "      <td>1</td>\n",
       "      <td>1964.902661</td>\n",
       "      <td>1</td>\n",
       "    </tr>\n",
       "    <tr>\n",
       "      <th>...</th>\n",
       "      <td>...</td>\n",
       "      <td>...</td>\n",
       "      <td>...</td>\n",
       "      <td>...</td>\n",
       "      <td>...</td>\n",
       "      <td>...</td>\n",
       "      <td>...</td>\n",
       "      <td>...</td>\n",
       "      <td>...</td>\n",
       "      <td>...</td>\n",
       "      <td>...</td>\n",
       "      <td>...</td>\n",
       "      <td>...</td>\n",
       "      <td>...</td>\n",
       "      <td>...</td>\n",
       "      <td>...</td>\n",
       "      <td>...</td>\n",
       "      <td>...</td>\n",
       "      <td>...</td>\n",
       "      <td>...</td>\n",
       "      <td>...</td>\n",
       "    </tr>\n",
       "    <tr>\n",
       "      <th>556634</th>\n",
       "      <td>2016</td>\n",
       "      <td>4.580800e+11</td>\n",
       "      <td>2016-01-01</td>\n",
       "      <td>2016-12-31</td>\n",
       "      <td>3529.629639</td>\n",
       "      <td>125537.039062</td>\n",
       "      <td>0.000000</td>\n",
       "      <td>NaN</td>\n",
       "      <td>NaN</td>\n",
       "      <td>NaN</td>\n",
       "      <td>...</td>\n",
       "      <td>0.102048</td>\n",
       "      <td>0.316502</td>\n",
       "      <td>0.897952</td>\n",
       "      <td>0.920656</td>\n",
       "      <td>0.079477</td>\n",
       "      <td>0.102048</td>\n",
       "      <td>0.166667</td>\n",
       "      <td>0</td>\n",
       "      <td>1959.000000</td>\n",
       "      <td>0</td>\n",
       "    </tr>\n",
       "    <tr>\n",
       "      <th>556683</th>\n",
       "      <td>2016</td>\n",
       "      <td>4.591262e+11</td>\n",
       "      <td>2016-01-01</td>\n",
       "      <td>2016-12-31</td>\n",
       "      <td>4011.111084</td>\n",
       "      <td>58948.148438</td>\n",
       "      <td>30874.074219</td>\n",
       "      <td>NaN</td>\n",
       "      <td>NaN</td>\n",
       "      <td>NaN</td>\n",
       "      <td>...</td>\n",
       "      <td>0.232816</td>\n",
       "      <td>0.367011</td>\n",
       "      <td>0.767184</td>\n",
       "      <td>0.630146</td>\n",
       "      <td>1.332787</td>\n",
       "      <td>0.232816</td>\n",
       "      <td>0.125000</td>\n",
       "      <td>0</td>\n",
       "      <td>1964.902661</td>\n",
       "      <td>1</td>\n",
       "    </tr>\n",
       "    <tr>\n",
       "      <th>556789</th>\n",
       "      <td>2016</td>\n",
       "      <td>4.610112e+11</td>\n",
       "      <td>2016-01-01</td>\n",
       "      <td>2016-12-31</td>\n",
       "      <td>148.148148</td>\n",
       "      <td>67448.148438</td>\n",
       "      <td>5059.259277</td>\n",
       "      <td>NaN</td>\n",
       "      <td>NaN</td>\n",
       "      <td>NaN</td>\n",
       "      <td>...</td>\n",
       "      <td>0.042802</td>\n",
       "      <td>0.441048</td>\n",
       "      <td>0.956410</td>\n",
       "      <td>0.929626</td>\n",
       "      <td>0.157555</td>\n",
       "      <td>0.042015</td>\n",
       "      <td>0.250000</td>\n",
       "      <td>0</td>\n",
       "      <td>1959.000000</td>\n",
       "      <td>0</td>\n",
       "    </tr>\n",
       "    <tr>\n",
       "      <th>556842</th>\n",
       "      <td>2016</td>\n",
       "      <td>4.620594e+11</td>\n",
       "      <td>2016-01-01</td>\n",
       "      <td>2016-12-31</td>\n",
       "      <td>559.259277</td>\n",
       "      <td>64011.109375</td>\n",
       "      <td>8662.962891</td>\n",
       "      <td>NaN</td>\n",
       "      <td>NaN</td>\n",
       "      <td>NaN</td>\n",
       "      <td>...</td>\n",
       "      <td>0.000000</td>\n",
       "      <td>0.037841</td>\n",
       "      <td>1.000000</td>\n",
       "      <td>0.866111</td>\n",
       "      <td>0.173581</td>\n",
       "      <td>0.000000</td>\n",
       "      <td>0.118056</td>\n",
       "      <td>0</td>\n",
       "      <td>1953.000000</td>\n",
       "      <td>0</td>\n",
       "    </tr>\n",
       "    <tr>\n",
       "      <th>556879</th>\n",
       "      <td>2016</td>\n",
       "      <td>4.628231e+11</td>\n",
       "      <td>2016-01-01</td>\n",
       "      <td>2016-12-31</td>\n",
       "      <td>5362.962891</td>\n",
       "      <td>59570.371094</td>\n",
       "      <td>41681.480469</td>\n",
       "      <td>NaN</td>\n",
       "      <td>NaN</td>\n",
       "      <td>NaN</td>\n",
       "      <td>...</td>\n",
       "      <td>0.231570</td>\n",
       "      <td>0.169796</td>\n",
       "      <td>0.768430</td>\n",
       "      <td>0.223448</td>\n",
       "      <td>0.023888</td>\n",
       "      <td>0.231570</td>\n",
       "      <td>0.555556</td>\n",
       "      <td>0</td>\n",
       "      <td>1984.000000</td>\n",
       "      <td>0</td>\n",
       "    </tr>\n",
       "  </tbody>\n",
       "</table>\n",
       "<p>14877 rows × 63 columns</p>\n",
       "</div>"
      ],
      "text/plain": [
       "        year       comp_id       begin         end        amort  \\\n",
       "156     2005  6.538183e+06  2005-01-01  2005-12-31   792.592590   \n",
       "162     2005  6.934257e+06  2005-05-13  2005-12-31   803.703674   \n",
       "182     2005  8.416055e+06  2005-01-01  2005-12-31  3155.555664   \n",
       "234     2005  1.242838e+07  2005-01-01  2005-12-31  3137.037109   \n",
       "261     2005  1.571155e+07  2005-01-01  2005-12-31  1592.592651   \n",
       "...      ...           ...         ...         ...          ...   \n",
       "556634  2016  4.580800e+11  2016-01-01  2016-12-31  3529.629639   \n",
       "556683  2016  4.591262e+11  2016-01-01  2016-12-31  4011.111084   \n",
       "556789  2016  4.610112e+11  2016-01-01  2016-12-31   148.148148   \n",
       "556842  2016  4.620594e+11  2016-01-01  2016-12-31   559.259277   \n",
       "556879  2016  4.628231e+11  2016-01-01  2016-12-31  5362.962891   \n",
       "\n",
       "          curr_assets     curr_liab  extra_exp    extra_inc  \\\n",
       "156       6237.037109    348.148163   0.000000     0.000000   \n",
       "162       4648.147949   9311.111328   0.000000     0.000000   \n",
       "182      71070.367188  25514.814453  74.074074     0.000000   \n",
       "234       1740.740723   2192.592529   0.000000     0.000000   \n",
       "261       4740.740723   4970.370605   0.000000  7407.407227   \n",
       "...               ...           ...        ...          ...   \n",
       "556634  125537.039062      0.000000        NaN          NaN   \n",
       "556683   58948.148438  30874.074219        NaN          NaN   \n",
       "556789   67448.148438   5059.259277        NaN          NaN   \n",
       "556842   64011.109375   8662.962891        NaN          NaN   \n",
       "556879   59570.371094  41681.480469        NaN          NaN   \n",
       "\n",
       "        extra_profit_loss  ...  fixed_assets_bs  liq_assets_bs  \\\n",
       "156              0.000000  ...         0.214552       0.689366   \n",
       "162              0.000000  ...         0.718736       0.147692   \n",
       "182            -74.074074  ...         0.151399       0.747625   \n",
       "234              0.000000  ...         0.521212       0.450505   \n",
       "261           7407.407227  ...         0.171521       0.274434   \n",
       "...                   ...  ...              ...            ...   \n",
       "556634                NaN  ...         0.102048       0.316502   \n",
       "556683                NaN  ...         0.232816       0.367011   \n",
       "556789                NaN  ...         0.042802       0.441048   \n",
       "556842                NaN  ...         0.000000       0.037841   \n",
       "556879                NaN  ...         0.231570       0.169796   \n",
       "\n",
       "        curr_assets_bs  share_eq_bs  subscribed_cap_bs  tang_assets_bs  \\\n",
       "156           0.785448     0.946828           0.006996        0.214552   \n",
       "162           0.281264     0.034738           0.672344        0.718736   \n",
       "182           0.847983     0.701843           0.132573        0.150780   \n",
       "234           0.474747     0.397980           0.020202        0.517172   \n",
       "261           0.828479     0.131392           1.941748        0.171521   \n",
       "...                ...          ...                ...             ...   \n",
       "556634        0.897952     0.920656           0.079477        0.102048   \n",
       "556683        0.767184     0.630146           1.332787        0.232816   \n",
       "556789        0.956410     0.929626           0.157555        0.042015   \n",
       "556842        1.000000     0.866111           0.173581        0.000000   \n",
       "556879        0.768430     0.223448           0.023888        0.231570   \n",
       "\n",
       "        labor_avg_mod  flag_miss_labor_avg  birth_year_mod  \\\n",
       "156          1.009435                    1     1964.902661   \n",
       "162          1.009435                    1     1964.902661   \n",
       "182          1.009435                    1     1960.000000   \n",
       "234          1.009435                    1     1964.902661   \n",
       "261          1.009435                    1     1964.902661   \n",
       "...               ...                  ...             ...   \n",
       "556634       0.166667                    0     1959.000000   \n",
       "556683       0.125000                    0     1964.902661   \n",
       "556789       0.250000                    0     1959.000000   \n",
       "556842       0.118056                    0     1953.000000   \n",
       "556879       0.555556                    0     1984.000000   \n",
       "\n",
       "        flag_miss_birth_year  \n",
       "156                        1  \n",
       "162                        1  \n",
       "182                        0  \n",
       "234                        1  \n",
       "261                        1  \n",
       "...                      ...  \n",
       "556634                     0  \n",
       "556683                     1  \n",
       "556789                     0  \n",
       "556842                     0  \n",
       "556879                     0  \n",
       "\n",
       "[14877 rows x 63 columns]"
      ]
     },
     "execution_count": 21,
     "metadata": {},
     "output_type": "execute_result"
    }
   ],
   "source": [
    "holdout_data = raw_data[raw_data[\"ind2\"] == 26]\n",
    "holdout_data"
   ]
  },
  {
   "cell_type": "code",
   "execution_count": 22,
   "id": "4158ad5b-b856-4aa0-83df-5bc464a3288a",
   "metadata": {
    "tags": []
   },
   "outputs": [
    {
     "data": {
      "text/html": [
       "<div>\n",
       "<style scoped>\n",
       "    .dataframe tbody tr th:only-of-type {\n",
       "        vertical-align: middle;\n",
       "    }\n",
       "\n",
       "    .dataframe tbody tr th {\n",
       "        vertical-align: top;\n",
       "    }\n",
       "\n",
       "    .dataframe thead th {\n",
       "        text-align: right;\n",
       "    }\n",
       "</style>\n",
       "<table border=\"1\" class=\"dataframe\">\n",
       "  <thead>\n",
       "    <tr style=\"text-align: right;\">\n",
       "      <th></th>\n",
       "      <th>year</th>\n",
       "      <th>comp_id</th>\n",
       "      <th>begin</th>\n",
       "      <th>end</th>\n",
       "      <th>amort</th>\n",
       "      <th>curr_assets</th>\n",
       "      <th>curr_liab</th>\n",
       "      <th>extra_exp</th>\n",
       "      <th>extra_inc</th>\n",
       "      <th>extra_profit_loss</th>\n",
       "      <th>...</th>\n",
       "      <th>fixed_assets_bs</th>\n",
       "      <th>liq_assets_bs</th>\n",
       "      <th>curr_assets_bs</th>\n",
       "      <th>share_eq_bs</th>\n",
       "      <th>subscribed_cap_bs</th>\n",
       "      <th>tang_assets_bs</th>\n",
       "      <th>labor_avg_mod</th>\n",
       "      <th>flag_miss_labor_avg</th>\n",
       "      <th>birth_year_mod</th>\n",
       "      <th>flag_miss_birth_year</th>\n",
       "    </tr>\n",
       "  </thead>\n",
       "  <tbody>\n",
       "    <tr>\n",
       "      <th>417864</th>\n",
       "      <td>2014</td>\n",
       "      <td>6.538183e+06</td>\n",
       "      <td>2014-01-01</td>\n",
       "      <td>2014-12-31</td>\n",
       "      <td>1018.518494</td>\n",
       "      <td>17022.222656</td>\n",
       "      <td>3040.740723</td>\n",
       "      <td>0.0</td>\n",
       "      <td>0.0</td>\n",
       "      <td>0.0</td>\n",
       "      <td>...</td>\n",
       "      <td>0.164819</td>\n",
       "      <td>0.832455</td>\n",
       "      <td>0.835181</td>\n",
       "      <td>0.850809</td>\n",
       "      <td>0.002726</td>\n",
       "      <td>0.164819</td>\n",
       "      <td>1.009435</td>\n",
       "      <td>1</td>\n",
       "      <td>1961.5</td>\n",
       "      <td>0</td>\n",
       "    </tr>\n",
       "    <tr>\n",
       "      <th>417890</th>\n",
       "      <td>2014</td>\n",
       "      <td>8.416055e+06</td>\n",
       "      <td>2014-01-01</td>\n",
       "      <td>2014-12-31</td>\n",
       "      <td>425.925934</td>\n",
       "      <td>105740.742188</td>\n",
       "      <td>6918.518555</td>\n",
       "      <td>0.0</td>\n",
       "      <td>0.0</td>\n",
       "      <td>0.0</td>\n",
       "      <td>...</td>\n",
       "      <td>0.067207</td>\n",
       "      <td>0.680041</td>\n",
       "      <td>0.932793</td>\n",
       "      <td>0.945372</td>\n",
       "      <td>0.098017</td>\n",
       "      <td>0.067207</td>\n",
       "      <td>0.083333</td>\n",
       "      <td>0</td>\n",
       "      <td>1960.0</td>\n",
       "      <td>0</td>\n",
       "    </tr>\n",
       "    <tr>\n",
       "      <th>417942</th>\n",
       "      <td>2014</td>\n",
       "      <td>1.242838e+07</td>\n",
       "      <td>2014-01-01</td>\n",
       "      <td>2014-12-31</td>\n",
       "      <td>0.000000</td>\n",
       "      <td>0.000000</td>\n",
       "      <td>9277.777344</td>\n",
       "      <td>0.0</td>\n",
       "      <td>0.0</td>\n",
       "      <td>0.0</td>\n",
       "      <td>...</td>\n",
       "      <td>0.000000</td>\n",
       "      <td>0.000000</td>\n",
       "      <td>0.000000</td>\n",
       "      <td>0.000000</td>\n",
       "      <td>0.000000</td>\n",
       "      <td>0.000000</td>\n",
       "      <td>0.083333</td>\n",
       "      <td>0</td>\n",
       "      <td>1962.0</td>\n",
       "      <td>0</td>\n",
       "    </tr>\n",
       "    <tr>\n",
       "      <th>417989</th>\n",
       "      <td>2014</td>\n",
       "      <td>1.777654e+07</td>\n",
       "      <td>2014-01-01</td>\n",
       "      <td>2014-12-31</td>\n",
       "      <td>48.148148</td>\n",
       "      <td>142296.296875</td>\n",
       "      <td>164237.031250</td>\n",
       "      <td>0.0</td>\n",
       "      <td>0.0</td>\n",
       "      <td>0.0</td>\n",
       "      <td>...</td>\n",
       "      <td>0.510834</td>\n",
       "      <td>0.007804</td>\n",
       "      <td>0.403525</td>\n",
       "      <td>0.406907</td>\n",
       "      <td>0.136539</td>\n",
       "      <td>0.425192</td>\n",
       "      <td>0.305556</td>\n",
       "      <td>0</td>\n",
       "      <td>1970.5</td>\n",
       "      <td>0</td>\n",
       "    </tr>\n",
       "    <tr>\n",
       "      <th>417994</th>\n",
       "      <td>2014</td>\n",
       "      <td>1.862676e+07</td>\n",
       "      <td>2014-01-01</td>\n",
       "      <td>2014-12-31</td>\n",
       "      <td>5755.555664</td>\n",
       "      <td>95185.187500</td>\n",
       "      <td>45766.667969</td>\n",
       "      <td>0.0</td>\n",
       "      <td>0.0</td>\n",
       "      <td>0.0</td>\n",
       "      <td>...</td>\n",
       "      <td>0.193371</td>\n",
       "      <td>0.094661</td>\n",
       "      <td>0.806629</td>\n",
       "      <td>0.611594</td>\n",
       "      <td>0.015693</td>\n",
       "      <td>0.193371</td>\n",
       "      <td>0.159091</td>\n",
       "      <td>0</td>\n",
       "      <td>1978.0</td>\n",
       "      <td>0</td>\n",
       "    </tr>\n",
       "    <tr>\n",
       "      <th>...</th>\n",
       "      <td>...</td>\n",
       "      <td>...</td>\n",
       "      <td>...</td>\n",
       "      <td>...</td>\n",
       "      <td>...</td>\n",
       "      <td>...</td>\n",
       "      <td>...</td>\n",
       "      <td>...</td>\n",
       "      <td>...</td>\n",
       "      <td>...</td>\n",
       "      <td>...</td>\n",
       "      <td>...</td>\n",
       "      <td>...</td>\n",
       "      <td>...</td>\n",
       "      <td>...</td>\n",
       "      <td>...</td>\n",
       "      <td>...</td>\n",
       "      <td>...</td>\n",
       "      <td>...</td>\n",
       "      <td>...</td>\n",
       "      <td>...</td>\n",
       "    </tr>\n",
       "    <tr>\n",
       "      <th>463875</th>\n",
       "      <td>2014</td>\n",
       "      <td>4.593723e+11</td>\n",
       "      <td>2014-01-01</td>\n",
       "      <td>2014-12-31</td>\n",
       "      <td>0.000000</td>\n",
       "      <td>40740.742188</td>\n",
       "      <td>559.259277</td>\n",
       "      <td>0.0</td>\n",
       "      <td>0.0</td>\n",
       "      <td>0.0</td>\n",
       "      <td>...</td>\n",
       "      <td>0.000000</td>\n",
       "      <td>0.943727</td>\n",
       "      <td>1.000000</td>\n",
       "      <td>0.986273</td>\n",
       "      <td>0.023000</td>\n",
       "      <td>0.000000</td>\n",
       "      <td>0.083333</td>\n",
       "      <td>0</td>\n",
       "      <td>1975.0</td>\n",
       "      <td>0</td>\n",
       "    </tr>\n",
       "    <tr>\n",
       "      <th>463965</th>\n",
       "      <td>2014</td>\n",
       "      <td>4.610112e+11</td>\n",
       "      <td>2014-01-01</td>\n",
       "      <td>2014-12-31</td>\n",
       "      <td>429.629639</td>\n",
       "      <td>58781.480469</td>\n",
       "      <td>2651.851807</td>\n",
       "      <td>0.0</td>\n",
       "      <td>0.0</td>\n",
       "      <td>0.0</td>\n",
       "      <td>...</td>\n",
       "      <td>0.055866</td>\n",
       "      <td>0.637822</td>\n",
       "      <td>0.943243</td>\n",
       "      <td>0.957387</td>\n",
       "      <td>0.178296</td>\n",
       "      <td>0.054974</td>\n",
       "      <td>0.166667</td>\n",
       "      <td>0</td>\n",
       "      <td>1959.0</td>\n",
       "      <td>0</td>\n",
       "    </tr>\n",
       "    <tr>\n",
       "      <th>464018</th>\n",
       "      <td>2014</td>\n",
       "      <td>4.620594e+11</td>\n",
       "      <td>2014-01-01</td>\n",
       "      <td>2014-12-31</td>\n",
       "      <td>1111.111084</td>\n",
       "      <td>68274.070312</td>\n",
       "      <td>16211.111328</td>\n",
       "      <td>0.0</td>\n",
       "      <td>0.0</td>\n",
       "      <td>0.0</td>\n",
       "      <td>...</td>\n",
       "      <td>0.011635</td>\n",
       "      <td>0.024288</td>\n",
       "      <td>0.988365</td>\n",
       "      <td>0.765321</td>\n",
       "      <td>0.160849</td>\n",
       "      <td>0.011635</td>\n",
       "      <td>0.250000</td>\n",
       "      <td>0</td>\n",
       "      <td>1953.0</td>\n",
       "      <td>0</td>\n",
       "    </tr>\n",
       "    <tr>\n",
       "      <th>464032</th>\n",
       "      <td>2014</td>\n",
       "      <td>4.623300e+11</td>\n",
       "      <td>2014-01-01</td>\n",
       "      <td>2014-12-31</td>\n",
       "      <td>0.000000</td>\n",
       "      <td>17192.591797</td>\n",
       "      <td>7325.925781</td>\n",
       "      <td>0.0</td>\n",
       "      <td>0.0</td>\n",
       "      <td>0.0</td>\n",
       "      <td>...</td>\n",
       "      <td>0.375656</td>\n",
       "      <td>0.368796</td>\n",
       "      <td>0.624344</td>\n",
       "      <td>0.654472</td>\n",
       "      <td>0.672495</td>\n",
       "      <td>0.375656</td>\n",
       "      <td>0.166667</td>\n",
       "      <td>0</td>\n",
       "      <td>1961.5</td>\n",
       "      <td>0</td>\n",
       "    </tr>\n",
       "    <tr>\n",
       "      <th>464055</th>\n",
       "      <td>2014</td>\n",
       "      <td>4.628231e+11</td>\n",
       "      <td>2014-01-01</td>\n",
       "      <td>2014-12-31</td>\n",
       "      <td>2581.481445</td>\n",
       "      <td>70059.257812</td>\n",
       "      <td>74911.109375</td>\n",
       "      <td>0.0</td>\n",
       "      <td>0.0</td>\n",
       "      <td>0.0</td>\n",
       "      <td>...</td>\n",
       "      <td>0.102188</td>\n",
       "      <td>0.288101</td>\n",
       "      <td>0.897812</td>\n",
       "      <td>0.040011</td>\n",
       "      <td>0.023732</td>\n",
       "      <td>0.102188</td>\n",
       "      <td>0.486111</td>\n",
       "      <td>0</td>\n",
       "      <td>1984.0</td>\n",
       "      <td>0</td>\n",
       "    </tr>\n",
       "  </tbody>\n",
       "</table>\n",
       "<p>1037 rows × 63 columns</p>\n",
       "</div>"
      ],
      "text/plain": [
       "        year       comp_id       begin         end        amort  \\\n",
       "417864  2014  6.538183e+06  2014-01-01  2014-12-31  1018.518494   \n",
       "417890  2014  8.416055e+06  2014-01-01  2014-12-31   425.925934   \n",
       "417942  2014  1.242838e+07  2014-01-01  2014-12-31     0.000000   \n",
       "417989  2014  1.777654e+07  2014-01-01  2014-12-31    48.148148   \n",
       "417994  2014  1.862676e+07  2014-01-01  2014-12-31  5755.555664   \n",
       "...      ...           ...         ...         ...          ...   \n",
       "463875  2014  4.593723e+11  2014-01-01  2014-12-31     0.000000   \n",
       "463965  2014  4.610112e+11  2014-01-01  2014-12-31   429.629639   \n",
       "464018  2014  4.620594e+11  2014-01-01  2014-12-31  1111.111084   \n",
       "464032  2014  4.623300e+11  2014-01-01  2014-12-31     0.000000   \n",
       "464055  2014  4.628231e+11  2014-01-01  2014-12-31  2581.481445   \n",
       "\n",
       "          curr_assets      curr_liab  extra_exp  extra_inc  extra_profit_loss  \\\n",
       "417864   17022.222656    3040.740723        0.0        0.0                0.0   \n",
       "417890  105740.742188    6918.518555        0.0        0.0                0.0   \n",
       "417942       0.000000    9277.777344        0.0        0.0                0.0   \n",
       "417989  142296.296875  164237.031250        0.0        0.0                0.0   \n",
       "417994   95185.187500   45766.667969        0.0        0.0                0.0   \n",
       "...               ...            ...        ...        ...                ...   \n",
       "463875   40740.742188     559.259277        0.0        0.0                0.0   \n",
       "463965   58781.480469    2651.851807        0.0        0.0                0.0   \n",
       "464018   68274.070312   16211.111328        0.0        0.0                0.0   \n",
       "464032   17192.591797    7325.925781        0.0        0.0                0.0   \n",
       "464055   70059.257812   74911.109375        0.0        0.0                0.0   \n",
       "\n",
       "        ...  fixed_assets_bs  liq_assets_bs  curr_assets_bs  share_eq_bs  \\\n",
       "417864  ...         0.164819       0.832455        0.835181     0.850809   \n",
       "417890  ...         0.067207       0.680041        0.932793     0.945372   \n",
       "417942  ...         0.000000       0.000000        0.000000     0.000000   \n",
       "417989  ...         0.510834       0.007804        0.403525     0.406907   \n",
       "417994  ...         0.193371       0.094661        0.806629     0.611594   \n",
       "...     ...              ...            ...             ...          ...   \n",
       "463875  ...         0.000000       0.943727        1.000000     0.986273   \n",
       "463965  ...         0.055866       0.637822        0.943243     0.957387   \n",
       "464018  ...         0.011635       0.024288        0.988365     0.765321   \n",
       "464032  ...         0.375656       0.368796        0.624344     0.654472   \n",
       "464055  ...         0.102188       0.288101        0.897812     0.040011   \n",
       "\n",
       "        subscribed_cap_bs  tang_assets_bs  labor_avg_mod  flag_miss_labor_avg  \\\n",
       "417864           0.002726        0.164819       1.009435                    1   \n",
       "417890           0.098017        0.067207       0.083333                    0   \n",
       "417942           0.000000        0.000000       0.083333                    0   \n",
       "417989           0.136539        0.425192       0.305556                    0   \n",
       "417994           0.015693        0.193371       0.159091                    0   \n",
       "...                   ...             ...            ...                  ...   \n",
       "463875           0.023000        0.000000       0.083333                    0   \n",
       "463965           0.178296        0.054974       0.166667                    0   \n",
       "464018           0.160849        0.011635       0.250000                    0   \n",
       "464032           0.672495        0.375656       0.166667                    0   \n",
       "464055           0.023732        0.102188       0.486111                    0   \n",
       "\n",
       "        birth_year_mod  flag_miss_birth_year  \n",
       "417864          1961.5                     0  \n",
       "417890          1960.0                     0  \n",
       "417942          1962.0                     0  \n",
       "417989          1970.5                     0  \n",
       "417994          1978.0                     0  \n",
       "...                ...                   ...  \n",
       "463875          1975.0                     0  \n",
       "463965          1959.0                     0  \n",
       "464018          1953.0                     0  \n",
       "464032          1961.5                     0  \n",
       "464055          1984.0                     0  \n",
       "\n",
       "[1037 rows x 63 columns]"
      ]
     },
     "execution_count": 22,
     "metadata": {},
     "output_type": "execute_result"
    }
   ],
   "source": [
    "# look at cross section\n",
    "holdout_data = holdout_data.query(\"year==2014 & status_alive == 1\")\n",
    "# look at firms below 10m euro revenues and above 1000 euros\n",
    "holdout_data = holdout_data.query(\"sales<=10000000 & sales>=1000\")\n",
    "holdout_data"
   ]
  },
  {
   "cell_type": "code",
   "execution_count": 23,
   "id": "29ad61ab-a12b-4954-9722-1cf782cd94fd",
   "metadata": {
    "tags": []
   },
   "outputs": [
    {
     "data": {
      "text/plain": [
       "count       1037.000\n",
       "mean      490202.218\n",
       "std      1154087.414\n",
       "min         1070.370\n",
       "25%        21766.666\n",
       "50%        72700.000\n",
       "75%       333888.875\n",
       "max      9576485.000\n",
       "Name: sales, dtype: float64"
      ]
     },
     "execution_count": 23,
     "metadata": {},
     "output_type": "execute_result"
    }
   ],
   "source": [
    "round(holdout_data.sales.describe(), 3)"
   ]
  },
  {
   "cell_type": "code",
   "execution_count": 24,
   "id": "e9fe04c8-69ab-4cc9-a643-eb803067652f",
   "metadata": {
    "tags": []
   },
   "outputs": [
    {
     "data": {
      "text/plain": [
       "default\n",
       "0    981\n",
       "1     56\n",
       "Name: count, dtype: int64"
      ]
     },
     "execution_count": 24,
     "metadata": {},
     "output_type": "execute_result"
    }
   ],
   "source": [
    "holdout_data.default.value_counts()"
   ]
  },
  {
   "cell_type": "markdown",
   "id": "a0b12787-eab0-40b3-a591-2c5cbaca2603",
   "metadata": {},
   "source": [
    "The holdout_data now contains the right dataset (1037 observations, 56 defaults, correct sales figures)."
   ]
  },
  {
   "cell_type": "code",
   "execution_count": 25,
   "id": "f8183401-be14-448a-a90a-7747a3918624",
   "metadata": {
    "tags": []
   },
   "outputs": [
    {
     "data": {
      "image/png": "[encoded data removed]",
      "text/plain": [
       "<Figure size 640x480 with 1 Axes>"
      ]
     },
     "metadata": {
      "image/png": {
       "height": 480,
       "width": 640
      }
     },
     "output_type": "display_data"
    },
    {
     "data": {
      "text/plain": [
       "<Figure Size: (640 x 480)>"
      ]
     },
     "execution_count": 25,
     "metadata": {},
     "output_type": "execute_result"
    }
   ],
   "source": [
    "ggplot(holdout_data, aes(\"sales\")) + geom_histogram() + theme_bw()"
   ]
  },
  {
   "cell_type": "markdown",
   "id": "24221095-fdfd-4e05-a8dd-7695b65c750b",
   "metadata": {},
   "source": [
    "Most companies' sales are below 1M EUR in the holdout data."
   ]
  },
  {
   "cell_type": "code",
   "execution_count": 26,
   "id": "e962f389-ca36-4ff3-84b3-c982c1aec4fc",
   "metadata": {
    "tags": []
   },
   "outputs": [
    {
     "name": "stdout",
     "output_type": "stream",
     "text": [
      "<class 'pandas.core.frame.DataFrame'>\n",
      "Index: 1037 entries, 417864 to 464055\n",
      "Data columns (total 63 columns):\n",
      " #   Column                Non-Null Count  Dtype   \n",
      "---  ------                --------------  -----   \n",
      " 0   year                  1037 non-null   int64   \n",
      " 1   comp_id               1037 non-null   float64 \n",
      " 2   begin                 1037 non-null   object  \n",
      " 3   end                   1037 non-null   object  \n",
      " 4   amort                 1035 non-null   float64 \n",
      " 5   curr_assets           1037 non-null   float64 \n",
      " 6   curr_liab             1037 non-null   float64 \n",
      " 7   extra_exp             1037 non-null   float64 \n",
      " 8   extra_inc             1037 non-null   float64 \n",
      " 9   extra_profit_loss     1037 non-null   float64 \n",
      " 10  fixed_assets          1037 non-null   float64 \n",
      " 11  inc_bef_tax           1037 non-null   float64 \n",
      " 12  intang_assets         1037 non-null   float64 \n",
      " 13  inventories           1037 non-null   float64 \n",
      " 14  liq_assets            1037 non-null   float64 \n",
      " 15  material_exp          1035 non-null   float64 \n",
      " 16  personnel_exp         1035 non-null   float64 \n",
      " 17  profit_loss_year      1037 non-null   float64 \n",
      " 18  sales                 1037 non-null   float64 \n",
      " 19  share_eq              1037 non-null   float64 \n",
      " 20  subscribed_cap        1037 non-null   float64 \n",
      " 21  tang_assets           1037 non-null   float64 \n",
      " 22  balsheet_flag         1037 non-null   float64 \n",
      " 23  balsheet_length       1037 non-null   float64 \n",
      " 24  balsheet_notfullyear  1037 non-null   float64 \n",
      " 25  founded_year          1006 non-null   float64 \n",
      " 26  ceo_count             1006 non-null   float64 \n",
      " 27  foreign               1006 non-null   float64 \n",
      " 28  female                1006 non-null   float64 \n",
      " 29  inoffice_days         1006 non-null   float64 \n",
      " 30  gender                1006 non-null   category\n",
      " 31  origin                1006 non-null   category\n",
      " 32  nace_main             1037 non-null   category\n",
      " 33  ind2                  1037 non-null   category\n",
      " 34  ind                   1037 non-null   category\n",
      " 35  urban_m               1037 non-null   category\n",
      " 36  region_m              1035 non-null   category\n",
      " 37  founded_date          1037 non-null   object  \n",
      " 38  age                   1006 non-null   float64 \n",
      " 39  status_alive          1037 non-null   int32   \n",
      " 40  default               1037 non-null   int32   \n",
      " 41  flag_asset_problem    1037 non-null   float64 \n",
      " 42  total_assets_bs       1037 non-null   float64 \n",
      " 43  extra_exp_pl          1037 non-null   float64 \n",
      " 44  extra_inc_pl          1037 non-null   float64 \n",
      " 45  extra_profit_loss_pl  1037 non-null   float64 \n",
      " 46  inc_bef_tax_pl        1037 non-null   float64 \n",
      " 47  inventories_pl        1037 non-null   float64 \n",
      " 48  material_exp_pl       1035 non-null   float64 \n",
      " 49  profit_loss_year_pl   1037 non-null   float64 \n",
      " 50  personnel_exp_pl      1035 non-null   float64 \n",
      " 51  intang_assets_bs      1037 non-null   float64 \n",
      " 52  curr_liab_bs          1037 non-null   float64 \n",
      " 53  fixed_assets_bs       1037 non-null   float64 \n",
      " 54  liq_assets_bs         1037 non-null   float64 \n",
      " 55  curr_assets_bs        1037 non-null   float64 \n",
      " 56  share_eq_bs           1037 non-null   float64 \n",
      " 57  subscribed_cap_bs     1037 non-null   float64 \n",
      " 58  tang_assets_bs        1037 non-null   float64 \n",
      " 59  labor_avg_mod         1037 non-null   float64 \n",
      " 60  flag_miss_labor_avg   1037 non-null   int32   \n",
      " 61  birth_year_mod        1037 non-null   float64 \n",
      " 62  flag_miss_birth_year  1037 non-null   int32   \n",
      "dtypes: category(7), float64(48), int32(4), int64(1), object(3)\n",
      "memory usage: 467.4+ KB\n"
     ]
    }
   ],
   "source": [
    "holdout_data.info()"
   ]
  },
  {
   "cell_type": "markdown",
   "id": "b3e72c07-1373-4d01-a73f-64f2aecf7807",
   "metadata": {},
   "source": [
    "The different training datasets will be taken from the `raw_data` DataFrame based on some criteria. "
   ]
  },
  {
   "cell_type": "code",
   "execution_count": 27,
   "id": "fb5b6250-5d3b-4291-a98b-45fb2c787f57",
   "metadata": {
    "tags": []
   },
   "outputs": [
    {
     "data": {
      "text/plain": [
       "(1050, 63)"
      ]
     },
     "execution_count": 27,
     "metadata": {},
     "output_type": "execute_result"
    }
   ],
   "source": [
    "# data1 will be the same industry with the same sales figure restrictions, just one year before - this will be a relatively small dataset.\n",
    "\n",
    "data1 = raw_data.query(\"year==2013 & status_alive == 1\")\n",
    "data1 = data1.query(\"sales<=10000000 & sales>=1000 & ind2 == 26\")\n",
    "data1.shape"
   ]
  },
  {
   "cell_type": "code",
   "execution_count": 28,
   "id": "272a8454-27a4-4c32-b68e-51555abb8d1d",
   "metadata": {
    "tags": []
   },
   "outputs": [
    {
     "data": {
      "text/plain": [
       "default\n",
       "0    999\n",
       "1     51\n",
       "Name: count, dtype: int64"
      ]
     },
     "execution_count": 28,
     "metadata": {},
     "output_type": "execute_result"
    }
   ],
   "source": [
    "data1.default.value_counts()"
   ]
  },
  {
   "cell_type": "code",
   "execution_count": 29,
   "id": "2a1fab14-56fe-4c45-84e4-5709d63d96c4",
   "metadata": {
    "tags": []
   },
   "outputs": [
    {
     "data": {
      "text/plain": [
       "count       1050.000\n",
       "mean      465587.543\n",
       "std      1173668.081\n",
       "min         1000.000\n",
       "25%        21786.112\n",
       "50%        70418.516\n",
       "75%       283219.438\n",
       "max      9811389.000\n",
       "Name: sales, dtype: float64"
      ]
     },
     "execution_count": 29,
     "metadata": {},
     "output_type": "execute_result"
    }
   ],
   "source": [
    "round(data1.sales.describe(), 3)"
   ]
  },
  {
   "cell_type": "markdown",
   "id": "af844f8e-0a9c-4d28-ac3f-882cd46525c8",
   "metadata": {},
   "source": [
    "This dataset has very similar number of defaults as our holdout dataset, although its mean sales are a bit lower. It is likely to be quite similar to it in other features too, althoug it is quite a small dataset (only 1050 observations)."
   ]
  },
  {
   "cell_type": "code",
   "execution_count": 30,
   "id": "24b86392-d3b2-46ee-9a3d-d3bb675c7bd1",
   "metadata": {
    "tags": []
   },
   "outputs": [
    {
     "data": {
      "text/plain": [
       "(20253, 63)"
      ]
     },
     "execution_count": 30,
     "metadata": {},
     "output_type": "execute_result"
    }
   ],
   "source": [
    "# data2 will include all industries (except the target) with the same sales figure restrictions, from the same year as our holdout data.\n",
    "\n",
    "data2 = raw_data.query(\"year==2014 & status_alive == 1\")\n",
    "data2 = data2.query(\"sales<=10000000 & sales>=1000 & ind2 != 26\")\n",
    "data2.shape"
   ]
  },
  {
   "cell_type": "code",
   "execution_count": 31,
   "id": "851b7fa3-0f55-472b-b218-48facc9c4a4d",
   "metadata": {
    "tags": []
   },
   "outputs": [
    {
     "data": {
      "text/plain": [
       "default\n",
       "0    18177\n",
       "1     2076\n",
       "Name: count, dtype: int64"
      ]
     },
     "execution_count": 31,
     "metadata": {},
     "output_type": "execute_result"
    }
   ],
   "source": [
    "data2.default.value_counts()"
   ]
  },
  {
   "cell_type": "markdown",
   "id": "8b79efad-baf4-4857-aa64-d4f4d3c49013",
   "metadata": {},
   "source": [
    "The default rate is higher than in the holdout set (around 10% vs 5%) but it is a much bigger sample."
   ]
  },
  {
   "cell_type": "code",
   "execution_count": 32,
   "id": "a66d5b18-5326-41d0-8a97-e40417d2b7c9",
   "metadata": {
    "tags": []
   },
   "outputs": [
    {
     "data": {
      "text/plain": [
       "count      20253.000\n",
       "mean      255986.021\n",
       "std       806844.236\n",
       "min         1000.000\n",
       "25%        17407.408\n",
       "50%        50481.480\n",
       "75%       157407.406\n",
       "max      9963926.000\n",
       "Name: sales, dtype: float64"
      ]
     },
     "execution_count": 32,
     "metadata": {},
     "output_type": "execute_result"
    }
   ],
   "source": [
    "round(data2.sales.describe(), 3)"
   ]
  },
  {
   "cell_type": "markdown",
   "id": "68615242-b946-4de9-9c79-87376fe8745f",
   "metadata": {},
   "source": [
    "Average sales are significantly lower than in the holdout set (256k vs 490k)."
   ]
  },
  {
   "cell_type": "code",
   "execution_count": 33,
   "id": "676821da-78ce-441d-810b-d79d40b56c68",
   "metadata": {
    "tags": []
   },
   "outputs": [
    {
     "data": {
      "text/plain": [
       "(936, 63)"
      ]
     },
     "execution_count": 33,
     "metadata": {},
     "output_type": "execute_result"
    }
   ],
   "source": [
    "# data3 will include the same industry but one year earlier and with an even narrower sales filter - \n",
    "# given that most of the companies in the holdout data have less than 1M EUR sales, this filter will be applied here.\n",
    "\n",
    "data3 = raw_data.query(\"year==2013 & status_alive == 1\")\n",
    "data3 = data3.query(\"sales<=1000000 & sales>=1000 & ind2 == 26\")\n",
    "data3.shape"
   ]
  },
  {
   "cell_type": "code",
   "execution_count": 34,
   "id": "f12643a8-07dc-41db-bb1a-66e5b649f589",
   "metadata": {
    "tags": []
   },
   "outputs": [
    {
     "data": {
      "text/plain": [
       "count       936.000\n",
       "mean     138134.962\n",
       "std      196431.376\n",
       "min        1000.000\n",
       "25%       18987.037\n",
       "50%       51279.631\n",
       "75%      165606.488\n",
       "max      986803.688\n",
       "Name: sales, dtype: float64"
      ]
     },
     "execution_count": 34,
     "metadata": {},
     "output_type": "execute_result"
    }
   ],
   "source": [
    "round(data3.sales.describe(), 3)"
   ]
  },
  {
   "cell_type": "code",
   "execution_count": 35,
   "id": "e8fb9ec9-3085-4e33-8467-5fe9230ca4ea",
   "metadata": {},
   "outputs": [
    {
     "data": {
      "text/plain": [
       "default\n",
       "0    887\n",
       "1     49\n",
       "Name: count, dtype: int64"
      ]
     },
     "execution_count": 35,
     "metadata": {},
     "output_type": "execute_result"
    }
   ],
   "source": [
    "data3.default.value_counts()"
   ]
  },
  {
   "cell_type": "code",
   "execution_count": 36,
   "id": "2807ec57-1eb1-4094-8474-25eda51e41f1",
   "metadata": {
    "tags": []
   },
   "outputs": [
    {
     "data": {
      "text/plain": [
       "amort                2\n",
       "material_exp         2\n",
       "personnel_exp        2\n",
       "founded_year        92\n",
       "ceo_count           92\n",
       "foreign             92\n",
       "female              92\n",
       "inoffice_days       92\n",
       "gender              92\n",
       "origin              92\n",
       "region_m             2\n",
       "age                 92\n",
       "material_exp_pl      2\n",
       "personnel_exp_pl     2\n",
       "dtype: int64"
      ]
     },
     "execution_count": 36,
     "metadata": {},
     "output_type": "execute_result"
    }
   ],
   "source": [
    "to_filter=data1.isna().sum()\n",
    "to_filter[to_filter>0]"
   ]
  },
  {
   "cell_type": "code",
   "execution_count": 37,
   "id": "8e4e0ea0-99b5-447c-9f53-f731224c1fba",
   "metadata": {
    "tags": []
   },
   "outputs": [
    {
     "data": {
      "text/plain": [
       "amort                    29\n",
       "curr_assets              12\n",
       "curr_liab                12\n",
       "fixed_assets             12\n",
       "intang_assets            12\n",
       "inventories              12\n",
       "liq_assets               12\n",
       "material_exp             29\n",
       "personnel_exp            29\n",
       "profit_loss_year         12\n",
       "share_eq                 12\n",
       "subscribed_cap           12\n",
       "tang_assets              12\n",
       "founded_year           1056\n",
       "ceo_count              1055\n",
       "foreign                1055\n",
       "female                 1055\n",
       "inoffice_days          1055\n",
       "gender                 1055\n",
       "origin                 1055\n",
       "nace_main                 5\n",
       "ind2                      5\n",
       "ind                     637\n",
       "region_m                 58\n",
       "founded_date              1\n",
       "age                    1056\n",
       "flag_asset_problem       12\n",
       "total_assets_bs          12\n",
       "inventories_pl           12\n",
       "material_exp_pl          29\n",
       "profit_loss_year_pl      12\n",
       "personnel_exp_pl         29\n",
       "dtype: int64"
      ]
     },
     "execution_count": 37,
     "metadata": {},
     "output_type": "execute_result"
    }
   ],
   "source": [
    "to_filter=data2.isna().sum()\n",
    "to_filter[to_filter>0]"
   ]
  },
  {
   "cell_type": "code",
   "execution_count": 38,
   "id": "8ec5dabb-30ef-439a-85c1-2a57853dd4ac",
   "metadata": {
    "tags": []
   },
   "outputs": [
    {
     "data": {
      "text/plain": [
       "amort                1\n",
       "material_exp         1\n",
       "personnel_exp        1\n",
       "founded_year        86\n",
       "ceo_count           86\n",
       "foreign             86\n",
       "female              86\n",
       "inoffice_days       86\n",
       "gender              86\n",
       "origin              86\n",
       "age                 86\n",
       "material_exp_pl      1\n",
       "personnel_exp_pl     1\n",
       "dtype: int64"
      ]
     },
     "execution_count": 38,
     "metadata": {},
     "output_type": "execute_result"
    }
   ],
   "source": [
    "to_filter=data3.isna().sum()\n",
    "to_filter[to_filter>0]"
   ]
  },
  {
   "cell_type": "markdown",
   "id": "27993f55-a306-49d4-a70f-218c8fd08384",
   "metadata": {},
   "source": [
    "Missing values will be dropped in data1-2-3. This will decrease the size of the datasets, but will retain only \"clean\" observations.\n",
    "To retain the full 1037 observations in the holdout data, there all missing values will be imputed (with mean for numerical, and mode for categorical variables). Flags are to be added for all imputations."
   ]
  },
  {
   "cell_type": "code",
   "execution_count": 39,
   "id": "3722241b-5437-49d1-8722-1556c34ce105",
   "metadata": {
    "tags": []
   },
   "outputs": [],
   "source": [
    "to_filter=data1.isna().sum()\n",
    "to_filter[to_filter>0]\n",
    "data1.dropna(subset=to_filter[to_filter>0].index, inplace = True)"
   ]
  },
  {
   "cell_type": "code",
   "execution_count": 40,
   "id": "ce7dc294-e48d-4d29-b60d-b88bcaaeaab6",
   "metadata": {
    "tags": []
   },
   "outputs": [],
   "source": [
    "to_filter=data2.isna().sum()\n",
    "to_filter[to_filter>0]\n",
    "data2.dropna(subset=to_filter[to_filter>0].index, inplace = True)"
   ]
  },
  {
   "cell_type": "code",
   "execution_count": 41,
   "id": "16d0a250-3979-4420-ac74-a4a594f9ff14",
   "metadata": {
    "tags": []
   },
   "outputs": [],
   "source": [
    "to_filter=data3.isna().sum()\n",
    "to_filter[to_filter>0]\n",
    "data3.dropna(subset=to_filter[to_filter>0].index, inplace = True)"
   ]
  },
  {
   "cell_type": "code",
   "execution_count": 42,
   "id": "ebe6121e-fda3-4da3-872b-bb15e82fe378",
   "metadata": {
    "tags": []
   },
   "outputs": [
    {
     "data": {
      "text/plain": [
       "amort                2\n",
       "material_exp         2\n",
       "personnel_exp        2\n",
       "founded_year        31\n",
       "ceo_count           31\n",
       "foreign             31\n",
       "female              31\n",
       "inoffice_days       31\n",
       "gender              31\n",
       "origin              31\n",
       "region_m             2\n",
       "age                 31\n",
       "material_exp_pl      2\n",
       "personnel_exp_pl     2\n",
       "dtype: int64"
      ]
     },
     "execution_count": 42,
     "metadata": {},
     "output_type": "execute_result"
    }
   ],
   "source": [
    "to_filter=holdout_data.isna().sum()\n",
    "to_filter[to_filter>0]"
   ]
  },
  {
   "cell_type": "code",
   "execution_count": 43,
   "id": "a24df480-586b-40b5-a425-a425107454cb",
   "metadata": {
    "tags": []
   },
   "outputs": [
    {
     "data": {
      "text/plain": [
       "count        955.000\n",
       "mean      461643.749\n",
       "std      1146901.911\n",
       "min         1000.000\n",
       "25%        21851.852\n",
       "50%        72066.664\n",
       "75%       289164.828\n",
       "max      9811389.000\n",
       "Name: sales, dtype: float64"
      ]
     },
     "execution_count": 43,
     "metadata": {},
     "output_type": "execute_result"
    }
   ],
   "source": [
    "# Let's check how much the sales and default figures have changed due to dropping the NA values\n",
    "\n",
    "round(data1.sales.describe(), 3)"
   ]
  },
  {
   "cell_type": "code",
   "execution_count": 44,
   "id": "ee082fbb-2487-4787-be5d-38eea106e99f",
   "metadata": {
    "tags": []
   },
   "outputs": [
    {
     "data": {
      "text/plain": [
       "count      18508.000\n",
       "mean      254143.352\n",
       "std       793106.390\n",
       "min         1000.000\n",
       "25%        17877.777\n",
       "50%        51572.223\n",
       "75%       159723.145\n",
       "max      9963926.000\n",
       "Name: sales, dtype: float64"
      ]
     },
     "execution_count": 44,
     "metadata": {},
     "output_type": "execute_result"
    }
   ],
   "source": [
    "round(data2.sales.describe(), 3)"
   ]
  },
  {
   "cell_type": "code",
   "execution_count": 45,
   "id": "58da6413-c1a5-4735-917b-54a371b28e51",
   "metadata": {
    "tags": []
   },
   "outputs": [
    {
     "data": {
      "text/plain": [
       "count       849.000\n",
       "mean     138906.431\n",
       "std      196094.571\n",
       "min        1000.000\n",
       "25%       18988.889\n",
       "50%       51481.480\n",
       "75%      167270.375\n",
       "max      986803.688\n",
       "Name: sales, dtype: float64"
      ]
     },
     "execution_count": 45,
     "metadata": {},
     "output_type": "execute_result"
    }
   ],
   "source": [
    "round(data3.sales.describe(), 3)"
   ]
  },
  {
   "cell_type": "code",
   "execution_count": 46,
   "id": "e9cadd80-5d65-43a8-9d71-799668a96f26",
   "metadata": {
    "tags": []
   },
   "outputs": [
    {
     "data": {
      "text/plain": [
       "default\n",
       "0    909\n",
       "1     46\n",
       "Name: count, dtype: int64"
      ]
     },
     "execution_count": 46,
     "metadata": {},
     "output_type": "execute_result"
    }
   ],
   "source": [
    "data1.default.value_counts()"
   ]
  },
  {
   "cell_type": "code",
   "execution_count": 47,
   "id": "015c2dc5-a21b-4961-840a-52ace7f40156",
   "metadata": {
    "tags": []
   },
   "outputs": [
    {
     "data": {
      "text/plain": [
       "default\n",
       "0    16659\n",
       "1     1849\n",
       "Name: count, dtype: int64"
      ]
     },
     "execution_count": 47,
     "metadata": {},
     "output_type": "execute_result"
    }
   ],
   "source": [
    "data2.default.value_counts()"
   ]
  },
  {
   "cell_type": "code",
   "execution_count": 48,
   "id": "4421ff88-3a04-4920-9a20-a731b6b2a97c",
   "metadata": {
    "tags": []
   },
   "outputs": [
    {
     "data": {
      "text/plain": [
       "default\n",
       "0    805\n",
       "1     44\n",
       "Name: count, dtype: int64"
      ]
     },
     "execution_count": 48,
     "metadata": {},
     "output_type": "execute_result"
    }
   ],
   "source": [
    "data3.default.value_counts()"
   ]
  },
  {
   "cell_type": "markdown",
   "id": "b38b8aff-8fb2-445a-b8fa-593eb3934ff0",
   "metadata": {},
   "source": [
    "No major change to sales and default ratios."
   ]
  },
  {
   "cell_type": "code",
   "execution_count": 49,
   "id": "01beb27c-2e1e-4196-bd39-eaa2aac24b47",
   "metadata": {
    "tags": []
   },
   "outputs": [],
   "source": [
    "# defining functions to impute\n",
    "\n",
    "def impute_num(data, column):\n",
    "    data[\"flag_\"+ column] = (data[column].isna()).astype(int)\n",
    "    data[column] = np.where (\n",
    "        data[column].isna(), data[column].mean(), data[column]\n",
    "    )\n",
    "    \n",
    "\n",
    "def impute_cat(data, column):\n",
    "    data[\"flag_\"+ column] = (data[column].isna()).astype(int)  \n",
    "    data[column] = np.where (\n",
    "        data[column].isna(), data[column].mode(), data[column]\n",
    "    )\n",
    "    \n",
    "impute_num_list = [\"amort\", \"material_exp\", \"personnel_exp\", \"founded_year\", \"ceo_count\", \"foreign\", \"female\", \"inoffice_days\", \"age\"]\n",
    "impute_cat_list = [\"gender\", \"origin\", \"region_m\"]"
   ]
  },
  {
   "cell_type": "markdown",
   "id": "c16a4eed-d13f-448a-a00d-e3269037cb3b",
   "metadata": {},
   "source": [
    "The datasets will be created in the following way: the holdout set and the different training sets will be merged pairwise. Later for the anaylses, we will be able to separate them based on their indexing. All NaN values can be replaced with 0, as there were no imputations in data1, data2 and data3."
   ]
  },
  {
   "cell_type": "code",
   "execution_count": 50,
   "id": "7492b4c2-d8a0-4a98-8fce-63f71237bf58",
   "metadata": {
    "tags": []
   },
   "outputs": [
    {
     "data": {
      "text/html": [
       "<div>\n",
       "<style scoped>\n",
       "    .dataframe tbody tr th:only-of-type {\n",
       "        vertical-align: middle;\n",
       "    }\n",
       "\n",
       "    .dataframe tbody tr th {\n",
       "        vertical-align: top;\n",
       "    }\n",
       "\n",
       "    .dataframe thead th {\n",
       "        text-align: right;\n",
       "    }\n",
       "</style>\n",
       "<table border=\"1\" class=\"dataframe\">\n",
       "  <thead>\n",
       "    <tr style=\"text-align: right;\">\n",
       "      <th></th>\n",
       "      <th>year</th>\n",
       "      <th>comp_id</th>\n",
       "      <th>begin</th>\n",
       "      <th>end</th>\n",
       "      <th>amort</th>\n",
       "      <th>curr_assets</th>\n",
       "      <th>curr_liab</th>\n",
       "      <th>extra_exp</th>\n",
       "      <th>extra_inc</th>\n",
       "      <th>extra_profit_loss</th>\n",
       "      <th>...</th>\n",
       "      <th>fixed_assets_bs</th>\n",
       "      <th>liq_assets_bs</th>\n",
       "      <th>curr_assets_bs</th>\n",
       "      <th>share_eq_bs</th>\n",
       "      <th>subscribed_cap_bs</th>\n",
       "      <th>tang_assets_bs</th>\n",
       "      <th>labor_avg_mod</th>\n",
       "      <th>flag_miss_labor_avg</th>\n",
       "      <th>birth_year_mod</th>\n",
       "      <th>flag_miss_birth_year</th>\n",
       "    </tr>\n",
       "  </thead>\n",
       "  <tbody>\n",
       "    <tr>\n",
       "      <th>371478</th>\n",
       "      <td>2013</td>\n",
       "      <td>8.416055e+06</td>\n",
       "      <td>2013-01-01</td>\n",
       "      <td>2013-12-31</td>\n",
       "      <td>266.666656</td>\n",
       "      <td>106448.148438</td>\n",
       "      <td>4674.074219</td>\n",
       "      <td>0.000000</td>\n",
       "      <td>0.0</td>\n",
       "      <td>0.000000</td>\n",
       "      <td>...</td>\n",
       "      <td>0.068816</td>\n",
       "      <td>0.755030</td>\n",
       "      <td>0.931184</td>\n",
       "      <td>0.964490</td>\n",
       "      <td>0.097197</td>\n",
       "      <td>0.068816</td>\n",
       "      <td>0.083333</td>\n",
       "      <td>0</td>\n",
       "      <td>1960.0</td>\n",
       "      <td>0</td>\n",
       "    </tr>\n",
       "    <tr>\n",
       "      <th>371577</th>\n",
       "      <td>2013</td>\n",
       "      <td>1.777654e+07</td>\n",
       "      <td>2013-01-01</td>\n",
       "      <td>2013-12-31</td>\n",
       "      <td>34155.554688</td>\n",
       "      <td>61011.109375</td>\n",
       "      <td>79103.703125</td>\n",
       "      <td>0.000000</td>\n",
       "      <td>0.0</td>\n",
       "      <td>0.000000</td>\n",
       "      <td>...</td>\n",
       "      <td>0.662866</td>\n",
       "      <td>0.027037</td>\n",
       "      <td>0.225509</td>\n",
       "      <td>0.516961</td>\n",
       "      <td>0.177965</td>\n",
       "      <td>0.551240</td>\n",
       "      <td>0.180556</td>\n",
       "      <td>0</td>\n",
       "      <td>1970.5</td>\n",
       "      <td>0</td>\n",
       "    </tr>\n",
       "    <tr>\n",
       "      <th>371582</th>\n",
       "      <td>2013</td>\n",
       "      <td>1.862676e+07</td>\n",
       "      <td>2013-01-01</td>\n",
       "      <td>2013-12-31</td>\n",
       "      <td>1518.518555</td>\n",
       "      <td>101422.218750</td>\n",
       "      <td>38200.000000</td>\n",
       "      <td>951.851868</td>\n",
       "      <td>0.0</td>\n",
       "      <td>-951.851868</td>\n",
       "      <td>...</td>\n",
       "      <td>0.037029</td>\n",
       "      <td>0.320568</td>\n",
       "      <td>0.962971</td>\n",
       "      <td>0.625734</td>\n",
       "      <td>0.017583</td>\n",
       "      <td>0.037029</td>\n",
       "      <td>0.152778</td>\n",
       "      <td>0</td>\n",
       "      <td>1978.0</td>\n",
       "      <td>0</td>\n",
       "    </tr>\n",
       "    <tr>\n",
       "      <th>371697</th>\n",
       "      <td>2013</td>\n",
       "      <td>3.447888e+07</td>\n",
       "      <td>2013-01-01</td>\n",
       "      <td>2013-12-31</td>\n",
       "      <td>333.333344</td>\n",
       "      <td>3940.740723</td>\n",
       "      <td>3129.629639</td>\n",
       "      <td>0.000000</td>\n",
       "      <td>0.0</td>\n",
       "      <td>0.000000</td>\n",
       "      <td>...</td>\n",
       "      <td>0.371984</td>\n",
       "      <td>0.053561</td>\n",
       "      <td>0.626251</td>\n",
       "      <td>0.520895</td>\n",
       "      <td>0.294291</td>\n",
       "      <td>0.370218</td>\n",
       "      <td>0.083333</td>\n",
       "      <td>0</td>\n",
       "      <td>1956.0</td>\n",
       "      <td>0</td>\n",
       "    </tr>\n",
       "    <tr>\n",
       "      <th>371709</th>\n",
       "      <td>2013</td>\n",
       "      <td>3.648780e+07</td>\n",
       "      <td>2013-01-01</td>\n",
       "      <td>2013-12-31</td>\n",
       "      <td>351.851837</td>\n",
       "      <td>5837.037109</td>\n",
       "      <td>2129.629639</td>\n",
       "      <td>0.000000</td>\n",
       "      <td>0.0</td>\n",
       "      <td>0.000000</td>\n",
       "      <td>...</td>\n",
       "      <td>0.000000</td>\n",
       "      <td>0.607868</td>\n",
       "      <td>1.000000</td>\n",
       "      <td>0.579315</td>\n",
       "      <td>0.317259</td>\n",
       "      <td>0.000000</td>\n",
       "      <td>1.009435</td>\n",
       "      <td>1</td>\n",
       "      <td>1979.0</td>\n",
       "      <td>0</td>\n",
       "    </tr>\n",
       "    <tr>\n",
       "      <th>...</th>\n",
       "      <td>...</td>\n",
       "      <td>...</td>\n",
       "      <td>...</td>\n",
       "      <td>...</td>\n",
       "      <td>...</td>\n",
       "      <td>...</td>\n",
       "      <td>...</td>\n",
       "      <td>...</td>\n",
       "      <td>...</td>\n",
       "      <td>...</td>\n",
       "      <td>...</td>\n",
       "      <td>...</td>\n",
       "      <td>...</td>\n",
       "      <td>...</td>\n",
       "      <td>...</td>\n",
       "      <td>...</td>\n",
       "      <td>...</td>\n",
       "      <td>...</td>\n",
       "      <td>...</td>\n",
       "      <td>...</td>\n",
       "      <td>...</td>\n",
       "    </tr>\n",
       "    <tr>\n",
       "      <th>463875</th>\n",
       "      <td>2014</td>\n",
       "      <td>4.593723e+11</td>\n",
       "      <td>2014-01-01</td>\n",
       "      <td>2014-12-31</td>\n",
       "      <td>0.000000</td>\n",
       "      <td>40740.742188</td>\n",
       "      <td>559.259277</td>\n",
       "      <td>0.000000</td>\n",
       "      <td>0.0</td>\n",
       "      <td>0.000000</td>\n",
       "      <td>...</td>\n",
       "      <td>0.000000</td>\n",
       "      <td>0.943727</td>\n",
       "      <td>1.000000</td>\n",
       "      <td>0.986273</td>\n",
       "      <td>0.023000</td>\n",
       "      <td>0.000000</td>\n",
       "      <td>0.083333</td>\n",
       "      <td>0</td>\n",
       "      <td>1975.0</td>\n",
       "      <td>0</td>\n",
       "    </tr>\n",
       "    <tr>\n",
       "      <th>463965</th>\n",
       "      <td>2014</td>\n",
       "      <td>4.610112e+11</td>\n",
       "      <td>2014-01-01</td>\n",
       "      <td>2014-12-31</td>\n",
       "      <td>429.629639</td>\n",
       "      <td>58781.480469</td>\n",
       "      <td>2651.851807</td>\n",
       "      <td>0.000000</td>\n",
       "      <td>0.0</td>\n",
       "      <td>0.000000</td>\n",
       "      <td>...</td>\n",
       "      <td>0.055866</td>\n",
       "      <td>0.637822</td>\n",
       "      <td>0.943243</td>\n",
       "      <td>0.957387</td>\n",
       "      <td>0.178296</td>\n",
       "      <td>0.054974</td>\n",
       "      <td>0.166667</td>\n",
       "      <td>0</td>\n",
       "      <td>1959.0</td>\n",
       "      <td>0</td>\n",
       "    </tr>\n",
       "    <tr>\n",
       "      <th>464018</th>\n",
       "      <td>2014</td>\n",
       "      <td>4.620594e+11</td>\n",
       "      <td>2014-01-01</td>\n",
       "      <td>2014-12-31</td>\n",
       "      <td>1111.111084</td>\n",
       "      <td>68274.070312</td>\n",
       "      <td>16211.111328</td>\n",
       "      <td>0.000000</td>\n",
       "      <td>0.0</td>\n",
       "      <td>0.000000</td>\n",
       "      <td>...</td>\n",
       "      <td>0.011635</td>\n",
       "      <td>0.024288</td>\n",
       "      <td>0.988365</td>\n",
       "      <td>0.765321</td>\n",
       "      <td>0.160849</td>\n",
       "      <td>0.011635</td>\n",
       "      <td>0.250000</td>\n",
       "      <td>0</td>\n",
       "      <td>1953.0</td>\n",
       "      <td>0</td>\n",
       "    </tr>\n",
       "    <tr>\n",
       "      <th>464032</th>\n",
       "      <td>2014</td>\n",
       "      <td>4.623300e+11</td>\n",
       "      <td>2014-01-01</td>\n",
       "      <td>2014-12-31</td>\n",
       "      <td>0.000000</td>\n",
       "      <td>17192.591797</td>\n",
       "      <td>7325.925781</td>\n",
       "      <td>0.000000</td>\n",
       "      <td>0.0</td>\n",
       "      <td>0.000000</td>\n",
       "      <td>...</td>\n",
       "      <td>0.375656</td>\n",
       "      <td>0.368796</td>\n",
       "      <td>0.624344</td>\n",
       "      <td>0.654472</td>\n",
       "      <td>0.672495</td>\n",
       "      <td>0.375656</td>\n",
       "      <td>0.166667</td>\n",
       "      <td>0</td>\n",
       "      <td>1961.5</td>\n",
       "      <td>0</td>\n",
       "    </tr>\n",
       "    <tr>\n",
       "      <th>464055</th>\n",
       "      <td>2014</td>\n",
       "      <td>4.628231e+11</td>\n",
       "      <td>2014-01-01</td>\n",
       "      <td>2014-12-31</td>\n",
       "      <td>2581.481445</td>\n",
       "      <td>70059.257812</td>\n",
       "      <td>74911.109375</td>\n",
       "      <td>0.000000</td>\n",
       "      <td>0.0</td>\n",
       "      <td>0.000000</td>\n",
       "      <td>...</td>\n",
       "      <td>0.102188</td>\n",
       "      <td>0.288101</td>\n",
       "      <td>0.897812</td>\n",
       "      <td>0.040011</td>\n",
       "      <td>0.023732</td>\n",
       "      <td>0.102188</td>\n",
       "      <td>0.486111</td>\n",
       "      <td>0</td>\n",
       "      <td>1984.0</td>\n",
       "      <td>0</td>\n",
       "    </tr>\n",
       "  </tbody>\n",
       "</table>\n",
       "<p>1992 rows × 63 columns</p>\n",
       "</div>"
      ],
      "text/plain": [
       "        year       comp_id       begin         end         amort  \\\n",
       "371478  2013  8.416055e+06  2013-01-01  2013-12-31    266.666656   \n",
       "371577  2013  1.777654e+07  2013-01-01  2013-12-31  34155.554688   \n",
       "371582  2013  1.862676e+07  2013-01-01  2013-12-31   1518.518555   \n",
       "371697  2013  3.447888e+07  2013-01-01  2013-12-31    333.333344   \n",
       "371709  2013  3.648780e+07  2013-01-01  2013-12-31    351.851837   \n",
       "...      ...           ...         ...         ...           ...   \n",
       "463875  2014  4.593723e+11  2014-01-01  2014-12-31      0.000000   \n",
       "463965  2014  4.610112e+11  2014-01-01  2014-12-31    429.629639   \n",
       "464018  2014  4.620594e+11  2014-01-01  2014-12-31   1111.111084   \n",
       "464032  2014  4.623300e+11  2014-01-01  2014-12-31      0.000000   \n",
       "464055  2014  4.628231e+11  2014-01-01  2014-12-31   2581.481445   \n",
       "\n",
       "          curr_assets     curr_liab   extra_exp  extra_inc  extra_profit_loss  \\\n",
       "371478  106448.148438   4674.074219    0.000000        0.0           0.000000   \n",
       "371577   61011.109375  79103.703125    0.000000        0.0           0.000000   \n",
       "371582  101422.218750  38200.000000  951.851868        0.0        -951.851868   \n",
       "371697    3940.740723   3129.629639    0.000000        0.0           0.000000   \n",
       "371709    5837.037109   2129.629639    0.000000        0.0           0.000000   \n",
       "...               ...           ...         ...        ...                ...   \n",
       "463875   40740.742188    559.259277    0.000000        0.0           0.000000   \n",
       "463965   58781.480469   2651.851807    0.000000        0.0           0.000000   \n",
       "464018   68274.070312  16211.111328    0.000000        0.0           0.000000   \n",
       "464032   17192.591797   7325.925781    0.000000        0.0           0.000000   \n",
       "464055   70059.257812  74911.109375    0.000000        0.0           0.000000   \n",
       "\n",
       "        ...  fixed_assets_bs  liq_assets_bs  curr_assets_bs  share_eq_bs  \\\n",
       "371478  ...         0.068816       0.755030        0.931184     0.964490   \n",
       "371577  ...         0.662866       0.027037        0.225509     0.516961   \n",
       "371582  ...         0.037029       0.320568        0.962971     0.625734   \n",
       "371697  ...         0.371984       0.053561        0.626251     0.520895   \n",
       "371709  ...         0.000000       0.607868        1.000000     0.579315   \n",
       "...     ...              ...            ...             ...          ...   \n",
       "463875  ...         0.000000       0.943727        1.000000     0.986273   \n",
       "463965  ...         0.055866       0.637822        0.943243     0.957387   \n",
       "464018  ...         0.011635       0.024288        0.988365     0.765321   \n",
       "464032  ...         0.375656       0.368796        0.624344     0.654472   \n",
       "464055  ...         0.102188       0.288101        0.897812     0.040011   \n",
       "\n",
       "        subscribed_cap_bs  tang_assets_bs  labor_avg_mod  flag_miss_labor_avg  \\\n",
       "371478           0.097197        0.068816       0.083333                    0   \n",
       "371577           0.177965        0.551240       0.180556                    0   \n",
       "371582           0.017583        0.037029       0.152778                    0   \n",
       "371697           0.294291        0.370218       0.083333                    0   \n",
       "371709           0.317259        0.000000       1.009435                    1   \n",
       "...                   ...             ...            ...                  ...   \n",
       "463875           0.023000        0.000000       0.083333                    0   \n",
       "463965           0.178296        0.054974       0.166667                    0   \n",
       "464018           0.160849        0.011635       0.250000                    0   \n",
       "464032           0.672495        0.375656       0.166667                    0   \n",
       "464055           0.023732        0.102188       0.486111                    0   \n",
       "\n",
       "        birth_year_mod  flag_miss_birth_year  \n",
       "371478          1960.0                     0  \n",
       "371577          1970.5                     0  \n",
       "371582          1978.0                     0  \n",
       "371697          1956.0                     0  \n",
       "371709          1979.0                     0  \n",
       "...                ...                   ...  \n",
       "463875          1975.0                     0  \n",
       "463965          1959.0                     0  \n",
       "464018          1953.0                     0  \n",
       "464032          1961.5                     0  \n",
       "464055          1984.0                     0  \n",
       "\n",
       "[1992 rows x 63 columns]"
      ]
     },
     "execution_count": 50,
     "metadata": {},
     "output_type": "execute_result"
    }
   ],
   "source": [
    "dataset1 = pd.concat([data1, holdout_data])\n",
    "dataset1"
   ]
  },
  {
   "cell_type": "code",
   "execution_count": 51,
   "id": "aae5c15e-75df-450d-bbb2-7947f7a1c85b",
   "metadata": {
    "tags": []
   },
   "outputs": [
    {
     "name": "stdout",
     "output_type": "stream",
     "text": [
      "<class 'pandas.core.frame.DataFrame'>\n",
      "Index: 1992 entries, 371478 to 464055\n",
      "Data columns (total 63 columns):\n",
      " #   Column                Non-Null Count  Dtype   \n",
      "---  ------                --------------  -----   \n",
      " 0   year                  1992 non-null   int64   \n",
      " 1   comp_id               1992 non-null   float64 \n",
      " 2   begin                 1992 non-null   object  \n",
      " 3   end                   1992 non-null   object  \n",
      " 4   amort                 1990 non-null   float64 \n",
      " 5   curr_assets           1992 non-null   float64 \n",
      " 6   curr_liab             1992 non-null   float64 \n",
      " 7   extra_exp             1992 non-null   float64 \n",
      " 8   extra_inc             1992 non-null   float64 \n",
      " 9   extra_profit_loss     1992 non-null   float64 \n",
      " 10  fixed_assets          1992 non-null   float64 \n",
      " 11  inc_bef_tax           1992 non-null   float64 \n",
      " 12  intang_assets         1992 non-null   float64 \n",
      " 13  inventories           1992 non-null   float64 \n",
      " 14  liq_assets            1992 non-null   float64 \n",
      " 15  material_exp          1990 non-null   float64 \n",
      " 16  personnel_exp         1990 non-null   float64 \n",
      " 17  profit_loss_year      1992 non-null   float64 \n",
      " 18  sales                 1992 non-null   float64 \n",
      " 19  share_eq              1992 non-null   float64 \n",
      " 20  subscribed_cap        1992 non-null   float64 \n",
      " 21  tang_assets           1992 non-null   float64 \n",
      " 22  balsheet_flag         1992 non-null   float64 \n",
      " 23  balsheet_length       1992 non-null   float64 \n",
      " 24  balsheet_notfullyear  1992 non-null   float64 \n",
      " 25  founded_year          1961 non-null   float64 \n",
      " 26  ceo_count             1961 non-null   float64 \n",
      " 27  foreign               1961 non-null   float64 \n",
      " 28  female                1961 non-null   float64 \n",
      " 29  inoffice_days         1961 non-null   float64 \n",
      " 30  gender                1961 non-null   category\n",
      " 31  origin                1961 non-null   category\n",
      " 32  nace_main             1992 non-null   category\n",
      " 33  ind2                  1992 non-null   category\n",
      " 34  ind                   1992 non-null   category\n",
      " 35  urban_m               1992 non-null   category\n",
      " 36  region_m              1990 non-null   category\n",
      " 37  founded_date          1992 non-null   object  \n",
      " 38  age                   1961 non-null   float64 \n",
      " 39  status_alive          1992 non-null   int32   \n",
      " 40  default               1992 non-null   int32   \n",
      " 41  flag_asset_problem    1992 non-null   float64 \n",
      " 42  total_assets_bs       1992 non-null   float64 \n",
      " 43  extra_exp_pl          1992 non-null   float64 \n",
      " 44  extra_inc_pl          1992 non-null   float64 \n",
      " 45  extra_profit_loss_pl  1992 non-null   float64 \n",
      " 46  inc_bef_tax_pl        1992 non-null   float64 \n",
      " 47  inventories_pl        1992 non-null   float64 \n",
      " 48  material_exp_pl       1990 non-null   float64 \n",
      " 49  profit_loss_year_pl   1992 non-null   float64 \n",
      " 50  personnel_exp_pl      1990 non-null   float64 \n",
      " 51  intang_assets_bs      1992 non-null   float64 \n",
      " 52  curr_liab_bs          1992 non-null   float64 \n",
      " 53  fixed_assets_bs       1992 non-null   float64 \n",
      " 54  liq_assets_bs         1992 non-null   float64 \n",
      " 55  curr_assets_bs        1992 non-null   float64 \n",
      " 56  share_eq_bs           1992 non-null   float64 \n",
      " 57  subscribed_cap_bs     1992 non-null   float64 \n",
      " 58  tang_assets_bs        1992 non-null   float64 \n",
      " 59  labor_avg_mod         1992 non-null   float64 \n",
      " 60  flag_miss_labor_avg   1992 non-null   int32   \n",
      " 61  birth_year_mod        1992 non-null   float64 \n",
      " 62  flag_miss_birth_year  1992 non-null   int32   \n",
      "dtypes: category(7), float64(48), int32(4), int64(1), object(3)\n",
      "memory usage: 885.2+ KB\n"
     ]
    }
   ],
   "source": [
    "dataset1.info()"
   ]
  },
  {
   "cell_type": "code",
   "execution_count": 52,
   "id": "6d72a4e8-ce3c-4ba5-ba2a-12e5045d8186",
   "metadata": {
    "tags": []
   },
   "outputs": [
    {
     "data": {
      "text/plain": [
       "material_exp_pl     2\n",
       "personnel_exp_pl    2\n",
       "dtype: int64"
      ]
     },
     "execution_count": 52,
     "metadata": {},
     "output_type": "execute_result"
    }
   ],
   "source": [
    "for col in impute_num_list:\n",
    "    impute_num(dataset1, col)\n",
    "\n",
    "for col in impute_cat_list:\n",
    "    impute_cat(dataset1, col)\n",
    "    \n",
    "to_filter=dataset1.isna().sum()\n",
    "to_filter[to_filter>0]"
   ]
  },
  {
   "cell_type": "code",
   "execution_count": 53,
   "id": "be65601c-cd02-4bc9-970f-9bf81b89dbd3",
   "metadata": {
    "tags": []
   },
   "outputs": [
    {
     "name": "stdout",
     "output_type": "stream",
     "text": [
      "<class 'pandas.core.frame.DataFrame'>\n",
      "Index: 1992 entries, 371478 to 464055\n",
      "Data columns (total 75 columns):\n",
      " #   Column                Non-Null Count  Dtype   \n",
      "---  ------                --------------  -----   \n",
      " 0   year                  1992 non-null   int64   \n",
      " 1   comp_id               1992 non-null   float64 \n",
      " 2   begin                 1992 non-null   object  \n",
      " 3   end                   1992 non-null   object  \n",
      " 4   amort                 1992 non-null   float64 \n",
      " 5   curr_assets           1992 non-null   float64 \n",
      " 6   curr_liab             1992 non-null   float64 \n",
      " 7   extra_exp             1992 non-null   float64 \n",
      " 8   extra_inc             1992 non-null   float64 \n",
      " 9   extra_profit_loss     1992 non-null   float64 \n",
      " 10  fixed_assets          1992 non-null   float64 \n",
      " 11  inc_bef_tax           1992 non-null   float64 \n",
      " 12  intang_assets         1992 non-null   float64 \n",
      " 13  inventories           1992 non-null   float64 \n",
      " 14  liq_assets            1992 non-null   float64 \n",
      " 15  material_exp          1992 non-null   float64 \n",
      " 16  personnel_exp         1992 non-null   float64 \n",
      " 17  profit_loss_year      1992 non-null   float64 \n",
      " 18  sales                 1992 non-null   float64 \n",
      " 19  share_eq              1992 non-null   float64 \n",
      " 20  subscribed_cap        1992 non-null   float64 \n",
      " 21  tang_assets           1992 non-null   float64 \n",
      " 22  balsheet_flag         1992 non-null   float64 \n",
      " 23  balsheet_length       1992 non-null   float64 \n",
      " 24  balsheet_notfullyear  1992 non-null   float64 \n",
      " 25  founded_year          1992 non-null   float64 \n",
      " 26  ceo_count             1992 non-null   float64 \n",
      " 27  foreign               1992 non-null   float64 \n",
      " 28  female                1992 non-null   float64 \n",
      " 29  inoffice_days         1992 non-null   float64 \n",
      " 30  gender                1992 non-null   object  \n",
      " 31  origin                1992 non-null   object  \n",
      " 32  nace_main             1992 non-null   category\n",
      " 33  ind2                  1992 non-null   category\n",
      " 34  ind                   1992 non-null   category\n",
      " 35  urban_m               1992 non-null   category\n",
      " 36  region_m              1992 non-null   object  \n",
      " 37  founded_date          1992 non-null   object  \n",
      " 38  age                   1992 non-null   float64 \n",
      " 39  status_alive          1992 non-null   int32   \n",
      " 40  default               1992 non-null   int32   \n",
      " 41  flag_asset_problem    1992 non-null   float64 \n",
      " 42  total_assets_bs       1992 non-null   float64 \n",
      " 43  extra_exp_pl          1992 non-null   float64 \n",
      " 44  extra_inc_pl          1992 non-null   float64 \n",
      " 45  extra_profit_loss_pl  1992 non-null   float64 \n",
      " 46  inc_bef_tax_pl        1992 non-null   float64 \n",
      " 47  inventories_pl        1992 non-null   float64 \n",
      " 48  material_exp_pl       1990 non-null   float64 \n",
      " 49  profit_loss_year_pl   1992 non-null   float64 \n",
      " 50  personnel_exp_pl      1990 non-null   float64 \n",
      " 51  intang_assets_bs      1992 non-null   float64 \n",
      " 52  curr_liab_bs          1992 non-null   float64 \n",
      " 53  fixed_assets_bs       1992 non-null   float64 \n",
      " 54  liq_assets_bs         1992 non-null   float64 \n",
      " 55  curr_assets_bs        1992 non-null   float64 \n",
      " 56  share_eq_bs           1992 non-null   float64 \n",
      " 57  subscribed_cap_bs     1992 non-null   float64 \n",
      " 58  tang_assets_bs        1992 non-null   float64 \n",
      " 59  labor_avg_mod         1992 non-null   float64 \n",
      " 60  flag_miss_labor_avg   1992 non-null   int32   \n",
      " 61  birth_year_mod        1992 non-null   float64 \n",
      " 62  flag_miss_birth_year  1992 non-null   int32   \n",
      " 63  flag_amort            1992 non-null   int32   \n",
      " 64  flag_material_exp     1992 non-null   int32   \n",
      " 65  flag_personnel_exp    1992 non-null   int32   \n",
      " 66  flag_founded_year     1992 non-null   int32   \n",
      " 67  flag_ceo_count        1992 non-null   int32   \n",
      " 68  flag_foreign          1992 non-null   int32   \n",
      " 69  flag_female           1992 non-null   int32   \n",
      " 70  flag_inoffice_days    1992 non-null   int32   \n",
      " 71  flag_age              1992 non-null   int32   \n",
      " 72  flag_gender           1992 non-null   int32   \n",
      " 73  flag_origin           1992 non-null   int32   \n",
      " 74  flag_region_m         1992 non-null   int32   \n",
      "dtypes: category(4), float64(48), int32(16), int64(1), object(6)\n",
      "memory usage: 1019.0+ KB\n"
     ]
    }
   ],
   "source": [
    "dataset1.info()"
   ]
  },
  {
   "cell_type": "code",
   "execution_count": 54,
   "id": "dc041372-d9b1-40cc-94e7-04b99aebdbe4",
   "metadata": {
    "tags": []
   },
   "outputs": [],
   "source": [
    "# recalculate missing values for _pl variables, and rename columns\n",
    "pl_names2 = [\"material_exp\", \"personnel_exp\"]\n",
    "dataset1[[col + \"_pl\" for col in pl_names2]] = dataset1[pl_names2].div(\n",
    "    dataset1[\"sales\"], axis=\"index\")"
   ]
  },
  {
   "cell_type": "code",
   "execution_count": 55,
   "id": "dedc2f2f-f9fb-4d5b-9740-7628ce2fa0b5",
   "metadata": {
    "tags": []
   },
   "outputs": [
    {
     "name": "stdout",
     "output_type": "stream",
     "text": [
      "<class 'pandas.core.frame.DataFrame'>\n",
      "Index: 1992 entries, 371478 to 464055\n",
      "Data columns (total 75 columns):\n",
      " #   Column                Non-Null Count  Dtype   \n",
      "---  ------                --------------  -----   \n",
      " 0   year                  1992 non-null   int64   \n",
      " 1   comp_id               1992 non-null   float64 \n",
      " 2   begin                 1992 non-null   object  \n",
      " 3   end                   1992 non-null   object  \n",
      " 4   amort                 1992 non-null   float64 \n",
      " 5   curr_assets           1992 non-null   float64 \n",
      " 6   curr_liab             1992 non-null   float64 \n",
      " 7   extra_exp             1992 non-null   float64 \n",
      " 8   extra_inc             1992 non-null   float64 \n",
      " 9   extra_profit_loss     1992 non-null   float64 \n",
      " 10  fixed_assets          1992 non-null   float64 \n",
      " 11  inc_bef_tax           1992 non-null   float64 \n",
      " 12  intang_assets         1992 non-null   float64 \n",
      " 13  inventories           1992 non-null   float64 \n",
      " 14  liq_assets            1992 non-null   float64 \n",
      " 15  material_exp          1992 non-null   float64 \n",
      " 16  personnel_exp         1992 non-null   float64 \n",
      " 17  profit_loss_year      1992 non-null   float64 \n",
      " 18  sales                 1992 non-null   float64 \n",
      " 19  share_eq              1992 non-null   float64 \n",
      " 20  subscribed_cap        1992 non-null   float64 \n",
      " 21  tang_assets           1992 non-null   float64 \n",
      " 22  balsheet_flag         1992 non-null   float64 \n",
      " 23  balsheet_length       1992 non-null   float64 \n",
      " 24  balsheet_notfullyear  1992 non-null   float64 \n",
      " 25  founded_year          1992 non-null   float64 \n",
      " 26  ceo_count             1992 non-null   float64 \n",
      " 27  foreign               1992 non-null   float64 \n",
      " 28  female                1992 non-null   float64 \n",
      " 29  inoffice_days         1992 non-null   float64 \n",
      " 30  gender                1992 non-null   object  \n",
      " 31  origin                1992 non-null   object  \n",
      " 32  nace_main             1992 non-null   category\n",
      " 33  ind2                  1992 non-null   category\n",
      " 34  ind                   1992 non-null   category\n",
      " 35  urban_m               1992 non-null   category\n",
      " 36  region_m              1992 non-null   object  \n",
      " 37  founded_date          1992 non-null   object  \n",
      " 38  age                   1992 non-null   float64 \n",
      " 39  status_alive          1992 non-null   int32   \n",
      " 40  default               1992 non-null   int32   \n",
      " 41  flag_asset_problem    1992 non-null   float64 \n",
      " 42  total_assets_bs       1992 non-null   float64 \n",
      " 43  extra_exp_pl          1992 non-null   float64 \n",
      " 44  extra_inc_pl          1992 non-null   float64 \n",
      " 45  extra_profit_loss_pl  1992 non-null   float64 \n",
      " 46  inc_bef_tax_pl        1992 non-null   float64 \n",
      " 47  inventories_pl        1992 non-null   float64 \n",
      " 48  material_exp_pl       1992 non-null   float64 \n",
      " 49  profit_loss_year_pl   1992 non-null   float64 \n",
      " 50  personnel_exp_pl      1992 non-null   float64 \n",
      " 51  intang_assets_bs      1992 non-null   float64 \n",
      " 52  curr_liab_bs          1992 non-null   float64 \n",
      " 53  fixed_assets_bs       1992 non-null   float64 \n",
      " 54  liq_assets_bs         1992 non-null   float64 \n",
      " 55  curr_assets_bs        1992 non-null   float64 \n",
      " 56  share_eq_bs           1992 non-null   float64 \n",
      " 57  subscribed_cap_bs     1992 non-null   float64 \n",
      " 58  tang_assets_bs        1992 non-null   float64 \n",
      " 59  labor_avg_mod         1992 non-null   float64 \n",
      " 60  flag_miss_labor_avg   1992 non-null   int32   \n",
      " 61  birth_year_mod        1992 non-null   float64 \n",
      " 62  flag_miss_birth_year  1992 non-null   int32   \n",
      " 63  flag_amort            1992 non-null   int32   \n",
      " 64  flag_material_exp     1992 non-null   int32   \n",
      " 65  flag_personnel_exp    1992 non-null   int32   \n",
      " 66  flag_founded_year     1992 non-null   int32   \n",
      " 67  flag_ceo_count        1992 non-null   int32   \n",
      " 68  flag_foreign          1992 non-null   int32   \n",
      " 69  flag_female           1992 non-null   int32   \n",
      " 70  flag_inoffice_days    1992 non-null   int32   \n",
      " 71  flag_age              1992 non-null   int32   \n",
      " 72  flag_gender           1992 non-null   int32   \n",
      " 73  flag_origin           1992 non-null   int32   \n",
      " 74  flag_region_m         1992 non-null   int32   \n",
      "dtypes: category(4), float64(48), int32(16), int64(1), object(6)\n",
      "memory usage: 1019.0+ KB\n"
     ]
    }
   ],
   "source": [
    "dataset1.info()"
   ]
  },
  {
   "cell_type": "code",
   "execution_count": 56,
   "id": "052cfbbf-6224-4e41-ade2-18ed648082b3",
   "metadata": {
    "tags": []
   },
   "outputs": [
    {
     "data": {
      "text/html": [
       "<div>\n",
       "<style scoped>\n",
       "    .dataframe tbody tr th:only-of-type {\n",
       "        vertical-align: middle;\n",
       "    }\n",
       "\n",
       "    .dataframe tbody tr th {\n",
       "        vertical-align: top;\n",
       "    }\n",
       "\n",
       "    .dataframe thead th {\n",
       "        text-align: right;\n",
       "    }\n",
       "</style>\n",
       "<table border=\"1\" class=\"dataframe\">\n",
       "  <thead>\n",
       "    <tr style=\"text-align: right;\">\n",
       "      <th></th>\n",
       "      <th>year</th>\n",
       "      <th>comp_id</th>\n",
       "      <th>begin</th>\n",
       "      <th>end</th>\n",
       "      <th>amort</th>\n",
       "      <th>curr_assets</th>\n",
       "      <th>curr_liab</th>\n",
       "      <th>extra_exp</th>\n",
       "      <th>extra_inc</th>\n",
       "      <th>extra_profit_loss</th>\n",
       "      <th>...</th>\n",
       "      <th>fixed_assets_bs</th>\n",
       "      <th>liq_assets_bs</th>\n",
       "      <th>curr_assets_bs</th>\n",
       "      <th>share_eq_bs</th>\n",
       "      <th>subscribed_cap_bs</th>\n",
       "      <th>tang_assets_bs</th>\n",
       "      <th>labor_avg_mod</th>\n",
       "      <th>flag_miss_labor_avg</th>\n",
       "      <th>birth_year_mod</th>\n",
       "      <th>flag_miss_birth_year</th>\n",
       "    </tr>\n",
       "  </thead>\n",
       "  <tbody>\n",
       "    <tr>\n",
       "      <th>417709</th>\n",
       "      <td>2014</td>\n",
       "      <td>1.001541e+06</td>\n",
       "      <td>2014-01-01</td>\n",
       "      <td>2014-12-31</td>\n",
       "      <td>2292.592529</td>\n",
       "      <td>6500.000000</td>\n",
       "      <td>296.296295</td>\n",
       "      <td>0.0</td>\n",
       "      <td>0.0</td>\n",
       "      <td>0.0</td>\n",
       "      <td>...</td>\n",
       "      <td>0.966231</td>\n",
       "      <td>0.030729</td>\n",
       "      <td>0.033769</td>\n",
       "      <td>0.998461</td>\n",
       "      <td>1.042909</td>\n",
       "      <td>0.966231</td>\n",
       "      <td>1.009435</td>\n",
       "      <td>1</td>\n",
       "      <td>1962.5</td>\n",
       "      <td>0</td>\n",
       "    </tr>\n",
       "    <tr>\n",
       "      <th>417710</th>\n",
       "      <td>2014</td>\n",
       "      <td>1.002029e+06</td>\n",
       "      <td>2014-01-01</td>\n",
       "      <td>2014-12-31</td>\n",
       "      <td>17918.517578</td>\n",
       "      <td>183677.781250</td>\n",
       "      <td>59433.332031</td>\n",
       "      <td>0.0</td>\n",
       "      <td>0.0</td>\n",
       "      <td>0.0</td>\n",
       "      <td>...</td>\n",
       "      <td>0.226644</td>\n",
       "      <td>0.047858</td>\n",
       "      <td>0.773356</td>\n",
       "      <td>0.595256</td>\n",
       "      <td>0.046782</td>\n",
       "      <td>0.226644</td>\n",
       "      <td>0.305556</td>\n",
       "      <td>0</td>\n",
       "      <td>1979.0</td>\n",
       "      <td>0</td>\n",
       "    </tr>\n",
       "    <tr>\n",
       "      <th>417715</th>\n",
       "      <td>2014</td>\n",
       "      <td>1.011889e+06</td>\n",
       "      <td>2014-01-01</td>\n",
       "      <td>2014-12-31</td>\n",
       "      <td>46214.816406</td>\n",
       "      <td>281681.468750</td>\n",
       "      <td>9622.222656</td>\n",
       "      <td>0.0</td>\n",
       "      <td>0.0</td>\n",
       "      <td>0.0</td>\n",
       "      <td>...</td>\n",
       "      <td>0.774744</td>\n",
       "      <td>0.196807</td>\n",
       "      <td>0.224612</td>\n",
       "      <td>0.988842</td>\n",
       "      <td>0.013940</td>\n",
       "      <td>0.774100</td>\n",
       "      <td>1.465278</td>\n",
       "      <td>0</td>\n",
       "      <td>1946.0</td>\n",
       "      <td>0</td>\n",
       "    </tr>\n",
       "    <tr>\n",
       "      <th>417716</th>\n",
       "      <td>2014</td>\n",
       "      <td>1.014183e+06</td>\n",
       "      <td>2014-01-01</td>\n",
       "      <td>2014-12-31</td>\n",
       "      <td>6403.703613</td>\n",
       "      <td>217033.328125</td>\n",
       "      <td>6362.962891</td>\n",
       "      <td>0.0</td>\n",
       "      <td>0.0</td>\n",
       "      <td>0.0</td>\n",
       "      <td>...</td>\n",
       "      <td>0.332258</td>\n",
       "      <td>0.138895</td>\n",
       "      <td>0.667742</td>\n",
       "      <td>0.980514</td>\n",
       "      <td>0.034185</td>\n",
       "      <td>0.332258</td>\n",
       "      <td>0.847222</td>\n",
       "      <td>0</td>\n",
       "      <td>1946.0</td>\n",
       "      <td>0</td>\n",
       "    </tr>\n",
       "    <tr>\n",
       "      <th>417717</th>\n",
       "      <td>2014</td>\n",
       "      <td>1.018301e+06</td>\n",
       "      <td>2014-01-01</td>\n",
       "      <td>2014-12-31</td>\n",
       "      <td>0.000000</td>\n",
       "      <td>1759.259277</td>\n",
       "      <td>1544.444458</td>\n",
       "      <td>0.0</td>\n",
       "      <td>0.0</td>\n",
       "      <td>0.0</td>\n",
       "      <td>...</td>\n",
       "      <td>0.965578</td>\n",
       "      <td>0.009573</td>\n",
       "      <td>0.032249</td>\n",
       "      <td>0.188743</td>\n",
       "      <td>0.203680</td>\n",
       "      <td>0.963406</td>\n",
       "      <td>0.166667</td>\n",
       "      <td>0</td>\n",
       "      <td>1960.0</td>\n",
       "      <td>0</td>\n",
       "    </tr>\n",
       "    <tr>\n",
       "      <th>...</th>\n",
       "      <td>...</td>\n",
       "      <td>...</td>\n",
       "      <td>...</td>\n",
       "      <td>...</td>\n",
       "      <td>...</td>\n",
       "      <td>...</td>\n",
       "      <td>...</td>\n",
       "      <td>...</td>\n",
       "      <td>...</td>\n",
       "      <td>...</td>\n",
       "      <td>...</td>\n",
       "      <td>...</td>\n",
       "      <td>...</td>\n",
       "      <td>...</td>\n",
       "      <td>...</td>\n",
       "      <td>...</td>\n",
       "      <td>...</td>\n",
       "      <td>...</td>\n",
       "      <td>...</td>\n",
       "      <td>...</td>\n",
       "      <td>...</td>\n",
       "    </tr>\n",
       "    <tr>\n",
       "      <th>463875</th>\n",
       "      <td>2014</td>\n",
       "      <td>4.593723e+11</td>\n",
       "      <td>2014-01-01</td>\n",
       "      <td>2014-12-31</td>\n",
       "      <td>0.000000</td>\n",
       "      <td>40740.742188</td>\n",
       "      <td>559.259277</td>\n",
       "      <td>0.0</td>\n",
       "      <td>0.0</td>\n",
       "      <td>0.0</td>\n",
       "      <td>...</td>\n",
       "      <td>0.000000</td>\n",
       "      <td>0.943727</td>\n",
       "      <td>1.000000</td>\n",
       "      <td>0.986273</td>\n",
       "      <td>0.023000</td>\n",
       "      <td>0.000000</td>\n",
       "      <td>0.083333</td>\n",
       "      <td>0</td>\n",
       "      <td>1975.0</td>\n",
       "      <td>0</td>\n",
       "    </tr>\n",
       "    <tr>\n",
       "      <th>463965</th>\n",
       "      <td>2014</td>\n",
       "      <td>4.610112e+11</td>\n",
       "      <td>2014-01-01</td>\n",
       "      <td>2014-12-31</td>\n",
       "      <td>429.629639</td>\n",
       "      <td>58781.480469</td>\n",
       "      <td>2651.851807</td>\n",
       "      <td>0.0</td>\n",
       "      <td>0.0</td>\n",
       "      <td>0.0</td>\n",
       "      <td>...</td>\n",
       "      <td>0.055866</td>\n",
       "      <td>0.637822</td>\n",
       "      <td>0.943243</td>\n",
       "      <td>0.957387</td>\n",
       "      <td>0.178296</td>\n",
       "      <td>0.054974</td>\n",
       "      <td>0.166667</td>\n",
       "      <td>0</td>\n",
       "      <td>1959.0</td>\n",
       "      <td>0</td>\n",
       "    </tr>\n",
       "    <tr>\n",
       "      <th>464018</th>\n",
       "      <td>2014</td>\n",
       "      <td>4.620594e+11</td>\n",
       "      <td>2014-01-01</td>\n",
       "      <td>2014-12-31</td>\n",
       "      <td>1111.111084</td>\n",
       "      <td>68274.070312</td>\n",
       "      <td>16211.111328</td>\n",
       "      <td>0.0</td>\n",
       "      <td>0.0</td>\n",
       "      <td>0.0</td>\n",
       "      <td>...</td>\n",
       "      <td>0.011635</td>\n",
       "      <td>0.024288</td>\n",
       "      <td>0.988365</td>\n",
       "      <td>0.765321</td>\n",
       "      <td>0.160849</td>\n",
       "      <td>0.011635</td>\n",
       "      <td>0.250000</td>\n",
       "      <td>0</td>\n",
       "      <td>1953.0</td>\n",
       "      <td>0</td>\n",
       "    </tr>\n",
       "    <tr>\n",
       "      <th>464032</th>\n",
       "      <td>2014</td>\n",
       "      <td>4.623300e+11</td>\n",
       "      <td>2014-01-01</td>\n",
       "      <td>2014-12-31</td>\n",
       "      <td>0.000000</td>\n",
       "      <td>17192.591797</td>\n",
       "      <td>7325.925781</td>\n",
       "      <td>0.0</td>\n",
       "      <td>0.0</td>\n",
       "      <td>0.0</td>\n",
       "      <td>...</td>\n",
       "      <td>0.375656</td>\n",
       "      <td>0.368796</td>\n",
       "      <td>0.624344</td>\n",
       "      <td>0.654472</td>\n",
       "      <td>0.672495</td>\n",
       "      <td>0.375656</td>\n",
       "      <td>0.166667</td>\n",
       "      <td>0</td>\n",
       "      <td>1961.5</td>\n",
       "      <td>0</td>\n",
       "    </tr>\n",
       "    <tr>\n",
       "      <th>464055</th>\n",
       "      <td>2014</td>\n",
       "      <td>4.628231e+11</td>\n",
       "      <td>2014-01-01</td>\n",
       "      <td>2014-12-31</td>\n",
       "      <td>2581.481445</td>\n",
       "      <td>70059.257812</td>\n",
       "      <td>74911.109375</td>\n",
       "      <td>0.0</td>\n",
       "      <td>0.0</td>\n",
       "      <td>0.0</td>\n",
       "      <td>...</td>\n",
       "      <td>0.102188</td>\n",
       "      <td>0.288101</td>\n",
       "      <td>0.897812</td>\n",
       "      <td>0.040011</td>\n",
       "      <td>0.023732</td>\n",
       "      <td>0.102188</td>\n",
       "      <td>0.486111</td>\n",
       "      <td>0</td>\n",
       "      <td>1984.0</td>\n",
       "      <td>0</td>\n",
       "    </tr>\n",
       "  </tbody>\n",
       "</table>\n",
       "<p>19545 rows × 63 columns</p>\n",
       "</div>"
      ],
      "text/plain": [
       "        year       comp_id       begin         end         amort  \\\n",
       "417709  2014  1.001541e+06  2014-01-01  2014-12-31   2292.592529   \n",
       "417710  2014  1.002029e+06  2014-01-01  2014-12-31  17918.517578   \n",
       "417715  2014  1.011889e+06  2014-01-01  2014-12-31  46214.816406   \n",
       "417716  2014  1.014183e+06  2014-01-01  2014-12-31   6403.703613   \n",
       "417717  2014  1.018301e+06  2014-01-01  2014-12-31      0.000000   \n",
       "...      ...           ...         ...         ...           ...   \n",
       "463875  2014  4.593723e+11  2014-01-01  2014-12-31      0.000000   \n",
       "463965  2014  4.610112e+11  2014-01-01  2014-12-31    429.629639   \n",
       "464018  2014  4.620594e+11  2014-01-01  2014-12-31   1111.111084   \n",
       "464032  2014  4.623300e+11  2014-01-01  2014-12-31      0.000000   \n",
       "464055  2014  4.628231e+11  2014-01-01  2014-12-31   2581.481445   \n",
       "\n",
       "          curr_assets     curr_liab  extra_exp  extra_inc  extra_profit_loss  \\\n",
       "417709    6500.000000    296.296295        0.0        0.0                0.0   \n",
       "417710  183677.781250  59433.332031        0.0        0.0                0.0   \n",
       "417715  281681.468750   9622.222656        0.0        0.0                0.0   \n",
       "417716  217033.328125   6362.962891        0.0        0.0                0.0   \n",
       "417717    1759.259277   1544.444458        0.0        0.0                0.0   \n",
       "...               ...           ...        ...        ...                ...   \n",
       "463875   40740.742188    559.259277        0.0        0.0                0.0   \n",
       "463965   58781.480469   2651.851807        0.0        0.0                0.0   \n",
       "464018   68274.070312  16211.111328        0.0        0.0                0.0   \n",
       "464032   17192.591797   7325.925781        0.0        0.0                0.0   \n",
       "464055   70059.257812  74911.109375        0.0        0.0                0.0   \n",
       "\n",
       "        ...  fixed_assets_bs  liq_assets_bs  curr_assets_bs  share_eq_bs  \\\n",
       "417709  ...         0.966231       0.030729        0.033769     0.998461   \n",
       "417710  ...         0.226644       0.047858        0.773356     0.595256   \n",
       "417715  ...         0.774744       0.196807        0.224612     0.988842   \n",
       "417716  ...         0.332258       0.138895        0.667742     0.980514   \n",
       "417717  ...         0.965578       0.009573        0.032249     0.188743   \n",
       "...     ...              ...            ...             ...          ...   \n",
       "463875  ...         0.000000       0.943727        1.000000     0.986273   \n",
       "463965  ...         0.055866       0.637822        0.943243     0.957387   \n",
       "464018  ...         0.011635       0.024288        0.988365     0.765321   \n",
       "464032  ...         0.375656       0.368796        0.624344     0.654472   \n",
       "464055  ...         0.102188       0.288101        0.897812     0.040011   \n",
       "\n",
       "        subscribed_cap_bs  tang_assets_bs  labor_avg_mod  flag_miss_labor_avg  \\\n",
       "417709           1.042909        0.966231       1.009435                    1   \n",
       "417710           0.046782        0.226644       0.305556                    0   \n",
       "417715           0.013940        0.774100       1.465278                    0   \n",
       "417716           0.034185        0.332258       0.847222                    0   \n",
       "417717           0.203680        0.963406       0.166667                    0   \n",
       "...                   ...             ...            ...                  ...   \n",
       "463875           0.023000        0.000000       0.083333                    0   \n",
       "463965           0.178296        0.054974       0.166667                    0   \n",
       "464018           0.160849        0.011635       0.250000                    0   \n",
       "464032           0.672495        0.375656       0.166667                    0   \n",
       "464055           0.023732        0.102188       0.486111                    0   \n",
       "\n",
       "        birth_year_mod  flag_miss_birth_year  \n",
       "417709          1962.5                     0  \n",
       "417710          1979.0                     0  \n",
       "417715          1946.0                     0  \n",
       "417716          1946.0                     0  \n",
       "417717          1960.0                     0  \n",
       "...                ...                   ...  \n",
       "463875          1975.0                     0  \n",
       "463965          1959.0                     0  \n",
       "464018          1953.0                     0  \n",
       "464032          1961.5                     0  \n",
       "464055          1984.0                     0  \n",
       "\n",
       "[19545 rows x 63 columns]"
      ]
     },
     "execution_count": 56,
     "metadata": {},
     "output_type": "execute_result"
    }
   ],
   "source": [
    "dataset2 = pd.concat([data2, holdout_data])\n",
    "dataset2"
   ]
  },
  {
   "cell_type": "code",
   "execution_count": 57,
   "id": "571867fd-dd32-4520-9691-9e46faf02745",
   "metadata": {
    "tags": []
   },
   "outputs": [
    {
     "data": {
      "text/plain": [
       "material_exp_pl     2\n",
       "personnel_exp_pl    2\n",
       "dtype: int64"
      ]
     },
     "execution_count": 57,
     "metadata": {},
     "output_type": "execute_result"
    }
   ],
   "source": [
    "for col in impute_num_list:\n",
    "    impute_num(dataset2, col)\n",
    "\n",
    "for col in impute_cat_list:\n",
    "    impute_cat(dataset2, col)\n",
    "    \n",
    "to_filter=dataset2.isna().sum()\n",
    "to_filter[to_filter>0]"
   ]
  },
  {
   "cell_type": "code",
   "execution_count": 58,
   "id": "f4d0a247-0a74-468c-9124-ff7a5cca56f2",
   "metadata": {
    "tags": []
   },
   "outputs": [],
   "source": [
    "# recalculate missing values for _pl variables, and rename columns\n",
    "pl_names2 = [\"material_exp\", \"personnel_exp\"]\n",
    "dataset2[[col + \"_pl\" for col in pl_names2]] = dataset2[pl_names2].div(\n",
    "    dataset2[\"sales\"], axis=\"index\")"
   ]
  },
  {
   "cell_type": "code",
   "execution_count": 59,
   "id": "513da76d-84ad-4764-aff8-31ac838541fa",
   "metadata": {
    "tags": []
   },
   "outputs": [
    {
     "name": "stdout",
     "output_type": "stream",
     "text": [
      "<class 'pandas.core.frame.DataFrame'>\n",
      "Index: 19545 entries, 417709 to 464055\n",
      "Data columns (total 75 columns):\n",
      " #   Column                Non-Null Count  Dtype   \n",
      "---  ------                --------------  -----   \n",
      " 0   year                  19545 non-null  int64   \n",
      " 1   comp_id               19545 non-null  float64 \n",
      " 2   begin                 19545 non-null  object  \n",
      " 3   end                   19545 non-null  object  \n",
      " 4   amort                 19545 non-null  float64 \n",
      " 5   curr_assets           19545 non-null  float64 \n",
      " 6   curr_liab             19545 non-null  float64 \n",
      " 7   extra_exp             19545 non-null  float64 \n",
      " 8   extra_inc             19545 non-null  float64 \n",
      " 9   extra_profit_loss     19545 non-null  float64 \n",
      " 10  fixed_assets          19545 non-null  float64 \n",
      " 11  inc_bef_tax           19545 non-null  float64 \n",
      " 12  intang_assets         19545 non-null  float64 \n",
      " 13  inventories           19545 non-null  float64 \n",
      " 14  liq_assets            19545 non-null  float64 \n",
      " 15  material_exp          19545 non-null  float64 \n",
      " 16  personnel_exp         19545 non-null  float64 \n",
      " 17  profit_loss_year      19545 non-null  float64 \n",
      " 18  sales                 19545 non-null  float64 \n",
      " 19  share_eq              19545 non-null  float64 \n",
      " 20  subscribed_cap        19545 non-null  float64 \n",
      " 21  tang_assets           19545 non-null  float64 \n",
      " 22  balsheet_flag         19545 non-null  float64 \n",
      " 23  balsheet_length       19545 non-null  float64 \n",
      " 24  balsheet_notfullyear  19545 non-null  float64 \n",
      " 25  founded_year          19545 non-null  float64 \n",
      " 26  ceo_count             19545 non-null  float64 \n",
      " 27  foreign               19545 non-null  float64 \n",
      " 28  female                19545 non-null  float64 \n",
      " 29  inoffice_days         19545 non-null  float64 \n",
      " 30  gender                19545 non-null  object  \n",
      " 31  origin                19545 non-null  object  \n",
      " 32  nace_main             19545 non-null  category\n",
      " 33  ind2                  19545 non-null  category\n",
      " 34  ind                   19545 non-null  category\n",
      " 35  urban_m               19545 non-null  category\n",
      " 36  region_m              19545 non-null  object  \n",
      " 37  founded_date          19545 non-null  object  \n",
      " 38  age                   19545 non-null  float64 \n",
      " 39  status_alive          19545 non-null  int32   \n",
      " 40  default               19545 non-null  int32   \n",
      " 41  flag_asset_problem    19545 non-null  float64 \n",
      " 42  total_assets_bs       19545 non-null  float64 \n",
      " 43  extra_exp_pl          19545 non-null  float64 \n",
      " 44  extra_inc_pl          19545 non-null  float64 \n",
      " 45  extra_profit_loss_pl  19545 non-null  float64 \n",
      " 46  inc_bef_tax_pl        19545 non-null  float64 \n",
      " 47  inventories_pl        19545 non-null  float64 \n",
      " 48  material_exp_pl       19545 non-null  float64 \n",
      " 49  profit_loss_year_pl   19545 non-null  float64 \n",
      " 50  personnel_exp_pl      19545 non-null  float64 \n",
      " 51  intang_assets_bs      19545 non-null  float64 \n",
      " 52  curr_liab_bs          19545 non-null  float64 \n",
      " 53  fixed_assets_bs       19545 non-null  float64 \n",
      " 54  liq_assets_bs         19545 non-null  float64 \n",
      " 55  curr_assets_bs        19545 non-null  float64 \n",
      " 56  share_eq_bs           19545 non-null  float64 \n",
      " 57  subscribed_cap_bs     19545 non-null  float64 \n",
      " 58  tang_assets_bs        19545 non-null  float64 \n",
      " 59  labor_avg_mod         19545 non-null  float64 \n",
      " 60  flag_miss_labor_avg   19545 non-null  int32   \n",
      " 61  birth_year_mod        19545 non-null  float64 \n",
      " 62  flag_miss_birth_year  19545 non-null  int32   \n",
      " 63  flag_amort            19545 non-null  int32   \n",
      " 64  flag_material_exp     19545 non-null  int32   \n",
      " 65  flag_personnel_exp    19545 non-null  int32   \n",
      " 66  flag_founded_year     19545 non-null  int32   \n",
      " 67  flag_ceo_count        19545 non-null  int32   \n",
      " 68  flag_foreign          19545 non-null  int32   \n",
      " 69  flag_female           19545 non-null  int32   \n",
      " 70  flag_inoffice_days    19545 non-null  int32   \n",
      " 71  flag_age              19545 non-null  int32   \n",
      " 72  flag_gender           19545 non-null  int32   \n",
      " 73  flag_origin           19545 non-null  int32   \n",
      " 74  flag_region_m         19545 non-null  int32   \n",
      "dtypes: category(4), float64(48), int32(16), int64(1), object(6)\n",
      "memory usage: 9.6+ MB\n"
     ]
    }
   ],
   "source": [
    "dataset2.info()"
   ]
  },
  {
   "cell_type": "code",
   "execution_count": 60,
   "id": "8b3892b4-e22e-4308-a093-067dbf30a03c",
   "metadata": {
    "tags": []
   },
   "outputs": [
    {
     "data": {
      "text/html": [
       "<div>\n",
       "<style scoped>\n",
       "    .dataframe tbody tr th:only-of-type {\n",
       "        vertical-align: middle;\n",
       "    }\n",
       "\n",
       "    .dataframe tbody tr th {\n",
       "        vertical-align: top;\n",
       "    }\n",
       "\n",
       "    .dataframe thead th {\n",
       "        text-align: right;\n",
       "    }\n",
       "</style>\n",
       "<table border=\"1\" class=\"dataframe\">\n",
       "  <thead>\n",
       "    <tr style=\"text-align: right;\">\n",
       "      <th></th>\n",
       "      <th>year</th>\n",
       "      <th>comp_id</th>\n",
       "      <th>begin</th>\n",
       "      <th>end</th>\n",
       "      <th>amort</th>\n",
       "      <th>curr_assets</th>\n",
       "      <th>curr_liab</th>\n",
       "      <th>extra_exp</th>\n",
       "      <th>extra_inc</th>\n",
       "      <th>extra_profit_loss</th>\n",
       "      <th>...</th>\n",
       "      <th>fixed_assets_bs</th>\n",
       "      <th>liq_assets_bs</th>\n",
       "      <th>curr_assets_bs</th>\n",
       "      <th>share_eq_bs</th>\n",
       "      <th>subscribed_cap_bs</th>\n",
       "      <th>tang_assets_bs</th>\n",
       "      <th>labor_avg_mod</th>\n",
       "      <th>flag_miss_labor_avg</th>\n",
       "      <th>birth_year_mod</th>\n",
       "      <th>flag_miss_birth_year</th>\n",
       "    </tr>\n",
       "  </thead>\n",
       "  <tbody>\n",
       "    <tr>\n",
       "      <th>371478</th>\n",
       "      <td>2013</td>\n",
       "      <td>8.416055e+06</td>\n",
       "      <td>2013-01-01</td>\n",
       "      <td>2013-12-31</td>\n",
       "      <td>266.666656</td>\n",
       "      <td>106448.148438</td>\n",
       "      <td>4674.074219</td>\n",
       "      <td>0.000000</td>\n",
       "      <td>0.0</td>\n",
       "      <td>0.000000</td>\n",
       "      <td>...</td>\n",
       "      <td>0.068816</td>\n",
       "      <td>0.755030</td>\n",
       "      <td>0.931184</td>\n",
       "      <td>0.964490</td>\n",
       "      <td>0.097197</td>\n",
       "      <td>0.068816</td>\n",
       "      <td>0.083333</td>\n",
       "      <td>0</td>\n",
       "      <td>1960.0</td>\n",
       "      <td>0</td>\n",
       "    </tr>\n",
       "    <tr>\n",
       "      <th>371577</th>\n",
       "      <td>2013</td>\n",
       "      <td>1.777654e+07</td>\n",
       "      <td>2013-01-01</td>\n",
       "      <td>2013-12-31</td>\n",
       "      <td>34155.554688</td>\n",
       "      <td>61011.109375</td>\n",
       "      <td>79103.703125</td>\n",
       "      <td>0.000000</td>\n",
       "      <td>0.0</td>\n",
       "      <td>0.000000</td>\n",
       "      <td>...</td>\n",
       "      <td>0.662866</td>\n",
       "      <td>0.027037</td>\n",
       "      <td>0.225509</td>\n",
       "      <td>0.516961</td>\n",
       "      <td>0.177965</td>\n",
       "      <td>0.551240</td>\n",
       "      <td>0.180556</td>\n",
       "      <td>0</td>\n",
       "      <td>1970.5</td>\n",
       "      <td>0</td>\n",
       "    </tr>\n",
       "    <tr>\n",
       "      <th>371582</th>\n",
       "      <td>2013</td>\n",
       "      <td>1.862676e+07</td>\n",
       "      <td>2013-01-01</td>\n",
       "      <td>2013-12-31</td>\n",
       "      <td>1518.518555</td>\n",
       "      <td>101422.218750</td>\n",
       "      <td>38200.000000</td>\n",
       "      <td>951.851868</td>\n",
       "      <td>0.0</td>\n",
       "      <td>-951.851868</td>\n",
       "      <td>...</td>\n",
       "      <td>0.037029</td>\n",
       "      <td>0.320568</td>\n",
       "      <td>0.962971</td>\n",
       "      <td>0.625734</td>\n",
       "      <td>0.017583</td>\n",
       "      <td>0.037029</td>\n",
       "      <td>0.152778</td>\n",
       "      <td>0</td>\n",
       "      <td>1978.0</td>\n",
       "      <td>0</td>\n",
       "    </tr>\n",
       "    <tr>\n",
       "      <th>371697</th>\n",
       "      <td>2013</td>\n",
       "      <td>3.447888e+07</td>\n",
       "      <td>2013-01-01</td>\n",
       "      <td>2013-12-31</td>\n",
       "      <td>333.333344</td>\n",
       "      <td>3940.740723</td>\n",
       "      <td>3129.629639</td>\n",
       "      <td>0.000000</td>\n",
       "      <td>0.0</td>\n",
       "      <td>0.000000</td>\n",
       "      <td>...</td>\n",
       "      <td>0.371984</td>\n",
       "      <td>0.053561</td>\n",
       "      <td>0.626251</td>\n",
       "      <td>0.520895</td>\n",
       "      <td>0.294291</td>\n",
       "      <td>0.370218</td>\n",
       "      <td>0.083333</td>\n",
       "      <td>0</td>\n",
       "      <td>1956.0</td>\n",
       "      <td>0</td>\n",
       "    </tr>\n",
       "    <tr>\n",
       "      <th>371709</th>\n",
       "      <td>2013</td>\n",
       "      <td>3.648780e+07</td>\n",
       "      <td>2013-01-01</td>\n",
       "      <td>2013-12-31</td>\n",
       "      <td>351.851837</td>\n",
       "      <td>5837.037109</td>\n",
       "      <td>2129.629639</td>\n",
       "      <td>0.000000</td>\n",
       "      <td>0.0</td>\n",
       "      <td>0.000000</td>\n",
       "      <td>...</td>\n",
       "      <td>0.000000</td>\n",
       "      <td>0.607868</td>\n",
       "      <td>1.000000</td>\n",
       "      <td>0.579315</td>\n",
       "      <td>0.317259</td>\n",
       "      <td>0.000000</td>\n",
       "      <td>1.009435</td>\n",
       "      <td>1</td>\n",
       "      <td>1979.0</td>\n",
       "      <td>0</td>\n",
       "    </tr>\n",
       "    <tr>\n",
       "      <th>...</th>\n",
       "      <td>...</td>\n",
       "      <td>...</td>\n",
       "      <td>...</td>\n",
       "      <td>...</td>\n",
       "      <td>...</td>\n",
       "      <td>...</td>\n",
       "      <td>...</td>\n",
       "      <td>...</td>\n",
       "      <td>...</td>\n",
       "      <td>...</td>\n",
       "      <td>...</td>\n",
       "      <td>...</td>\n",
       "      <td>...</td>\n",
       "      <td>...</td>\n",
       "      <td>...</td>\n",
       "      <td>...</td>\n",
       "      <td>...</td>\n",
       "      <td>...</td>\n",
       "      <td>...</td>\n",
       "      <td>...</td>\n",
       "      <td>...</td>\n",
       "    </tr>\n",
       "    <tr>\n",
       "      <th>463875</th>\n",
       "      <td>2014</td>\n",
       "      <td>4.593723e+11</td>\n",
       "      <td>2014-01-01</td>\n",
       "      <td>2014-12-31</td>\n",
       "      <td>0.000000</td>\n",
       "      <td>40740.742188</td>\n",
       "      <td>559.259277</td>\n",
       "      <td>0.000000</td>\n",
       "      <td>0.0</td>\n",
       "      <td>0.000000</td>\n",
       "      <td>...</td>\n",
       "      <td>0.000000</td>\n",
       "      <td>0.943727</td>\n",
       "      <td>1.000000</td>\n",
       "      <td>0.986273</td>\n",
       "      <td>0.023000</td>\n",
       "      <td>0.000000</td>\n",
       "      <td>0.083333</td>\n",
       "      <td>0</td>\n",
       "      <td>1975.0</td>\n",
       "      <td>0</td>\n",
       "    </tr>\n",
       "    <tr>\n",
       "      <th>463965</th>\n",
       "      <td>2014</td>\n",
       "      <td>4.610112e+11</td>\n",
       "      <td>2014-01-01</td>\n",
       "      <td>2014-12-31</td>\n",
       "      <td>429.629639</td>\n",
       "      <td>58781.480469</td>\n",
       "      <td>2651.851807</td>\n",
       "      <td>0.000000</td>\n",
       "      <td>0.0</td>\n",
       "      <td>0.000000</td>\n",
       "      <td>...</td>\n",
       "      <td>0.055866</td>\n",
       "      <td>0.637822</td>\n",
       "      <td>0.943243</td>\n",
       "      <td>0.957387</td>\n",
       "      <td>0.178296</td>\n",
       "      <td>0.054974</td>\n",
       "      <td>0.166667</td>\n",
       "      <td>0</td>\n",
       "      <td>1959.0</td>\n",
       "      <td>0</td>\n",
       "    </tr>\n",
       "    <tr>\n",
       "      <th>464018</th>\n",
       "      <td>2014</td>\n",
       "      <td>4.620594e+11</td>\n",
       "      <td>2014-01-01</td>\n",
       "      <td>2014-12-31</td>\n",
       "      <td>1111.111084</td>\n",
       "      <td>68274.070312</td>\n",
       "      <td>16211.111328</td>\n",
       "      <td>0.000000</td>\n",
       "      <td>0.0</td>\n",
       "      <td>0.000000</td>\n",
       "      <td>...</td>\n",
       "      <td>0.011635</td>\n",
       "      <td>0.024288</td>\n",
       "      <td>0.988365</td>\n",
       "      <td>0.765321</td>\n",
       "      <td>0.160849</td>\n",
       "      <td>0.011635</td>\n",
       "      <td>0.250000</td>\n",
       "      <td>0</td>\n",
       "      <td>1953.0</td>\n",
       "      <td>0</td>\n",
       "    </tr>\n",
       "    <tr>\n",
       "      <th>464032</th>\n",
       "      <td>2014</td>\n",
       "      <td>4.623300e+11</td>\n",
       "      <td>2014-01-01</td>\n",
       "      <td>2014-12-31</td>\n",
       "      <td>0.000000</td>\n",
       "      <td>17192.591797</td>\n",
       "      <td>7325.925781</td>\n",
       "      <td>0.000000</td>\n",
       "      <td>0.0</td>\n",
       "      <td>0.000000</td>\n",
       "      <td>...</td>\n",
       "      <td>0.375656</td>\n",
       "      <td>0.368796</td>\n",
       "      <td>0.624344</td>\n",
       "      <td>0.654472</td>\n",
       "      <td>0.672495</td>\n",
       "      <td>0.375656</td>\n",
       "      <td>0.166667</td>\n",
       "      <td>0</td>\n",
       "      <td>1961.5</td>\n",
       "      <td>0</td>\n",
       "    </tr>\n",
       "    <tr>\n",
       "      <th>464055</th>\n",
       "      <td>2014</td>\n",
       "      <td>4.628231e+11</td>\n",
       "      <td>2014-01-01</td>\n",
       "      <td>2014-12-31</td>\n",
       "      <td>2581.481445</td>\n",
       "      <td>70059.257812</td>\n",
       "      <td>74911.109375</td>\n",
       "      <td>0.000000</td>\n",
       "      <td>0.0</td>\n",
       "      <td>0.000000</td>\n",
       "      <td>...</td>\n",
       "      <td>0.102188</td>\n",
       "      <td>0.288101</td>\n",
       "      <td>0.897812</td>\n",
       "      <td>0.040011</td>\n",
       "      <td>0.023732</td>\n",
       "      <td>0.102188</td>\n",
       "      <td>0.486111</td>\n",
       "      <td>0</td>\n",
       "      <td>1984.0</td>\n",
       "      <td>0</td>\n",
       "    </tr>\n",
       "  </tbody>\n",
       "</table>\n",
       "<p>1886 rows × 63 columns</p>\n",
       "</div>"
      ],
      "text/plain": [
       "        year       comp_id       begin         end         amort  \\\n",
       "371478  2013  8.416055e+06  2013-01-01  2013-12-31    266.666656   \n",
       "371577  2013  1.777654e+07  2013-01-01  2013-12-31  34155.554688   \n",
       "371582  2013  1.862676e+07  2013-01-01  2013-12-31   1518.518555   \n",
       "371697  2013  3.447888e+07  2013-01-01  2013-12-31    333.333344   \n",
       "371709  2013  3.648780e+07  2013-01-01  2013-12-31    351.851837   \n",
       "...      ...           ...         ...         ...           ...   \n",
       "463875  2014  4.593723e+11  2014-01-01  2014-12-31      0.000000   \n",
       "463965  2014  4.610112e+11  2014-01-01  2014-12-31    429.629639   \n",
       "464018  2014  4.620594e+11  2014-01-01  2014-12-31   1111.111084   \n",
       "464032  2014  4.623300e+11  2014-01-01  2014-12-31      0.000000   \n",
       "464055  2014  4.628231e+11  2014-01-01  2014-12-31   2581.481445   \n",
       "\n",
       "          curr_assets     curr_liab   extra_exp  extra_inc  extra_profit_loss  \\\n",
       "371478  106448.148438   4674.074219    0.000000        0.0           0.000000   \n",
       "371577   61011.109375  79103.703125    0.000000        0.0           0.000000   \n",
       "371582  101422.218750  38200.000000  951.851868        0.0        -951.851868   \n",
       "371697    3940.740723   3129.629639    0.000000        0.0           0.000000   \n",
       "371709    5837.037109   2129.629639    0.000000        0.0           0.000000   \n",
       "...               ...           ...         ...        ...                ...   \n",
       "463875   40740.742188    559.259277    0.000000        0.0           0.000000   \n",
       "463965   58781.480469   2651.851807    0.000000        0.0           0.000000   \n",
       "464018   68274.070312  16211.111328    0.000000        0.0           0.000000   \n",
       "464032   17192.591797   7325.925781    0.000000        0.0           0.000000   \n",
       "464055   70059.257812  74911.109375    0.000000        0.0           0.000000   \n",
       "\n",
       "        ...  fixed_assets_bs  liq_assets_bs  curr_assets_bs  share_eq_bs  \\\n",
       "371478  ...         0.068816       0.755030        0.931184     0.964490   \n",
       "371577  ...         0.662866       0.027037        0.225509     0.516961   \n",
       "371582  ...         0.037029       0.320568        0.962971     0.625734   \n",
       "371697  ...         0.371984       0.053561        0.626251     0.520895   \n",
       "371709  ...         0.000000       0.607868        1.000000     0.579315   \n",
       "...     ...              ...            ...             ...          ...   \n",
       "463875  ...         0.000000       0.943727        1.000000     0.986273   \n",
       "463965  ...         0.055866       0.637822        0.943243     0.957387   \n",
       "464018  ...         0.011635       0.024288        0.988365     0.765321   \n",
       "464032  ...         0.375656       0.368796        0.624344     0.654472   \n",
       "464055  ...         0.102188       0.288101        0.897812     0.040011   \n",
       "\n",
       "        subscribed_cap_bs  tang_assets_bs  labor_avg_mod  flag_miss_labor_avg  \\\n",
       "371478           0.097197        0.068816       0.083333                    0   \n",
       "371577           0.177965        0.551240       0.180556                    0   \n",
       "371582           0.017583        0.037029       0.152778                    0   \n",
       "371697           0.294291        0.370218       0.083333                    0   \n",
       "371709           0.317259        0.000000       1.009435                    1   \n",
       "...                   ...             ...            ...                  ...   \n",
       "463875           0.023000        0.000000       0.083333                    0   \n",
       "463965           0.178296        0.054974       0.166667                    0   \n",
       "464018           0.160849        0.011635       0.250000                    0   \n",
       "464032           0.672495        0.375656       0.166667                    0   \n",
       "464055           0.023732        0.102188       0.486111                    0   \n",
       "\n",
       "        birth_year_mod  flag_miss_birth_year  \n",
       "371478          1960.0                     0  \n",
       "371577          1970.5                     0  \n",
       "371582          1978.0                     0  \n",
       "371697          1956.0                     0  \n",
       "371709          1979.0                     0  \n",
       "...                ...                   ...  \n",
       "463875          1975.0                     0  \n",
       "463965          1959.0                     0  \n",
       "464018          1953.0                     0  \n",
       "464032          1961.5                     0  \n",
       "464055          1984.0                     0  \n",
       "\n",
       "[1886 rows x 63 columns]"
      ]
     },
     "execution_count": 60,
     "metadata": {},
     "output_type": "execute_result"
    }
   ],
   "source": [
    "dataset3 = pd.concat([data3, holdout_data])\n",
    "dataset3"
   ]
  },
  {
   "cell_type": "code",
   "execution_count": 61,
   "id": "dd1d6e74-e4d8-415d-8e99-b1053dc8f774",
   "metadata": {
    "tags": []
   },
   "outputs": [
    {
     "data": {
      "text/plain": [
       "material_exp_pl     2\n",
       "personnel_exp_pl    2\n",
       "dtype: int64"
      ]
     },
     "execution_count": 61,
     "metadata": {},
     "output_type": "execute_result"
    }
   ],
   "source": [
    "for col in impute_num_list:\n",
    "    impute_num(dataset3, col)\n",
    "\n",
    "for col in impute_cat_list:\n",
    "    impute_cat(dataset3, col)\n",
    "    \n",
    "to_filter=dataset3.isna().sum()\n",
    "to_filter[to_filter>0]"
   ]
  },
  {
   "cell_type": "code",
   "execution_count": 62,
   "id": "a9f74490-5afb-44fc-98cb-d9e8f24f4db5",
   "metadata": {
    "tags": []
   },
   "outputs": [],
   "source": [
    "# recalculate missing values for _pl variables, and rename columns\n",
    "pl_names2 = [\"material_exp\", \"personnel_exp\"]\n",
    "dataset3[[col + \"_pl\" for col in pl_names2]] = dataset3[pl_names2].div(\n",
    "    dataset3[\"sales\"], axis=\"index\")"
   ]
  },
  {
   "cell_type": "code",
   "execution_count": 63,
   "id": "75b468a8-fb88-4f97-93b4-44d6c7882222",
   "metadata": {
    "tags": []
   },
   "outputs": [
    {
     "name": "stdout",
     "output_type": "stream",
     "text": [
      "<class 'pandas.core.frame.DataFrame'>\n",
      "Index: 1886 entries, 371478 to 464055\n",
      "Data columns (total 75 columns):\n",
      " #   Column                Non-Null Count  Dtype   \n",
      "---  ------                --------------  -----   \n",
      " 0   year                  1886 non-null   int64   \n",
      " 1   comp_id               1886 non-null   float64 \n",
      " 2   begin                 1886 non-null   object  \n",
      " 3   end                   1886 non-null   object  \n",
      " 4   amort                 1886 non-null   float64 \n",
      " 5   curr_assets           1886 non-null   float64 \n",
      " 6   curr_liab             1886 non-null   float64 \n",
      " 7   extra_exp             1886 non-null   float64 \n",
      " 8   extra_inc             1886 non-null   float64 \n",
      " 9   extra_profit_loss     1886 non-null   float64 \n",
      " 10  fixed_assets          1886 non-null   float64 \n",
      " 11  inc_bef_tax           1886 non-null   float64 \n",
      " 12  intang_assets         1886 non-null   float64 \n",
      " 13  inventories           1886 non-null   float64 \n",
      " 14  liq_assets            1886 non-null   float64 \n",
      " 15  material_exp          1886 non-null   float64 \n",
      " 16  personnel_exp         1886 non-null   float64 \n",
      " 17  profit_loss_year      1886 non-null   float64 \n",
      " 18  sales                 1886 non-null   float64 \n",
      " 19  share_eq              1886 non-null   float64 \n",
      " 20  subscribed_cap        1886 non-null   float64 \n",
      " 21  tang_assets           1886 non-null   float64 \n",
      " 22  balsheet_flag         1886 non-null   float64 \n",
      " 23  balsheet_length       1886 non-null   float64 \n",
      " 24  balsheet_notfullyear  1886 non-null   float64 \n",
      " 25  founded_year          1886 non-null   float64 \n",
      " 26  ceo_count             1886 non-null   float64 \n",
      " 27  foreign               1886 non-null   float64 \n",
      " 28  female                1886 non-null   float64 \n",
      " 29  inoffice_days         1886 non-null   float64 \n",
      " 30  gender                1886 non-null   object  \n",
      " 31  origin                1886 non-null   object  \n",
      " 32  nace_main             1886 non-null   category\n",
      " 33  ind2                  1886 non-null   category\n",
      " 34  ind                   1886 non-null   category\n",
      " 35  urban_m               1886 non-null   category\n",
      " 36  region_m              1886 non-null   object  \n",
      " 37  founded_date          1886 non-null   object  \n",
      " 38  age                   1886 non-null   float64 \n",
      " 39  status_alive          1886 non-null   int32   \n",
      " 40  default               1886 non-null   int32   \n",
      " 41  flag_asset_problem    1886 non-null   float64 \n",
      " 42  total_assets_bs       1886 non-null   float64 \n",
      " 43  extra_exp_pl          1886 non-null   float64 \n",
      " 44  extra_inc_pl          1886 non-null   float64 \n",
      " 45  extra_profit_loss_pl  1886 non-null   float64 \n",
      " 46  inc_bef_tax_pl        1886 non-null   float64 \n",
      " 47  inventories_pl        1886 non-null   float64 \n",
      " 48  material_exp_pl       1886 non-null   float64 \n",
      " 49  profit_loss_year_pl   1886 non-null   float64 \n",
      " 50  personnel_exp_pl      1886 non-null   float64 \n",
      " 51  intang_assets_bs      1886 non-null   float64 \n",
      " 52  curr_liab_bs          1886 non-null   float64 \n",
      " 53  fixed_assets_bs       1886 non-null   float64 \n",
      " 54  liq_assets_bs         1886 non-null   float64 \n",
      " 55  curr_assets_bs        1886 non-null   float64 \n",
      " 56  share_eq_bs           1886 non-null   float64 \n",
      " 57  subscribed_cap_bs     1886 non-null   float64 \n",
      " 58  tang_assets_bs        1886 non-null   float64 \n",
      " 59  labor_avg_mod         1886 non-null   float64 \n",
      " 60  flag_miss_labor_avg   1886 non-null   int32   \n",
      " 61  birth_year_mod        1886 non-null   float64 \n",
      " 62  flag_miss_birth_year  1886 non-null   int32   \n",
      " 63  flag_amort            1886 non-null   int32   \n",
      " 64  flag_material_exp     1886 non-null   int32   \n",
      " 65  flag_personnel_exp    1886 non-null   int32   \n",
      " 66  flag_founded_year     1886 non-null   int32   \n",
      " 67  flag_ceo_count        1886 non-null   int32   \n",
      " 68  flag_foreign          1886 non-null   int32   \n",
      " 69  flag_female           1886 non-null   int32   \n",
      " 70  flag_inoffice_days    1886 non-null   int32   \n",
      " 71  flag_age              1886 non-null   int32   \n",
      " 72  flag_gender           1886 non-null   int32   \n",
      " 73  flag_origin           1886 non-null   int32   \n",
      " 74  flag_region_m         1886 non-null   int32   \n",
      "dtypes: category(4), float64(48), int32(16), int64(1), object(6)\n",
      "memory usage: 965.5+ KB\n"
     ]
    }
   ],
   "source": [
    "dataset3.info()"
   ]
  },
  {
   "cell_type": "markdown",
   "id": "24047fcd-9589-4971-9dec-72f083b24d2e",
   "metadata": {},
   "source": [
    "# Modeling\n",
    "## Defining variable sets\n",
    "\n",
    "There are number of feature sets that we can define: raw company-related features, P&L (as % of sales) and BS related (as % of total assets) and HR-related. Plus the categorical features."
   ]
  },
  {
   "cell_type": "code",
   "execution_count": 64,
   "id": "3081eeff-cb5b-4421-b578-f92736b4ce56",
   "metadata": {
    "tags": []
   },
   "outputs": [],
   "source": [
    "raw_vars = [\"curr_assets\", \"curr_liab\", \"extra_exp\", \"extra_inc\", \"extra_profit_loss\", \"fixed_assets\",\n",
    "              \"inc_bef_tax\", \"intang_assets\", \"inventories\", \"liq_assets\", \"material_exp\", \"personnel_exp\", \n",
    "            \"profit_loss_year\", \"sales\", \"share_eq\", \"subscribed_cap\", \"age\", \"balsheet_flag\", \"balsheet_length\", \"balsheet_notfullyear\", \"flag_asset_problem\"]\n",
    "\n",
    "fin_vars = [\"total_assets_bs\", \"fixed_assets_bs\", \"liq_assets_bs\", \"curr_assets_bs\",\n",
    "            \"share_eq_bs\", \"subscribed_cap_bs\", \"tang_assets_bs\", \"intang_assets_bs\", \"extra_exp_pl\",\n",
    "            \"extra_inc_pl\", \"extra_profit_loss_pl\", \"inc_bef_tax_pl\", \"inventories_pl\",\n",
    "            \"material_exp_pl\", \"profit_loss_year_pl\", \"personnel_exp_pl\"]\n",
    "\n",
    "hr_vars = [\"female\", \"ceo_count\", \"foreign\", \"inoffice_days\", \"labor_avg_mod\",\n",
    "        \"flag_miss_labor_avg\", \"birth_year_mod\", \"flag_miss_birth_year\"]\n",
    "\n",
    "cat_vars = [\"gender\", \"origin\", \"ind2\", \"ind\", \"urban_m\", \"region_m\"]"
   ]
  },
  {
   "cell_type": "code",
   "execution_count": 65,
   "id": "3b64ae11-b3ce-442c-a794-0310f8e81ffe",
   "metadata": {
    "tags": []
   },
   "outputs": [
    {
     "data": {
      "text/plain": [
       "ind2\n",
       "26.0    1992\n",
       "1.0        0\n",
       "69.0       0\n",
       "74.0       0\n",
       "73.0       0\n",
       "        ... \n",
       "45.0       0\n",
       "46.0       0\n",
       "47.0       0\n",
       "49.0       0\n",
       "96.0       0\n",
       "Name: count, Length: 68, dtype: int64"
      ]
     },
     "execution_count": 65,
     "metadata": {},
     "output_type": "execute_result"
    }
   ],
   "source": [
    "# despite dataset1 and dataset3 not containing different ind2 values, this matrix will be created as this is a relevan variable for dataset2.\n",
    "\n",
    "dataset1.ind2.value_counts()"
   ]
  },
  {
   "cell_type": "code",
   "execution_count": 66,
   "id": "810d5297-c74d-4032-8cdb-55d8aff73b19",
   "metadata": {
    "tags": []
   },
   "outputs": [],
   "source": [
    "ind2_catmat = patsy.dmatrix(\"0 + C(ind2)\",dataset1, return_type=\"dataframe\")\n",
    "ind2_catmat = ind2_catmat.drop(['C(ind2)[1.0]'], axis=1)"
   ]
  },
  {
   "cell_type": "code",
   "execution_count": 67,
   "id": "cf9f6d55-4618-4f86-a147-c5bff5cad427",
   "metadata": {
    "tags": []
   },
   "outputs": [],
   "source": [
    "ind_catmat = patsy.dmatrix(\"0 + C(ind)\",dataset1, return_type=\"dataframe\")\n",
    "ind_catmat = ind_catmat.drop(['C(ind)[1.0]'], axis=1)"
   ]
  },
  {
   "cell_type": "code",
   "execution_count": 68,
   "id": "8207a563-fbb3-4f35-afaa-b08d65d10918",
   "metadata": {
    "tags": []
   },
   "outputs": [],
   "source": [
    "m_region_locmat = patsy.dmatrix(\"0 + C(region_m)\",dataset1, return_type=\"dataframe\")\n",
    "m_region_locmat = m_region_locmat.drop(['C(region_m)[Central]'], axis=1)"
   ]
  },
  {
   "cell_type": "code",
   "execution_count": 69,
   "id": "9fb299f8-60a5-47a1-bd02-0228557ff5e3",
   "metadata": {
    "tags": []
   },
   "outputs": [],
   "source": [
    "urban_mmat = patsy.dmatrix(\"0 + C(urban_m)\",dataset1, return_type=\"dataframe\")\n",
    "urban_mmat = urban_mmat.drop(['C(urban_m)[1.0]'], axis=1)"
   ]
  },
  {
   "cell_type": "code",
   "execution_count": 70,
   "id": "11215a91-2a55-4ff9-9421-8140cc5cf7ed",
   "metadata": {
    "tags": []
   },
   "outputs": [
    {
     "data": {
      "text/plain": [
       "371478    female\n",
       "371577       mix\n",
       "371582      male\n",
       "371697    female\n",
       "371709       mix\n",
       "           ...  \n",
       "463875      male\n",
       "463965      male\n",
       "464018      male\n",
       "464032      male\n",
       "464055      male\n",
       "Name: gender, Length: 1992, dtype: object"
      ]
     },
     "execution_count": 70,
     "metadata": {},
     "output_type": "execute_result"
    }
   ],
   "source": [
    "dataset1.gender"
   ]
  },
  {
   "cell_type": "code",
   "execution_count": 71,
   "id": "44579cac-3667-4aaf-bac6-64951aeac0ad",
   "metadata": {
    "tags": []
   },
   "outputs": [],
   "source": [
    "gender_catmat = patsy.dmatrix(\"0 + C(gender)\",dataset1, return_type=\"dataframe\")\n",
    "gender_catmat = gender_catmat.drop(['C(gender)[male]'], axis=1)"
   ]
  },
  {
   "cell_type": "code",
   "execution_count": 72,
   "id": "841c105a-43b7-461e-8afb-13ada35adff1",
   "metadata": {
    "tags": []
   },
   "outputs": [
    {
     "data": {
      "text/plain": [
       "371478    Domestic\n",
       "371577    Domestic\n",
       "371582    Domestic\n",
       "371697    Domestic\n",
       "371709    Domestic\n",
       "            ...   \n",
       "463875    Domestic\n",
       "463965    Domestic\n",
       "464018    Domestic\n",
       "464032         mix\n",
       "464055    Domestic\n",
       "Name: origin, Length: 1992, dtype: object"
      ]
     },
     "execution_count": 72,
     "metadata": {},
     "output_type": "execute_result"
    }
   ],
   "source": [
    "dataset1.origin"
   ]
  },
  {
   "cell_type": "code",
   "execution_count": 73,
   "id": "4d2633f4-117e-481c-b683-8c1ccb0adba8",
   "metadata": {
    "tags": []
   },
   "outputs": [],
   "source": [
    "origin_catmat = patsy.dmatrix(\"0 + C(origin)\",dataset1, return_type=\"dataframe\")\n",
    "origin_catmat = origin_catmat.drop(['C(origin)[Domestic]'], axis=1)"
   ]
  },
  {
   "cell_type": "markdown",
   "id": "0254880e-5bff-405e-ba96-b7e282db99c3",
   "metadata": {},
   "source": [
    "## Modeling on data1"
   ]
  },
  {
   "cell_type": "markdown",
   "id": "25072448-bdb7-403a-87e7-d2b0881363eb",
   "metadata": {},
   "source": [
    "3 logistics regression models are to be created: one with only the raw and financial variables, another with categorical variables added, and a third with all HR variables added. 5-fold cross validation is to be applied. On top, a random forest model is to be created as well."
   ]
  },
  {
   "cell_type": "code",
   "execution_count": 74,
   "id": "1bfa6dee-251c-43bd-9ffb-3ea6207956f6",
   "metadata": {
    "tags": []
   },
   "outputs": [],
   "source": [
    "raw = dataset1[raw_vars]\n",
    "fin = dataset1[fin_vars]\n",
    "X1 = pd.concat([raw, fin], axis=1)"
   ]
  },
  {
   "cell_type": "code",
   "execution_count": 75,
   "id": "25528a1d-6eff-496a-b278-801148cf5d9a",
   "metadata": {
    "tags": []
   },
   "outputs": [],
   "source": [
    "X2 = pd.concat([X1, ind2_catmat, ind_catmat, m_region_locmat, urban_mmat, gender_catmat, origin_catmat], axis=1)"
   ]
  },
  {
   "cell_type": "code",
   "execution_count": 76,
   "id": "8387dd57-4478-4fbf-bbf5-71fc1f689269",
   "metadata": {
    "tags": []
   },
   "outputs": [],
   "source": [
    "hr = dataset1[hr_vars]\n",
    "X3 = pd.concat([X1, X2, hr], axis = 1)"
   ]
  },
  {
   "cell_type": "code",
   "execution_count": 77,
   "id": "9ca556aa-46df-47e9-8916-9aec854698c7",
   "metadata": {
    "tags": []
   },
   "outputs": [],
   "source": [
    "rfvars  = pd.concat([X1, X2, hr], axis=1)"
   ]
  },
  {
   "cell_type": "code",
   "execution_count": 78,
   "id": "902a523d-1628-4655-b3a2-e1ef6c5ccc75",
   "metadata": {
    "tags": []
   },
   "outputs": [],
   "source": [
    "y = dataset1['default']"
   ]
  },
  {
   "cell_type": "code",
   "execution_count": 79,
   "id": "7a656e4a-a1ef-4321-9fc9-9f082aab5f78",
   "metadata": {
    "tags": []
   },
   "outputs": [],
   "source": [
    "# definint train-holdout split based on dataset1's setup\n",
    "\n",
    "index_train = data1.index\n",
    "index_holdout = holdout_data.index\n",
    "\n",
    "y_train = y.loc[index_train]\n",
    "y_holdout = y.loc[index_holdout]"
   ]
  },
  {
   "cell_type": "code",
   "execution_count": 80,
   "id": "6137f0b0-80ce-4cd0-9519-b5d94ee54ba7",
   "metadata": {
    "tags": []
   },
   "outputs": [],
   "source": [
    "# specifying cross-validation \n",
    "k = KFold(n_splits = 5, shuffle = True, random_state = 20240224)"
   ]
  },
  {
   "cell_type": "code",
   "execution_count": 81,
   "id": "6b132fbd-826e-4305-a8e9-fe8fdb98d05d",
   "metadata": {
    "tags": []
   },
   "outputs": [],
   "source": [
    "# no regularisation needed so setting the paremeter to very high value\n",
    "Cs_value_logit = [1e20]"
   ]
  },
  {
   "cell_type": "code",
   "execution_count": 82,
   "id": "0b648edd-c839-4be5-b4fa-464bd3045065",
   "metadata": {
    "tags": []
   },
   "outputs": [],
   "source": [
    "logit_model_vars = [X1.loc[index_train], X2.loc[index_train], X3.loc[index_train]]\n",
    "\n",
    "logit_models = dict()\n",
    "CV_RMSE_folds = dict()"
   ]
  },
  {
   "cell_type": "code",
   "execution_count": 83,
   "id": "ba6ab1d9-4dab-4ac6-b7bc-7c6456008f01",
   "metadata": {
    "tags": []
   },
   "outputs": [
    {
     "name": "stdout",
     "output_type": "stream",
     "text": [
      "CPU times: total: 2.81 s\n",
      "Wall time: 2.85 s\n"
     ]
    }
   ],
   "source": [
    "%%time\n",
    "for i in range(len(logit_model_vars)):\n",
    "    LRCV_brier = LogisticRegressionCV(\n",
    "        Cs=Cs_value_logit, \n",
    "        cv=k,\n",
    "        refit=True, \n",
    "        scoring='neg_brier_score', \n",
    "        solver=\"newton-cg\", \n",
    "        tol=1e-7, \n",
    "        random_state=20240224)\n",
    "    logit_models['X'+str(i+1)] = LRCV_brier.fit(logit_model_vars[i], y_train)\n",
    "    \n",
    "    # Calculate RMSE on test for each fold\n",
    "    CV_RMSE_folds['X'+str(i+1)] = np.sqrt(-1*(logit_models['X'+str(i+1)].scores_[1])).flatten()"
   ]
  },
  {
   "cell_type": "code",
   "execution_count": 84,
   "id": "4911b84d-de5c-4213-9f0e-d86376dfc072",
   "metadata": {
    "tags": []
   },
   "outputs": [
    {
     "data": {
      "text/html": [
       "<div>\n",
       "<style scoped>\n",
       "    .dataframe tbody tr th:only-of-type {\n",
       "        vertical-align: middle;\n",
       "    }\n",
       "\n",
       "    .dataframe tbody tr th {\n",
       "        vertical-align: top;\n",
       "    }\n",
       "\n",
       "    .dataframe thead th {\n",
       "        text-align: right;\n",
       "    }\n",
       "</style>\n",
       "<table border=\"1\" class=\"dataframe\">\n",
       "  <thead>\n",
       "    <tr style=\"text-align: right;\">\n",
       "      <th></th>\n",
       "      <th>X1</th>\n",
       "      <th>X2</th>\n",
       "      <th>X3</th>\n",
       "    </tr>\n",
       "  </thead>\n",
       "  <tbody>\n",
       "    <tr>\n",
       "      <th>0</th>\n",
       "      <td>0.216860</td>\n",
       "      <td>0.217515</td>\n",
       "      <td>0.226688</td>\n",
       "    </tr>\n",
       "    <tr>\n",
       "      <th>1</th>\n",
       "      <td>0.251325</td>\n",
       "      <td>0.251325</td>\n",
       "      <td>0.203552</td>\n",
       "    </tr>\n",
       "    <tr>\n",
       "      <th>2</th>\n",
       "      <td>0.228664</td>\n",
       "      <td>0.228271</td>\n",
       "      <td>0.240062</td>\n",
       "    </tr>\n",
       "    <tr>\n",
       "      <th>3</th>\n",
       "      <td>0.244099</td>\n",
       "      <td>0.244010</td>\n",
       "      <td>0.254293</td>\n",
       "    </tr>\n",
       "    <tr>\n",
       "      <th>4</th>\n",
       "      <td>0.276164</td>\n",
       "      <td>0.276164</td>\n",
       "      <td>0.256437</td>\n",
       "    </tr>\n",
       "  </tbody>\n",
       "</table>\n",
       "</div>"
      ],
      "text/plain": [
       "         X1        X2        X3\n",
       "0  0.216860  0.217515  0.226688\n",
       "1  0.251325  0.251325  0.203552\n",
       "2  0.228664  0.228271  0.240062\n",
       "3  0.244099  0.244010  0.254293\n",
       "4  0.276164  0.276164  0.256437"
      ]
     },
     "execution_count": 84,
     "metadata": {},
     "output_type": "execute_result"
    }
   ],
   "source": [
    "pd.DataFrame(CV_RMSE_folds)"
   ]
  },
  {
   "cell_type": "code",
   "execution_count": 85,
   "id": "21635f4d-673f-4a9f-8f25-dccd74889080",
   "metadata": {
    "tags": []
   },
   "outputs": [],
   "source": [
    "# checking AUC scores as well\n",
    "CV_AUC_folds = dict()\n",
    "\n",
    "for i in range(len(logit_model_vars)):\n",
    "    LRCV_auc = LogisticRegressionCV(\n",
    "        Cs=Cs_value_logit, \n",
    "        cv=k, \n",
    "        refit=True, \n",
    "        scoring='roc_auc', \n",
    "        solver=\"newton-cg\", \n",
    "        tol=1e-7, \n",
    "        random_state = 20240205)\n",
    "    LRCV_auc_fit = LRCV_auc.fit(logit_model_vars[i], y_train)\n",
    "    # Calculate AUC on test for each fold\n",
    "    CV_AUC_folds['X'+str(i+1)] = LRCV_auc_fit.scores_[1][:,0].tolist()"
   ]
  },
  {
   "cell_type": "code",
   "execution_count": 86,
   "id": "85c0a3b7-08e5-4ec6-82d4-650bd3106999",
   "metadata": {
    "tags": []
   },
   "outputs": [
    {
     "data": {
      "text/html": [
       "<div>\n",
       "<style scoped>\n",
       "    .dataframe tbody tr th:only-of-type {\n",
       "        vertical-align: middle;\n",
       "    }\n",
       "\n",
       "    .dataframe tbody tr th {\n",
       "        vertical-align: top;\n",
       "    }\n",
       "\n",
       "    .dataframe thead th {\n",
       "        text-align: right;\n",
       "    }\n",
       "</style>\n",
       "<table border=\"1\" class=\"dataframe\">\n",
       "  <thead>\n",
       "    <tr style=\"text-align: right;\">\n",
       "      <th></th>\n",
       "      <th>X1</th>\n",
       "      <th>X2</th>\n",
       "      <th>X3</th>\n",
       "    </tr>\n",
       "  </thead>\n",
       "  <tbody>\n",
       "    <tr>\n",
       "      <th>0</th>\n",
       "      <td>0.747475</td>\n",
       "      <td>0.741414</td>\n",
       "      <td>0.723737</td>\n",
       "    </tr>\n",
       "    <tr>\n",
       "      <th>1</th>\n",
       "      <td>0.482883</td>\n",
       "      <td>0.482883</td>\n",
       "      <td>0.580180</td>\n",
       "    </tr>\n",
       "    <tr>\n",
       "      <th>2</th>\n",
       "      <td>0.561661</td>\n",
       "      <td>0.600122</td>\n",
       "      <td>0.731990</td>\n",
       "    </tr>\n",
       "    <tr>\n",
       "      <th>3</th>\n",
       "      <td>0.626263</td>\n",
       "      <td>0.625253</td>\n",
       "      <td>0.758586</td>\n",
       "    </tr>\n",
       "    <tr>\n",
       "      <th>4</th>\n",
       "      <td>0.661783</td>\n",
       "      <td>0.661783</td>\n",
       "      <td>0.623932</td>\n",
       "    </tr>\n",
       "  </tbody>\n",
       "</table>\n",
       "</div>"
      ],
      "text/plain": [
       "         X1        X2        X3\n",
       "0  0.747475  0.741414  0.723737\n",
       "1  0.482883  0.482883  0.580180\n",
       "2  0.561661  0.600122  0.731990\n",
       "3  0.626263  0.625253  0.758586\n",
       "4  0.661783  0.661783  0.623932"
      ]
     },
     "execution_count": 86,
     "metadata": {},
     "output_type": "execute_result"
    }
   ],
   "source": [
    "pd.DataFrame(CV_AUC_folds)"
   ]
  },
  {
   "cell_type": "code",
   "execution_count": 87,
   "id": "38ad765e-dae8-4dbe-9d4a-d4edf17aa492",
   "metadata": {
    "tags": []
   },
   "outputs": [],
   "source": [
    "CV_RMSE = dict()\n",
    "CV_AUC = dict()\n",
    "\n",
    "for key in logit_models:\n",
    "    CV_RMSE[key] = np.mean(CV_RMSE_folds[key])\n",
    "    CV_AUC[key] = np.mean(CV_AUC_folds[key])  \n",
    "\n",
    "logit_summary1 = np.transpose(pd.DataFrame.from_dict([CV_RMSE,CV_AUC], orient='columns'))\n",
    "logit_summary1.columns = ['CV RMSE', 'CV AUC']"
   ]
  },
  {
   "cell_type": "code",
   "execution_count": 88,
   "id": "d6b811d2-738e-4dc1-a1a1-5fec17df82d6",
   "metadata": {
    "tags": []
   },
   "outputs": [
    {
     "data": {
      "text/html": [
       "<div>\n",
       "<style scoped>\n",
       "    .dataframe tbody tr th:only-of-type {\n",
       "        vertical-align: middle;\n",
       "    }\n",
       "\n",
       "    .dataframe tbody tr th {\n",
       "        vertical-align: top;\n",
       "    }\n",
       "\n",
       "    .dataframe thead th {\n",
       "        text-align: right;\n",
       "    }\n",
       "</style>\n",
       "<table border=\"1\" class=\"dataframe\">\n",
       "  <thead>\n",
       "    <tr style=\"text-align: right;\">\n",
       "      <th></th>\n",
       "      <th>CV RMSE</th>\n",
       "      <th>CV AUC</th>\n",
       "    </tr>\n",
       "  </thead>\n",
       "  <tbody>\n",
       "    <tr>\n",
       "      <th>X1</th>\n",
       "      <td>0.243423</td>\n",
       "      <td>0.616013</td>\n",
       "    </tr>\n",
       "    <tr>\n",
       "      <th>X2</th>\n",
       "      <td>0.243457</td>\n",
       "      <td>0.622291</td>\n",
       "    </tr>\n",
       "    <tr>\n",
       "      <th>X3</th>\n",
       "      <td>0.236206</td>\n",
       "      <td>0.683685</td>\n",
       "    </tr>\n",
       "  </tbody>\n",
       "</table>\n",
       "</div>"
      ],
      "text/plain": [
       "     CV RMSE    CV AUC\n",
       "X1  0.243423  0.616013\n",
       "X2  0.243457  0.622291\n",
       "X3  0.236206  0.683685"
      ]
     },
     "execution_count": 88,
     "metadata": {},
     "output_type": "execute_result"
    }
   ],
   "source": [
    "logit_summary1"
   ]
  },
  {
   "cell_type": "markdown",
   "id": "a85daaec-156e-4a7a-8ec7-4cdf9c5de448",
   "metadata": {},
   "source": [
    "In dataset1, both with RMSE and AUC the best performing model is X3 - which is the most complex one. "
   ]
  },
  {
   "cell_type": "code",
   "execution_count": 89,
   "id": "0e44cc37-269e-45c7-911d-90264981ee8f",
   "metadata": {
    "tags": []
   },
   "outputs": [
    {
     "data": {
      "text/plain": [
       "0.237"
      ]
     },
     "execution_count": 89,
     "metadata": {},
     "output_type": "execute_result"
    }
   ],
   "source": [
    "best_model = logit_models['X3']\n",
    "best_model_X_holdout = X3.loc[index_holdout]\n",
    "\n",
    "logit_predicted_probabilities_holdout = best_model.predict_proba(best_model_X_holdout)[:,1]\n",
    "best_rmse_holdout = np.sqrt(metrics.mean_squared_error(y_holdout, logit_predicted_probabilities_holdout))\n",
    "round(best_rmse_holdout, 3)"
   ]
  },
  {
   "cell_type": "code",
   "execution_count": 90,
   "id": "284c3589-09b3-4e3b-a45e-7e7dbc7b515c",
   "metadata": {
    "tags": []
   },
   "outputs": [
    {
     "data": {
      "text/plain": [
       "array([0.11287221, 0.0174075 , 0.2947131 , ..., 0.07919411, 0.05906603,\n",
       "       0.04611049])"
      ]
     },
     "execution_count": 90,
     "metadata": {},
     "output_type": "execute_result"
    }
   ],
   "source": [
    "logit_predicted_probabilities_holdout"
   ]
  },
  {
   "cell_type": "markdown",
   "id": "b1b1cf81-ed7e-449d-8368-a0f337d1c28d",
   "metadata": {},
   "source": [
    "**Discrete ROC (with thresholds in steps) on holdout**"
   ]
  },
  {
   "cell_type": "code",
   "execution_count": 91,
   "id": "3bfa7b3a-1b2a-4b63-b93d-7a8120a87e77",
   "metadata": {
    "tags": []
   },
   "outputs": [],
   "source": [
    "thresholds = [i/100 for i in range(1,80,1)]\n",
    "cm = dict()\n",
    "true_positive_rates = []\n",
    "false_positive_rates = []\n",
    "holdout_prediction = []\n",
    "for thr in thresholds:\n",
    "    holdout_prediction = np.where(logit_predicted_probabilities_holdout < thr, 0, 1)\n",
    "    cm_thr = confusion_matrix(y_holdout, holdout_prediction, labels=[0,1])\n",
    "    cm[thr] = cm_thr\n",
    "    tn, fp, fn, tp = cm_thr.ravel()\n",
    "    true_positive_rates.append(tp/(tp+fn))\n",
    "    false_positive_rates.append(fp/(fp+tn))"
   ]
  },
  {
   "cell_type": "code",
   "execution_count": 92,
   "id": "7d595abe-7cd6-4679-a9fc-c322a7fb21a1",
   "metadata": {
    "tags": []
   },
   "outputs": [
    {
     "data": {
      "text/plain": [
       "array([[973,   8],\n",
       "       [ 54,   2]], dtype=int64)"
      ]
     },
     "execution_count": 92,
     "metadata": {},
     "output_type": "execute_result"
    }
   ],
   "source": [
    "cm_thr"
   ]
  },
  {
   "cell_type": "code",
   "execution_count": 93,
   "id": "7e277853-2db4-406e-9b17-c6026b91f84a",
   "metadata": {
    "tags": []
   },
   "outputs": [
    {
     "data": {
      "image/png": "[encoded data removed]",
      "text/plain": [
       "<Figure size 640x480 with 1 Axes>"
      ]
     },
     "metadata": {
      "image/png": {
       "height": 480,
       "width": 640
      }
     },
     "output_type": "display_data"
    },
    {
     "data": {
      "text/plain": [
       "<Figure Size: (640 x 480)>"
      ]
     },
     "execution_count": 93,
     "metadata": {},
     "output_type": "execute_result"
    }
   ],
   "source": [
    "create_roc_plot(y_holdout, logit_predicted_probabilities_holdout)"
   ]
  },
  {
   "cell_type": "markdown",
   "id": "197bf378-a2df-4c31-a9b6-02a8869a3c1a",
   "metadata": {},
   "source": [
    "The ROC curve shows that the model is just barely above the 45 degree line suggesting that this is still not a very good model - despite being the \"best\" from the created ones."
   ]
  },
  {
   "cell_type": "markdown",
   "id": "b29171ac-a739-417a-a753-9f573b38598e",
   "metadata": {},
   "source": [
    "### Using the loss function to define optimal threshold"
   ]
  },
  {
   "cell_type": "code",
   "execution_count": 94,
   "id": "620e9c3f-29a0-4765-9950-742a22421827",
   "metadata": {
    "tags": []
   },
   "outputs": [
    {
     "data": {
      "text/plain": [
       "0.048167539267015703"
      ]
     },
     "execution_count": 94,
     "metadata": {},
     "output_type": "execute_result"
    }
   ],
   "source": [
    "FP = 3\n",
    "FN = 15\n",
    "cost = FN/FP\n",
    "\n",
    "# the prevalence, or the proportion of cases in the population (n.cases/(n.controls+n.cases))\n",
    "prevelance = y_train.sum()/len(y_train)\n",
    "prevelance"
   ]
  },
  {
   "cell_type": "code",
   "execution_count": 95,
   "id": "81fb6ae2-2c24-4446-abf9-61d037b3ba8e",
   "metadata": {
    "tags": []
   },
   "outputs": [],
   "source": [
    "best_thresholds_cv = dict()\n",
    "expected_loss_cv = dict()\n",
    "fold5_threshold = dict()\n",
    "fold5_expected_loss = dict()\n",
    "fold5_all_coords = dict()\n",
    "\n",
    "for i, model_name in enumerate(logit_models):\n",
    "    best_thresholds = []\n",
    "    expected_loss =[]\n",
    "    if model_name != 'LASSO':\n",
    "        X = logit_model_vars[i]\n",
    "        c_index = 0\n",
    "    else:\n",
    "        X = normalized_logitvars\n",
    "        c_index = best_lambda_i\n",
    "    fold = 0\n",
    "    for train_index, test_index in k.split(X):\n",
    "        X_fold = X.iloc[test_index,:]\n",
    "        y_fold = y_train.iloc[test_index]\n",
    "        pred_fold = generate_fold_prediction(logit_models[model_name], X_fold, fold, c_index)\n",
    "        false_pos_rate, true_pos_rate, thresholds = roc_curve(y_fold, pred_fold)\n",
    "        optimal_threshold = sorted(list(zip(\n",
    "            np.abs(true_pos_rate + (1 - prevelance)/(cost * prevelance)*(1-false_pos_rate)),\\\n",
    "                                       thresholds)), key=lambda i: i[0], reverse=True)[0][1]\n",
    "        best_thresholds.append(optimal_threshold)\n",
    "        threshold_prediction = np.where(pred_fold < optimal_threshold, 0, 1)\n",
    "        tn, fp, fn, tp = confusion_matrix(y_fold, threshold_prediction, labels=[0,1]).ravel()\n",
    "        curr_exp_loss = (fp*FP + fn*FN)/len(y_fold)\n",
    "        expected_loss.append(curr_exp_loss)\n",
    "        fold = fold+1\n",
    "\n",
    "    best_thresholds_cv[model_name] = np.mean(best_thresholds)\n",
    "    expected_loss_cv[model_name] = np.mean(expected_loss)\n",
    "\n",
    "    # for fold #5\n",
    "    fold5_threshold[model_name] = optimal_threshold\n",
    "    fold5_expected_loss[model_name] = curr_exp_loss\n",
    "\n",
    "    all_coords = pd.DataFrame({\n",
    "        'false_pos': false_pos_rate*sum(y_fold == 0),\n",
    "        'true_pos': true_pos_rate*sum(y_fold == 1),\n",
    "        'false_neg': sum(y_fold == 1) - true_pos_rate*sum(y_fold == 1),\n",
    "        'true_neg': sum(y_fold == 0) - false_pos_rate*sum(y_fold == 0),\n",
    "        'pos': sum(y_fold == 1),\n",
    "        'neg': sum(y_fold == 0),\n",
    "        'n': len(y_fold),\n",
    "        'thresholds': thresholds\n",
    "    })\n",
    "    \n",
    "    fold5_all_coords[model_name] = all_coords"
   ]
  },
  {
   "cell_type": "code",
   "execution_count": 96,
   "id": "d89d075e-dcdf-4716-a689-004b7a78d9cf",
   "metadata": {
    "tags": []
   },
   "outputs": [
    {
     "data": {
      "text/plain": [
       "{'X1': 0.6565445026178011, 'X2': 0.6565445026178011, 'X3': 0.5874345549738219}"
      ]
     },
     "execution_count": 96,
     "metadata": {},
     "output_type": "execute_result"
    }
   ],
   "source": [
    "expected_loss_cv"
   ]
  },
  {
   "cell_type": "code",
   "execution_count": 97,
   "id": "b255d9be-ccaa-44e5-988d-d32cee413fba",
   "metadata": {
    "tags": []
   },
   "outputs": [
    {
     "data": {
      "text/html": [
       "<div>\n",
       "<style scoped>\n",
       "    .dataframe tbody tr th:only-of-type {\n",
       "        vertical-align: middle;\n",
       "    }\n",
       "\n",
       "    .dataframe tbody tr th {\n",
       "        vertical-align: top;\n",
       "    }\n",
       "\n",
       "    .dataframe thead th {\n",
       "        text-align: right;\n",
       "    }\n",
       "</style>\n",
       "<table border=\"1\" class=\"dataframe\">\n",
       "  <thead>\n",
       "    <tr style=\"text-align: right;\">\n",
       "      <th></th>\n",
       "      <th>Model</th>\n",
       "      <th>Avg of optimal thresholds</th>\n",
       "      <th>Threshold for Fold5</th>\n",
       "      <th>Avg expected loss</th>\n",
       "      <th>Expected loss for Fold5</th>\n",
       "    </tr>\n",
       "  </thead>\n",
       "  <tbody>\n",
       "    <tr>\n",
       "      <th>0</th>\n",
       "      <td>X1</td>\n",
       "      <td>inf</td>\n",
       "      <td>0.470899</td>\n",
       "      <td>0.656545</td>\n",
       "      <td>0.659686</td>\n",
       "    </tr>\n",
       "    <tr>\n",
       "      <th>1</th>\n",
       "      <td>X2</td>\n",
       "      <td>inf</td>\n",
       "      <td>0.470899</td>\n",
       "      <td>0.656545</td>\n",
       "      <td>0.659686</td>\n",
       "    </tr>\n",
       "    <tr>\n",
       "      <th>2</th>\n",
       "      <td>X3</td>\n",
       "      <td>0.237653</td>\n",
       "      <td>0.385103</td>\n",
       "      <td>0.587435</td>\n",
       "      <td>0.534031</td>\n",
       "    </tr>\n",
       "  </tbody>\n",
       "</table>\n",
       "</div>"
      ],
      "text/plain": [
       "  Model  Avg of optimal thresholds  Threshold for Fold5  Avg expected loss  \\\n",
       "0    X1                        inf             0.470899           0.656545   \n",
       "1    X2                        inf             0.470899           0.656545   \n",
       "2    X3                   0.237653             0.385103           0.587435   \n",
       "\n",
       "   Expected loss for Fold5  \n",
       "0                 0.659686  \n",
       "1                 0.659686  \n",
       "2                 0.534031  "
      ]
     },
     "execution_count": 97,
     "metadata": {},
     "output_type": "execute_result"
    }
   ],
   "source": [
    "logit_summary2 = pd.DataFrame(best_thresholds_cv.items(),columns=['Model', 'Avg of optimal thresholds'])\n",
    "logit_summary2['Threshold for Fold5'] = fold5_threshold.values()\n",
    "logit_summary2['Avg expected loss'] = expected_loss_cv.values()\n",
    "logit_summary2['Expected loss for Fold5'] = fold5_expected_loss.values()\n",
    "logit_summary2"
   ]
  },
  {
   "cell_type": "markdown",
   "id": "6c2310e4-3d6b-4a7f-a47f-6972c303143d",
   "metadata": {},
   "source": [
    "The average expected loss of model X3 is 0.587 with a threshold of 0.238."
   ]
  },
  {
   "cell_type": "code",
   "execution_count": 98,
   "id": "a73af94f-0bd2-4e65-a2da-456f924c269d",
   "metadata": {
    "tags": []
   },
   "outputs": [
    {
     "data": {
      "text/plain": [
       "0.23765278995397657"
      ]
     },
     "execution_count": 98,
     "metadata": {},
     "output_type": "execute_result"
    }
   ],
   "source": [
    "best_logit_optimal_treshold = best_thresholds_cv[\"X3\"]\n",
    "best_logit_optimal_treshold"
   ]
  },
  {
   "cell_type": "code",
   "execution_count": 99,
   "id": "38b92f3a-caa0-4d5a-a535-02ab624ab261",
   "metadata": {
    "tags": []
   },
   "outputs": [
    {
     "data": {
      "text/plain": [
       "0.749"
      ]
     },
     "execution_count": 99,
     "metadata": {},
     "output_type": "execute_result"
    }
   ],
   "source": [
    "holdout_treshold = np.where(logit_predicted_probabilities_holdout < best_logit_optimal_treshold, 0, 1)\n",
    "tn, fp, fn, tp = confusion_matrix(y_holdout, holdout_treshold, labels=[0,1]).ravel()\n",
    "expected_loss_holdout_log1 = (fp*FP + fn*FN)/len(y_holdout)\n",
    "round(expected_loss_holdout_log1, 3)"
   ]
  },
  {
   "cell_type": "code",
   "execution_count": 100,
   "id": "2bcef999-d47f-4159-8d6f-b36124151c2e",
   "metadata": {
    "tags": []
   },
   "outputs": [
    {
     "data": {
      "text/html": [
       "<div>\n",
       "<style scoped>\n",
       "    .dataframe tbody tr th:only-of-type {\n",
       "        vertical-align: middle;\n",
       "    }\n",
       "\n",
       "    .dataframe tbody tr th {\n",
       "        vertical-align: top;\n",
       "    }\n",
       "\n",
       "    .dataframe thead th {\n",
       "        text-align: right;\n",
       "    }\n",
       "</style>\n",
       "<table border=\"1\" class=\"dataframe\">\n",
       "  <thead>\n",
       "    <tr style=\"text-align: right;\">\n",
       "      <th></th>\n",
       "      <th>Predicted no default</th>\n",
       "      <th>Predicted default</th>\n",
       "    </tr>\n",
       "  </thead>\n",
       "  <tbody>\n",
       "    <tr>\n",
       "      <th>Actul no defaul</th>\n",
       "      <td>957</td>\n",
       "      <td>24</td>\n",
       "    </tr>\n",
       "    <tr>\n",
       "      <th>Actual default</th>\n",
       "      <td>47</td>\n",
       "      <td>9</td>\n",
       "    </tr>\n",
       "  </tbody>\n",
       "</table>\n",
       "</div>"
      ],
      "text/plain": [
       "                 Predicted no default  Predicted default\n",
       "Actul no defaul                   957                 24\n",
       "Actual default                     47                  9"
      ]
     },
     "execution_count": 100,
     "metadata": {},
     "output_type": "execute_result"
    }
   ],
   "source": [
    "cm_object3 = confusion_matrix(y_holdout, holdout_treshold, labels=[0,1])\n",
    "cm3 = pd.DataFrame(cm_object3, \n",
    "    index=['Actul no defaul', 'Actual default'], \n",
    "    columns=['Predicted no default', 'Predicted default'])\n",
    "cm3"
   ]
  },
  {
   "cell_type": "markdown",
   "id": "0e6e140d-0839-4358-9b40-c60d47337324",
   "metadata": {},
   "source": [
    "### Random forest"
   ]
  },
  {
   "cell_type": "code",
   "execution_count": 101,
   "id": "b3297517-d4cd-4815-9dcf-9cb571f18536",
   "metadata": {
    "tags": []
   },
   "outputs": [],
   "source": [
    "rfvars_train = rfvars.loc[index_train]\n",
    "rfvars_holdout = rfvars.loc[index_holdout]"
   ]
  },
  {
   "cell_type": "code",
   "execution_count": 102,
   "id": "05f08ecb-7637-46bf-ac85-2d808e0e7a83",
   "metadata": {
    "tags": []
   },
   "outputs": [],
   "source": [
    "grid = {'max_features': [5, 6, 7],\n",
    "        'criterion':['gini'],\n",
    "        'min_samples_split': [11, 16]}"
   ]
  },
  {
   "cell_type": "code",
   "execution_count": 103,
   "id": "d93a4662-0d45-4fce-8bcc-bc728072a0a5",
   "metadata": {
    "tags": []
   },
   "outputs": [],
   "source": [
    "prob_forest = RandomForestClassifier(\n",
    "    random_state=20240224, \n",
    "    n_estimators=500, \n",
    "    oob_score=True)\n",
    "\n",
    "prob_forest_grid = GridSearchCV(\n",
    "    prob_forest, \n",
    "    grid, \n",
    "    cv=k, \n",
    "    refit='roc_auc',\n",
    "    scoring = ['accuracy', 'roc_auc', 'neg_brier_score'], \n",
    "    n_jobs=-1)"
   ]
  },
  {
   "cell_type": "code",
   "execution_count": 104,
   "id": "03350cef-0631-4bfc-b0cd-8ba4a993b837",
   "metadata": {
    "tags": []
   },
   "outputs": [
    {
     "name": "stdout",
     "output_type": "stream",
     "text": [
      "CPU times: total: 1.97 s\n",
      "Wall time: 13.2 s\n"
     ]
    }
   ],
   "source": [
    "%%time\n",
    "prob_forest_fit = prob_forest_grid.fit(rfvars_train, y_train)"
   ]
  },
  {
   "cell_type": "code",
   "execution_count": 105,
   "id": "010143b6-e49e-443b-9a49-c0065da70fcc",
   "metadata": {
    "tags": []
   },
   "outputs": [
    {
     "data": {
      "text/plain": [
       "array([0.95183246, 0.95183246, 0.95183246, 0.95183246, 0.95183246,\n",
       "       0.95183246])"
      ]
     },
     "execution_count": 105,
     "metadata": {},
     "output_type": "execute_result"
    }
   ],
   "source": [
    "# checking out accuracy, RMSE and AUC\n",
    "\n",
    "cv_accuracy = np.zeros([6])\n",
    "for i in range(5):\n",
    "    cv_accuracy = cv_accuracy + prob_forest_fit.cv_results_['split' + str(i) + '_test_accuracy']\n",
    "cv_accuracy = cv_accuracy/5\n",
    "cv_accuracy"
   ]
  },
  {
   "cell_type": "code",
   "execution_count": 106,
   "id": "7054de48-6075-4f76-9cc7-3640cbc108b3",
   "metadata": {
    "tags": []
   },
   "outputs": [
    {
     "data": {
      "text/plain": [
       "array([0.7187106 , 0.72354219, 0.70943156, 0.72116208, 0.71878542,\n",
       "       0.71383985])"
      ]
     },
     "execution_count": 106,
     "metadata": {},
     "output_type": "execute_result"
    }
   ],
   "source": [
    "cv_auc = np.zeros([6])\n",
    "for i in range(5):\n",
    "    cv_auc = cv_auc + prob_forest_fit.cv_results_['split' + str(i) + '_test_roc_auc']\n",
    "cv_auc = cv_auc/5\n",
    "cv_auc"
   ]
  },
  {
   "cell_type": "code",
   "execution_count": 107,
   "id": "ee8208a3-a92e-4497-911f-d0e10c091ed9",
   "metadata": {
    "tags": []
   },
   "outputs": [
    {
     "data": {
      "text/plain": [
       "array([0.20937355, 0.20935047, 0.21008062, 0.20936084, 0.2101862 ,\n",
       "       0.20981738])"
      ]
     },
     "execution_count": 107,
     "metadata": {},
     "output_type": "execute_result"
    }
   ],
   "source": [
    "cv_rmse = np.zeros([6])\n",
    "for i in range(5):\n",
    "    cv_rmse = cv_rmse +np.sqrt(-1*(prob_forest_fit.cv_results_['split' + str(i) + '_test_neg_brier_score'])).tolist()\n",
    "cv_rmse = cv_rmse/5\n",
    "cv_rmse"
   ]
  },
  {
   "cell_type": "code",
   "execution_count": 108,
   "id": "3f081040-2165-4da6-8ce6-8110f67a5c3b",
   "metadata": {
    "tags": []
   },
   "outputs": [],
   "source": [
    "prob_forest_cv_results = pd.DataFrame({\n",
    "    'max_features': prob_forest_fit.cv_results_['param_max_features'],\n",
    "    'min_samples_split': prob_forest_fit.cv_results_['param_min_samples_split'],\n",
    "    'cv_accuracy': cv_accuracy,\n",
    "    'cv_auc': cv_auc,\n",
    "    'cv_rmse': cv_rmse\n",
    "})"
   ]
  },
  {
   "cell_type": "code",
   "execution_count": 109,
   "id": "7c37ff82-ee7d-4457-94bd-d8e770f314fb",
   "metadata": {
    "tags": []
   },
   "outputs": [
    {
     "data": {
      "text/html": [
       "<div>\n",
       "<style scoped>\n",
       "    .dataframe tbody tr th:only-of-type {\n",
       "        vertical-align: middle;\n",
       "    }\n",
       "\n",
       "    .dataframe tbody tr th {\n",
       "        vertical-align: top;\n",
       "    }\n",
       "\n",
       "    .dataframe thead th {\n",
       "        text-align: right;\n",
       "    }\n",
       "</style>\n",
       "<table border=\"1\" class=\"dataframe\">\n",
       "  <thead>\n",
       "    <tr style=\"text-align: right;\">\n",
       "      <th></th>\n",
       "      <th>max_features</th>\n",
       "      <th>min_samples_split</th>\n",
       "      <th>cv_accuracy</th>\n",
       "      <th>cv_auc</th>\n",
       "      <th>cv_rmse</th>\n",
       "    </tr>\n",
       "  </thead>\n",
       "  <tbody>\n",
       "    <tr>\n",
       "      <th>0</th>\n",
       "      <td>5</td>\n",
       "      <td>11</td>\n",
       "      <td>0.951832</td>\n",
       "      <td>0.718711</td>\n",
       "      <td>0.209374</td>\n",
       "    </tr>\n",
       "    <tr>\n",
       "      <th>1</th>\n",
       "      <td>5</td>\n",
       "      <td>16</td>\n",
       "      <td>0.951832</td>\n",
       "      <td>0.723542</td>\n",
       "      <td>0.209350</td>\n",
       "    </tr>\n",
       "    <tr>\n",
       "      <th>2</th>\n",
       "      <td>6</td>\n",
       "      <td>11</td>\n",
       "      <td>0.951832</td>\n",
       "      <td>0.709432</td>\n",
       "      <td>0.210081</td>\n",
       "    </tr>\n",
       "    <tr>\n",
       "      <th>3</th>\n",
       "      <td>6</td>\n",
       "      <td>16</td>\n",
       "      <td>0.951832</td>\n",
       "      <td>0.721162</td>\n",
       "      <td>0.209361</td>\n",
       "    </tr>\n",
       "    <tr>\n",
       "      <th>4</th>\n",
       "      <td>7</td>\n",
       "      <td>11</td>\n",
       "      <td>0.951832</td>\n",
       "      <td>0.718785</td>\n",
       "      <td>0.210186</td>\n",
       "    </tr>\n",
       "    <tr>\n",
       "      <th>5</th>\n",
       "      <td>7</td>\n",
       "      <td>16</td>\n",
       "      <td>0.951832</td>\n",
       "      <td>0.713840</td>\n",
       "      <td>0.209817</td>\n",
       "    </tr>\n",
       "  </tbody>\n",
       "</table>\n",
       "</div>"
      ],
      "text/plain": [
       "  max_features min_samples_split  cv_accuracy    cv_auc   cv_rmse\n",
       "0            5                11     0.951832  0.718711  0.209374\n",
       "1            5                16     0.951832  0.723542  0.209350\n",
       "2            6                11     0.951832  0.709432  0.210081\n",
       "3            6                16     0.951832  0.721162  0.209361\n",
       "4            7                11     0.951832  0.718785  0.210186\n",
       "5            7                16     0.951832  0.713840  0.209817"
      ]
     },
     "execution_count": 109,
     "metadata": {},
     "output_type": "execute_result"
    }
   ],
   "source": [
    "prob_forest_cv_results"
   ]
  },
  {
   "cell_type": "code",
   "execution_count": 110,
   "id": "b642cd5b-aaa1-4226-88a9-781d259804ab",
   "metadata": {
    "tags": []
   },
   "outputs": [],
   "source": [
    "best_max_features = prob_forest_fit.best_params_['max_features']\n",
    "best_min_sample_split = prob_forest_fit.best_params_['min_samples_split']"
   ]
  },
  {
   "cell_type": "code",
   "execution_count": 111,
   "id": "88df4bc2-6cc2-409a-b2f2-368c491214bc",
   "metadata": {
    "tags": []
   },
   "outputs": [
    {
     "name": "stdout",
     "output_type": "stream",
     "text": [
      "The best random forest model has the following features: {'criterion': 'gini', 'max_features': 5, 'min_samples_split': 16}\n"
     ]
    }
   ],
   "source": [
    "print(f'The best random forest model has the following features: {prob_forest_fit.best_params_}')"
   ]
  },
  {
   "cell_type": "markdown",
   "id": "9cb929a3-b070-41a5-b2eb-345908d9d53f",
   "metadata": {},
   "source": [
    "The random forest model produced much better results than the best performing X3 logistics regression."
   ]
  },
  {
   "cell_type": "markdown",
   "id": "973977dd-e5e2-4ebe-8f71-ab2105cc950b",
   "metadata": {
    "tags": []
   },
   "source": [
    "**Using loss function and search for best thresholds and expected loss over folds**"
   ]
  },
  {
   "cell_type": "code",
   "execution_count": 112,
   "id": "cd8109f5-bfcf-4be9-a0cd-dce637faf1e8",
   "metadata": {
    "tags": []
   },
   "outputs": [],
   "source": [
    "best_thresholds = list()\n",
    "expected_loss = list()\n",
    "\n",
    "fold = 0\n",
    "for train_index, test_index in k.split(rfvars_train):\n",
    "    X_fold = rfvars_train.iloc[test_index,:]\n",
    "    y_fold = y_train.iloc[test_index]\n",
    "    \n",
    "    X_fold_train = rfvars_train.iloc[train_index,:]\n",
    "    y_fold_train = y_train.iloc[train_index]\n",
    "    \n",
    "    prob_forest_best = RandomForestClassifier(\n",
    "        random_state=20240224, \n",
    "        n_estimators=500, \n",
    "        oob_score=True,\n",
    "        criterion = 'gini', \n",
    "        max_features = best_max_features, min_samples_split = best_min_sample_split)\n",
    "    \n",
    "    prob_forest_best_fold = prob_forest_best.fit(X_fold_train, y_fold_train)\n",
    "    pred_fold = prob_forest_best_fold.predict_proba(X_fold)[:,1]\n",
    "\n",
    "    false_pos_rate, true_pos_rate, threshold = roc_curve(y_fold, pred_fold)\n",
    "    \n",
    "    best_threshold = sorted(\n",
    "        list(\n",
    "            zip(\n",
    "                np.abs(\n",
    "                    true_pos_rate + (1 - prevelance)/(cost * prevelance)*(1-false_pos_rate)\n",
    "                ),\n",
    "                threshold\n",
    "            )\n",
    "        ), \n",
    "        key=lambda x: x[0], reverse=True)[0][1]\n",
    "    \n",
    "    best_thresholds.append(best_threshold)\n",
    "    \n",
    "    threshold_prediction = np.where(pred_fold < best_threshold, 0, 1)\n",
    "    tn, fp, fn, tp = confusion_matrix(y_fold, threshold_prediction, labels=[0,1]).ravel()\n",
    "    curr_exp_loss = (fp*FP + fn*FN)/len(y_fold)\n",
    "    expected_loss.append(curr_exp_loss)"
   ]
  },
  {
   "cell_type": "code",
   "execution_count": 113,
   "id": "7c8058aa-befc-4556-92cb-3da3ada3f758",
   "metadata": {
    "tags": []
   },
   "outputs": [
    {
     "data": {
      "text/plain": [
       "array([3.95217391, 4.06328502, 3.9981393 , 4.10925041, 3.97895896,\n",
       "       4.09007007, 4.04663959, 4.1577507 , 4.00574401, 4.11685513,\n",
       "       4.09513988, 4.206251  , 3.9456681 , 4.05677921, 3.81791156,\n",
       "       3.92902267, 3.45128736, 3.56239847, 1.        ])"
      ]
     },
     "execution_count": 113,
     "metadata": {},
     "output_type": "execute_result"
    }
   ],
   "source": [
    "true_pos_rate + (1 - prevelance)/(cost * prevelance)*(1-false_pos_rate)"
   ]
  },
  {
   "cell_type": "code",
   "execution_count": 114,
   "id": "1dcd682f-4e43-407e-b990-6378c801fcf9",
   "metadata": {
    "tags": []
   },
   "outputs": [
    {
     "data": {
      "text/plain": [
       "(array([0.        , 0.        , 0.01648352, 0.01648352, 0.04945055,\n",
       "        0.04945055, 0.06043956, 0.06043956, 0.0989011 , 0.0989011 ,\n",
       "        0.1043956 , 0.1043956 , 0.17032967, 0.17032967, 0.23076923,\n",
       "        0.23076923, 0.35164835, 0.35164835, 1.        ]),\n",
       " array([0.        , 0.11111111, 0.11111111, 0.22222222, 0.22222222,\n",
       "        0.33333333, 0.33333333, 0.44444444, 0.44444444, 0.55555556,\n",
       "        0.55555556, 0.66666667, 0.66666667, 0.77777778, 0.77777778,\n",
       "        0.88888889, 0.88888889, 1.        , 1.        ]),\n",
       " array([       inf, 0.32749912, 0.21721928, 0.19748856, 0.14954631,\n",
       "        0.13833872, 0.12366149, 0.12304074, 0.11190531, 0.11161671,\n",
       "        0.10967482, 0.10645775, 0.08219655, 0.07994457, 0.06844175,\n",
       "        0.06456065, 0.04761404, 0.04659137, 0.00077315]))"
      ]
     },
     "execution_count": 114,
     "metadata": {},
     "output_type": "execute_result"
    }
   ],
   "source": [
    "roc_curve(y_fold, pred_fold)"
   ]
  },
  {
   "cell_type": "code",
   "execution_count": 115,
   "id": "f1b1e5a4-d97c-4480-9e00-58167336c14c",
   "metadata": {
    "tags": []
   },
   "outputs": [
    {
     "data": {
      "text/plain": [
       "[0.19706179637734636,\n",
       " inf,\n",
       " 0.18816587774427776,\n",
       " 0.10239511142695129,\n",
       " 0.1064577521019341]"
      ]
     },
     "execution_count": 115,
     "metadata": {},
     "output_type": "execute_result"
    }
   ],
   "source": [
    "best_thresholds"
   ]
  },
  {
   "cell_type": "code",
   "execution_count": 116,
   "id": "53d18cd4-fc55-4962-92c0-8eac536be8f7",
   "metadata": {
    "tags": []
   },
   "outputs": [
    {
     "data": {
      "text/plain": [
       "[0.7068062827225131,\n",
       " 0.4712041884816754,\n",
       " 0.6596858638743456,\n",
       " 0.581151832460733,\n",
       " 0.5340314136125655]"
      ]
     },
     "execution_count": 116,
     "metadata": {},
     "output_type": "execute_result"
    }
   ],
   "source": [
    "expected_loss"
   ]
  },
  {
   "cell_type": "code",
   "execution_count": 117,
   "id": "4ca200d5-cf93-4051-b476-950f3931d802",
   "metadata": {
    "tags": []
   },
   "outputs": [
    {
     "data": {
      "text/html": [
       "<div>\n",
       "<style scoped>\n",
       "    .dataframe tbody tr th:only-of-type {\n",
       "        vertical-align: middle;\n",
       "    }\n",
       "\n",
       "    .dataframe tbody tr th {\n",
       "        vertical-align: top;\n",
       "    }\n",
       "\n",
       "    .dataframe thead th {\n",
       "        text-align: right;\n",
       "    }\n",
       "</style>\n",
       "<table border=\"1\" class=\"dataframe\">\n",
       "  <thead>\n",
       "    <tr style=\"text-align: right;\">\n",
       "      <th></th>\n",
       "      <th>false_pos</th>\n",
       "      <th>true_pos</th>\n",
       "      <th>false_neg</th>\n",
       "      <th>true_neg</th>\n",
       "      <th>pos</th>\n",
       "      <th>neg</th>\n",
       "      <th>n</th>\n",
       "      <th>thresholds</th>\n",
       "    </tr>\n",
       "  </thead>\n",
       "  <tbody>\n",
       "    <tr>\n",
       "      <th>0</th>\n",
       "      <td>0.0</td>\n",
       "      <td>0.0</td>\n",
       "      <td>9.0</td>\n",
       "      <td>182.0</td>\n",
       "      <td>9</td>\n",
       "      <td>182</td>\n",
       "      <td>191</td>\n",
       "      <td>inf</td>\n",
       "    </tr>\n",
       "    <tr>\n",
       "      <th>1</th>\n",
       "      <td>0.0</td>\n",
       "      <td>1.0</td>\n",
       "      <td>8.0</td>\n",
       "      <td>182.0</td>\n",
       "      <td>9</td>\n",
       "      <td>182</td>\n",
       "      <td>191</td>\n",
       "      <td>0.327499</td>\n",
       "    </tr>\n",
       "    <tr>\n",
       "      <th>2</th>\n",
       "      <td>3.0</td>\n",
       "      <td>1.0</td>\n",
       "      <td>8.0</td>\n",
       "      <td>179.0</td>\n",
       "      <td>9</td>\n",
       "      <td>182</td>\n",
       "      <td>191</td>\n",
       "      <td>0.217219</td>\n",
       "    </tr>\n",
       "    <tr>\n",
       "      <th>3</th>\n",
       "      <td>3.0</td>\n",
       "      <td>2.0</td>\n",
       "      <td>7.0</td>\n",
       "      <td>179.0</td>\n",
       "      <td>9</td>\n",
       "      <td>182</td>\n",
       "      <td>191</td>\n",
       "      <td>0.197489</td>\n",
       "    </tr>\n",
       "    <tr>\n",
       "      <th>4</th>\n",
       "      <td>9.0</td>\n",
       "      <td>2.0</td>\n",
       "      <td>7.0</td>\n",
       "      <td>173.0</td>\n",
       "      <td>9</td>\n",
       "      <td>182</td>\n",
       "      <td>191</td>\n",
       "      <td>0.149546</td>\n",
       "    </tr>\n",
       "    <tr>\n",
       "      <th>5</th>\n",
       "      <td>9.0</td>\n",
       "      <td>3.0</td>\n",
       "      <td>6.0</td>\n",
       "      <td>173.0</td>\n",
       "      <td>9</td>\n",
       "      <td>182</td>\n",
       "      <td>191</td>\n",
       "      <td>0.138339</td>\n",
       "    </tr>\n",
       "    <tr>\n",
       "      <th>6</th>\n",
       "      <td>11.0</td>\n",
       "      <td>3.0</td>\n",
       "      <td>6.0</td>\n",
       "      <td>171.0</td>\n",
       "      <td>9</td>\n",
       "      <td>182</td>\n",
       "      <td>191</td>\n",
       "      <td>0.123661</td>\n",
       "    </tr>\n",
       "    <tr>\n",
       "      <th>7</th>\n",
       "      <td>11.0</td>\n",
       "      <td>4.0</td>\n",
       "      <td>5.0</td>\n",
       "      <td>171.0</td>\n",
       "      <td>9</td>\n",
       "      <td>182</td>\n",
       "      <td>191</td>\n",
       "      <td>0.123041</td>\n",
       "    </tr>\n",
       "    <tr>\n",
       "      <th>8</th>\n",
       "      <td>18.0</td>\n",
       "      <td>4.0</td>\n",
       "      <td>5.0</td>\n",
       "      <td>164.0</td>\n",
       "      <td>9</td>\n",
       "      <td>182</td>\n",
       "      <td>191</td>\n",
       "      <td>0.111905</td>\n",
       "    </tr>\n",
       "    <tr>\n",
       "      <th>9</th>\n",
       "      <td>18.0</td>\n",
       "      <td>5.0</td>\n",
       "      <td>4.0</td>\n",
       "      <td>164.0</td>\n",
       "      <td>9</td>\n",
       "      <td>182</td>\n",
       "      <td>191</td>\n",
       "      <td>0.111617</td>\n",
       "    </tr>\n",
       "    <tr>\n",
       "      <th>10</th>\n",
       "      <td>19.0</td>\n",
       "      <td>5.0</td>\n",
       "      <td>4.0</td>\n",
       "      <td>163.0</td>\n",
       "      <td>9</td>\n",
       "      <td>182</td>\n",
       "      <td>191</td>\n",
       "      <td>0.109675</td>\n",
       "    </tr>\n",
       "    <tr>\n",
       "      <th>11</th>\n",
       "      <td>19.0</td>\n",
       "      <td>6.0</td>\n",
       "      <td>3.0</td>\n",
       "      <td>163.0</td>\n",
       "      <td>9</td>\n",
       "      <td>182</td>\n",
       "      <td>191</td>\n",
       "      <td>0.106458</td>\n",
       "    </tr>\n",
       "    <tr>\n",
       "      <th>12</th>\n",
       "      <td>31.0</td>\n",
       "      <td>6.0</td>\n",
       "      <td>3.0</td>\n",
       "      <td>151.0</td>\n",
       "      <td>9</td>\n",
       "      <td>182</td>\n",
       "      <td>191</td>\n",
       "      <td>0.082197</td>\n",
       "    </tr>\n",
       "    <tr>\n",
       "      <th>13</th>\n",
       "      <td>31.0</td>\n",
       "      <td>7.0</td>\n",
       "      <td>2.0</td>\n",
       "      <td>151.0</td>\n",
       "      <td>9</td>\n",
       "      <td>182</td>\n",
       "      <td>191</td>\n",
       "      <td>0.079945</td>\n",
       "    </tr>\n",
       "    <tr>\n",
       "      <th>14</th>\n",
       "      <td>42.0</td>\n",
       "      <td>7.0</td>\n",
       "      <td>2.0</td>\n",
       "      <td>140.0</td>\n",
       "      <td>9</td>\n",
       "      <td>182</td>\n",
       "      <td>191</td>\n",
       "      <td>0.068442</td>\n",
       "    </tr>\n",
       "    <tr>\n",
       "      <th>15</th>\n",
       "      <td>42.0</td>\n",
       "      <td>8.0</td>\n",
       "      <td>1.0</td>\n",
       "      <td>140.0</td>\n",
       "      <td>9</td>\n",
       "      <td>182</td>\n",
       "      <td>191</td>\n",
       "      <td>0.064561</td>\n",
       "    </tr>\n",
       "    <tr>\n",
       "      <th>16</th>\n",
       "      <td>64.0</td>\n",
       "      <td>8.0</td>\n",
       "      <td>1.0</td>\n",
       "      <td>118.0</td>\n",
       "      <td>9</td>\n",
       "      <td>182</td>\n",
       "      <td>191</td>\n",
       "      <td>0.047614</td>\n",
       "    </tr>\n",
       "    <tr>\n",
       "      <th>17</th>\n",
       "      <td>64.0</td>\n",
       "      <td>9.0</td>\n",
       "      <td>0.0</td>\n",
       "      <td>118.0</td>\n",
       "      <td>9</td>\n",
       "      <td>182</td>\n",
       "      <td>191</td>\n",
       "      <td>0.046591</td>\n",
       "    </tr>\n",
       "    <tr>\n",
       "      <th>18</th>\n",
       "      <td>182.0</td>\n",
       "      <td>9.0</td>\n",
       "      <td>0.0</td>\n",
       "      <td>0.0</td>\n",
       "      <td>9</td>\n",
       "      <td>182</td>\n",
       "      <td>191</td>\n",
       "      <td>0.000773</td>\n",
       "    </tr>\n",
       "  </tbody>\n",
       "</table>\n",
       "</div>"
      ],
      "text/plain": [
       "    false_pos  true_pos  false_neg  true_neg  pos  neg    n  thresholds\n",
       "0         0.0       0.0        9.0     182.0    9  182  191         inf\n",
       "1         0.0       1.0        8.0     182.0    9  182  191    0.327499\n",
       "2         3.0       1.0        8.0     179.0    9  182  191    0.217219\n",
       "3         3.0       2.0        7.0     179.0    9  182  191    0.197489\n",
       "4         9.0       2.0        7.0     173.0    9  182  191    0.149546\n",
       "5         9.0       3.0        6.0     173.0    9  182  191    0.138339\n",
       "6        11.0       3.0        6.0     171.0    9  182  191    0.123661\n",
       "7        11.0       4.0        5.0     171.0    9  182  191    0.123041\n",
       "8        18.0       4.0        5.0     164.0    9  182  191    0.111905\n",
       "9        18.0       5.0        4.0     164.0    9  182  191    0.111617\n",
       "10       19.0       5.0        4.0     163.0    9  182  191    0.109675\n",
       "11       19.0       6.0        3.0     163.0    9  182  191    0.106458\n",
       "12       31.0       6.0        3.0     151.0    9  182  191    0.082197\n",
       "13       31.0       7.0        2.0     151.0    9  182  191    0.079945\n",
       "14       42.0       7.0        2.0     140.0    9  182  191    0.068442\n",
       "15       42.0       8.0        1.0     140.0    9  182  191    0.064561\n",
       "16       64.0       8.0        1.0     118.0    9  182  191    0.047614\n",
       "17       64.0       9.0        0.0     118.0    9  182  191    0.046591\n",
       "18      182.0       9.0        0.0       0.0    9  182  191    0.000773"
      ]
     },
     "execution_count": 117,
     "metadata": {},
     "output_type": "execute_result"
    }
   ],
   "source": [
    "fold5_threshold_rf = best_threshold\n",
    "fold5_expected_loss_rf = curr_exp_loss\n",
    "\n",
    "all_coords_rf = pd.DataFrame({\n",
    "    'false_pos': false_pos_rate*sum(y_fold == 0),\n",
    "    'true_pos': true_pos_rate*sum(y_fold == 1),\n",
    "    'false_neg': sum(y_fold == 1) - true_pos_rate*sum(y_fold == 1),\n",
    "    'true_neg': sum(y_fold == 0) - false_pos_rate*sum(y_fold == 0),\n",
    "    'pos': sum(y_fold == 1),\n",
    "    'neg': sum(y_fold == 0),\n",
    "    'n': len(y_fold),\n",
    "    'thresholds': threshold\n",
    "})\n",
    "\n",
    "all_coords_rf"
   ]
  },
  {
   "cell_type": "code",
   "execution_count": 118,
   "id": "c56a9039-9edd-4d7b-bf79-ae7bc2331c3b",
   "metadata": {
    "tags": []
   },
   "outputs": [],
   "source": [
    "expected_loss_cv['rf_p'] = np.mean(expected_loss)\n",
    "best_thresholds_cv['rf_p'] = np.mean(best_thresholds)"
   ]
  },
  {
   "cell_type": "code",
   "execution_count": 119,
   "id": "a1a6ae5d-3dc0-4380-ace3-b1e1c426a4be",
   "metadata": {
    "tags": []
   },
   "outputs": [],
   "source": [
    "prob_forest_best_results = prob_forest_cv_results[\n",
    "    (prob_forest_cv_results.max_features == best_max_features) & \n",
    "    (prob_forest_cv_results.min_samples_split == best_min_sample_split)]\n",
    "prob_forest_best_results_index = prob_forest_best_results.index.values[0]"
   ]
  },
  {
   "cell_type": "code",
   "execution_count": 120,
   "id": "b4239ac8-b89e-451b-9894-271355538925",
   "metadata": {
    "tags": []
   },
   "outputs": [
    {
     "data": {
      "text/html": [
       "<div>\n",
       "<style scoped>\n",
       "    .dataframe tbody tr th:only-of-type {\n",
       "        vertical-align: middle;\n",
       "    }\n",
       "\n",
       "    .dataframe tbody tr th {\n",
       "        vertical-align: top;\n",
       "    }\n",
       "\n",
       "    .dataframe thead th {\n",
       "        text-align: right;\n",
       "    }\n",
       "</style>\n",
       "<table border=\"1\" class=\"dataframe\">\n",
       "  <thead>\n",
       "    <tr style=\"text-align: right;\">\n",
       "      <th></th>\n",
       "      <th>CV RMSE</th>\n",
       "      <th>CV AUC</th>\n",
       "      <th>Avg of optimal thresholds</th>\n",
       "      <th>Threshold for Fold5</th>\n",
       "      <th>Avg expected loss</th>\n",
       "      <th>Expected loss for Fold5</th>\n",
       "    </tr>\n",
       "  </thead>\n",
       "  <tbody>\n",
       "    <tr>\n",
       "      <th>0</th>\n",
       "      <td>0.209</td>\n",
       "      <td>0.724</td>\n",
       "      <td>inf</td>\n",
       "      <td>0.106</td>\n",
       "      <td>0.591</td>\n",
       "      <td>0.534</td>\n",
       "    </tr>\n",
       "  </tbody>\n",
       "</table>\n",
       "</div>"
      ],
      "text/plain": [
       "   CV RMSE  CV AUC  Avg of optimal thresholds  Threshold for Fold5  \\\n",
       "0    0.209   0.724                        inf                0.106   \n",
       "\n",
       "   Avg expected loss  Expected loss for Fold5  \n",
       "0              0.591                    0.534  "
      ]
     },
     "execution_count": 120,
     "metadata": {},
     "output_type": "execute_result"
    }
   ],
   "source": [
    "rf_summary = pd.DataFrame(\n",
    "    {'CV RMSE': [round(prob_forest_best_results.cv_rmse.values[0], 3)],\n",
    "     'CV AUC': [round(prob_forest_best_results.cv_auc.values[0], 3)],\n",
    "     'Avg of optimal thresholds': [round(best_thresholds_cv['rf_p'], 3)],\n",
    "     'Threshold for Fold5': [round(best_threshold, 3)],\n",
    "     'Avg expected loss': [round(expected_loss_cv['rf_p'], 3)],\n",
    "     'Expected loss for Fold5': [round(curr_exp_loss, 3)]})\n",
    "\n",
    "rf_summary"
   ]
  },
  {
   "cell_type": "markdown",
   "id": "8e3e09d4-67b6-4e69-81b1-e99a3706d9ba",
   "metadata": {},
   "source": [
    "**Take model to holdout and estimate RMSE, AUC and expected loss**"
   ]
  },
  {
   "cell_type": "code",
   "execution_count": 121,
   "id": "003bd78f-3780-4a71-a4b5-d5720bf61340",
   "metadata": {
    "tags": []
   },
   "outputs": [
    {
     "data": {
      "text/plain": [
       "0.213"
      ]
     },
     "execution_count": 121,
     "metadata": {},
     "output_type": "execute_result"
    }
   ],
   "source": [
    "prob_forest_fit_best = prob_forest_fit.best_estimator_\n",
    "rf_predicted_probabilities_holdout = prob_forest_fit_best.predict_proba(rfvars_holdout)[:,1]\n",
    "rmse_rf = np.sqrt(mean_squared_error(y_holdout, rf_predicted_probabilities_holdout))\n",
    "round(rmse_rf, 3)"
   ]
  },
  {
   "cell_type": "code",
   "execution_count": 122,
   "id": "ee5016ae-cfc1-4066-b508-592213e997bb",
   "metadata": {
    "tags": []
   },
   "outputs": [
    {
     "data": {
      "text/plain": [
       "0.825"
      ]
     },
     "execution_count": 122,
     "metadata": {},
     "output_type": "execute_result"
    }
   ],
   "source": [
    "auc_rf = roc_auc_score(y_holdout, rf_predicted_probabilities_holdout)\n",
    "round(auc_rf, 3)"
   ]
  },
  {
   "cell_type": "code",
   "execution_count": 123,
   "id": "ccebbc1f-91e1-4d70-8803-342a4e0e3800",
   "metadata": {
    "tags": []
   },
   "outputs": [
    {
     "data": {
      "text/plain": [
       "0.81"
      ]
     },
     "execution_count": 123,
     "metadata": {},
     "output_type": "execute_result"
    }
   ],
   "source": [
    "holdout_treshold = np.where(rf_predicted_probabilities_holdout < best_thresholds_cv['rf_p'], 0, 1)\n",
    "tn, fp, fn, tp = confusion_matrix(y_holdout, holdout_treshold, labels=[0,1]).ravel()\n",
    "expected_loss_holdout_rf1 = (fp*FP + fn*FN)/len(y_holdout)\n",
    "round(expected_loss_holdout_rf1, 3)"
   ]
  },
  {
   "cell_type": "markdown",
   "id": "69d53430-c32f-41bb-ae26-f445648baf9f",
   "metadata": {},
   "source": [
    "The RF model performs with a higher expected loss on the holdout set than the best logistics regression model."
   ]
  },
  {
   "cell_type": "code",
   "execution_count": 124,
   "id": "d2950deb-5a36-491e-b3fd-cf7005387c20",
   "metadata": {
    "tags": []
   },
   "outputs": [
    {
     "data": {
      "image/png": "[encoded data removed]",
      "text/plain": [
       "<Figure size 640x480 with 1 Axes>"
      ]
     },
     "metadata": {
      "image/png": {
       "height": 480,
       "width": 640
      }
     },
     "output_type": "display_data"
    },
    {
     "data": {
      "text/plain": [
       "<Figure Size: (640 x 480)>"
      ]
     },
     "execution_count": 124,
     "metadata": {},
     "output_type": "execute_result"
    }
   ],
   "source": [
    "create_loss_plot(all_coords_rf, fold5_threshold_rf, fold5_expected_loss_rf)"
   ]
  },
  {
   "cell_type": "code",
   "execution_count": 125,
   "id": "20949ec9-9406-4771-8376-840c80df9dcc",
   "metadata": {
    "tags": []
   },
   "outputs": [
    {
     "data": {
      "text/plain": [
       "{'X1': inf, 'X2': inf, 'X3': 0.23765278995397657, 'rf_p': inf}"
      ]
     },
     "execution_count": 125,
     "metadata": {},
     "output_type": "execute_result"
    }
   ],
   "source": [
    "best_thresholds_cv"
   ]
  },
  {
   "cell_type": "markdown",
   "id": "de030b74-8f75-4a07-8ac4-7ea66c850354",
   "metadata": {},
   "source": [
    "## Modeling on data2"
   ]
  },
  {
   "cell_type": "code",
   "execution_count": 126,
   "id": "33feafac-8eda-439d-a563-7f2b112f0030",
   "metadata": {
    "tags": []
   },
   "outputs": [],
   "source": [
    "ind2_catmat = patsy.dmatrix(\"0 + C(ind2)\",dataset2, return_type=\"dataframe\")\n",
    "ind2_catmat = ind2_catmat.drop(['C(ind2)[1.0]'], axis=1)"
   ]
  },
  {
   "cell_type": "code",
   "execution_count": 127,
   "id": "01407fca-8146-4fde-806f-11a49fc8e849",
   "metadata": {
    "tags": []
   },
   "outputs": [],
   "source": [
    "ind_catmat = patsy.dmatrix(\"0 + C(ind)\",dataset2, return_type=\"dataframe\")\n",
    "ind_catmat = ind_catmat.drop(['C(ind)[1.0]'], axis=1)"
   ]
  },
  {
   "cell_type": "code",
   "execution_count": 128,
   "id": "3e324896-d604-4141-97c0-69351222a88f",
   "metadata": {
    "tags": []
   },
   "outputs": [],
   "source": [
    "m_region_locmat = patsy.dmatrix(\"0 + C(region_m)\",dataset2, return_type=\"dataframe\")\n",
    "m_region_locmat = m_region_locmat.drop(['C(region_m)[Central]'], axis=1)"
   ]
  },
  {
   "cell_type": "code",
   "execution_count": 129,
   "id": "21fb5019-2231-4776-92be-897ab418d093",
   "metadata": {
    "tags": []
   },
   "outputs": [],
   "source": [
    "urban_mmat = patsy.dmatrix(\"0 + C(urban_m)\",dataset2, return_type=\"dataframe\")\n",
    "urban_mmat = urban_mmat.drop(['C(urban_m)[1.0]'], axis=1)"
   ]
  },
  {
   "cell_type": "code",
   "execution_count": 130,
   "id": "21bae7bd-2cca-47b2-b653-b20931fd2d5c",
   "metadata": {
    "tags": []
   },
   "outputs": [],
   "source": [
    "gender_catmat = patsy.dmatrix(\"0 + C(gender)\",dataset2, return_type=\"dataframe\")\n",
    "gender_catmat = gender_catmat.drop(['C(gender)[male]'], axis=1)"
   ]
  },
  {
   "cell_type": "code",
   "execution_count": 131,
   "id": "3697c39c-cdf5-4ee0-8bcf-54e8dfa8f0db",
   "metadata": {
    "tags": []
   },
   "outputs": [],
   "source": [
    "origin_catmat = patsy.dmatrix(\"0 + C(origin)\",dataset2, return_type=\"dataframe\")\n",
    "origin_catmat = origin_catmat.drop(['C(origin)[Domestic]'], axis=1)"
   ]
  },
  {
   "cell_type": "code",
   "execution_count": 132,
   "id": "3643f265-5f61-4725-ae49-13041dc7ad75",
   "metadata": {
    "tags": []
   },
   "outputs": [],
   "source": [
    "raw = dataset2[raw_vars]\n",
    "fin = dataset2[fin_vars]\n",
    "X1 = pd.concat([raw, fin], axis=1)"
   ]
  },
  {
   "cell_type": "code",
   "execution_count": 133,
   "id": "2fa8527c-70f4-4893-8bcc-f5aadad5bd91",
   "metadata": {
    "tags": []
   },
   "outputs": [],
   "source": [
    "X2 = pd.concat([X1, ind2_catmat, ind_catmat, m_region_locmat, urban_mmat, gender_catmat, origin_catmat], axis=1)"
   ]
  },
  {
   "cell_type": "code",
   "execution_count": 134,
   "id": "dd08eaf4-7d74-4847-b56a-c35157ebdd5d",
   "metadata": {
    "tags": []
   },
   "outputs": [],
   "source": [
    "hr = dataset2[hr_vars]\n",
    "X3 = pd.concat([X1, X2, hr], axis = 1)"
   ]
  },
  {
   "cell_type": "code",
   "execution_count": 135,
   "id": "e36cbf9e-5ca5-4ddc-9483-1676f94da3b2",
   "metadata": {
    "tags": []
   },
   "outputs": [],
   "source": [
    "rfvars  = pd.concat([X1, X2, hr], axis=1)"
   ]
  },
  {
   "cell_type": "code",
   "execution_count": 136,
   "id": "ddead5e0-2d0c-4eec-9d81-49201c95ffdc",
   "metadata": {
    "tags": []
   },
   "outputs": [],
   "source": [
    "y = dataset2['default']"
   ]
  },
  {
   "cell_type": "code",
   "execution_count": 137,
   "id": "d7a601d0-2784-4119-9e2a-f15d744033b0",
   "metadata": {
    "tags": []
   },
   "outputs": [],
   "source": [
    "# definint train-holdout split based on dataset1's setup\n",
    "\n",
    "index_train = data2.index\n",
    "index_holdout = holdout_data.index\n",
    "\n",
    "y_train = y.loc[index_train]\n",
    "y_holdout = y.loc[index_holdout]"
   ]
  },
  {
   "cell_type": "code",
   "execution_count": 138,
   "id": "14dea2f5-ac83-4fc1-a126-a7edfabe6db6",
   "metadata": {
    "tags": []
   },
   "outputs": [],
   "source": [
    "# specifying cross-validation \n",
    "k = KFold(n_splits = 5, shuffle = True, random_state = 20240224)"
   ]
  },
  {
   "cell_type": "code",
   "execution_count": 139,
   "id": "8924b3ea-1713-4d95-8f7b-a8c12fa4601a",
   "metadata": {
    "tags": []
   },
   "outputs": [],
   "source": [
    "# no regularisation needed so setting the paremeter to very high value\n",
    "Cs_value_logit = [1e20]"
   ]
  },
  {
   "cell_type": "code",
   "execution_count": 140,
   "id": "ed08e019-cddd-4346-ae4e-fb1387f7aad9",
   "metadata": {
    "tags": []
   },
   "outputs": [],
   "source": [
    "logit_model_vars = [X1.loc[index_train], X2.loc[index_train], X3.loc[index_train]]\n",
    "\n",
    "logit_models = dict()\n",
    "CV_RMSE_folds = dict()"
   ]
  },
  {
   "cell_type": "code",
   "execution_count": 141,
   "id": "429c3701-e520-4c7d-9c97-4e86bc1e74b3",
   "metadata": {
    "tags": []
   },
   "outputs": [
    {
     "name": "stdout",
     "output_type": "stream",
     "text": [
      "CPU times: total: 1min 41s\n",
      "Wall time: 1min 41s\n"
     ]
    }
   ],
   "source": [
    "%%time\n",
    "for i in range(len(logit_model_vars)):\n",
    "    LRCV_brier = LogisticRegressionCV(\n",
    "        Cs=Cs_value_logit, \n",
    "        cv=k,\n",
    "        refit=True, \n",
    "        scoring='neg_brier_score', \n",
    "        solver=\"newton-cg\", \n",
    "        tol=1e-7, \n",
    "        random_state=20240224)\n",
    "    logit_models['X'+str(i+1)] = LRCV_brier.fit(logit_model_vars[i], y_train)\n",
    "    \n",
    "    # Calculate RMSE on test for each fold\n",
    "    CV_RMSE_folds['X'+str(i+1)] = np.sqrt(-1*(logit_models['X'+str(i+1)].scores_[1])).flatten()"
   ]
  },
  {
   "cell_type": "code",
   "execution_count": 142,
   "id": "c0d6ef94-a5cb-47fe-8a60-01260f4e1c38",
   "metadata": {
    "tags": []
   },
   "outputs": [],
   "source": [
    "# checking AUC scores as well\n",
    "CV_AUC_folds = dict()\n",
    "\n",
    "for i in range(len(logit_model_vars)):\n",
    "    LRCV_auc = LogisticRegressionCV(\n",
    "        Cs=Cs_value_logit, \n",
    "        cv=k, \n",
    "        refit=True, \n",
    "        scoring='roc_auc', \n",
    "        solver=\"newton-cg\", \n",
    "        tol=1e-7, \n",
    "        random_state = 20240205)\n",
    "    LRCV_auc_fit = LRCV_auc.fit(logit_model_vars[i], y_train)\n",
    "    # Calculate AUC on test for each fold\n",
    "    CV_AUC_folds['X'+str(i+1)] = LRCV_auc_fit.scores_[1][:,0].tolist()"
   ]
  },
  {
   "cell_type": "code",
   "execution_count": 143,
   "id": "bbac63fc-6c9f-401f-bff8-4494760f6fd8",
   "metadata": {
    "tags": []
   },
   "outputs": [
    {
     "data": {
      "text/html": [
       "<div>\n",
       "<style scoped>\n",
       "    .dataframe tbody tr th:only-of-type {\n",
       "        vertical-align: middle;\n",
       "    }\n",
       "\n",
       "    .dataframe tbody tr th {\n",
       "        vertical-align: top;\n",
       "    }\n",
       "\n",
       "    .dataframe thead th {\n",
       "        text-align: right;\n",
       "    }\n",
       "</style>\n",
       "<table border=\"1\" class=\"dataframe\">\n",
       "  <thead>\n",
       "    <tr style=\"text-align: right;\">\n",
       "      <th></th>\n",
       "      <th>X1</th>\n",
       "      <th>X2</th>\n",
       "      <th>X3</th>\n",
       "    </tr>\n",
       "  </thead>\n",
       "  <tbody>\n",
       "    <tr>\n",
       "      <th>0</th>\n",
       "      <td>0.738995</td>\n",
       "      <td>0.744232</td>\n",
       "      <td>0.732350</td>\n",
       "    </tr>\n",
       "    <tr>\n",
       "      <th>1</th>\n",
       "      <td>0.726883</td>\n",
       "      <td>0.726280</td>\n",
       "      <td>0.730189</td>\n",
       "    </tr>\n",
       "    <tr>\n",
       "      <th>2</th>\n",
       "      <td>0.725825</td>\n",
       "      <td>0.706200</td>\n",
       "      <td>0.713456</td>\n",
       "    </tr>\n",
       "    <tr>\n",
       "      <th>3</th>\n",
       "      <td>0.762633</td>\n",
       "      <td>0.782297</td>\n",
       "      <td>0.760192</td>\n",
       "    </tr>\n",
       "    <tr>\n",
       "      <th>4</th>\n",
       "      <td>0.725662</td>\n",
       "      <td>0.727178</td>\n",
       "      <td>0.734734</td>\n",
       "    </tr>\n",
       "  </tbody>\n",
       "</table>\n",
       "</div>"
      ],
      "text/plain": [
       "         X1        X2        X3\n",
       "0  0.738995  0.744232  0.732350\n",
       "1  0.726883  0.726280  0.730189\n",
       "2  0.725825  0.706200  0.713456\n",
       "3  0.762633  0.782297  0.760192\n",
       "4  0.725662  0.727178  0.734734"
      ]
     },
     "execution_count": 143,
     "metadata": {},
     "output_type": "execute_result"
    }
   ],
   "source": [
    "pd.DataFrame(CV_AUC_folds)"
   ]
  },
  {
   "cell_type": "code",
   "execution_count": 144,
   "id": "6985b731-27fa-42e9-9e68-de67bcf68027",
   "metadata": {
    "tags": []
   },
   "outputs": [
    {
     "data": {
      "text/html": [
       "<div>\n",
       "<style scoped>\n",
       "    .dataframe tbody tr th:only-of-type {\n",
       "        vertical-align: middle;\n",
       "    }\n",
       "\n",
       "    .dataframe tbody tr th {\n",
       "        vertical-align: top;\n",
       "    }\n",
       "\n",
       "    .dataframe thead th {\n",
       "        text-align: right;\n",
       "    }\n",
       "</style>\n",
       "<table border=\"1\" class=\"dataframe\">\n",
       "  <thead>\n",
       "    <tr style=\"text-align: right;\">\n",
       "      <th></th>\n",
       "      <th>CV RMSE</th>\n",
       "      <th>CV AUC</th>\n",
       "    </tr>\n",
       "  </thead>\n",
       "  <tbody>\n",
       "    <tr>\n",
       "      <th>X1</th>\n",
       "      <td>0.291934</td>\n",
       "      <td>0.736000</td>\n",
       "    </tr>\n",
       "    <tr>\n",
       "      <th>X2</th>\n",
       "      <td>0.292085</td>\n",
       "      <td>0.737237</td>\n",
       "    </tr>\n",
       "    <tr>\n",
       "      <th>X3</th>\n",
       "      <td>0.290577</td>\n",
       "      <td>0.734184</td>\n",
       "    </tr>\n",
       "  </tbody>\n",
       "</table>\n",
       "</div>"
      ],
      "text/plain": [
       "     CV RMSE    CV AUC\n",
       "X1  0.291934  0.736000\n",
       "X2  0.292085  0.737237\n",
       "X3  0.290577  0.734184"
      ]
     },
     "execution_count": 144,
     "metadata": {},
     "output_type": "execute_result"
    }
   ],
   "source": [
    "CV_RMSE = dict()\n",
    "CV_AUC = dict()\n",
    "\n",
    "for key in logit_models:\n",
    "    CV_RMSE[key] = np.mean(CV_RMSE_folds[key])\n",
    "    CV_AUC[key] = np.mean(CV_AUC_folds[key])  \n",
    "\n",
    "logit_summary2 = np.transpose(pd.DataFrame.from_dict([CV_RMSE,CV_AUC], orient='columns'))\n",
    "logit_summary2.columns = ['CV RMSE', 'CV AUC']\n",
    "logit_summary2"
   ]
  },
  {
   "cell_type": "markdown",
   "id": "04d30413-4c8c-4b11-887e-20a2c31ec338",
   "metadata": {},
   "source": [
    "In dataset2, the models perform very similarily. Given that X1 is the simplest, and its RMSE and AUC scores are a close 2nd, this will be the preferred choice."
   ]
  },
  {
   "cell_type": "code",
   "execution_count": 145,
   "id": "bd4c8cbc-182f-422a-b2a8-cb7225969637",
   "metadata": {
    "tags": []
   },
   "outputs": [
    {
     "data": {
      "text/plain": [
       "0.226"
      ]
     },
     "execution_count": 145,
     "metadata": {},
     "output_type": "execute_result"
    }
   ],
   "source": [
    "best_model = logit_models['X1']\n",
    "best_model_X_holdout = X1.loc[index_holdout]\n",
    "\n",
    "logit_predicted_probabilities_holdout = best_model.predict_proba(best_model_X_holdout)[:,1]\n",
    "best_rmse_holdout = np.sqrt(metrics.mean_squared_error(y_holdout, logit_predicted_probabilities_holdout))\n",
    "round(best_rmse_holdout, 3)"
   ]
  },
  {
   "cell_type": "code",
   "execution_count": 146,
   "id": "58d4318b-6245-4d1f-8522-8a49e51f9121",
   "metadata": {
    "tags": []
   },
   "outputs": [],
   "source": [
    "thresholds = [i/100 for i in range(1,80,1)]\n",
    "cm = dict()\n",
    "true_positive_rates = []\n",
    "false_positive_rates = []\n",
    "holdout_prediction = []\n",
    "for thr in thresholds:\n",
    "    holdout_prediction = np.where(logit_predicted_probabilities_holdout < thr, 0, 1)\n",
    "    cm_thr = confusion_matrix(y_holdout, holdout_prediction, labels=[0,1])\n",
    "    cm[thr] = cm_thr\n",
    "    tn, fp, fn, tp = cm_thr.ravel()\n",
    "    true_positive_rates.append(tp/(tp+fn))\n",
    "    false_positive_rates.append(fp/(fp+tn))"
   ]
  },
  {
   "cell_type": "code",
   "execution_count": 147,
   "id": "d27ddb41-c00e-4e14-a2c8-2eecfb70784f",
   "metadata": {
    "tags": []
   },
   "outputs": [
    {
     "data": {
      "text/plain": [
       "array([[978,   3],\n",
       "       [ 55,   1]], dtype=int64)"
      ]
     },
     "execution_count": 147,
     "metadata": {},
     "output_type": "execute_result"
    }
   ],
   "source": [
    "cm_thr"
   ]
  },
  {
   "cell_type": "code",
   "execution_count": 148,
   "id": "5071c6ff-ebdc-40d1-ab7c-517204442fa6",
   "metadata": {
    "tags": []
   },
   "outputs": [
    {
     "data": {
      "image/png": "[encoded data removed]",
      "text/plain": [
       "<Figure size 640x480 with 1 Axes>"
      ]
     },
     "metadata": {
      "image/png": {
       "height": 480,
       "width": 640
      }
     },
     "output_type": "display_data"
    },
    {
     "data": {
      "text/plain": [
       "<Figure Size: (640 x 480)>"
      ]
     },
     "execution_count": 148,
     "metadata": {},
     "output_type": "execute_result"
    }
   ],
   "source": [
    "create_roc_plot(y_holdout, logit_predicted_probabilities_holdout)"
   ]
  },
  {
   "cell_type": "markdown",
   "id": "1ee996e3-d8c7-4aaa-a51a-637ca22ce5a9",
   "metadata": {},
   "source": [
    "### Using the loss function to define optimal threshold"
   ]
  },
  {
   "cell_type": "code",
   "execution_count": 149,
   "id": "f69098e0-6622-4adb-be08-15443b93d916",
   "metadata": {
    "tags": []
   },
   "outputs": [
    {
     "data": {
      "text/plain": [
       "0.09990274475902312"
      ]
     },
     "execution_count": 149,
     "metadata": {},
     "output_type": "execute_result"
    }
   ],
   "source": [
    "FP = 3\n",
    "FN = 15\n",
    "cost = FN/FP\n",
    "\n",
    "# the prevalence, or the proportion of cases in the population (n.cases/(n.controls+n.cases))\n",
    "prevelance = y_train.sum()/len(y_train)\n",
    "prevelance"
   ]
  },
  {
   "cell_type": "code",
   "execution_count": 150,
   "id": "1f02926a-a561-44e9-8683-6db83c42bedd",
   "metadata": {
    "tags": []
   },
   "outputs": [],
   "source": [
    "best_thresholds_cv = dict()\n",
    "expected_loss_cv = dict()\n",
    "fold5_threshold = dict()\n",
    "fold5_expected_loss = dict()\n",
    "fold5_all_coords = dict()\n",
    "\n",
    "for i, model_name in enumerate(logit_models):\n",
    "    best_thresholds = []\n",
    "    expected_loss =[]\n",
    "    if model_name != 'LASSO':\n",
    "        X = logit_model_vars[i]\n",
    "        c_index = 0\n",
    "    else:\n",
    "        X = normalized_logitvars\n",
    "        c_index = best_lambda_i\n",
    "    fold = 0\n",
    "    for train_index, test_index in k.split(X):\n",
    "        X_fold = X.iloc[test_index,:]\n",
    "        y_fold = y_train.iloc[test_index]\n",
    "        pred_fold = generate_fold_prediction(logit_models[model_name], X_fold, fold, c_index)\n",
    "        false_pos_rate, true_pos_rate, thresholds = roc_curve(y_fold, pred_fold)\n",
    "        optimal_threshold = sorted(list(zip(\n",
    "            np.abs(true_pos_rate + (1 - prevelance)/(cost * prevelance)*(1-false_pos_rate)),\\\n",
    "                                       thresholds)), key=lambda i: i[0], reverse=True)[0][1]\n",
    "        best_thresholds.append(optimal_threshold)\n",
    "        threshold_prediction = np.where(pred_fold < optimal_threshold, 0, 1)\n",
    "        tn, fp, fn, tp = confusion_matrix(y_fold, threshold_prediction, labels=[0,1]).ravel()\n",
    "        curr_exp_loss = (fp*FP + fn*FN)/len(y_fold)\n",
    "        expected_loss.append(curr_exp_loss)\n",
    "        fold = fold+1\n",
    "\n",
    "    best_thresholds_cv[model_name] = np.mean(best_thresholds)\n",
    "    expected_loss_cv[model_name] = np.mean(expected_loss)\n",
    "\n",
    "    # for fold #5\n",
    "    fold5_threshold[model_name] = optimal_threshold\n",
    "    fold5_expected_loss[model_name] = curr_exp_loss\n",
    "\n",
    "    all_coords = pd.DataFrame({\n",
    "        'false_pos': false_pos_rate*sum(y_fold == 0),\n",
    "        'true_pos': true_pos_rate*sum(y_fold == 1),\n",
    "        'false_neg': sum(y_fold == 1) - true_pos_rate*sum(y_fold == 1),\n",
    "        'true_neg': sum(y_fold == 0) - false_pos_rate*sum(y_fold == 0),\n",
    "        'pos': sum(y_fold == 1),\n",
    "        'neg': sum(y_fold == 0),\n",
    "        'n': len(y_fold),\n",
    "        'thresholds': thresholds\n",
    "    })\n",
    "    \n",
    "    fold5_all_coords[model_name] = all_coords"
   ]
  },
  {
   "cell_type": "code",
   "execution_count": 151,
   "id": "b44656b9-a9e0-45d9-abfb-ac2ad9cc5b5f",
   "metadata": {
    "tags": []
   },
   "outputs": [
    {
     "data": {
      "text/html": [
       "<div>\n",
       "<style scoped>\n",
       "    .dataframe tbody tr th:only-of-type {\n",
       "        vertical-align: middle;\n",
       "    }\n",
       "\n",
       "    .dataframe tbody tr th {\n",
       "        vertical-align: top;\n",
       "    }\n",
       "\n",
       "    .dataframe thead th {\n",
       "        text-align: right;\n",
       "    }\n",
       "</style>\n",
       "<table border=\"1\" class=\"dataframe\">\n",
       "  <thead>\n",
       "    <tr style=\"text-align: right;\">\n",
       "      <th></th>\n",
       "      <th>Model</th>\n",
       "      <th>Avg of optimal thresholds</th>\n",
       "      <th>Threshold for Fold5</th>\n",
       "      <th>Avg expected loss</th>\n",
       "      <th>Expected loss for Fold5</th>\n",
       "    </tr>\n",
       "  </thead>\n",
       "  <tbody>\n",
       "    <tr>\n",
       "      <th>0</th>\n",
       "      <td>X1</td>\n",
       "      <td>0.128924</td>\n",
       "      <td>0.133710</td>\n",
       "      <td>1.193641</td>\n",
       "      <td>1.221562</td>\n",
       "    </tr>\n",
       "    <tr>\n",
       "      <th>1</th>\n",
       "      <td>X2</td>\n",
       "      <td>0.128374</td>\n",
       "      <td>0.134236</td>\n",
       "      <td>1.195260</td>\n",
       "      <td>1.211024</td>\n",
       "    </tr>\n",
       "    <tr>\n",
       "      <th>2</th>\n",
       "      <td>X3</td>\n",
       "      <td>0.142741</td>\n",
       "      <td>0.133463</td>\n",
       "      <td>1.192992</td>\n",
       "      <td>1.203729</td>\n",
       "    </tr>\n",
       "  </tbody>\n",
       "</table>\n",
       "</div>"
      ],
      "text/plain": [
       "  Model  Avg of optimal thresholds  Threshold for Fold5  Avg expected loss  \\\n",
       "0    X1                   0.128924             0.133710           1.193641   \n",
       "1    X2                   0.128374             0.134236           1.195260   \n",
       "2    X3                   0.142741             0.133463           1.192992   \n",
       "\n",
       "   Expected loss for Fold5  \n",
       "0                 1.221562  \n",
       "1                 1.211024  \n",
       "2                 1.203729  "
      ]
     },
     "execution_count": 151,
     "metadata": {},
     "output_type": "execute_result"
    }
   ],
   "source": [
    "logit_summary3 = pd.DataFrame(best_thresholds_cv.items(),columns=['Model', 'Avg of optimal thresholds'])\n",
    "logit_summary3['Threshold for Fold5'] = fold5_threshold.values()\n",
    "logit_summary3['Avg expected loss'] = expected_loss_cv.values()\n",
    "logit_summary3['Expected loss for Fold5'] = fold5_expected_loss.values()\n",
    "logit_summary3"
   ]
  },
  {
   "cell_type": "code",
   "execution_count": 152,
   "id": "62002be3-686a-4911-b7d3-3ded4480c58f",
   "metadata": {
    "tags": []
   },
   "outputs": [
    {
     "data": {
      "text/plain": [
       "0.1427406692560245"
      ]
     },
     "execution_count": 152,
     "metadata": {},
     "output_type": "execute_result"
    }
   ],
   "source": [
    "best_logit_optimal_treshold = best_thresholds_cv[\"X3\"]\n",
    "best_logit_optimal_treshold"
   ]
  },
  {
   "cell_type": "code",
   "execution_count": 153,
   "id": "93e5838b-97f4-4934-9f85-13b2f49e200e",
   "metadata": {
    "tags": []
   },
   "outputs": [
    {
     "data": {
      "text/plain": [
       "0.691"
      ]
     },
     "execution_count": 153,
     "metadata": {},
     "output_type": "execute_result"
    }
   ],
   "source": [
    "holdout_treshold = np.where(logit_predicted_probabilities_holdout < best_logit_optimal_treshold, 0, 1)\n",
    "tn, fp, fn, tp = confusion_matrix(y_holdout, holdout_treshold, labels=[0,1]).ravel()\n",
    "expected_loss_holdout_log2 = (fp*FP + fn*FN)/len(y_holdout)\n",
    "round(expected_loss_holdout_log2, 3)"
   ]
  },
  {
   "cell_type": "markdown",
   "id": "971f89e8-8f7f-483f-99c1-00f936d01624",
   "metadata": {},
   "source": [
    "Dataset2 manages to produce lower expected loss value (0.691) on the holdout set than dataset1 (0.749)."
   ]
  },
  {
   "cell_type": "code",
   "execution_count": 154,
   "id": "3c9de009-f73f-4d61-aed6-07a7a34c5f53",
   "metadata": {
    "tags": []
   },
   "outputs": [
    {
     "data": {
      "text/html": [
       "<div>\n",
       "<style scoped>\n",
       "    .dataframe tbody tr th:only-of-type {\n",
       "        vertical-align: middle;\n",
       "    }\n",
       "\n",
       "    .dataframe tbody tr th {\n",
       "        vertical-align: top;\n",
       "    }\n",
       "\n",
       "    .dataframe thead th {\n",
       "        text-align: right;\n",
       "    }\n",
       "</style>\n",
       "<table border=\"1\" class=\"dataframe\">\n",
       "  <thead>\n",
       "    <tr style=\"text-align: right;\">\n",
       "      <th></th>\n",
       "      <th>Predicted no default</th>\n",
       "      <th>Predicted default</th>\n",
       "    </tr>\n",
       "  </thead>\n",
       "  <tbody>\n",
       "    <tr>\n",
       "      <th>Actul no defaul</th>\n",
       "      <td>937</td>\n",
       "      <td>44</td>\n",
       "    </tr>\n",
       "    <tr>\n",
       "      <th>Actual default</th>\n",
       "      <td>39</td>\n",
       "      <td>17</td>\n",
       "    </tr>\n",
       "  </tbody>\n",
       "</table>\n",
       "</div>"
      ],
      "text/plain": [
       "                 Predicted no default  Predicted default\n",
       "Actul no defaul                   937                 44\n",
       "Actual default                     39                 17"
      ]
     },
     "execution_count": 154,
     "metadata": {},
     "output_type": "execute_result"
    }
   ],
   "source": [
    "cm_object4 = confusion_matrix(y_holdout, holdout_treshold, labels=[0,1])\n",
    "cm4 = pd.DataFrame(cm_object4, \n",
    "    index=['Actul no defaul', 'Actual default'], \n",
    "    columns=['Predicted no default', 'Predicted default'])\n",
    "cm4"
   ]
  },
  {
   "cell_type": "markdown",
   "id": "028ea319-f61b-4d1d-a485-973bf66c0b55",
   "metadata": {
    "tags": []
   },
   "source": [
    "### Random forest"
   ]
  },
  {
   "cell_type": "code",
   "execution_count": 155,
   "id": "0af6c704-54e2-41f2-a1d9-02a0665100fe",
   "metadata": {
    "tags": []
   },
   "outputs": [],
   "source": [
    "rfvars_train = rfvars.loc[index_train]\n",
    "rfvars_holdout = rfvars.loc[index_holdout]"
   ]
  },
  {
   "cell_type": "code",
   "execution_count": 156,
   "id": "2d1c249b-4999-4f7b-8f41-5eba1ccd3c0f",
   "metadata": {
    "tags": []
   },
   "outputs": [],
   "source": [
    "grid = {'max_features': [5, 6, 7],\n",
    "        'criterion':['gini'],\n",
    "        'min_samples_split': [11, 16]}"
   ]
  },
  {
   "cell_type": "code",
   "execution_count": 157,
   "id": "bfac9121-1efd-483e-8631-58cca2b5c9ed",
   "metadata": {
    "tags": []
   },
   "outputs": [],
   "source": [
    "prob_forest = RandomForestClassifier(\n",
    "    random_state=20240224, \n",
    "    n_estimators=500, \n",
    "    oob_score=True)\n",
    "\n",
    "prob_forest_grid = GridSearchCV(\n",
    "    prob_forest, \n",
    "    grid, \n",
    "    cv=k, \n",
    "    refit='roc_auc',\n",
    "    scoring = ['accuracy', 'roc_auc', 'neg_brier_score'], \n",
    "    n_jobs=-1)"
   ]
  },
  {
   "cell_type": "code",
   "execution_count": 158,
   "id": "190a3df8-0a18-4442-8706-79ea85f7f072",
   "metadata": {
    "tags": []
   },
   "outputs": [
    {
     "name": "stdout",
     "output_type": "stream",
     "text": [
      "CPU times: total: 44.9 s\n",
      "Wall time: 3min 34s\n"
     ]
    }
   ],
   "source": [
    "%%time\n",
    "prob_forest_fit = prob_forest_grid.fit(rfvars_train, y_train)"
   ]
  },
  {
   "cell_type": "code",
   "execution_count": 159,
   "id": "b45850d8-0bae-45c7-bb6d-812a049c2b64",
   "metadata": {
    "tags": []
   },
   "outputs": [
    {
     "data": {
      "text/html": [
       "<div>\n",
       "<style scoped>\n",
       "    .dataframe tbody tr th:only-of-type {\n",
       "        vertical-align: middle;\n",
       "    }\n",
       "\n",
       "    .dataframe tbody tr th {\n",
       "        vertical-align: top;\n",
       "    }\n",
       "\n",
       "    .dataframe thead th {\n",
       "        text-align: right;\n",
       "    }\n",
       "</style>\n",
       "<table border=\"1\" class=\"dataframe\">\n",
       "  <thead>\n",
       "    <tr style=\"text-align: right;\">\n",
       "      <th></th>\n",
       "      <th>max_features</th>\n",
       "      <th>min_samples_split</th>\n",
       "      <th>cv_accuracy</th>\n",
       "      <th>cv_auc</th>\n",
       "      <th>cv_rmse</th>\n",
       "    </tr>\n",
       "  </thead>\n",
       "  <tbody>\n",
       "    <tr>\n",
       "      <th>0</th>\n",
       "      <td>5</td>\n",
       "      <td>11</td>\n",
       "      <td>0.951832</td>\n",
       "      <td>0.718711</td>\n",
       "      <td>0.209374</td>\n",
       "    </tr>\n",
       "    <tr>\n",
       "      <th>1</th>\n",
       "      <td>5</td>\n",
       "      <td>16</td>\n",
       "      <td>0.951832</td>\n",
       "      <td>0.723542</td>\n",
       "      <td>0.209350</td>\n",
       "    </tr>\n",
       "    <tr>\n",
       "      <th>2</th>\n",
       "      <td>6</td>\n",
       "      <td>11</td>\n",
       "      <td>0.951832</td>\n",
       "      <td>0.709432</td>\n",
       "      <td>0.210081</td>\n",
       "    </tr>\n",
       "    <tr>\n",
       "      <th>3</th>\n",
       "      <td>6</td>\n",
       "      <td>16</td>\n",
       "      <td>0.951832</td>\n",
       "      <td>0.721162</td>\n",
       "      <td>0.209361</td>\n",
       "    </tr>\n",
       "    <tr>\n",
       "      <th>4</th>\n",
       "      <td>7</td>\n",
       "      <td>11</td>\n",
       "      <td>0.951832</td>\n",
       "      <td>0.718785</td>\n",
       "      <td>0.210186</td>\n",
       "    </tr>\n",
       "    <tr>\n",
       "      <th>5</th>\n",
       "      <td>7</td>\n",
       "      <td>16</td>\n",
       "      <td>0.951832</td>\n",
       "      <td>0.713840</td>\n",
       "      <td>0.209817</td>\n",
       "    </tr>\n",
       "  </tbody>\n",
       "</table>\n",
       "</div>"
      ],
      "text/plain": [
       "  max_features min_samples_split  cv_accuracy    cv_auc   cv_rmse\n",
       "0            5                11     0.951832  0.718711  0.209374\n",
       "1            5                16     0.951832  0.723542  0.209350\n",
       "2            6                11     0.951832  0.709432  0.210081\n",
       "3            6                16     0.951832  0.721162  0.209361\n",
       "4            7                11     0.951832  0.718785  0.210186\n",
       "5            7                16     0.951832  0.713840  0.209817"
      ]
     },
     "execution_count": 159,
     "metadata": {},
     "output_type": "execute_result"
    }
   ],
   "source": [
    "prob_forest_cv_results = pd.DataFrame({\n",
    "    'max_features': prob_forest_fit.cv_results_['param_max_features'],\n",
    "    'min_samples_split': prob_forest_fit.cv_results_['param_min_samples_split'],\n",
    "    'cv_accuracy': cv_accuracy,\n",
    "    'cv_auc': cv_auc,\n",
    "    'cv_rmse': cv_rmse\n",
    "})\n",
    "prob_forest_cv_results"
   ]
  },
  {
   "cell_type": "code",
   "execution_count": 160,
   "id": "5ad64d14-bebb-4709-b8b8-c2dace048b31",
   "metadata": {
    "tags": []
   },
   "outputs": [],
   "source": [
    "best_max_features = prob_forest_fit.best_params_['max_features']\n",
    "best_min_sample_split = prob_forest_fit.best_params_['min_samples_split']"
   ]
  },
  {
   "cell_type": "code",
   "execution_count": 161,
   "id": "71b7907b-27d7-4710-9af2-ee7d2262e223",
   "metadata": {
    "tags": []
   },
   "outputs": [
    {
     "name": "stdout",
     "output_type": "stream",
     "text": [
      "The best random forest model has the following features: {'criterion': 'gini', 'max_features': 5, 'min_samples_split': 11}\n"
     ]
    }
   ],
   "source": [
    "print(f'The best random forest model has the following features: {prob_forest_fit.best_params_}')"
   ]
  },
  {
   "cell_type": "markdown",
   "id": "8f4a7f0d-c259-40db-b0ce-e9cab7d3eaab",
   "metadata": {},
   "source": [
    "**Using loss function and search for best thresholds and expected loss over folds**"
   ]
  },
  {
   "cell_type": "code",
   "execution_count": 162,
   "id": "4ccaa027-9d96-4f77-aa6b-359ac19ca4fe",
   "metadata": {
    "tags": []
   },
   "outputs": [],
   "source": [
    "best_thresholds = list()\n",
    "expected_loss = list()\n",
    "\n",
    "fold = 0\n",
    "for train_index, test_index in k.split(rfvars_train):\n",
    "    X_fold = rfvars_train.iloc[test_index,:]\n",
    "    y_fold = y_train.iloc[test_index]\n",
    "    \n",
    "    X_fold_train = rfvars_train.iloc[train_index,:]\n",
    "    y_fold_train = y_train.iloc[train_index]\n",
    "    \n",
    "    prob_forest_best = RandomForestClassifier(\n",
    "        random_state=20240224, \n",
    "        n_estimators=500, \n",
    "        oob_score=True,\n",
    "        criterion = 'gini', \n",
    "        max_features = best_max_features, min_samples_split = best_min_sample_split)\n",
    "    \n",
    "    prob_forest_best_fold = prob_forest_best.fit(X_fold_train, y_fold_train)\n",
    "    pred_fold = prob_forest_best_fold.predict_proba(X_fold)[:,1]\n",
    "\n",
    "    false_pos_rate, true_pos_rate, threshold = roc_curve(y_fold, pred_fold)\n",
    "    \n",
    "    best_threshold = sorted(\n",
    "        list(\n",
    "            zip(\n",
    "                np.abs(\n",
    "                    true_pos_rate + (1 - prevelance)/(cost * prevelance)*(1-false_pos_rate)\n",
    "                ),\n",
    "                threshold\n",
    "            )\n",
    "        ), \n",
    "        key=lambda x: x[0], reverse=True)[0][1]\n",
    "    \n",
    "    best_thresholds.append(best_threshold)\n",
    "    \n",
    "    threshold_prediction = np.where(pred_fold < best_threshold, 0, 1)\n",
    "    tn, fp, fn, tp = confusion_matrix(y_fold, threshold_prediction, labels=[0,1]).ravel()\n",
    "    curr_exp_loss = (fp*FP + fn*FN)/len(y_fold)\n",
    "    expected_loss.append(curr_exp_loss)"
   ]
  },
  {
   "cell_type": "code",
   "execution_count": 163,
   "id": "947f424a-6f82-4bf6-8324-7dccec857fa3",
   "metadata": {
    "tags": []
   },
   "outputs": [
    {
     "data": {
      "text/plain": [
       "[0.1399179101943808,\n",
       " 0.19398999349463752,\n",
       " 0.22234489780944905,\n",
       " 0.2320515948190097,\n",
       " 0.19941208038607425]"
      ]
     },
     "execution_count": 163,
     "metadata": {},
     "output_type": "execute_result"
    }
   ],
   "source": [
    "best_thresholds"
   ]
  },
  {
   "cell_type": "code",
   "execution_count": 164,
   "id": "7fd278e4-91e7-4251-95a4-2ed2d2daa622",
   "metadata": {
    "tags": []
   },
   "outputs": [
    {
     "data": {
      "text/html": [
       "<div>\n",
       "<style scoped>\n",
       "    .dataframe tbody tr th:only-of-type {\n",
       "        vertical-align: middle;\n",
       "    }\n",
       "\n",
       "    .dataframe tbody tr th {\n",
       "        vertical-align: top;\n",
       "    }\n",
       "\n",
       "    .dataframe thead th {\n",
       "        text-align: right;\n",
       "    }\n",
       "</style>\n",
       "<table border=\"1\" class=\"dataframe\">\n",
       "  <thead>\n",
       "    <tr style=\"text-align: right;\">\n",
       "      <th></th>\n",
       "      <th>false_pos</th>\n",
       "      <th>true_pos</th>\n",
       "      <th>false_neg</th>\n",
       "      <th>true_neg</th>\n",
       "      <th>pos</th>\n",
       "      <th>neg</th>\n",
       "      <th>n</th>\n",
       "      <th>thresholds</th>\n",
       "    </tr>\n",
       "  </thead>\n",
       "  <tbody>\n",
       "    <tr>\n",
       "      <th>0</th>\n",
       "      <td>0.0</td>\n",
       "      <td>0.0</td>\n",
       "      <td>371.0</td>\n",
       "      <td>3330.0</td>\n",
       "      <td>371</td>\n",
       "      <td>3330</td>\n",
       "      <td>3701</td>\n",
       "      <td>inf</td>\n",
       "    </tr>\n",
       "    <tr>\n",
       "      <th>1</th>\n",
       "      <td>0.0</td>\n",
       "      <td>1.0</td>\n",
       "      <td>370.0</td>\n",
       "      <td>3330.0</td>\n",
       "      <td>371</td>\n",
       "      <td>3330</td>\n",
       "      <td>3701</td>\n",
       "      <td>0.881184</td>\n",
       "    </tr>\n",
       "    <tr>\n",
       "      <th>2</th>\n",
       "      <td>0.0</td>\n",
       "      <td>6.0</td>\n",
       "      <td>365.0</td>\n",
       "      <td>3330.0</td>\n",
       "      <td>371</td>\n",
       "      <td>3330</td>\n",
       "      <td>3701</td>\n",
       "      <td>0.795460</td>\n",
       "    </tr>\n",
       "    <tr>\n",
       "      <th>3</th>\n",
       "      <td>1.0</td>\n",
       "      <td>6.0</td>\n",
       "      <td>365.0</td>\n",
       "      <td>3329.0</td>\n",
       "      <td>371</td>\n",
       "      <td>3330</td>\n",
       "      <td>3701</td>\n",
       "      <td>0.786826</td>\n",
       "    </tr>\n",
       "    <tr>\n",
       "      <th>4</th>\n",
       "      <td>1.0</td>\n",
       "      <td>9.0</td>\n",
       "      <td>362.0</td>\n",
       "      <td>3329.0</td>\n",
       "      <td>371</td>\n",
       "      <td>3330</td>\n",
       "      <td>3701</td>\n",
       "      <td>0.760092</td>\n",
       "    </tr>\n",
       "    <tr>\n",
       "      <th>...</th>\n",
       "      <td>...</td>\n",
       "      <td>...</td>\n",
       "      <td>...</td>\n",
       "      <td>...</td>\n",
       "      <td>...</td>\n",
       "      <td>...</td>\n",
       "      <td>...</td>\n",
       "      <td>...</td>\n",
       "    </tr>\n",
       "    <tr>\n",
       "      <th>536</th>\n",
       "      <td>3127.0</td>\n",
       "      <td>370.0</td>\n",
       "      <td>1.0</td>\n",
       "      <td>203.0</td>\n",
       "      <td>371</td>\n",
       "      <td>3330</td>\n",
       "      <td>3701</td>\n",
       "      <td>0.005002</td>\n",
       "    </tr>\n",
       "    <tr>\n",
       "      <th>537</th>\n",
       "      <td>3177.0</td>\n",
       "      <td>370.0</td>\n",
       "      <td>1.0</td>\n",
       "      <td>153.0</td>\n",
       "      <td>371</td>\n",
       "      <td>3330</td>\n",
       "      <td>3701</td>\n",
       "      <td>0.004066</td>\n",
       "    </tr>\n",
       "    <tr>\n",
       "      <th>538</th>\n",
       "      <td>3177.0</td>\n",
       "      <td>371.0</td>\n",
       "      <td>0.0</td>\n",
       "      <td>153.0</td>\n",
       "      <td>371</td>\n",
       "      <td>3330</td>\n",
       "      <td>3701</td>\n",
       "      <td>0.004042</td>\n",
       "    </tr>\n",
       "    <tr>\n",
       "      <th>539</th>\n",
       "      <td>3325.0</td>\n",
       "      <td>371.0</td>\n",
       "      <td>0.0</td>\n",
       "      <td>5.0</td>\n",
       "      <td>371</td>\n",
       "      <td>3330</td>\n",
       "      <td>3701</td>\n",
       "      <td>0.000154</td>\n",
       "    </tr>\n",
       "    <tr>\n",
       "      <th>540</th>\n",
       "      <td>3330.0</td>\n",
       "      <td>371.0</td>\n",
       "      <td>0.0</td>\n",
       "      <td>0.0</td>\n",
       "      <td>371</td>\n",
       "      <td>3330</td>\n",
       "      <td>3701</td>\n",
       "      <td>0.000000</td>\n",
       "    </tr>\n",
       "  </tbody>\n",
       "</table>\n",
       "<p>541 rows × 8 columns</p>\n",
       "</div>"
      ],
      "text/plain": [
       "     false_pos  true_pos  false_neg  true_neg  pos   neg     n  thresholds\n",
       "0          0.0       0.0      371.0    3330.0  371  3330  3701         inf\n",
       "1          0.0       1.0      370.0    3330.0  371  3330  3701    0.881184\n",
       "2          0.0       6.0      365.0    3330.0  371  3330  3701    0.795460\n",
       "3          1.0       6.0      365.0    3329.0  371  3330  3701    0.786826\n",
       "4          1.0       9.0      362.0    3329.0  371  3330  3701    0.760092\n",
       "..         ...       ...        ...       ...  ...   ...   ...         ...\n",
       "536     3127.0     370.0        1.0     203.0  371  3330  3701    0.005002\n",
       "537     3177.0     370.0        1.0     153.0  371  3330  3701    0.004066\n",
       "538     3177.0     371.0        0.0     153.0  371  3330  3701    0.004042\n",
       "539     3325.0     371.0        0.0       5.0  371  3330  3701    0.000154\n",
       "540     3330.0     371.0        0.0       0.0  371  3330  3701    0.000000\n",
       "\n",
       "[541 rows x 8 columns]"
      ]
     },
     "execution_count": 164,
     "metadata": {},
     "output_type": "execute_result"
    }
   ],
   "source": [
    "fold5_threshold_rf = best_threshold\n",
    "fold5_expected_loss_rf = curr_exp_loss\n",
    "\n",
    "all_coords_rf = pd.DataFrame({\n",
    "    'false_pos': false_pos_rate*sum(y_fold == 0),\n",
    "    'true_pos': true_pos_rate*sum(y_fold == 1),\n",
    "    'false_neg': sum(y_fold == 1) - true_pos_rate*sum(y_fold == 1),\n",
    "    'true_neg': sum(y_fold == 0) - false_pos_rate*sum(y_fold == 0),\n",
    "    'pos': sum(y_fold == 1),\n",
    "    'neg': sum(y_fold == 0),\n",
    "    'n': len(y_fold),\n",
    "    'thresholds': threshold\n",
    "})\n",
    "\n",
    "all_coords_rf"
   ]
  },
  {
   "cell_type": "code",
   "execution_count": 165,
   "id": "2f396e2b-4a19-48ce-9898-e77b46fb774f",
   "metadata": {
    "tags": []
   },
   "outputs": [],
   "source": [
    "expected_loss_cv['rf_p'] = np.mean(expected_loss)\n",
    "best_thresholds_cv['rf_p'] = np.mean(best_thresholds)"
   ]
  },
  {
   "cell_type": "code",
   "execution_count": 166,
   "id": "1f04a468-269f-4e0e-b8e8-94c66cf8d017",
   "metadata": {
    "tags": []
   },
   "outputs": [],
   "source": [
    "prob_forest_best_results = prob_forest_cv_results[\n",
    "    (prob_forest_cv_results.max_features == best_max_features) & \n",
    "    (prob_forest_cv_results.min_samples_split == best_min_sample_split)]\n",
    "prob_forest_best_results_index = prob_forest_best_results.index.values[0]"
   ]
  },
  {
   "cell_type": "code",
   "execution_count": 167,
   "id": "dd774f4e-4f19-4add-9e63-5055fefd74ef",
   "metadata": {
    "tags": []
   },
   "outputs": [
    {
     "data": {
      "text/html": [
       "<div>\n",
       "<style scoped>\n",
       "    .dataframe tbody tr th:only-of-type {\n",
       "        vertical-align: middle;\n",
       "    }\n",
       "\n",
       "    .dataframe tbody tr th {\n",
       "        vertical-align: top;\n",
       "    }\n",
       "\n",
       "    .dataframe thead th {\n",
       "        text-align: right;\n",
       "    }\n",
       "</style>\n",
       "<table border=\"1\" class=\"dataframe\">\n",
       "  <thead>\n",
       "    <tr style=\"text-align: right;\">\n",
       "      <th></th>\n",
       "      <th>CV RMSE</th>\n",
       "      <th>CV AUC</th>\n",
       "      <th>Avg of optimal thresholds</th>\n",
       "      <th>Threshold for Fold5</th>\n",
       "      <th>Avg expected loss</th>\n",
       "      <th>Expected loss for Fold5</th>\n",
       "    </tr>\n",
       "  </thead>\n",
       "  <tbody>\n",
       "    <tr>\n",
       "      <th>0</th>\n",
       "      <td>0.209</td>\n",
       "      <td>0.719</td>\n",
       "      <td>0.198</td>\n",
       "      <td>0.199</td>\n",
       "      <td>0.945</td>\n",
       "      <td>0.92</td>\n",
       "    </tr>\n",
       "  </tbody>\n",
       "</table>\n",
       "</div>"
      ],
      "text/plain": [
       "   CV RMSE  CV AUC  Avg of optimal thresholds  Threshold for Fold5  \\\n",
       "0    0.209   0.719                      0.198                0.199   \n",
       "\n",
       "   Avg expected loss  Expected loss for Fold5  \n",
       "0              0.945                     0.92  "
      ]
     },
     "execution_count": 167,
     "metadata": {},
     "output_type": "execute_result"
    }
   ],
   "source": [
    "rf_summary = pd.DataFrame(\n",
    "    {'CV RMSE': [round(prob_forest_best_results.cv_rmse.values[0], 3)],\n",
    "     'CV AUC': [round(prob_forest_best_results.cv_auc.values[0], 3)],\n",
    "     'Avg of optimal thresholds': [round(best_thresholds_cv['rf_p'], 3)],\n",
    "     'Threshold for Fold5': [round(best_threshold, 3)],\n",
    "     'Avg expected loss': [round(expected_loss_cv['rf_p'], 3)],\n",
    "     'Expected loss for Fold5': [round(curr_exp_loss, 3)]})\n",
    "\n",
    "rf_summary"
   ]
  },
  {
   "cell_type": "markdown",
   "id": "73827dc0-69b2-44da-afb8-022f6cb86155",
   "metadata": {},
   "source": [
    "**Take model to holdout and estimate RMSE, AUC and expected loss**"
   ]
  },
  {
   "cell_type": "code",
   "execution_count": 168,
   "id": "4bb87878-4255-468a-9709-c63528bbeb2f",
   "metadata": {
    "tags": []
   },
   "outputs": [
    {
     "data": {
      "text/plain": [
       "0.211"
      ]
     },
     "execution_count": 168,
     "metadata": {},
     "output_type": "execute_result"
    }
   ],
   "source": [
    "prob_forest_fit_best = prob_forest_fit.best_estimator_\n",
    "rf_predicted_probabilities_holdout = prob_forest_fit_best.predict_proba(rfvars_holdout)[:,1]\n",
    "rmse_rf = np.sqrt(mean_squared_error(y_holdout, rf_predicted_probabilities_holdout))\n",
    "round(rmse_rf, 3)"
   ]
  },
  {
   "cell_type": "code",
   "execution_count": 169,
   "id": "7e5119fd-26d4-4353-bb64-3af3eb83f438",
   "metadata": {
    "tags": []
   },
   "outputs": [
    {
     "data": {
      "text/plain": [
       "0.845"
      ]
     },
     "execution_count": 169,
     "metadata": {},
     "output_type": "execute_result"
    }
   ],
   "source": [
    "auc_rf = roc_auc_score(y_holdout, rf_predicted_probabilities_holdout)\n",
    "round(auc_rf, 3)"
   ]
  },
  {
   "cell_type": "code",
   "execution_count": 170,
   "id": "ff7440ed-5198-4e7e-9d58-4339d6ba7fe6",
   "metadata": {
    "tags": []
   },
   "outputs": [
    {
     "data": {
      "text/plain": [
       "0.639"
      ]
     },
     "execution_count": 170,
     "metadata": {},
     "output_type": "execute_result"
    }
   ],
   "source": [
    "holdout_treshold = np.where(rf_predicted_probabilities_holdout < best_thresholds_cv['rf_p'], 0, 1)\n",
    "tn, fp, fn, tp = confusion_matrix(y_holdout, holdout_treshold, labels=[0,1]).ravel()\n",
    "expected_loss_holdout_rf2 = (fp*FP + fn*FN)/len(y_holdout)\n",
    "round(expected_loss_holdout_rf2, 3)"
   ]
  },
  {
   "cell_type": "markdown",
   "id": "c8711401-4eaa-47b4-afae-1f936d9d3df0",
   "metadata": {},
   "source": [
    "This random forest model performs with the lowest expected loss with 0.639."
   ]
  },
  {
   "cell_type": "code",
   "execution_count": 174,
   "id": "1af98fb8-83ee-41af-82e3-1d846d96c584",
   "metadata": {
    "tags": []
   },
   "outputs": [
    {
     "data": {
      "text/plain": [
       "<bound method _BaseKFold.split of KFold(n_splits=5, random_state=20240224, shuffle=True)>"
      ]
     },
     "execution_count": 174,
     "metadata": {},
     "output_type": "execute_result"
    }
   ],
   "source": [
    "k.split"
   ]
  },
  {
   "cell_type": "code",
   "execution_count": 181,
   "id": "8da1b25a-df55-4ef1-b06e-52196e4f6e58",
   "metadata": {
    "tags": []
   },
   "outputs": [
    {
     "data": {
      "text/plain": [
       "(array([0.00000000e+00, 0.00000000e+00, 0.00000000e+00, 3.00300300e-04,\n",
       "        3.00300300e-04, 9.00900901e-04, 9.00900901e-04, 1.20120120e-03,\n",
       "        1.20120120e-03, 1.50150150e-03, 1.50150150e-03, 1.80180180e-03,\n",
       "        1.80180180e-03, 2.70270270e-03, 2.70270270e-03, 3.00300300e-03,\n",
       "        3.00300300e-03, 3.30330330e-03, 3.30330330e-03, 3.60360360e-03,\n",
       "        3.60360360e-03, 3.90390390e-03, 3.90390390e-03, 4.20420420e-03,\n",
       "        4.20420420e-03, 5.10510511e-03, 5.10510511e-03, 5.40540541e-03,\n",
       "        5.40540541e-03, 5.70570571e-03, 5.70570571e-03, 6.30630631e-03,\n",
       "        6.30630631e-03, 7.20720721e-03, 7.20720721e-03, 7.50750751e-03,\n",
       "        7.50750751e-03, 7.80780781e-03, 7.80780781e-03, 8.10810811e-03,\n",
       "        8.10810811e-03, 8.40840841e-03, 8.40840841e-03, 9.00900901e-03,\n",
       "        9.00900901e-03, 9.60960961e-03, 9.60960961e-03, 1.08108108e-02,\n",
       "        1.08108108e-02, 1.11111111e-02, 1.11111111e-02, 1.14114114e-02,\n",
       "        1.14114114e-02, 1.17117117e-02, 1.17117117e-02, 1.26126126e-02,\n",
       "        1.26126126e-02, 1.29129129e-02, 1.29129129e-02, 1.38138138e-02,\n",
       "        1.38138138e-02, 1.44144144e-02, 1.44144144e-02, 1.47147147e-02,\n",
       "        1.47147147e-02, 1.53153153e-02, 1.53153153e-02, 1.59159159e-02,\n",
       "        1.59159159e-02, 1.68168168e-02, 1.68168168e-02, 1.74174174e-02,\n",
       "        1.74174174e-02, 1.77177177e-02, 1.77177177e-02, 1.86186186e-02,\n",
       "        1.86186186e-02, 1.98198198e-02, 1.98198198e-02, 2.01201201e-02,\n",
       "        2.01201201e-02, 2.07207207e-02, 2.07207207e-02, 2.10210210e-02,\n",
       "        2.10210210e-02, 2.13213213e-02, 2.13213213e-02, 2.19219219e-02,\n",
       "        2.19219219e-02, 2.25225225e-02, 2.25225225e-02, 2.31231231e-02,\n",
       "        2.31231231e-02, 2.34234234e-02, 2.34234234e-02, 2.43243243e-02,\n",
       "        2.43243243e-02, 2.46246246e-02, 2.46246246e-02, 2.52252252e-02,\n",
       "        2.52252252e-02, 2.55255255e-02, 2.55255255e-02, 2.58258258e-02,\n",
       "        2.58258258e-02, 2.67267267e-02, 2.67267267e-02, 2.73273273e-02,\n",
       "        2.73273273e-02, 2.76276276e-02, 2.76276276e-02, 2.94294294e-02,\n",
       "        2.94294294e-02, 3.00300300e-02, 3.00300300e-02, 3.03303303e-02,\n",
       "        3.03303303e-02, 3.09309309e-02, 3.09309309e-02, 3.21321321e-02,\n",
       "        3.21321321e-02, 3.33333333e-02, 3.33333333e-02, 3.36336336e-02,\n",
       "        3.36336336e-02, 3.48348348e-02, 3.48348348e-02, 3.57357357e-02,\n",
       "        3.57357357e-02, 3.60360360e-02, 3.60360360e-02, 3.63363363e-02,\n",
       "        3.63363363e-02, 3.87387387e-02, 3.87387387e-02, 3.93393393e-02,\n",
       "        3.93393393e-02, 4.11411411e-02, 4.11411411e-02, 4.14414414e-02,\n",
       "        4.14414414e-02, 4.38438438e-02, 4.38438438e-02, 4.41441441e-02,\n",
       "        4.41441441e-02, 4.47447447e-02, 4.47447447e-02, 4.56456456e-02,\n",
       "        4.56456456e-02, 4.68468468e-02, 4.68468468e-02, 4.80480480e-02,\n",
       "        4.80480480e-02, 4.92492492e-02, 4.92492492e-02, 4.98498498e-02,\n",
       "        4.98498498e-02, 5.07507508e-02, 5.07507508e-02, 5.25525526e-02,\n",
       "        5.25525526e-02, 5.37537538e-02, 5.37537538e-02, 5.46546547e-02,\n",
       "        5.46546547e-02, 5.52552553e-02, 5.52552553e-02, 5.55555556e-02,\n",
       "        5.55555556e-02, 5.67567568e-02, 5.67567568e-02, 5.88588589e-02,\n",
       "        5.88588589e-02, 5.91591592e-02, 5.91591592e-02, 5.97597598e-02,\n",
       "        5.97597598e-02, 6.03603604e-02, 6.03603604e-02, 6.09609610e-02,\n",
       "        6.09609610e-02, 6.33633634e-02, 6.33633634e-02, 6.45645646e-02,\n",
       "        6.45645646e-02, 6.48648649e-02, 6.48648649e-02, 6.72672673e-02,\n",
       "        6.72672673e-02, 6.96696697e-02, 6.96696697e-02, 6.99699700e-02,\n",
       "        6.99699700e-02, 7.08708709e-02, 7.08708709e-02, 7.20720721e-02,\n",
       "        7.20720721e-02, 7.29729730e-02, 7.29729730e-02, 7.68768769e-02,\n",
       "        7.68768769e-02, 7.86786787e-02, 7.86786787e-02, 7.89789790e-02,\n",
       "        7.89789790e-02, 7.98798799e-02, 7.98798799e-02, 8.46846847e-02,\n",
       "        8.46846847e-02, 8.49849850e-02, 8.49849850e-02, 8.58858859e-02,\n",
       "        8.58858859e-02, 8.82882883e-02, 8.82882883e-02, 9.57957958e-02,\n",
       "        9.57957958e-02, 9.69969970e-02, 9.69969970e-02, 1.00300300e-01,\n",
       "        1.00300300e-01, 1.01201201e-01, 1.01201201e-01, 1.03003003e-01,\n",
       "        1.03003003e-01, 1.03303303e-01, 1.03303303e-01, 1.03603604e-01,\n",
       "        1.03603604e-01, 1.04204204e-01, 1.04204204e-01, 1.04504505e-01,\n",
       "        1.04504505e-01, 1.05105105e-01, 1.05105105e-01, 1.05705706e-01,\n",
       "        1.05705706e-01, 1.08408408e-01, 1.08408408e-01, 1.08708709e-01,\n",
       "        1.08708709e-01, 1.10210210e-01, 1.10210210e-01, 1.11711712e-01,\n",
       "        1.11711712e-01, 1.12312312e-01, 1.12312312e-01, 1.14714715e-01,\n",
       "        1.14714715e-01, 1.15015015e-01, 1.15015015e-01, 1.15615616e-01,\n",
       "        1.15615616e-01, 1.17417417e-01, 1.17417417e-01, 1.18018018e-01,\n",
       "        1.18018018e-01, 1.18318318e-01, 1.18318318e-01, 1.20120120e-01,\n",
       "        1.20120120e-01, 1.23423423e-01, 1.23423423e-01, 1.27027027e-01,\n",
       "        1.27027027e-01, 1.27927928e-01, 1.27927928e-01, 1.28828829e-01,\n",
       "        1.28828829e-01, 1.31831832e-01, 1.31831832e-01, 1.33933934e-01,\n",
       "        1.33933934e-01, 1.36336336e-01, 1.36336336e-01, 1.39339339e-01,\n",
       "        1.39339339e-01, 1.40240240e-01, 1.40240240e-01, 1.45045045e-01,\n",
       "        1.45045045e-01, 1.46546547e-01, 1.46546547e-01, 1.46846847e-01,\n",
       "        1.46846847e-01, 1.48348348e-01, 1.48348348e-01, 1.52852853e-01,\n",
       "        1.52852853e-01, 1.57057057e-01, 1.57057057e-01, 1.59759760e-01,\n",
       "        1.59759760e-01, 1.60960961e-01, 1.60960961e-01, 1.61261261e-01,\n",
       "        1.61261261e-01, 1.66066066e-01, 1.66066066e-01, 1.69069069e-01,\n",
       "        1.69069069e-01, 1.70270270e-01, 1.70270270e-01, 1.70870871e-01,\n",
       "        1.70870871e-01, 1.72372372e-01, 1.72372372e-01, 1.73273273e-01,\n",
       "        1.73273273e-01, 1.75375375e-01, 1.75375375e-01, 1.85585586e-01,\n",
       "        1.85585586e-01, 1.86186186e-01, 1.86186186e-01, 1.87987988e-01,\n",
       "        1.87987988e-01, 1.88888889e-01, 1.88888889e-01, 1.93093093e-01,\n",
       "        1.93093093e-01, 1.93393393e-01, 1.93393393e-01, 1.93693694e-01,\n",
       "        1.93693694e-01, 1.95195195e-01, 1.95195195e-01, 1.96696697e-01,\n",
       "        1.96696697e-01, 1.97297297e-01, 1.97297297e-01, 1.99699700e-01,\n",
       "        1.99699700e-01, 2.04504505e-01, 2.04504505e-01, 2.10210210e-01,\n",
       "        2.10210210e-01, 2.10510511e-01, 2.10510511e-01, 2.13813814e-01,\n",
       "        2.13813814e-01, 2.14714715e-01, 2.14714715e-01, 2.21921922e-01,\n",
       "        2.21921922e-01, 2.29129129e-01, 2.29129129e-01, 2.29429429e-01,\n",
       "        2.29429429e-01, 2.30630631e-01, 2.30630631e-01, 2.33333333e-01,\n",
       "        2.33333333e-01, 2.36936937e-01, 2.36936937e-01, 2.40540541e-01,\n",
       "        2.40540541e-01, 2.41741742e-01, 2.41741742e-01, 2.42942943e-01,\n",
       "        2.42942943e-01, 2.44444444e-01, 2.44444444e-01, 2.45045045e-01,\n",
       "        2.45045045e-01, 2.47147147e-01, 2.47147147e-01, 2.54054054e-01,\n",
       "        2.54054054e-01, 2.57657658e-01, 2.57657658e-01, 2.63663664e-01,\n",
       "        2.63663664e-01, 2.63963964e-01, 2.63963964e-01, 2.65765766e-01,\n",
       "        2.65765766e-01, 2.66366366e-01, 2.66366366e-01, 2.71771772e-01,\n",
       "        2.71771772e-01, 2.72972973e-01, 2.72972973e-01, 2.75975976e-01,\n",
       "        2.75975976e-01, 2.79879880e-01, 2.79879880e-01, 2.81081081e-01,\n",
       "        2.81081081e-01, 2.84684685e-01, 2.84684685e-01, 2.85885886e-01,\n",
       "        2.85885886e-01, 2.90090090e-01, 2.90090090e-01, 2.91591592e-01,\n",
       "        2.91591592e-01, 2.97597598e-01, 2.97597598e-01, 2.98498498e-01,\n",
       "        2.98498498e-01, 2.99099099e-01, 2.99099099e-01, 3.01501502e-01,\n",
       "        3.01501502e-01, 3.10210210e-01, 3.10210210e-01, 3.13213213e-01,\n",
       "        3.13213213e-01, 3.13513514e-01, 3.13513514e-01, 3.14414414e-01,\n",
       "        3.14414414e-01, 3.15915916e-01, 3.15915916e-01, 3.16216216e-01,\n",
       "        3.16216216e-01, 3.20120120e-01, 3.20120120e-01, 3.22522523e-01,\n",
       "        3.22522523e-01, 3.32132132e-01, 3.32132132e-01, 3.39039039e-01,\n",
       "        3.39039039e-01, 3.42342342e-01, 3.42342342e-01, 3.43543544e-01,\n",
       "        3.43543544e-01, 3.46246246e-01, 3.46246246e-01, 3.51051051e-01,\n",
       "        3.51051051e-01, 3.58858859e-01, 3.58858859e-01, 3.68468468e-01,\n",
       "        3.68468468e-01, 3.75375375e-01, 3.75375375e-01, 3.76576577e-01,\n",
       "        3.76576577e-01, 3.81681682e-01, 3.81681682e-01, 3.84384384e-01,\n",
       "        3.84384384e-01, 3.87987988e-01, 3.87987988e-01, 3.98498498e-01,\n",
       "        3.98498498e-01, 3.99699700e-01, 3.99699700e-01, 4.02102102e-01,\n",
       "        4.02102102e-01, 4.06606607e-01, 4.06606607e-01, 4.11111111e-01,\n",
       "        4.11111111e-01, 4.16816817e-01, 4.16816817e-01, 4.29429429e-01,\n",
       "        4.29429429e-01, 4.35435435e-01, 4.35435435e-01, 4.39039039e-01,\n",
       "        4.39039039e-01, 4.39339339e-01, 4.39339339e-01, 4.45345345e-01,\n",
       "        4.45345345e-01, 4.45645646e-01, 4.45645646e-01, 4.58258258e-01,\n",
       "        4.58258258e-01, 4.64264264e-01, 4.64264264e-01, 4.67567568e-01,\n",
       "        4.67567568e-01, 4.72372372e-01, 4.72372372e-01, 4.91291291e-01,\n",
       "        4.91291291e-01, 4.93693694e-01, 4.93693694e-01, 5.11411411e-01,\n",
       "        5.11411411e-01, 5.13813814e-01, 5.13813814e-01, 5.33933934e-01,\n",
       "        5.33933934e-01, 5.40540541e-01, 5.40540541e-01, 5.51951952e-01,\n",
       "        5.51951952e-01, 5.62762763e-01, 5.62762763e-01, 5.64564565e-01,\n",
       "        5.64564565e-01, 5.75975976e-01, 5.75975976e-01, 5.84084084e-01,\n",
       "        5.84084084e-01, 5.94294294e-01, 5.94294294e-01, 5.94594595e-01,\n",
       "        5.94594595e-01, 6.14414414e-01, 6.14414414e-01, 6.27027027e-01,\n",
       "        6.27027027e-01, 6.74774775e-01, 6.74774775e-01, 6.96396396e-01,\n",
       "        6.96396396e-01, 7.06306306e-01, 7.06306306e-01, 7.08708709e-01,\n",
       "        7.08708709e-01, 7.12912913e-01, 7.12912913e-01, 7.36936937e-01,\n",
       "        7.36936937e-01, 7.45345345e-01, 7.45345345e-01, 7.54354354e-01,\n",
       "        7.54354354e-01, 8.57357357e-01, 8.57357357e-01, 8.62162162e-01,\n",
       "        8.62162162e-01, 8.95795796e-01, 8.95795796e-01, 9.02702703e-01,\n",
       "        9.02702703e-01, 9.37537538e-01, 9.37537538e-01, 9.39039039e-01,\n",
       "        9.39039039e-01, 9.54054054e-01, 9.54054054e-01, 9.98498498e-01,\n",
       "        1.00000000e+00]),\n",
       " array([0.        , 0.00269542, 0.01617251, 0.01617251, 0.02425876,\n",
       "        0.02425876, 0.04312668, 0.04312668, 0.0458221 , 0.0458221 ,\n",
       "        0.05660377, 0.05660377, 0.05929919, 0.05929919, 0.07008086,\n",
       "        0.07008086, 0.07816712, 0.07816712, 0.08086253, 0.08086253,\n",
       "        0.08625337, 0.08625337, 0.0916442 , 0.0916442 , 0.09973046,\n",
       "        0.09973046, 0.10512129, 0.10512129, 0.10781671, 0.10781671,\n",
       "        0.11051213, 0.11051213, 0.11320755, 0.11320755, 0.11590296,\n",
       "        0.11590296, 0.11859838, 0.11859838, 0.1212938 , 0.1212938 ,\n",
       "        0.12668464, 0.12668464, 0.12938005, 0.12938005, 0.13207547,\n",
       "        0.13207547, 0.14555256, 0.14555256, 0.1509434 , 0.1509434 ,\n",
       "        0.15633423, 0.15633423, 0.1671159 , 0.1671159 , 0.17250674,\n",
       "        0.17250674, 0.17789757, 0.17789757, 0.18328841, 0.18328841,\n",
       "        0.18598383, 0.18598383, 0.19137466, 0.19137466, 0.1967655 ,\n",
       "        0.1967655 , 0.19946092, 0.19946092, 0.20485175, 0.20485175,\n",
       "        0.21024259, 0.21024259, 0.21293801, 0.21293801, 0.21563342,\n",
       "        0.21563342, 0.21832884, 0.21832884, 0.23180593, 0.23180593,\n",
       "        0.23719677, 0.23719677, 0.2425876 , 0.2425876 , 0.25336927,\n",
       "        0.25336927, 0.25876011, 0.25876011, 0.26415094, 0.26415094,\n",
       "        0.26954178, 0.26954178, 0.28032345, 0.28032345, 0.29110512,\n",
       "        0.29110512, 0.29649596, 0.29649596, 0.30188679, 0.30188679,\n",
       "        0.30458221, 0.30458221, 0.30997305, 0.30997305, 0.31266846,\n",
       "        0.31266846, 0.31536388, 0.31536388, 0.32345013, 0.32345013,\n",
       "        0.32884097, 0.32884097, 0.33153639, 0.33153639, 0.33692722,\n",
       "        0.33692722, 0.33962264, 0.33962264, 0.34231806, 0.34231806,\n",
       "        0.34501348, 0.34501348, 0.35040431, 0.35040431, 0.35849057,\n",
       "        0.35849057, 0.36118598, 0.36118598, 0.3638814 , 0.3638814 ,\n",
       "        0.36657682, 0.36657682, 0.36927224, 0.36927224, 0.37196765,\n",
       "        0.37196765, 0.37466307, 0.37466307, 0.37735849, 0.37735849,\n",
       "        0.38274933, 0.38274933, 0.38814016, 0.38814016, 0.393531  ,\n",
       "        0.393531  , 0.39622642, 0.39622642, 0.39892183, 0.39892183,\n",
       "        0.40161725, 0.40161725, 0.40431267, 0.40431267, 0.40700809,\n",
       "        0.40700809, 0.4097035 , 0.4097035 , 0.41239892, 0.41239892,\n",
       "        0.41509434, 0.41509434, 0.41778976, 0.41778976, 0.42048518,\n",
       "        0.42048518, 0.42318059, 0.42318059, 0.42587601, 0.42587601,\n",
       "        0.43126685, 0.43126685, 0.43396226, 0.43396226, 0.44204852,\n",
       "        0.44204852, 0.44743935, 0.44743935, 0.45013477, 0.45013477,\n",
       "        0.45283019, 0.45283019, 0.45822102, 0.45822102, 0.46091644,\n",
       "        0.46091644, 0.46361186, 0.46361186, 0.46630728, 0.46630728,\n",
       "        0.4690027 , 0.4690027 , 0.47169811, 0.47169811, 0.47439353,\n",
       "        0.47439353, 0.47708895, 0.47708895, 0.47978437, 0.47978437,\n",
       "        0.4851752 , 0.4851752 , 0.49056604, 0.49056604, 0.49326146,\n",
       "        0.49326146, 0.49595687, 0.49595687, 0.50134771, 0.50134771,\n",
       "        0.50404313, 0.50404313, 0.50673854, 0.50673854, 0.51752022,\n",
       "        0.51752022, 0.52021563, 0.52021563, 0.52560647, 0.52560647,\n",
       "        0.52830189, 0.52830189, 0.5309973 , 0.5309973 , 0.53369272,\n",
       "        0.53369272, 0.53908356, 0.53908356, 0.54716981, 0.54716981,\n",
       "        0.54986523, 0.54986523, 0.55256065, 0.55256065, 0.55525606,\n",
       "        0.55525606, 0.55795148, 0.55795148, 0.5606469 , 0.5606469 ,\n",
       "        0.56334232, 0.56334232, 0.56603774, 0.56603774, 0.56873315,\n",
       "        0.56873315, 0.57412399, 0.57412399, 0.58221024, 0.58221024,\n",
       "        0.58490566, 0.58490566, 0.58760108, 0.58760108, 0.59299191,\n",
       "        0.59299191, 0.59568733, 0.59568733, 0.59838275, 0.59838275,\n",
       "        0.60377358, 0.60377358, 0.606469  , 0.606469  , 0.60916442,\n",
       "        0.60916442, 0.61185984, 0.61185984, 0.61455526, 0.61455526,\n",
       "        0.61725067, 0.61725067, 0.61994609, 0.61994609, 0.62264151,\n",
       "        0.62264151, 0.62533693, 0.62533693, 0.62803235, 0.62803235,\n",
       "        0.63072776, 0.63072776, 0.63342318, 0.63342318, 0.6361186 ,\n",
       "        0.6361186 , 0.63881402, 0.63881402, 0.64150943, 0.64150943,\n",
       "        0.64420485, 0.64420485, 0.64959569, 0.64959569, 0.65229111,\n",
       "        0.65229111, 0.65498652, 0.65498652, 0.65768194, 0.65768194,\n",
       "        0.66037736, 0.66037736, 0.66307278, 0.66307278, 0.66576819,\n",
       "        0.66576819, 0.66846361, 0.66846361, 0.67115903, 0.67115903,\n",
       "        0.67385445, 0.67385445, 0.67654987, 0.67654987, 0.67924528,\n",
       "        0.67924528, 0.6819407 , 0.6819407 , 0.68733154, 0.68733154,\n",
       "        0.69002695, 0.69002695, 0.69272237, 0.69272237, 0.69541779,\n",
       "        0.69541779, 0.70080863, 0.70080863, 0.70350404, 0.70350404,\n",
       "        0.70889488, 0.70889488, 0.7115903 , 0.7115903 , 0.71428571,\n",
       "        0.71428571, 0.71698113, 0.71698113, 0.71967655, 0.71967655,\n",
       "        0.72237197, 0.72237197, 0.72506739, 0.72506739, 0.7277628 ,\n",
       "        0.7277628 , 0.73045822, 0.73045822, 0.73315364, 0.73315364,\n",
       "        0.73854447, 0.73854447, 0.74123989, 0.74123989, 0.74393531,\n",
       "        0.74393531, 0.74663073, 0.74663073, 0.74932615, 0.74932615,\n",
       "        0.75202156, 0.75202156, 0.75471698, 0.75471698, 0.7574124 ,\n",
       "        0.7574124 , 0.76010782, 0.76010782, 0.76280323, 0.76280323,\n",
       "        0.76549865, 0.76549865, 0.76819407, 0.76819407, 0.77088949,\n",
       "        0.77088949, 0.77358491, 0.77358491, 0.77628032, 0.77628032,\n",
       "        0.77897574, 0.77897574, 0.78167116, 0.78167116, 0.78436658,\n",
       "        0.78436658, 0.78706199, 0.78706199, 0.78975741, 0.78975741,\n",
       "        0.79245283, 0.79245283, 0.79514825, 0.79514825, 0.80053908,\n",
       "        0.80053908, 0.8032345 , 0.8032345 , 0.80592992, 0.80592992,\n",
       "        0.80862534, 0.80862534, 0.81401617, 0.81401617, 0.81671159,\n",
       "        0.81671159, 0.81940701, 0.81940701, 0.82210243, 0.82210243,\n",
       "        0.82479784, 0.82479784, 0.82749326, 0.82749326, 0.83018868,\n",
       "        0.83018868, 0.8328841 , 0.8328841 , 0.83557951, 0.83557951,\n",
       "        0.83827493, 0.83827493, 0.84097035, 0.84097035, 0.84366577,\n",
       "        0.84366577, 0.8490566 , 0.8490566 , 0.85175202, 0.85175202,\n",
       "        0.85444744, 0.85444744, 0.85714286, 0.85714286, 0.85983827,\n",
       "        0.85983827, 0.86253369, 0.86253369, 0.86522911, 0.86522911,\n",
       "        0.86792453, 0.86792453, 0.87061995, 0.87061995, 0.87331536,\n",
       "        0.87331536, 0.87601078, 0.87601078, 0.8787062 , 0.8787062 ,\n",
       "        0.88140162, 0.88140162, 0.88409704, 0.88409704, 0.88679245,\n",
       "        0.88679245, 0.88948787, 0.88948787, 0.89218329, 0.89218329,\n",
       "        0.89487871, 0.89487871, 0.89757412, 0.89757412, 0.90026954,\n",
       "        0.90026954, 0.90296496, 0.90296496, 0.90566038, 0.90566038,\n",
       "        0.9083558 , 0.9083558 , 0.91105121, 0.91105121, 0.91374663,\n",
       "        0.91374663, 0.91644205, 0.91644205, 0.91913747, 0.91913747,\n",
       "        0.92183288, 0.92183288, 0.9245283 , 0.9245283 , 0.92722372,\n",
       "        0.92722372, 0.92991914, 0.92991914, 0.93261456, 0.93261456,\n",
       "        0.93530997, 0.93530997, 0.93800539, 0.93800539, 0.94070081,\n",
       "        0.94070081, 0.94339623, 0.94339623, 0.94609164, 0.94609164,\n",
       "        0.94878706, 0.94878706, 0.95148248, 0.95148248, 0.9541779 ,\n",
       "        0.9541779 , 0.95687332, 0.95687332, 0.95956873, 0.95956873,\n",
       "        0.96226415, 0.96226415, 0.96495957, 0.96495957, 0.96765499,\n",
       "        0.96765499, 0.9703504 , 0.9703504 , 0.97304582, 0.97304582,\n",
       "        0.97574124, 0.97574124, 0.97843666, 0.97843666, 0.98113208,\n",
       "        0.98113208, 0.98382749, 0.98382749, 0.98652291, 0.98652291,\n",
       "        0.98921833, 0.98921833, 0.99191375, 0.99191375, 0.99460916,\n",
       "        0.99460916, 0.99730458, 0.99730458, 1.        , 1.        ,\n",
       "        1.        ]),\n",
       " array([           inf, 8.81183918e-01, 7.95460451e-01, 7.86825787e-01,\n",
       "        7.60092361e-01, 7.53503783e-01, 7.22560334e-01, 7.14641265e-01,\n",
       "        7.13121538e-01, 7.08233582e-01, 6.93741938e-01, 6.85803369e-01,\n",
       "        6.83357304e-01, 6.65186596e-01, 6.51541100e-01, 6.51458277e-01,\n",
       "        6.43102399e-01, 6.36623867e-01, 6.34656049e-01, 6.34475061e-01,\n",
       "        6.25269169e-01, 6.24788424e-01, 6.20831068e-01, 6.19831210e-01,\n",
       "        6.05481424e-01, 5.97793634e-01, 5.90366554e-01, 5.88265548e-01,\n",
       "        5.84962402e-01, 5.82512119e-01, 5.81972219e-01, 5.75848312e-01,\n",
       "        5.74165389e-01, 5.67714981e-01, 5.67296768e-01, 5.60866999e-01,\n",
       "        5.60599306e-01, 5.59906644e-01, 5.54798853e-01, 5.54058873e-01,\n",
       "        5.52305918e-01, 5.51962732e-01, 5.51814494e-01, 5.45305888e-01,\n",
       "        5.43654911e-01, 5.41274346e-01, 5.33372848e-01, 5.24482637e-01,\n",
       "        5.17783434e-01, 5.14002797e-01, 5.10561700e-01, 5.09020635e-01,\n",
       "        4.99050970e-01, 4.95318794e-01, 4.93583613e-01, 4.89616313e-01,\n",
       "        4.86505620e-01, 4.85486238e-01, 4.74439406e-01, 4.70355052e-01,\n",
       "        4.69574319e-01, 4.65979174e-01, 4.65142817e-01, 4.63953566e-01,\n",
       "        4.60039124e-01, 4.58644466e-01, 4.56214451e-01, 4.53448341e-01,\n",
       "        4.52804198e-01, 4.47555551e-01, 4.47016504e-01, 4.46128902e-01,\n",
       "        4.42283139e-01, 4.40842846e-01, 4.39717765e-01, 4.35874016e-01,\n",
       "        4.34945196e-01, 4.31155871e-01, 4.27760456e-01, 4.27089308e-01,\n",
       "        4.25521824e-01, 4.23216480e-01, 4.21975321e-01, 4.21462061e-01,\n",
       "        4.15674845e-01, 4.14862671e-01, 4.14308049e-01, 4.07679803e-01,\n",
       "        4.06296708e-01, 4.03142971e-01, 4.02534774e-01, 3.98173193e-01,\n",
       "        3.94231524e-01, 3.92599428e-01, 3.87538962e-01, 3.85583966e-01,\n",
       "        3.84472398e-01, 3.83842373e-01, 3.83429306e-01, 3.82001368e-01,\n",
       "        3.80317722e-01, 3.80297641e-01, 3.78845550e-01, 3.76888081e-01,\n",
       "        3.76731368e-01, 3.73019040e-01, 3.72866639e-01, 3.70129390e-01,\n",
       "        3.68682769e-01, 3.68055908e-01, 3.66232779e-01, 3.60304598e-01,\n",
       "        3.60072309e-01, 3.57687686e-01, 3.57087471e-01, 3.55442225e-01,\n",
       "        3.55381769e-01, 3.54607177e-01, 3.54179477e-01, 3.49280602e-01,\n",
       "        3.48898579e-01, 3.46855187e-01, 3.44283950e-01, 3.43357893e-01,\n",
       "        3.41630097e-01, 3.39799477e-01, 3.38268980e-01, 3.34943683e-01,\n",
       "        3.32481000e-01, 3.32269732e-01, 3.30653311e-01, 3.30514705e-01,\n",
       "        3.30475570e-01, 3.26193061e-01, 3.25767239e-01, 3.23736349e-01,\n",
       "        3.23447028e-01, 3.19006017e-01, 3.18815918e-01, 3.18594527e-01,\n",
       "        3.18585483e-01, 3.13898788e-01, 3.13025775e-01, 3.12865440e-01,\n",
       "        3.11917418e-01, 3.11213464e-01, 3.10096342e-01, 3.07437904e-01,\n",
       "        3.07219485e-01, 3.06922489e-01, 3.05971634e-01, 3.03306867e-01,\n",
       "        3.02781444e-01, 3.00519615e-01, 3.00371929e-01, 2.99597357e-01,\n",
       "        2.99477684e-01, 2.97809046e-01, 2.97592552e-01, 2.95993126e-01,\n",
       "        2.95835875e-01, 2.94013418e-01, 2.93663435e-01, 2.92419233e-01,\n",
       "        2.91996048e-01, 2.90564345e-01, 2.90376499e-01, 2.89846252e-01,\n",
       "        2.89444159e-01, 2.88775709e-01, 2.87304075e-01, 2.85459712e-01,\n",
       "        2.85216648e-01, 2.83439231e-01, 2.82834601e-01, 2.82567428e-01,\n",
       "        2.81907330e-01, 2.81213743e-01, 2.80846692e-01, 2.80074096e-01,\n",
       "        2.80043532e-01, 2.75241058e-01, 2.74278090e-01, 2.72990174e-01,\n",
       "        2.72361142e-01, 2.71842598e-01, 2.71646675e-01, 2.67911239e-01,\n",
       "        2.67770190e-01, 2.63220510e-01, 2.62705711e-01, 2.62098300e-01,\n",
       "        2.61405074e-01, 2.60667115e-01, 2.60115854e-01, 2.59663570e-01,\n",
       "        2.59645545e-01, 2.58242626e-01, 2.58047525e-01, 2.54524767e-01,\n",
       "        2.53536393e-01, 2.51271564e-01, 2.49991273e-01, 2.48600991e-01,\n",
       "        2.46842206e-01, 2.46439036e-01, 2.46223132e-01, 2.40942334e-01,\n",
       "        2.40839631e-01, 2.40821201e-01, 2.40781913e-01, 2.39791195e-01,\n",
       "        2.39619422e-01, 2.36534961e-01, 2.36207519e-01, 2.29654967e-01,\n",
       "        2.29244051e-01, 2.28604756e-01, 2.27097933e-01, 2.23873890e-01,\n",
       "        2.23454345e-01, 2.22125728e-01, 2.21749413e-01, 2.20710239e-01,\n",
       "        2.20691851e-01, 2.20441472e-01, 2.20174634e-01, 2.19997064e-01,\n",
       "        2.19097348e-01, 2.18920869e-01, 2.18907967e-01, 2.18496354e-01,\n",
       "        2.17712416e-01, 2.17338026e-01, 2.17264205e-01, 2.16667528e-01,\n",
       "        2.16151759e-01, 2.13982847e-01, 2.13445695e-01, 2.13138473e-01,\n",
       "        2.12831267e-01, 2.12035871e-01, 2.11622345e-01, 2.10905063e-01,\n",
       "        2.10780584e-01, 2.10008372e-01, 2.09420651e-01, 2.06307066e-01,\n",
       "        2.05353499e-01, 2.05294749e-01, 2.04932458e-01, 2.04709484e-01,\n",
       "        2.04371474e-01, 2.02427451e-01, 2.02080259e-01, 2.01626758e-01,\n",
       "        2.01596731e-01, 2.01440979e-01, 2.01115177e-01, 1.99901491e-01,\n",
       "        1.99412080e-01, 1.95052327e-01, 1.95012762e-01, 1.93788938e-01,\n",
       "        1.93566914e-01, 1.93202981e-01, 1.93178156e-01, 1.92506040e-01,\n",
       "        1.92435241e-01, 1.90244091e-01, 1.89918659e-01, 1.88157637e-01,\n",
       "        1.88108763e-01, 1.87189193e-01, 1.87007745e-01, 1.84326376e-01,\n",
       "        1.84198302e-01, 1.83867669e-01, 1.83542471e-01, 1.79991959e-01,\n",
       "        1.79574601e-01, 1.78516384e-01, 1.78232657e-01, 1.78165669e-01,\n",
       "        1.77959520e-01, 1.77348663e-01, 1.77293554e-01, 1.73808964e-01,\n",
       "        1.73338457e-01, 1.71312114e-01, 1.71114622e-01, 1.70100822e-01,\n",
       "        1.70047511e-01, 1.69645059e-01, 1.69643019e-01, 1.69522849e-01,\n",
       "        1.69367951e-01, 1.65033466e-01, 1.64832887e-01, 1.63451851e-01,\n",
       "        1.63303844e-01, 1.62654418e-01, 1.62645368e-01, 1.62167087e-01,\n",
       "        1.62095004e-01, 1.61102380e-01, 1.61030975e-01, 1.60780567e-01,\n",
       "        1.60748053e-01, 1.60140421e-01, 1.60086464e-01, 1.54121062e-01,\n",
       "        1.53769514e-01, 1.53519231e-01, 1.53338695e-01, 1.52611263e-01,\n",
       "        1.52581156e-01, 1.52386540e-01, 1.52094817e-01, 1.50546613e-01,\n",
       "        1.50355817e-01, 1.50349423e-01, 1.50341767e-01, 1.50161360e-01,\n",
       "        1.50160909e-01, 1.49433922e-01, 1.49013089e-01, 1.47836413e-01,\n",
       "        1.47496580e-01, 1.46829141e-01, 1.46482974e-01, 1.45295332e-01,\n",
       "        1.45210708e-01, 1.42060473e-01, 1.41889199e-01, 1.39444824e-01,\n",
       "        1.39264855e-01, 1.38960264e-01, 1.38935079e-01, 1.36974374e-01,\n",
       "        1.36821194e-01, 1.36355313e-01, 1.36079995e-01, 1.33038384e-01,\n",
       "        1.32966948e-01, 1.30569396e-01, 1.30560250e-01, 1.30559347e-01,\n",
       "        1.30508859e-01, 1.29734927e-01, 1.29436054e-01, 1.28568018e-01,\n",
       "        1.28345196e-01, 1.26416148e-01, 1.26138529e-01, 1.24686319e-01,\n",
       "        1.24215770e-01, 1.23535916e-01, 1.23482007e-01, 1.22534985e-01,\n",
       "        1.22453971e-01, 1.21495915e-01, 1.21348322e-01, 1.21076052e-01,\n",
       "        1.20979980e-01, 1.20305588e-01, 1.20290408e-01, 1.16994375e-01,\n",
       "        1.16941387e-01, 1.15953999e-01, 1.15722236e-01, 1.13670759e-01,\n",
       "        1.13583567e-01, 1.13555072e-01, 1.13505209e-01, 1.13204633e-01,\n",
       "        1.12872084e-01, 1.12793576e-01, 1.12561893e-01, 1.10783129e-01,\n",
       "        1.10711686e-01, 1.10180725e-01, 1.10031752e-01, 1.08977900e-01,\n",
       "        1.08763744e-01, 1.07306082e-01, 1.07237346e-01, 1.06936395e-01,\n",
       "        1.06759461e-01, 1.06082459e-01, 1.06068416e-01, 1.05999173e-01,\n",
       "        1.05879399e-01, 1.04679086e-01, 1.04632815e-01, 1.03983378e-01,\n",
       "        1.03967913e-01, 1.01995104e-01, 1.01954577e-01, 1.01748372e-01,\n",
       "        1.01515469e-01, 1.00860439e-01, 1.00602814e-01, 9.98871852e-02,\n",
       "        9.98620334e-02, 9.69892263e-02, 9.69544794e-02, 9.59929040e-02,\n",
       "        9.58749664e-02, 9.58734661e-02, 9.57697441e-02, 9.56812477e-02,\n",
       "        9.56368222e-02, 9.51428827e-02, 9.49994352e-02, 9.49791960e-02,\n",
       "        9.44843800e-02, 9.30321933e-02, 9.29481669e-02, 9.22268871e-02,\n",
       "        9.22131715e-02, 8.91502950e-02, 8.91166238e-02, 8.74809716e-02,\n",
       "        8.73046606e-02, 8.60900800e-02, 8.56894757e-02, 8.50436883e-02,\n",
       "        8.49650645e-02, 8.43287861e-02, 8.42347214e-02, 8.30464257e-02,\n",
       "        8.30012817e-02, 8.12135511e-02, 8.11950156e-02, 7.89688014e-02,\n",
       "        7.89223225e-02, 7.76987224e-02, 7.75746931e-02, 7.74857863e-02,\n",
       "        7.74361805e-02, 7.65218533e-02, 7.64875803e-02, 7.58297679e-02,\n",
       "        7.58028896e-02, 7.49937321e-02, 7.49263281e-02, 7.29196539e-02,\n",
       "        7.28309733e-02, 7.26717537e-02, 7.25871102e-02, 7.22101897e-02,\n",
       "        7.22058994e-02, 7.03860752e-02, 7.03707874e-02, 6.88387075e-02,\n",
       "        6.88267535e-02, 6.68926194e-02, 6.68212042e-02, 6.40522704e-02,\n",
       "        6.37999417e-02, 6.29136863e-02, 6.25976998e-02, 6.20936972e-02,\n",
       "        6.20088793e-02, 6.19182103e-02, 6.18100873e-02, 6.05323472e-02,\n",
       "        6.05259376e-02, 6.05028837e-02, 6.04820328e-02, 5.82940650e-02,\n",
       "        5.82808949e-02, 5.69105791e-02, 5.68762966e-02, 5.62813032e-02,\n",
       "        5.61874509e-02, 5.51045113e-02, 5.50149282e-02, 5.15667537e-02,\n",
       "        5.15646966e-02, 5.11746915e-02, 5.11562522e-02, 4.87476687e-02,\n",
       "        4.86792032e-02, 4.83727947e-02, 4.83565882e-02, 4.50439862e-02,\n",
       "        4.49869243e-02, 4.41127652e-02, 4.41075320e-02, 4.21756466e-02,\n",
       "        4.21745775e-02, 4.06424128e-02, 4.06392663e-02, 4.03054591e-02,\n",
       "        4.02778777e-02, 3.84750238e-02, 3.84535590e-02, 3.76350070e-02,\n",
       "        3.76322928e-02, 3.58558678e-02, 3.57411033e-02, 3.56939964e-02,\n",
       "        3.56469442e-02, 3.35955843e-02, 3.35903155e-02, 3.16729747e-02,\n",
       "        3.15646212e-02, 2.66890498e-02, 2.66027768e-02, 2.41681382e-02,\n",
       "        2.41310492e-02, 2.32051850e-02, 2.31053150e-02, 2.29561050e-02,\n",
       "        2.29313343e-02, 2.24128221e-02, 2.24047832e-02, 2.01367804e-02,\n",
       "        2.00920679e-02, 1.92321913e-02, 1.91793235e-02, 1.84994949e-02,\n",
       "        1.84492734e-02, 1.05600769e-02, 1.05442585e-02, 1.01062834e-02,\n",
       "        1.01058109e-02, 7.99342748e-03, 7.99286988e-03, 7.48381667e-03,\n",
       "        7.48214286e-03, 5.17973856e-03, 5.15470085e-03, 5.02063492e-03,\n",
       "        5.00225885e-03, 4.06578947e-03, 4.04177109e-03, 1.53846154e-04,\n",
       "        0.00000000e+00]))"
      ]
     },
     "execution_count": 181,
     "metadata": {},
     "output_type": "execute_result"
    }
   ],
   "source": [
    "roc_curve(y_fold, pred_fold)"
   ]
  },
  {
   "cell_type": "code",
   "execution_count": null,
   "id": "28216346-264a-4389-b442-358c1bbe7342",
   "metadata": {},
   "outputs": [],
   "source": []
  }
 ],
 "metadata": {
  "kernelspec": {
   "display_name": "Python 3 (ipykernel)",
   "language": "python",
   "name": "python3"
  },
  "language_info": {
   "codemirror_mode": {
    "name": "ipython",
    "version": 3
   },
   "file_extension": ".py",
   "mimetype": "text/x-python",
   "name": "python",
   "nbconvert_exporter": "python",
   "pygments_lexer": "ipython3",
   "version": "3.11.4"
  },
  "toc-autonumbering": true,
  "toc-showcode": false,
  "toc-showmarkdowntxt": false
 },
 "nbformat": 4,
 "nbformat_minor": 5
}
