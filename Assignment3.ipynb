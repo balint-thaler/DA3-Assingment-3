{
 "cells": [
  {
   "cell_type": "code",
   "execution_count": 1,
   "id": "a039ad0c-c4d7-49a3-a4ed-2899ead6a08e",
   "metadata": {
    "tags": []
   },
   "outputs": [],
   "source": [
    "import pandas as pd\n",
    "import numpy as np\n",
    "import patsy\n",
    "import statsmodels.api as sm\n",
    "from sklearn.linear_model import LinearRegression, LogisticRegression, LogisticRegressionCV\n",
    "from sklearn.model_selection import train_test_split, GridSearchCV, KFold\n",
    "import sklearn.metrics as metrics\n",
    "from sklearn.metrics import brier_score_loss, roc_curve, auc, confusion_matrix, roc_auc_score, mean_squared_error\n",
    "from sklearn.ensemble import RandomForestClassifier\n",
    "from plotnine import *\n",
    "import matplotlib.pyplot as plt\n",
    "from sklearn.model_selection import train_test_split\n",
    "from sklearn.preprocessing import StandardScaler\n",
    "\n",
    "import warnings\n",
    "warnings.filterwarnings('ignore')"
   ]
  },
  {
   "cell_type": "markdown",
   "id": "0f17cbec-0718-4609-b6bb-bdc59a0a2b48",
   "metadata": {},
   "source": [
    "# Data loading, feature engineering"
   ]
  },
  {
   "cell_type": "code",
   "execution_count": 2,
   "id": "7b931a8b-6c84-4447-baab-fc5e19d64684",
   "metadata": {
    "tags": []
   },
   "outputs": [],
   "source": [
    "raw_data = pd.read_csv(\"https://osf.io/download/3qyut/\")"
   ]
  },
  {
   "cell_type": "code",
   "execution_count": 3,
   "id": "80d3f65f-9515-4b57-8b43-70c144986614",
   "metadata": {
    "tags": []
   },
   "outputs": [
    {
     "data": {
      "text/html": [
       "<div>\n",
       "<style scoped>\n",
       "    .dataframe tbody tr th:only-of-type {\n",
       "        vertical-align: middle;\n",
       "    }\n",
       "\n",
       "    .dataframe tbody tr th {\n",
       "        vertical-align: top;\n",
       "    }\n",
       "\n",
       "    .dataframe thead th {\n",
       "        text-align: right;\n",
       "    }\n",
       "</style>\n",
       "<table border=\"1\" class=\"dataframe\">\n",
       "  <thead>\n",
       "    <tr style=\"text-align: right;\">\n",
       "      <th></th>\n",
       "      <th>comp_id</th>\n",
       "      <th>begin</th>\n",
       "      <th>end</th>\n",
       "      <th>COGS</th>\n",
       "      <th>amort</th>\n",
       "      <th>curr_assets</th>\n",
       "      <th>curr_liab</th>\n",
       "      <th>extra_exp</th>\n",
       "      <th>extra_inc</th>\n",
       "      <th>extra_profit_loss</th>\n",
       "      <th>...</th>\n",
       "      <th>gender</th>\n",
       "      <th>origin</th>\n",
       "      <th>nace_main</th>\n",
       "      <th>ind2</th>\n",
       "      <th>ind</th>\n",
       "      <th>urban_m</th>\n",
       "      <th>region_m</th>\n",
       "      <th>founded_date</th>\n",
       "      <th>exit_date</th>\n",
       "      <th>labor_avg</th>\n",
       "    </tr>\n",
       "  </thead>\n",
       "  <tbody>\n",
       "    <tr>\n",
       "      <th>0</th>\n",
       "      <td>1001034.0</td>\n",
       "      <td>2005-01-01</td>\n",
       "      <td>2005-12-31</td>\n",
       "      <td>NaN</td>\n",
       "      <td>692.592590</td>\n",
       "      <td>7266.666504</td>\n",
       "      <td>7574.074219</td>\n",
       "      <td>0.0</td>\n",
       "      <td>0.0</td>\n",
       "      <td>0.0</td>\n",
       "      <td>...</td>\n",
       "      <td>mix</td>\n",
       "      <td>Domestic</td>\n",
       "      <td>5630.0</td>\n",
       "      <td>56.0</td>\n",
       "      <td>3.0</td>\n",
       "      <td>1</td>\n",
       "      <td>Central</td>\n",
       "      <td>1990-11-19</td>\n",
       "      <td>NaN</td>\n",
       "      <td>NaN</td>\n",
       "    </tr>\n",
       "    <tr>\n",
       "      <th>1</th>\n",
       "      <td>1001034.0</td>\n",
       "      <td>2006-01-01</td>\n",
       "      <td>2006-12-31</td>\n",
       "      <td>NaN</td>\n",
       "      <td>603.703674</td>\n",
       "      <td>13122.222656</td>\n",
       "      <td>12211.111328</td>\n",
       "      <td>0.0</td>\n",
       "      <td>0.0</td>\n",
       "      <td>0.0</td>\n",
       "      <td>...</td>\n",
       "      <td>mix</td>\n",
       "      <td>Domestic</td>\n",
       "      <td>5630.0</td>\n",
       "      <td>56.0</td>\n",
       "      <td>3.0</td>\n",
       "      <td>1</td>\n",
       "      <td>Central</td>\n",
       "      <td>1990-11-19</td>\n",
       "      <td>NaN</td>\n",
       "      <td>NaN</td>\n",
       "    </tr>\n",
       "    <tr>\n",
       "      <th>2</th>\n",
       "      <td>1001034.0</td>\n",
       "      <td>2007-01-01</td>\n",
       "      <td>2007-12-31</td>\n",
       "      <td>NaN</td>\n",
       "      <td>425.925934</td>\n",
       "      <td>8196.295898</td>\n",
       "      <td>7800.000000</td>\n",
       "      <td>0.0</td>\n",
       "      <td>0.0</td>\n",
       "      <td>0.0</td>\n",
       "      <td>...</td>\n",
       "      <td>mix</td>\n",
       "      <td>Domestic</td>\n",
       "      <td>5630.0</td>\n",
       "      <td>56.0</td>\n",
       "      <td>3.0</td>\n",
       "      <td>1</td>\n",
       "      <td>Central</td>\n",
       "      <td>1990-11-19</td>\n",
       "      <td>NaN</td>\n",
       "      <td>NaN</td>\n",
       "    </tr>\n",
       "    <tr>\n",
       "      <th>3</th>\n",
       "      <td>1001034.0</td>\n",
       "      <td>2008-01-01</td>\n",
       "      <td>2008-12-31</td>\n",
       "      <td>NaN</td>\n",
       "      <td>300.000000</td>\n",
       "      <td>8485.185547</td>\n",
       "      <td>7781.481445</td>\n",
       "      <td>0.0</td>\n",
       "      <td>0.0</td>\n",
       "      <td>0.0</td>\n",
       "      <td>...</td>\n",
       "      <td>mix</td>\n",
       "      <td>Domestic</td>\n",
       "      <td>5630.0</td>\n",
       "      <td>56.0</td>\n",
       "      <td>3.0</td>\n",
       "      <td>1</td>\n",
       "      <td>Central</td>\n",
       "      <td>1990-11-19</td>\n",
       "      <td>NaN</td>\n",
       "      <td>NaN</td>\n",
       "    </tr>\n",
       "    <tr>\n",
       "      <th>4</th>\n",
       "      <td>1001034.0</td>\n",
       "      <td>2009-01-01</td>\n",
       "      <td>2009-12-31</td>\n",
       "      <td>NaN</td>\n",
       "      <td>207.407410</td>\n",
       "      <td>5137.037109</td>\n",
       "      <td>15300.000000</td>\n",
       "      <td>0.0</td>\n",
       "      <td>0.0</td>\n",
       "      <td>0.0</td>\n",
       "      <td>...</td>\n",
       "      <td>mix</td>\n",
       "      <td>Domestic</td>\n",
       "      <td>5630.0</td>\n",
       "      <td>56.0</td>\n",
       "      <td>3.0</td>\n",
       "      <td>1</td>\n",
       "      <td>Central</td>\n",
       "      <td>1990-11-19</td>\n",
       "      <td>NaN</td>\n",
       "      <td>0.083333</td>\n",
       "    </tr>\n",
       "  </tbody>\n",
       "</table>\n",
       "<p>5 rows × 48 columns</p>\n",
       "</div>"
      ],
      "text/plain": [
       "     comp_id       begin         end  COGS       amort   curr_assets  \\\n",
       "0  1001034.0  2005-01-01  2005-12-31   NaN  692.592590   7266.666504   \n",
       "1  1001034.0  2006-01-01  2006-12-31   NaN  603.703674  13122.222656   \n",
       "2  1001034.0  2007-01-01  2007-12-31   NaN  425.925934   8196.295898   \n",
       "3  1001034.0  2008-01-01  2008-12-31   NaN  300.000000   8485.185547   \n",
       "4  1001034.0  2009-01-01  2009-12-31   NaN  207.407410   5137.037109   \n",
       "\n",
       "      curr_liab  extra_exp  extra_inc  extra_profit_loss  ...  gender  \\\n",
       "0   7574.074219        0.0        0.0                0.0  ...     mix   \n",
       "1  12211.111328        0.0        0.0                0.0  ...     mix   \n",
       "2   7800.000000        0.0        0.0                0.0  ...     mix   \n",
       "3   7781.481445        0.0        0.0                0.0  ...     mix   \n",
       "4  15300.000000        0.0        0.0                0.0  ...     mix   \n",
       "\n",
       "     origin  nace_main  ind2  ind  urban_m  region_m  founded_date  exit_date  \\\n",
       "0  Domestic     5630.0  56.0  3.0        1   Central    1990-11-19        NaN   \n",
       "1  Domestic     5630.0  56.0  3.0        1   Central    1990-11-19        NaN   \n",
       "2  Domestic     5630.0  56.0  3.0        1   Central    1990-11-19        NaN   \n",
       "3  Domestic     5630.0  56.0  3.0        1   Central    1990-11-19        NaN   \n",
       "4  Domestic     5630.0  56.0  3.0        1   Central    1990-11-19        NaN   \n",
       "\n",
       "   labor_avg  \n",
       "0        NaN  \n",
       "1        NaN  \n",
       "2        NaN  \n",
       "3        NaN  \n",
       "4   0.083333  \n",
       "\n",
       "[5 rows x 48 columns]"
      ]
     },
     "execution_count": 3,
     "metadata": {},
     "output_type": "execute_result"
    }
   ],
   "source": [
    "raw_data.head()"
   ]
  },
  {
   "cell_type": "code",
   "execution_count": 4,
   "id": "dd0f0a48-c9f9-4a03-b3d5-1a0fb9ecdbc4",
   "metadata": {
    "tags": []
   },
   "outputs": [
    {
     "name": "stdout",
     "output_type": "stream",
     "text": [
      "<class 'pandas.core.frame.DataFrame'>\n",
      "RangeIndex: 287829 entries, 0 to 287828\n",
      "Data columns (total 48 columns):\n",
      " #   Column                Non-Null Count   Dtype  \n",
      "---  ------                --------------   -----  \n",
      " 0   comp_id               287829 non-null  float64\n",
      " 1   begin                 287829 non-null  object \n",
      " 2   end                   287829 non-null  object \n",
      " 3   COGS                  18257 non-null   float64\n",
      " 4   amort                 279789 non-null  float64\n",
      " 5   curr_assets           287698 non-null  float64\n",
      " 6   curr_liab             287698 non-null  float64\n",
      " 7   extra_exp             269300 non-null  float64\n",
      " 8   extra_inc             269300 non-null  float64\n",
      " 9   extra_profit_loss     270626 non-null  float64\n",
      " 10  finished_prod         17485 non-null   float64\n",
      " 11  fixed_assets          287698 non-null  float64\n",
      " 12  inc_bef_tax           280392 non-null  float64\n",
      " 13  intang_assets         287689 non-null  float64\n",
      " 14  inventories           287698 non-null  float64\n",
      " 15  liq_assets            287698 non-null  float64\n",
      " 16  material_exp          279789 non-null  float64\n",
      " 17  net_dom_sales         18257 non-null   float64\n",
      " 18  net_exp_sales         18257 non-null   float64\n",
      " 19  personnel_exp         279789 non-null  float64\n",
      " 20  profit_loss_year      277945 non-null  float64\n",
      " 21  sales                 280392 non-null  float64\n",
      " 22  share_eq              287698 non-null  float64\n",
      " 23  subscribed_cap        287698 non-null  float64\n",
      " 24  tang_assets           286359 non-null  float64\n",
      " 25  wages                 17983 non-null   float64\n",
      " 26  D                     0 non-null       float64\n",
      " 27  balsheet_flag         287829 non-null  int64  \n",
      " 28  balsheet_length       287829 non-null  int64  \n",
      " 29  balsheet_notfullyear  287829 non-null  int64  \n",
      " 30  year                  287829 non-null  int64  \n",
      " 31  founded_year          231372 non-null  float64\n",
      " 32  exit_year             38859 non-null   float64\n",
      " 33  ceo_count             231402 non-null  float64\n",
      " 34  foreign               231402 non-null  float64\n",
      " 35  female                231402 non-null  float64\n",
      " 36  birth_year            176011 non-null  float64\n",
      " 37  inoffice_days         231402 non-null  float64\n",
      " 38  gender                231402 non-null  object \n",
      " 39  origin                231402 non-null  object \n",
      " 40  nace_main             286791 non-null  float64\n",
      " 41  ind2                  286791 non-null  float64\n",
      " 42  ind                   278060 non-null  float64\n",
      " 43  urban_m               287829 non-null  int64  \n",
      " 44  region_m              286989 non-null  object \n",
      " 45  founded_date          287778 non-null  object \n",
      " 46  exit_date             56180 non-null   object \n",
      " 47  labor_avg             141297 non-null  float64\n",
      "dtypes: float64(36), int64(5), object(7)\n",
      "memory usage: 105.4+ MB\n"
     ]
    }
   ],
   "source": [
    "raw_data.info()"
   ]
  },
  {
   "cell_type": "code",
   "execution_count": 5,
   "id": "52d66658-5717-457c-bfbf-7489dbd45374",
   "metadata": {},
   "outputs": [],
   "source": [
    "# dropping columns with many missing variables (COGS, finished_prod, net_dom_sales, net_exp_sales, wages, D, exit_year, exit_data)\n",
    "\n",
    "raw_data = raw_data.drop(columns = ['COGS', 'finished_prod', 'net_dom_sales', 'net_exp_sales', 'wages', 'D', 'exit_year', 'exit_date'])"
   ]
  },
  {
   "cell_type": "code",
   "execution_count": 6,
   "id": "5a5e2133-1089-44ed-a233-00fed27761ee",
   "metadata": {},
   "outputs": [],
   "source": [
    "# adding age of firms\n",
    "\n",
    "raw_data[\"age\"] = np.where(\n",
    "    raw_data[\"year\"] - raw_data[\"founded_year\"] < 0, 0, raw_data[\"year\"] - raw_data[\"founded_year\"])"
   ]
  },
  {
   "cell_type": "code",
   "execution_count": 7,
   "id": "eafb52ed-bbb0-4d11-bd05-7ef88683109b",
   "metadata": {
    "tags": []
   },
   "outputs": [],
   "source": [
    "# add all missing year and comp_id combinations -\n",
    "# originally missing combinations will have NAs in all other columns\n",
    "raw_data = (\n",
    "    raw_data.set_index([\"year\", \"comp_id\"])\n",
    "    .unstack(fill_value=\"toReplace\")\n",
    "    .stack()\n",
    "    .reset_index()\n",
    ")\n",
    "raw_data = raw_data.replace(\"toReplace\", np.nan)"
   ]
  },
  {
   "cell_type": "code",
   "execution_count": 8,
   "id": "e8bc09c4-2d72-49cb-826e-c33ff13ac494",
   "metadata": {
    "tags": []
   },
   "outputs": [],
   "source": [
    "# generate status_alive; if sales larger than zero and not-NA, then firm is alive\n",
    "raw_data[\"status_alive\"] = (raw_data[\"sales\"] > 0 & (False == raw_data[\"sales\"].isna())).astype(int)"
   ]
  },
  {
   "cell_type": "code",
   "execution_count": 9,
   "id": "6e1a63dc-3939-4502-984d-a09af25565a4",
   "metadata": {
    "tags": []
   },
   "outputs": [],
   "source": [
    "# defaults in 1 year if there are sales in this year but no sales one year later\n",
    "\n",
    "raw_data[\"default\"] = (\n",
    "    (raw_data[\"status_alive\"] == 1)\n",
    "    & (raw_data.groupby(\"comp_id\")[\"status_alive\"].shift(-1) == 0)\n",
    ").astype(int)"
   ]
  },
  {
   "cell_type": "code",
   "execution_count": 10,
   "id": "dcf941b7-5e4b-4422-9457-79415156def9",
   "metadata": {
    "tags": []
   },
   "outputs": [
    {
     "name": "stdout",
     "output_type": "stream",
     "text": [
      "<class 'pandas.core.frame.DataFrame'>\n",
      "RangeIndex: 556944 entries, 0 to 556943\n",
      "Data columns (total 43 columns):\n",
      " #   Column                Non-Null Count   Dtype  \n",
      "---  ------                --------------   -----  \n",
      " 0   year                  556944 non-null  int64  \n",
      " 1   comp_id               556944 non-null  float64\n",
      " 2   begin                 287829 non-null  object \n",
      " 3   end                   287829 non-null  object \n",
      " 4   amort                 279789 non-null  float64\n",
      " 5   curr_assets           287698 non-null  float64\n",
      " 6   curr_liab             287698 non-null  float64\n",
      " 7   extra_exp             269300 non-null  float64\n",
      " 8   extra_inc             269300 non-null  float64\n",
      " 9   extra_profit_loss     270626 non-null  float64\n",
      " 10  fixed_assets          287698 non-null  float64\n",
      " 11  inc_bef_tax           280392 non-null  float64\n",
      " 12  intang_assets         287689 non-null  float64\n",
      " 13  inventories           287698 non-null  float64\n",
      " 14  liq_assets            287698 non-null  float64\n",
      " 15  material_exp          279789 non-null  float64\n",
      " 16  personnel_exp         279789 non-null  float64\n",
      " 17  profit_loss_year      277945 non-null  float64\n",
      " 18  sales                 280392 non-null  float64\n",
      " 19  share_eq              287698 non-null  float64\n",
      " 20  subscribed_cap        287698 non-null  float64\n",
      " 21  tang_assets           286359 non-null  float64\n",
      " 22  balsheet_flag         287829 non-null  float64\n",
      " 23  balsheet_length       287829 non-null  float64\n",
      " 24  balsheet_notfullyear  287829 non-null  float64\n",
      " 25  founded_year          231372 non-null  float64\n",
      " 26  ceo_count             231402 non-null  float64\n",
      " 27  foreign               231402 non-null  float64\n",
      " 28  female                231402 non-null  float64\n",
      " 29  birth_year            176011 non-null  float64\n",
      " 30  inoffice_days         231402 non-null  float64\n",
      " 31  gender                231402 non-null  object \n",
      " 32  origin                231402 non-null  object \n",
      " 33  nace_main             286791 non-null  float64\n",
      " 34  ind2                  286791 non-null  float64\n",
      " 35  ind                   278060 non-null  float64\n",
      " 36  urban_m               287829 non-null  float64\n",
      " 37  region_m              286989 non-null  object \n",
      " 38  founded_date          287778 non-null  object \n",
      " 39  labor_avg             141297 non-null  float64\n",
      " 40  age                   231372 non-null  float64\n",
      " 41  status_alive          556944 non-null  int32  \n",
      " 42  default               556944 non-null  int32  \n",
      "dtypes: float64(34), int32(2), int64(1), object(6)\n",
      "memory usage: 178.5+ MB\n"
     ]
    }
   ],
   "source": [
    "raw_data.info()"
   ]
  },
  {
   "cell_type": "code",
   "execution_count": 11,
   "id": "9dc1f17d-91d6-4389-8cb8-773ee8c784f9",
   "metadata": {
    "tags": []
   },
   "outputs": [
    {
     "data": {
      "text/plain": [
       "flag_asset_problem\n",
       "0.0    287466\n",
       "1.0       223\n",
       "Name: comp_id, dtype: int64"
      ]
     },
     "execution_count": 11,
     "metadata": {},
     "output_type": "execute_result"
    }
   ],
   "source": [
    "# assets can't be negative. Change them to 0 and add a flag.\n",
    "raw_data[\"flag_asset_problem\"] = np.where(\n",
    "    (\n",
    "        (raw_data[\"intang_assets\"] < 0)\n",
    "        | (raw_data[\"curr_assets\"] < 0)\n",
    "        | (raw_data[\"fixed_assets\"] < 0)\n",
    "    ),\n",
    "    1,\n",
    "    0,\n",
    ")\n",
    "raw_data[\"flag_asset_problem\"] = np.where(\n",
    "    (\n",
    "        (raw_data[\"intang_assets\"].isna())\n",
    "        | (raw_data[\"curr_assets\"].isna())\n",
    "        | (raw_data[\"fixed_assets\"].isna())\n",
    "    ),\n",
    "    np.nan,\n",
    "    raw_data[\"flag_asset_problem\"],\n",
    ")\n",
    "raw_data.groupby(\"flag_asset_problem\").count()[\"comp_id\"]"
   ]
  },
  {
   "cell_type": "code",
   "execution_count": 12,
   "id": "dbfd9d33-6ccd-4cc2-959d-5b57aba8f192",
   "metadata": {
    "tags": []
   },
   "outputs": [],
   "source": [
    "# impute with 0 for asset problems\n",
    "\n",
    "raw_data[\"intang_assets\"] = np.where(raw_data[\"intang_assets\"] < 0, 0, raw_data[\"intang_assets\"])\n",
    "raw_data[\"curr_assets\"] = np.where(raw_data[\"curr_assets\"] < 0, 0, raw_data[\"curr_assets\"])\n",
    "raw_data[\"fixed_assets\"] = np.where(raw_data[\"fixed_assets\"] < 0, 0, raw_data[\"fixed_assets\"])"
   ]
  },
  {
   "cell_type": "code",
   "execution_count": 13,
   "id": "9e9bc607-7bf5-499d-8788-1317c920cf1a",
   "metadata": {
    "tags": []
   },
   "outputs": [
    {
     "data": {
      "text/plain": [
       "count    2.876890e+05\n",
       "mean     5.980575e+05\n",
       "std      2.623770e+07\n",
       "min      0.000000e+00\n",
       "25%      4.792593e+03\n",
       "50%      2.024815e+04\n",
       "75%      8.810740e+04\n",
       "max      1.032471e+10\n",
       "Name: total_assets_bs, dtype: float64"
      ]
     },
     "execution_count": 13,
     "metadata": {},
     "output_type": "execute_result"
    }
   ],
   "source": [
    "# generate total assets\n",
    "raw_data[\"total_assets_bs\"] = (\n",
    "    raw_data[\"intang_assets\"] + raw_data[\"curr_assets\"] + raw_data[\"fixed_assets\"]\n",
    ")\n",
    "round(raw_data[\"total_assets_bs\"].describe(), 3)"
   ]
  },
  {
   "cell_type": "code",
   "execution_count": 14,
   "id": "138788a2-004c-4986-86ce-b30bbe40f66c",
   "metadata": {
    "tags": []
   },
   "outputs": [],
   "source": [
    "# define P&L and Balance sheet column names\n",
    "\n",
    "pl_names = ['extra_exp','extra_inc',  'extra_profit_loss', 'inc_bef_tax' ,'inventories',\n",
    "              'material_exp', 'profit_loss_year', 'personnel_exp']\n",
    "bs_names = ['intang_assets', 'curr_liab', 'fixed_assets', 'liq_assets', 'curr_assets',\n",
    "              'share_eq', 'subscribed_cap', 'tang_assets' ]"
   ]
  },
  {
   "cell_type": "code",
   "execution_count": 15,
   "id": "e04ad263-f011-4672-87d4-dc835cea1915",
   "metadata": {
    "tags": []
   },
   "outputs": [],
   "source": [
    "# divide all pl_names elements by sales and create new column for it\n",
    "raw_data[[col + \"_pl\" for col in pl_names]] = raw_data[pl_names].div(\n",
    "    raw_data[\"sales\"], axis=\"index\"\n",
    ")"
   ]
  },
  {
   "cell_type": "code",
   "execution_count": 16,
   "id": "50e666cc-078c-4df4-89d0-2166228d49a6",
   "metadata": {
    "tags": []
   },
   "outputs": [],
   "source": [
    "# divide all bs_names elements by total_assets_bs and create new column for it\n",
    "raw_data[[col + \"_bs\" for col in bs_names]] = (\n",
    "    raw_data[bs_names]\n",
    "    .div(raw_data[\"total_assets_bs\"], axis=\"index\")\n",
    "    .replace((np.inf, -np.inf, np.nan), (0, 0, 0))\n",
    ")"
   ]
  },
  {
   "cell_type": "code",
   "execution_count": 17,
   "id": "216029a6-6fbf-4f3e-8925-9c3c6f34b3af",
   "metadata": {
    "tags": []
   },
   "outputs": [],
   "source": [
    "# imputing labor_avg and birth_year, adding flag and dropping original column - these have the highest number of missing values. \n",
    "\n",
    "raw_data[\"labor_avg_mod\"] = np.where(\n",
    "    raw_data[\"labor_avg\"].isna(), raw_data[\"labor_avg\"].mean(), raw_data[\"labor_avg\"]\n",
    ")\n",
    "raw_data[\"flag_miss_labor_avg\"] = (raw_data[\"labor_avg\"].isna()).astype(int)\n",
    "raw_data = raw_data.drop(['labor_avg'], axis=1)\n",
    "\n",
    "raw_data[\"birth_year_mod\"] = np.where(\n",
    "    raw_data[\"birth_year\"].isna(), raw_data[\"birth_year\"].mean(), raw_data[\"birth_year\"]\n",
    ")\n",
    "raw_data[\"flag_miss_birth_year\"] = (raw_data[\"birth_year\"].isna()).astype(int)\n",
    "raw_data = raw_data.drop(['birth_year'], axis=1)"
   ]
  },
  {
   "cell_type": "code",
   "execution_count": 18,
   "id": "29f6a6f2-3a93-4bf9-af8e-0e05da5a1025",
   "metadata": {
    "tags": []
   },
   "outputs": [],
   "source": [
    "# convert to categorical where relevant\n",
    "\n",
    "cat_vars = [\"gender\", \"origin\", \"ind2\", \"ind\", \"urban_m\", \"region_m\", \"nace_main\"]\n",
    "\n",
    "for col in cat_vars:\n",
    "    raw_data[col] = raw_data[col].astype(\"category\")"
   ]
  },
  {
   "cell_type": "code",
   "execution_count": 19,
   "id": "72b47937-cf67-4441-9acf-459ef3019211",
   "metadata": {
    "tags": []
   },
   "outputs": [
    {
     "name": "stdout",
     "output_type": "stream",
     "text": [
      "<class 'pandas.core.frame.DataFrame'>\n",
      "RangeIndex: 556944 entries, 0 to 556943\n",
      "Data columns (total 63 columns):\n",
      " #   Column                Non-Null Count   Dtype   \n",
      "---  ------                --------------   -----   \n",
      " 0   year                  556944 non-null  int64   \n",
      " 1   comp_id               556944 non-null  float64 \n",
      " 2   begin                 287829 non-null  object  \n",
      " 3   end                   287829 non-null  object  \n",
      " 4   amort                 279789 non-null  float64 \n",
      " 5   curr_assets           287698 non-null  float64 \n",
      " 6   curr_liab             287698 non-null  float64 \n",
      " 7   extra_exp             269300 non-null  float64 \n",
      " 8   extra_inc             269300 non-null  float64 \n",
      " 9   extra_profit_loss     270626 non-null  float64 \n",
      " 10  fixed_assets          287698 non-null  float64 \n",
      " 11  inc_bef_tax           280392 non-null  float64 \n",
      " 12  intang_assets         287689 non-null  float64 \n",
      " 13  inventories           287698 non-null  float64 \n",
      " 14  liq_assets            287698 non-null  float64 \n",
      " 15  material_exp          279789 non-null  float64 \n",
      " 16  personnel_exp         279789 non-null  float64 \n",
      " 17  profit_loss_year      277945 non-null  float64 \n",
      " 18  sales                 280392 non-null  float64 \n",
      " 19  share_eq              287698 non-null  float64 \n",
      " 20  subscribed_cap        287698 non-null  float64 \n",
      " 21  tang_assets           286359 non-null  float64 \n",
      " 22  balsheet_flag         287829 non-null  float64 \n",
      " 23  balsheet_length       287829 non-null  float64 \n",
      " 24  balsheet_notfullyear  287829 non-null  float64 \n",
      " 25  founded_year          231372 non-null  float64 \n",
      " 26  ceo_count             231402 non-null  float64 \n",
      " 27  foreign               231402 non-null  float64 \n",
      " 28  female                231402 non-null  float64 \n",
      " 29  inoffice_days         231402 non-null  float64 \n",
      " 30  gender                231402 non-null  category\n",
      " 31  origin                231402 non-null  category\n",
      " 32  nace_main             286791 non-null  category\n",
      " 33  ind2                  286791 non-null  category\n",
      " 34  ind                   278060 non-null  category\n",
      " 35  urban_m               287829 non-null  category\n",
      " 36  region_m              286989 non-null  category\n",
      " 37  founded_date          287778 non-null  object  \n",
      " 38  age                   231372 non-null  float64 \n",
      " 39  status_alive          556944 non-null  int32   \n",
      " 40  default               556944 non-null  int32   \n",
      " 41  flag_asset_problem    287689 non-null  float64 \n",
      " 42  total_assets_bs       287689 non-null  float64 \n",
      " 43  extra_exp_pl          228655 non-null  float64 \n",
      " 44  extra_inc_pl          229522 non-null  float64 \n",
      " 45  extra_profit_loss_pl  231092 non-null  float64 \n",
      " 46  inc_bef_tax_pl        275302 non-null  float64 \n",
      " 47  inventories_pl        242255 non-null  float64 \n",
      " 48  material_exp_pl       269096 non-null  float64 \n",
      " 49  profit_loss_year_pl   265317 non-null  float64 \n",
      " 50  personnel_exp_pl      246968 non-null  float64 \n",
      " 51  intang_assets_bs      556944 non-null  float64 \n",
      " 52  curr_liab_bs          556944 non-null  float64 \n",
      " 53  fixed_assets_bs       556944 non-null  float64 \n",
      " 54  liq_assets_bs         556944 non-null  float64 \n",
      " 55  curr_assets_bs        556944 non-null  float64 \n",
      " 56  share_eq_bs           556944 non-null  float64 \n",
      " 57  subscribed_cap_bs     556944 non-null  float64 \n",
      " 58  tang_assets_bs        556944 non-null  float64 \n",
      " 59  labor_avg_mod         556944 non-null  float64 \n",
      " 60  flag_miss_labor_avg   556944 non-null  int32   \n",
      " 61  birth_year_mod        556944 non-null  float64 \n",
      " 62  flag_miss_birth_year  556944 non-null  int32   \n",
      "dtypes: category(7), float64(48), int32(4), int64(1), object(3)\n",
      "memory usage: 233.7+ MB\n"
     ]
    }
   ],
   "source": [
    "raw_data.info()"
   ]
  },
  {
   "cell_type": "code",
   "execution_count": 20,
   "id": "fbf7b316-77f1-40ff-b7a1-af3198d0aa0d",
   "metadata": {
    "tags": []
   },
   "outputs": [
    {
     "data": {
      "text/html": [
       "<div>\n",
       "<style scoped>\n",
       "    .dataframe tbody tr th:only-of-type {\n",
       "        vertical-align: middle;\n",
       "    }\n",
       "\n",
       "    .dataframe tbody tr th {\n",
       "        vertical-align: top;\n",
       "    }\n",
       "\n",
       "    .dataframe thead th {\n",
       "        text-align: right;\n",
       "    }\n",
       "</style>\n",
       "<table border=\"1\" class=\"dataframe\">\n",
       "  <thead>\n",
       "    <tr style=\"text-align: right;\">\n",
       "      <th></th>\n",
       "      <th>year</th>\n",
       "      <th>comp_id</th>\n",
       "      <th>begin</th>\n",
       "      <th>end</th>\n",
       "      <th>amort</th>\n",
       "      <th>curr_assets</th>\n",
       "      <th>curr_liab</th>\n",
       "      <th>extra_exp</th>\n",
       "      <th>extra_inc</th>\n",
       "      <th>extra_profit_loss</th>\n",
       "      <th>...</th>\n",
       "      <th>fixed_assets_bs</th>\n",
       "      <th>liq_assets_bs</th>\n",
       "      <th>curr_assets_bs</th>\n",
       "      <th>share_eq_bs</th>\n",
       "      <th>subscribed_cap_bs</th>\n",
       "      <th>tang_assets_bs</th>\n",
       "      <th>labor_avg_mod</th>\n",
       "      <th>flag_miss_labor_avg</th>\n",
       "      <th>birth_year_mod</th>\n",
       "      <th>flag_miss_birth_year</th>\n",
       "    </tr>\n",
       "  </thead>\n",
       "  <tbody>\n",
       "    <tr>\n",
       "      <th>156</th>\n",
       "      <td>2005</td>\n",
       "      <td>6.538183e+06</td>\n",
       "      <td>2005-01-01</td>\n",
       "      <td>2005-12-31</td>\n",
       "      <td>792.592590</td>\n",
       "      <td>6237.037109</td>\n",
       "      <td>348.148163</td>\n",
       "      <td>0.000000</td>\n",
       "      <td>0.000000</td>\n",
       "      <td>0.000000</td>\n",
       "      <td>...</td>\n",
       "      <td>0.214552</td>\n",
       "      <td>0.689366</td>\n",
       "      <td>0.785448</td>\n",
       "      <td>0.946828</td>\n",
       "      <td>0.006996</td>\n",
       "      <td>0.214552</td>\n",
       "      <td>1.009435</td>\n",
       "      <td>1</td>\n",
       "      <td>1964.902661</td>\n",
       "      <td>1</td>\n",
       "    </tr>\n",
       "    <tr>\n",
       "      <th>162</th>\n",
       "      <td>2005</td>\n",
       "      <td>6.934257e+06</td>\n",
       "      <td>2005-05-13</td>\n",
       "      <td>2005-12-31</td>\n",
       "      <td>803.703674</td>\n",
       "      <td>4648.147949</td>\n",
       "      <td>9311.111328</td>\n",
       "      <td>0.000000</td>\n",
       "      <td>0.000000</td>\n",
       "      <td>0.000000</td>\n",
       "      <td>...</td>\n",
       "      <td>0.718736</td>\n",
       "      <td>0.147692</td>\n",
       "      <td>0.281264</td>\n",
       "      <td>0.034738</td>\n",
       "      <td>0.672344</td>\n",
       "      <td>0.718736</td>\n",
       "      <td>1.009435</td>\n",
       "      <td>1</td>\n",
       "      <td>1964.902661</td>\n",
       "      <td>1</td>\n",
       "    </tr>\n",
       "    <tr>\n",
       "      <th>182</th>\n",
       "      <td>2005</td>\n",
       "      <td>8.416055e+06</td>\n",
       "      <td>2005-01-01</td>\n",
       "      <td>2005-12-31</td>\n",
       "      <td>3155.555664</td>\n",
       "      <td>71070.367188</td>\n",
       "      <td>25514.814453</td>\n",
       "      <td>74.074074</td>\n",
       "      <td>0.000000</td>\n",
       "      <td>-74.074074</td>\n",
       "      <td>...</td>\n",
       "      <td>0.151399</td>\n",
       "      <td>0.747625</td>\n",
       "      <td>0.847983</td>\n",
       "      <td>0.701843</td>\n",
       "      <td>0.132573</td>\n",
       "      <td>0.150780</td>\n",
       "      <td>1.009435</td>\n",
       "      <td>1</td>\n",
       "      <td>1960.000000</td>\n",
       "      <td>0</td>\n",
       "    </tr>\n",
       "    <tr>\n",
       "      <th>234</th>\n",
       "      <td>2005</td>\n",
       "      <td>1.242838e+07</td>\n",
       "      <td>2005-01-01</td>\n",
       "      <td>2005-12-31</td>\n",
       "      <td>3137.037109</td>\n",
       "      <td>1740.740723</td>\n",
       "      <td>2192.592529</td>\n",
       "      <td>0.000000</td>\n",
       "      <td>0.000000</td>\n",
       "      <td>0.000000</td>\n",
       "      <td>...</td>\n",
       "      <td>0.521212</td>\n",
       "      <td>0.450505</td>\n",
       "      <td>0.474747</td>\n",
       "      <td>0.397980</td>\n",
       "      <td>0.020202</td>\n",
       "      <td>0.517172</td>\n",
       "      <td>1.009435</td>\n",
       "      <td>1</td>\n",
       "      <td>1964.902661</td>\n",
       "      <td>1</td>\n",
       "    </tr>\n",
       "    <tr>\n",
       "      <th>261</th>\n",
       "      <td>2005</td>\n",
       "      <td>1.571155e+07</td>\n",
       "      <td>2005-01-01</td>\n",
       "      <td>2005-12-31</td>\n",
       "      <td>1592.592651</td>\n",
       "      <td>4740.740723</td>\n",
       "      <td>4970.370605</td>\n",
       "      <td>0.000000</td>\n",
       "      <td>7407.407227</td>\n",
       "      <td>7407.407227</td>\n",
       "      <td>...</td>\n",
       "      <td>0.171521</td>\n",
       "      <td>0.274434</td>\n",
       "      <td>0.828479</td>\n",
       "      <td>0.131392</td>\n",
       "      <td>1.941748</td>\n",
       "      <td>0.171521</td>\n",
       "      <td>1.009435</td>\n",
       "      <td>1</td>\n",
       "      <td>1964.902661</td>\n",
       "      <td>1</td>\n",
       "    </tr>\n",
       "    <tr>\n",
       "      <th>...</th>\n",
       "      <td>...</td>\n",
       "      <td>...</td>\n",
       "      <td>...</td>\n",
       "      <td>...</td>\n",
       "      <td>...</td>\n",
       "      <td>...</td>\n",
       "      <td>...</td>\n",
       "      <td>...</td>\n",
       "      <td>...</td>\n",
       "      <td>...</td>\n",
       "      <td>...</td>\n",
       "      <td>...</td>\n",
       "      <td>...</td>\n",
       "      <td>...</td>\n",
       "      <td>...</td>\n",
       "      <td>...</td>\n",
       "      <td>...</td>\n",
       "      <td>...</td>\n",
       "      <td>...</td>\n",
       "      <td>...</td>\n",
       "      <td>...</td>\n",
       "    </tr>\n",
       "    <tr>\n",
       "      <th>556634</th>\n",
       "      <td>2016</td>\n",
       "      <td>4.580800e+11</td>\n",
       "      <td>2016-01-01</td>\n",
       "      <td>2016-12-31</td>\n",
       "      <td>3529.629639</td>\n",
       "      <td>125537.039062</td>\n",
       "      <td>0.000000</td>\n",
       "      <td>NaN</td>\n",
       "      <td>NaN</td>\n",
       "      <td>NaN</td>\n",
       "      <td>...</td>\n",
       "      <td>0.102048</td>\n",
       "      <td>0.316502</td>\n",
       "      <td>0.897952</td>\n",
       "      <td>0.920656</td>\n",
       "      <td>0.079477</td>\n",
       "      <td>0.102048</td>\n",
       "      <td>0.166667</td>\n",
       "      <td>0</td>\n",
       "      <td>1959.000000</td>\n",
       "      <td>0</td>\n",
       "    </tr>\n",
       "    <tr>\n",
       "      <th>556683</th>\n",
       "      <td>2016</td>\n",
       "      <td>4.591262e+11</td>\n",
       "      <td>2016-01-01</td>\n",
       "      <td>2016-12-31</td>\n",
       "      <td>4011.111084</td>\n",
       "      <td>58948.148438</td>\n",
       "      <td>30874.074219</td>\n",
       "      <td>NaN</td>\n",
       "      <td>NaN</td>\n",
       "      <td>NaN</td>\n",
       "      <td>...</td>\n",
       "      <td>0.232816</td>\n",
       "      <td>0.367011</td>\n",
       "      <td>0.767184</td>\n",
       "      <td>0.630146</td>\n",
       "      <td>1.332787</td>\n",
       "      <td>0.232816</td>\n",
       "      <td>0.125000</td>\n",
       "      <td>0</td>\n",
       "      <td>1964.902661</td>\n",
       "      <td>1</td>\n",
       "    </tr>\n",
       "    <tr>\n",
       "      <th>556789</th>\n",
       "      <td>2016</td>\n",
       "      <td>4.610112e+11</td>\n",
       "      <td>2016-01-01</td>\n",
       "      <td>2016-12-31</td>\n",
       "      <td>148.148148</td>\n",
       "      <td>67448.148438</td>\n",
       "      <td>5059.259277</td>\n",
       "      <td>NaN</td>\n",
       "      <td>NaN</td>\n",
       "      <td>NaN</td>\n",
       "      <td>...</td>\n",
       "      <td>0.042802</td>\n",
       "      <td>0.441048</td>\n",
       "      <td>0.956410</td>\n",
       "      <td>0.929626</td>\n",
       "      <td>0.157555</td>\n",
       "      <td>0.042015</td>\n",
       "      <td>0.250000</td>\n",
       "      <td>0</td>\n",
       "      <td>1959.000000</td>\n",
       "      <td>0</td>\n",
       "    </tr>\n",
       "    <tr>\n",
       "      <th>556842</th>\n",
       "      <td>2016</td>\n",
       "      <td>4.620594e+11</td>\n",
       "      <td>2016-01-01</td>\n",
       "      <td>2016-12-31</td>\n",
       "      <td>559.259277</td>\n",
       "      <td>64011.109375</td>\n",
       "      <td>8662.962891</td>\n",
       "      <td>NaN</td>\n",
       "      <td>NaN</td>\n",
       "      <td>NaN</td>\n",
       "      <td>...</td>\n",
       "      <td>0.000000</td>\n",
       "      <td>0.037841</td>\n",
       "      <td>1.000000</td>\n",
       "      <td>0.866111</td>\n",
       "      <td>0.173581</td>\n",
       "      <td>0.000000</td>\n",
       "      <td>0.118056</td>\n",
       "      <td>0</td>\n",
       "      <td>1953.000000</td>\n",
       "      <td>0</td>\n",
       "    </tr>\n",
       "    <tr>\n",
       "      <th>556879</th>\n",
       "      <td>2016</td>\n",
       "      <td>4.628231e+11</td>\n",
       "      <td>2016-01-01</td>\n",
       "      <td>2016-12-31</td>\n",
       "      <td>5362.962891</td>\n",
       "      <td>59570.371094</td>\n",
       "      <td>41681.480469</td>\n",
       "      <td>NaN</td>\n",
       "      <td>NaN</td>\n",
       "      <td>NaN</td>\n",
       "      <td>...</td>\n",
       "      <td>0.231570</td>\n",
       "      <td>0.169796</td>\n",
       "      <td>0.768430</td>\n",
       "      <td>0.223448</td>\n",
       "      <td>0.023888</td>\n",
       "      <td>0.231570</td>\n",
       "      <td>0.555556</td>\n",
       "      <td>0</td>\n",
       "      <td>1984.000000</td>\n",
       "      <td>0</td>\n",
       "    </tr>\n",
       "  </tbody>\n",
       "</table>\n",
       "<p>14877 rows × 63 columns</p>\n",
       "</div>"
      ],
      "text/plain": [
       "        year       comp_id       begin         end        amort  \\\n",
       "156     2005  6.538183e+06  2005-01-01  2005-12-31   792.592590   \n",
       "162     2005  6.934257e+06  2005-05-13  2005-12-31   803.703674   \n",
       "182     2005  8.416055e+06  2005-01-01  2005-12-31  3155.555664   \n",
       "234     2005  1.242838e+07  2005-01-01  2005-12-31  3137.037109   \n",
       "261     2005  1.571155e+07  2005-01-01  2005-12-31  1592.592651   \n",
       "...      ...           ...         ...         ...          ...   \n",
       "556634  2016  4.580800e+11  2016-01-01  2016-12-31  3529.629639   \n",
       "556683  2016  4.591262e+11  2016-01-01  2016-12-31  4011.111084   \n",
       "556789  2016  4.610112e+11  2016-01-01  2016-12-31   148.148148   \n",
       "556842  2016  4.620594e+11  2016-01-01  2016-12-31   559.259277   \n",
       "556879  2016  4.628231e+11  2016-01-01  2016-12-31  5362.962891   \n",
       "\n",
       "          curr_assets     curr_liab  extra_exp    extra_inc  \\\n",
       "156       6237.037109    348.148163   0.000000     0.000000   \n",
       "162       4648.147949   9311.111328   0.000000     0.000000   \n",
       "182      71070.367188  25514.814453  74.074074     0.000000   \n",
       "234       1740.740723   2192.592529   0.000000     0.000000   \n",
       "261       4740.740723   4970.370605   0.000000  7407.407227   \n",
       "...               ...           ...        ...          ...   \n",
       "556634  125537.039062      0.000000        NaN          NaN   \n",
       "556683   58948.148438  30874.074219        NaN          NaN   \n",
       "556789   67448.148438   5059.259277        NaN          NaN   \n",
       "556842   64011.109375   8662.962891        NaN          NaN   \n",
       "556879   59570.371094  41681.480469        NaN          NaN   \n",
       "\n",
       "        extra_profit_loss  ...  fixed_assets_bs  liq_assets_bs  \\\n",
       "156              0.000000  ...         0.214552       0.689366   \n",
       "162              0.000000  ...         0.718736       0.147692   \n",
       "182            -74.074074  ...         0.151399       0.747625   \n",
       "234              0.000000  ...         0.521212       0.450505   \n",
       "261           7407.407227  ...         0.171521       0.274434   \n",
       "...                   ...  ...              ...            ...   \n",
       "556634                NaN  ...         0.102048       0.316502   \n",
       "556683                NaN  ...         0.232816       0.367011   \n",
       "556789                NaN  ...         0.042802       0.441048   \n",
       "556842                NaN  ...         0.000000       0.037841   \n",
       "556879                NaN  ...         0.231570       0.169796   \n",
       "\n",
       "        curr_assets_bs  share_eq_bs  subscribed_cap_bs  tang_assets_bs  \\\n",
       "156           0.785448     0.946828           0.006996        0.214552   \n",
       "162           0.281264     0.034738           0.672344        0.718736   \n",
       "182           0.847983     0.701843           0.132573        0.150780   \n",
       "234           0.474747     0.397980           0.020202        0.517172   \n",
       "261           0.828479     0.131392           1.941748        0.171521   \n",
       "...                ...          ...                ...             ...   \n",
       "556634        0.897952     0.920656           0.079477        0.102048   \n",
       "556683        0.767184     0.630146           1.332787        0.232816   \n",
       "556789        0.956410     0.929626           0.157555        0.042015   \n",
       "556842        1.000000     0.866111           0.173581        0.000000   \n",
       "556879        0.768430     0.223448           0.023888        0.231570   \n",
       "\n",
       "        labor_avg_mod  flag_miss_labor_avg  birth_year_mod  \\\n",
       "156          1.009435                    1     1964.902661   \n",
       "162          1.009435                    1     1964.902661   \n",
       "182          1.009435                    1     1960.000000   \n",
       "234          1.009435                    1     1964.902661   \n",
       "261          1.009435                    1     1964.902661   \n",
       "...               ...                  ...             ...   \n",
       "556634       0.166667                    0     1959.000000   \n",
       "556683       0.125000                    0     1964.902661   \n",
       "556789       0.250000                    0     1959.000000   \n",
       "556842       0.118056                    0     1953.000000   \n",
       "556879       0.555556                    0     1984.000000   \n",
       "\n",
       "        flag_miss_birth_year  \n",
       "156                        1  \n",
       "162                        1  \n",
       "182                        0  \n",
       "234                        1  \n",
       "261                        1  \n",
       "...                      ...  \n",
       "556634                     0  \n",
       "556683                     1  \n",
       "556789                     0  \n",
       "556842                     0  \n",
       "556879                     0  \n",
       "\n",
       "[14877 rows x 63 columns]"
      ]
     },
     "execution_count": 20,
     "metadata": {},
     "output_type": "execute_result"
    }
   ],
   "source": [
    "holdout_data = raw_data[raw_data[\"ind2\"] == 26]\n",
    "holdout_data"
   ]
  },
  {
   "cell_type": "code",
   "execution_count": 21,
   "id": "4158ad5b-b856-4aa0-83df-5bc464a3288a",
   "metadata": {
    "tags": []
   },
   "outputs": [
    {
     "data": {
      "text/html": [
       "<div>\n",
       "<style scoped>\n",
       "    .dataframe tbody tr th:only-of-type {\n",
       "        vertical-align: middle;\n",
       "    }\n",
       "\n",
       "    .dataframe tbody tr th {\n",
       "        vertical-align: top;\n",
       "    }\n",
       "\n",
       "    .dataframe thead th {\n",
       "        text-align: right;\n",
       "    }\n",
       "</style>\n",
       "<table border=\"1\" class=\"dataframe\">\n",
       "  <thead>\n",
       "    <tr style=\"text-align: right;\">\n",
       "      <th></th>\n",
       "      <th>year</th>\n",
       "      <th>comp_id</th>\n",
       "      <th>begin</th>\n",
       "      <th>end</th>\n",
       "      <th>amort</th>\n",
       "      <th>curr_assets</th>\n",
       "      <th>curr_liab</th>\n",
       "      <th>extra_exp</th>\n",
       "      <th>extra_inc</th>\n",
       "      <th>extra_profit_loss</th>\n",
       "      <th>...</th>\n",
       "      <th>fixed_assets_bs</th>\n",
       "      <th>liq_assets_bs</th>\n",
       "      <th>curr_assets_bs</th>\n",
       "      <th>share_eq_bs</th>\n",
       "      <th>subscribed_cap_bs</th>\n",
       "      <th>tang_assets_bs</th>\n",
       "      <th>labor_avg_mod</th>\n",
       "      <th>flag_miss_labor_avg</th>\n",
       "      <th>birth_year_mod</th>\n",
       "      <th>flag_miss_birth_year</th>\n",
       "    </tr>\n",
       "  </thead>\n",
       "  <tbody>\n",
       "    <tr>\n",
       "      <th>417864</th>\n",
       "      <td>2014</td>\n",
       "      <td>6.538183e+06</td>\n",
       "      <td>2014-01-01</td>\n",
       "      <td>2014-12-31</td>\n",
       "      <td>1018.518494</td>\n",
       "      <td>17022.222656</td>\n",
       "      <td>3040.740723</td>\n",
       "      <td>0.0</td>\n",
       "      <td>0.0</td>\n",
       "      <td>0.0</td>\n",
       "      <td>...</td>\n",
       "      <td>0.164819</td>\n",
       "      <td>0.832455</td>\n",
       "      <td>0.835181</td>\n",
       "      <td>0.850809</td>\n",
       "      <td>0.002726</td>\n",
       "      <td>0.164819</td>\n",
       "      <td>1.009435</td>\n",
       "      <td>1</td>\n",
       "      <td>1961.5</td>\n",
       "      <td>0</td>\n",
       "    </tr>\n",
       "    <tr>\n",
       "      <th>417890</th>\n",
       "      <td>2014</td>\n",
       "      <td>8.416055e+06</td>\n",
       "      <td>2014-01-01</td>\n",
       "      <td>2014-12-31</td>\n",
       "      <td>425.925934</td>\n",
       "      <td>105740.742188</td>\n",
       "      <td>6918.518555</td>\n",
       "      <td>0.0</td>\n",
       "      <td>0.0</td>\n",
       "      <td>0.0</td>\n",
       "      <td>...</td>\n",
       "      <td>0.067207</td>\n",
       "      <td>0.680041</td>\n",
       "      <td>0.932793</td>\n",
       "      <td>0.945372</td>\n",
       "      <td>0.098017</td>\n",
       "      <td>0.067207</td>\n",
       "      <td>0.083333</td>\n",
       "      <td>0</td>\n",
       "      <td>1960.0</td>\n",
       "      <td>0</td>\n",
       "    </tr>\n",
       "    <tr>\n",
       "      <th>417942</th>\n",
       "      <td>2014</td>\n",
       "      <td>1.242838e+07</td>\n",
       "      <td>2014-01-01</td>\n",
       "      <td>2014-12-31</td>\n",
       "      <td>0.000000</td>\n",
       "      <td>0.000000</td>\n",
       "      <td>9277.777344</td>\n",
       "      <td>0.0</td>\n",
       "      <td>0.0</td>\n",
       "      <td>0.0</td>\n",
       "      <td>...</td>\n",
       "      <td>0.000000</td>\n",
       "      <td>0.000000</td>\n",
       "      <td>0.000000</td>\n",
       "      <td>0.000000</td>\n",
       "      <td>0.000000</td>\n",
       "      <td>0.000000</td>\n",
       "      <td>0.083333</td>\n",
       "      <td>0</td>\n",
       "      <td>1962.0</td>\n",
       "      <td>0</td>\n",
       "    </tr>\n",
       "    <tr>\n",
       "      <th>417989</th>\n",
       "      <td>2014</td>\n",
       "      <td>1.777654e+07</td>\n",
       "      <td>2014-01-01</td>\n",
       "      <td>2014-12-31</td>\n",
       "      <td>48.148148</td>\n",
       "      <td>142296.296875</td>\n",
       "      <td>164237.031250</td>\n",
       "      <td>0.0</td>\n",
       "      <td>0.0</td>\n",
       "      <td>0.0</td>\n",
       "      <td>...</td>\n",
       "      <td>0.510834</td>\n",
       "      <td>0.007804</td>\n",
       "      <td>0.403525</td>\n",
       "      <td>0.406907</td>\n",
       "      <td>0.136539</td>\n",
       "      <td>0.425192</td>\n",
       "      <td>0.305556</td>\n",
       "      <td>0</td>\n",
       "      <td>1970.5</td>\n",
       "      <td>0</td>\n",
       "    </tr>\n",
       "    <tr>\n",
       "      <th>417994</th>\n",
       "      <td>2014</td>\n",
       "      <td>1.862676e+07</td>\n",
       "      <td>2014-01-01</td>\n",
       "      <td>2014-12-31</td>\n",
       "      <td>5755.555664</td>\n",
       "      <td>95185.187500</td>\n",
       "      <td>45766.667969</td>\n",
       "      <td>0.0</td>\n",
       "      <td>0.0</td>\n",
       "      <td>0.0</td>\n",
       "      <td>...</td>\n",
       "      <td>0.193371</td>\n",
       "      <td>0.094661</td>\n",
       "      <td>0.806629</td>\n",
       "      <td>0.611594</td>\n",
       "      <td>0.015693</td>\n",
       "      <td>0.193371</td>\n",
       "      <td>0.159091</td>\n",
       "      <td>0</td>\n",
       "      <td>1978.0</td>\n",
       "      <td>0</td>\n",
       "    </tr>\n",
       "    <tr>\n",
       "      <th>...</th>\n",
       "      <td>...</td>\n",
       "      <td>...</td>\n",
       "      <td>...</td>\n",
       "      <td>...</td>\n",
       "      <td>...</td>\n",
       "      <td>...</td>\n",
       "      <td>...</td>\n",
       "      <td>...</td>\n",
       "      <td>...</td>\n",
       "      <td>...</td>\n",
       "      <td>...</td>\n",
       "      <td>...</td>\n",
       "      <td>...</td>\n",
       "      <td>...</td>\n",
       "      <td>...</td>\n",
       "      <td>...</td>\n",
       "      <td>...</td>\n",
       "      <td>...</td>\n",
       "      <td>...</td>\n",
       "      <td>...</td>\n",
       "      <td>...</td>\n",
       "    </tr>\n",
       "    <tr>\n",
       "      <th>463875</th>\n",
       "      <td>2014</td>\n",
       "      <td>4.593723e+11</td>\n",
       "      <td>2014-01-01</td>\n",
       "      <td>2014-12-31</td>\n",
       "      <td>0.000000</td>\n",
       "      <td>40740.742188</td>\n",
       "      <td>559.259277</td>\n",
       "      <td>0.0</td>\n",
       "      <td>0.0</td>\n",
       "      <td>0.0</td>\n",
       "      <td>...</td>\n",
       "      <td>0.000000</td>\n",
       "      <td>0.943727</td>\n",
       "      <td>1.000000</td>\n",
       "      <td>0.986273</td>\n",
       "      <td>0.023000</td>\n",
       "      <td>0.000000</td>\n",
       "      <td>0.083333</td>\n",
       "      <td>0</td>\n",
       "      <td>1975.0</td>\n",
       "      <td>0</td>\n",
       "    </tr>\n",
       "    <tr>\n",
       "      <th>463965</th>\n",
       "      <td>2014</td>\n",
       "      <td>4.610112e+11</td>\n",
       "      <td>2014-01-01</td>\n",
       "      <td>2014-12-31</td>\n",
       "      <td>429.629639</td>\n",
       "      <td>58781.480469</td>\n",
       "      <td>2651.851807</td>\n",
       "      <td>0.0</td>\n",
       "      <td>0.0</td>\n",
       "      <td>0.0</td>\n",
       "      <td>...</td>\n",
       "      <td>0.055866</td>\n",
       "      <td>0.637822</td>\n",
       "      <td>0.943243</td>\n",
       "      <td>0.957387</td>\n",
       "      <td>0.178296</td>\n",
       "      <td>0.054974</td>\n",
       "      <td>0.166667</td>\n",
       "      <td>0</td>\n",
       "      <td>1959.0</td>\n",
       "      <td>0</td>\n",
       "    </tr>\n",
       "    <tr>\n",
       "      <th>464018</th>\n",
       "      <td>2014</td>\n",
       "      <td>4.620594e+11</td>\n",
       "      <td>2014-01-01</td>\n",
       "      <td>2014-12-31</td>\n",
       "      <td>1111.111084</td>\n",
       "      <td>68274.070312</td>\n",
       "      <td>16211.111328</td>\n",
       "      <td>0.0</td>\n",
       "      <td>0.0</td>\n",
       "      <td>0.0</td>\n",
       "      <td>...</td>\n",
       "      <td>0.011635</td>\n",
       "      <td>0.024288</td>\n",
       "      <td>0.988365</td>\n",
       "      <td>0.765321</td>\n",
       "      <td>0.160849</td>\n",
       "      <td>0.011635</td>\n",
       "      <td>0.250000</td>\n",
       "      <td>0</td>\n",
       "      <td>1953.0</td>\n",
       "      <td>0</td>\n",
       "    </tr>\n",
       "    <tr>\n",
       "      <th>464032</th>\n",
       "      <td>2014</td>\n",
       "      <td>4.623300e+11</td>\n",
       "      <td>2014-01-01</td>\n",
       "      <td>2014-12-31</td>\n",
       "      <td>0.000000</td>\n",
       "      <td>17192.591797</td>\n",
       "      <td>7325.925781</td>\n",
       "      <td>0.0</td>\n",
       "      <td>0.0</td>\n",
       "      <td>0.0</td>\n",
       "      <td>...</td>\n",
       "      <td>0.375656</td>\n",
       "      <td>0.368796</td>\n",
       "      <td>0.624344</td>\n",
       "      <td>0.654472</td>\n",
       "      <td>0.672495</td>\n",
       "      <td>0.375656</td>\n",
       "      <td>0.166667</td>\n",
       "      <td>0</td>\n",
       "      <td>1961.5</td>\n",
       "      <td>0</td>\n",
       "    </tr>\n",
       "    <tr>\n",
       "      <th>464055</th>\n",
       "      <td>2014</td>\n",
       "      <td>4.628231e+11</td>\n",
       "      <td>2014-01-01</td>\n",
       "      <td>2014-12-31</td>\n",
       "      <td>2581.481445</td>\n",
       "      <td>70059.257812</td>\n",
       "      <td>74911.109375</td>\n",
       "      <td>0.0</td>\n",
       "      <td>0.0</td>\n",
       "      <td>0.0</td>\n",
       "      <td>...</td>\n",
       "      <td>0.102188</td>\n",
       "      <td>0.288101</td>\n",
       "      <td>0.897812</td>\n",
       "      <td>0.040011</td>\n",
       "      <td>0.023732</td>\n",
       "      <td>0.102188</td>\n",
       "      <td>0.486111</td>\n",
       "      <td>0</td>\n",
       "      <td>1984.0</td>\n",
       "      <td>0</td>\n",
       "    </tr>\n",
       "  </tbody>\n",
       "</table>\n",
       "<p>1037 rows × 63 columns</p>\n",
       "</div>"
      ],
      "text/plain": [
       "        year       comp_id       begin         end        amort  \\\n",
       "417864  2014  6.538183e+06  2014-01-01  2014-12-31  1018.518494   \n",
       "417890  2014  8.416055e+06  2014-01-01  2014-12-31   425.925934   \n",
       "417942  2014  1.242838e+07  2014-01-01  2014-12-31     0.000000   \n",
       "417989  2014  1.777654e+07  2014-01-01  2014-12-31    48.148148   \n",
       "417994  2014  1.862676e+07  2014-01-01  2014-12-31  5755.555664   \n",
       "...      ...           ...         ...         ...          ...   \n",
       "463875  2014  4.593723e+11  2014-01-01  2014-12-31     0.000000   \n",
       "463965  2014  4.610112e+11  2014-01-01  2014-12-31   429.629639   \n",
       "464018  2014  4.620594e+11  2014-01-01  2014-12-31  1111.111084   \n",
       "464032  2014  4.623300e+11  2014-01-01  2014-12-31     0.000000   \n",
       "464055  2014  4.628231e+11  2014-01-01  2014-12-31  2581.481445   \n",
       "\n",
       "          curr_assets      curr_liab  extra_exp  extra_inc  extra_profit_loss  \\\n",
       "417864   17022.222656    3040.740723        0.0        0.0                0.0   \n",
       "417890  105740.742188    6918.518555        0.0        0.0                0.0   \n",
       "417942       0.000000    9277.777344        0.0        0.0                0.0   \n",
       "417989  142296.296875  164237.031250        0.0        0.0                0.0   \n",
       "417994   95185.187500   45766.667969        0.0        0.0                0.0   \n",
       "...               ...            ...        ...        ...                ...   \n",
       "463875   40740.742188     559.259277        0.0        0.0                0.0   \n",
       "463965   58781.480469    2651.851807        0.0        0.0                0.0   \n",
       "464018   68274.070312   16211.111328        0.0        0.0                0.0   \n",
       "464032   17192.591797    7325.925781        0.0        0.0                0.0   \n",
       "464055   70059.257812   74911.109375        0.0        0.0                0.0   \n",
       "\n",
       "        ...  fixed_assets_bs  liq_assets_bs  curr_assets_bs  share_eq_bs  \\\n",
       "417864  ...         0.164819       0.832455        0.835181     0.850809   \n",
       "417890  ...         0.067207       0.680041        0.932793     0.945372   \n",
       "417942  ...         0.000000       0.000000        0.000000     0.000000   \n",
       "417989  ...         0.510834       0.007804        0.403525     0.406907   \n",
       "417994  ...         0.193371       0.094661        0.806629     0.611594   \n",
       "...     ...              ...            ...             ...          ...   \n",
       "463875  ...         0.000000       0.943727        1.000000     0.986273   \n",
       "463965  ...         0.055866       0.637822        0.943243     0.957387   \n",
       "464018  ...         0.011635       0.024288        0.988365     0.765321   \n",
       "464032  ...         0.375656       0.368796        0.624344     0.654472   \n",
       "464055  ...         0.102188       0.288101        0.897812     0.040011   \n",
       "\n",
       "        subscribed_cap_bs  tang_assets_bs  labor_avg_mod  flag_miss_labor_avg  \\\n",
       "417864           0.002726        0.164819       1.009435                    1   \n",
       "417890           0.098017        0.067207       0.083333                    0   \n",
       "417942           0.000000        0.000000       0.083333                    0   \n",
       "417989           0.136539        0.425192       0.305556                    0   \n",
       "417994           0.015693        0.193371       0.159091                    0   \n",
       "...                   ...             ...            ...                  ...   \n",
       "463875           0.023000        0.000000       0.083333                    0   \n",
       "463965           0.178296        0.054974       0.166667                    0   \n",
       "464018           0.160849        0.011635       0.250000                    0   \n",
       "464032           0.672495        0.375656       0.166667                    0   \n",
       "464055           0.023732        0.102188       0.486111                    0   \n",
       "\n",
       "        birth_year_mod  flag_miss_birth_year  \n",
       "417864          1961.5                     0  \n",
       "417890          1960.0                     0  \n",
       "417942          1962.0                     0  \n",
       "417989          1970.5                     0  \n",
       "417994          1978.0                     0  \n",
       "...                ...                   ...  \n",
       "463875          1975.0                     0  \n",
       "463965          1959.0                     0  \n",
       "464018          1953.0                     0  \n",
       "464032          1961.5                     0  \n",
       "464055          1984.0                     0  \n",
       "\n",
       "[1037 rows x 63 columns]"
      ]
     },
     "execution_count": 21,
     "metadata": {},
     "output_type": "execute_result"
    }
   ],
   "source": [
    "# look at cross section\n",
    "holdout_data = holdout_data.query(\"year==2014 & status_alive == 1\")\n",
    "# look at firms below 10m euro revenues and above 1000 euros\n",
    "holdout_data = holdout_data.query(\"sales<=10000000 & sales>=1000\")\n",
    "holdout_data"
   ]
  },
  {
   "cell_type": "code",
   "execution_count": 22,
   "id": "29ad61ab-a12b-4954-9722-1cf782cd94fd",
   "metadata": {
    "tags": []
   },
   "outputs": [
    {
     "data": {
      "text/plain": [
       "count       1037.000\n",
       "mean      490202.218\n",
       "std      1154087.414\n",
       "min         1070.370\n",
       "25%        21766.666\n",
       "50%        72700.000\n",
       "75%       333888.875\n",
       "max      9576485.000\n",
       "Name: sales, dtype: float64"
      ]
     },
     "execution_count": 22,
     "metadata": {},
     "output_type": "execute_result"
    }
   ],
   "source": [
    "round(holdout_data.sales.describe(), 3)"
   ]
  },
  {
   "cell_type": "code",
   "execution_count": 23,
   "id": "e9fe04c8-69ab-4cc9-a643-eb803067652f",
   "metadata": {
    "tags": []
   },
   "outputs": [
    {
     "data": {
      "text/plain": [
       "default\n",
       "0    981\n",
       "1     56\n",
       "Name: count, dtype: int64"
      ]
     },
     "execution_count": 23,
     "metadata": {},
     "output_type": "execute_result"
    }
   ],
   "source": [
    "holdout_data.default.value_counts()"
   ]
  },
  {
   "cell_type": "markdown",
   "id": "a0b12787-eab0-40b3-a591-2c5cbaca2603",
   "metadata": {},
   "source": [
    "The holdout_data now contains the right dataset (1037 observations, 56 defaults, correct sales figures)."
   ]
  },
  {
   "cell_type": "code",
   "execution_count": 24,
   "id": "f8183401-be14-448a-a90a-7747a3918624",
   "metadata": {
    "tags": []
   },
   "outputs": [
    {
     "data": {
      "image/png": "[encoded data removed]",
      "text/plain": [
       "<Figure size 640x480 with 1 Axes>"
      ]
     },
     "metadata": {
      "image/png": {
       "height": 480,
       "width": 640
      }
     },
     "output_type": "display_data"
    },
    {
     "data": {
      "text/plain": [
       "<Figure Size: (640 x 480)>"
      ]
     },
     "execution_count": 24,
     "metadata": {},
     "output_type": "execute_result"
    }
   ],
   "source": [
    "ggplot(holdout_data, aes(\"sales\")) + geom_histogram() + theme_bw()"
   ]
  },
  {
   "cell_type": "markdown",
   "id": "24221095-fdfd-4e05-a8dd-7695b65c750b",
   "metadata": {},
   "source": [
    "Most companies' sales are below 1M EUR in the holdout data."
   ]
  },
  {
   "cell_type": "code",
   "execution_count": 25,
   "id": "e962f389-ca36-4ff3-84b3-c982c1aec4fc",
   "metadata": {
    "tags": []
   },
   "outputs": [
    {
     "name": "stdout",
     "output_type": "stream",
     "text": [
      "<class 'pandas.core.frame.DataFrame'>\n",
      "Index: 1037 entries, 417864 to 464055\n",
      "Data columns (total 63 columns):\n",
      " #   Column                Non-Null Count  Dtype   \n",
      "---  ------                --------------  -----   \n",
      " 0   year                  1037 non-null   int64   \n",
      " 1   comp_id               1037 non-null   float64 \n",
      " 2   begin                 1037 non-null   object  \n",
      " 3   end                   1037 non-null   object  \n",
      " 4   amort                 1035 non-null   float64 \n",
      " 5   curr_assets           1037 non-null   float64 \n",
      " 6   curr_liab             1037 non-null   float64 \n",
      " 7   extra_exp             1037 non-null   float64 \n",
      " 8   extra_inc             1037 non-null   float64 \n",
      " 9   extra_profit_loss     1037 non-null   float64 \n",
      " 10  fixed_assets          1037 non-null   float64 \n",
      " 11  inc_bef_tax           1037 non-null   float64 \n",
      " 12  intang_assets         1037 non-null   float64 \n",
      " 13  inventories           1037 non-null   float64 \n",
      " 14  liq_assets            1037 non-null   float64 \n",
      " 15  material_exp          1035 non-null   float64 \n",
      " 16  personnel_exp         1035 non-null   float64 \n",
      " 17  profit_loss_year      1037 non-null   float64 \n",
      " 18  sales                 1037 non-null   float64 \n",
      " 19  share_eq              1037 non-null   float64 \n",
      " 20  subscribed_cap        1037 non-null   float64 \n",
      " 21  tang_assets           1037 non-null   float64 \n",
      " 22  balsheet_flag         1037 non-null   float64 \n",
      " 23  balsheet_length       1037 non-null   float64 \n",
      " 24  balsheet_notfullyear  1037 non-null   float64 \n",
      " 25  founded_year          1006 non-null   float64 \n",
      " 26  ceo_count             1006 non-null   float64 \n",
      " 27  foreign               1006 non-null   float64 \n",
      " 28  female                1006 non-null   float64 \n",
      " 29  inoffice_days         1006 non-null   float64 \n",
      " 30  gender                1006 non-null   category\n",
      " 31  origin                1006 non-null   category\n",
      " 32  nace_main             1037 non-null   category\n",
      " 33  ind2                  1037 non-null   category\n",
      " 34  ind                   1037 non-null   category\n",
      " 35  urban_m               1037 non-null   category\n",
      " 36  region_m              1035 non-null   category\n",
      " 37  founded_date          1037 non-null   object  \n",
      " 38  age                   1006 non-null   float64 \n",
      " 39  status_alive          1037 non-null   int32   \n",
      " 40  default               1037 non-null   int32   \n",
      " 41  flag_asset_problem    1037 non-null   float64 \n",
      " 42  total_assets_bs       1037 non-null   float64 \n",
      " 43  extra_exp_pl          1037 non-null   float64 \n",
      " 44  extra_inc_pl          1037 non-null   float64 \n",
      " 45  extra_profit_loss_pl  1037 non-null   float64 \n",
      " 46  inc_bef_tax_pl        1037 non-null   float64 \n",
      " 47  inventories_pl        1037 non-null   float64 \n",
      " 48  material_exp_pl       1035 non-null   float64 \n",
      " 49  profit_loss_year_pl   1037 non-null   float64 \n",
      " 50  personnel_exp_pl      1035 non-null   float64 \n",
      " 51  intang_assets_bs      1037 non-null   float64 \n",
      " 52  curr_liab_bs          1037 non-null   float64 \n",
      " 53  fixed_assets_bs       1037 non-null   float64 \n",
      " 54  liq_assets_bs         1037 non-null   float64 \n",
      " 55  curr_assets_bs        1037 non-null   float64 \n",
      " 56  share_eq_bs           1037 non-null   float64 \n",
      " 57  subscribed_cap_bs     1037 non-null   float64 \n",
      " 58  tang_assets_bs        1037 non-null   float64 \n",
      " 59  labor_avg_mod         1037 non-null   float64 \n",
      " 60  flag_miss_labor_avg   1037 non-null   int32   \n",
      " 61  birth_year_mod        1037 non-null   float64 \n",
      " 62  flag_miss_birth_year  1037 non-null   int32   \n",
      "dtypes: category(7), float64(48), int32(4), int64(1), object(3)\n",
      "memory usage: 467.4+ KB\n"
     ]
    }
   ],
   "source": [
    "holdout_data.info()"
   ]
  },
  {
   "cell_type": "markdown",
   "id": "b3e72c07-1373-4d01-a73f-64f2aecf7807",
   "metadata": {},
   "source": [
    "The different training datasets will be taken from the `raw_data` DataFrame based on some criteria. "
   ]
  },
  {
   "cell_type": "code",
   "execution_count": 26,
   "id": "fb5b6250-5d3b-4291-a98b-45fb2c787f57",
   "metadata": {
    "tags": []
   },
   "outputs": [
    {
     "data": {
      "text/plain": [
       "(1050, 63)"
      ]
     },
     "execution_count": 26,
     "metadata": {},
     "output_type": "execute_result"
    }
   ],
   "source": [
    "# data1 will be the same industry with the same sales figure restrictions, just one year before - this will be a relatively small dataset.\n",
    "\n",
    "data1 = raw_data.query(\"year==2013 & status_alive == 1\")\n",
    "data1 = data1.query(\"sales<=10000000 & sales>=1000 & ind2 == 26\")\n",
    "data1.shape"
   ]
  },
  {
   "cell_type": "code",
   "execution_count": 27,
   "id": "272a8454-27a4-4c32-b68e-51555abb8d1d",
   "metadata": {
    "tags": []
   },
   "outputs": [
    {
     "data": {
      "text/plain": [
       "default\n",
       "0    999\n",
       "1     51\n",
       "Name: count, dtype: int64"
      ]
     },
     "execution_count": 27,
     "metadata": {},
     "output_type": "execute_result"
    }
   ],
   "source": [
    "data1.default.value_counts()"
   ]
  },
  {
   "cell_type": "code",
   "execution_count": 28,
   "id": "2a1fab14-56fe-4c45-84e4-5709d63d96c4",
   "metadata": {
    "tags": []
   },
   "outputs": [
    {
     "data": {
      "text/plain": [
       "count       1050.000\n",
       "mean      465587.543\n",
       "std      1173668.081\n",
       "min         1000.000\n",
       "25%        21786.112\n",
       "50%        70418.516\n",
       "75%       283219.438\n",
       "max      9811389.000\n",
       "Name: sales, dtype: float64"
      ]
     },
     "execution_count": 28,
     "metadata": {},
     "output_type": "execute_result"
    }
   ],
   "source": [
    "round(data1.sales.describe(), 3)"
   ]
  },
  {
   "cell_type": "markdown",
   "id": "af844f8e-0a9c-4d28-ac3f-882cd46525c8",
   "metadata": {},
   "source": [
    "This dataset has very similar number of defaults as our holdout dataset, although its mean sales are a bit lower. It is likely to be quite similar to it in other features too, althoug it is quite a small dataset (only 1050 observations)."
   ]
  },
  {
   "cell_type": "code",
   "execution_count": 29,
   "id": "24b86392-d3b2-46ee-9a3d-d3bb675c7bd1",
   "metadata": {
    "tags": []
   },
   "outputs": [
    {
     "data": {
      "text/plain": [
       "(20253, 63)"
      ]
     },
     "execution_count": 29,
     "metadata": {},
     "output_type": "execute_result"
    }
   ],
   "source": [
    "# data2 will include all industries (except the target) with the same sales figure restrictions, from the same year as our holdout data.\n",
    "\n",
    "data2 = raw_data.query(\"year==2014 & status_alive == 1\")\n",
    "data2 = data2.query(\"sales<=10000000 & sales>=1000 & ind2 != 26\")\n",
    "data2.shape"
   ]
  },
  {
   "cell_type": "code",
   "execution_count": 30,
   "id": "851b7fa3-0f55-472b-b218-48facc9c4a4d",
   "metadata": {
    "tags": []
   },
   "outputs": [
    {
     "data": {
      "text/plain": [
       "default\n",
       "0    18177\n",
       "1     2076\n",
       "Name: count, dtype: int64"
      ]
     },
     "execution_count": 30,
     "metadata": {},
     "output_type": "execute_result"
    }
   ],
   "source": [
    "data2.default.value_counts()"
   ]
  },
  {
   "cell_type": "markdown",
   "id": "8b79efad-baf4-4857-aa64-d4f4d3c49013",
   "metadata": {},
   "source": [
    "The default rate is higher than in the holdout set (around 10% vs 5%) but it is a much bigger sample."
   ]
  },
  {
   "cell_type": "code",
   "execution_count": 31,
   "id": "a66d5b18-5326-41d0-8a97-e40417d2b7c9",
   "metadata": {
    "tags": []
   },
   "outputs": [
    {
     "data": {
      "text/plain": [
       "count      20253.000\n",
       "mean      255986.021\n",
       "std       806844.236\n",
       "min         1000.000\n",
       "25%        17407.408\n",
       "50%        50481.480\n",
       "75%       157407.406\n",
       "max      9963926.000\n",
       "Name: sales, dtype: float64"
      ]
     },
     "execution_count": 31,
     "metadata": {},
     "output_type": "execute_result"
    }
   ],
   "source": [
    "round(data2.sales.describe(), 3)"
   ]
  },
  {
   "cell_type": "markdown",
   "id": "68615242-b946-4de9-9c79-87376fe8745f",
   "metadata": {},
   "source": [
    "Average sales are significantly lower than in the holdout set (256k vs 490k)."
   ]
  },
  {
   "cell_type": "code",
   "execution_count": 32,
   "id": "676821da-78ce-441d-810b-d79d40b56c68",
   "metadata": {
    "tags": []
   },
   "outputs": [
    {
     "data": {
      "text/plain": [
       "(936, 63)"
      ]
     },
     "execution_count": 32,
     "metadata": {},
     "output_type": "execute_result"
    }
   ],
   "source": [
    "# data3 will include the same industry but one year earlier and with an even narrower sales filter - \n",
    "# given that most of the companies in the holdout data have less than 1M EUR sales, this filter will be applied here.\n",
    "\n",
    "data3 = raw_data.query(\"year==2013 & status_alive == 1\")\n",
    "data3 = data3.query(\"sales<=1000000 & sales>=1000 & ind2 == 26\")\n",
    "data3.shape"
   ]
  },
  {
   "cell_type": "code",
   "execution_count": 33,
   "id": "f12643a8-07dc-41db-bb1a-66e5b649f589",
   "metadata": {
    "tags": []
   },
   "outputs": [
    {
     "data": {
      "text/plain": [
       "count       936.000\n",
       "mean     138134.962\n",
       "std      196431.376\n",
       "min        1000.000\n",
       "25%       18987.037\n",
       "50%       51279.631\n",
       "75%      165606.488\n",
       "max      986803.688\n",
       "Name: sales, dtype: float64"
      ]
     },
     "execution_count": 33,
     "metadata": {},
     "output_type": "execute_result"
    }
   ],
   "source": [
    "round(data3.sales.describe(), 3)"
   ]
  },
  {
   "cell_type": "code",
   "execution_count": 34,
   "id": "e8fb9ec9-3085-4e33-8467-5fe9230ca4ea",
   "metadata": {},
   "outputs": [
    {
     "data": {
      "text/plain": [
       "default\n",
       "0    887\n",
       "1     49\n",
       "Name: count, dtype: int64"
      ]
     },
     "execution_count": 34,
     "metadata": {},
     "output_type": "execute_result"
    }
   ],
   "source": [
    "data3.default.value_counts()"
   ]
  },
  {
   "cell_type": "code",
   "execution_count": 35,
   "id": "2807ec57-1eb1-4094-8474-25eda51e41f1",
   "metadata": {
    "tags": []
   },
   "outputs": [
    {
     "data": {
      "text/plain": [
       "amort                2\n",
       "material_exp         2\n",
       "personnel_exp        2\n",
       "founded_year        92\n",
       "ceo_count           92\n",
       "foreign             92\n",
       "female              92\n",
       "inoffice_days       92\n",
       "gender              92\n",
       "origin              92\n",
       "region_m             2\n",
       "age                 92\n",
       "material_exp_pl      2\n",
       "personnel_exp_pl     2\n",
       "dtype: int64"
      ]
     },
     "execution_count": 35,
     "metadata": {},
     "output_type": "execute_result"
    }
   ],
   "source": [
    "to_filter=data1.isna().sum()\n",
    "to_filter[to_filter>0]"
   ]
  },
  {
   "cell_type": "code",
   "execution_count": 36,
   "id": "8e4e0ea0-99b5-447c-9f53-f731224c1fba",
   "metadata": {
    "tags": []
   },
   "outputs": [
    {
     "data": {
      "text/plain": [
       "amort                    29\n",
       "curr_assets              12\n",
       "curr_liab                12\n",
       "fixed_assets             12\n",
       "intang_assets            12\n",
       "inventories              12\n",
       "liq_assets               12\n",
       "material_exp             29\n",
       "personnel_exp            29\n",
       "profit_loss_year         12\n",
       "share_eq                 12\n",
       "subscribed_cap           12\n",
       "tang_assets              12\n",
       "founded_year           1056\n",
       "ceo_count              1055\n",
       "foreign                1055\n",
       "female                 1055\n",
       "inoffice_days          1055\n",
       "gender                 1055\n",
       "origin                 1055\n",
       "nace_main                 5\n",
       "ind2                      5\n",
       "ind                     637\n",
       "region_m                 58\n",
       "founded_date              1\n",
       "age                    1056\n",
       "flag_asset_problem       12\n",
       "total_assets_bs          12\n",
       "inventories_pl           12\n",
       "material_exp_pl          29\n",
       "profit_loss_year_pl      12\n",
       "personnel_exp_pl         29\n",
       "dtype: int64"
      ]
     },
     "execution_count": 36,
     "metadata": {},
     "output_type": "execute_result"
    }
   ],
   "source": [
    "to_filter=data2.isna().sum()\n",
    "to_filter[to_filter>0]"
   ]
  },
  {
   "cell_type": "code",
   "execution_count": 37,
   "id": "8ec5dabb-30ef-439a-85c1-2a57853dd4ac",
   "metadata": {
    "tags": []
   },
   "outputs": [
    {
     "data": {
      "text/plain": [
       "amort                1\n",
       "material_exp         1\n",
       "personnel_exp        1\n",
       "founded_year        86\n",
       "ceo_count           86\n",
       "foreign             86\n",
       "female              86\n",
       "inoffice_days       86\n",
       "gender              86\n",
       "origin              86\n",
       "age                 86\n",
       "material_exp_pl      1\n",
       "personnel_exp_pl     1\n",
       "dtype: int64"
      ]
     },
     "execution_count": 37,
     "metadata": {},
     "output_type": "execute_result"
    }
   ],
   "source": [
    "to_filter=data3.isna().sum()\n",
    "to_filter[to_filter>0]"
   ]
  },
  {
   "cell_type": "markdown",
   "id": "27993f55-a306-49d4-a70f-218c8fd08384",
   "metadata": {},
   "source": [
    "Missing values will be dropped in data1-2-3. This will decrease the size of the datasets, but will retain only \"clean\" observations.\n",
    "To retain the full 1037 observations in the holdout data, there all missing values will be imputed (with mean for numerical, and mode for categorical variables). Flags are to be added for all imputations."
   ]
  },
  {
   "cell_type": "code",
   "execution_count": 38,
   "id": "3722241b-5437-49d1-8722-1556c34ce105",
   "metadata": {
    "tags": []
   },
   "outputs": [],
   "source": [
    "to_filter=data1.isna().sum()\n",
    "to_filter[to_filter>0]\n",
    "data1.dropna(subset=to_filter[to_filter>0].index, inplace = True)"
   ]
  },
  {
   "cell_type": "code",
   "execution_count": 39,
   "id": "ce7dc294-e48d-4d29-b60d-b88bcaaeaab6",
   "metadata": {
    "tags": []
   },
   "outputs": [],
   "source": [
    "to_filter=data2.isna().sum()\n",
    "to_filter[to_filter>0]\n",
    "data2.dropna(subset=to_filter[to_filter>0].index, inplace = True)"
   ]
  },
  {
   "cell_type": "code",
   "execution_count": 40,
   "id": "16d0a250-3979-4420-ac74-a4a594f9ff14",
   "metadata": {
    "tags": []
   },
   "outputs": [],
   "source": [
    "to_filter=data3.isna().sum()\n",
    "to_filter[to_filter>0]\n",
    "data3.dropna(subset=to_filter[to_filter>0].index, inplace = True)"
   ]
  },
  {
   "cell_type": "code",
   "execution_count": 41,
   "id": "ebe6121e-fda3-4da3-872b-bb15e82fe378",
   "metadata": {
    "tags": []
   },
   "outputs": [
    {
     "data": {
      "text/plain": [
       "amort                2\n",
       "material_exp         2\n",
       "personnel_exp        2\n",
       "founded_year        31\n",
       "ceo_count           31\n",
       "foreign             31\n",
       "female              31\n",
       "inoffice_days       31\n",
       "gender              31\n",
       "origin              31\n",
       "region_m             2\n",
       "age                 31\n",
       "material_exp_pl      2\n",
       "personnel_exp_pl     2\n",
       "dtype: int64"
      ]
     },
     "execution_count": 41,
     "metadata": {},
     "output_type": "execute_result"
    }
   ],
   "source": [
    "to_filter=holdout_data.isna().sum()\n",
    "to_filter[to_filter>0]"
   ]
  },
  {
   "cell_type": "code",
   "execution_count": 42,
   "id": "a24df480-586b-40b5-a425-a425107454cb",
   "metadata": {
    "tags": []
   },
   "outputs": [
    {
     "data": {
      "text/plain": [
       "count        955.000\n",
       "mean      461643.749\n",
       "std      1146901.911\n",
       "min         1000.000\n",
       "25%        21851.852\n",
       "50%        72066.664\n",
       "75%       289164.828\n",
       "max      9811389.000\n",
       "Name: sales, dtype: float64"
      ]
     },
     "execution_count": 42,
     "metadata": {},
     "output_type": "execute_result"
    }
   ],
   "source": [
    "# Let's check how much the sales and default figures have changed due to dropping the NA values\n",
    "\n",
    "round(data1.sales.describe(), 3)"
   ]
  },
  {
   "cell_type": "code",
   "execution_count": 43,
   "id": "ee082fbb-2487-4787-be5d-38eea106e99f",
   "metadata": {
    "tags": []
   },
   "outputs": [
    {
     "data": {
      "text/plain": [
       "count      18508.000\n",
       "mean      254143.352\n",
       "std       793106.390\n",
       "min         1000.000\n",
       "25%        17877.777\n",
       "50%        51572.223\n",
       "75%       159723.145\n",
       "max      9963926.000\n",
       "Name: sales, dtype: float64"
      ]
     },
     "execution_count": 43,
     "metadata": {},
     "output_type": "execute_result"
    }
   ],
   "source": [
    "round(data2.sales.describe(), 3)"
   ]
  },
  {
   "cell_type": "code",
   "execution_count": 44,
   "id": "58da6413-c1a5-4735-917b-54a371b28e51",
   "metadata": {
    "tags": []
   },
   "outputs": [
    {
     "data": {
      "text/plain": [
       "count       849.000\n",
       "mean     138906.431\n",
       "std      196094.571\n",
       "min        1000.000\n",
       "25%       18988.889\n",
       "50%       51481.480\n",
       "75%      167270.375\n",
       "max      986803.688\n",
       "Name: sales, dtype: float64"
      ]
     },
     "execution_count": 44,
     "metadata": {},
     "output_type": "execute_result"
    }
   ],
   "source": [
    "round(data3.sales.describe(), 3)"
   ]
  },
  {
   "cell_type": "code",
   "execution_count": 45,
   "id": "e9cadd80-5d65-43a8-9d71-799668a96f26",
   "metadata": {
    "tags": []
   },
   "outputs": [
    {
     "data": {
      "text/plain": [
       "default\n",
       "0    909\n",
       "1     46\n",
       "Name: count, dtype: int64"
      ]
     },
     "execution_count": 45,
     "metadata": {},
     "output_type": "execute_result"
    }
   ],
   "source": [
    "data1.default.value_counts()"
   ]
  },
  {
   "cell_type": "code",
   "execution_count": 46,
   "id": "015c2dc5-a21b-4961-840a-52ace7f40156",
   "metadata": {
    "tags": []
   },
   "outputs": [
    {
     "data": {
      "text/plain": [
       "default\n",
       "0    16659\n",
       "1     1849\n",
       "Name: count, dtype: int64"
      ]
     },
     "execution_count": 46,
     "metadata": {},
     "output_type": "execute_result"
    }
   ],
   "source": [
    "data2.default.value_counts()"
   ]
  },
  {
   "cell_type": "code",
   "execution_count": 47,
   "id": "4421ff88-3a04-4920-9a20-a731b6b2a97c",
   "metadata": {
    "tags": []
   },
   "outputs": [
    {
     "data": {
      "text/plain": [
       "default\n",
       "0    805\n",
       "1     44\n",
       "Name: count, dtype: int64"
      ]
     },
     "execution_count": 47,
     "metadata": {},
     "output_type": "execute_result"
    }
   ],
   "source": [
    "data3.default.value_counts()"
   ]
  },
  {
   "cell_type": "markdown",
   "id": "b38b8aff-8fb2-445a-b8fa-593eb3934ff0",
   "metadata": {},
   "source": [
    "No major change to sales and default ratios."
   ]
  },
  {
   "cell_type": "markdown",
   "id": "d6217f69-b4a1-413f-af6e-1bf4339f8c2c",
   "metadata": {
    "tags": []
   },
   "source": [
    "# defining functions to impute\n",
    "\n",
    "def impute_num(data, column):\n",
    "    data[column +\"_mod\"] = np.where (\n",
    "        data[column].isna(), data[column].mean(), data[column]\n",
    "    )\n",
    "    data[\"flag_\"+ column] = (data[column].isna()).astype(int)\n",
    "    data = data.drop([column], axis = 1, inplace = True)\n",
    "\n",
    "def impute_cat(data, column):\n",
    "    data[column +\"_mod\"] = np.where (\n",
    "        data[column].isna(), data[column].mode(), data[column]\n",
    "    )\n",
    "    data[\"flag_\"+ column] = (data[column].isna()).astype(int)\n",
    "    data = data.drop([column], axis = 1, inplace = True)    \n",
    "    \n",
    "    \n",
    "impute_num_list = [\"amort\", \"material_exp\", \"personnel_exp\", \"founded_year\", \"ceo_count\", \"foreign\", \"female\", \"inoffice_days\", \"age\"]\n",
    "impute_cat_list = [\"gender\", \"origin\", \"region_m\"]"
   ]
  },
  {
   "cell_type": "code",
   "execution_count": 48,
   "id": "01beb27c-2e1e-4196-bd39-eaa2aac24b47",
   "metadata": {
    "tags": []
   },
   "outputs": [],
   "source": [
    "# defining functions to impute\n",
    "\n",
    "def impute_num(data, column):\n",
    "    data[\"flag_\"+ column] = (data[column].isna()).astype(int)\n",
    "    data[column] = np.where (\n",
    "        data[column].isna(), data[column].mean(), data[column]\n",
    "    )\n",
    "    \n",
    "\n",
    "def impute_cat(data, column):\n",
    "    data[\"flag_\"+ column] = (data[column].isna()).astype(int)  \n",
    "    data[column] = np.where (\n",
    "        data[column].isna(), data[column].mode(), data[column]\n",
    "    )\n",
    "    \n",
    "impute_num_list = [\"amort\", \"material_exp\", \"personnel_exp\", \"founded_year\", \"ceo_count\", \"foreign\", \"female\", \"inoffice_days\", \"age\"]\n",
    "impute_cat_list = [\"gender\", \"origin\", \"region_m\"]"
   ]
  },
  {
   "cell_type": "code",
   "execution_count": 49,
   "id": "6d72a4e8-ce3c-4ba5-ba2a-12e5045d8186",
   "metadata": {
    "tags": []
   },
   "outputs": [
    {
     "data": {
      "text/plain": [
       "material_exp_pl     2\n",
       "personnel_exp_pl    2\n",
       "dtype: int64"
      ]
     },
     "execution_count": 49,
     "metadata": {},
     "output_type": "execute_result"
    }
   ],
   "source": [
    "for col in impute_num_list:\n",
    "    impute_num(holdout_data, col)\n",
    "\n",
    "for col in impute_cat_list:\n",
    "    impute_cat(holdout_data, col)\n",
    "    \n",
    "to_filter=holdout_data.isna().sum()\n",
    "to_filter[to_filter>0]"
   ]
  },
  {
   "cell_type": "code",
   "execution_count": 50,
   "id": "be65601c-cd02-4bc9-970f-9bf81b89dbd3",
   "metadata": {
    "tags": []
   },
   "outputs": [
    {
     "name": "stdout",
     "output_type": "stream",
     "text": [
      "<class 'pandas.core.frame.DataFrame'>\n",
      "Index: 1037 entries, 417864 to 464055\n",
      "Data columns (total 75 columns):\n",
      " #   Column                Non-Null Count  Dtype   \n",
      "---  ------                --------------  -----   \n",
      " 0   year                  1037 non-null   int64   \n",
      " 1   comp_id               1037 non-null   float64 \n",
      " 2   begin                 1037 non-null   object  \n",
      " 3   end                   1037 non-null   object  \n",
      " 4   amort                 1037 non-null   float64 \n",
      " 5   curr_assets           1037 non-null   float64 \n",
      " 6   curr_liab             1037 non-null   float64 \n",
      " 7   extra_exp             1037 non-null   float64 \n",
      " 8   extra_inc             1037 non-null   float64 \n",
      " 9   extra_profit_loss     1037 non-null   float64 \n",
      " 10  fixed_assets          1037 non-null   float64 \n",
      " 11  inc_bef_tax           1037 non-null   float64 \n",
      " 12  intang_assets         1037 non-null   float64 \n",
      " 13  inventories           1037 non-null   float64 \n",
      " 14  liq_assets            1037 non-null   float64 \n",
      " 15  material_exp          1037 non-null   float64 \n",
      " 16  personnel_exp         1037 non-null   float64 \n",
      " 17  profit_loss_year      1037 non-null   float64 \n",
      " 18  sales                 1037 non-null   float64 \n",
      " 19  share_eq              1037 non-null   float64 \n",
      " 20  subscribed_cap        1037 non-null   float64 \n",
      " 21  tang_assets           1037 non-null   float64 \n",
      " 22  balsheet_flag         1037 non-null   float64 \n",
      " 23  balsheet_length       1037 non-null   float64 \n",
      " 24  balsheet_notfullyear  1037 non-null   float64 \n",
      " 25  founded_year          1037 non-null   float64 \n",
      " 26  ceo_count             1037 non-null   float64 \n",
      " 27  foreign               1037 non-null   float64 \n",
      " 28  female                1037 non-null   float64 \n",
      " 29  inoffice_days         1037 non-null   float64 \n",
      " 30  gender                1037 non-null   object  \n",
      " 31  origin                1037 non-null   object  \n",
      " 32  nace_main             1037 non-null   category\n",
      " 33  ind2                  1037 non-null   category\n",
      " 34  ind                   1037 non-null   category\n",
      " 35  urban_m               1037 non-null   category\n",
      " 36  region_m              1037 non-null   object  \n",
      " 37  founded_date          1037 non-null   object  \n",
      " 38  age                   1037 non-null   float64 \n",
      " 39  status_alive          1037 non-null   int32   \n",
      " 40  default               1037 non-null   int32   \n",
      " 41  flag_asset_problem    1037 non-null   float64 \n",
      " 42  total_assets_bs       1037 non-null   float64 \n",
      " 43  extra_exp_pl          1037 non-null   float64 \n",
      " 44  extra_inc_pl          1037 non-null   float64 \n",
      " 45  extra_profit_loss_pl  1037 non-null   float64 \n",
      " 46  inc_bef_tax_pl        1037 non-null   float64 \n",
      " 47  inventories_pl        1037 non-null   float64 \n",
      " 48  material_exp_pl       1035 non-null   float64 \n",
      " 49  profit_loss_year_pl   1037 non-null   float64 \n",
      " 50  personnel_exp_pl      1035 non-null   float64 \n",
      " 51  intang_assets_bs      1037 non-null   float64 \n",
      " 52  curr_liab_bs          1037 non-null   float64 \n",
      " 53  fixed_assets_bs       1037 non-null   float64 \n",
      " 54  liq_assets_bs         1037 non-null   float64 \n",
      " 55  curr_assets_bs        1037 non-null   float64 \n",
      " 56  share_eq_bs           1037 non-null   float64 \n",
      " 57  subscribed_cap_bs     1037 non-null   float64 \n",
      " 58  tang_assets_bs        1037 non-null   float64 \n",
      " 59  labor_avg_mod         1037 non-null   float64 \n",
      " 60  flag_miss_labor_avg   1037 non-null   int32   \n",
      " 61  birth_year_mod        1037 non-null   float64 \n",
      " 62  flag_miss_birth_year  1037 non-null   int32   \n",
      " 63  flag_amort            1037 non-null   int32   \n",
      " 64  flag_material_exp     1037 non-null   int32   \n",
      " 65  flag_personnel_exp    1037 non-null   int32   \n",
      " 66  flag_founded_year     1037 non-null   int32   \n",
      " 67  flag_ceo_count        1037 non-null   int32   \n",
      " 68  flag_foreign          1037 non-null   int32   \n",
      " 69  flag_female           1037 non-null   int32   \n",
      " 70  flag_inoffice_days    1037 non-null   int32   \n",
      " 71  flag_age              1037 non-null   int32   \n",
      " 72  flag_gender           1037 non-null   int32   \n",
      " 73  flag_origin           1037 non-null   int32   \n",
      " 74  flag_region_m         1037 non-null   int32   \n",
      "dtypes: category(4), float64(48), int32(16), int64(1), object(6)\n",
      "memory usage: 536.9+ KB\n"
     ]
    }
   ],
   "source": [
    "holdout_data.info()"
   ]
  },
  {
   "cell_type": "code",
   "execution_count": 51,
   "id": "dc041372-d9b1-40cc-94e7-04b99aebdbe4",
   "metadata": {
    "tags": []
   },
   "outputs": [],
   "source": [
    "# recalculate missing values for _pl variables, and rename columns\n",
    "pl_names2 = [\"material_exp\", \"personnel_exp\"]\n",
    "holdout_data[[col + \"_pl\" for col in pl_names2]] = holdout_data[pl_names2].div(\n",
    "    holdout_data[\"sales\"], axis=\"index\")"
   ]
  },
  {
   "cell_type": "code",
   "execution_count": 52,
   "id": "dedc2f2f-f9fb-4d5b-9740-7628ce2fa0b5",
   "metadata": {
    "tags": []
   },
   "outputs": [
    {
     "name": "stdout",
     "output_type": "stream",
     "text": [
      "<class 'pandas.core.frame.DataFrame'>\n",
      "Index: 1037 entries, 417864 to 464055\n",
      "Data columns (total 75 columns):\n",
      " #   Column                Non-Null Count  Dtype   \n",
      "---  ------                --------------  -----   \n",
      " 0   year                  1037 non-null   int64   \n",
      " 1   comp_id               1037 non-null   float64 \n",
      " 2   begin                 1037 non-null   object  \n",
      " 3   end                   1037 non-null   object  \n",
      " 4   amort                 1037 non-null   float64 \n",
      " 5   curr_assets           1037 non-null   float64 \n",
      " 6   curr_liab             1037 non-null   float64 \n",
      " 7   extra_exp             1037 non-null   float64 \n",
      " 8   extra_inc             1037 non-null   float64 \n",
      " 9   extra_profit_loss     1037 non-null   float64 \n",
      " 10  fixed_assets          1037 non-null   float64 \n",
      " 11  inc_bef_tax           1037 non-null   float64 \n",
      " 12  intang_assets         1037 non-null   float64 \n",
      " 13  inventories           1037 non-null   float64 \n",
      " 14  liq_assets            1037 non-null   float64 \n",
      " 15  material_exp          1037 non-null   float64 \n",
      " 16  personnel_exp         1037 non-null   float64 \n",
      " 17  profit_loss_year      1037 non-null   float64 \n",
      " 18  sales                 1037 non-null   float64 \n",
      " 19  share_eq              1037 non-null   float64 \n",
      " 20  subscribed_cap        1037 non-null   float64 \n",
      " 21  tang_assets           1037 non-null   float64 \n",
      " 22  balsheet_flag         1037 non-null   float64 \n",
      " 23  balsheet_length       1037 non-null   float64 \n",
      " 24  balsheet_notfullyear  1037 non-null   float64 \n",
      " 25  founded_year          1037 non-null   float64 \n",
      " 26  ceo_count             1037 non-null   float64 \n",
      " 27  foreign               1037 non-null   float64 \n",
      " 28  female                1037 non-null   float64 \n",
      " 29  inoffice_days         1037 non-null   float64 \n",
      " 30  gender                1037 non-null   object  \n",
      " 31  origin                1037 non-null   object  \n",
      " 32  nace_main             1037 non-null   category\n",
      " 33  ind2                  1037 non-null   category\n",
      " 34  ind                   1037 non-null   category\n",
      " 35  urban_m               1037 non-null   category\n",
      " 36  region_m              1037 non-null   object  \n",
      " 37  founded_date          1037 non-null   object  \n",
      " 38  age                   1037 non-null   float64 \n",
      " 39  status_alive          1037 non-null   int32   \n",
      " 40  default               1037 non-null   int32   \n",
      " 41  flag_asset_problem    1037 non-null   float64 \n",
      " 42  total_assets_bs       1037 non-null   float64 \n",
      " 43  extra_exp_pl          1037 non-null   float64 \n",
      " 44  extra_inc_pl          1037 non-null   float64 \n",
      " 45  extra_profit_loss_pl  1037 non-null   float64 \n",
      " 46  inc_bef_tax_pl        1037 non-null   float64 \n",
      " 47  inventories_pl        1037 non-null   float64 \n",
      " 48  material_exp_pl       1037 non-null   float64 \n",
      " 49  profit_loss_year_pl   1037 non-null   float64 \n",
      " 50  personnel_exp_pl      1037 non-null   float64 \n",
      " 51  intang_assets_bs      1037 non-null   float64 \n",
      " 52  curr_liab_bs          1037 non-null   float64 \n",
      " 53  fixed_assets_bs       1037 non-null   float64 \n",
      " 54  liq_assets_bs         1037 non-null   float64 \n",
      " 55  curr_assets_bs        1037 non-null   float64 \n",
      " 56  share_eq_bs           1037 non-null   float64 \n",
      " 57  subscribed_cap_bs     1037 non-null   float64 \n",
      " 58  tang_assets_bs        1037 non-null   float64 \n",
      " 59  labor_avg_mod         1037 non-null   float64 \n",
      " 60  flag_miss_labor_avg   1037 non-null   int32   \n",
      " 61  birth_year_mod        1037 non-null   float64 \n",
      " 62  flag_miss_birth_year  1037 non-null   int32   \n",
      " 63  flag_amort            1037 non-null   int32   \n",
      " 64  flag_material_exp     1037 non-null   int32   \n",
      " 65  flag_personnel_exp    1037 non-null   int32   \n",
      " 66  flag_founded_year     1037 non-null   int32   \n",
      " 67  flag_ceo_count        1037 non-null   int32   \n",
      " 68  flag_foreign          1037 non-null   int32   \n",
      " 69  flag_female           1037 non-null   int32   \n",
      " 70  flag_inoffice_days    1037 non-null   int32   \n",
      " 71  flag_age              1037 non-null   int32   \n",
      " 72  flag_gender           1037 non-null   int32   \n",
      " 73  flag_origin           1037 non-null   int32   \n",
      " 74  flag_region_m         1037 non-null   int32   \n",
      "dtypes: category(4), float64(48), int32(16), int64(1), object(6)\n",
      "memory usage: 536.9+ KB\n"
     ]
    }
   ],
   "source": [
    "holdout_data.info()"
   ]
  },
  {
   "cell_type": "code",
   "execution_count": 53,
   "id": "089b6dfc-97ff-44b9-931c-0a8ebae93060",
   "metadata": {
    "tags": []
   },
   "outputs": [
    {
     "name": "stdout",
     "output_type": "stream",
     "text": [
      "<class 'pandas.core.frame.DataFrame'>\n",
      "Index: 955 entries, 371478 to 417643\n",
      "Data columns (total 63 columns):\n",
      " #   Column                Non-Null Count  Dtype   \n",
      "---  ------                --------------  -----   \n",
      " 0   year                  955 non-null    int64   \n",
      " 1   comp_id               955 non-null    float64 \n",
      " 2   begin                 955 non-null    object  \n",
      " 3   end                   955 non-null    object  \n",
      " 4   amort                 955 non-null    float64 \n",
      " 5   curr_assets           955 non-null    float64 \n",
      " 6   curr_liab             955 non-null    float64 \n",
      " 7   extra_exp             955 non-null    float64 \n",
      " 8   extra_inc             955 non-null    float64 \n",
      " 9   extra_profit_loss     955 non-null    float64 \n",
      " 10  fixed_assets          955 non-null    float64 \n",
      " 11  inc_bef_tax           955 non-null    float64 \n",
      " 12  intang_assets         955 non-null    float64 \n",
      " 13  inventories           955 non-null    float64 \n",
      " 14  liq_assets            955 non-null    float64 \n",
      " 15  material_exp          955 non-null    float64 \n",
      " 16  personnel_exp         955 non-null    float64 \n",
      " 17  profit_loss_year      955 non-null    float64 \n",
      " 18  sales                 955 non-null    float64 \n",
      " 19  share_eq              955 non-null    float64 \n",
      " 20  subscribed_cap        955 non-null    float64 \n",
      " 21  tang_assets           955 non-null    float64 \n",
      " 22  balsheet_flag         955 non-null    float64 \n",
      " 23  balsheet_length       955 non-null    float64 \n",
      " 24  balsheet_notfullyear  955 non-null    float64 \n",
      " 25  founded_year          955 non-null    float64 \n",
      " 26  ceo_count             955 non-null    float64 \n",
      " 27  foreign               955 non-null    float64 \n",
      " 28  female                955 non-null    float64 \n",
      " 29  inoffice_days         955 non-null    float64 \n",
      " 30  gender                955 non-null    category\n",
      " 31  origin                955 non-null    category\n",
      " 32  nace_main             955 non-null    category\n",
      " 33  ind2                  955 non-null    category\n",
      " 34  ind                   955 non-null    category\n",
      " 35  urban_m               955 non-null    category\n",
      " 36  region_m              955 non-null    category\n",
      " 37  founded_date          955 non-null    object  \n",
      " 38  age                   955 non-null    float64 \n",
      " 39  status_alive          955 non-null    int32   \n",
      " 40  default               955 non-null    int32   \n",
      " 41  flag_asset_problem    955 non-null    float64 \n",
      " 42  total_assets_bs       955 non-null    float64 \n",
      " 43  extra_exp_pl          955 non-null    float64 \n",
      " 44  extra_inc_pl          955 non-null    float64 \n",
      " 45  extra_profit_loss_pl  955 non-null    float64 \n",
      " 46  inc_bef_tax_pl        955 non-null    float64 \n",
      " 47  inventories_pl        955 non-null    float64 \n",
      " 48  material_exp_pl       955 non-null    float64 \n",
      " 49  profit_loss_year_pl   955 non-null    float64 \n",
      " 50  personnel_exp_pl      955 non-null    float64 \n",
      " 51  intang_assets_bs      955 non-null    float64 \n",
      " 52  curr_liab_bs          955 non-null    float64 \n",
      " 53  fixed_assets_bs       955 non-null    float64 \n",
      " 54  liq_assets_bs         955 non-null    float64 \n",
      " 55  curr_assets_bs        955 non-null    float64 \n",
      " 56  share_eq_bs           955 non-null    float64 \n",
      " 57  subscribed_cap_bs     955 non-null    float64 \n",
      " 58  tang_assets_bs        955 non-null    float64 \n",
      " 59  labor_avg_mod         955 non-null    float64 \n",
      " 60  flag_miss_labor_avg   955 non-null    int32   \n",
      " 61  birth_year_mod        955 non-null    float64 \n",
      " 62  flag_miss_birth_year  955 non-null    int32   \n",
      "dtypes: category(7), float64(48), int32(4), int64(1), object(3)\n",
      "memory usage: 431.5+ KB\n"
     ]
    }
   ],
   "source": [
    "data1.info()"
   ]
  },
  {
   "cell_type": "markdown",
   "id": "24047fcd-9589-4971-9dec-72f083b24d2e",
   "metadata": {},
   "source": [
    "# Modeling\n",
    "## Defining variable sets\n",
    "\n",
    "There are number of feature sets that we can define: raw company-related features, P&L (as % of sales) and BS related (as % of total assets) and HR-related. Plus the categorical features."
   ]
  },
  {
   "cell_type": "code",
   "execution_count": 94,
   "id": "3081eeff-cb5b-4421-b578-f92736b4ce56",
   "metadata": {
    "tags": []
   },
   "outputs": [],
   "source": [
    "raw_vars = [\"curr_assets\", \"curr_liab\", \"extra_exp\", \"extra_inc\", \"extra_profit_loss\", \"fixed_assets\",\n",
    "              \"inc_bef_tax\", \"intang_assets\", \"inventories\", \"liq_assets\", \"material_exp\", \"personnel_exp\", \n",
    "            \"profit_loss_year\", \"sales\", \"share_eq\", \"subscribed_cap\", \"age\", \"balsheet_flag\", \"balsheet_length\", \"balsheet_notfullyear\", \"flag_asset_problem\"]\n",
    "\n",
    "fin_vars = [\"total_assets_bs\", \"fixed_assets_bs\", \"liq_assets_bs\", \"curr_assets_bs\",\n",
    "            \"share_eq_bs\", \"subscribed_cap_bs\", \"intang_assets_bs\", \"extra_exp_pl\",\n",
    "            \"extra_inc_pl\", \"extra_profit_loss_pl\", \"inc_bef_tax_pl\", \"inventories_pl\",\n",
    "            \"material_exp_pl\", \"profit_loss_year_pl\", \"personnel_exp_pl\"]\n",
    "\n",
    "hr_vars = [\"female\", \"ceo_count\", \"foreign\", \"inoffice_days\", \"labor_avg_mod\",\n",
    "        \"flag_miss_labor_avg\", \"birth_year_mod\", \"flag_miss_birth_year\"]\n",
    "\n",
    "cat_vars = [\"gender\", \"origin\", \"ind2\", \"ind\", \"urban_m\", \"region_m\"]"
   ]
  },
  {
   "cell_type": "code",
   "execution_count": 60,
   "id": "3b64ae11-b3ce-442c-a794-0310f8e81ffe",
   "metadata": {
    "tags": []
   },
   "outputs": [
    {
     "data": {
      "text/plain": [
       "ind2\n",
       "26.0    955\n",
       "1.0       0\n",
       "69.0      0\n",
       "74.0      0\n",
       "73.0      0\n",
       "       ... \n",
       "45.0      0\n",
       "46.0      0\n",
       "47.0      0\n",
       "49.0      0\n",
       "96.0      0\n",
       "Name: count, Length: 68, dtype: int64"
      ]
     },
     "execution_count": 60,
     "metadata": {},
     "output_type": "execute_result"
    }
   ],
   "source": [
    "# despite data1 and data3 not containing different ind2 values, this matrix will be created as this is a relevan variable for data2.\n",
    "\n",
    "data1.ind2.value_counts()"
   ]
  },
  {
   "cell_type": "code",
   "execution_count": 73,
   "id": "810d5297-c74d-4032-8cdb-55d8aff73b19",
   "metadata": {
    "tags": []
   },
   "outputs": [],
   "source": [
    "ind2_catmat = patsy.dmatrix(\"0 + C(ind2)\",data1, return_type=\"dataframe\")\n",
    "ind2_catmat = ind2_catmat.drop(['C(ind2)[1.0]'], axis=1)"
   ]
  },
  {
   "cell_type": "code",
   "execution_count": 78,
   "id": "cf9f6d55-4618-4f86-a147-c5bff5cad427",
   "metadata": {
    "tags": []
   },
   "outputs": [],
   "source": [
    "ind_catmat = patsy.dmatrix(\"0 + C(ind)\",data1, return_type=\"dataframe\")\n",
    "ind_catmat = ind_catmat.drop(['C(ind)[1.0]'], axis=1)"
   ]
  },
  {
   "cell_type": "code",
   "execution_count": 71,
   "id": "8207a563-fbb3-4f35-afaa-b08d65d10918",
   "metadata": {
    "tags": []
   },
   "outputs": [],
   "source": [
    "m_region_locmat = patsy.dmatrix(\"0 + C(region_m)\",data1, return_type=\"dataframe\")\n",
    "m_region_locmat = m_region_locmat.drop(['C(region_m)[Central]'], axis=1)"
   ]
  },
  {
   "cell_type": "code",
   "execution_count": 70,
   "id": "9fb299f8-60a5-47a1-bd02-0228557ff5e3",
   "metadata": {
    "tags": []
   },
   "outputs": [],
   "source": [
    "urban_mmat = patsy.dmatrix(\"0 + C(urban_m)\",data1, return_type=\"dataframe\")\n",
    "urban_mmat = urban_mmat.drop(['C(urban_m)[1.0]'], axis=1)"
   ]
  },
  {
   "cell_type": "code",
   "execution_count": 79,
   "id": "11215a91-2a55-4ff9-9421-8140cc5cf7ed",
   "metadata": {
    "tags": []
   },
   "outputs": [
    {
     "data": {
      "text/plain": [
       "371478    female\n",
       "371577       mix\n",
       "371582      male\n",
       "371697    female\n",
       "371709       mix\n",
       "           ...  \n",
       "417463      male\n",
       "417553      male\n",
       "417606      male\n",
       "417620      male\n",
       "417643      male\n",
       "Name: gender, Length: 955, dtype: category\n",
       "Categories (3, object): ['female', 'male', 'mix']"
      ]
     },
     "execution_count": 79,
     "metadata": {},
     "output_type": "execute_result"
    }
   ],
   "source": [
    "data1.gender"
   ]
  },
  {
   "cell_type": "code",
   "execution_count": 80,
   "id": "44579cac-3667-4aaf-bac6-64951aeac0ad",
   "metadata": {
    "tags": []
   },
   "outputs": [],
   "source": [
    "gender_catmat = patsy.dmatrix(\"0 + C(gender)\",data1, return_type=\"dataframe\")\n",
    "gender_catmat = gender_catmat.drop(['C(gender)[male]'], axis=1)"
   ]
  },
  {
   "cell_type": "code",
   "execution_count": 81,
   "id": "841c105a-43b7-461e-8afb-13ada35adff1",
   "metadata": {
    "tags": []
   },
   "outputs": [
    {
     "data": {
      "text/plain": [
       "371478    Domestic\n",
       "371577    Domestic\n",
       "371582    Domestic\n",
       "371697    Domestic\n",
       "371709    Domestic\n",
       "            ...   \n",
       "417463    Domestic\n",
       "417553    Domestic\n",
       "417606    Domestic\n",
       "417620         mix\n",
       "417643    Domestic\n",
       "Name: origin, Length: 955, dtype: category\n",
       "Categories (3, object): ['Domestic', 'Foreign', 'mix']"
      ]
     },
     "execution_count": 81,
     "metadata": {},
     "output_type": "execute_result"
    }
   ],
   "source": [
    "data1.origin"
   ]
  },
  {
   "cell_type": "code",
   "execution_count": 82,
   "id": "4d2633f4-117e-481c-b683-8c1ccb0adba8",
   "metadata": {
    "tags": []
   },
   "outputs": [],
   "source": [
    "origin_catmat = patsy.dmatrix(\"0 + C(origin)\",data1, return_type=\"dataframe\")\n",
    "origin_catmat = origin_catmat.drop(['C(origin)[Domestic]'], axis=1)"
   ]
  },
  {
   "cell_type": "markdown",
   "id": "0254880e-5bff-405e-ba96-b7e282db99c3",
   "metadata": {},
   "source": [
    "#### Modeling on data1"
   ]
  },
  {
   "cell_type": "markdown",
   "id": "25072448-bdb7-403a-87e7-d2b0881363eb",
   "metadata": {},
   "source": [
    "3 logistics regression models are to be created: one with only the raw and financial variables, another with categorical variables added, and a third with all HR variables added. 5-fold cross validation is to be applied. On top, a random forest model is to be created as well."
   ]
  },
  {
   "cell_type": "code",
   "execution_count": 88,
   "id": "1bfa6dee-251c-43bd-9ffb-3ea6207956f6",
   "metadata": {
    "tags": []
   },
   "outputs": [],
   "source": [
    "raw = data1[raw_vars]\n",
    "fin = data1[fin_vars]\n",
    "X1 = pd.concat([raw, fin], axis=1)"
   ]
  },
  {
   "cell_type": "code",
   "execution_count": 89,
   "id": "25528a1d-6eff-496a-b278-801148cf5d9a",
   "metadata": {
    "tags": []
   },
   "outputs": [],
   "source": [
    "X2 = pd.concat([X1, ind2_catmat, ind_catmat, m_region_locmat, urban_mmat, gender_catmat, origin_catmat], axis=1)"
   ]
  },
  {
   "cell_type": "code",
   "execution_count": 116,
   "id": "8387dd57-4478-4fbf-bbf5-71fc1f689269",
   "metadata": {
    "tags": []
   },
   "outputs": [],
   "source": [
    "hr = data1[hr_vars]\n",
    "X3 = pd.concat([X1, X2, hr], axis = 1)"
   ]
  },
  {
   "cell_type": "code",
   "execution_count": 117,
   "id": "9ca556aa-46df-47e9-8916-9aec854698c7",
   "metadata": {
    "tags": []
   },
   "outputs": [],
   "source": [
    "rfvars  = pd.concat([X1, X2, hr], axis=1)"
   ]
  },
  {
   "cell_type": "code",
   "execution_count": 118,
   "id": "902a523d-1628-4655-b3a2-e1ef6c5ccc75",
   "metadata": {
    "tags": []
   },
   "outputs": [],
   "source": [
    "y = data1['default']"
   ]
  },
  {
   "cell_type": "markdown",
   "id": "59bcf894-b617-4b08-8ee8-54c31dccb774",
   "metadata": {},
   "source": [
    "Note: no training-holdout split needed, as the holdout data is already defined. The whole data1 is to be used for training."
   ]
  },
  {
   "cell_type": "code",
   "execution_count": 119,
   "id": "6137f0b0-80ce-4cd0-9519-b5d94ee54ba7",
   "metadata": {
    "tags": []
   },
   "outputs": [],
   "source": [
    "# specifying cross-validation \n",
    "k = KFold(n_splits = 5, shuffle = True, random_state = 20240224)"
   ]
  },
  {
   "cell_type": "code",
   "execution_count": 120,
   "id": "6b132fbd-826e-4305-a8e9-fe8fdb98d05d",
   "metadata": {
    "tags": []
   },
   "outputs": [],
   "source": [
    "# no regularisation needed so setting the paremeter to very high value\n",
    "Cs_value_logit = [1e20]"
   ]
  },
  {
   "cell_type": "code",
   "execution_count": 121,
   "id": "0b648edd-c839-4be5-b4fa-464bd3045065",
   "metadata": {
    "tags": []
   },
   "outputs": [],
   "source": [
    "logit_model_vars = [X1, X2, X3]\n",
    "\n",
    "logit_models = dict()\n",
    "CV_RMSE_folds = dict()"
   ]
  },
  {
   "cell_type": "code",
   "execution_count": 122,
   "id": "ba6ab1d9-4dab-4ac6-b7bc-7c6456008f01",
   "metadata": {
    "tags": []
   },
   "outputs": [
    {
     "name": "stdout",
     "output_type": "stream",
     "text": [
      "CPU times: total: 1.88 s\n",
      "Wall time: 2.05 s\n"
     ]
    }
   ],
   "source": [
    "%%time\n",
    "for i in range(len(logit_model_vars)):\n",
    "    LRCV_brier = LogisticRegressionCV(\n",
    "        Cs=Cs_value_logit, \n",
    "        cv=k,\n",
    "        refit=True, \n",
    "        scoring='neg_brier_score', \n",
    "        solver=\"newton-cg\", \n",
    "        tol=1e-7, \n",
    "        random_state=20240224)\n",
    "    logit_models['X'+str(i+1)] = LRCV_brier.fit(logit_model_vars[i], y)\n",
    "    \n",
    "    # Calculate RMSE on test for each fold\n",
    "    CV_RMSE_folds['X'+str(i+1)] = np.sqrt(-1*(logit_models['X'+str(i+1)].scores_[1])).flatten()"
   ]
  },
  {
   "cell_type": "code",
   "execution_count": 124,
   "id": "4911b84d-de5c-4213-9f0e-d86376dfc072",
   "metadata": {
    "tags": []
   },
   "outputs": [
    {
     "data": {
      "text/html": [
       "<div>\n",
       "<style scoped>\n",
       "    .dataframe tbody tr th:only-of-type {\n",
       "        vertical-align: middle;\n",
       "    }\n",
       "\n",
       "    .dataframe tbody tr th {\n",
       "        vertical-align: top;\n",
       "    }\n",
       "\n",
       "    .dataframe thead th {\n",
       "        text-align: right;\n",
       "    }\n",
       "</style>\n",
       "<table border=\"1\" class=\"dataframe\">\n",
       "  <thead>\n",
       "    <tr style=\"text-align: right;\">\n",
       "      <th></th>\n",
       "      <th>X1</th>\n",
       "      <th>X2</th>\n",
       "      <th>X3</th>\n",
       "    </tr>\n",
       "  </thead>\n",
       "  <tbody>\n",
       "    <tr>\n",
       "      <th>0</th>\n",
       "      <td>0.218916</td>\n",
       "      <td>0.217157</td>\n",
       "      <td>0.226883</td>\n",
       "    </tr>\n",
       "    <tr>\n",
       "      <th>1</th>\n",
       "      <td>0.251325</td>\n",
       "      <td>0.251325</td>\n",
       "      <td>0.203268</td>\n",
       "    </tr>\n",
       "    <tr>\n",
       "      <th>2</th>\n",
       "      <td>0.228273</td>\n",
       "      <td>0.229075</td>\n",
       "      <td>0.236496</td>\n",
       "    </tr>\n",
       "    <tr>\n",
       "      <th>3</th>\n",
       "      <td>0.244914</td>\n",
       "      <td>0.244559</td>\n",
       "      <td>0.254733</td>\n",
       "    </tr>\n",
       "    <tr>\n",
       "      <th>4</th>\n",
       "      <td>0.276164</td>\n",
       "      <td>0.276164</td>\n",
       "      <td>0.256437</td>\n",
       "    </tr>\n",
       "  </tbody>\n",
       "</table>\n",
       "</div>"
      ],
      "text/plain": [
       "         X1        X2        X3\n",
       "0  0.218916  0.217157  0.226883\n",
       "1  0.251325  0.251325  0.203268\n",
       "2  0.228273  0.229075  0.236496\n",
       "3  0.244914  0.244559  0.254733\n",
       "4  0.276164  0.276164  0.256437"
      ]
     },
     "execution_count": 124,
     "metadata": {},
     "output_type": "execute_result"
    }
   ],
   "source": [
    "pd.DataFrame(CV_RMSE_folds)"
   ]
  },
  {
   "cell_type": "code",
   "execution_count": 125,
   "id": "21635f4d-673f-4a9f-8f25-dccd74889080",
   "metadata": {
    "tags": []
   },
   "outputs": [],
   "source": [
    "# checking AUC scores as well\n",
    "CV_AUC_folds = dict()\n",
    "\n",
    "for i in range(len(logit_model_vars)):\n",
    "    LRCV_auc = LogisticRegressionCV(\n",
    "        Cs=Cs_value_logit, \n",
    "        cv=k, \n",
    "        refit=True, \n",
    "        scoring='roc_auc', \n",
    "        solver=\"newton-cg\", \n",
    "        tol=1e-7, \n",
    "        random_state = 20240205)\n",
    "    LRCV_auc_fit = LRCV_auc.fit(logit_model_vars[i], y)\n",
    "    # Calculate AUC on test for each fold\n",
    "    CV_AUC_folds['X'+str(i+1)] = LRCV_auc_fit.scores_[1][:,0].tolist()"
   ]
  },
  {
   "cell_type": "code",
   "execution_count": 126,
   "id": "85c0a3b7-08e5-4ec6-82d4-650bd3106999",
   "metadata": {
    "tags": []
   },
   "outputs": [
    {
     "data": {
      "text/html": [
       "<div>\n",
       "<style scoped>\n",
       "    .dataframe tbody tr th:only-of-type {\n",
       "        vertical-align: middle;\n",
       "    }\n",
       "\n",
       "    .dataframe tbody tr th {\n",
       "        vertical-align: top;\n",
       "    }\n",
       "\n",
       "    .dataframe thead th {\n",
       "        text-align: right;\n",
       "    }\n",
       "</style>\n",
       "<table border=\"1\" class=\"dataframe\">\n",
       "  <thead>\n",
       "    <tr style=\"text-align: right;\">\n",
       "      <th></th>\n",
       "      <th>X1</th>\n",
       "      <th>X2</th>\n",
       "      <th>X3</th>\n",
       "    </tr>\n",
       "  </thead>\n",
       "  <tbody>\n",
       "    <tr>\n",
       "      <th>0</th>\n",
       "      <td>0.722727</td>\n",
       "      <td>0.744444</td>\n",
       "      <td>0.717677</td>\n",
       "    </tr>\n",
       "    <tr>\n",
       "      <th>1</th>\n",
       "      <td>0.482883</td>\n",
       "      <td>0.482883</td>\n",
       "      <td>0.572072</td>\n",
       "    </tr>\n",
       "    <tr>\n",
       "      <th>2</th>\n",
       "      <td>0.584860</td>\n",
       "      <td>0.600122</td>\n",
       "      <td>0.723443</td>\n",
       "    </tr>\n",
       "    <tr>\n",
       "      <th>3</th>\n",
       "      <td>0.642929</td>\n",
       "      <td>0.636869</td>\n",
       "      <td>0.758081</td>\n",
       "    </tr>\n",
       "    <tr>\n",
       "      <th>4</th>\n",
       "      <td>0.661783</td>\n",
       "      <td>0.661783</td>\n",
       "      <td>0.623932</td>\n",
       "    </tr>\n",
       "  </tbody>\n",
       "</table>\n",
       "</div>"
      ],
      "text/plain": [
       "         X1        X2        X3\n",
       "0  0.722727  0.744444  0.717677\n",
       "1  0.482883  0.482883  0.572072\n",
       "2  0.584860  0.600122  0.723443\n",
       "3  0.642929  0.636869  0.758081\n",
       "4  0.661783  0.661783  0.623932"
      ]
     },
     "execution_count": 126,
     "metadata": {},
     "output_type": "execute_result"
    }
   ],
   "source": [
    "pd.DataFrame(CV_AUC_folds)"
   ]
  },
  {
   "cell_type": "code",
   "execution_count": 127,
   "id": "38ad765e-dae8-4dbe-9d4a-d4edf17aa492",
   "metadata": {
    "tags": []
   },
   "outputs": [],
   "source": [
    "CV_RMSE = dict()\n",
    "CV_AUC = dict()\n",
    "\n",
    "for key in logit_models:\n",
    "    CV_RMSE[key] = np.mean(CV_RMSE_folds[key])\n",
    "    CV_AUC[key] = np.mean(CV_AUC_folds[key])  \n",
    "\n",
    "logit_summary1 = np.transpose(pd.DataFrame.from_dict([CV_RMSE,CV_AUC], orient='columns'))\n",
    "logit_summary1.columns = ['CV RMSE', 'CV AUC']"
   ]
  },
  {
   "cell_type": "code",
   "execution_count": 128,
   "id": "d6b811d2-738e-4dc1-a1a1-5fec17df82d6",
   "metadata": {
    "tags": []
   },
   "outputs": [
    {
     "data": {
      "text/html": [
       "<div>\n",
       "<style scoped>\n",
       "    .dataframe tbody tr th:only-of-type {\n",
       "        vertical-align: middle;\n",
       "    }\n",
       "\n",
       "    .dataframe tbody tr th {\n",
       "        vertical-align: top;\n",
       "    }\n",
       "\n",
       "    .dataframe thead th {\n",
       "        text-align: right;\n",
       "    }\n",
       "</style>\n",
       "<table border=\"1\" class=\"dataframe\">\n",
       "  <thead>\n",
       "    <tr style=\"text-align: right;\">\n",
       "      <th></th>\n",
       "      <th>CV RMSE</th>\n",
       "      <th>CV AUC</th>\n",
       "    </tr>\n",
       "  </thead>\n",
       "  <tbody>\n",
       "    <tr>\n",
       "      <th>X1</th>\n",
       "      <td>0.243918</td>\n",
       "      <td>0.619036</td>\n",
       "    </tr>\n",
       "    <tr>\n",
       "      <th>X2</th>\n",
       "      <td>0.243656</td>\n",
       "      <td>0.625220</td>\n",
       "    </tr>\n",
       "    <tr>\n",
       "      <th>X3</th>\n",
       "      <td>0.235563</td>\n",
       "      <td>0.679041</td>\n",
       "    </tr>\n",
       "  </tbody>\n",
       "</table>\n",
       "</div>"
      ],
      "text/plain": [
       "     CV RMSE    CV AUC\n",
       "X1  0.243918  0.619036\n",
       "X2  0.243656  0.625220\n",
       "X3  0.235563  0.679041"
      ]
     },
     "execution_count": 128,
     "metadata": {},
     "output_type": "execute_result"
    }
   ],
   "source": [
    "logit_summary1"
   ]
  },
  {
   "cell_type": "markdown",
   "id": "a85daaec-156e-4a7a-8ec7-4cdf9c5de448",
   "metadata": {},
   "source": [
    "In data1, both with RMSE and AUC the best performing model is X3 - which is the most complex one. "
   ]
  },
  {
   "cell_type": "markdown",
   "id": "0e6e140d-0839-4358-9b40-c60d47337324",
   "metadata": {},
   "source": [
    "#### Random forest"
   ]
  },
  {
   "cell_type": "code",
   "execution_count": 129,
   "id": "05f08ecb-7637-46bf-ac85-2d808e0e7a83",
   "metadata": {
    "tags": []
   },
   "outputs": [],
   "source": [
    "grid = {'max_features': [5, 6, 7],\n",
    "        'criterion':['gini'],\n",
    "        'min_samples_split': [11, 16]}"
   ]
  },
  {
   "cell_type": "code",
   "execution_count": 132,
   "id": "d93a4662-0d45-4fce-8bcc-bc728072a0a5",
   "metadata": {
    "tags": []
   },
   "outputs": [],
   "source": [
    "prob_forest = RandomForestClassifier(\n",
    "    random_state=20240224, \n",
    "    n_estimators=500, \n",
    "    oob_score=True)\n",
    "\n",
    "prob_forest_grid = GridSearchCV(\n",
    "    prob_forest, \n",
    "    grid, \n",
    "    cv=k, \n",
    "    refit='accuracy',\n",
    "    scoring = ['accuracy', 'roc_auc', 'neg_brier_score'], \n",
    "    n_jobs=-1)"
   ]
  },
  {
   "cell_type": "code",
   "execution_count": 133,
   "id": "03350cef-0631-4bfc-b0cd-8ba4a993b837",
   "metadata": {
    "tags": []
   },
   "outputs": [
    {
     "name": "stdout",
     "output_type": "stream",
     "text": [
      "CPU times: total: 1.7 s\n",
      "Wall time: 8.52 s\n"
     ]
    }
   ],
   "source": [
    "%%time\n",
    "prob_forest_fit = prob_forest_grid.fit(rfvars, y)"
   ]
  },
  {
   "cell_type": "code",
   "execution_count": 144,
   "id": "010143b6-e49e-443b-9a49-c0065da70fcc",
   "metadata": {
    "tags": []
   },
   "outputs": [
    {
     "data": {
      "text/plain": [
       "array([0.95183246, 0.95183246, 0.95183246, 0.95183246, 0.95183246,\n",
       "       0.95183246])"
      ]
     },
     "execution_count": 144,
     "metadata": {},
     "output_type": "execute_result"
    }
   ],
   "source": [
    "# checking out accuracy, RMSE and AUC\n",
    "\n",
    "cv_accuracy = np.zeros([6])\n",
    "for i in range(5):\n",
    "    cv_accuracy = cv_accuracy + prob_forest_fit.cv_results_['split' + str(i) + '_test_accuracy']\n",
    "cv_accuracy = cv_accuracy/5\n",
    "cv_accuracy"
   ]
  },
  {
   "cell_type": "code",
   "execution_count": 135,
   "id": "7054de48-6075-4f76-9cc7-3640cbc108b3",
   "metadata": {
    "tags": []
   },
   "outputs": [
    {
     "data": {
      "text/plain": [
       "array([0.72894808, 0.72596425, 0.71653413, 0.72592441, 0.70928774,\n",
       "       0.71843793])"
      ]
     },
     "execution_count": 135,
     "metadata": {},
     "output_type": "execute_result"
    }
   ],
   "source": [
    "cv_auc = np.zeros([6])\n",
    "for i in range(5):\n",
    "    cv_auc = cv_auc + prob_forest_fit.cv_results_['split' + str(i) + '_test_roc_auc']\n",
    "cv_auc = cv_auc/5\n",
    "cv_auc"
   ]
  },
  {
   "cell_type": "code",
   "execution_count": 136,
   "id": "ee8208a3-a92e-4497-911f-d0e10c091ed9",
   "metadata": {
    "tags": []
   },
   "outputs": [
    {
     "data": {
      "text/plain": [
       "array([0.20908651, 0.20893397, 0.20943068, 0.20902761, 0.20988963,\n",
       "       0.2096005 ])"
      ]
     },
     "execution_count": 136,
     "metadata": {},
     "output_type": "execute_result"
    }
   ],
   "source": [
    "cv_rmse = np.zeros([6])\n",
    "for i in range(5):\n",
    "    cv_rmse = cv_rmse +np.sqrt(-1*(prob_forest_fit.cv_results_['split' + str(i) + '_test_neg_brier_score'])).tolist()\n",
    "cv_rmse = cv_rmse/5\n",
    "cv_rmse"
   ]
  },
  {
   "cell_type": "code",
   "execution_count": 137,
   "id": "3f081040-2165-4da6-8ce6-8110f67a5c3b",
   "metadata": {
    "tags": []
   },
   "outputs": [],
   "source": [
    "prob_forest_cv_results = pd.DataFrame({\n",
    "    'max_features': prob_forest_fit.cv_results_['param_max_features'],\n",
    "    'min_samples_split': prob_forest_fit.cv_results_['param_min_samples_split'],\n",
    "    'cv_accuracy': cv_accuracy,\n",
    "    'cv_auc': cv_auc,\n",
    "    'cv_rmse': cv_rmse\n",
    "})"
   ]
  },
  {
   "cell_type": "code",
   "execution_count": 138,
   "id": "7c37ff82-ee7d-4457-94bd-d8e770f314fb",
   "metadata": {
    "tags": []
   },
   "outputs": [
    {
     "data": {
      "text/html": [
       "<div>\n",
       "<style scoped>\n",
       "    .dataframe tbody tr th:only-of-type {\n",
       "        vertical-align: middle;\n",
       "    }\n",
       "\n",
       "    .dataframe tbody tr th {\n",
       "        vertical-align: top;\n",
       "    }\n",
       "\n",
       "    .dataframe thead th {\n",
       "        text-align: right;\n",
       "    }\n",
       "</style>\n",
       "<table border=\"1\" class=\"dataframe\">\n",
       "  <thead>\n",
       "    <tr style=\"text-align: right;\">\n",
       "      <th></th>\n",
       "      <th>max_features</th>\n",
       "      <th>min_samples_split</th>\n",
       "      <th>cv_accuracy</th>\n",
       "      <th>cv_auc</th>\n",
       "      <th>cv_rmse</th>\n",
       "    </tr>\n",
       "  </thead>\n",
       "  <tbody>\n",
       "    <tr>\n",
       "      <th>0</th>\n",
       "      <td>5</td>\n",
       "      <td>11</td>\n",
       "      <td>0.951832</td>\n",
       "      <td>0.728948</td>\n",
       "      <td>0.209087</td>\n",
       "    </tr>\n",
       "    <tr>\n",
       "      <th>1</th>\n",
       "      <td>5</td>\n",
       "      <td>16</td>\n",
       "      <td>0.951832</td>\n",
       "      <td>0.725964</td>\n",
       "      <td>0.208934</td>\n",
       "    </tr>\n",
       "    <tr>\n",
       "      <th>2</th>\n",
       "      <td>6</td>\n",
       "      <td>11</td>\n",
       "      <td>0.951832</td>\n",
       "      <td>0.716534</td>\n",
       "      <td>0.209431</td>\n",
       "    </tr>\n",
       "    <tr>\n",
       "      <th>3</th>\n",
       "      <td>6</td>\n",
       "      <td>16</td>\n",
       "      <td>0.951832</td>\n",
       "      <td>0.725924</td>\n",
       "      <td>0.209028</td>\n",
       "    </tr>\n",
       "    <tr>\n",
       "      <th>4</th>\n",
       "      <td>7</td>\n",
       "      <td>11</td>\n",
       "      <td>0.951832</td>\n",
       "      <td>0.709288</td>\n",
       "      <td>0.209890</td>\n",
       "    </tr>\n",
       "    <tr>\n",
       "      <th>5</th>\n",
       "      <td>7</td>\n",
       "      <td>16</td>\n",
       "      <td>0.951832</td>\n",
       "      <td>0.718438</td>\n",
       "      <td>0.209601</td>\n",
       "    </tr>\n",
       "  </tbody>\n",
       "</table>\n",
       "</div>"
      ],
      "text/plain": [
       "  max_features min_samples_split  cv_accuracy    cv_auc   cv_rmse\n",
       "0            5                11     0.951832  0.728948  0.209087\n",
       "1            5                16     0.951832  0.725964  0.208934\n",
       "2            6                11     0.951832  0.716534  0.209431\n",
       "3            6                16     0.951832  0.725924  0.209028\n",
       "4            7                11     0.951832  0.709288  0.209890\n",
       "5            7                16     0.951832  0.718438  0.209601"
      ]
     },
     "execution_count": 138,
     "metadata": {},
     "output_type": "execute_result"
    }
   ],
   "source": [
    "prob_forest_cv_results"
   ]
  },
  {
   "cell_type": "code",
   "execution_count": 143,
   "id": "b642cd5b-aaa1-4226-88a9-781d259804ab",
   "metadata": {
    "tags": []
   },
   "outputs": [],
   "source": [
    "best_max_features = prob_forest_fit.best_params_['max_features']\n",
    "best_min_sample_split = prob_forest_fit.best_params_['min_samples_split']"
   ]
  },
  {
   "cell_type": "code",
   "execution_count": 142,
   "id": "88df4bc2-6cc2-409a-b2f2-368c491214bc",
   "metadata": {
    "tags": []
   },
   "outputs": [
    {
     "name": "stdout",
     "output_type": "stream",
     "text": [
      "The best random forest model has the following features: {'criterion': 'gini', 'max_features': 5, 'min_samples_split': 11}\n"
     ]
    }
   ],
   "source": [
    "print(f'The best random forest model has the following features: {prob_forest_fit.best_params_}')"
   ]
  },
  {
   "cell_type": "markdown",
   "id": "9cb929a3-b070-41a5-b2eb-345908d9d53f",
   "metadata": {},
   "source": [
    "The random forest model produced much better results than the best performing X3 logistics regression."
   ]
  },
  {
   "cell_type": "code",
   "execution_count": null,
   "id": "abe0cebf-fb05-4223-9f0f-ac9fba58cbf8",
   "metadata": {},
   "outputs": [],
   "source": []
  }
 ],
 "metadata": {
  "kernelspec": {
   "display_name": "Python 3 (ipykernel)",
   "language": "python",
   "name": "python3"
  },
  "language_info": {
   "codemirror_mode": {
    "name": "ipython",
    "version": 3
   },
   "file_extension": ".py",
   "mimetype": "text/x-python",
   "name": "python",
   "nbconvert_exporter": "python",
   "pygments_lexer": "ipython3",
   "version": "3.11.4"
  }
 },
 "nbformat": 4,
 "nbformat_minor": 5
}
